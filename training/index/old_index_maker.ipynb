{
 "cells": [
  {
   "cell_type": "code",
   "execution_count": 1,
   "metadata": {
    "collapsed": true
   },
   "outputs": [],
   "source": [
    "import os\n",
    "import numpy as np\n",
    "import pandas as pd\n",
    "import matplotlib.pyplot as plt\n",
    "from sklearn.model_selection import train_test_split"
   ]
  },
  {
   "cell_type": "markdown",
   "source": [
    "Done on August 11. Deciding on Training data.\n",
    "Plates and Wells of Test and Train must not overlap!"
   ],
   "metadata": {
    "collapsed": false,
    "pycharm": {
     "name": "#%% md\n"
    }
   }
  },
  {
   "cell_type": "code",
   "execution_count": 2,
   "outputs": [],
   "source": [
    "index = pd.read_csv('sub_index.csv')"
   ],
   "metadata": {
    "collapsed": false,
    "pycharm": {
     "name": "#%%\n"
    }
   }
  },
  {
   "cell_type": "code",
   "execution_count": 3,
   "outputs": [],
   "source": [
    "# select top 50 moas\n",
    "vc = df.Metadata_moa.value_counts()\n",
    "large_moas = vc[:50].keys().tolist()\n",
    "df = df[df[\"Metadata_moa\"].isin(large_moas)]"
   ],
   "metadata": {
    "collapsed": false,
    "pycharm": {
     "name": "#%%\n"
    }
   }
  },
  {
   "cell_type": "code",
   "execution_count": 4,
   "outputs": [],
   "source": [
    "# delete all Compounds that do not have 5 replicates\n",
    "full_reps = df[df.Treatment_Replicate == 5].Compound.unique()\n",
    "df = df[df[\"Compound\"].isin(full_reps)]"
   ],
   "metadata": {
    "collapsed": false,
    "pycharm": {
     "name": "#%%\n"
    }
   }
  },
  {
   "cell_type": "code",
   "execution_count": 5,
   "outputs": [],
   "source": [
    "\n",
    "df['Split'] = 'Training'\n",
    "# df.loc[(df.Treatment_Replicate == 1) & (df.Metadata_Site == 1),'Split']='Test'"
   ],
   "metadata": {
    "collapsed": false,
    "pycharm": {
     "name": "#%%\n"
    }
   }
  },
  {
   "cell_type": "code",
   "execution_count": 6,
   "outputs": [],
   "source": [
    "df.loc[(df.Treatment_Replicate == 1) | (df.Treatment_Replicate == 2),'Split']='Test'"
   ],
   "metadata": {
    "collapsed": false,
    "pycharm": {
     "name": "#%%\n"
    }
   }
  },
  {
   "cell_type": "code",
   "execution_count": 7,
   "outputs": [],
   "source": [
    "test_plates = df[df['Split'] == 'Test'].Metadata_Plate.unique()"
   ],
   "metadata": {
    "collapsed": false,
    "pycharm": {
     "name": "#%%\n"
    }
   }
  },
  {
   "cell_type": "code",
   "execution_count": 8,
   "outputs": [],
   "source": [
    "df.loc[(df.Compound == 'DMSO') & (df.Metadata_Plate.isin(test_plates)),'Split']='Test'"
   ],
   "metadata": {
    "collapsed": false,
    "pycharm": {
     "name": "#%%\n"
    }
   }
  },
  {
   "cell_type": "code",
   "execution_count": 9,
   "outputs": [
    {
     "data": {
      "text/plain": "DMSO                      18144\nBRD-K86301799-001-34-8       27\nBRD-A29485665-001-12-8       27\nBRD-K22749967-046-02-3       27\nBRD-A97674275-001-11-8       27\n                          ...  \nBRD-K33127281-001-05-6       27\nBRD-K89348303-001-14-7       27\nBRD-K70610771-001-02-9       27\nBRD-K80608265-001-01-6       27\nBRD-K11433652-001-17-0       26\nName: Compound, Length: 512, dtype: int64"
     },
     "execution_count": 9,
     "metadata": {},
     "output_type": "execute_result"
    }
   ],
   "source": [
    "df[df['Split'] == 'Training'].Compound.value_counts()"
   ],
   "metadata": {
    "collapsed": false,
    "pycharm": {
     "name": "#%%\n"
    }
   }
  },
  {
   "cell_type": "code",
   "execution_count": 10,
   "outputs": [
    {
     "name": "stdout",
     "output_type": "stream",
     "text": [
      "52\n",
      "84\n"
     ]
    },
    {
     "data": {
      "text/plain": "DMSO                      11124\nBRD-K86301799-001-34-8       18\nBRD-K06388322-312-02-6       18\nBRD-K90825648-001-02-0       18\nBRD-A65013509-003-24-4       18\n                          ...  \nBRD-K92984783-003-05-7       18\nBRD-K08799216-001-05-3       18\nBRD-K05524748-003-04-4       18\nBRD-K31627533-001-09-5       18\nBRD-K81258678-001-01-0       11\nName: Compound, Length: 512, dtype: int64"
     },
     "execution_count": 10,
     "metadata": {},
     "output_type": "execute_result"
    }
   ],
   "source": [
    "print(len(df[df['Split'] == 'Test'].Metadata_Plate.unique()))\n",
    "print(len(df[df['Split'] == 'Training'].Metadata_Plate.unique()))\n",
    "\n",
    "df[df['Split'] == 'Test'].Compound.value_counts()"
   ],
   "metadata": {
    "collapsed": false,
    "pycharm": {
     "name": "#%%\n"
    }
   }
  },
  {
   "cell_type": "code",
   "execution_count": 11,
   "outputs": [
    {
     "data": {
      "text/plain": "(20315, 20)"
     },
     "execution_count": 11,
     "metadata": {},
     "output_type": "execute_result"
    }
   ],
   "source": [
    "df[df['Split'] == 'Test'].shape"
   ],
   "metadata": {
    "collapsed": false,
    "pycharm": {
     "name": "#%%\n"
    }
   }
  },
  {
   "cell_type": "code",
   "execution_count": 113,
   "outputs": [],
   "source": [
    "# save\n",
    "df.to_csv('811_index.csv', index=False)\n"
   ],
   "metadata": {
    "collapsed": false,
    "pycharm": {
     "name": "#%%\n"
    }
   }
  },
  {
   "cell_type": "code",
   "execution_count": 18,
   "outputs": [],
   "source": [
    "# now with less validation files!\n",
    "df['Split'] = 'Training'\n",
    "df.loc[(df.Treatment_Replicate == 1) | (df.Treatment_Replicate == 2),'Split']='Unused'\n",
    "test_plates = df[df['Split'] == 'Unused'].Metadata_Plate.unique()\n",
    "df.loc[(df.Compound == 'DMSO') & (df.Metadata_Plate.isin(test_plates)),'Split']='Unused'"
   ],
   "metadata": {
    "collapsed": false,
    "pycharm": {
     "name": "#%%\n"
    }
   }
  },
  {
   "cell_type": "code",
   "execution_count": 13,
   "outputs": [],
   "source": [
    "df.loc[(df.Compound == 'DMSO') & (df.Split == 'Unused') & (df.Treatment_Replicate % 199 == 0),'Split']='Test'\n",
    "df.loc[(df.Split == 'Unused') & (df.Treatment_Replicate == 1) & (df.Metadata_Site <= 2),'Split']='Test'"
   ],
   "metadata": {
    "collapsed": false,
    "pycharm": {
     "name": "#%%\n"
    }
   }
  },
  {
   "cell_type": "code",
   "execution_count": 14,
   "outputs": [
    {
     "data": {
      "text/plain": "DMSO                      92\nBRD-K86301799-001-34-8     2\nBRD-K67080878-001-15-4     2\nBRD-A32172948-001-07-6     2\nBRD-A52660433-066-02-1     2\n                          ..\nBRD-K97688263-001-03-7     2\nBRD-K45158365-001-11-4     2\nBRD-K06388322-312-02-6     2\nBRD-K81144366-003-19-7     2\nBRD-K24616672-003-20-1     2\nName: Compound, Length: 512, dtype: int64"
     },
     "execution_count": 14,
     "metadata": {},
     "output_type": "execute_result"
    }
   ],
   "source": [
    "df[df['Split'] == 'Test'].Compound.value_counts()"
   ],
   "metadata": {
    "collapsed": false,
    "pycharm": {
     "name": "#%%\n"
    }
   }
  },
  {
   "cell_type": "code",
   "execution_count": 15,
   "outputs": [
    {
     "data": {
      "text/plain": "DMSO                      18144\nBRD-K86301799-001-34-8       27\nBRD-A29485665-001-12-8       27\nBRD-K22749967-046-02-3       27\nBRD-A97674275-001-11-8       27\n                          ...  \nBRD-K33127281-001-05-6       27\nBRD-K89348303-001-14-7       27\nBRD-K70610771-001-02-9       27\nBRD-K80608265-001-01-6       27\nBRD-K11433652-001-17-0       26\nName: Compound, Length: 512, dtype: int64"
     },
     "execution_count": 15,
     "metadata": {},
     "output_type": "execute_result"
    }
   ],
   "source": [
    "df[df['Split'] == 'Training'].Compound.value_counts()"
   ],
   "metadata": {
    "collapsed": false,
    "pycharm": {
     "name": "#%%\n"
    }
   }
  },
  {
   "cell_type": "code",
   "execution_count": 16,
   "outputs": [
    {
     "data": {
      "text/plain": "DMSO                      11032\nBRD-K86301799-001-34-8       16\nBRD-K06388322-312-02-6       16\nBRD-K90825648-001-02-0       16\nBRD-A65013509-003-24-4       16\n                          ...  \nBRD-K92984783-003-05-7       16\nBRD-K08799216-001-05-3       16\nBRD-K05524748-003-04-4       16\nBRD-K31627533-001-09-5       16\nBRD-K81258678-001-01-0        9\nName: Compound, Length: 512, dtype: int64"
     },
     "execution_count": 16,
     "metadata": {},
     "output_type": "execute_result"
    }
   ],
   "source": [
    "df[df['Split'] == 'Unused'].Compound.value_counts()"
   ],
   "metadata": {
    "collapsed": false,
    "pycharm": {
     "name": "#%%\n"
    }
   }
  },
  {
   "cell_type": "code",
   "execution_count": 130,
   "outputs": [],
   "source": [
    "df.to_csv('812_index.csv', index=False)"
   ],
   "metadata": {
    "collapsed": false,
    "pycharm": {
     "name": "#%%\n"
    }
   }
  },
  {
   "cell_type": "markdown",
   "source": [
    "Now, we are gonna check that we have mixed batches within the compounds so we dont train the batches!"
   ],
   "metadata": {
    "collapsed": false,
    "pycharm": {
     "name": "#%% md\n"
    }
   }
  },
  {
   "cell_type": "code",
   "execution_count": 21,
   "outputs": [
    {
     "name": "stderr",
     "output_type": "stream",
     "text": [
      "/Users/mbornhol/miniconda3/envs/cyto_eval/lib/python3.7/site-packages/IPython/core/interactiveshell.py:3166: DtypeWarning: Columns (8,9,16,17,18,20,21,22,23,24) have mixed types.Specify dtype option on import or set low_memory=False.\n",
      "  interactivity=interactivity, compiler=compiler, result=result)\n"
     ]
    }
   ],
   "source": [
    "# Get Batch data\n",
    "batch = pd.read_csv('/Users/mbornhol/git/neural-profiling/baseline/01_data/level_3_data/sub_level3.csv')"
   ],
   "metadata": {
    "collapsed": false,
    "pycharm": {
     "name": "#%%\n"
    }
   }
  },
  {
   "cell_type": "code",
   "execution_count": 25,
   "outputs": [],
   "source": [
    "b = batch[['Metadata_Batch_Number', 'Metadata_Plate', 'Metadata_Well']]"
   ],
   "metadata": {
    "collapsed": false,
    "pycharm": {
     "name": "#%%\n"
    }
   }
  },
  {
   "cell_type": "code",
   "execution_count": 29,
   "outputs": [],
   "source": [
    "df = pd.merge(df, b, on=['Metadata_Plate', 'Metadata_Well'], validate='many_to_one')"
   ],
   "metadata": {
    "collapsed": false,
    "pycharm": {
     "name": "#%%\n"
    }
   }
  },
  {
   "cell_type": "code",
   "execution_count": 30,
   "outputs": [],
   "source": [
    "df['Split'] = 'Training'\n",
    "df.loc[(df.Treatment_Replicate == 1) | (df.Treatment_Replicate == 2),'Split']='Unused'\n",
    "test_plates = df[df['Split'] == 'Unused'].Metadata_Plate.unique()\n",
    "df.loc[(df.Compound == 'DMSO') & (df.Metadata_Plate.isin(test_plates)),'Split']='Unused'\n",
    "df.loc[(df.Compound == 'DMSO') & (df.Split == 'Unused') & (df.Treatment_Replicate % 199 == 0),'Split']='Test'\n",
    "df.loc[(df.Split == 'Unused') & (df.Treatment_Replicate == 1) & (df.Metadata_Site <= 2),'Split']='Test'"
   ],
   "metadata": {
    "collapsed": false,
    "pycharm": {
     "name": "#%%\n"
    }
   }
  },
  {
   "cell_type": "code",
   "execution_count": 74,
   "outputs": [],
   "source": [
    "ls = {}\n",
    "for c in df.Metadata_broad_sample.unique():\n",
    "    v = df[(df['Metadata_broad_sample'] == c)].Metadata_Batch_Number.value_counts().idxmax()\n",
    "    w = df[(df['Metadata_broad_sample'] == c) & (df['Metadata_Batch_Number'] == v)].Treatment_Replicate.unique()[:2]\n",
    "    ls[c] = [v,w]"
   ],
   "metadata": {
    "collapsed": false,
    "pycharm": {
     "name": "#%%\n"
    }
   }
  },
  {
   "cell_type": "code",
   "execution_count": 94,
   "outputs": [],
   "source": [
    "df['Split'] = 'Training'"
   ],
   "metadata": {
    "collapsed": false,
    "pycharm": {
     "name": "#%%\n"
    }
   }
  },
  {
   "cell_type": "code",
   "execution_count": 103,
   "outputs": [],
   "source": [
    "for m in ls:\n",
    "    df.loc[(df.Metadata_broad_sample == m) & (df.Treatment_Replicate.isin(ls[m][1])),'Split']='Unused'\n",
    "df.loc[(df.Metadata_Site == 5) & (df.Split == 'Unused'),'Split']='Test'"
   ],
   "metadata": {
    "collapsed": false,
    "pycharm": {
     "name": "#%%\n"
    }
   }
  },
  {
   "cell_type": "code",
   "execution_count": 93,
   "outputs": [
    {
     "data": {
      "text/plain": "      Metadata_Plate Metadata_Well  Metadata_Site   Metadata_broad_sample  \\\n34976     SQ00015056           C13              1  BRD-K92984783-003-05-7   \n34977     SQ00015056           C13              2  BRD-K92984783-003-05-7   \n34978     SQ00015056           C13              3  BRD-K92984783-003-05-7   \n34979     SQ00015056           C13              4  BRD-K92984783-003-05-7   \n34980     SQ00015056           C13              5  BRD-K92984783-003-05-7   \n34981     SQ00015056           C13              6  BRD-K92984783-003-05-7   \n34982     SQ00015056           C13              7  BRD-K92984783-003-05-7   \n34983     SQ00015056           C13              8  BRD-K92984783-003-05-7   \n34984     SQ00015056           C13              9  BRD-K92984783-003-05-7   \n34985     SQ00015057           C13              1  BRD-K92984783-003-05-7   \n34986     SQ00015057           C13              2  BRD-K92984783-003-05-7   \n34987     SQ00015057           C13              3  BRD-K92984783-003-05-7   \n34988     SQ00015057           C13              4  BRD-K92984783-003-05-7   \n34989     SQ00015057           C13              5  BRD-K92984783-003-05-7   \n34990     SQ00015057           C13              6  BRD-K92984783-003-05-7   \n34991     SQ00015057           C13              7  BRD-K92984783-003-05-7   \n34992     SQ00015057           C13              8  BRD-K92984783-003-05-7   \n34993     SQ00015057           C13              9  BRD-K92984783-003-05-7   \n\n                                            Metadata_moa  \\\n34976  dopamine receptor antagonist|serotonin recepto...   \n34977  dopamine receptor antagonist|serotonin recepto...   \n34978  dopamine receptor antagonist|serotonin recepto...   \n34979  dopamine receptor antagonist|serotonin recepto...   \n34980  dopamine receptor antagonist|serotonin recepto...   \n34981  dopamine receptor antagonist|serotonin recepto...   \n34982  dopamine receptor antagonist|serotonin recepto...   \n34983  dopamine receptor antagonist|serotonin recepto...   \n34984  dopamine receptor antagonist|serotonin recepto...   \n34985  dopamine receptor antagonist|serotonin recepto...   \n34986  dopamine receptor antagonist|serotonin recepto...   \n34987  dopamine receptor antagonist|serotonin recepto...   \n34988  dopamine receptor antagonist|serotonin recepto...   \n34989  dopamine receptor antagonist|serotonin recepto...   \n34990  dopamine receptor antagonist|serotonin recepto...   \n34991  dopamine receptor antagonist|serotonin recepto...   \n34992  dopamine receptor antagonist|serotonin recepto...   \n34993  dopamine receptor antagonist|serotonin recepto...   \n\n       Metadata_mmoles_per_liter  Metadata_dose_recode  \\\n34976                       10.0                     6   \n34977                       10.0                     6   \n34978                       10.0                     6   \n34979                       10.0                     6   \n34980                       10.0                     6   \n34981                       10.0                     6   \n34982                       10.0                     6   \n34983                       10.0                     6   \n34984                       10.0                     6   \n34985                       10.0                     6   \n34986                       10.0                     6   \n34987                       10.0                     6   \n34988                       10.0                     6   \n34989                       10.0                     6   \n34990                       10.0                     6   \n34991                       10.0                     6   \n34992                       10.0                     6   \n34993                       10.0                     6   \n\n                                            RNA  \\\n34976  SQ00015056/r03c13f01p01-ch3sk1fk1fl1.png   \n34977  SQ00015056/r03c13f02p01-ch3sk1fk1fl1.png   \n34978  SQ00015056/r03c13f03p01-ch3sk1fk1fl1.png   \n34979  SQ00015056/r03c13f04p01-ch3sk1fk1fl1.png   \n34980  SQ00015056/r03c13f05p01-ch3sk1fk1fl1.png   \n34981  SQ00015056/r03c13f06p01-ch3sk1fk1fl1.png   \n34982  SQ00015056/r03c13f07p01-ch3sk1fk1fl1.png   \n34983  SQ00015056/r03c13f08p01-ch3sk1fk1fl1.png   \n34984  SQ00015056/r03c13f09p01-ch3sk1fk1fl1.png   \n34985  SQ00015057/r03c13f01p01-ch3sk1fk1fl1.png   \n34986  SQ00015057/r03c13f02p01-ch3sk1fk1fl1.png   \n34987  SQ00015057/r03c13f03p01-ch3sk1fk1fl1.png   \n34988  SQ00015057/r03c13f04p01-ch3sk1fk1fl1.png   \n34989  SQ00015057/r03c13f05p01-ch3sk1fk1fl1.png   \n34990  SQ00015057/r03c13f06p01-ch3sk1fk1fl1.png   \n34991  SQ00015057/r03c13f07p01-ch3sk1fk1fl1.png   \n34992  SQ00015057/r03c13f08p01-ch3sk1fk1fl1.png   \n34993  SQ00015057/r03c13f09p01-ch3sk1fk1fl1.png   \n\n                                             ER  \\\n34976  SQ00015056/r03c13f01p01-ch2sk1fk1fl1.png   \n34977  SQ00015056/r03c13f02p01-ch2sk1fk1fl1.png   \n34978  SQ00015056/r03c13f03p01-ch2sk1fk1fl1.png   \n34979  SQ00015056/r03c13f04p01-ch2sk1fk1fl1.png   \n34980  SQ00015056/r03c13f05p01-ch2sk1fk1fl1.png   \n34981  SQ00015056/r03c13f06p01-ch2sk1fk1fl1.png   \n34982  SQ00015056/r03c13f07p01-ch2sk1fk1fl1.png   \n34983  SQ00015056/r03c13f08p01-ch2sk1fk1fl1.png   \n34984  SQ00015056/r03c13f09p01-ch2sk1fk1fl1.png   \n34985  SQ00015057/r03c13f01p01-ch2sk1fk1fl1.png   \n34986  SQ00015057/r03c13f02p01-ch2sk1fk1fl1.png   \n34987  SQ00015057/r03c13f03p01-ch2sk1fk1fl1.png   \n34988  SQ00015057/r03c13f04p01-ch2sk1fk1fl1.png   \n34989  SQ00015057/r03c13f05p01-ch2sk1fk1fl1.png   \n34990  SQ00015057/r03c13f06p01-ch2sk1fk1fl1.png   \n34991  SQ00015057/r03c13f07p01-ch2sk1fk1fl1.png   \n34992  SQ00015057/r03c13f08p01-ch2sk1fk1fl1.png   \n34993  SQ00015057/r03c13f09p01-ch2sk1fk1fl1.png   \n\n                                            AGP  ...  \\\n34976  SQ00015056/r03c13f01p01-ch4sk1fk1fl1.png  ...   \n34977  SQ00015056/r03c13f02p01-ch4sk1fk1fl1.png  ...   \n34978  SQ00015056/r03c13f03p01-ch4sk1fk1fl1.png  ...   \n34979  SQ00015056/r03c13f04p01-ch4sk1fk1fl1.png  ...   \n34980  SQ00015056/r03c13f05p01-ch4sk1fk1fl1.png  ...   \n34981  SQ00015056/r03c13f06p01-ch4sk1fk1fl1.png  ...   \n34982  SQ00015056/r03c13f07p01-ch4sk1fk1fl1.png  ...   \n34983  SQ00015056/r03c13f08p01-ch4sk1fk1fl1.png  ...   \n34984  SQ00015056/r03c13f09p01-ch4sk1fk1fl1.png  ...   \n34985  SQ00015057/r03c13f01p01-ch4sk1fk1fl1.png  ...   \n34986  SQ00015057/r03c13f02p01-ch4sk1fk1fl1.png  ...   \n34987  SQ00015057/r03c13f03p01-ch4sk1fk1fl1.png  ...   \n34988  SQ00015057/r03c13f04p01-ch4sk1fk1fl1.png  ...   \n34989  SQ00015057/r03c13f05p01-ch4sk1fk1fl1.png  ...   \n34990  SQ00015057/r03c13f06p01-ch4sk1fk1fl1.png  ...   \n34991  SQ00015057/r03c13f07p01-ch4sk1fk1fl1.png  ...   \n34992  SQ00015057/r03c13f08p01-ch4sk1fk1fl1.png  ...   \n34993  SQ00015057/r03c13f09p01-ch4sk1fk1fl1.png  ...   \n\n                                            DNA Concentration  Treatment_ID  \\\n34976  SQ00015056/r03c13f01p01-ch1sk1fk1fl1.png          10.0          9124   \n34977  SQ00015056/r03c13f02p01-ch1sk1fk1fl1.png          10.0          9124   \n34978  SQ00015056/r03c13f03p01-ch1sk1fk1fl1.png          10.0          9124   \n34979  SQ00015056/r03c13f04p01-ch1sk1fk1fl1.png          10.0          9124   \n34980  SQ00015056/r03c13f05p01-ch1sk1fk1fl1.png          10.0          9124   \n34981  SQ00015056/r03c13f06p01-ch1sk1fk1fl1.png          10.0          9124   \n34982  SQ00015056/r03c13f07p01-ch1sk1fk1fl1.png          10.0          9124   \n34983  SQ00015056/r03c13f08p01-ch1sk1fk1fl1.png          10.0          9124   \n34984  SQ00015056/r03c13f09p01-ch1sk1fk1fl1.png          10.0          9124   \n34985  SQ00015057/r03c13f01p01-ch1sk1fk1fl1.png          10.0          9124   \n34986  SQ00015057/r03c13f02p01-ch1sk1fk1fl1.png          10.0          9124   \n34987  SQ00015057/r03c13f03p01-ch1sk1fk1fl1.png          10.0          9124   \n34988  SQ00015057/r03c13f04p01-ch1sk1fk1fl1.png          10.0          9124   \n34989  SQ00015057/r03c13f05p01-ch1sk1fk1fl1.png          10.0          9124   \n34990  SQ00015057/r03c13f06p01-ch1sk1fk1fl1.png          10.0          9124   \n34991  SQ00015057/r03c13f07p01-ch1sk1fk1fl1.png          10.0          9124   \n34992  SQ00015057/r03c13f08p01-ch1sk1fk1fl1.png          10.0          9124   \n34993  SQ00015057/r03c13f09p01-ch1sk1fk1fl1.png          10.0          9124   \n\n                     Compound pert_iname Treatment_Replicate  \\\n34976  BRD-K92984783-003-05-7  melperone                   1   \n34977  BRD-K92984783-003-05-7  melperone                   1   \n34978  BRD-K92984783-003-05-7  melperone                   1   \n34979  BRD-K92984783-003-05-7  melperone                   1   \n34980  BRD-K92984783-003-05-7  melperone                   1   \n34981  BRD-K92984783-003-05-7  melperone                   1   \n34982  BRD-K92984783-003-05-7  melperone                   1   \n34983  BRD-K92984783-003-05-7  melperone                   1   \n34984  BRD-K92984783-003-05-7  melperone                   1   \n34985  BRD-K92984783-003-05-7  melperone                   2   \n34986  BRD-K92984783-003-05-7  melperone                   2   \n34987  BRD-K92984783-003-05-7  melperone                   2   \n34988  BRD-K92984783-003-05-7  melperone                   2   \n34989  BRD-K92984783-003-05-7  melperone                   2   \n34990  BRD-K92984783-003-05-7  melperone                   2   \n34991  BRD-K92984783-003-05-7  melperone                   2   \n34992  BRD-K92984783-003-05-7  melperone                   2   \n34993  BRD-K92984783-003-05-7  melperone                   2   \n\n                                        Treatment     Plate_Map_Name   Split  \\\n34976  BRD-K92984783-003-05-7@9.99999999999999999  C-7161-01-LM6-028  Unused   \n34977  BRD-K92984783-003-05-7@9.99999999999999999  C-7161-01-LM6-028  Unused   \n34978  BRD-K92984783-003-05-7@9.99999999999999999  C-7161-01-LM6-028  Unused   \n34979  BRD-K92984783-003-05-7@9.99999999999999999  C-7161-01-LM6-028  Unused   \n34980  BRD-K92984783-003-05-7@9.99999999999999999  C-7161-01-LM6-028  Unused   \n34981  BRD-K92984783-003-05-7@9.99999999999999999  C-7161-01-LM6-028  Unused   \n34982  BRD-K92984783-003-05-7@9.99999999999999999  C-7161-01-LM6-028  Unused   \n34983  BRD-K92984783-003-05-7@9.99999999999999999  C-7161-01-LM6-028  Unused   \n34984  BRD-K92984783-003-05-7@9.99999999999999999  C-7161-01-LM6-028  Unused   \n34985  BRD-K92984783-003-05-7@9.99999999999999999  C-7161-01-LM6-028  Unused   \n34986  BRD-K92984783-003-05-7@9.99999999999999999  C-7161-01-LM6-028  Unused   \n34987  BRD-K92984783-003-05-7@9.99999999999999999  C-7161-01-LM6-028  Unused   \n34988  BRD-K92984783-003-05-7@9.99999999999999999  C-7161-01-LM6-028  Unused   \n34989  BRD-K92984783-003-05-7@9.99999999999999999  C-7161-01-LM6-028  Unused   \n34990  BRD-K92984783-003-05-7@9.99999999999999999  C-7161-01-LM6-028  Unused   \n34991  BRD-K92984783-003-05-7@9.99999999999999999  C-7161-01-LM6-028  Unused   \n34992  BRD-K92984783-003-05-7@9.99999999999999999  C-7161-01-LM6-028  Unused   \n34993  BRD-K92984783-003-05-7@9.99999999999999999  C-7161-01-LM6-028  Unused   \n\n      Metadata_Batch_Number  \n34976                     4  \n34977                     4  \n34978                     4  \n34979                     4  \n34980                     4  \n34981                     4  \n34982                     4  \n34983                     4  \n34984                     4  \n34985                     4  \n34986                     4  \n34987                     4  \n34988                     4  \n34989                     4  \n34990                     4  \n34991                     4  \n34992                     4  \n34993                     4  \n\n[18 rows x 21 columns]",
      "text/html": "<div>\n<style scoped>\n    .dataframe tbody tr th:only-of-type {\n        vertical-align: middle;\n    }\n\n    .dataframe tbody tr th {\n        vertical-align: top;\n    }\n\n    .dataframe thead th {\n        text-align: right;\n    }\n</style>\n<table border=\"1\" class=\"dataframe\">\n  <thead>\n    <tr style=\"text-align: right;\">\n      <th></th>\n      <th>Metadata_Plate</th>\n      <th>Metadata_Well</th>\n      <th>Metadata_Site</th>\n      <th>Metadata_broad_sample</th>\n      <th>Metadata_moa</th>\n      <th>Metadata_mmoles_per_liter</th>\n      <th>Metadata_dose_recode</th>\n      <th>RNA</th>\n      <th>ER</th>\n      <th>AGP</th>\n      <th>...</th>\n      <th>DNA</th>\n      <th>Concentration</th>\n      <th>Treatment_ID</th>\n      <th>Compound</th>\n      <th>pert_iname</th>\n      <th>Treatment_Replicate</th>\n      <th>Treatment</th>\n      <th>Plate_Map_Name</th>\n      <th>Split</th>\n      <th>Metadata_Batch_Number</th>\n    </tr>\n  </thead>\n  <tbody>\n    <tr>\n      <th>34976</th>\n      <td>SQ00015056</td>\n      <td>C13</td>\n      <td>1</td>\n      <td>BRD-K92984783-003-05-7</td>\n      <td>dopamine receptor antagonist|serotonin recepto...</td>\n      <td>10.0</td>\n      <td>6</td>\n      <td>SQ00015056/r03c13f01p01-ch3sk1fk1fl1.png</td>\n      <td>SQ00015056/r03c13f01p01-ch2sk1fk1fl1.png</td>\n      <td>SQ00015056/r03c13f01p01-ch4sk1fk1fl1.png</td>\n      <td>...</td>\n      <td>SQ00015056/r03c13f01p01-ch1sk1fk1fl1.png</td>\n      <td>10.0</td>\n      <td>9124</td>\n      <td>BRD-K92984783-003-05-7</td>\n      <td>melperone</td>\n      <td>1</td>\n      <td>BRD-K92984783-003-05-7@9.99999999999999999</td>\n      <td>C-7161-01-LM6-028</td>\n      <td>Unused</td>\n      <td>4</td>\n    </tr>\n    <tr>\n      <th>34977</th>\n      <td>SQ00015056</td>\n      <td>C13</td>\n      <td>2</td>\n      <td>BRD-K92984783-003-05-7</td>\n      <td>dopamine receptor antagonist|serotonin recepto...</td>\n      <td>10.0</td>\n      <td>6</td>\n      <td>SQ00015056/r03c13f02p01-ch3sk1fk1fl1.png</td>\n      <td>SQ00015056/r03c13f02p01-ch2sk1fk1fl1.png</td>\n      <td>SQ00015056/r03c13f02p01-ch4sk1fk1fl1.png</td>\n      <td>...</td>\n      <td>SQ00015056/r03c13f02p01-ch1sk1fk1fl1.png</td>\n      <td>10.0</td>\n      <td>9124</td>\n      <td>BRD-K92984783-003-05-7</td>\n      <td>melperone</td>\n      <td>1</td>\n      <td>BRD-K92984783-003-05-7@9.99999999999999999</td>\n      <td>C-7161-01-LM6-028</td>\n      <td>Unused</td>\n      <td>4</td>\n    </tr>\n    <tr>\n      <th>34978</th>\n      <td>SQ00015056</td>\n      <td>C13</td>\n      <td>3</td>\n      <td>BRD-K92984783-003-05-7</td>\n      <td>dopamine receptor antagonist|serotonin recepto...</td>\n      <td>10.0</td>\n      <td>6</td>\n      <td>SQ00015056/r03c13f03p01-ch3sk1fk1fl1.png</td>\n      <td>SQ00015056/r03c13f03p01-ch2sk1fk1fl1.png</td>\n      <td>SQ00015056/r03c13f03p01-ch4sk1fk1fl1.png</td>\n      <td>...</td>\n      <td>SQ00015056/r03c13f03p01-ch1sk1fk1fl1.png</td>\n      <td>10.0</td>\n      <td>9124</td>\n      <td>BRD-K92984783-003-05-7</td>\n      <td>melperone</td>\n      <td>1</td>\n      <td>BRD-K92984783-003-05-7@9.99999999999999999</td>\n      <td>C-7161-01-LM6-028</td>\n      <td>Unused</td>\n      <td>4</td>\n    </tr>\n    <tr>\n      <th>34979</th>\n      <td>SQ00015056</td>\n      <td>C13</td>\n      <td>4</td>\n      <td>BRD-K92984783-003-05-7</td>\n      <td>dopamine receptor antagonist|serotonin recepto...</td>\n      <td>10.0</td>\n      <td>6</td>\n      <td>SQ00015056/r03c13f04p01-ch3sk1fk1fl1.png</td>\n      <td>SQ00015056/r03c13f04p01-ch2sk1fk1fl1.png</td>\n      <td>SQ00015056/r03c13f04p01-ch4sk1fk1fl1.png</td>\n      <td>...</td>\n      <td>SQ00015056/r03c13f04p01-ch1sk1fk1fl1.png</td>\n      <td>10.0</td>\n      <td>9124</td>\n      <td>BRD-K92984783-003-05-7</td>\n      <td>melperone</td>\n      <td>1</td>\n      <td>BRD-K92984783-003-05-7@9.99999999999999999</td>\n      <td>C-7161-01-LM6-028</td>\n      <td>Unused</td>\n      <td>4</td>\n    </tr>\n    <tr>\n      <th>34980</th>\n      <td>SQ00015056</td>\n      <td>C13</td>\n      <td>5</td>\n      <td>BRD-K92984783-003-05-7</td>\n      <td>dopamine receptor antagonist|serotonin recepto...</td>\n      <td>10.0</td>\n      <td>6</td>\n      <td>SQ00015056/r03c13f05p01-ch3sk1fk1fl1.png</td>\n      <td>SQ00015056/r03c13f05p01-ch2sk1fk1fl1.png</td>\n      <td>SQ00015056/r03c13f05p01-ch4sk1fk1fl1.png</td>\n      <td>...</td>\n      <td>SQ00015056/r03c13f05p01-ch1sk1fk1fl1.png</td>\n      <td>10.0</td>\n      <td>9124</td>\n      <td>BRD-K92984783-003-05-7</td>\n      <td>melperone</td>\n      <td>1</td>\n      <td>BRD-K92984783-003-05-7@9.99999999999999999</td>\n      <td>C-7161-01-LM6-028</td>\n      <td>Unused</td>\n      <td>4</td>\n    </tr>\n    <tr>\n      <th>34981</th>\n      <td>SQ00015056</td>\n      <td>C13</td>\n      <td>6</td>\n      <td>BRD-K92984783-003-05-7</td>\n      <td>dopamine receptor antagonist|serotonin recepto...</td>\n      <td>10.0</td>\n      <td>6</td>\n      <td>SQ00015056/r03c13f06p01-ch3sk1fk1fl1.png</td>\n      <td>SQ00015056/r03c13f06p01-ch2sk1fk1fl1.png</td>\n      <td>SQ00015056/r03c13f06p01-ch4sk1fk1fl1.png</td>\n      <td>...</td>\n      <td>SQ00015056/r03c13f06p01-ch1sk1fk1fl1.png</td>\n      <td>10.0</td>\n      <td>9124</td>\n      <td>BRD-K92984783-003-05-7</td>\n      <td>melperone</td>\n      <td>1</td>\n      <td>BRD-K92984783-003-05-7@9.99999999999999999</td>\n      <td>C-7161-01-LM6-028</td>\n      <td>Unused</td>\n      <td>4</td>\n    </tr>\n    <tr>\n      <th>34982</th>\n      <td>SQ00015056</td>\n      <td>C13</td>\n      <td>7</td>\n      <td>BRD-K92984783-003-05-7</td>\n      <td>dopamine receptor antagonist|serotonin recepto...</td>\n      <td>10.0</td>\n      <td>6</td>\n      <td>SQ00015056/r03c13f07p01-ch3sk1fk1fl1.png</td>\n      <td>SQ00015056/r03c13f07p01-ch2sk1fk1fl1.png</td>\n      <td>SQ00015056/r03c13f07p01-ch4sk1fk1fl1.png</td>\n      <td>...</td>\n      <td>SQ00015056/r03c13f07p01-ch1sk1fk1fl1.png</td>\n      <td>10.0</td>\n      <td>9124</td>\n      <td>BRD-K92984783-003-05-7</td>\n      <td>melperone</td>\n      <td>1</td>\n      <td>BRD-K92984783-003-05-7@9.99999999999999999</td>\n      <td>C-7161-01-LM6-028</td>\n      <td>Unused</td>\n      <td>4</td>\n    </tr>\n    <tr>\n      <th>34983</th>\n      <td>SQ00015056</td>\n      <td>C13</td>\n      <td>8</td>\n      <td>BRD-K92984783-003-05-7</td>\n      <td>dopamine receptor antagonist|serotonin recepto...</td>\n      <td>10.0</td>\n      <td>6</td>\n      <td>SQ00015056/r03c13f08p01-ch3sk1fk1fl1.png</td>\n      <td>SQ00015056/r03c13f08p01-ch2sk1fk1fl1.png</td>\n      <td>SQ00015056/r03c13f08p01-ch4sk1fk1fl1.png</td>\n      <td>...</td>\n      <td>SQ00015056/r03c13f08p01-ch1sk1fk1fl1.png</td>\n      <td>10.0</td>\n      <td>9124</td>\n      <td>BRD-K92984783-003-05-7</td>\n      <td>melperone</td>\n      <td>1</td>\n      <td>BRD-K92984783-003-05-7@9.99999999999999999</td>\n      <td>C-7161-01-LM6-028</td>\n      <td>Unused</td>\n      <td>4</td>\n    </tr>\n    <tr>\n      <th>34984</th>\n      <td>SQ00015056</td>\n      <td>C13</td>\n      <td>9</td>\n      <td>BRD-K92984783-003-05-7</td>\n      <td>dopamine receptor antagonist|serotonin recepto...</td>\n      <td>10.0</td>\n      <td>6</td>\n      <td>SQ00015056/r03c13f09p01-ch3sk1fk1fl1.png</td>\n      <td>SQ00015056/r03c13f09p01-ch2sk1fk1fl1.png</td>\n      <td>SQ00015056/r03c13f09p01-ch4sk1fk1fl1.png</td>\n      <td>...</td>\n      <td>SQ00015056/r03c13f09p01-ch1sk1fk1fl1.png</td>\n      <td>10.0</td>\n      <td>9124</td>\n      <td>BRD-K92984783-003-05-7</td>\n      <td>melperone</td>\n      <td>1</td>\n      <td>BRD-K92984783-003-05-7@9.99999999999999999</td>\n      <td>C-7161-01-LM6-028</td>\n      <td>Unused</td>\n      <td>4</td>\n    </tr>\n    <tr>\n      <th>34985</th>\n      <td>SQ00015057</td>\n      <td>C13</td>\n      <td>1</td>\n      <td>BRD-K92984783-003-05-7</td>\n      <td>dopamine receptor antagonist|serotonin recepto...</td>\n      <td>10.0</td>\n      <td>6</td>\n      <td>SQ00015057/r03c13f01p01-ch3sk1fk1fl1.png</td>\n      <td>SQ00015057/r03c13f01p01-ch2sk1fk1fl1.png</td>\n      <td>SQ00015057/r03c13f01p01-ch4sk1fk1fl1.png</td>\n      <td>...</td>\n      <td>SQ00015057/r03c13f01p01-ch1sk1fk1fl1.png</td>\n      <td>10.0</td>\n      <td>9124</td>\n      <td>BRD-K92984783-003-05-7</td>\n      <td>melperone</td>\n      <td>2</td>\n      <td>BRD-K92984783-003-05-7@9.99999999999999999</td>\n      <td>C-7161-01-LM6-028</td>\n      <td>Unused</td>\n      <td>4</td>\n    </tr>\n    <tr>\n      <th>34986</th>\n      <td>SQ00015057</td>\n      <td>C13</td>\n      <td>2</td>\n      <td>BRD-K92984783-003-05-7</td>\n      <td>dopamine receptor antagonist|serotonin recepto...</td>\n      <td>10.0</td>\n      <td>6</td>\n      <td>SQ00015057/r03c13f02p01-ch3sk1fk1fl1.png</td>\n      <td>SQ00015057/r03c13f02p01-ch2sk1fk1fl1.png</td>\n      <td>SQ00015057/r03c13f02p01-ch4sk1fk1fl1.png</td>\n      <td>...</td>\n      <td>SQ00015057/r03c13f02p01-ch1sk1fk1fl1.png</td>\n      <td>10.0</td>\n      <td>9124</td>\n      <td>BRD-K92984783-003-05-7</td>\n      <td>melperone</td>\n      <td>2</td>\n      <td>BRD-K92984783-003-05-7@9.99999999999999999</td>\n      <td>C-7161-01-LM6-028</td>\n      <td>Unused</td>\n      <td>4</td>\n    </tr>\n    <tr>\n      <th>34987</th>\n      <td>SQ00015057</td>\n      <td>C13</td>\n      <td>3</td>\n      <td>BRD-K92984783-003-05-7</td>\n      <td>dopamine receptor antagonist|serotonin recepto...</td>\n      <td>10.0</td>\n      <td>6</td>\n      <td>SQ00015057/r03c13f03p01-ch3sk1fk1fl1.png</td>\n      <td>SQ00015057/r03c13f03p01-ch2sk1fk1fl1.png</td>\n      <td>SQ00015057/r03c13f03p01-ch4sk1fk1fl1.png</td>\n      <td>...</td>\n      <td>SQ00015057/r03c13f03p01-ch1sk1fk1fl1.png</td>\n      <td>10.0</td>\n      <td>9124</td>\n      <td>BRD-K92984783-003-05-7</td>\n      <td>melperone</td>\n      <td>2</td>\n      <td>BRD-K92984783-003-05-7@9.99999999999999999</td>\n      <td>C-7161-01-LM6-028</td>\n      <td>Unused</td>\n      <td>4</td>\n    </tr>\n    <tr>\n      <th>34988</th>\n      <td>SQ00015057</td>\n      <td>C13</td>\n      <td>4</td>\n      <td>BRD-K92984783-003-05-7</td>\n      <td>dopamine receptor antagonist|serotonin recepto...</td>\n      <td>10.0</td>\n      <td>6</td>\n      <td>SQ00015057/r03c13f04p01-ch3sk1fk1fl1.png</td>\n      <td>SQ00015057/r03c13f04p01-ch2sk1fk1fl1.png</td>\n      <td>SQ00015057/r03c13f04p01-ch4sk1fk1fl1.png</td>\n      <td>...</td>\n      <td>SQ00015057/r03c13f04p01-ch1sk1fk1fl1.png</td>\n      <td>10.0</td>\n      <td>9124</td>\n      <td>BRD-K92984783-003-05-7</td>\n      <td>melperone</td>\n      <td>2</td>\n      <td>BRD-K92984783-003-05-7@9.99999999999999999</td>\n      <td>C-7161-01-LM6-028</td>\n      <td>Unused</td>\n      <td>4</td>\n    </tr>\n    <tr>\n      <th>34989</th>\n      <td>SQ00015057</td>\n      <td>C13</td>\n      <td>5</td>\n      <td>BRD-K92984783-003-05-7</td>\n      <td>dopamine receptor antagonist|serotonin recepto...</td>\n      <td>10.0</td>\n      <td>6</td>\n      <td>SQ00015057/r03c13f05p01-ch3sk1fk1fl1.png</td>\n      <td>SQ00015057/r03c13f05p01-ch2sk1fk1fl1.png</td>\n      <td>SQ00015057/r03c13f05p01-ch4sk1fk1fl1.png</td>\n      <td>...</td>\n      <td>SQ00015057/r03c13f05p01-ch1sk1fk1fl1.png</td>\n      <td>10.0</td>\n      <td>9124</td>\n      <td>BRD-K92984783-003-05-7</td>\n      <td>melperone</td>\n      <td>2</td>\n      <td>BRD-K92984783-003-05-7@9.99999999999999999</td>\n      <td>C-7161-01-LM6-028</td>\n      <td>Unused</td>\n      <td>4</td>\n    </tr>\n    <tr>\n      <th>34990</th>\n      <td>SQ00015057</td>\n      <td>C13</td>\n      <td>6</td>\n      <td>BRD-K92984783-003-05-7</td>\n      <td>dopamine receptor antagonist|serotonin recepto...</td>\n      <td>10.0</td>\n      <td>6</td>\n      <td>SQ00015057/r03c13f06p01-ch3sk1fk1fl1.png</td>\n      <td>SQ00015057/r03c13f06p01-ch2sk1fk1fl1.png</td>\n      <td>SQ00015057/r03c13f06p01-ch4sk1fk1fl1.png</td>\n      <td>...</td>\n      <td>SQ00015057/r03c13f06p01-ch1sk1fk1fl1.png</td>\n      <td>10.0</td>\n      <td>9124</td>\n      <td>BRD-K92984783-003-05-7</td>\n      <td>melperone</td>\n      <td>2</td>\n      <td>BRD-K92984783-003-05-7@9.99999999999999999</td>\n      <td>C-7161-01-LM6-028</td>\n      <td>Unused</td>\n      <td>4</td>\n    </tr>\n    <tr>\n      <th>34991</th>\n      <td>SQ00015057</td>\n      <td>C13</td>\n      <td>7</td>\n      <td>BRD-K92984783-003-05-7</td>\n      <td>dopamine receptor antagonist|serotonin recepto...</td>\n      <td>10.0</td>\n      <td>6</td>\n      <td>SQ00015057/r03c13f07p01-ch3sk1fk1fl1.png</td>\n      <td>SQ00015057/r03c13f07p01-ch2sk1fk1fl1.png</td>\n      <td>SQ00015057/r03c13f07p01-ch4sk1fk1fl1.png</td>\n      <td>...</td>\n      <td>SQ00015057/r03c13f07p01-ch1sk1fk1fl1.png</td>\n      <td>10.0</td>\n      <td>9124</td>\n      <td>BRD-K92984783-003-05-7</td>\n      <td>melperone</td>\n      <td>2</td>\n      <td>BRD-K92984783-003-05-7@9.99999999999999999</td>\n      <td>C-7161-01-LM6-028</td>\n      <td>Unused</td>\n      <td>4</td>\n    </tr>\n    <tr>\n      <th>34992</th>\n      <td>SQ00015057</td>\n      <td>C13</td>\n      <td>8</td>\n      <td>BRD-K92984783-003-05-7</td>\n      <td>dopamine receptor antagonist|serotonin recepto...</td>\n      <td>10.0</td>\n      <td>6</td>\n      <td>SQ00015057/r03c13f08p01-ch3sk1fk1fl1.png</td>\n      <td>SQ00015057/r03c13f08p01-ch2sk1fk1fl1.png</td>\n      <td>SQ00015057/r03c13f08p01-ch4sk1fk1fl1.png</td>\n      <td>...</td>\n      <td>SQ00015057/r03c13f08p01-ch1sk1fk1fl1.png</td>\n      <td>10.0</td>\n      <td>9124</td>\n      <td>BRD-K92984783-003-05-7</td>\n      <td>melperone</td>\n      <td>2</td>\n      <td>BRD-K92984783-003-05-7@9.99999999999999999</td>\n      <td>C-7161-01-LM6-028</td>\n      <td>Unused</td>\n      <td>4</td>\n    </tr>\n    <tr>\n      <th>34993</th>\n      <td>SQ00015057</td>\n      <td>C13</td>\n      <td>9</td>\n      <td>BRD-K92984783-003-05-7</td>\n      <td>dopamine receptor antagonist|serotonin recepto...</td>\n      <td>10.0</td>\n      <td>6</td>\n      <td>SQ00015057/r03c13f09p01-ch3sk1fk1fl1.png</td>\n      <td>SQ00015057/r03c13f09p01-ch2sk1fk1fl1.png</td>\n      <td>SQ00015057/r03c13f09p01-ch4sk1fk1fl1.png</td>\n      <td>...</td>\n      <td>SQ00015057/r03c13f09p01-ch1sk1fk1fl1.png</td>\n      <td>10.0</td>\n      <td>9124</td>\n      <td>BRD-K92984783-003-05-7</td>\n      <td>melperone</td>\n      <td>2</td>\n      <td>BRD-K92984783-003-05-7@9.99999999999999999</td>\n      <td>C-7161-01-LM6-028</td>\n      <td>Unused</td>\n      <td>4</td>\n    </tr>\n  </tbody>\n</table>\n<p>18 rows × 21 columns</p>\n</div>"
     },
     "execution_count": 93,
     "metadata": {},
     "output_type": "execute_result"
    }
   ],
   "source": [
    "test_plates = df[df['Split'] == 'Unused'].Metadata_Plate.unique()\n",
    "df.loc[(df.Compound == 'DMSO') & (df.Metadata_Plate.isin(test_plates)),'Split']='Unused'\n",
    "df.loc[(df.Compound == 'DMSO') & (df.Split == 'Unused') & (df.Treatment_Replicate % 399 == 0),'Split']='Test'"
   ],
   "metadata": {
    "collapsed": false,
    "pycharm": {
     "name": "#%%\n"
    }
   }
  },
  {
   "cell_type": "code",
   "execution_count": 112,
   "outputs": [
    {
     "data": {
      "text/plain": "DMSO                      45\nBRD-K86301799-001-34-8     2\nBRD-K67080878-001-15-4     2\nBRD-A32172948-001-07-6     2\nBRD-A52660433-066-02-1     2\n                          ..\nBRD-K97688263-001-03-7     2\nBRD-K45158365-001-11-4     2\nBRD-K06388322-312-02-6     2\nBRD-K24616672-003-20-1     2\nBRD-K81258678-001-01-0     1\nName: Compound, Length: 512, dtype: int64"
     },
     "execution_count": 112,
     "metadata": {},
     "output_type": "execute_result"
    }
   ],
   "source": [
    "df[df['Split'] == 'Test'].Compound.value_counts()"
   ],
   "metadata": {
    "collapsed": false,
    "pycharm": {
     "name": "#%%\n"
    }
   }
  },
  {
   "cell_type": "code",
   "execution_count": 113,
   "outputs": [
    {
     "data": {
      "text/plain": "DMSO                      17928\nBRD-K86301799-001-34-8       27\nBRD-A29485665-001-12-8       27\nBRD-K22749967-046-02-3       27\nBRD-A97674275-001-11-8       27\n                          ...  \nBRD-K33127281-001-05-6       27\nBRD-K89348303-001-14-7       27\nBRD-K70610771-001-02-9       27\nBRD-K80608265-001-01-6       27\nBRD-K11433652-001-17-0       26\nName: Compound, Length: 512, dtype: int64"
     },
     "execution_count": 113,
     "metadata": {},
     "output_type": "execute_result"
    }
   ],
   "source": [
    "df[df['Split'] == 'Training'].Compound.value_counts()"
   ],
   "metadata": {
    "collapsed": false,
    "pycharm": {
     "name": "#%%\n"
    }
   }
  },
  {
   "cell_type": "code",
   "execution_count": 114,
   "outputs": [
    {
     "data": {
      "text/plain": "DMSO                      11295\nBRD-K86301799-001-34-8       16\nBRD-K06388322-312-02-6       16\nBRD-K90825648-001-02-0       16\nBRD-A65013509-003-24-4       16\n                          ...  \nBRD-K92984783-003-05-7       16\nBRD-K08799216-001-05-3       16\nBRD-K05524748-003-04-4       16\nBRD-K31627533-001-09-5       16\nBRD-K81258678-001-01-0       10\nName: Compound, Length: 512, dtype: int64"
     },
     "execution_count": 114,
     "metadata": {},
     "output_type": "execute_result"
    }
   ],
   "source": [
    "df[df['Split'] == 'Unused'].Compound.value_counts()\n"
   ],
   "metadata": {
    "collapsed": false,
    "pycharm": {
     "name": "#%%\n"
    }
   }
  },
  {
   "cell_type": "code",
   "execution_count": 115,
   "outputs": [
    {
     "name": "stdout",
     "output_type": "stream",
     "text": [
      "DMSO\n"
     ]
    }
   ],
   "source": [
    "# this shows that all training includes the two batches.\n",
    "for c in df.Metadata_broad_sample.unique():\n",
    "    v = df[(df['Metadata_broad_sample'] == c) & (df.Split == 'Training')].Metadata_Batch_Number.unique()\n",
    "    if len(v) != 2:\n",
    "        print(c)"
   ],
   "metadata": {
    "collapsed": false,
    "pycharm": {
     "name": "#%%\n"
    }
   }
  },
  {
   "cell_type": "code",
   "execution_count": 116,
   "outputs": [],
   "source": [
    "df.to_csv('817_index.csv', index=False)"
   ],
   "metadata": {
    "collapsed": false,
    "pycharm": {
     "name": "#%%\n"
    }
   }
  },
  {
   "cell_type": "code",
   "execution_count": 1,
   "outputs": [],
   "source": [
    "# new index with smaller moas instead of bigger ones.\n"
   ],
   "metadata": {
    "collapsed": false,
    "pycharm": {
     "name": "#%%\n"
    }
   }
  },
  {
   "cell_type": "code",
   "execution_count": 31,
   "outputs": [],
   "source": [
    "df = pd.read_csv('sub_index.csv')\n",
    "# select bottom 50 moas\n",
    "vc = df.Metadata_moa.value_counts()\n",
    "large_moas = vc[50:].keys().tolist()\n",
    "large_moas.append('unknown')\n",
    "df = df[df[\"Metadata_moa\"].isin(large_moas)]"
   ],
   "metadata": {
    "collapsed": false,
    "pycharm": {
     "name": "#%%\n"
    }
   }
  },
  {
   "cell_type": "code",
   "execution_count": 32,
   "outputs": [],
   "source": [
    "# delete all Compounds that do not have 5 replicates\n",
    "full_reps = df[df.Treatment_Replicate == 5].Compound.unique()\n",
    "df = df[df[\"Compound\"].isin(full_reps)]"
   ],
   "metadata": {
    "collapsed": false,
    "pycharm": {
     "name": "#%%\n"
    }
   }
  },
  {
   "cell_type": "code",
   "execution_count": 33,
   "outputs": [],
   "source": [
    "df['Split'] = 'Training'"
   ],
   "metadata": {
    "collapsed": false,
    "pycharm": {
     "name": "#%%\n"
    }
   }
  },
  {
   "cell_type": "code",
   "execution_count": 34,
   "outputs": [
    {
     "name": "stderr",
     "output_type": "stream",
     "text": [
      "/Users/mbornhol/miniconda3/envs/cyto_eval/lib/python3.7/site-packages/IPython/core/interactiveshell.py:3166: DtypeWarning: Columns (8,9,16,17,18,20,21,22,23,24) have mixed types.Specify dtype option on import or set low_memory=False.\n",
      "  interactivity=interactivity, compiler=compiler, result=result)\n"
     ]
    }
   ],
   "source": [
    "# Get Batch data\n",
    "batch = pd.read_csv('/Users/mbornhol/git/neural-profiling/baseline/01_data/level_3_data/sub_level3.csv')\n",
    "b = batch[['Metadata_Batch_Number', 'Metadata_Plate', 'Metadata_Well']]\n",
    "df = pd.merge(df, b, on=['Metadata_Plate', 'Metadata_Well'], validate='many_to_one')"
   ],
   "metadata": {
    "collapsed": false,
    "pycharm": {
     "name": "#%%\n"
    }
   }
  },
  {
   "cell_type": "code",
   "execution_count": 35,
   "outputs": [],
   "source": [
    "ls = {}\n",
    "for c in df.Metadata_broad_sample.unique():\n",
    "    v = df[(df['Metadata_broad_sample'] == c)].Metadata_Batch_Number.value_counts().idxmax()\n",
    "    w = df[(df['Metadata_broad_sample'] == c) & (df['Metadata_Batch_Number'] == v)].Treatment_Replicate.unique()[:2]\n",
    "    ls[c] = [v,w]"
   ],
   "metadata": {
    "collapsed": false,
    "pycharm": {
     "name": "#%%\n"
    }
   }
  },
  {
   "cell_type": "code",
   "execution_count": 36,
   "outputs": [],
   "source": [
    "for m in ls:\n",
    "    df.loc[(df.Metadata_broad_sample == m) & (df.Treatment_Replicate.isin(ls[m][1])),'Split']='Unused'\n",
    "df.loc[(df.Metadata_Site == 5) & (df.Split == 'Unused'),'Split']='Test'"
   ],
   "metadata": {
    "collapsed": false,
    "pycharm": {
     "name": "#%%\n"
    }
   }
  },
  {
   "cell_type": "code",
   "execution_count": 37,
   "outputs": [],
   "source": [
    "test_plates = df[df['Split'] == 'Unused'].Metadata_Plate.unique()\n",
    "df.loc[(df.Compound == 'DMSO') & (df.Metadata_Plate.isin(test_plates)),'Split']='Unused'\n",
    "df.loc[(df.Compound == 'DMSO') & (df.Split == 'Unused') & (df.Treatment_Replicate % 399 == 0),'Split']='Test'\n"
   ],
   "metadata": {
    "collapsed": false,
    "pycharm": {
     "name": "#%%\n"
    }
   }
  },
  {
   "cell_type": "code",
   "execution_count": 38,
   "outputs": [
    {
     "data": {
      "text/plain": "DMSO                      45\nBRD-K26341917-001-01-3     2\nBRD-K81916719-001-13-9     2\nBRD-A48430263-003-17-2     2\nBRD-K88544581-001-06-1     2\n                          ..\nBRD-K97729603-001-01-2     2\nBRD-K81694556-003-01-9     2\nBRD-K33882852-003-02-8     2\nBRD-K07857022-002-01-1     2\nBRD-K20897876-001-10-0     2\nName: Compound, Length: 507, dtype: int64"
     },
     "execution_count": 38,
     "metadata": {},
     "output_type": "execute_result"
    }
   ],
   "source": [
    "\n",
    "df[df['Split'] == 'Test'].Compound.value_counts()"
   ],
   "metadata": {
    "collapsed": false,
    "pycharm": {
     "name": "#%%\n"
    }
   }
  },
  {
   "cell_type": "code",
   "execution_count": 39,
   "outputs": [
    {
     "data": {
      "text/plain": "DMSO                      17928\nBRD-K69776681-001-03-8       27\nBRD-K89402695-001-02-3       27\nBRD-A61793559-001-15-6       27\nBRD-K81916719-001-13-9       27\n                          ...  \nBRD-A30984645-001-01-5       27\nBRD-A29623586-001-01-3       27\nBRD-K08586861-001-01-1       27\nBRD-K70358946-001-15-7       27\nBRD-A29520968-001-02-7       27\nName: Compound, Length: 507, dtype: int64"
     },
     "execution_count": 39,
     "metadata": {},
     "output_type": "execute_result"
    }
   ],
   "source": [
    "df[df['Split'] == 'Training'].Compound.value_counts()"
   ],
   "metadata": {
    "collapsed": false,
    "pycharm": {
     "name": "#%%\n"
    }
   }
  },
  {
   "cell_type": "code",
   "execution_count": 40,
   "outputs": [
    {
     "data": {
      "text/plain": "DMSO                      11295\nBRD-K26341917-001-01-3       16\nBRD-K25361343-001-01-6       16\nBRD-K13356952-001-25-1       16\nBRD-K51747290-001-13-1       16\n                          ...  \nBRD-K55781385-001-01-7       16\nBRD-A12230535-001-06-7       16\nBRD-K50398167-236-22-7       16\nBRD-A26384407-001-25-1       16\nBRD-K18157228-001-01-7       15\nName: Compound, Length: 507, dtype: int64"
     },
     "execution_count": 40,
     "metadata": {},
     "output_type": "execute_result"
    }
   ],
   "source": [
    "df[df['Split'] == 'Unused'].Compound.value_counts()"
   ],
   "metadata": {
    "collapsed": false,
    "pycharm": {
     "name": "#%%\n"
    }
   }
  },
  {
   "cell_type": "code",
   "execution_count": 41,
   "outputs": [],
   "source": [
    "df.to_csv('823_index.csv', index=False)"
   ],
   "metadata": {
    "collapsed": false,
    "pycharm": {
     "name": "#%%\n"
    }
   }
  },
  {
   "cell_type": "markdown",
   "source": [
    "----------"
   ],
   "metadata": {
    "collapsed": false,
    "pycharm": {
     "name": "#%% md\n"
    }
   }
  },
  {
   "cell_type": "code",
   "execution_count": 3,
   "outputs": [],
   "source": [
    "\n",
    "# And heres the next one! Now I am gonna use allllll of them!\n",
    "df = pd.read_csv('sub_index.csv')"
   ],
   "metadata": {
    "collapsed": false,
    "pycharm": {
     "name": "#%%\n"
    }
   }
  },
  {
   "cell_type": "code",
   "execution_count": 4,
   "outputs": [],
   "source": [
    "# delete all Compounds that do not have 5 replicates\n",
    "full_reps = df[df.Treatment_Replicate == 5].Compound.unique()\n",
    "df = df[df[\"Compound\"].isin(full_reps)]"
   ],
   "metadata": {
    "collapsed": false,
    "pycharm": {
     "name": "#%%\n"
    }
   }
  },
  {
   "cell_type": "code",
   "execution_count": 5,
   "outputs": [],
   "source": [
    "df['Split'] = 'Training'"
   ],
   "metadata": {
    "collapsed": false,
    "pycharm": {
     "name": "#%%\n"
    }
   }
  },
  {
   "cell_type": "code",
   "execution_count": 6,
   "outputs": [
    {
     "name": "stderr",
     "output_type": "stream",
     "text": [
      "/Users/mbornhol/miniconda3/envs/cyto_eval/lib/python3.7/site-packages/IPython/core/interactiveshell.py:3166: DtypeWarning: Columns (8,9,16,17,18,20,21,22,23,24) have mixed types.Specify dtype option on import or set low_memory=False.\n",
      "  interactivity=interactivity, compiler=compiler, result=result)\n"
     ]
    }
   ],
   "source": [
    "# Get Batch data\n",
    "batch = pd.read_csv('/Users/mbornhol/git/neural-profiling/baseline/01_data/level_3_data/sub_level3.csv')\n",
    "b = batch[['Metadata_Batch_Number', 'Metadata_Plate', 'Metadata_Well']]\n",
    "df = pd.merge(df, b, on=['Metadata_Plate', 'Metadata_Well'], validate='many_to_one')"
   ],
   "metadata": {
    "collapsed": false,
    "pycharm": {
     "name": "#%%\n"
    }
   }
  },
  {
   "cell_type": "code",
   "execution_count": 7,
   "outputs": [],
   "source": [
    "ls = {}\n",
    "for c in df.Metadata_broad_sample.unique():\n",
    "    v = df[(df['Metadata_broad_sample'] == c)].Metadata_Batch_Number.value_counts().idxmax()\n",
    "    w = df[(df['Metadata_broad_sample'] == c) & (df['Metadata_Batch_Number'] == v)].Treatment_Replicate.unique()[:2]\n",
    "    ls[c] = [v,w]"
   ],
   "metadata": {
    "collapsed": false,
    "pycharm": {
     "name": "#%%\n"
    }
   }
  },
  {
   "cell_type": "code",
   "execution_count": 8,
   "outputs": [],
   "source": [
    "for m in ls:\n",
    "    df.loc[(df.Metadata_broad_sample == m) & (df.Treatment_Replicate.isin(ls[m][1])),'Split']='Unused'"
   ],
   "metadata": {
    "collapsed": false,
    "pycharm": {
     "name": "#%%\n"
    }
   }
  },
  {
   "cell_type": "code",
   "execution_count": 9,
   "outputs": [],
   "source": [
    "df.loc[(df.Metadata_Site == 5) & (df.Split == 'Unused'),'Split']='Test'"
   ],
   "metadata": {
    "collapsed": false,
    "pycharm": {
     "name": "#%%\n"
    }
   }
  },
  {
   "cell_type": "code",
   "execution_count": 11,
   "outputs": [],
   "source": [
    "test_plates = df[df['Split'] == 'Unused'].Metadata_Plate.unique()\n",
    "df.loc[(df.Compound == 'DMSO') & (df.Metadata_Plate.isin(test_plates)),'Split']='Unused'\n",
    "df.loc[(df.Compound == 'DMSO') & (df.Split == 'Unused') & (df.Treatment_Replicate % 599 == 0),'Split']='Test'\n"
   ],
   "metadata": {
    "collapsed": false,
    "pycharm": {
     "name": "#%%\n"
    }
   }
  },
  {
   "cell_type": "code",
   "execution_count": 12,
   "outputs": [
    {
     "data": {
      "text/plain": "DMSO                      36\nBRD-A65280694-003-13-7     2\nBRD-K53765467-001-02-1     2\nBRD-K53061490-003-13-9     2\nBRD-K72922393-003-15-2     2\n                          ..\nBRD-A20126139-001-04-2     2\nBRD-K72414522-001-06-7     2\nBRD-A50764878-003-02-8     2\nBRD-K86882815-001-03-2     2\nBRD-K81258678-001-01-0     1\nName: Compound, Length: 1018, dtype: int64"
     },
     "execution_count": 12,
     "metadata": {},
     "output_type": "execute_result"
    }
   ],
   "source": [
    "\n",
    "df[df['Split'] == 'Test'].Compound.value_counts()"
   ],
   "metadata": {
    "collapsed": false,
    "pycharm": {
     "name": "#%%\n"
    }
   }
  },
  {
   "cell_type": "code",
   "execution_count": 13,
   "outputs": [
    {
     "data": {
      "text/plain": "DMSO                      17928\nBRD-A65280694-003-13-7       27\nBRD-K76617868-003-11-9       27\nBRD-K34008116-001-01-7       27\nBRD-K62200014-003-10-5       27\n                          ...  \nBRD-A73368467-003-17-6       27\nBRD-K82603084-408-01-1       27\nBRD-K96862998-001-15-5       27\nBRD-K60341624-001-02-2       27\nBRD-K11433652-001-17-0       26\nName: Compound, Length: 1018, dtype: int64"
     },
     "execution_count": 13,
     "metadata": {},
     "output_type": "execute_result"
    }
   ],
   "source": [
    "df[df['Split'] == 'Training'].Compound.value_counts()"
   ],
   "metadata": {
    "collapsed": false,
    "pycharm": {
     "name": "#%%\n"
    }
   }
  },
  {
   "cell_type": "code",
   "execution_count": 14,
   "outputs": [
    {
     "data": {
      "text/plain": "DMSO                      11304\nBRD-K91825936-001-01-2       16\nBRD-K61693562-300-01-7       16\nBRD-K78659596-001-03-9       16\nBRD-K68693535-001-03-4       16\n                          ...  \nBRD-K06557128-001-07-0       16\nBRD-K22024824-001-03-7       16\nBRD-K19352500-070-12-4       16\nBRD-K18157228-001-01-7       15\nBRD-K81258678-001-01-0       10\nName: Compound, Length: 1018, dtype: int64"
     },
     "execution_count": 14,
     "metadata": {},
     "output_type": "execute_result"
    }
   ],
   "source": [
    "df[df['Split'] == 'Unused'].Compound.value_counts()"
   ],
   "metadata": {
    "collapsed": false,
    "pycharm": {
     "name": "#%%\n"
    }
   }
  },
  {
   "cell_type": "code",
   "execution_count": 16,
   "outputs": [],
   "source": [
    "df.to_csv('826_index.csv', index=False)"
   ],
   "metadata": {
    "collapsed": false,
    "pycharm": {
     "name": "#%%\n"
    }
   }
  },
  {
   "cell_type": "code",
   "execution_count": 15,
   "outputs": [
    {
     "data": {
      "text/plain": "      Metadata_Plate Metadata_Well  Metadata_Site   Metadata_broad_sample  \\\n67153     SQ00015142           P07              5  BRD-A65280694-003-13-7   \n67162     SQ00015143           P07              5  BRD-A65280694-003-13-7   \n\n                       Metadata_moa  Metadata_mmoles_per_liter  \\\n67153  dopamine receptor antagonist                       10.0   \n67162  dopamine receptor antagonist                       10.0   \n\n       Metadata_dose_recode                                       RNA  \\\n67153                     6  SQ00015142/r16c07f05p01-ch3sk1fk1fl1.png   \n67162                     6  SQ00015143/r16c07f05p01-ch3sk1fk1fl1.png   \n\n                                             ER  \\\n67153  SQ00015142/r16c07f05p01-ch2sk1fk1fl1.png   \n67162  SQ00015143/r16c07f05p01-ch2sk1fk1fl1.png   \n\n                                            AGP  ...  \\\n67153  SQ00015142/r16c07f05p01-ch4sk1fk1fl1.png  ...   \n67162  SQ00015143/r16c07f05p01-ch4sk1fk1fl1.png  ...   \n\n                                            DNA Concentration  Treatment_ID  \\\n67153  SQ00015142/r16c07f05p01-ch1sk1fk1fl1.png          10.0          5698   \n67162  SQ00015143/r16c07f05p01-ch1sk1fk1fl1.png          10.0          5698   \n\n                     Compound pert_iname Treatment_Replicate  \\\n67153  BRD-A65280694-003-13-7  molindone                   1   \n67162  BRD-A65280694-003-13-7  molindone                   2   \n\n                                        Treatment     Plate_Map_Name Split  \\\n67153  BRD-A65280694-003-13-7@9.99999999999999999  C-7161-01-LM6-017  Test   \n67162  BRD-A65280694-003-13-7@9.99999999999999999  C-7161-01-LM6-017  Test   \n\n      Metadata_Batch_Number  \n67153                     5  \n67162                     5  \n\n[2 rows x 21 columns]",
      "text/html": "<div>\n<style scoped>\n    .dataframe tbody tr th:only-of-type {\n        vertical-align: middle;\n    }\n\n    .dataframe tbody tr th {\n        vertical-align: top;\n    }\n\n    .dataframe thead th {\n        text-align: right;\n    }\n</style>\n<table border=\"1\" class=\"dataframe\">\n  <thead>\n    <tr style=\"text-align: right;\">\n      <th></th>\n      <th>Metadata_Plate</th>\n      <th>Metadata_Well</th>\n      <th>Metadata_Site</th>\n      <th>Metadata_broad_sample</th>\n      <th>Metadata_moa</th>\n      <th>Metadata_mmoles_per_liter</th>\n      <th>Metadata_dose_recode</th>\n      <th>RNA</th>\n      <th>ER</th>\n      <th>AGP</th>\n      <th>...</th>\n      <th>DNA</th>\n      <th>Concentration</th>\n      <th>Treatment_ID</th>\n      <th>Compound</th>\n      <th>pert_iname</th>\n      <th>Treatment_Replicate</th>\n      <th>Treatment</th>\n      <th>Plate_Map_Name</th>\n      <th>Split</th>\n      <th>Metadata_Batch_Number</th>\n    </tr>\n  </thead>\n  <tbody>\n    <tr>\n      <th>67153</th>\n      <td>SQ00015142</td>\n      <td>P07</td>\n      <td>5</td>\n      <td>BRD-A65280694-003-13-7</td>\n      <td>dopamine receptor antagonist</td>\n      <td>10.0</td>\n      <td>6</td>\n      <td>SQ00015142/r16c07f05p01-ch3sk1fk1fl1.png</td>\n      <td>SQ00015142/r16c07f05p01-ch2sk1fk1fl1.png</td>\n      <td>SQ00015142/r16c07f05p01-ch4sk1fk1fl1.png</td>\n      <td>...</td>\n      <td>SQ00015142/r16c07f05p01-ch1sk1fk1fl1.png</td>\n      <td>10.0</td>\n      <td>5698</td>\n      <td>BRD-A65280694-003-13-7</td>\n      <td>molindone</td>\n      <td>1</td>\n      <td>BRD-A65280694-003-13-7@9.99999999999999999</td>\n      <td>C-7161-01-LM6-017</td>\n      <td>Test</td>\n      <td>5</td>\n    </tr>\n    <tr>\n      <th>67162</th>\n      <td>SQ00015143</td>\n      <td>P07</td>\n      <td>5</td>\n      <td>BRD-A65280694-003-13-7</td>\n      <td>dopamine receptor antagonist</td>\n      <td>10.0</td>\n      <td>6</td>\n      <td>SQ00015143/r16c07f05p01-ch3sk1fk1fl1.png</td>\n      <td>SQ00015143/r16c07f05p01-ch2sk1fk1fl1.png</td>\n      <td>SQ00015143/r16c07f05p01-ch4sk1fk1fl1.png</td>\n      <td>...</td>\n      <td>SQ00015143/r16c07f05p01-ch1sk1fk1fl1.png</td>\n      <td>10.0</td>\n      <td>5698</td>\n      <td>BRD-A65280694-003-13-7</td>\n      <td>molindone</td>\n      <td>2</td>\n      <td>BRD-A65280694-003-13-7@9.99999999999999999</td>\n      <td>C-7161-01-LM6-017</td>\n      <td>Test</td>\n      <td>5</td>\n    </tr>\n  </tbody>\n</table>\n<p>2 rows × 21 columns</p>\n</div>"
     },
     "execution_count": 15,
     "metadata": {},
     "output_type": "execute_result"
    }
   ],
   "source": [],
   "metadata": {
    "collapsed": false,
    "pycharm": {
     "name": "#%%\n"
    }
   }
  },
  {
   "cell_type": "code",
   "execution_count": 6,
   "outputs": [
    {
     "data": {
      "text/plain": "28"
     },
     "execution_count": 6,
     "metadata": {},
     "output_type": "execute_result"
    }
   ],
   "source": [
    "len(df.Plate_Map_Name.unique())"
   ],
   "metadata": {
    "collapsed": false,
    "pycharm": {
     "name": "#%%\n"
    }
   }
  },
  {
   "cell_type": "code",
   "execution_count": 7,
   "outputs": [
    {
     "data": {
      "text/plain": "140"
     },
     "execution_count": 7,
     "metadata": {},
     "output_type": "execute_result"
    }
   ],
   "source": [
    "28 * 5"
   ],
   "metadata": {
    "collapsed": false,
    "pycharm": {
     "name": "#%%\n"
    }
   }
  },
  {
   "cell_type": "markdown",
   "source": [
    "Record the number of cells in test and train!\n",
    "\n"
   ],
   "metadata": {
    "collapsed": false,
    "pycharm": {
     "name": "#%% md\n"
    }
   }
  },
  {
   "cell_type": "code",
   "execution_count": 6,
   "outputs": [],
   "source": [
    "count = pd.read_csv('/Users/mbornhol/git/neural-profiling/baseline/results/cell_count.csv')\n",
    "df812 = pd.read_csv('812_index.csv')\n",
    "df817 = pd.read_csv('817_index.csv')\n",
    "df826 = pd.read_csv('826_index.csv')\n",
    "\n",
    "\n"
   ],
   "metadata": {
    "collapsed": false,
    "pycharm": {
     "name": "#%%\n"
    }
   }
  },
  {
   "cell_type": "code",
   "execution_count": 7,
   "outputs": [],
   "source": [
    "df812 = df812[df812['Split'] == 'Training'].drop_duplicates(['Metadata_Plate', 'Metadata_Well'])\n",
    "df812 = pd.merge(df812, count, on=['Metadata_Plate', 'Metadata_Well'])"
   ],
   "metadata": {
    "collapsed": false,
    "pycharm": {
     "name": "#%%\n"
    }
   }
  },
  {
   "cell_type": "code",
   "execution_count": 8,
   "outputs": [
    {
     "data": {
      "text/plain": "7594539"
     },
     "execution_count": 8,
     "metadata": {},
     "output_type": "execute_result"
    }
   ],
   "source": [
    "df812['cell_count'].sum()\n"
   ],
   "metadata": {
    "collapsed": false,
    "pycharm": {
     "name": "#%%\n"
    }
   }
  },
  {
   "cell_type": "code",
   "execution_count": 9,
   "outputs": [
    {
     "data": {
      "text/plain": "5.2091067160058575"
     },
     "execution_count": 9,
     "metadata": {},
     "output_type": "execute_result"
    }
   ],
   "source": [
    "7594539 / 1457935\n"
   ],
   "metadata": {
    "collapsed": false,
    "pycharm": {
     "name": "#%%\n"
    }
   }
  },
  {
   "cell_type": "markdown",
   "source": [
    "Try and find the phenotype list of Wells."
   ],
   "metadata": {
    "collapsed": false,
    "pycharm": {
     "name": "#%% md\n"
    }
   }
  },
  {
   "cell_type": "code",
   "execution_count": 3,
   "outputs": [],
   "source": [
    "from pycytominer import aggregate, annotate, normalize, feature_select, cyto_utils\n",
    "from sklearn.decomposition import PCA"
   ],
   "metadata": {
    "collapsed": false,
    "pycharm": {
     "name": "#%%\n"
    }
   }
  },
  {
   "cell_type": "code",
   "execution_count": 4,
   "outputs": [],
   "source": [
    "df = pd.read_csv('/Users/mbornhol/git/neural-profiling/pre-trained/efficient_net/aggregated/aggregated_efficientnet_median.csv', low_memory=False)\n",
    "meta = pd.read_csv('/Users/mbornhol/git/neural-profiling/pre-trained/data-prep/02_index_preperation/repurposing_info_external_moa_map_resolved.tsv', sep='\\t')\n",
    "meta = meta[['broad_sample', 'moa']]\n",
    "meta.rename(columns = {'broad_sample' : 'Metadata_broad_sample', 'moa' : 'Metadata_moa'}, inplace=True)\n",
    "features = [f for f in df.columns if f.startswith('eff')]"
   ],
   "metadata": {
    "collapsed": false,
    "pycharm": {
     "name": "#%%\n"
    }
   }
  },
  {
   "cell_type": "code",
   "execution_count": 6,
   "outputs": [
    {
     "name": "stdout",
     "output_type": "stream",
     "text": [
      "6400 features were identified\n"
     ]
    }
   ],
   "source": [
    "sys.path.insert(0, \"/Users/mbornhol/git/neural-profiling\")\n",
    "from utils import data_selection as ds\n",
    "from utils import eval\n",
    "e = eval.evaluation(df)\n",
    "con = e.norm_agg()"
   ],
   "metadata": {
    "collapsed": false,
    "pycharm": {
     "name": "#%%\n"
    }
   }
  },
  {
   "cell_type": "code",
   "execution_count": 7,
   "outputs": [
    {
     "data": {
      "text/plain": "Metadata_broad_sample        DMSO\nefficientnet_0          -0.018824\nefficientnet_1           0.018892\nefficientnet_2          -0.027280\nefficientnet_3           0.002484\n                           ...   \nefficientnet_6396        0.004801\nefficientnet_6397       -0.000365\nefficientnet_6398       -0.006827\nefficientnet_6399       -0.001912\nMetadata_moa                  NaN\nName: 1143, Length: 6402, dtype: object"
     },
     "execution_count": 7,
     "metadata": {},
     "output_type": "execute_result"
    }
   ],
   "source": [
    "dmso = con.loc[1143]\n",
    "con.loc[1143]"
   ],
   "metadata": {
    "collapsed": false,
    "pycharm": {
     "name": "#%%\n"
    }
   }
  },
  {
   "cell_type": "code",
   "execution_count": 8,
   "outputs": [],
   "source": [
    "for i in range(len(con)):\n",
    "    con.loc[i, 'distance_dmso'] = np.linalg.norm(dmso[features] - con.loc[i, features])\n",
    "sort = con.sort_values(['distance_dmso'], ascending=False)"
   ],
   "metadata": {
    "collapsed": false,
    "pycharm": {
     "name": "#%%\n"
    }
   }
  },
  {
   "cell_type": "code",
   "execution_count": 9,
   "outputs": [
    {
     "data": {
      "text/plain": "(array([987.,  63.,  58.,  21.,   9.,   2.,   2.,   0.,   1.,   1.]),\n array([     0.        ,  26344.56612074,  52689.13224149,  79033.69836223,\n        105378.26448298, 131722.83060372, 158067.39672446, 184411.96284521,\n        210756.52896595, 237101.0950867 , 263445.66120744]),\n <BarContainer object of 10 artists>)"
     },
     "execution_count": 9,
     "metadata": {},
     "output_type": "execute_result"
    },
    {
     "data": {
      "text/plain": "<Figure size 432x288 with 1 Axes>",
      "image/png": "[encoded data removed]"
     },
     "metadata": {},
     "output_type": "display_data"
    }
   ],
   "source": [
    "plt.style.use({'figure.facecolor':'white'})\n",
    "plt.hist(sort.distance_dmso.values.tolist())"
   ],
   "metadata": {
    "collapsed": false,
    "pycharm": {
     "name": "#%%\n"
    }
   }
  },
  {
   "cell_type": "code",
   "execution_count": 64,
   "outputs": [],
   "source": [
    "for i in range(len(con)-1):\n",
    "    con.loc[i, 'distance_dmso'] = np.corrcoef(dmso[features].tolist() , con.loc[i, features].tolist())[0,1]\n",
    "sort = con.sort_values(['distance_dmso'], ascending=False)"
   ],
   "metadata": {
    "collapsed": false,
    "pycharm": {
     "name": "#%%\n"
    }
   }
  },
  {
   "cell_type": "code",
   "execution_count": 67,
   "outputs": [
    {
     "data": {
      "text/plain": "(array([ 16.,  41., 111., 203., 256., 268., 157.,  75.,  14.,   2.]),\n array([-0.04065181, -0.03272546, -0.02479912, -0.01687277, -0.00894642,\n        -0.00102007,  0.00690628,  0.01483263,  0.02275898,  0.03068532,\n         0.03861167]),\n <BarContainer object of 10 artists>)"
     },
     "execution_count": 67,
     "metadata": {},
     "output_type": "execute_result"
    },
    {
     "data": {
      "text/plain": "<Figure size 432x288 with 1 Axes>",
      "image/png": "[encoded data removed]"
     },
     "metadata": {},
     "output_type": "display_data"
    }
   ],
   "source": [
    "sort = sort[sort[\"Metadata_broad_sample\"] != \"DMSO\"]\n",
    "plt.style.use({'figure.facecolor':'white'})\n",
    "plt.hist(sort.distance_dmso.values.tolist())"
   ],
   "metadata": {
    "collapsed": false,
    "pycharm": {
     "name": "#%%\n"
    }
   }
  },
  {
   "cell_type": "code",
   "execution_count": 65,
   "outputs": [
    {
     "data": {
      "text/plain": "       Metadata_broad_sample  efficientnet_0  efficientnet_1  efficientnet_2  \\\n1143                    DMSO       -0.018824        0.018892       -0.027280   \n518   BRD-K31812033-003-11-0       -5.223015       45.562323        4.777726   \n367   BRD-K14704277-001-22-6     -104.377842      -38.513612        2.127576   \n265   BRD-K01824921-001-18-5       -1.969900       13.381093       79.992924   \n937   BRD-K76197012-001-01-2       56.539171       58.200142      -38.423160   \n...                      ...             ...             ...             ...   \n1021  BRD-K85606544-001-09-1      251.400375     -166.396772      440.055979   \n706   BRD-K53414658-001-08-2      499.573100     -431.651727     -283.690759   \n861   BRD-K68747584-001-02-0      266.253214     -941.609070      276.810618   \n904   BRD-K72827473-001-01-0      442.287970      -18.008066      954.057750   \n300   BRD-K06240250-001-01-6     -136.380767     -139.713936      402.317888   \n\n      efficientnet_3  efficientnet_4  efficientnet_5  efficientnet_6  \\\n1143        0.002484       -0.002607       -0.009066        0.013069   \n518       -23.166484        1.996217        0.920611      -25.182429   \n367        37.799348      -20.393297       45.252332      -10.661068   \n265       -64.620488      -44.522137      -58.665050      -17.343213   \n937        34.903015       33.233159        3.414745       -1.385276   \n...              ...             ...             ...             ...   \n1021      215.755536     -170.274975     -113.674122      -89.947298   \n706       218.032807      243.240429      841.750522       -1.249569   \n861      -242.744033     -240.815739     1033.522252        8.980261   \n904        -9.042734      -92.554985     -278.400504       22.681102   \n300       259.028056      273.903855       -5.943029     -176.678155   \n\n      efficientnet_7  efficientnet_8  ...  efficientnet_6395  \\\n1143       -0.004557       -0.012823  ...          -0.006132   \n518        59.515820      -23.882863  ...         -19.346303   \n367         0.246252       70.878227  ...         -10.721119   \n265        -7.701686        1.569178  ...          16.099878   \n937       -81.066298      -37.424564  ...           3.588962   \n...              ...             ...  ...                ...   \n1021      155.717423      286.381218  ...         301.312136   \n706        -0.137796       29.129656  ...           7.732224   \n861      -173.653021      975.398644  ...         442.800857   \n904      -223.149774       51.818260  ...         310.391522   \n300      -182.448850       11.249140  ...         309.758201   \n\n      efficientnet_6396  efficientnet_6397  efficientnet_6398  \\\n1143           0.004801          -0.000365          -0.006827   \n518            7.372222          59.694224         -44.271514   \n367          -20.008059          20.574189          -4.978382   \n265           70.584631         -74.906616          23.304795   \n937           35.193398          39.296102         -13.051459   \n...                 ...                ...                ...   \n1021        -175.864622         -38.586467        -120.129012   \n706          263.129503        -721.966226         456.822501   \n861         -636.671897        -401.998016        -366.271776   \n904          -57.562291         225.860179          46.739303   \n300           31.647518        -293.357231         314.899500   \n\n      efficientnet_6399                                    Metadata_moa  \\\n1143          -0.001912                                             NaN   \n518           27.400883                  adrenergic receptor antagonist   \n367           21.259058                         topoisomerase inhibitor   \n265          -70.974579                   adenosine receptor antagonist   \n937           14.084219                progesterone receptor antagonist   \n...                 ...                                             ...   \n1021          94.012171                                  EGFR inhibitor   \n706          109.706530                                 VEGFR inhibitor   \n861         -219.427873                         Aurora kinase inhibitor   \n904           96.207913          ALK tyrosine kinase receptor inhibitor   \n300           11.128443  non-nucleoside reverse transcriptase inhibitor   \n\n      distance_dmso      pca-one       pca-two  color  \n1143       1.000000 -3042.309943  -1977.274032    0.2  \n518        0.038612 -3114.261644  -2009.301728    1.0  \n367        0.033255 -3007.690971  -2023.920635    1.0  \n265        0.028679 -3023.564234  -1921.205744    1.0  \n937        0.027947 -3024.602302  -1944.411026    1.0  \n...             ...          ...           ...    ...  \n1021      -0.038369 -1440.041725   5787.147980    1.0  \n706       -0.039181  -666.844214  16770.359484    1.0  \n861       -0.039209  2133.046282  14274.812932    1.0  \n904       -0.039667 -2875.569874  10820.489109    1.0  \n300       -0.040652 -4351.201675   4311.791125    1.0  \n\n[1144 rows x 6406 columns]",
      "text/html": "<div>\n<style scoped>\n    .dataframe tbody tr th:only-of-type {\n        vertical-align: middle;\n    }\n\n    .dataframe tbody tr th {\n        vertical-align: top;\n    }\n\n    .dataframe thead th {\n        text-align: right;\n    }\n</style>\n<table border=\"1\" class=\"dataframe\">\n  <thead>\n    <tr style=\"text-align: right;\">\n      <th></th>\n      <th>Metadata_broad_sample</th>\n      <th>efficientnet_0</th>\n      <th>efficientnet_1</th>\n      <th>efficientnet_2</th>\n      <th>efficientnet_3</th>\n      <th>efficientnet_4</th>\n      <th>efficientnet_5</th>\n      <th>efficientnet_6</th>\n      <th>efficientnet_7</th>\n      <th>efficientnet_8</th>\n      <th>...</th>\n      <th>efficientnet_6395</th>\n      <th>efficientnet_6396</th>\n      <th>efficientnet_6397</th>\n      <th>efficientnet_6398</th>\n      <th>efficientnet_6399</th>\n      <th>Metadata_moa</th>\n      <th>distance_dmso</th>\n      <th>pca-one</th>\n      <th>pca-two</th>\n      <th>color</th>\n    </tr>\n  </thead>\n  <tbody>\n    <tr>\n      <th>1143</th>\n      <td>DMSO</td>\n      <td>-0.018824</td>\n      <td>0.018892</td>\n      <td>-0.027280</td>\n      <td>0.002484</td>\n      <td>-0.002607</td>\n      <td>-0.009066</td>\n      <td>0.013069</td>\n      <td>-0.004557</td>\n      <td>-0.012823</td>\n      <td>...</td>\n      <td>-0.006132</td>\n      <td>0.004801</td>\n      <td>-0.000365</td>\n      <td>-0.006827</td>\n      <td>-0.001912</td>\n      <td>NaN</td>\n      <td>1.000000</td>\n      <td>-3042.309943</td>\n      <td>-1977.274032</td>\n      <td>0.2</td>\n    </tr>\n    <tr>\n      <th>518</th>\n      <td>BRD-K31812033-003-11-0</td>\n      <td>-5.223015</td>\n      <td>45.562323</td>\n      <td>4.777726</td>\n      <td>-23.166484</td>\n      <td>1.996217</td>\n      <td>0.920611</td>\n      <td>-25.182429</td>\n      <td>59.515820</td>\n      <td>-23.882863</td>\n      <td>...</td>\n      <td>-19.346303</td>\n      <td>7.372222</td>\n      <td>59.694224</td>\n      <td>-44.271514</td>\n      <td>27.400883</td>\n      <td>adrenergic receptor antagonist</td>\n      <td>0.038612</td>\n      <td>-3114.261644</td>\n      <td>-2009.301728</td>\n      <td>1.0</td>\n    </tr>\n    <tr>\n      <th>367</th>\n      <td>BRD-K14704277-001-22-6</td>\n      <td>-104.377842</td>\n      <td>-38.513612</td>\n      <td>2.127576</td>\n      <td>37.799348</td>\n      <td>-20.393297</td>\n      <td>45.252332</td>\n      <td>-10.661068</td>\n      <td>0.246252</td>\n      <td>70.878227</td>\n      <td>...</td>\n      <td>-10.721119</td>\n      <td>-20.008059</td>\n      <td>20.574189</td>\n      <td>-4.978382</td>\n      <td>21.259058</td>\n      <td>topoisomerase inhibitor</td>\n      <td>0.033255</td>\n      <td>-3007.690971</td>\n      <td>-2023.920635</td>\n      <td>1.0</td>\n    </tr>\n    <tr>\n      <th>265</th>\n      <td>BRD-K01824921-001-18-5</td>\n      <td>-1.969900</td>\n      <td>13.381093</td>\n      <td>79.992924</td>\n      <td>-64.620488</td>\n      <td>-44.522137</td>\n      <td>-58.665050</td>\n      <td>-17.343213</td>\n      <td>-7.701686</td>\n      <td>1.569178</td>\n      <td>...</td>\n      <td>16.099878</td>\n      <td>70.584631</td>\n      <td>-74.906616</td>\n      <td>23.304795</td>\n      <td>-70.974579</td>\n      <td>adenosine receptor antagonist</td>\n      <td>0.028679</td>\n      <td>-3023.564234</td>\n      <td>-1921.205744</td>\n      <td>1.0</td>\n    </tr>\n    <tr>\n      <th>937</th>\n      <td>BRD-K76197012-001-01-2</td>\n      <td>56.539171</td>\n      <td>58.200142</td>\n      <td>-38.423160</td>\n      <td>34.903015</td>\n      <td>33.233159</td>\n      <td>3.414745</td>\n      <td>-1.385276</td>\n      <td>-81.066298</td>\n      <td>-37.424564</td>\n      <td>...</td>\n      <td>3.588962</td>\n      <td>35.193398</td>\n      <td>39.296102</td>\n      <td>-13.051459</td>\n      <td>14.084219</td>\n      <td>progesterone receptor antagonist</td>\n      <td>0.027947</td>\n      <td>-3024.602302</td>\n      <td>-1944.411026</td>\n      <td>1.0</td>\n    </tr>\n    <tr>\n      <th>...</th>\n      <td>...</td>\n      <td>...</td>\n      <td>...</td>\n      <td>...</td>\n      <td>...</td>\n      <td>...</td>\n      <td>...</td>\n      <td>...</td>\n      <td>...</td>\n      <td>...</td>\n      <td>...</td>\n      <td>...</td>\n      <td>...</td>\n      <td>...</td>\n      <td>...</td>\n      <td>...</td>\n      <td>...</td>\n      <td>...</td>\n      <td>...</td>\n      <td>...</td>\n      <td>...</td>\n    </tr>\n    <tr>\n      <th>1021</th>\n      <td>BRD-K85606544-001-09-1</td>\n      <td>251.400375</td>\n      <td>-166.396772</td>\n      <td>440.055979</td>\n      <td>215.755536</td>\n      <td>-170.274975</td>\n      <td>-113.674122</td>\n      <td>-89.947298</td>\n      <td>155.717423</td>\n      <td>286.381218</td>\n      <td>...</td>\n      <td>301.312136</td>\n      <td>-175.864622</td>\n      <td>-38.586467</td>\n      <td>-120.129012</td>\n      <td>94.012171</td>\n      <td>EGFR inhibitor</td>\n      <td>-0.038369</td>\n      <td>-1440.041725</td>\n      <td>5787.147980</td>\n      <td>1.0</td>\n    </tr>\n    <tr>\n      <th>706</th>\n      <td>BRD-K53414658-001-08-2</td>\n      <td>499.573100</td>\n      <td>-431.651727</td>\n      <td>-283.690759</td>\n      <td>218.032807</td>\n      <td>243.240429</td>\n      <td>841.750522</td>\n      <td>-1.249569</td>\n      <td>-0.137796</td>\n      <td>29.129656</td>\n      <td>...</td>\n      <td>7.732224</td>\n      <td>263.129503</td>\n      <td>-721.966226</td>\n      <td>456.822501</td>\n      <td>109.706530</td>\n      <td>VEGFR inhibitor</td>\n      <td>-0.039181</td>\n      <td>-666.844214</td>\n      <td>16770.359484</td>\n      <td>1.0</td>\n    </tr>\n    <tr>\n      <th>861</th>\n      <td>BRD-K68747584-001-02-0</td>\n      <td>266.253214</td>\n      <td>-941.609070</td>\n      <td>276.810618</td>\n      <td>-242.744033</td>\n      <td>-240.815739</td>\n      <td>1033.522252</td>\n      <td>8.980261</td>\n      <td>-173.653021</td>\n      <td>975.398644</td>\n      <td>...</td>\n      <td>442.800857</td>\n      <td>-636.671897</td>\n      <td>-401.998016</td>\n      <td>-366.271776</td>\n      <td>-219.427873</td>\n      <td>Aurora kinase inhibitor</td>\n      <td>-0.039209</td>\n      <td>2133.046282</td>\n      <td>14274.812932</td>\n      <td>1.0</td>\n    </tr>\n    <tr>\n      <th>904</th>\n      <td>BRD-K72827473-001-01-0</td>\n      <td>442.287970</td>\n      <td>-18.008066</td>\n      <td>954.057750</td>\n      <td>-9.042734</td>\n      <td>-92.554985</td>\n      <td>-278.400504</td>\n      <td>22.681102</td>\n      <td>-223.149774</td>\n      <td>51.818260</td>\n      <td>...</td>\n      <td>310.391522</td>\n      <td>-57.562291</td>\n      <td>225.860179</td>\n      <td>46.739303</td>\n      <td>96.207913</td>\n      <td>ALK tyrosine kinase receptor inhibitor</td>\n      <td>-0.039667</td>\n      <td>-2875.569874</td>\n      <td>10820.489109</td>\n      <td>1.0</td>\n    </tr>\n    <tr>\n      <th>300</th>\n      <td>BRD-K06240250-001-01-6</td>\n      <td>-136.380767</td>\n      <td>-139.713936</td>\n      <td>402.317888</td>\n      <td>259.028056</td>\n      <td>273.903855</td>\n      <td>-5.943029</td>\n      <td>-176.678155</td>\n      <td>-182.448850</td>\n      <td>11.249140</td>\n      <td>...</td>\n      <td>309.758201</td>\n      <td>31.647518</td>\n      <td>-293.357231</td>\n      <td>314.899500</td>\n      <td>11.128443</td>\n      <td>non-nucleoside reverse transcriptase inhibitor</td>\n      <td>-0.040652</td>\n      <td>-4351.201675</td>\n      <td>4311.791125</td>\n      <td>1.0</td>\n    </tr>\n  </tbody>\n</table>\n<p>1144 rows × 6406 columns</p>\n</div>"
     },
     "execution_count": 65,
     "metadata": {},
     "output_type": "execute_result"
    }
   ],
   "source": [],
   "metadata": {
    "collapsed": false,
    "pycharm": {
     "name": "#%%\n"
    }
   }
  },
  {
   "cell_type": "code",
   "execution_count": null,
   "outputs": [],
   "source": [],
   "metadata": {
    "collapsed": false,
    "pycharm": {
     "name": "#%%\n"
    }
   }
  },
  {
   "cell_type": "code",
   "execution_count": 75,
   "outputs": [
    {
     "data": {
      "text/plain": "489"
     },
     "execution_count": 75,
     "metadata": {},
     "output_type": "execute_result"
    }
   ],
   "source": [
    "s = -0.005\n",
    "sum([1 for i in sort.distance_dmso.values.tolist() if i < s])"
   ],
   "metadata": {
    "collapsed": false,
    "pycharm": {
     "name": "#%%\n"
    }
   }
  },
  {
   "cell_type": "code",
   "execution_count": 79,
   "outputs": [],
   "source": [
    "select = sort[sort['distance_dmso'] < s].Metadata_broad_sample.tolist()"
   ],
   "metadata": {
    "collapsed": false,
    "pycharm": {
     "name": "#%%\n"
    }
   }
  },
  {
   "cell_type": "code",
   "execution_count": 80,
   "outputs": [
    {
     "name": "stdout",
     "output_type": "stream",
     "text": [
      "Explained variation per principal component: [0.22631957 0.14875762]\n"
     ]
    },
    {
     "data": {
      "text/plain": "<Figure size 432x288 with 1 Axes>",
      "image/png": "[encoded data removed]"
     },
     "metadata": {},
     "output_type": "display_data"
    }
   ],
   "source": [
    "def func(row):\n",
    "    if select.count(row.Metadata_broad_sample) == 1:\n",
    "        return 1\n",
    "    else:\n",
    "        return 0.2\n",
    "\n",
    "pca = PCA(n_components=2)\n",
    "pca_result = pca.fit_transform(con[features].values)\n",
    "con['pca-one'] = pca_result[:,0]\n",
    "con['pca-two'] = pca_result[:,1]\n",
    "print('Explained variation per principal component: {}'.format(pca.explained_variance_ratio_))\n",
    "plt.style.use({'figure.facecolor':'white'})\n",
    "con['color'] = con.apply(func, axis=1)\n",
    "plt.scatter(con['pca-one'], con['pca-two'], s = 3, alpha= con['color'], c = con['color'])\n",
    "plt.show()"
   ],
   "metadata": {
    "collapsed": false,
    "pycharm": {
     "name": "#%%\n"
    }
   }
  },
  {
   "cell_type": "code",
   "execution_count": 81,
   "outputs": [],
   "source": [
    "pd.DataFrame(select).to_csv('new_high_pheno.csv')"
   ],
   "metadata": {
    "collapsed": false,
    "pycharm": {
     "name": "#%%\n"
    }
   }
  },
  {
   "cell_type": "code",
   "execution_count": null,
   "outputs": [],
   "source": [
    "con[con['Metadata_broad_sample'].isin(select)].Metadata_moa.value_counts()"
   ],
   "metadata": {
    "collapsed": false,
    "pycharm": {
     "name": "#%%\n"
    }
   }
  },
  {
   "cell_type": "code",
   "execution_count": 136,
   "outputs": [],
   "source": [
    "df = pd.read_csv('sub_index.csv')"
   ],
   "metadata": {
    "collapsed": false,
    "pycharm": {
     "name": "#%%\n"
    }
   }
  },
  {
   "cell_type": "code",
   "execution_count": 137,
   "outputs": [],
   "source": [
    "# delete all Compounds that do not have 5 replicates\n",
    "full_reps = df[df.Treatment_Replicate == 5].Compound.unique()\n",
    "df = df[df[\"Compound\"].isin(full_reps)]\n",
    "df['Split'] = 'Training'"
   ],
   "metadata": {
    "collapsed": false,
    "pycharm": {
     "name": "#%%\n"
    }
   }
  },
  {
   "cell_type": "code",
   "execution_count": 138,
   "outputs": [],
   "source": [
    "select.append('DMSO')\n",
    "df = df[df[\"Compound\"].isin(select)]"
   ],
   "metadata": {
    "collapsed": false,
    "pycharm": {
     "name": "#%%\n"
    }
   }
  },
  {
   "cell_type": "code",
   "execution_count": 139,
   "outputs": [
    {
     "name": "stderr",
     "output_type": "stream",
     "text": [
      "/Users/mbornhol/miniconda3/envs/cyto_eval/lib/python3.7/site-packages/IPython/core/interactiveshell.py:3166: DtypeWarning: Columns (8,9,16,17,18,20,21,22,23,24) have mixed types.Specify dtype option on import or set low_memory=False.\n",
      "  interactivity=interactivity, compiler=compiler, result=result)\n"
     ]
    }
   ],
   "source": [
    "# Get Batch data\n",
    "batch = pd.read_csv('/Users/mbornhol/git/neural-profiling/baseline/01_data/level_3_data/sub_level3.csv')\n",
    "b = batch[['Metadata_Batch_Number', 'Metadata_Plate', 'Metadata_Well']]\n",
    "df = pd.merge(df, b, on=['Metadata_Plate', 'Metadata_Well'], validate='many_to_one')\n",
    "ls = {}\n",
    "for c in df.Metadata_broad_sample.unique():\n",
    "    v = df[(df['Metadata_broad_sample'] == c)].Metadata_Batch_Number.value_counts().idxmax()\n",
    "    w = df[(df['Metadata_broad_sample'] == c) & (df['Metadata_Batch_Number'] == v)].Treatment_Replicate.unique()[:2]\n",
    "    ls[c] = [v,w]"
   ],
   "metadata": {
    "collapsed": false,
    "pycharm": {
     "name": "#%%\n"
    }
   }
  },
  {
   "cell_type": "code",
   "execution_count": 140,
   "outputs": [],
   "source": [
    "for m in ls:\n",
    "    df.loc[(df.Metadata_broad_sample == m) & (df.Treatment_Replicate.isin(ls[m][1])),'Split']='Unused'"
   ],
   "metadata": {
    "collapsed": false,
    "pycharm": {
     "name": "#%%\n"
    }
   }
  },
  {
   "cell_type": "code",
   "execution_count": 141,
   "outputs": [],
   "source": [
    "df.loc[(df.Metadata_Site == 5) & (df.Split == 'Unused'),'Split']='Test'"
   ],
   "metadata": {
    "collapsed": false,
    "pycharm": {
     "name": "#%%\n"
    }
   }
  },
  {
   "cell_type": "code",
   "execution_count": 142,
   "outputs": [],
   "source": [
    "test_plates = df[df['Split'] == 'Unused'].Metadata_Plate.unique()\n",
    "df.loc[(df.Compound == 'DMSO') & (df.Metadata_Plate.isin(test_plates)),'Split']='Unused'\n",
    "df.loc[(df.Compound == 'DMSO') & (df.Split == 'Unused') & (df.Treatment_Replicate % 599 == 0),'Split']='Test'\n"
   ],
   "metadata": {
    "collapsed": false,
    "pycharm": {
     "name": "#%%\n"
    }
   }
  },
  {
   "cell_type": "code",
   "execution_count": 143,
   "outputs": [
    {
     "data": {
      "text/plain": "DMSO                      36\nBRD-K33882852-003-02-8     2\nBRD-A05523972-001-01-5     2\nBRD-K16803204-001-01-6     2\nBRD-K52959329-238-01-9     2\n                          ..\nBRD-K88807631-001-01-3     2\nBRD-A51964809-003-12-6     2\nBRD-K62996583-001-10-3     2\nBRD-K12737986-001-01-4     2\nBRD-K81258678-001-01-0     1\nName: Compound, Length: 432, dtype: int64"
     },
     "execution_count": 143,
     "metadata": {},
     "output_type": "execute_result"
    }
   ],
   "source": [
    "\n",
    "df[df['Split'] == 'Test'].Compound.value_counts()"
   ],
   "metadata": {
    "collapsed": false,
    "pycharm": {
     "name": "#%%\n"
    }
   }
  },
  {
   "cell_type": "code",
   "execution_count": 144,
   "outputs": [
    {
     "data": {
      "text/plain": "DMSO                      17928\nBRD-K33882852-003-02-8       27\nBRD-K08547377-394-03-5       27\nBRD-K52911425-001-09-8       27\nBRD-K27182532-001-02-3       27\n                          ...  \nBRD-K36270037-001-01-7       27\nBRD-A34255068-001-34-5       27\nBRD-K45924332-001-16-8       27\nBRD-A49765801-001-04-1       27\nBRD-K12737986-001-01-4       27\nName: Compound, Length: 432, dtype: int64"
     },
     "execution_count": 144,
     "metadata": {},
     "output_type": "execute_result"
    }
   ],
   "source": [
    "df[df['Split'] == 'Training'].Compound.value_counts()"
   ],
   "metadata": {
    "collapsed": false,
    "pycharm": {
     "name": "#%%\n"
    }
   }
  },
  {
   "cell_type": "code",
   "execution_count": 145,
   "outputs": [
    {
     "data": {
      "text/plain": "DMSO                      11304\nBRD-K33882852-003-02-8       16\nBRD-K88807631-001-01-3       16\nBRD-K50133271-001-18-7       16\nBRD-A23067620-300-01-3       16\n                          ...  \nBRD-A05821830-341-01-5       16\nBRD-A93424738-001-04-8       16\nBRD-K23499943-003-01-6       16\nBRD-K18157228-001-01-7       15\nBRD-K81258678-001-01-0       10\nName: Compound, Length: 432, dtype: int64"
     },
     "execution_count": 145,
     "metadata": {},
     "output_type": "execute_result"
    }
   ],
   "source": [
    "df[df['Split'] == 'Unused'].Compound.value_counts()"
   ],
   "metadata": {
    "collapsed": false,
    "pycharm": {
     "name": "#%%\n"
    }
   }
  },
  {
   "cell_type": "code",
   "execution_count": 146,
   "outputs": [],
   "source": [
    "df.to_csv('924_index.csv', index=False)"
   ],
   "metadata": {
    "collapsed": false,
    "pycharm": {
     "name": "#%%\n"
    }
   }
  },
  {
   "cell_type": "code",
   "execution_count": 148,
   "outputs": [
    {
     "data": {
      "text/plain": "(48655, 21)"
     },
     "execution_count": 148,
     "metadata": {},
     "output_type": "execute_result"
    }
   ],
   "source": [
    "df.shape"
   ],
   "metadata": {
    "collapsed": false,
    "pycharm": {
     "name": "#%%\n"
    }
   }
  },
  {
   "cell_type": "code",
   "execution_count": null,
   "outputs": [],
   "source": [],
   "metadata": {
    "collapsed": false,
    "pycharm": {
     "name": "#%%\n"
    }
   }
  }
 ],
 "metadata": {
  "kernelspec": {
   "display_name": "Python 3",
   "language": "python",
   "name": "python3"
  },
  "language_info": {
   "codemirror_mode": {
    "name": "ipython",
    "version": 2
   },
   "file_extension": ".py",
   "mimetype": "text/x-python",
   "name": "python",
   "nbconvert_exporter": "python",
   "pygments_lexer": "ipython2",
   "version": "2.7.6"
  }
 },
 "nbformat": 4,
 "nbformat_minor": 0
}