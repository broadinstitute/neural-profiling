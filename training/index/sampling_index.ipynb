{
 "cells": [
  {
   "cell_type": "code",
   "execution_count": 1,
   "metadata": {
    "collapsed": true
   },
   "outputs": [],
   "source": [
    "\n",
    "import os\n",
    "import numpy as np\n",
    "import pandas as pd\n",
    "import matplotlib.pyplot as plt\n",
    "from sklearn.model_selection import train_test_split"
   ]
  },
  {
   "cell_type": "code",
   "execution_count": 22,
   "outputs": [],
   "source": [
    "#df = pd.read_csv('sub_index.csv')\n",
    "df = pd.read_csv('sub_index.csv')"
   ],
   "metadata": {
    "collapsed": false,
    "pycharm": {
     "name": "#%%\n"
    }
   }
  },
  {
   "cell_type": "code",
   "execution_count": 23,
   "outputs": [
    {
     "data": {
      "text/plain": "Training    78858\nName: Split, dtype: int64"
     },
     "execution_count": 23,
     "metadata": {},
     "output_type": "execute_result"
    }
   ],
   "source": [
    "df.Split.value_counts()"
   ],
   "metadata": {
    "collapsed": false,
    "pycharm": {
     "name": "#%%\n"
    }
   }
  },
  {
   "cell_type": "code",
   "execution_count": 24,
   "outputs": [],
   "source": [
    "df.loc[(df.Treatment_Replicate == 1) & (df.Metadata_Site == 1),'Split']='Test'"
   ],
   "metadata": {
    "collapsed": false,
    "pycharm": {
     "name": "#%%\n"
    }
   }
  },
  {
   "cell_type": "code",
   "execution_count": 25,
   "outputs": [],
   "source": [
    "df.loc[(df.Compound == 'DMSO') & (df.Treatment_Replicate % 100 == 0) & (df.Metadata_Site == 1),'Split']='Test'"
   ],
   "metadata": {
    "collapsed": false,
    "pycharm": {
     "name": "#%%\n"
    }
   }
  },
  {
   "cell_type": "code",
   "execution_count": 5,
   "outputs": [
    {
     "data": {
      "text/plain": "DMSO                      256\nBRD-A14262390-065-01-8     44\nBRD-K87782578-001-01-4     44\nBRD-K33106058-001-16-8     44\nBRD-K70507123-001-09-7     44\n                         ... \nBRD-K42981054-001-01-9     17\nBRD-K44273375-001-25-0     17\nBRD-K43410529-001-02-3     17\nBRD-A43082555-001-01-1     17\nBRD-A37959677-001-04-5     17\nName: Compound, Length: 1144, dtype: int64"
     },
     "execution_count": 5,
     "metadata": {},
     "output_type": "execute_result"
    }
   ],
   "source": [
    "df[df['Split'] == 'Training'].Compound.value_counts()"
   ],
   "metadata": {
    "collapsed": false,
    "pycharm": {
     "name": "#%%\n"
    }
   }
  },
  {
   "cell_type": "code",
   "execution_count": 6,
   "outputs": [
    {
     "data": {
      "text/plain": "DMSO                      32\nBRD-K91822704-003-07-2     1\nBRD-K19477839-001-07-6     1\nBRD-A97674275-001-11-8     1\nBRD-K44844162-001-01-6     1\n                          ..\nBRD-A22081593-001-11-1     1\nBRD-K28428262-001-04-1     1\nBRD-K39339537-001-21-0     1\nBRD-K65781196-001-03-0     1\nBRD-K89104321-003-14-8     1\nName: Compound, Length: 1144, dtype: int64"
     },
     "execution_count": 6,
     "metadata": {},
     "output_type": "execute_result"
    }
   ],
   "source": [
    "df[df['Split'] == 'Test'].Compound.value_counts()"
   ],
   "metadata": {
    "collapsed": false,
    "pycharm": {
     "name": "#%%\n"
    }
   }
  },
  {
   "cell_type": "code",
   "execution_count": 28,
   "outputs": [],
   "source": [
    "# For training, cut down on DMSOs\n",
    "new = pd.concat([df[(df.Compound == 'DMSO') & (df.Treatment_Replicate % 100 == 0)], df[df.Compound != 'DMSO']])"
   ],
   "metadata": {
    "collapsed": false,
    "pycharm": {
     "name": "#%%\n"
    }
   }
  },
  {
   "cell_type": "code",
   "execution_count": 4,
   "outputs": [
    {
     "ename": "NameError",
     "evalue": "name 'new' is not defined",
     "output_type": "error",
     "traceback": [
      "\u001B[0;31m---------------------------------------------------------------------------\u001B[0m",
      "\u001B[0;31mNameError\u001B[0m                                 Traceback (most recent call last)",
      "\u001B[0;32m<ipython-input-4-60973465241a>\u001B[0m in \u001B[0;36m<module>\u001B[0;34m\u001B[0m\n\u001B[0;32m----> 1\u001B[0;31m \u001B[0mnew\u001B[0m\u001B[0;34m[\u001B[0m\u001B[0mnew\u001B[0m\u001B[0;34m[\u001B[0m\u001B[0;34m'Split'\u001B[0m\u001B[0;34m]\u001B[0m \u001B[0;34m==\u001B[0m \u001B[0;34m'Training'\u001B[0m\u001B[0;34m]\u001B[0m\u001B[0;34m.\u001B[0m\u001B[0mCompound\u001B[0m\u001B[0;34m.\u001B[0m\u001B[0mvalue_counts\u001B[0m\u001B[0;34m(\u001B[0m\u001B[0;34m)\u001B[0m\u001B[0;34m\u001B[0m\u001B[0;34m\u001B[0m\u001B[0m\n\u001B[0m\u001B[1;32m      2\u001B[0m \u001B[0;34m\u001B[0m\u001B[0m\n",
      "\u001B[0;31mNameError\u001B[0m: name 'new' is not defined"
     ]
    }
   ],
   "source": [
    "new[new['Split'] == 'Training'].Compound.value_counts()"
   ],
   "metadata": {
    "collapsed": false,
    "pycharm": {
     "name": "#%%\n"
    }
   }
  },
  {
   "cell_type": "code",
   "execution_count": 30,
   "outputs": [
    {
     "data": {
      "text/plain": "DMSO                      32\nBRD-A19736161-001-06-7     1\nBRD-K17743125-001-08-4     1\nBRD-K71164191-001-01-0     1\nBRD-A12994259-001-02-1     1\n                          ..\nBRD-K56810756-001-03-0     1\nBRD-K62391742-001-03-0     1\nBRD-K37385792-003-02-1     1\nBRD-K92428232-001-10-6     1\nBRD-K03449891-001-08-6     1\nName: Compound, Length: 1144, dtype: int64"
     },
     "execution_count": 30,
     "metadata": {},
     "output_type": "execute_result"
    }
   ],
   "source": [
    "new[new['Split'] == 'Test'].Compound.value_counts()\n",
    "\n"
   ],
   "metadata": {
    "collapsed": false,
    "pycharm": {
     "name": "#%%\n"
    }
   }
  },
  {
   "cell_type": "code",
   "execution_count": 31,
   "outputs": [],
   "source": [
    "new.to_csv('lessDMSO_index.csv')"
   ],
   "metadata": {
    "collapsed": false,
    "pycharm": {
     "name": "#%%\n"
    }
   }
  },
  {
   "cell_type": "code",
   "execution_count": 40,
   "outputs": [
    {
     "data": {
      "text/plain": "12469.5"
     },
     "execution_count": 40,
     "metadata": {},
     "output_type": "execute_result"
    }
   ],
   "source": [
    "new.shape\n",
    "49878 / 4"
   ],
   "metadata": {
    "collapsed": false,
    "pycharm": {
     "name": "#%%\n"
    }
   }
  },
  {
   "cell_type": "code",
   "execution_count": 4,
   "outputs": [],
   "source": [
    "#index_1, index_2, index_3, index_4, index_5, index_6, index_7, index_8, index_9, index_10 = np.array_split(new, 10)\n",
    "index_ls = np.array_split(df, 10)"
   ],
   "metadata": {
    "collapsed": false,
    "pycharm": {
     "name": "#%%\n"
    }
   }
  },
  {
   "cell_type": "code",
   "execution_count": 58,
   "outputs": [],
   "source": [
    "for n in range(10):\n",
    "    index_ls[n].to_csv(f'split_index/index_{n}.csv')"
   ],
   "metadata": {
    "collapsed": false,
    "pycharm": {
     "name": "#%%\n"
    }
   }
  },
  {
   "cell_type": "code",
   "execution_count": 60,
   "outputs": [],
   "source": [
    "find = pd.read_csv('missing.csv').col.tolist()\n",
    "find_p = [p[:10] for p in find]\n",
    "find_w = [str(p[11:14]) for p in find]"
   ],
   "metadata": {
    "collapsed": false,
    "pycharm": {
     "name": "#%%\n"
    }
   }
  },
  {
   "cell_type": "code",
   "execution_count": 2,
   "outputs": [],
   "source": [
    "ls = []\n",
    "top = pd.read_csv('top20_moa.csv')"
   ],
   "metadata": {
    "collapsed": false,
    "pycharm": {
     "name": "#%%\n"
    }
   }
  },
  {
   "cell_type": "code",
   "execution_count": null,
   "outputs": [],
   "source": [
    "for n in range(len(find_p)):\n",
    "    ls.append(top[(top['Metadata_Plate'] == find_p[n]) & (top['Metadata_Well'] == find_w[n])])"
   ],
   "metadata": {
    "collapsed": false,
    "pycharm": {
     "name": "#%%\n"
    }
   }
  },
  {
   "cell_type": "code",
   "execution_count": 63,
   "outputs": [
    {
     "data": {
      "text/plain": "     Unnamed: 0 Metadata_Plate Metadata_Well  Metadata_Site  \\\n0           891     SQ00014816           A04              1   \n1           892     SQ00014816           A04              2   \n2           893     SQ00014816           A04              3   \n3           894     SQ00014816           A04              4   \n4           895     SQ00014816           A04              5   \n..          ...            ...           ...            ...   \n562       29767     SQ00014812           E07              5   \n563       29768     SQ00014812           E07              6   \n564       29769     SQ00014812           E07              7   \n565       29770     SQ00014812           E07              8   \n566       29771     SQ00014812           E07              9   \n\n      Metadata_broad_sample                       Metadata_moa  \\\n0                      DMSO                            unknown   \n1                      DMSO                            unknown   \n2                      DMSO                            unknown   \n3                      DMSO                            unknown   \n4                      DMSO                            unknown   \n..                      ...                                ...   \n562  BRD-K69247067-001-01-8  acetylcholine receptor antagonist   \n563  BRD-K69247067-001-01-8  acetylcholine receptor antagonist   \n564  BRD-K69247067-001-01-8  acetylcholine receptor antagonist   \n565  BRD-K69247067-001-01-8  acetylcholine receptor antagonist   \n566  BRD-K69247067-001-01-8  acetylcholine receptor antagonist   \n\n     Metadata_mmoles_per_liter  Metadata_dose_recode  \\\n0                          0.0                     0   \n1                          0.0                     0   \n2                          0.0                     0   \n3                          0.0                     0   \n4                          0.0                     0   \n..                         ...                   ...   \n562                       10.0                     6   \n563                       10.0                     6   \n564                       10.0                     6   \n565                       10.0                     6   \n566                       10.0                     6   \n\n                                          RNA  \\\n0    SQ00014816/r01c04f01p01-ch3sk1fk1fl1.png   \n1    SQ00014816/r01c04f02p01-ch3sk1fk1fl1.png   \n2    SQ00014816/r01c04f03p01-ch3sk1fk1fl1.png   \n3    SQ00014816/r01c04f04p01-ch3sk1fk1fl1.png   \n4    SQ00014816/r01c04f05p01-ch3sk1fk1fl1.png   \n..                                        ...   \n562  SQ00014812/r05c07f05p01-ch3sk1fk1fl1.png   \n563  SQ00014812/r05c07f06p01-ch3sk1fk1fl1.png   \n564  SQ00014812/r05c07f07p01-ch3sk1fk1fl1.png   \n565  SQ00014812/r05c07f08p01-ch3sk1fk1fl1.png   \n566  SQ00014812/r05c07f09p01-ch3sk1fk1fl1.png   \n\n                                           ER  ...  \\\n0    SQ00014816/r01c04f01p01-ch2sk1fk1fl1.png  ...   \n1    SQ00014816/r01c04f02p01-ch2sk1fk1fl1.png  ...   \n2    SQ00014816/r01c04f03p01-ch2sk1fk1fl1.png  ...   \n3    SQ00014816/r01c04f04p01-ch2sk1fk1fl1.png  ...   \n4    SQ00014816/r01c04f05p01-ch2sk1fk1fl1.png  ...   \n..                                        ...  ...   \n562  SQ00014812/r05c07f05p01-ch2sk1fk1fl1.png  ...   \n563  SQ00014812/r05c07f06p01-ch2sk1fk1fl1.png  ...   \n564  SQ00014812/r05c07f07p01-ch2sk1fk1fl1.png  ...   \n565  SQ00014812/r05c07f08p01-ch2sk1fk1fl1.png  ...   \n566  SQ00014812/r05c07f09p01-ch2sk1fk1fl1.png  ...   \n\n                                         Mito  \\\n0    SQ00014816/r01c04f01p01-ch5sk1fk1fl1.png   \n1    SQ00014816/r01c04f02p01-ch5sk1fk1fl1.png   \n2    SQ00014816/r01c04f03p01-ch5sk1fk1fl1.png   \n3    SQ00014816/r01c04f04p01-ch5sk1fk1fl1.png   \n4    SQ00014816/r01c04f05p01-ch5sk1fk1fl1.png   \n..                                        ...   \n562  SQ00014812/r05c07f05p01-ch5sk1fk1fl1.png   \n563  SQ00014812/r05c07f06p01-ch5sk1fk1fl1.png   \n564  SQ00014812/r05c07f07p01-ch5sk1fk1fl1.png   \n565  SQ00014812/r05c07f08p01-ch5sk1fk1fl1.png   \n566  SQ00014812/r05c07f09p01-ch5sk1fk1fl1.png   \n\n                                          DNA Concentration  Treatment_ID  \\\n0    SQ00014816/r01c04f01p01-ch1sk1fk1fl1.png           NaN             0   \n1    SQ00014816/r01c04f02p01-ch1sk1fk1fl1.png           NaN             0   \n2    SQ00014816/r01c04f03p01-ch1sk1fk1fl1.png           NaN             0   \n3    SQ00014816/r01c04f04p01-ch1sk1fk1fl1.png           NaN             0   \n4    SQ00014816/r01c04f05p01-ch1sk1fk1fl1.png           NaN             0   \n..                                        ...           ...           ...   \n562  SQ00014812/r05c07f05p01-ch1sk1fk1fl1.png          10.0          7144   \n563  SQ00014812/r05c07f06p01-ch1sk1fk1fl1.png          10.0          7144   \n564  SQ00014812/r05c07f07p01-ch1sk1fk1fl1.png          10.0          7144   \n565  SQ00014812/r05c07f08p01-ch1sk1fk1fl1.png          10.0          7144   \n566  SQ00014812/r05c07f09p01-ch1sk1fk1fl1.png          10.0          7144   \n\n                   Compound   pert_iname Treatment_Replicate  \\\n0                      DMSO          NaN                 100   \n1                      DMSO          NaN                 100   \n2                      DMSO          NaN                 100   \n3                      DMSO          NaN                 100   \n4                      DMSO          NaN                 100   \n..                      ...          ...                 ...   \n562  BRD-K69247067-001-01-8  afloqualone                   1   \n563  BRD-K69247067-001-01-8  afloqualone                   1   \n564  BRD-K69247067-001-01-8  afloqualone                   1   \n565  BRD-K69247067-001-01-8  afloqualone                   1   \n566  BRD-K69247067-001-01-8  afloqualone                   1   \n\n                                      Treatment     Plate_Map_Name     Split  \n0                                       DMSO@NA  C-7161-01-LM6-023      Test  \n1                                       DMSO@NA  C-7161-01-LM6-023  Training  \n2                                       DMSO@NA  C-7161-01-LM6-023  Training  \n3                                       DMSO@NA  C-7161-01-LM6-023  Training  \n4                                       DMSO@NA  C-7161-01-LM6-023  Training  \n..                                          ...                ...       ...  \n562  BRD-K69247067-001-01-8@9.99999999999999997  C-7161-01-LM6-022  Training  \n563  BRD-K69247067-001-01-8@9.99999999999999997  C-7161-01-LM6-022  Training  \n564  BRD-K69247067-001-01-8@9.99999999999999997  C-7161-01-LM6-022  Training  \n565  BRD-K69247067-001-01-8@9.99999999999999997  C-7161-01-LM6-022  Training  \n566  BRD-K69247067-001-01-8@9.99999999999999997  C-7161-01-LM6-022  Training  \n\n[1197 rows x 21 columns]",
      "text/html": "<div>\n<style scoped>\n    .dataframe tbody tr th:only-of-type {\n        vertical-align: middle;\n    }\n\n    .dataframe tbody tr th {\n        vertical-align: top;\n    }\n\n    .dataframe thead th {\n        text-align: right;\n    }\n</style>\n<table border=\"1\" class=\"dataframe\">\n  <thead>\n    <tr style=\"text-align: right;\">\n      <th></th>\n      <th>Unnamed: 0</th>\n      <th>Metadata_Plate</th>\n      <th>Metadata_Well</th>\n      <th>Metadata_Site</th>\n      <th>Metadata_broad_sample</th>\n      <th>Metadata_moa</th>\n      <th>Metadata_mmoles_per_liter</th>\n      <th>Metadata_dose_recode</th>\n      <th>RNA</th>\n      <th>ER</th>\n      <th>...</th>\n      <th>Mito</th>\n      <th>DNA</th>\n      <th>Concentration</th>\n      <th>Treatment_ID</th>\n      <th>Compound</th>\n      <th>pert_iname</th>\n      <th>Treatment_Replicate</th>\n      <th>Treatment</th>\n      <th>Plate_Map_Name</th>\n      <th>Split</th>\n    </tr>\n  </thead>\n  <tbody>\n    <tr>\n      <th>0</th>\n      <td>891</td>\n      <td>SQ00014816</td>\n      <td>A04</td>\n      <td>1</td>\n      <td>DMSO</td>\n      <td>unknown</td>\n      <td>0.0</td>\n      <td>0</td>\n      <td>SQ00014816/r01c04f01p01-ch3sk1fk1fl1.png</td>\n      <td>SQ00014816/r01c04f01p01-ch2sk1fk1fl1.png</td>\n      <td>...</td>\n      <td>SQ00014816/r01c04f01p01-ch5sk1fk1fl1.png</td>\n      <td>SQ00014816/r01c04f01p01-ch1sk1fk1fl1.png</td>\n      <td>NaN</td>\n      <td>0</td>\n      <td>DMSO</td>\n      <td>NaN</td>\n      <td>100</td>\n      <td>DMSO@NA</td>\n      <td>C-7161-01-LM6-023</td>\n      <td>Test</td>\n    </tr>\n    <tr>\n      <th>1</th>\n      <td>892</td>\n      <td>SQ00014816</td>\n      <td>A04</td>\n      <td>2</td>\n      <td>DMSO</td>\n      <td>unknown</td>\n      <td>0.0</td>\n      <td>0</td>\n      <td>SQ00014816/r01c04f02p01-ch3sk1fk1fl1.png</td>\n      <td>SQ00014816/r01c04f02p01-ch2sk1fk1fl1.png</td>\n      <td>...</td>\n      <td>SQ00014816/r01c04f02p01-ch5sk1fk1fl1.png</td>\n      <td>SQ00014816/r01c04f02p01-ch1sk1fk1fl1.png</td>\n      <td>NaN</td>\n      <td>0</td>\n      <td>DMSO</td>\n      <td>NaN</td>\n      <td>100</td>\n      <td>DMSO@NA</td>\n      <td>C-7161-01-LM6-023</td>\n      <td>Training</td>\n    </tr>\n    <tr>\n      <th>2</th>\n      <td>893</td>\n      <td>SQ00014816</td>\n      <td>A04</td>\n      <td>3</td>\n      <td>DMSO</td>\n      <td>unknown</td>\n      <td>0.0</td>\n      <td>0</td>\n      <td>SQ00014816/r01c04f03p01-ch3sk1fk1fl1.png</td>\n      <td>SQ00014816/r01c04f03p01-ch2sk1fk1fl1.png</td>\n      <td>...</td>\n      <td>SQ00014816/r01c04f03p01-ch5sk1fk1fl1.png</td>\n      <td>SQ00014816/r01c04f03p01-ch1sk1fk1fl1.png</td>\n      <td>NaN</td>\n      <td>0</td>\n      <td>DMSO</td>\n      <td>NaN</td>\n      <td>100</td>\n      <td>DMSO@NA</td>\n      <td>C-7161-01-LM6-023</td>\n      <td>Training</td>\n    </tr>\n    <tr>\n      <th>3</th>\n      <td>894</td>\n      <td>SQ00014816</td>\n      <td>A04</td>\n      <td>4</td>\n      <td>DMSO</td>\n      <td>unknown</td>\n      <td>0.0</td>\n      <td>0</td>\n      <td>SQ00014816/r01c04f04p01-ch3sk1fk1fl1.png</td>\n      <td>SQ00014816/r01c04f04p01-ch2sk1fk1fl1.png</td>\n      <td>...</td>\n      <td>SQ00014816/r01c04f04p01-ch5sk1fk1fl1.png</td>\n      <td>SQ00014816/r01c04f04p01-ch1sk1fk1fl1.png</td>\n      <td>NaN</td>\n      <td>0</td>\n      <td>DMSO</td>\n      <td>NaN</td>\n      <td>100</td>\n      <td>DMSO@NA</td>\n      <td>C-7161-01-LM6-023</td>\n      <td>Training</td>\n    </tr>\n    <tr>\n      <th>4</th>\n      <td>895</td>\n      <td>SQ00014816</td>\n      <td>A04</td>\n      <td>5</td>\n      <td>DMSO</td>\n      <td>unknown</td>\n      <td>0.0</td>\n      <td>0</td>\n      <td>SQ00014816/r01c04f05p01-ch3sk1fk1fl1.png</td>\n      <td>SQ00014816/r01c04f05p01-ch2sk1fk1fl1.png</td>\n      <td>...</td>\n      <td>SQ00014816/r01c04f05p01-ch5sk1fk1fl1.png</td>\n      <td>SQ00014816/r01c04f05p01-ch1sk1fk1fl1.png</td>\n      <td>NaN</td>\n      <td>0</td>\n      <td>DMSO</td>\n      <td>NaN</td>\n      <td>100</td>\n      <td>DMSO@NA</td>\n      <td>C-7161-01-LM6-023</td>\n      <td>Training</td>\n    </tr>\n    <tr>\n      <th>...</th>\n      <td>...</td>\n      <td>...</td>\n      <td>...</td>\n      <td>...</td>\n      <td>...</td>\n      <td>...</td>\n      <td>...</td>\n      <td>...</td>\n      <td>...</td>\n      <td>...</td>\n      <td>...</td>\n      <td>...</td>\n      <td>...</td>\n      <td>...</td>\n      <td>...</td>\n      <td>...</td>\n      <td>...</td>\n      <td>...</td>\n      <td>...</td>\n      <td>...</td>\n      <td>...</td>\n    </tr>\n    <tr>\n      <th>562</th>\n      <td>29767</td>\n      <td>SQ00014812</td>\n      <td>E07</td>\n      <td>5</td>\n      <td>BRD-K69247067-001-01-8</td>\n      <td>acetylcholine receptor antagonist</td>\n      <td>10.0</td>\n      <td>6</td>\n      <td>SQ00014812/r05c07f05p01-ch3sk1fk1fl1.png</td>\n      <td>SQ00014812/r05c07f05p01-ch2sk1fk1fl1.png</td>\n      <td>...</td>\n      <td>SQ00014812/r05c07f05p01-ch5sk1fk1fl1.png</td>\n      <td>SQ00014812/r05c07f05p01-ch1sk1fk1fl1.png</td>\n      <td>10.0</td>\n      <td>7144</td>\n      <td>BRD-K69247067-001-01-8</td>\n      <td>afloqualone</td>\n      <td>1</td>\n      <td>BRD-K69247067-001-01-8@9.99999999999999997</td>\n      <td>C-7161-01-LM6-022</td>\n      <td>Training</td>\n    </tr>\n    <tr>\n      <th>563</th>\n      <td>29768</td>\n      <td>SQ00014812</td>\n      <td>E07</td>\n      <td>6</td>\n      <td>BRD-K69247067-001-01-8</td>\n      <td>acetylcholine receptor antagonist</td>\n      <td>10.0</td>\n      <td>6</td>\n      <td>SQ00014812/r05c07f06p01-ch3sk1fk1fl1.png</td>\n      <td>SQ00014812/r05c07f06p01-ch2sk1fk1fl1.png</td>\n      <td>...</td>\n      <td>SQ00014812/r05c07f06p01-ch5sk1fk1fl1.png</td>\n      <td>SQ00014812/r05c07f06p01-ch1sk1fk1fl1.png</td>\n      <td>10.0</td>\n      <td>7144</td>\n      <td>BRD-K69247067-001-01-8</td>\n      <td>afloqualone</td>\n      <td>1</td>\n      <td>BRD-K69247067-001-01-8@9.99999999999999997</td>\n      <td>C-7161-01-LM6-022</td>\n      <td>Training</td>\n    </tr>\n    <tr>\n      <th>564</th>\n      <td>29769</td>\n      <td>SQ00014812</td>\n      <td>E07</td>\n      <td>7</td>\n      <td>BRD-K69247067-001-01-8</td>\n      <td>acetylcholine receptor antagonist</td>\n      <td>10.0</td>\n      <td>6</td>\n      <td>SQ00014812/r05c07f07p01-ch3sk1fk1fl1.png</td>\n      <td>SQ00014812/r05c07f07p01-ch2sk1fk1fl1.png</td>\n      <td>...</td>\n      <td>SQ00014812/r05c07f07p01-ch5sk1fk1fl1.png</td>\n      <td>SQ00014812/r05c07f07p01-ch1sk1fk1fl1.png</td>\n      <td>10.0</td>\n      <td>7144</td>\n      <td>BRD-K69247067-001-01-8</td>\n      <td>afloqualone</td>\n      <td>1</td>\n      <td>BRD-K69247067-001-01-8@9.99999999999999997</td>\n      <td>C-7161-01-LM6-022</td>\n      <td>Training</td>\n    </tr>\n    <tr>\n      <th>565</th>\n      <td>29770</td>\n      <td>SQ00014812</td>\n      <td>E07</td>\n      <td>8</td>\n      <td>BRD-K69247067-001-01-8</td>\n      <td>acetylcholine receptor antagonist</td>\n      <td>10.0</td>\n      <td>6</td>\n      <td>SQ00014812/r05c07f08p01-ch3sk1fk1fl1.png</td>\n      <td>SQ00014812/r05c07f08p01-ch2sk1fk1fl1.png</td>\n      <td>...</td>\n      <td>SQ00014812/r05c07f08p01-ch5sk1fk1fl1.png</td>\n      <td>SQ00014812/r05c07f08p01-ch1sk1fk1fl1.png</td>\n      <td>10.0</td>\n      <td>7144</td>\n      <td>BRD-K69247067-001-01-8</td>\n      <td>afloqualone</td>\n      <td>1</td>\n      <td>BRD-K69247067-001-01-8@9.99999999999999997</td>\n      <td>C-7161-01-LM6-022</td>\n      <td>Training</td>\n    </tr>\n    <tr>\n      <th>566</th>\n      <td>29771</td>\n      <td>SQ00014812</td>\n      <td>E07</td>\n      <td>9</td>\n      <td>BRD-K69247067-001-01-8</td>\n      <td>acetylcholine receptor antagonist</td>\n      <td>10.0</td>\n      <td>6</td>\n      <td>SQ00014812/r05c07f09p01-ch3sk1fk1fl1.png</td>\n      <td>SQ00014812/r05c07f09p01-ch2sk1fk1fl1.png</td>\n      <td>...</td>\n      <td>SQ00014812/r05c07f09p01-ch5sk1fk1fl1.png</td>\n      <td>SQ00014812/r05c07f09p01-ch1sk1fk1fl1.png</td>\n      <td>10.0</td>\n      <td>7144</td>\n      <td>BRD-K69247067-001-01-8</td>\n      <td>afloqualone</td>\n      <td>1</td>\n      <td>BRD-K69247067-001-01-8@9.99999999999999997</td>\n      <td>C-7161-01-LM6-022</td>\n      <td>Training</td>\n    </tr>\n  </tbody>\n</table>\n<p>1197 rows × 21 columns</p>\n</div>"
     },
     "execution_count": 63,
     "metadata": {},
     "output_type": "execute_result"
    }
   ],
   "source": [
    "pd.concat(ls)"
   ],
   "metadata": {
    "collapsed": false,
    "pycharm": {
     "name": "#%%\n"
    }
   }
  },
  {
   "cell_type": "code",
   "execution_count": 58,
   "outputs": [
    {
     "data": {
      "text/plain": "Empty DataFrame\nColumns: [Unnamed: 0, Metadata_Plate, Metadata_Well, Metadata_Site, Metadata_broad_sample, Metadata_moa, Metadata_mmoles_per_liter, Metadata_dose_recode, RNA, ER, AGP, Mito, DNA, Concentration, Treatment_ID, Compound, pert_iname, Treatment_Replicate, Treatment, Plate_Map_Name, Split]\nIndex: []\n\n[0 rows x 21 columns]",
      "text/html": "<div>\n<style scoped>\n    .dataframe tbody tr th:only-of-type {\n        vertical-align: middle;\n    }\n\n    .dataframe tbody tr th {\n        vertical-align: top;\n    }\n\n    .dataframe thead th {\n        text-align: right;\n    }\n</style>\n<table border=\"1\" class=\"dataframe\">\n  <thead>\n    <tr style=\"text-align: right;\">\n      <th></th>\n      <th>Unnamed: 0</th>\n      <th>Metadata_Plate</th>\n      <th>Metadata_Well</th>\n      <th>Metadata_Site</th>\n      <th>Metadata_broad_sample</th>\n      <th>Metadata_moa</th>\n      <th>Metadata_mmoles_per_liter</th>\n      <th>Metadata_dose_recode</th>\n      <th>RNA</th>\n      <th>ER</th>\n      <th>...</th>\n      <th>Mito</th>\n      <th>DNA</th>\n      <th>Concentration</th>\n      <th>Treatment_ID</th>\n      <th>Compound</th>\n      <th>pert_iname</th>\n      <th>Treatment_Replicate</th>\n      <th>Treatment</th>\n      <th>Plate_Map_Name</th>\n      <th>Split</th>\n    </tr>\n  </thead>\n  <tbody>\n  </tbody>\n</table>\n<p>0 rows × 21 columns</p>\n</div>"
     },
     "execution_count": 58,
     "metadata": {},
     "output_type": "execute_result"
    }
   ],
   "source": [
    "top.query(\"Metadata_Plate == @find_p[0] & Metadata_Well == @find_w[0]\")\n",
    "top[(top['Metadata_Well'] == find_w[0])]"
   ],
   "metadata": {
    "collapsed": false,
    "pycharm": {
     "name": "#%%\n"
    }
   }
  },
  {
   "cell_type": "code",
   "execution_count": 59,
   "outputs": [
    {
     "data": {
      "text/plain": "'A0'"
     },
     "execution_count": 59,
     "metadata": {},
     "output_type": "execute_result"
    }
   ],
   "source": [
    "find_w[0]"
   ],
   "metadata": {
    "collapsed": false,
    "pycharm": {
     "name": "#%%\n"
    }
   }
  },
  {
   "cell_type": "code",
   "execution_count": null,
   "outputs": [],
   "source": [
    "import os\n",
    "pngs = [f for f in os.listdir() if f.startswith('SQ')]\n",
    "\n",
    "with open('sc-metadata.csv', 'r') as f :\n",
    "    filedata = f.read()\n",
    "\n",
    "for file in pngs:\n",
    "    filedata = filedata.replace(file, file[:-4] + '_' + file[-4:])\n",
    "    os.rename(file, file[:-4] + '_' + file[-4:])\n",
    "\n",
    "with open(f, 'w') as f:\n",
    "    f.write(filedata)"
   ],
   "metadata": {
    "collapsed": false,
    "pycharm": {
     "name": "#%%\n"
    }
   }
  },
  {
   "cell_type": "code",
   "execution_count": 3,
   "outputs": [
    {
     "data": {
      "text/plain": "['new_test_training_index.csv',\n 'train_sub_index.csv',\n 'SQ00015206-A13-9+2@919.591697856415x434.4348417829195.png',\n 'create_testing_index.ipynb',\n 'test_learning_index_2.csv',\n 'log_index.md',\n 'SQ00014812-A01-4+3@1005.15393039669x670.55329763933.png',\n 'test.csv',\n 'sampling_index.ipynb',\n 'testing.ipynb',\n 'test_training_index.csv',\n 'sub_index.csv',\n 'train_config.json',\n 'split_index',\n 'lessDMSO_index.csv']"
     },
     "execution_count": 3,
     "metadata": {},
     "output_type": "execute_result"
    }
   ],
   "source": [
    "os.listdir()"
   ],
   "metadata": {
    "collapsed": false,
    "pycharm": {
     "name": "#%%\n"
    }
   }
  },
  {
   "cell_type": "code",
   "execution_count": 1,
   "outputs": [],
   "source": [
    "# further cut down due to problem with 8 million files."
   ],
   "metadata": {
    "collapsed": false,
    "pycharm": {
     "name": "#%%\n"
    }
   }
  },
  {
   "cell_type": "code",
   "execution_count": 3,
   "outputs": [],
   "source": [
    "df = pd.read_csv('lessDMSO_index.csv')"
   ],
   "metadata": {
    "collapsed": false,
    "pycharm": {
     "name": "#%%\n"
    }
   }
  },
  {
   "cell_type": "code",
   "execution_count": 32,
   "outputs": [],
   "source": [
    "vc = df.Metadata_moa.value_counts()\n",
    "large_moas = vc[:50].keys().tolist()"
   ],
   "metadata": {
    "collapsed": false,
    "pycharm": {
     "name": "#%%\n"
    }
   }
  },
  {
   "cell_type": "code",
   "execution_count": 33,
   "outputs": [],
   "source": [
    "df_lm = df[df[\"Metadata_moa\"].isin(large_moas)]"
   ],
   "metadata": {
    "collapsed": false,
    "pycharm": {
     "name": "#%%\n"
    }
   }
  },
  {
   "cell_type": "code",
   "execution_count": 34,
   "outputs": [
    {
     "data": {
      "text/plain": "0.5009222502907094"
     },
     "execution_count": 34,
     "metadata": {},
     "output_type": "execute_result"
    }
   ],
   "source": [
    "# smaller by 71 %\n",
    "df_lm.shape[0] / df.shape[0]"
   ],
   "metadata": {
    "collapsed": false,
    "pycharm": {
     "name": "#%%\n"
    }
   }
  },
  {
   "cell_type": "code",
   "execution_count": null,
   "outputs": [],
   "source": [
    "#select from existing images.\n",
    "import pandas as pd\n",
    "df = pd.read_csv('../top_moa.csv')\n",
    "\n"
   ],
   "metadata": {
    "collapsed": false,
    "pycharm": {
     "name": "#%%\n"
    }
   }
  },
  {
   "cell_type": "code",
   "execution_count": 47,
   "outputs": [],
   "source": [
    "s = []\n",
    "for row in df_lm.iloc[:5].iterrows():\n",
    "    name = row[1]['Metadata_Plate'] + '-' + row[1]['Metadata_Well'] + '-' + str(row[1]['Metadata_Site'])\n",
    "    os.system(\"find . -name '%*' -exec mv '{}' ../features1/output/lm_crops |;\".format(name))"
   ],
   "metadata": {
    "collapsed": false,
    "pycharm": {
     "name": "#%%\n"
    }
   }
  },
  {
   "cell_type": "code",
   "execution_count": 48,
   "outputs": [],
   "source": [
    "\n",
    "df_lm.to_csv('top20_moa.csv', index=False)"
   ],
   "metadata": {
    "collapsed": false,
    "pycharm": {
     "name": "#%%\n"
    }
   }
  },
  {
   "cell_type": "code",
   "execution_count": 53,
   "outputs": [],
   "source": [
    "one = df[df['Metadata_Plate']  ==  'SQ00015130']"
   ],
   "metadata": {
    "collapsed": false,
    "pycharm": {
     "name": "#%%\n"
    }
   }
  },
  {
   "cell_type": "code",
   "execution_count": 54,
   "outputs": [],
   "source": [
    "one = one[one['Metadata_Well']  ==  'D01']"
   ],
   "metadata": {
    "collapsed": false,
    "pycharm": {
     "name": "#%%\n"
    }
   }
  },
  {
   "cell_type": "code",
   "execution_count": 55,
   "outputs": [],
   "source": [
    "one.to_csv('one.csv', index=False)\n"
   ],
   "metadata": {
    "collapsed": false,
    "pycharm": {
     "name": "#%%\n"
    }
   }
  },
  {
   "cell_type": "code",
   "execution_count": 2,
   "outputs": [],
   "source": [
    "df_lm = pd.read_csv('top20_moa.csv')\n"
   ],
   "metadata": {
    "collapsed": false,
    "pycharm": {
     "name": "#%%\n"
    }
   }
  },
  {
   "cell_type": "code",
   "execution_count": 3,
   "outputs": [],
   "source": [
    "index_ls = np.array_split(df_lm, 5)"
   ],
   "metadata": {
    "collapsed": false,
    "pycharm": {
     "name": "#%%\n"
    }
   }
  },
  {
   "cell_type": "code",
   "execution_count": 5,
   "outputs": [],
   "source": [
    "for n in range(5):\n",
    "    index_ls[n].to_csv(f'lm_index/index_{n}.csv')\n"
   ],
   "metadata": {
    "collapsed": false,
    "pycharm": {
     "name": "#%%\n"
    }
   }
  },
  {
   "cell_type": "code",
   "execution_count": 24,
   "outputs": [],
   "source": [],
   "metadata": {
    "collapsed": false,
    "pycharm": {
     "name": "#%%\n"
    }
   }
  },
  {
   "cell_type": "code",
   "execution_count": null,
   "outputs": [],
   "source": [
    "for row in df.iloc[:5].iterrows():\n",
    "    name = row\n",
    "    os.system(\"find . -name '%*' -exec mv '{}' ../features1/output/lm_crops |;\".format(name))"
   ],
   "metadata": {
    "collapsed": false,
    "pycharm": {
     "name": "#%%\n"
    }
   }
  },
  {
   "cell_type": "code",
   "execution_count": 82,
   "outputs": [],
   "source": [
    "sc = pd.read_csv('sc-metadata.csv')"
   ],
   "metadata": {
    "collapsed": false,
    "pycharm": {
     "name": "#%%\n"
    }
   }
  },
  {
   "cell_type": "code",
   "execution_count": 65,
   "outputs": [
    {
     "data": {
      "text/plain": "   Nuclei_Location_Center_X  Nuclei_Location_Center_Y               Key  \\\n0                253.317311                693.409830  SQ00015127/H07-2   \n1                945.928061                494.126531  SQ00015127/H07-2   \n2                926.268212                561.971670  SQ00015127/H07-2   \n3                897.725346                160.114747  SQ00015127/H07-2   \n4                 60.689132                462.098019  SQ00015127/H07-2   \n\n   Target              Class_Name  \\\n0     100  BRD-K33226500-001-01-0   \n1     100  BRD-K33226500-001-01-0   \n2     100  BRD-K33226500-001-01-0   \n3     100  BRD-K33226500-001-01-0   \n4     100  BRD-K33226500-001-01-0   \n\n                                          Image_Name  \n0  SQ00015127-H07-2+100@253.31731116732948x693.40...  \n1  SQ00015127-H07-2+100@945.9280612244901x494.126...  \n2  SQ00015127-H07-2+100@926.2682119205299x561.971...  \n3  SQ00015127-H07-2+100@897.7253456221199x160.114...  \n4  SQ00015127-H07-2+100@60.689132392675x462.09801...  ",
      "text/html": "<div>\n<style scoped>\n    .dataframe tbody tr th:only-of-type {\n        vertical-align: middle;\n    }\n\n    .dataframe tbody tr th {\n        vertical-align: top;\n    }\n\n    .dataframe thead th {\n        text-align: right;\n    }\n</style>\n<table border=\"1\" class=\"dataframe\">\n  <thead>\n    <tr style=\"text-align: right;\">\n      <th></th>\n      <th>Nuclei_Location_Center_X</th>\n      <th>Nuclei_Location_Center_Y</th>\n      <th>Key</th>\n      <th>Target</th>\n      <th>Class_Name</th>\n      <th>Image_Name</th>\n    </tr>\n  </thead>\n  <tbody>\n    <tr>\n      <th>0</th>\n      <td>253.317311</td>\n      <td>693.409830</td>\n      <td>SQ00015127/H07-2</td>\n      <td>100</td>\n      <td>BRD-K33226500-001-01-0</td>\n      <td>SQ00015127-H07-2+100@253.31731116732948x693.40...</td>\n    </tr>\n    <tr>\n      <th>1</th>\n      <td>945.928061</td>\n      <td>494.126531</td>\n      <td>SQ00015127/H07-2</td>\n      <td>100</td>\n      <td>BRD-K33226500-001-01-0</td>\n      <td>SQ00015127-H07-2+100@945.9280612244901x494.126...</td>\n    </tr>\n    <tr>\n      <th>2</th>\n      <td>926.268212</td>\n      <td>561.971670</td>\n      <td>SQ00015127/H07-2</td>\n      <td>100</td>\n      <td>BRD-K33226500-001-01-0</td>\n      <td>SQ00015127-H07-2+100@926.2682119205299x561.971...</td>\n    </tr>\n    <tr>\n      <th>3</th>\n      <td>897.725346</td>\n      <td>160.114747</td>\n      <td>SQ00015127/H07-2</td>\n      <td>100</td>\n      <td>BRD-K33226500-001-01-0</td>\n      <td>SQ00015127-H07-2+100@897.7253456221199x160.114...</td>\n    </tr>\n    <tr>\n      <th>4</th>\n      <td>60.689132</td>\n      <td>462.098019</td>\n      <td>SQ00015127/H07-2</td>\n      <td>100</td>\n      <td>BRD-K33226500-001-01-0</td>\n      <td>SQ00015127-H07-2+100@60.689132392675x462.09801...</td>\n    </tr>\n  </tbody>\n</table>\n</div>"
     },
     "execution_count": 65,
     "metadata": {},
     "output_type": "execute_result"
    }
   ],
   "source": [
    "sc.head()\n"
   ],
   "metadata": {
    "collapsed": false,
    "pycharm": {
     "name": "#%%\n"
    }
   }
  },
  {
   "cell_type": "code",
   "execution_count": 66,
   "outputs": [
    {
     "data": {
      "text/plain": "   Unnamed: 0 Metadata_Plate Metadata_Well  Metadata_Site  \\\n0         891     SQ00014816           A04              1   \n1         892     SQ00014816           A04              2   \n2         893     SQ00014816           A04              3   \n3         894     SQ00014816           A04              4   \n4         895     SQ00014816           A04              5   \n\n  Metadata_broad_sample Metadata_moa  Metadata_mmoles_per_liter  \\\n0                  DMSO      unknown                        0.0   \n1                  DMSO      unknown                        0.0   \n2                  DMSO      unknown                        0.0   \n3                  DMSO      unknown                        0.0   \n4                  DMSO      unknown                        0.0   \n\n   Metadata_dose_recode                                       RNA  \\\n0                     0  SQ00014816/r01c04f01p01-ch3sk1fk1fl1.png   \n1                     0  SQ00014816/r01c04f02p01-ch3sk1fk1fl1.png   \n2                     0  SQ00014816/r01c04f03p01-ch3sk1fk1fl1.png   \n3                     0  SQ00014816/r01c04f04p01-ch3sk1fk1fl1.png   \n4                     0  SQ00014816/r01c04f05p01-ch3sk1fk1fl1.png   \n\n                                         ER  ...  \\\n0  SQ00014816/r01c04f01p01-ch2sk1fk1fl1.png  ...   \n1  SQ00014816/r01c04f02p01-ch2sk1fk1fl1.png  ...   \n2  SQ00014816/r01c04f03p01-ch2sk1fk1fl1.png  ...   \n3  SQ00014816/r01c04f04p01-ch2sk1fk1fl1.png  ...   \n4  SQ00014816/r01c04f05p01-ch2sk1fk1fl1.png  ...   \n\n                                       Mito  \\\n0  SQ00014816/r01c04f01p01-ch5sk1fk1fl1.png   \n1  SQ00014816/r01c04f02p01-ch5sk1fk1fl1.png   \n2  SQ00014816/r01c04f03p01-ch5sk1fk1fl1.png   \n3  SQ00014816/r01c04f04p01-ch5sk1fk1fl1.png   \n4  SQ00014816/r01c04f05p01-ch5sk1fk1fl1.png   \n\n                                        DNA Concentration  Treatment_ID  \\\n0  SQ00014816/r01c04f01p01-ch1sk1fk1fl1.png           NaN             0   \n1  SQ00014816/r01c04f02p01-ch1sk1fk1fl1.png           NaN             0   \n2  SQ00014816/r01c04f03p01-ch1sk1fk1fl1.png           NaN             0   \n3  SQ00014816/r01c04f04p01-ch1sk1fk1fl1.png           NaN             0   \n4  SQ00014816/r01c04f05p01-ch1sk1fk1fl1.png           NaN             0   \n\n   Compound pert_iname Treatment_Replicate  Treatment     Plate_Map_Name  \\\n0      DMSO        NaN                 100    DMSO@NA  C-7161-01-LM6-023   \n1      DMSO        NaN                 100    DMSO@NA  C-7161-01-LM6-023   \n2      DMSO        NaN                 100    DMSO@NA  C-7161-01-LM6-023   \n3      DMSO        NaN                 100    DMSO@NA  C-7161-01-LM6-023   \n4      DMSO        NaN                 100    DMSO@NA  C-7161-01-LM6-023   \n\n      Split  \n0      Test  \n1  Training  \n2  Training  \n3  Training  \n4  Training  \n\n[5 rows x 21 columns]",
      "text/html": "<div>\n<style scoped>\n    .dataframe tbody tr th:only-of-type {\n        vertical-align: middle;\n    }\n\n    .dataframe tbody tr th {\n        vertical-align: top;\n    }\n\n    .dataframe thead th {\n        text-align: right;\n    }\n</style>\n<table border=\"1\" class=\"dataframe\">\n  <thead>\n    <tr style=\"text-align: right;\">\n      <th></th>\n      <th>Unnamed: 0</th>\n      <th>Metadata_Plate</th>\n      <th>Metadata_Well</th>\n      <th>Metadata_Site</th>\n      <th>Metadata_broad_sample</th>\n      <th>Metadata_moa</th>\n      <th>Metadata_mmoles_per_liter</th>\n      <th>Metadata_dose_recode</th>\n      <th>RNA</th>\n      <th>ER</th>\n      <th>...</th>\n      <th>Mito</th>\n      <th>DNA</th>\n      <th>Concentration</th>\n      <th>Treatment_ID</th>\n      <th>Compound</th>\n      <th>pert_iname</th>\n      <th>Treatment_Replicate</th>\n      <th>Treatment</th>\n      <th>Plate_Map_Name</th>\n      <th>Split</th>\n    </tr>\n  </thead>\n  <tbody>\n    <tr>\n      <th>0</th>\n      <td>891</td>\n      <td>SQ00014816</td>\n      <td>A04</td>\n      <td>1</td>\n      <td>DMSO</td>\n      <td>unknown</td>\n      <td>0.0</td>\n      <td>0</td>\n      <td>SQ00014816/r01c04f01p01-ch3sk1fk1fl1.png</td>\n      <td>SQ00014816/r01c04f01p01-ch2sk1fk1fl1.png</td>\n      <td>...</td>\n      <td>SQ00014816/r01c04f01p01-ch5sk1fk1fl1.png</td>\n      <td>SQ00014816/r01c04f01p01-ch1sk1fk1fl1.png</td>\n      <td>NaN</td>\n      <td>0</td>\n      <td>DMSO</td>\n      <td>NaN</td>\n      <td>100</td>\n      <td>DMSO@NA</td>\n      <td>C-7161-01-LM6-023</td>\n      <td>Test</td>\n    </tr>\n    <tr>\n      <th>1</th>\n      <td>892</td>\n      <td>SQ00014816</td>\n      <td>A04</td>\n      <td>2</td>\n      <td>DMSO</td>\n      <td>unknown</td>\n      <td>0.0</td>\n      <td>0</td>\n      <td>SQ00014816/r01c04f02p01-ch3sk1fk1fl1.png</td>\n      <td>SQ00014816/r01c04f02p01-ch2sk1fk1fl1.png</td>\n      <td>...</td>\n      <td>SQ00014816/r01c04f02p01-ch5sk1fk1fl1.png</td>\n      <td>SQ00014816/r01c04f02p01-ch1sk1fk1fl1.png</td>\n      <td>NaN</td>\n      <td>0</td>\n      <td>DMSO</td>\n      <td>NaN</td>\n      <td>100</td>\n      <td>DMSO@NA</td>\n      <td>C-7161-01-LM6-023</td>\n      <td>Training</td>\n    </tr>\n    <tr>\n      <th>2</th>\n      <td>893</td>\n      <td>SQ00014816</td>\n      <td>A04</td>\n      <td>3</td>\n      <td>DMSO</td>\n      <td>unknown</td>\n      <td>0.0</td>\n      <td>0</td>\n      <td>SQ00014816/r01c04f03p01-ch3sk1fk1fl1.png</td>\n      <td>SQ00014816/r01c04f03p01-ch2sk1fk1fl1.png</td>\n      <td>...</td>\n      <td>SQ00014816/r01c04f03p01-ch5sk1fk1fl1.png</td>\n      <td>SQ00014816/r01c04f03p01-ch1sk1fk1fl1.png</td>\n      <td>NaN</td>\n      <td>0</td>\n      <td>DMSO</td>\n      <td>NaN</td>\n      <td>100</td>\n      <td>DMSO@NA</td>\n      <td>C-7161-01-LM6-023</td>\n      <td>Training</td>\n    </tr>\n    <tr>\n      <th>3</th>\n      <td>894</td>\n      <td>SQ00014816</td>\n      <td>A04</td>\n      <td>4</td>\n      <td>DMSO</td>\n      <td>unknown</td>\n      <td>0.0</td>\n      <td>0</td>\n      <td>SQ00014816/r01c04f04p01-ch3sk1fk1fl1.png</td>\n      <td>SQ00014816/r01c04f04p01-ch2sk1fk1fl1.png</td>\n      <td>...</td>\n      <td>SQ00014816/r01c04f04p01-ch5sk1fk1fl1.png</td>\n      <td>SQ00014816/r01c04f04p01-ch1sk1fk1fl1.png</td>\n      <td>NaN</td>\n      <td>0</td>\n      <td>DMSO</td>\n      <td>NaN</td>\n      <td>100</td>\n      <td>DMSO@NA</td>\n      <td>C-7161-01-LM6-023</td>\n      <td>Training</td>\n    </tr>\n    <tr>\n      <th>4</th>\n      <td>895</td>\n      <td>SQ00014816</td>\n      <td>A04</td>\n      <td>5</td>\n      <td>DMSO</td>\n      <td>unknown</td>\n      <td>0.0</td>\n      <td>0</td>\n      <td>SQ00014816/r01c04f05p01-ch3sk1fk1fl1.png</td>\n      <td>SQ00014816/r01c04f05p01-ch2sk1fk1fl1.png</td>\n      <td>...</td>\n      <td>SQ00014816/r01c04f05p01-ch5sk1fk1fl1.png</td>\n      <td>SQ00014816/r01c04f05p01-ch1sk1fk1fl1.png</td>\n      <td>NaN</td>\n      <td>0</td>\n      <td>DMSO</td>\n      <td>NaN</td>\n      <td>100</td>\n      <td>DMSO@NA</td>\n      <td>C-7161-01-LM6-023</td>\n      <td>Training</td>\n    </tr>\n  </tbody>\n</table>\n<p>5 rows × 21 columns</p>\n</div>"
     },
     "execution_count": 66,
     "metadata": {},
     "output_type": "execute_result"
    }
   ],
   "source": [
    "top.head()\n"
   ],
   "metadata": {
    "collapsed": false,
    "pycharm": {
     "name": "#%%\n"
    }
   }
  },
  {
   "cell_type": "code",
   "execution_count": 69,
   "outputs": [
    {
     "data": {
      "text/plain": "        Nuclei_Location_Center_X  Nuclei_Location_Center_Y               Key  \\\n0                     253.317311                693.409830  SQ00015127/H07-2   \n1                     945.928061                494.126531  SQ00015127/H07-2   \n2                     926.268212                561.971670  SQ00015127/H07-2   \n3                     897.725346                160.114747  SQ00015127/H07-2   \n4                      60.689132                462.098019  SQ00015127/H07-2   \n...                          ...                       ...               ...   \n880525                 67.076644                991.681179  SQ00015117/I01-7   \n880526                176.828186               1001.945201  SQ00015117/I01-7   \n880527                 77.216210               1008.693242  SQ00015117/I01-7   \n880528                628.031977               1027.588663  SQ00015117/I01-7   \n880529                211.900101               1052.002782  SQ00015117/I01-7   \n\n        Target              Class_Name  \\\n0          100  BRD-K33226500-001-01-0   \n1          100  BRD-K33226500-001-01-0   \n2          100  BRD-K33226500-001-01-0   \n3          100  BRD-K33226500-001-01-0   \n4          100  BRD-K33226500-001-01-0   \n...        ...                     ...   \n880525      12  BRD-A28467416-002-01-0   \n880526      12  BRD-A28467416-002-01-0   \n880527      12  BRD-A28467416-002-01-0   \n880528      12  BRD-A28467416-002-01-0   \n880529      12  BRD-A28467416-002-01-0   \n\n                                               Image_Name  \n0       SQ00015127-H07-2+100@253.31731116732948x693.40...  \n1       SQ00015127-H07-2+100@945.9280612244901x494.126...  \n2       SQ00015127-H07-2+100@926.2682119205299x561.971...  \n3       SQ00015127-H07-2+100@897.7253456221199x160.114...  \n4       SQ00015127-H07-2+100@60.689132392675x462.09801...  \n...                                                   ...  \n880525  SQ00015117-I01-7+12@67.0766439909295x991.68117...  \n880526  SQ00015117-I01-7+12@176.828186497124x1001.9452...  \n880527  SQ00015117-I01-7+12@77.21621024734999x1008.693...  \n880528  SQ00015117-I01-7+12@628.031976744185x1027.5886...  \n880529  SQ00015117-I01-7+12@211.900101163379x1052.0027...  \n\n[431131 rows x 6 columns]",
      "text/html": "<div>\n<style scoped>\n    .dataframe tbody tr th:only-of-type {\n        vertical-align: middle;\n    }\n\n    .dataframe tbody tr th {\n        vertical-align: top;\n    }\n\n    .dataframe thead th {\n        text-align: right;\n    }\n</style>\n<table border=\"1\" class=\"dataframe\">\n  <thead>\n    <tr style=\"text-align: right;\">\n      <th></th>\n      <th>Nuclei_Location_Center_X</th>\n      <th>Nuclei_Location_Center_Y</th>\n      <th>Key</th>\n      <th>Target</th>\n      <th>Class_Name</th>\n      <th>Image_Name</th>\n    </tr>\n  </thead>\n  <tbody>\n    <tr>\n      <th>0</th>\n      <td>253.317311</td>\n      <td>693.409830</td>\n      <td>SQ00015127/H07-2</td>\n      <td>100</td>\n      <td>BRD-K33226500-001-01-0</td>\n      <td>SQ00015127-H07-2+100@253.31731116732948x693.40...</td>\n    </tr>\n    <tr>\n      <th>1</th>\n      <td>945.928061</td>\n      <td>494.126531</td>\n      <td>SQ00015127/H07-2</td>\n      <td>100</td>\n      <td>BRD-K33226500-001-01-0</td>\n      <td>SQ00015127-H07-2+100@945.9280612244901x494.126...</td>\n    </tr>\n    <tr>\n      <th>2</th>\n      <td>926.268212</td>\n      <td>561.971670</td>\n      <td>SQ00015127/H07-2</td>\n      <td>100</td>\n      <td>BRD-K33226500-001-01-0</td>\n      <td>SQ00015127-H07-2+100@926.2682119205299x561.971...</td>\n    </tr>\n    <tr>\n      <th>3</th>\n      <td>897.725346</td>\n      <td>160.114747</td>\n      <td>SQ00015127/H07-2</td>\n      <td>100</td>\n      <td>BRD-K33226500-001-01-0</td>\n      <td>SQ00015127-H07-2+100@897.7253456221199x160.114...</td>\n    </tr>\n    <tr>\n      <th>4</th>\n      <td>60.689132</td>\n      <td>462.098019</td>\n      <td>SQ00015127/H07-2</td>\n      <td>100</td>\n      <td>BRD-K33226500-001-01-0</td>\n      <td>SQ00015127-H07-2+100@60.689132392675x462.09801...</td>\n    </tr>\n    <tr>\n      <th>...</th>\n      <td>...</td>\n      <td>...</td>\n      <td>...</td>\n      <td>...</td>\n      <td>...</td>\n      <td>...</td>\n    </tr>\n    <tr>\n      <th>880525</th>\n      <td>67.076644</td>\n      <td>991.681179</td>\n      <td>SQ00015117/I01-7</td>\n      <td>12</td>\n      <td>BRD-A28467416-002-01-0</td>\n      <td>SQ00015117-I01-7+12@67.0766439909295x991.68117...</td>\n    </tr>\n    <tr>\n      <th>880526</th>\n      <td>176.828186</td>\n      <td>1001.945201</td>\n      <td>SQ00015117/I01-7</td>\n      <td>12</td>\n      <td>BRD-A28467416-002-01-0</td>\n      <td>SQ00015117-I01-7+12@176.828186497124x1001.9452...</td>\n    </tr>\n    <tr>\n      <th>880527</th>\n      <td>77.216210</td>\n      <td>1008.693242</td>\n      <td>SQ00015117/I01-7</td>\n      <td>12</td>\n      <td>BRD-A28467416-002-01-0</td>\n      <td>SQ00015117-I01-7+12@77.21621024734999x1008.693...</td>\n    </tr>\n    <tr>\n      <th>880528</th>\n      <td>628.031977</td>\n      <td>1027.588663</td>\n      <td>SQ00015117/I01-7</td>\n      <td>12</td>\n      <td>BRD-A28467416-002-01-0</td>\n      <td>SQ00015117-I01-7+12@628.031976744185x1027.5886...</td>\n    </tr>\n    <tr>\n      <th>880529</th>\n      <td>211.900101</td>\n      <td>1052.002782</td>\n      <td>SQ00015117/I01-7</td>\n      <td>12</td>\n      <td>BRD-A28467416-002-01-0</td>\n      <td>SQ00015117-I01-7+12@211.900101163379x1052.0027...</td>\n    </tr>\n  </tbody>\n</table>\n<p>431131 rows × 6 columns</p>\n</div>"
     },
     "execution_count": 69,
     "metadata": {},
     "output_type": "execute_result"
    }
   ],
   "source": [
    "sc[sc.Class_Name.isin(top.Metadata_broad_sample.unique())]"
   ],
   "metadata": {
    "collapsed": false,
    "pycharm": {
     "name": "#%%\n"
    }
   }
  },
  {
   "cell_type": "code",
   "execution_count": 83,
   "outputs": [],
   "source": [
    "# split top20moa\n",
    "df_lm = pd.read_csv('top20_moa.csv')"
   ],
   "metadata": {
    "collapsed": false,
    "pycharm": {
     "name": "#%%\n"
    }
   }
  },
  {
   "cell_type": "code",
   "execution_count": 73,
   "outputs": [],
   "source": [
    "ls = np.array_split(df_lm.Metadata_Plate.unique(), 5)"
   ],
   "metadata": {
    "collapsed": false,
    "pycharm": {
     "name": "#%%\n"
    }
   }
  },
  {
   "cell_type": "code",
   "execution_count": 74,
   "outputs": [],
   "source": [
    "df_ls = []\n",
    "for i in range(5):\n",
    "    df_ls.append(df_lm[df_lm.Metadata_Plate.isin(ls[i])])"
   ],
   "metadata": {
    "collapsed": false,
    "pycharm": {
     "name": "#%%\n"
    }
   }
  },
  {
   "cell_type": "code",
   "execution_count": 75,
   "outputs": [
    {
     "data": {
      "text/plain": "       Unnamed: 0 Metadata_Plate Metadata_Well  Metadata_Site  \\\n0             891     SQ00014816           A04              1   \n1             892     SQ00014816           A04              2   \n2             893     SQ00014816           A04              3   \n3             894     SQ00014816           A04              4   \n4             895     SQ00014816           A04              5   \n...           ...            ...           ...            ...   \n23981       76918     SQ00015197           P07              5   \n23982       76919     SQ00015197           P07              6   \n23983       76920     SQ00015197           P07              7   \n23984       76921     SQ00015197           P07              8   \n23985       76922     SQ00015197           P07              9   \n\n        Metadata_broad_sample                             Metadata_moa  \\\n0                        DMSO                                  unknown   \n1                        DMSO                                  unknown   \n2                        DMSO                                  unknown   \n3                        DMSO                                  unknown   \n4                        DMSO                                  unknown   \n...                       ...                                      ...   \n23981  BRD-K43966364-237-04-8  bacterial cell wall synthesis inhibitor   \n23982  BRD-K43966364-237-04-8  bacterial cell wall synthesis inhibitor   \n23983  BRD-K43966364-237-04-8  bacterial cell wall synthesis inhibitor   \n23984  BRD-K43966364-237-04-8  bacterial cell wall synthesis inhibitor   \n23985  BRD-K43966364-237-04-8  bacterial cell wall synthesis inhibitor   \n\n       Metadata_mmoles_per_liter  Metadata_dose_recode  \\\n0                            0.0                     0   \n1                            0.0                     0   \n2                            0.0                     0   \n3                            0.0                     0   \n4                            0.0                     0   \n...                          ...                   ...   \n23981                       10.0                     6   \n23982                       10.0                     6   \n23983                       10.0                     6   \n23984                       10.0                     6   \n23985                       10.0                     6   \n\n                                            RNA  \\\n0      SQ00014816/r01c04f01p01-ch3sk1fk1fl1.png   \n1      SQ00014816/r01c04f02p01-ch3sk1fk1fl1.png   \n2      SQ00014816/r01c04f03p01-ch3sk1fk1fl1.png   \n3      SQ00014816/r01c04f04p01-ch3sk1fk1fl1.png   \n4      SQ00014816/r01c04f05p01-ch3sk1fk1fl1.png   \n...                                         ...   \n23981  SQ00015197/r16c07f05p01-ch3sk1fk1fl1.png   \n23982  SQ00015197/r16c07f06p01-ch3sk1fk1fl1.png   \n23983  SQ00015197/r16c07f07p01-ch3sk1fk1fl1.png   \n23984  SQ00015197/r16c07f08p01-ch3sk1fk1fl1.png   \n23985  SQ00015197/r16c07f09p01-ch3sk1fk1fl1.png   \n\n                                             ER  ...  \\\n0      SQ00014816/r01c04f01p01-ch2sk1fk1fl1.png  ...   \n1      SQ00014816/r01c04f02p01-ch2sk1fk1fl1.png  ...   \n2      SQ00014816/r01c04f03p01-ch2sk1fk1fl1.png  ...   \n3      SQ00014816/r01c04f04p01-ch2sk1fk1fl1.png  ...   \n4      SQ00014816/r01c04f05p01-ch2sk1fk1fl1.png  ...   \n...                                         ...  ...   \n23981  SQ00015197/r16c07f05p01-ch2sk1fk1fl1.png  ...   \n23982  SQ00015197/r16c07f06p01-ch2sk1fk1fl1.png  ...   \n23983  SQ00015197/r16c07f07p01-ch2sk1fk1fl1.png  ...   \n23984  SQ00015197/r16c07f08p01-ch2sk1fk1fl1.png  ...   \n23985  SQ00015197/r16c07f09p01-ch2sk1fk1fl1.png  ...   \n\n                                           Mito  \\\n0      SQ00014816/r01c04f01p01-ch5sk1fk1fl1.png   \n1      SQ00014816/r01c04f02p01-ch5sk1fk1fl1.png   \n2      SQ00014816/r01c04f03p01-ch5sk1fk1fl1.png   \n3      SQ00014816/r01c04f04p01-ch5sk1fk1fl1.png   \n4      SQ00014816/r01c04f05p01-ch5sk1fk1fl1.png   \n...                                         ...   \n23981  SQ00015197/r16c07f05p01-ch5sk1fk1fl1.png   \n23982  SQ00015197/r16c07f06p01-ch5sk1fk1fl1.png   \n23983  SQ00015197/r16c07f07p01-ch5sk1fk1fl1.png   \n23984  SQ00015197/r16c07f08p01-ch5sk1fk1fl1.png   \n23985  SQ00015197/r16c07f09p01-ch5sk1fk1fl1.png   \n\n                                            DNA Concentration  Treatment_ID  \\\n0      SQ00014816/r01c04f01p01-ch1sk1fk1fl1.png           NaN             0   \n1      SQ00014816/r01c04f02p01-ch1sk1fk1fl1.png           NaN             0   \n2      SQ00014816/r01c04f03p01-ch1sk1fk1fl1.png           NaN             0   \n3      SQ00014816/r01c04f04p01-ch1sk1fk1fl1.png           NaN             0   \n4      SQ00014816/r01c04f05p01-ch1sk1fk1fl1.png           NaN             0   \n...                                         ...           ...           ...   \n23981  SQ00015197/r16c07f05p01-ch1sk1fk1fl1.png          10.0          4353   \n23982  SQ00015197/r16c07f06p01-ch1sk1fk1fl1.png          10.0          4353   \n23983  SQ00015197/r16c07f07p01-ch1sk1fk1fl1.png          10.0          4353   \n23984  SQ00015197/r16c07f08p01-ch1sk1fk1fl1.png          10.0          4353   \n23985  SQ00015197/r16c07f09p01-ch1sk1fk1fl1.png          10.0          4353   \n\n                     Compound              pert_iname Treatment_Replicate  \\\n0                        DMSO                     NaN                 100   \n1                        DMSO                     NaN                 100   \n2                        DMSO                     NaN                 100   \n3                        DMSO                     NaN                 100   \n4                        DMSO                     NaN                 100   \n...                       ...                     ...                 ...   \n23981  BRD-K43966364-237-04-8  penicillin-v-potassium                   1   \n23982  BRD-K43966364-237-04-8  penicillin-v-potassium                   1   \n23983  BRD-K43966364-237-04-8  penicillin-v-potassium                   1   \n23984  BRD-K43966364-237-04-8  penicillin-v-potassium                   1   \n23985  BRD-K43966364-237-04-8  penicillin-v-potassium                   1   \n\n                                        Treatment     Plate_Map_Name     Split  \n0                                         DMSO@NA  C-7161-01-LM6-023      Test  \n1                                         DMSO@NA  C-7161-01-LM6-023  Training  \n2                                         DMSO@NA  C-7161-01-LM6-023  Training  \n3                                         DMSO@NA  C-7161-01-LM6-023  Training  \n4                                         DMSO@NA  C-7161-01-LM6-023  Training  \n...                                           ...                ...       ...  \n23981  BRD-K43966364-237-04-8@9.99999999999999999  C-7161-01-LM6-013  Training  \n23982  BRD-K43966364-237-04-8@9.99999999999999999  C-7161-01-LM6-013  Training  \n23983  BRD-K43966364-237-04-8@9.99999999999999999  C-7161-01-LM6-013  Training  \n23984  BRD-K43966364-237-04-8@9.99999999999999999  C-7161-01-LM6-013  Training  \n23985  BRD-K43966364-237-04-8@9.99999999999999999  C-7161-01-LM6-013  Training  \n\n[5255 rows x 21 columns]",
      "text/html": "<div>\n<style scoped>\n    .dataframe tbody tr th:only-of-type {\n        vertical-align: middle;\n    }\n\n    .dataframe tbody tr th {\n        vertical-align: top;\n    }\n\n    .dataframe thead th {\n        text-align: right;\n    }\n</style>\n<table border=\"1\" class=\"dataframe\">\n  <thead>\n    <tr style=\"text-align: right;\">\n      <th></th>\n      <th>Unnamed: 0</th>\n      <th>Metadata_Plate</th>\n      <th>Metadata_Well</th>\n      <th>Metadata_Site</th>\n      <th>Metadata_broad_sample</th>\n      <th>Metadata_moa</th>\n      <th>Metadata_mmoles_per_liter</th>\n      <th>Metadata_dose_recode</th>\n      <th>RNA</th>\n      <th>ER</th>\n      <th>...</th>\n      <th>Mito</th>\n      <th>DNA</th>\n      <th>Concentration</th>\n      <th>Treatment_ID</th>\n      <th>Compound</th>\n      <th>pert_iname</th>\n      <th>Treatment_Replicate</th>\n      <th>Treatment</th>\n      <th>Plate_Map_Name</th>\n      <th>Split</th>\n    </tr>\n  </thead>\n  <tbody>\n    <tr>\n      <th>0</th>\n      <td>891</td>\n      <td>SQ00014816</td>\n      <td>A04</td>\n      <td>1</td>\n      <td>DMSO</td>\n      <td>unknown</td>\n      <td>0.0</td>\n      <td>0</td>\n      <td>SQ00014816/r01c04f01p01-ch3sk1fk1fl1.png</td>\n      <td>SQ00014816/r01c04f01p01-ch2sk1fk1fl1.png</td>\n      <td>...</td>\n      <td>SQ00014816/r01c04f01p01-ch5sk1fk1fl1.png</td>\n      <td>SQ00014816/r01c04f01p01-ch1sk1fk1fl1.png</td>\n      <td>NaN</td>\n      <td>0</td>\n      <td>DMSO</td>\n      <td>NaN</td>\n      <td>100</td>\n      <td>DMSO@NA</td>\n      <td>C-7161-01-LM6-023</td>\n      <td>Test</td>\n    </tr>\n    <tr>\n      <th>1</th>\n      <td>892</td>\n      <td>SQ00014816</td>\n      <td>A04</td>\n      <td>2</td>\n      <td>DMSO</td>\n      <td>unknown</td>\n      <td>0.0</td>\n      <td>0</td>\n      <td>SQ00014816/r01c04f02p01-ch3sk1fk1fl1.png</td>\n      <td>SQ00014816/r01c04f02p01-ch2sk1fk1fl1.png</td>\n      <td>...</td>\n      <td>SQ00014816/r01c04f02p01-ch5sk1fk1fl1.png</td>\n      <td>SQ00014816/r01c04f02p01-ch1sk1fk1fl1.png</td>\n      <td>NaN</td>\n      <td>0</td>\n      <td>DMSO</td>\n      <td>NaN</td>\n      <td>100</td>\n      <td>DMSO@NA</td>\n      <td>C-7161-01-LM6-023</td>\n      <td>Training</td>\n    </tr>\n    <tr>\n      <th>2</th>\n      <td>893</td>\n      <td>SQ00014816</td>\n      <td>A04</td>\n      <td>3</td>\n      <td>DMSO</td>\n      <td>unknown</td>\n      <td>0.0</td>\n      <td>0</td>\n      <td>SQ00014816/r01c04f03p01-ch3sk1fk1fl1.png</td>\n      <td>SQ00014816/r01c04f03p01-ch2sk1fk1fl1.png</td>\n      <td>...</td>\n      <td>SQ00014816/r01c04f03p01-ch5sk1fk1fl1.png</td>\n      <td>SQ00014816/r01c04f03p01-ch1sk1fk1fl1.png</td>\n      <td>NaN</td>\n      <td>0</td>\n      <td>DMSO</td>\n      <td>NaN</td>\n      <td>100</td>\n      <td>DMSO@NA</td>\n      <td>C-7161-01-LM6-023</td>\n      <td>Training</td>\n    </tr>\n    <tr>\n      <th>3</th>\n      <td>894</td>\n      <td>SQ00014816</td>\n      <td>A04</td>\n      <td>4</td>\n      <td>DMSO</td>\n      <td>unknown</td>\n      <td>0.0</td>\n      <td>0</td>\n      <td>SQ00014816/r01c04f04p01-ch3sk1fk1fl1.png</td>\n      <td>SQ00014816/r01c04f04p01-ch2sk1fk1fl1.png</td>\n      <td>...</td>\n      <td>SQ00014816/r01c04f04p01-ch5sk1fk1fl1.png</td>\n      <td>SQ00014816/r01c04f04p01-ch1sk1fk1fl1.png</td>\n      <td>NaN</td>\n      <td>0</td>\n      <td>DMSO</td>\n      <td>NaN</td>\n      <td>100</td>\n      <td>DMSO@NA</td>\n      <td>C-7161-01-LM6-023</td>\n      <td>Training</td>\n    </tr>\n    <tr>\n      <th>4</th>\n      <td>895</td>\n      <td>SQ00014816</td>\n      <td>A04</td>\n      <td>5</td>\n      <td>DMSO</td>\n      <td>unknown</td>\n      <td>0.0</td>\n      <td>0</td>\n      <td>SQ00014816/r01c04f05p01-ch3sk1fk1fl1.png</td>\n      <td>SQ00014816/r01c04f05p01-ch2sk1fk1fl1.png</td>\n      <td>...</td>\n      <td>SQ00014816/r01c04f05p01-ch5sk1fk1fl1.png</td>\n      <td>SQ00014816/r01c04f05p01-ch1sk1fk1fl1.png</td>\n      <td>NaN</td>\n      <td>0</td>\n      <td>DMSO</td>\n      <td>NaN</td>\n      <td>100</td>\n      <td>DMSO@NA</td>\n      <td>C-7161-01-LM6-023</td>\n      <td>Training</td>\n    </tr>\n    <tr>\n      <th>...</th>\n      <td>...</td>\n      <td>...</td>\n      <td>...</td>\n      <td>...</td>\n      <td>...</td>\n      <td>...</td>\n      <td>...</td>\n      <td>...</td>\n      <td>...</td>\n      <td>...</td>\n      <td>...</td>\n      <td>...</td>\n      <td>...</td>\n      <td>...</td>\n      <td>...</td>\n      <td>...</td>\n      <td>...</td>\n      <td>...</td>\n      <td>...</td>\n      <td>...</td>\n      <td>...</td>\n    </tr>\n    <tr>\n      <th>23981</th>\n      <td>76918</td>\n      <td>SQ00015197</td>\n      <td>P07</td>\n      <td>5</td>\n      <td>BRD-K43966364-237-04-8</td>\n      <td>bacterial cell wall synthesis inhibitor</td>\n      <td>10.0</td>\n      <td>6</td>\n      <td>SQ00015197/r16c07f05p01-ch3sk1fk1fl1.png</td>\n      <td>SQ00015197/r16c07f05p01-ch2sk1fk1fl1.png</td>\n      <td>...</td>\n      <td>SQ00015197/r16c07f05p01-ch5sk1fk1fl1.png</td>\n      <td>SQ00015197/r16c07f05p01-ch1sk1fk1fl1.png</td>\n      <td>10.0</td>\n      <td>4353</td>\n      <td>BRD-K43966364-237-04-8</td>\n      <td>penicillin-v-potassium</td>\n      <td>1</td>\n      <td>BRD-K43966364-237-04-8@9.99999999999999999</td>\n      <td>C-7161-01-LM6-013</td>\n      <td>Training</td>\n    </tr>\n    <tr>\n      <th>23982</th>\n      <td>76919</td>\n      <td>SQ00015197</td>\n      <td>P07</td>\n      <td>6</td>\n      <td>BRD-K43966364-237-04-8</td>\n      <td>bacterial cell wall synthesis inhibitor</td>\n      <td>10.0</td>\n      <td>6</td>\n      <td>SQ00015197/r16c07f06p01-ch3sk1fk1fl1.png</td>\n      <td>SQ00015197/r16c07f06p01-ch2sk1fk1fl1.png</td>\n      <td>...</td>\n      <td>SQ00015197/r16c07f06p01-ch5sk1fk1fl1.png</td>\n      <td>SQ00015197/r16c07f06p01-ch1sk1fk1fl1.png</td>\n      <td>10.0</td>\n      <td>4353</td>\n      <td>BRD-K43966364-237-04-8</td>\n      <td>penicillin-v-potassium</td>\n      <td>1</td>\n      <td>BRD-K43966364-237-04-8@9.99999999999999999</td>\n      <td>C-7161-01-LM6-013</td>\n      <td>Training</td>\n    </tr>\n    <tr>\n      <th>23983</th>\n      <td>76920</td>\n      <td>SQ00015197</td>\n      <td>P07</td>\n      <td>7</td>\n      <td>BRD-K43966364-237-04-8</td>\n      <td>bacterial cell wall synthesis inhibitor</td>\n      <td>10.0</td>\n      <td>6</td>\n      <td>SQ00015197/r16c07f07p01-ch3sk1fk1fl1.png</td>\n      <td>SQ00015197/r16c07f07p01-ch2sk1fk1fl1.png</td>\n      <td>...</td>\n      <td>SQ00015197/r16c07f07p01-ch5sk1fk1fl1.png</td>\n      <td>SQ00015197/r16c07f07p01-ch1sk1fk1fl1.png</td>\n      <td>10.0</td>\n      <td>4353</td>\n      <td>BRD-K43966364-237-04-8</td>\n      <td>penicillin-v-potassium</td>\n      <td>1</td>\n      <td>BRD-K43966364-237-04-8@9.99999999999999999</td>\n      <td>C-7161-01-LM6-013</td>\n      <td>Training</td>\n    </tr>\n    <tr>\n      <th>23984</th>\n      <td>76921</td>\n      <td>SQ00015197</td>\n      <td>P07</td>\n      <td>8</td>\n      <td>BRD-K43966364-237-04-8</td>\n      <td>bacterial cell wall synthesis inhibitor</td>\n      <td>10.0</td>\n      <td>6</td>\n      <td>SQ00015197/r16c07f08p01-ch3sk1fk1fl1.png</td>\n      <td>SQ00015197/r16c07f08p01-ch2sk1fk1fl1.png</td>\n      <td>...</td>\n      <td>SQ00015197/r16c07f08p01-ch5sk1fk1fl1.png</td>\n      <td>SQ00015197/r16c07f08p01-ch1sk1fk1fl1.png</td>\n      <td>10.0</td>\n      <td>4353</td>\n      <td>BRD-K43966364-237-04-8</td>\n      <td>penicillin-v-potassium</td>\n      <td>1</td>\n      <td>BRD-K43966364-237-04-8@9.99999999999999999</td>\n      <td>C-7161-01-LM6-013</td>\n      <td>Training</td>\n    </tr>\n    <tr>\n      <th>23985</th>\n      <td>76922</td>\n      <td>SQ00015197</td>\n      <td>P07</td>\n      <td>9</td>\n      <td>BRD-K43966364-237-04-8</td>\n      <td>bacterial cell wall synthesis inhibitor</td>\n      <td>10.0</td>\n      <td>6</td>\n      <td>SQ00015197/r16c07f09p01-ch3sk1fk1fl1.png</td>\n      <td>SQ00015197/r16c07f09p01-ch2sk1fk1fl1.png</td>\n      <td>...</td>\n      <td>SQ00015197/r16c07f09p01-ch5sk1fk1fl1.png</td>\n      <td>SQ00015197/r16c07f09p01-ch1sk1fk1fl1.png</td>\n      <td>10.0</td>\n      <td>4353</td>\n      <td>BRD-K43966364-237-04-8</td>\n      <td>penicillin-v-potassium</td>\n      <td>1</td>\n      <td>BRD-K43966364-237-04-8@9.99999999999999999</td>\n      <td>C-7161-01-LM6-013</td>\n      <td>Training</td>\n    </tr>\n  </tbody>\n</table>\n<p>5255 rows × 21 columns</p>\n</div>"
     },
     "execution_count": 75,
     "metadata": {},
     "output_type": "execute_result"
    }
   ],
   "source": [
    "df_ls[0]\n"
   ],
   "metadata": {
    "collapsed": false,
    "pycharm": {
     "name": "#%%\n"
    }
   }
  },
  {
   "cell_type": "code",
   "execution_count": 76,
   "outputs": [],
   "source": [
    "for i in range(5):\n",
    "    df_ls[i].to_csv(f\"by_plates/folder_{i}.csv\", index = False)\n"
   ],
   "metadata": {
    "collapsed": false,
    "pycharm": {
     "name": "#%%\n"
    }
   }
  },
  {
   "cell_type": "code",
   "execution_count": 77,
   "outputs": [
    {
     "data": {
      "text/plain": "0    unknown\n1    unknown\n2    unknown\n3    unknown\n4    unknown\nName: Metadata_moa, dtype: object"
     },
     "execution_count": 77,
     "metadata": {},
     "output_type": "execute_result"
    }
   ],
   "source": [
    "df_lm.Metadata_moa.head()"
   ],
   "metadata": {
    "collapsed": false,
    "pycharm": {
     "name": "#%%\n"
    }
   }
  },
  {
   "cell_type": "code",
   "execution_count": 80,
   "outputs": [],
   "source": [
    "df_lm['test'] = df_lm['Metadata_Plate'].str.slice(stop=10)"
   ],
   "metadata": {
    "collapsed": false,
    "pycharm": {
     "name": "#%%\n"
    }
   }
  },
  {
   "cell_type": "code",
   "execution_count": 89,
   "outputs": [
    {
     "data": {
      "text/plain": "570"
     },
     "execution_count": 89,
     "metadata": {},
     "output_type": "execute_result"
    }
   ],
   "source": [
    "len(df_lm.Treatment.unique())"
   ],
   "metadata": {
    "collapsed": false,
    "pycharm": {
     "name": "#%%\n"
    }
   }
  },
  {
   "cell_type": "code",
   "execution_count": 3,
   "outputs": [],
   "source": [
    "import pandas as pd\n",
    "\n",
    "top = pd.read_csv('top20_moa.csv')\n",
    "\n",
    "# print(len(sc.Metadata_broad_sample.unique()))"
   ],
   "metadata": {
    "collapsed": false,
    "pycharm": {
     "name": "#%%\n"
    }
   }
  },
  {
   "cell_type": "code",
   "execution_count": 4,
   "outputs": [
    {
     "data": {
      "text/plain": "Training    24384\nTest          601\nName: Split, dtype: int64"
     },
     "execution_count": 4,
     "metadata": {},
     "output_type": "execute_result"
    }
   ],
   "source": [
    "top.Split.value_counts()"
   ],
   "metadata": {
    "collapsed": false,
    "pycharm": {
     "name": "#%%\n"
    }
   }
  },
  {
   "cell_type": "code",
   "execution_count": 5,
   "outputs": [
    {
     "data": {
      "text/plain": "DMSO                      32\nBRD-K62858456-001-01-8     1\nBRD-K49215523-001-04-2     1\nBRD-K02292852-001-02-1     1\nBRD-A30815329-001-10-5     1\n                          ..\nBRD-K64052750-001-17-5     1\nBRD-A10977446-001-12-1     1\nBRD-K91111634-001-01-2     1\nBRD-A93964801-003-03-3     1\nBRD-A65013509-003-24-4     1\nName: Metadata_broad_sample, Length: 570, dtype: int64"
     },
     "execution_count": 5,
     "metadata": {},
     "output_type": "execute_result"
    }
   ],
   "source": [
    "top[top['Split'] == 'Test'].Metadata_broad_sample.value_counts()"
   ],
   "metadata": {
    "collapsed": false,
    "pycharm": {
     "name": "#%%\n"
    }
   }
  },
  {
   "cell_type": "code",
   "execution_count": 3,
   "outputs": [
    {
     "data": {
      "text/plain": "   Unnamed: 0 Metadata_Plate Metadata_Well  Metadata_Site  \\\n0         891     SQ00014816           A04              1   \n1         892     SQ00014816           A04              2   \n2         893     SQ00014816           A04              3   \n3         894     SQ00014816           A04              4   \n4         895     SQ00014816           A04              5   \n\n  Metadata_broad_sample Metadata_moa  Metadata_mmoles_per_liter  \\\n0                  DMSO      unknown                        0.0   \n1                  DMSO      unknown                        0.0   \n2                  DMSO      unknown                        0.0   \n3                  DMSO      unknown                        0.0   \n4                  DMSO      unknown                        0.0   \n\n   Metadata_dose_recode                                       RNA  \\\n0                     0  SQ00014816/r01c04f01p01-ch3sk1fk1fl1.png   \n1                     0  SQ00014816/r01c04f02p01-ch3sk1fk1fl1.png   \n2                     0  SQ00014816/r01c04f03p01-ch3sk1fk1fl1.png   \n3                     0  SQ00014816/r01c04f04p01-ch3sk1fk1fl1.png   \n4                     0  SQ00014816/r01c04f05p01-ch3sk1fk1fl1.png   \n\n                                         ER  ...  \\\n0  SQ00014816/r01c04f01p01-ch2sk1fk1fl1.png  ...   \n1  SQ00014816/r01c04f02p01-ch2sk1fk1fl1.png  ...   \n2  SQ00014816/r01c04f03p01-ch2sk1fk1fl1.png  ...   \n3  SQ00014816/r01c04f04p01-ch2sk1fk1fl1.png  ...   \n4  SQ00014816/r01c04f05p01-ch2sk1fk1fl1.png  ...   \n\n                                       Mito  \\\n0  SQ00014816/r01c04f01p01-ch5sk1fk1fl1.png   \n1  SQ00014816/r01c04f02p01-ch5sk1fk1fl1.png   \n2  SQ00014816/r01c04f03p01-ch5sk1fk1fl1.png   \n3  SQ00014816/r01c04f04p01-ch5sk1fk1fl1.png   \n4  SQ00014816/r01c04f05p01-ch5sk1fk1fl1.png   \n\n                                        DNA Concentration  Treatment_ID  \\\n0  SQ00014816/r01c04f01p01-ch1sk1fk1fl1.png           NaN             0   \n1  SQ00014816/r01c04f02p01-ch1sk1fk1fl1.png           NaN             0   \n2  SQ00014816/r01c04f03p01-ch1sk1fk1fl1.png           NaN             0   \n3  SQ00014816/r01c04f04p01-ch1sk1fk1fl1.png           NaN             0   \n4  SQ00014816/r01c04f05p01-ch1sk1fk1fl1.png           NaN             0   \n\n   Compound pert_iname Treatment_Replicate  Treatment     Plate_Map_Name  \\\n0      DMSO        NaN                 100    DMSO@NA  C-7161-01-LM6-023   \n1      DMSO        NaN                 100    DMSO@NA  C-7161-01-LM6-023   \n2      DMSO        NaN                 100    DMSO@NA  C-7161-01-LM6-023   \n3      DMSO        NaN                 100    DMSO@NA  C-7161-01-LM6-023   \n4      DMSO        NaN                 100    DMSO@NA  C-7161-01-LM6-023   \n\n      Split  \n0      Test  \n1  Training  \n2  Training  \n3  Training  \n4  Training  \n\n[5 rows x 21 columns]",
      "text/html": "<div>\n<style scoped>\n    .dataframe tbody tr th:only-of-type {\n        vertical-align: middle;\n    }\n\n    .dataframe tbody tr th {\n        vertical-align: top;\n    }\n\n    .dataframe thead th {\n        text-align: right;\n    }\n</style>\n<table border=\"1\" class=\"dataframe\">\n  <thead>\n    <tr style=\"text-align: right;\">\n      <th></th>\n      <th>Unnamed: 0</th>\n      <th>Metadata_Plate</th>\n      <th>Metadata_Well</th>\n      <th>Metadata_Site</th>\n      <th>Metadata_broad_sample</th>\n      <th>Metadata_moa</th>\n      <th>Metadata_mmoles_per_liter</th>\n      <th>Metadata_dose_recode</th>\n      <th>RNA</th>\n      <th>ER</th>\n      <th>...</th>\n      <th>Mito</th>\n      <th>DNA</th>\n      <th>Concentration</th>\n      <th>Treatment_ID</th>\n      <th>Compound</th>\n      <th>pert_iname</th>\n      <th>Treatment_Replicate</th>\n      <th>Treatment</th>\n      <th>Plate_Map_Name</th>\n      <th>Split</th>\n    </tr>\n  </thead>\n  <tbody>\n    <tr>\n      <th>0</th>\n      <td>891</td>\n      <td>SQ00014816</td>\n      <td>A04</td>\n      <td>1</td>\n      <td>DMSO</td>\n      <td>unknown</td>\n      <td>0.0</td>\n      <td>0</td>\n      <td>SQ00014816/r01c04f01p01-ch3sk1fk1fl1.png</td>\n      <td>SQ00014816/r01c04f01p01-ch2sk1fk1fl1.png</td>\n      <td>...</td>\n      <td>SQ00014816/r01c04f01p01-ch5sk1fk1fl1.png</td>\n      <td>SQ00014816/r01c04f01p01-ch1sk1fk1fl1.png</td>\n      <td>NaN</td>\n      <td>0</td>\n      <td>DMSO</td>\n      <td>NaN</td>\n      <td>100</td>\n      <td>DMSO@NA</td>\n      <td>C-7161-01-LM6-023</td>\n      <td>Test</td>\n    </tr>\n    <tr>\n      <th>1</th>\n      <td>892</td>\n      <td>SQ00014816</td>\n      <td>A04</td>\n      <td>2</td>\n      <td>DMSO</td>\n      <td>unknown</td>\n      <td>0.0</td>\n      <td>0</td>\n      <td>SQ00014816/r01c04f02p01-ch3sk1fk1fl1.png</td>\n      <td>SQ00014816/r01c04f02p01-ch2sk1fk1fl1.png</td>\n      <td>...</td>\n      <td>SQ00014816/r01c04f02p01-ch5sk1fk1fl1.png</td>\n      <td>SQ00014816/r01c04f02p01-ch1sk1fk1fl1.png</td>\n      <td>NaN</td>\n      <td>0</td>\n      <td>DMSO</td>\n      <td>NaN</td>\n      <td>100</td>\n      <td>DMSO@NA</td>\n      <td>C-7161-01-LM6-023</td>\n      <td>Training</td>\n    </tr>\n    <tr>\n      <th>2</th>\n      <td>893</td>\n      <td>SQ00014816</td>\n      <td>A04</td>\n      <td>3</td>\n      <td>DMSO</td>\n      <td>unknown</td>\n      <td>0.0</td>\n      <td>0</td>\n      <td>SQ00014816/r01c04f03p01-ch3sk1fk1fl1.png</td>\n      <td>SQ00014816/r01c04f03p01-ch2sk1fk1fl1.png</td>\n      <td>...</td>\n      <td>SQ00014816/r01c04f03p01-ch5sk1fk1fl1.png</td>\n      <td>SQ00014816/r01c04f03p01-ch1sk1fk1fl1.png</td>\n      <td>NaN</td>\n      <td>0</td>\n      <td>DMSO</td>\n      <td>NaN</td>\n      <td>100</td>\n      <td>DMSO@NA</td>\n      <td>C-7161-01-LM6-023</td>\n      <td>Training</td>\n    </tr>\n    <tr>\n      <th>3</th>\n      <td>894</td>\n      <td>SQ00014816</td>\n      <td>A04</td>\n      <td>4</td>\n      <td>DMSO</td>\n      <td>unknown</td>\n      <td>0.0</td>\n      <td>0</td>\n      <td>SQ00014816/r01c04f04p01-ch3sk1fk1fl1.png</td>\n      <td>SQ00014816/r01c04f04p01-ch2sk1fk1fl1.png</td>\n      <td>...</td>\n      <td>SQ00014816/r01c04f04p01-ch5sk1fk1fl1.png</td>\n      <td>SQ00014816/r01c04f04p01-ch1sk1fk1fl1.png</td>\n      <td>NaN</td>\n      <td>0</td>\n      <td>DMSO</td>\n      <td>NaN</td>\n      <td>100</td>\n      <td>DMSO@NA</td>\n      <td>C-7161-01-LM6-023</td>\n      <td>Training</td>\n    </tr>\n    <tr>\n      <th>4</th>\n      <td>895</td>\n      <td>SQ00014816</td>\n      <td>A04</td>\n      <td>5</td>\n      <td>DMSO</td>\n      <td>unknown</td>\n      <td>0.0</td>\n      <td>0</td>\n      <td>SQ00014816/r01c04f05p01-ch3sk1fk1fl1.png</td>\n      <td>SQ00014816/r01c04f05p01-ch2sk1fk1fl1.png</td>\n      <td>...</td>\n      <td>SQ00014816/r01c04f05p01-ch5sk1fk1fl1.png</td>\n      <td>SQ00014816/r01c04f05p01-ch1sk1fk1fl1.png</td>\n      <td>NaN</td>\n      <td>0</td>\n      <td>DMSO</td>\n      <td>NaN</td>\n      <td>100</td>\n      <td>DMSO@NA</td>\n      <td>C-7161-01-LM6-023</td>\n      <td>Training</td>\n    </tr>\n  </tbody>\n</table>\n<p>5 rows × 21 columns</p>\n</div>"
     },
     "execution_count": 3,
     "metadata": {},
     "output_type": "execute_result"
    }
   ],
   "source": [
    "top.head()"
   ],
   "metadata": {
    "collapsed": false,
    "pycharm": {
     "name": "#%%\n"
    }
   }
  },
  {
   "cell_type": "code",
   "execution_count": 4,
   "outputs": [
    {
     "data": {
      "text/plain": "Training    24384\nTest          601\nName: Split, dtype: int64"
     },
     "execution_count": 4,
     "metadata": {},
     "output_type": "execute_result"
    }
   ],
   "source": [
    "top.Split.value_counts()\n"
   ],
   "metadata": {
    "collapsed": false,
    "pycharm": {
     "name": "#%%\n"
    }
   }
  },
  {
   "cell_type": "code",
   "execution_count": 9,
   "outputs": [
    {
     "data": {
      "text/plain": "       Unnamed: 0 Metadata_Plate Metadata_Well  Metadata_Site  \\\n0             891     SQ00014816           A04              1   \n9            1791     SQ00014820           B02              1   \n18           2691     SQ00015044           B06              1   \n27           3591     SQ00015048           F10              1   \n36           4491     SQ00015052           J14              1   \n...           ...            ...           ...            ...   \n24760       78408     SQ00015198           M01              1   \n24805       78498     SQ00015198           N01              1   \n24850       78588     SQ00015198           N13              1   \n24895       78633     SQ00015198           N19              1   \n24940       78723     SQ00015198           O13              1   \n\n        Metadata_broad_sample                   Metadata_moa  \\\n0                        DMSO                        unknown   \n9                        DMSO                        unknown   \n18                       DMSO                        unknown   \n27                       DMSO                        unknown   \n36                       DMSO                        unknown   \n...                       ...                            ...   \n24760  BRD-K37687095-001-06-9                  MEK inhibitor   \n24805  BRD-K37694030-003-12-7  histamine receptor antagonist   \n24850  BRD-A39415247-001-10-4  progesterone receptor agonist   \n24895  BRD-A39935389-001-05-9                  DNA inhibitor   \n24940  BRD-K41160163-001-06-8  glutamate receptor antagonist   \n\n       Metadata_mmoles_per_liter  Metadata_dose_recode  \\\n0                            0.0                     0   \n9                            0.0                     0   \n18                           0.0                     0   \n27                           0.0                     0   \n36                           0.0                     0   \n...                          ...                   ...   \n24760                       10.0                     6   \n24805                       10.0                     6   \n24850                       10.0                     6   \n24895                       10.0                     6   \n24940                       10.0                     6   \n\n                                            RNA  \\\n0      SQ00014816/r01c04f01p01-ch3sk1fk1fl1.png   \n9      SQ00014820/r02c02f01p01-ch3sk1fk1fl1.png   \n18     SQ00015044/r02c06f01p01-ch3sk1fk1fl1.png   \n27     SQ00015048/r06c10f01p01-ch3sk1fk1fl1.png   \n36     SQ00015052/r10c14f01p01-ch3sk1fk1fl1.png   \n...                                         ...   \n24760  SQ00015198/r13c01f01p01-ch3sk1fk1fl1.png   \n24805  SQ00015198/r14c01f01p01-ch3sk1fk1fl1.png   \n24850  SQ00015198/r14c13f01p01-ch3sk1fk1fl1.png   \n24895  SQ00015198/r14c19f01p01-ch3sk1fk1fl1.png   \n24940  SQ00015198/r15c13f01p01-ch3sk1fk1fl1.png   \n\n                                             ER  ...  \\\n0      SQ00014816/r01c04f01p01-ch2sk1fk1fl1.png  ...   \n9      SQ00014820/r02c02f01p01-ch2sk1fk1fl1.png  ...   \n18     SQ00015044/r02c06f01p01-ch2sk1fk1fl1.png  ...   \n27     SQ00015048/r06c10f01p01-ch2sk1fk1fl1.png  ...   \n36     SQ00015052/r10c14f01p01-ch2sk1fk1fl1.png  ...   \n...                                         ...  ...   \n24760  SQ00015198/r13c01f01p01-ch2sk1fk1fl1.png  ...   \n24805  SQ00015198/r14c01f01p01-ch2sk1fk1fl1.png  ...   \n24850  SQ00015198/r14c13f01p01-ch2sk1fk1fl1.png  ...   \n24895  SQ00015198/r14c19f01p01-ch2sk1fk1fl1.png  ...   \n24940  SQ00015198/r15c13f01p01-ch2sk1fk1fl1.png  ...   \n\n                                           Mito  \\\n0      SQ00014816/r01c04f01p01-ch5sk1fk1fl1.png   \n9      SQ00014820/r02c02f01p01-ch5sk1fk1fl1.png   \n18     SQ00015044/r02c06f01p01-ch5sk1fk1fl1.png   \n27     SQ00015048/r06c10f01p01-ch5sk1fk1fl1.png   \n36     SQ00015052/r10c14f01p01-ch5sk1fk1fl1.png   \n...                                         ...   \n24760  SQ00015198/r13c01f01p01-ch5sk1fk1fl1.png   \n24805  SQ00015198/r14c01f01p01-ch5sk1fk1fl1.png   \n24850  SQ00015198/r14c13f01p01-ch5sk1fk1fl1.png   \n24895  SQ00015198/r14c19f01p01-ch5sk1fk1fl1.png   \n24940  SQ00015198/r15c13f01p01-ch5sk1fk1fl1.png   \n\n                                            DNA Concentration  Treatment_ID  \\\n0      SQ00014816/r01c04f01p01-ch1sk1fk1fl1.png           NaN             0   \n9      SQ00014820/r02c02f01p01-ch1sk1fk1fl1.png           NaN             0   \n18     SQ00015044/r02c06f01p01-ch1sk1fk1fl1.png           NaN             0   \n27     SQ00015048/r06c10f01p01-ch1sk1fk1fl1.png           NaN             0   \n36     SQ00015052/r10c14f01p01-ch1sk1fk1fl1.png           NaN             0   \n...                                         ...           ...           ...   \n24760  SQ00015198/r13c01f01p01-ch1sk1fk1fl1.png          10.0          4617   \n24805  SQ00015198/r14c01f01p01-ch1sk1fk1fl1.png          10.0          4641   \n24850  SQ00015198/r14c13f01p01-ch1sk1fk1fl1.png          10.0          4653   \n24895  SQ00015198/r14c19f01p01-ch1sk1fk1fl1.png          10.0          4659   \n24940  SQ00015198/r15c13f01p01-ch1sk1fk1fl1.png          10.0          4671   \n\n                     Compound     pert_iname Treatment_Replicate  \\\n0                        DMSO            NaN                 100   \n9                        DMSO            NaN                 200   \n18                       DMSO            NaN                 300   \n27                       DMSO            NaN                 400   \n36                       DMSO            NaN                 500   \n...                       ...            ...                 ...   \n24760  BRD-K37687095-001-06-9        AZD8330                   1   \n24805  BRD-K37694030-003-12-7        doxepin                   1   \n24850  BRD-A39415247-001-10-4  norethindrone                   1   \n24895  BRD-A39935389-001-05-9     teroxirone                   1   \n24940  BRD-K41160163-001-06-8        fenobam                   1   \n\n                                        Treatment     Plate_Map_Name Split  \n0                                         DMSO@NA  C-7161-01-LM6-023  Test  \n9                                         DMSO@NA  C-7161-01-LM6-024  Test  \n18                                        DMSO@NA  C-7161-01-LM6-025  Test  \n27                                        DMSO@NA  C-7161-01-LM6-026  Test  \n36                                        DMSO@NA  C-7161-01-LM6-027  Test  \n...                                           ...                ...   ...  \n24760  BRD-K37687095-001-06-9@9.99999999999999999  C-7161-01-LM6-014  Test  \n24805  BRD-K37694030-003-12-7@9.99999999999999999  C-7161-01-LM6-014  Test  \n24850  BRD-A39415247-001-10-4@9.99999999999999999  C-7161-01-LM6-014  Test  \n24895  BRD-A39935389-001-05-9@10.0000000000000000  C-7161-01-LM6-014  Test  \n24940  BRD-K41160163-001-06-8@9.99999999999999999  C-7161-01-LM6-014  Test  \n\n[601 rows x 21 columns]",
      "text/html": "<div>\n<style scoped>\n    .dataframe tbody tr th:only-of-type {\n        vertical-align: middle;\n    }\n\n    .dataframe tbody tr th {\n        vertical-align: top;\n    }\n\n    .dataframe thead th {\n        text-align: right;\n    }\n</style>\n<table border=\"1\" class=\"dataframe\">\n  <thead>\n    <tr style=\"text-align: right;\">\n      <th></th>\n      <th>Unnamed: 0</th>\n      <th>Metadata_Plate</th>\n      <th>Metadata_Well</th>\n      <th>Metadata_Site</th>\n      <th>Metadata_broad_sample</th>\n      <th>Metadata_moa</th>\n      <th>Metadata_mmoles_per_liter</th>\n      <th>Metadata_dose_recode</th>\n      <th>RNA</th>\n      <th>ER</th>\n      <th>...</th>\n      <th>Mito</th>\n      <th>DNA</th>\n      <th>Concentration</th>\n      <th>Treatment_ID</th>\n      <th>Compound</th>\n      <th>pert_iname</th>\n      <th>Treatment_Replicate</th>\n      <th>Treatment</th>\n      <th>Plate_Map_Name</th>\n      <th>Split</th>\n    </tr>\n  </thead>\n  <tbody>\n    <tr>\n      <th>0</th>\n      <td>891</td>\n      <td>SQ00014816</td>\n      <td>A04</td>\n      <td>1</td>\n      <td>DMSO</td>\n      <td>unknown</td>\n      <td>0.0</td>\n      <td>0</td>\n      <td>SQ00014816/r01c04f01p01-ch3sk1fk1fl1.png</td>\n      <td>SQ00014816/r01c04f01p01-ch2sk1fk1fl1.png</td>\n      <td>...</td>\n      <td>SQ00014816/r01c04f01p01-ch5sk1fk1fl1.png</td>\n      <td>SQ00014816/r01c04f01p01-ch1sk1fk1fl1.png</td>\n      <td>NaN</td>\n      <td>0</td>\n      <td>DMSO</td>\n      <td>NaN</td>\n      <td>100</td>\n      <td>DMSO@NA</td>\n      <td>C-7161-01-LM6-023</td>\n      <td>Test</td>\n    </tr>\n    <tr>\n      <th>9</th>\n      <td>1791</td>\n      <td>SQ00014820</td>\n      <td>B02</td>\n      <td>1</td>\n      <td>DMSO</td>\n      <td>unknown</td>\n      <td>0.0</td>\n      <td>0</td>\n      <td>SQ00014820/r02c02f01p01-ch3sk1fk1fl1.png</td>\n      <td>SQ00014820/r02c02f01p01-ch2sk1fk1fl1.png</td>\n      <td>...</td>\n      <td>SQ00014820/r02c02f01p01-ch5sk1fk1fl1.png</td>\n      <td>SQ00014820/r02c02f01p01-ch1sk1fk1fl1.png</td>\n      <td>NaN</td>\n      <td>0</td>\n      <td>DMSO</td>\n      <td>NaN</td>\n      <td>200</td>\n      <td>DMSO@NA</td>\n      <td>C-7161-01-LM6-024</td>\n      <td>Test</td>\n    </tr>\n    <tr>\n      <th>18</th>\n      <td>2691</td>\n      <td>SQ00015044</td>\n      <td>B06</td>\n      <td>1</td>\n      <td>DMSO</td>\n      <td>unknown</td>\n      <td>0.0</td>\n      <td>0</td>\n      <td>SQ00015044/r02c06f01p01-ch3sk1fk1fl1.png</td>\n      <td>SQ00015044/r02c06f01p01-ch2sk1fk1fl1.png</td>\n      <td>...</td>\n      <td>SQ00015044/r02c06f01p01-ch5sk1fk1fl1.png</td>\n      <td>SQ00015044/r02c06f01p01-ch1sk1fk1fl1.png</td>\n      <td>NaN</td>\n      <td>0</td>\n      <td>DMSO</td>\n      <td>NaN</td>\n      <td>300</td>\n      <td>DMSO@NA</td>\n      <td>C-7161-01-LM6-025</td>\n      <td>Test</td>\n    </tr>\n    <tr>\n      <th>27</th>\n      <td>3591</td>\n      <td>SQ00015048</td>\n      <td>F10</td>\n      <td>1</td>\n      <td>DMSO</td>\n      <td>unknown</td>\n      <td>0.0</td>\n      <td>0</td>\n      <td>SQ00015048/r06c10f01p01-ch3sk1fk1fl1.png</td>\n      <td>SQ00015048/r06c10f01p01-ch2sk1fk1fl1.png</td>\n      <td>...</td>\n      <td>SQ00015048/r06c10f01p01-ch5sk1fk1fl1.png</td>\n      <td>SQ00015048/r06c10f01p01-ch1sk1fk1fl1.png</td>\n      <td>NaN</td>\n      <td>0</td>\n      <td>DMSO</td>\n      <td>NaN</td>\n      <td>400</td>\n      <td>DMSO@NA</td>\n      <td>C-7161-01-LM6-026</td>\n      <td>Test</td>\n    </tr>\n    <tr>\n      <th>36</th>\n      <td>4491</td>\n      <td>SQ00015052</td>\n      <td>J14</td>\n      <td>1</td>\n      <td>DMSO</td>\n      <td>unknown</td>\n      <td>0.0</td>\n      <td>0</td>\n      <td>SQ00015052/r10c14f01p01-ch3sk1fk1fl1.png</td>\n      <td>SQ00015052/r10c14f01p01-ch2sk1fk1fl1.png</td>\n      <td>...</td>\n      <td>SQ00015052/r10c14f01p01-ch5sk1fk1fl1.png</td>\n      <td>SQ00015052/r10c14f01p01-ch1sk1fk1fl1.png</td>\n      <td>NaN</td>\n      <td>0</td>\n      <td>DMSO</td>\n      <td>NaN</td>\n      <td>500</td>\n      <td>DMSO@NA</td>\n      <td>C-7161-01-LM6-027</td>\n      <td>Test</td>\n    </tr>\n    <tr>\n      <th>...</th>\n      <td>...</td>\n      <td>...</td>\n      <td>...</td>\n      <td>...</td>\n      <td>...</td>\n      <td>...</td>\n      <td>...</td>\n      <td>...</td>\n      <td>...</td>\n      <td>...</td>\n      <td>...</td>\n      <td>...</td>\n      <td>...</td>\n      <td>...</td>\n      <td>...</td>\n      <td>...</td>\n      <td>...</td>\n      <td>...</td>\n      <td>...</td>\n      <td>...</td>\n      <td>...</td>\n    </tr>\n    <tr>\n      <th>24760</th>\n      <td>78408</td>\n      <td>SQ00015198</td>\n      <td>M01</td>\n      <td>1</td>\n      <td>BRD-K37687095-001-06-9</td>\n      <td>MEK inhibitor</td>\n      <td>10.0</td>\n      <td>6</td>\n      <td>SQ00015198/r13c01f01p01-ch3sk1fk1fl1.png</td>\n      <td>SQ00015198/r13c01f01p01-ch2sk1fk1fl1.png</td>\n      <td>...</td>\n      <td>SQ00015198/r13c01f01p01-ch5sk1fk1fl1.png</td>\n      <td>SQ00015198/r13c01f01p01-ch1sk1fk1fl1.png</td>\n      <td>10.0</td>\n      <td>4617</td>\n      <td>BRD-K37687095-001-06-9</td>\n      <td>AZD8330</td>\n      <td>1</td>\n      <td>BRD-K37687095-001-06-9@9.99999999999999999</td>\n      <td>C-7161-01-LM6-014</td>\n      <td>Test</td>\n    </tr>\n    <tr>\n      <th>24805</th>\n      <td>78498</td>\n      <td>SQ00015198</td>\n      <td>N01</td>\n      <td>1</td>\n      <td>BRD-K37694030-003-12-7</td>\n      <td>histamine receptor antagonist</td>\n      <td>10.0</td>\n      <td>6</td>\n      <td>SQ00015198/r14c01f01p01-ch3sk1fk1fl1.png</td>\n      <td>SQ00015198/r14c01f01p01-ch2sk1fk1fl1.png</td>\n      <td>...</td>\n      <td>SQ00015198/r14c01f01p01-ch5sk1fk1fl1.png</td>\n      <td>SQ00015198/r14c01f01p01-ch1sk1fk1fl1.png</td>\n      <td>10.0</td>\n      <td>4641</td>\n      <td>BRD-K37694030-003-12-7</td>\n      <td>doxepin</td>\n      <td>1</td>\n      <td>BRD-K37694030-003-12-7@9.99999999999999999</td>\n      <td>C-7161-01-LM6-014</td>\n      <td>Test</td>\n    </tr>\n    <tr>\n      <th>24850</th>\n      <td>78588</td>\n      <td>SQ00015198</td>\n      <td>N13</td>\n      <td>1</td>\n      <td>BRD-A39415247-001-10-4</td>\n      <td>progesterone receptor agonist</td>\n      <td>10.0</td>\n      <td>6</td>\n      <td>SQ00015198/r14c13f01p01-ch3sk1fk1fl1.png</td>\n      <td>SQ00015198/r14c13f01p01-ch2sk1fk1fl1.png</td>\n      <td>...</td>\n      <td>SQ00015198/r14c13f01p01-ch5sk1fk1fl1.png</td>\n      <td>SQ00015198/r14c13f01p01-ch1sk1fk1fl1.png</td>\n      <td>10.0</td>\n      <td>4653</td>\n      <td>BRD-A39415247-001-10-4</td>\n      <td>norethindrone</td>\n      <td>1</td>\n      <td>BRD-A39415247-001-10-4@9.99999999999999999</td>\n      <td>C-7161-01-LM6-014</td>\n      <td>Test</td>\n    </tr>\n    <tr>\n      <th>24895</th>\n      <td>78633</td>\n      <td>SQ00015198</td>\n      <td>N19</td>\n      <td>1</td>\n      <td>BRD-A39935389-001-05-9</td>\n      <td>DNA inhibitor</td>\n      <td>10.0</td>\n      <td>6</td>\n      <td>SQ00015198/r14c19f01p01-ch3sk1fk1fl1.png</td>\n      <td>SQ00015198/r14c19f01p01-ch2sk1fk1fl1.png</td>\n      <td>...</td>\n      <td>SQ00015198/r14c19f01p01-ch5sk1fk1fl1.png</td>\n      <td>SQ00015198/r14c19f01p01-ch1sk1fk1fl1.png</td>\n      <td>10.0</td>\n      <td>4659</td>\n      <td>BRD-A39935389-001-05-9</td>\n      <td>teroxirone</td>\n      <td>1</td>\n      <td>BRD-A39935389-001-05-9@10.0000000000000000</td>\n      <td>C-7161-01-LM6-014</td>\n      <td>Test</td>\n    </tr>\n    <tr>\n      <th>24940</th>\n      <td>78723</td>\n      <td>SQ00015198</td>\n      <td>O13</td>\n      <td>1</td>\n      <td>BRD-K41160163-001-06-8</td>\n      <td>glutamate receptor antagonist</td>\n      <td>10.0</td>\n      <td>6</td>\n      <td>SQ00015198/r15c13f01p01-ch3sk1fk1fl1.png</td>\n      <td>SQ00015198/r15c13f01p01-ch2sk1fk1fl1.png</td>\n      <td>...</td>\n      <td>SQ00015198/r15c13f01p01-ch5sk1fk1fl1.png</td>\n      <td>SQ00015198/r15c13f01p01-ch1sk1fk1fl1.png</td>\n      <td>10.0</td>\n      <td>4671</td>\n      <td>BRD-K41160163-001-06-8</td>\n      <td>fenobam</td>\n      <td>1</td>\n      <td>BRD-K41160163-001-06-8@9.99999999999999999</td>\n      <td>C-7161-01-LM6-014</td>\n      <td>Test</td>\n    </tr>\n  </tbody>\n</table>\n<p>601 rows × 21 columns</p>\n</div>"
     },
     "execution_count": 9,
     "metadata": {},
     "output_type": "execute_result"
    }
   ],
   "source": [
    "top[top['Split'] == 'Test']"
   ],
   "metadata": {
    "collapsed": false,
    "pycharm": {
     "name": "#%%\n"
    }
   }
  },
  {
   "cell_type": "code",
   "execution_count": null,
   "outputs": [],
   "source": [],
   "metadata": {
    "collapsed": false,
    "pycharm": {
     "name": "#%%\n"
    }
   }
  }
 ],
 "metadata": {
  "kernelspec": {
   "display_name": "Python 3",
   "language": "python",
   "name": "python3"
  },
  "language_info": {
   "codemirror_mode": {
    "name": "ipython",
    "version": 2
   },
   "file_extension": ".py",
   "mimetype": "text/x-python",
   "name": "python",
   "nbconvert_exporter": "python",
   "pygments_lexer": "ipython2",
   "version": "2.7.6"
  }
 },
 "nbformat": 4,
 "nbformat_minor": 0
}