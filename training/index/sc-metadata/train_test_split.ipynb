{
 "cells": [
  {
   "cell_type": "code",
   "execution_count": 1,
   "metadata": {
    "collapsed": true
   },
   "outputs": [],
   "source": [
    "import os\n",
    "import numpy as np\n",
    "import pandas as pd\n",
    "import matplotlib.pyplot as plt\n",
    "from sklearn.model_selection import train_test_split"
   ]
  },
  {
   "cell_type": "code",
   "execution_count": 2,
   "outputs": [],
   "source": [
    "df = pd.read_csv('sc-metadata.csv', low_memory=False)"
   ],
   "metadata": {
    "collapsed": false,
    "pycharm": {
     "name": "#%%\n"
    }
   }
  },
  {
   "cell_type": "code",
   "execution_count": 3,
   "outputs": [
    {
     "data": {
      "text/plain": "   Nuclei_Location_Center_X  Nuclei_Location_Center_Y               Key  \\\n0                934.180157                 17.906457  SQ00015218/A01/1   \n1                541.930436                 30.440808  SQ00015218/A01/1   \n2                506.318201                 31.689786  SQ00015218/A01/1   \n3                167.794123                 37.808581  SQ00015218/A01/1   \n4                293.495264                 38.634902  SQ00015218/A01/1   \n\n   Target Compound     Split  \\\n0     461     DMSO  Training   \n1     461     DMSO  Training   \n2     461     DMSO  Training   \n3     461     DMSO  Training   \n4     461     DMSO  Training   \n\n                                          Image_Name  \n0  SQ00015218/A01/1/461@934.180157480315x17.90645...  \n1  SQ00015218/A01/1/461@541.930436337625x30.44080...  \n2  SQ00015218/A01/1/461@506.31820092476x31.689785...  \n3  SQ00015218/A01/1/461@167.79412316935802x37.808...  \n4  SQ00015218/A01/1/461@293.495264064294x38.63490...  ",
      "text/html": "<div>\n<style scoped>\n    .dataframe tbody tr th:only-of-type {\n        vertical-align: middle;\n    }\n\n    .dataframe tbody tr th {\n        vertical-align: top;\n    }\n\n    .dataframe thead th {\n        text-align: right;\n    }\n</style>\n<table border=\"1\" class=\"dataframe\">\n  <thead>\n    <tr style=\"text-align: right;\">\n      <th></th>\n      <th>Nuclei_Location_Center_X</th>\n      <th>Nuclei_Location_Center_Y</th>\n      <th>Key</th>\n      <th>Target</th>\n      <th>Compound</th>\n      <th>Split</th>\n      <th>Image_Name</th>\n    </tr>\n  </thead>\n  <tbody>\n    <tr>\n      <th>0</th>\n      <td>934.180157</td>\n      <td>17.906457</td>\n      <td>SQ00015218/A01/1</td>\n      <td>461</td>\n      <td>DMSO</td>\n      <td>Training</td>\n      <td>SQ00015218/A01/1/461@934.180157480315x17.90645...</td>\n    </tr>\n    <tr>\n      <th>1</th>\n      <td>541.930436</td>\n      <td>30.440808</td>\n      <td>SQ00015218/A01/1</td>\n      <td>461</td>\n      <td>DMSO</td>\n      <td>Training</td>\n      <td>SQ00015218/A01/1/461@541.930436337625x30.44080...</td>\n    </tr>\n    <tr>\n      <th>2</th>\n      <td>506.318201</td>\n      <td>31.689786</td>\n      <td>SQ00015218/A01/1</td>\n      <td>461</td>\n      <td>DMSO</td>\n      <td>Training</td>\n      <td>SQ00015218/A01/1/461@506.31820092476x31.689785...</td>\n    </tr>\n    <tr>\n      <th>3</th>\n      <td>167.794123</td>\n      <td>37.808581</td>\n      <td>SQ00015218/A01/1</td>\n      <td>461</td>\n      <td>DMSO</td>\n      <td>Training</td>\n      <td>SQ00015218/A01/1/461@167.79412316935802x37.808...</td>\n    </tr>\n    <tr>\n      <th>4</th>\n      <td>293.495264</td>\n      <td>38.634902</td>\n      <td>SQ00015218/A01/1</td>\n      <td>461</td>\n      <td>DMSO</td>\n      <td>Training</td>\n      <td>SQ00015218/A01/1/461@293.495264064294x38.63490...</td>\n    </tr>\n  </tbody>\n</table>\n</div>"
     },
     "execution_count": 3,
     "metadata": {},
     "output_type": "execute_result"
    }
   ],
   "source": [
    "df.head()"
   ],
   "metadata": {
    "collapsed": false,
    "pycharm": {
     "name": "#%%\n"
    }
   }
  },
  {
   "cell_type": "code",
   "execution_count": 23,
   "outputs": [],
   "source": [
    "pd.DataFrame(df.Compound.unique().tolist()).to_csv('compounds_1007.csv')"
   ],
   "metadata": {
    "collapsed": false,
    "pycharm": {
     "name": "#%%\n"
    }
   }
  },
  {
   "cell_type": "code",
   "execution_count": 5,
   "outputs": [],
   "source": [
    "meta = pd.read_csv('/Users/mbornhol/git/neural-profiling/00_thesis/baseline/meta.csv')\n",
    "df = pd.merge(df, meta, how='left', left_on = [\"Compound\"], right_on=['Metadata_broad_sample'])"
   ],
   "metadata": {
    "collapsed": false,
    "pycharm": {
     "name": "#%%\n"
    }
   }
  },
  {
   "cell_type": "code",
   "execution_count": 6,
   "outputs": [
    {
     "data": {
      "text/plain": "adrenergic receptor antagonist       154101\ncyclooxygenase inhibitor             140008\nphosphodiesterase inhibitor          136889\nadrenergic receptor agonist          116031\nacetylcholine receptor antagonist    106377\n                                      ...  \nprotein synthesis inhibitor            1424\nHSP inhibitor                          1290\nATPase inhibitor                        849\nJAK inhibitor                           817\nproteasome inhibitor                    325\nName: Metadata_moa, Length: 194, dtype: int64"
     },
     "execution_count": 6,
     "metadata": {},
     "output_type": "execute_result"
    }
   ],
   "source": [
    "df.Metadata_moa.value_counts()"
   ],
   "metadata": {
    "collapsed": false,
    "pycharm": {
     "name": "#%%\n"
    }
   }
  },
  {
   "cell_type": "code",
   "execution_count": null,
   "outputs": [],
   "source": [
    "index = pd.read_csv('826_index.csv')\n",
    "index['Key'] = sub['Metadata_Plate'] + \"/\" + sub['Metadata_Well'] + \"/\" + sub['Metadata_Site'].astype(str)"
   ],
   "metadata": {
    "collapsed": false,
    "pycharm": {
     "name": "#%%\n"
    }
   }
  },
  {
   "cell_type": "code",
   "execution_count": 17,
   "outputs": [
    {
     "data": {
      "text/plain": "75024"
     },
     "execution_count": 17,
     "metadata": {},
     "output_type": "execute_result"
    }
   ],
   "source": [
    "len(index.Key.unique())"
   ],
   "metadata": {
    "collapsed": false,
    "pycharm": {
     "name": "#%%\n"
    }
   }
  },
  {
   "cell_type": "code",
   "execution_count": 18,
   "outputs": [
    {
     "data": {
      "text/plain": "23117"
     },
     "execution_count": 18,
     "metadata": {},
     "output_type": "execute_result"
    }
   ],
   "source": [
    "len(df.Key.unique())"
   ],
   "metadata": {
    "collapsed": false,
    "pycharm": {
     "name": "#%%\n"
    }
   }
  },
  {
   "cell_type": "code",
   "execution_count": 40,
   "outputs": [],
   "source": [
    "df = pd.merge(df.drop(columns=['Split']), index[['Key', 'Split']], how='left', on='Key', validate='many_to_one')\n",
    "\n",
    "sc = pd.merge(sc, sub, how='left', on='Key', validate='one_to_one')"
   ],
   "metadata": {
    "collapsed": false,
    "pycharm": {
     "name": "#%%\n"
    }
   }
  },
  {
   "cell_type": "code",
   "execution_count": 41,
   "outputs": [
    {
     "data": {
      "text/plain": "   Nuclei_Location_Center_X  Nuclei_Location_Center_Y               Key  \\\n0                934.180157                 17.906457  SQ00015218/A01/1   \n1                541.930436                 30.440808  SQ00015218/A01/1   \n2                506.318201                 31.689786  SQ00015218/A01/1   \n3                167.794123                 37.808581  SQ00015218/A01/1   \n4                293.495264                 38.634902  SQ00015218/A01/1   \n\n   Target Compound                                         Image_Name   Split  \n0     461     DMSO  SQ00015218/A01/1/461@934.180157480315x17.90645...  Unused  \n1     461     DMSO  SQ00015218/A01/1/461@541.930436337625x30.44080...  Unused  \n2     461     DMSO  SQ00015218/A01/1/461@506.31820092476x31.689785...  Unused  \n3     461     DMSO  SQ00015218/A01/1/461@167.79412316935802x37.808...  Unused  \n4     461     DMSO  SQ00015218/A01/1/461@293.495264064294x38.63490...  Unused  ",
      "text/html": "<div>\n<style scoped>\n    .dataframe tbody tr th:only-of-type {\n        vertical-align: middle;\n    }\n\n    .dataframe tbody tr th {\n        vertical-align: top;\n    }\n\n    .dataframe thead th {\n        text-align: right;\n    }\n</style>\n<table border=\"1\" class=\"dataframe\">\n  <thead>\n    <tr style=\"text-align: right;\">\n      <th></th>\n      <th>Nuclei_Location_Center_X</th>\n      <th>Nuclei_Location_Center_Y</th>\n      <th>Key</th>\n      <th>Target</th>\n      <th>Compound</th>\n      <th>Image_Name</th>\n      <th>Split</th>\n    </tr>\n  </thead>\n  <tbody>\n    <tr>\n      <th>0</th>\n      <td>934.180157</td>\n      <td>17.906457</td>\n      <td>SQ00015218/A01/1</td>\n      <td>461</td>\n      <td>DMSO</td>\n      <td>SQ00015218/A01/1/461@934.180157480315x17.90645...</td>\n      <td>Unused</td>\n    </tr>\n    <tr>\n      <th>1</th>\n      <td>541.930436</td>\n      <td>30.440808</td>\n      <td>SQ00015218/A01/1</td>\n      <td>461</td>\n      <td>DMSO</td>\n      <td>SQ00015218/A01/1/461@541.930436337625x30.44080...</td>\n      <td>Unused</td>\n    </tr>\n    <tr>\n      <th>2</th>\n      <td>506.318201</td>\n      <td>31.689786</td>\n      <td>SQ00015218/A01/1</td>\n      <td>461</td>\n      <td>DMSO</td>\n      <td>SQ00015218/A01/1/461@506.31820092476x31.689785...</td>\n      <td>Unused</td>\n    </tr>\n    <tr>\n      <th>3</th>\n      <td>167.794123</td>\n      <td>37.808581</td>\n      <td>SQ00015218/A01/1</td>\n      <td>461</td>\n      <td>DMSO</td>\n      <td>SQ00015218/A01/1/461@167.79412316935802x37.808...</td>\n      <td>Unused</td>\n    </tr>\n    <tr>\n      <th>4</th>\n      <td>293.495264</td>\n      <td>38.634902</td>\n      <td>SQ00015218/A01/1</td>\n      <td>461</td>\n      <td>DMSO</td>\n      <td>SQ00015218/A01/1/461@293.495264064294x38.63490...</td>\n      <td>Unused</td>\n    </tr>\n  </tbody>\n</table>\n</div>"
     },
     "execution_count": 41,
     "metadata": {},
     "output_type": "execute_result"
    }
   ],
   "source": [
    "df.head()"
   ],
   "metadata": {
    "collapsed": false,
    "pycharm": {
     "name": "#%%\n"
    }
   }
  },
  {
   "cell_type": "markdown",
   "source": [
    "# important!\n",
    "length of sc 1007: 456533\n",
    "\n",
    "Length of sc 1025:  911,042\n",
    "\n",
    "Length of sc 1026:  2,267,640\n",
    "\n",
    "--\n",
    "full thing : 18,239,862\n",
    "\n",
    "sc_1017: 534,166. All compounds\n",
    "\n",
    "sc_1027: 578,103 all compounds. Basically like 926 with only batches 3-5\n",
    "\n",
    "sc_1028: 1 mil all compounds. Basically like 1027 with more cells"
   ],
   "metadata": {
    "collapsed": false,
    "pycharm": {
     "name": "#%% md\n"
    }
   }
  },
  {
   "cell_type": "code",
   "execution_count": 25,
   "outputs": [
    {
     "data": {
      "text/plain": "1.538888888888889"
     },
     "execution_count": 25,
     "metadata": {},
     "output_type": "execute_result"
    }
   ],
   "source": [],
   "metadata": {
    "collapsed": false,
    "pycharm": {
     "name": "#%%\n"
    }
   }
  },
  {
   "cell_type": "code",
   "source": [
    "df['Split'] = \"Unused\""
   ],
   "metadata": {
    "collapsed": false,
    "pycharm": {
     "name": "#%%\n"
    }
   },
   "execution_count": 84,
   "outputs": []
  },
  {
   "cell_type": "code",
   "execution_count": 85,
   "outputs": [],
   "source": [
    "compounds = df.Compound.unique()\n",
    "for c in compounds:\n",
    "    df.loc[df[df.Compound == c].sample(frac=0.1).index, 'Split'] = 'Training'\n",
    "    df.loc[df[(df.Compound == c) & (df.Split == \"Unused\")].sample(frac=0.01).index, 'Split'] = 'Validation'\n",
    "\n",
    "df.loc[df[(df.Compound == \"DMSO\") & (df.Split == \"Training\")].sample(frac=0.9).index, 'Split'] = 'Unused'\n",
    "df.loc[df[(df.Compound == \"DMSO\") & (df.Split == \"Validation\")].sample(frac=0.9).index, 'Split'] = 'Unused'\n",
    "\n",
    "df.loc[df[(df.Compound == \"DMSO\") & (df.Split == \"Validation\")].sample(frac=0.9).index, 'Split'] = 'Unused'"
   ],
   "metadata": {
    "collapsed": false,
    "pycharm": {
     "name": "#%%\n"
    }
   }
  },
  {
   "cell_type": "code",
   "execution_count": null,
   "outputs": [],
   "source": [
    "# For sc_1025\n",
    "compounds = df.Compound.unique()\n",
    "for c in compounds:\n",
    "    df.loc[df[df.Compound == c].sample(frac=0.5).index, 'Split'] = 'Training'\n",
    "    df.loc[df[(df.Compound == c) & (df.Split == \"Unused\")].sample(frac=0.025).index, 'Split'] = 'Validation'"
   ],
   "metadata": {
    "collapsed": false,
    "pycharm": {
     "name": "#%%\n"
    }
   }
  },
  {
   "cell_type": "code",
   "execution_count": null,
   "outputs": [],
   "source": [
    "import pandas as pd\n",
    "index = pd.read_csv('/local_group_storage/broad_data/michael/training/inputs/metadata/826_index.csv', low_memory=False)\n",
    "index['Key'] = index['Metadata_Plate'] + \"/\" + index['Metadata_Well'] + \"/\" + index['Metadata_Site'].astype(str)\n",
    "sub = index[[\"Key\", \"Split\"]]\n",
    "# df = pd.read_csv('1017_sc/sc-metadata.csv', low_memory=False)\n",
    "df = pd.read_csv('sc_1017.csv', low_memory=False)\n",
    "df = pd.merge(df, sub, how='left', on='Key', validate='many_to_one')\n",
    "\n",
    "df.loc[df[(df['Split_x'] == \"Training\")].sample(frac=0.9).index, 'Split_x'] = 'Unused'\n",
    "df.loc[df[(df.Split_y != 'Training') & (df.Split_x == \"Training\")].index, 'Split_x'] = 'Unused'\n",
    "\n",
    "df.loc[df[(df.Compound == \"DMSO\") & (df.Split_x == \"Training\")].sample(frac=0.95).index, 'Split_x'] = 'Unused'\n",
    "df.loc[df[(df.Compound == \"DMSO\") & (df.Split_x == \"Validation\")].sample(frac=0.95).index, 'Split_x'] = 'Unused'\n",
    "df.loc[df[(df.Split_y == \"Training\")].sample(frac=0.01).index, 'Split_x'] = 'Validation'\n",
    "\n",
    "#add more\n",
    "df.loc[df[(df.Split_y == 'Training') & (df.Split_x == \"Unused\") & (df.Compound != \"DMSO\")].sample(frac=0.05).index, 'Split_x'] = 'Training'"
   ],
   "metadata": {
    "collapsed": false,
    "pycharm": {
     "name": "#%%\n"
    }
   }
  },
  {
   "cell_type": "code",
   "execution_count": 7,
   "outputs": [
    {
     "data": {
      "text/plain": "<bound method Series.keys of BRD-K92428232-001-10-6    985\nBRD-K86797399-001-04-4    974\nBRD-K33127281-001-05-6    883\nBRD-K89561498-001-01-7    873\nBRD-K87737963-001-06-0    817\nBRD-K69776681-001-03-8    777\nBRD-K83837640-001-04-8    746\nBRD-A94756469-001-04-7    546\nBRD-K78659596-001-03-9    325\nBRD-K95412502-003-01-5    303\nBRD-K99475619-001-01-2    279\nName: Compound, dtype: int64>"
     },
     "execution_count": 7,
     "metadata": {},
     "output_type": "execute_result"
    }
   ],
   "source": [
    "ls = df[df['Split_x'] == 'Training'].Compound.value_counts()\n",
    "ls = ls[ls < 100].index.tolist()\n",
    "for c in ls:\n",
    "    df.loc[df[(df.Split_y == 'Training') & (df.Compound == c)].sample(frac=0.5).index, 'Split_x'] = 'Training'"
   ],
   "metadata": {
    "collapsed": false,
    "pycharm": {
     "name": "#%%\n"
    }
   }
  },
  {
   "cell_type": "code",
   "execution_count": 9,
   "outputs": [
    {
     "data": {
      "text/plain": "['BRD-K92428232-001-10-6',\n 'BRD-K86797399-001-04-4',\n 'BRD-K33127281-001-05-6',\n 'BRD-K89561498-001-01-7',\n 'BRD-K87737963-001-06-0',\n 'BRD-K69776681-001-03-8',\n 'BRD-K83837640-001-04-8',\n 'BRD-A94756469-001-04-7',\n 'BRD-K78659596-001-03-9',\n 'BRD-K95412502-003-01-5',\n 'BRD-K99475619-001-01-2']"
     },
     "execution_count": 9,
     "metadata": {},
     "output_type": "execute_result"
    }
   ],
   "source": [
    "df[df['Split'] == 'Training'].Compound.value_counts()\n",
    "df[df['Split_x'] == 'Training'].Compound.value_counts()"
   ],
   "metadata": {
    "collapsed": false,
    "pycharm": {
     "name": "#%%\n"
    }
   }
  },
  {
   "cell_type": "code",
   "execution_count": 87,
   "outputs": [
    {
     "data": {
      "text/plain": "DMSO                      449\nBRD-K80082640-001-01-0    140\nBRD-K85833139-001-01-9    139\nBRD-K76022557-003-02-7    138\nBRD-K81694556-003-01-9    138\n                         ... \nBRD-K69776681-001-03-8      7\nBRD-A94756469-001-04-7      5\nBRD-K78659596-001-03-9      3\nBRD-K99475619-001-01-2      3\nBRD-K95412502-003-01-5      3\nName: Compound, Length: 462, dtype: int64"
     },
     "execution_count": 87,
     "metadata": {},
     "output_type": "execute_result"
    }
   ],
   "source": [
    "df[df['Split'] == 'Validation'].Compound.value_counts()"
   ],
   "metadata": {
    "collapsed": false,
    "pycharm": {
     "name": "#%%\n"
    }
   }
  },
  {
   "cell_type": "code",
   "execution_count": 88,
   "outputs": [
    {
     "data": {
      "text/plain": "DMSO                      493072\nBRD-K80082640-001-01-0     13823\nBRD-K85833139-001-01-9     13747\nBRD-A94276798-001-01-4     13663\nBRD-K75844781-003-08-0     13630\n                           ...  \nBRD-K83837640-001-04-8       664\nBRD-A94756469-001-04-7       486\nBRD-K78659596-001-03-9       290\nBRD-K95412502-003-01-5       270\nBRD-K99475619-001-01-2       248\nName: Compound, Length: 462, dtype: int64"
     },
     "execution_count": 88,
     "metadata": {},
     "output_type": "execute_result"
    }
   ],
   "source": [
    "df[df['Split'] == 'Unused'].Compound.value_counts()"
   ],
   "metadata": {
    "collapsed": false,
    "pycharm": {
     "name": "#%%\n"
    }
   }
  },
  {
   "cell_type": "code",
   "execution_count": 89,
   "outputs": [],
   "source": [
    "df.to_csv('index_1016.csv', index=False)"
   ],
   "metadata": {
    "collapsed": false,
    "pycharm": {
     "name": "#%%\n"
    }
   }
  },
  {
   "cell_type": "code",
   "execution_count": null,
   "outputs": [],
   "source": [
    "# Creating 1027 sc\n",
    "\n",
    "sc.loc[sc[sc['Split'] == \"Training\"].sample(frac=0.8).index, 'Split'] = 'Unused'\n",
    "sc.loc[sc[(sc.Compound == c) & (sc.Split == \"Unused\")].sample(frac=0.01).index, 'Split'] = 'Validation'\n",
    "\n",
    "for c in ls:\n",
    "    sc.loc[df[(df.Compound == c) & (sc.Split_y == \"Training\")].sample(frac=0.01).index, 'Split_x'] = 'Validation'\n"
   ],
   "metadata": {
    "collapsed": false,
    "pycharm": {
     "name": "#%%\n"
    }
   }
  },
  {
   "cell_type": "code",
   "execution_count": null,
   "outputs": [],
   "source": [
    "df.loc[(df.Metadata_Site == 5) & (df.Split == 'Unused'),'Split']='Test'"
   ],
   "metadata": {
    "collapsed": false,
    "pycharm": {
     "name": "#%%\n"
    }
   }
  },
  {
   "cell_type": "code",
   "execution_count": null,
   "outputs": [],
   "source": [
    "test_plates = df[df['Split'] == 'Unused'].Metadata_Plate.unique()\n",
    "df.loc[(df.Compound == 'DMSO') & (df.Metadata_Plate.isin(test_plates)),'Split']='Unused'\n",
    "df.loc[(df.Compound == 'DMSO') & (df.Split == 'Unused') & (df.Treatment_Replicate % 599 == 0),'Split']='Test'\n"
   ],
   "metadata": {
    "collapsed": false,
    "pycharm": {
     "name": "#%%\n"
    }
   }
  },
  {
   "cell_type": "code",
   "execution_count": 42,
   "outputs": [
    {
     "data": {
      "text/plain": "DMSO                      1826\nBRD-K82467063-001-02-7     866\nBRD-A86871940-001-01-9     824\nBRD-K85679373-001-01-1     820\nBRD-K81694556-003-01-9     786\n                          ... \nBRD-K78659596-001-03-9      18\nBRD-K83837640-001-04-8      16\nBRD-K86797399-001-04-4      14\nBRD-K99475619-001-01-2       2\nBRD-K95412502-003-01-5       1\nName: Compound, Length: 461, dtype: int64"
     },
     "execution_count": 42,
     "metadata": {},
     "output_type": "execute_result"
    }
   ],
   "source": [
    "df[df['Split'] == 'Test'].Compound.value_counts()"
   ],
   "metadata": {
    "collapsed": false,
    "pycharm": {
     "name": "#%%\n"
    }
   }
  },
  {
   "cell_type": "code",
   "execution_count": 43,
   "outputs": [
    {
     "data": {
      "text/plain": "DMSO                      325445\nBRD-K80082640-001-01-0      9346\nBRD-K76022557-003-02-7      9133\nBRD-K75844781-003-08-0      9039\nBRD-K81694556-003-01-9      9012\n                           ...  \nBRD-K83837640-001-04-8       414\nBRD-A94756469-001-04-7       357\nBRD-K95412502-003-01-5       203\nBRD-K78659596-001-03-9       184\nBRD-K99475619-001-01-2       179\nName: Compound, Length: 462, dtype: int64"
     },
     "execution_count": 43,
     "metadata": {},
     "output_type": "execute_result"
    }
   ],
   "source": [
    "df[df['Split'] == 'Training'].Compound.value_counts()"
   ],
   "metadata": {
    "collapsed": false,
    "pycharm": {
     "name": "#%%\n"
    }
   }
  },
  {
   "cell_type": "code",
   "execution_count": 44,
   "outputs": [
    {
     "data": {
      "text/plain": "DMSO                      171235\nBRD-A86216746-046-02-6      5965\nBRD-K45924332-001-16-8      5911\nBRD-A94276798-001-01-4      5777\nBRD-K85833139-001-01-9      5754\n                           ...  \nBRD-K26325692-003-01-3       256\nBRD-A94756469-001-04-7       189\nBRD-K78659596-001-03-9       123\nBRD-K95412502-003-01-5        99\nBRD-K99475619-001-01-2        98\nName: Compound, Length: 462, dtype: int64"
     },
     "execution_count": 44,
     "metadata": {},
     "output_type": "execute_result"
    }
   ],
   "source": [
    "df[df['Split'] == 'Unused'].Compound.value_counts()"
   ],
   "metadata": {
    "collapsed": false,
    "pycharm": {
     "name": "#%%\n"
    }
   }
  },
  {
   "cell_type": "code",
   "execution_count": 49,
   "outputs": [
    {
     "data": {
      "text/plain": "(1810269, 7)"
     },
     "execution_count": 49,
     "metadata": {},
     "output_type": "execute_result"
    }
   ],
   "source": [
    "df[df['Split'] == 'Unused'].shape"
   ],
   "metadata": {
    "collapsed": false,
    "pycharm": {
     "name": "#%%\n"
    }
   }
  },
  {
   "cell_type": "code",
   "execution_count": null,
   "outputs": [],
   "source": [
    "df.to_csv('826_index.csv', index=False)"
   ],
   "metadata": {
    "collapsed": false,
    "pycharm": {
     "name": "#%%\n"
    }
   }
  },
  {
   "cell_type": "code",
   "execution_count": null,
   "outputs": [],
   "source": [
    "# select top 50 moas\n",
    "vc = df.Metadata_moa.value_counts()\n",
    "large_moas = vc[:50].keys().tolist()\n",
    "df = df[df[\"Metadata_moa\"].isin(large_moas)]"
   ],
   "metadata": {
    "collapsed": false,
    "pycharm": {
     "name": "#%%\n"
    }
   }
  },
  {
   "cell_type": "code",
   "execution_count": 4,
   "outputs": [],
   "source": [
    "# delete all Compounds that do not have 5 replicates\n",
    "full_reps = df[df.Treatment_Replicate == 5].Compound.unique()\n",
    "df = df[df[\"Compound\"].isin(full_reps)]"
   ],
   "metadata": {
    "collapsed": false,
    "pycharm": {
     "name": "#%%\n"
    }
   }
  },
  {
   "cell_type": "code",
   "execution_count": 5,
   "outputs": [],
   "source": [
    "\n",
    "df['Split'] = 'Training'\n",
    "# df.loc[(df.Treatment_Replicate == 1) & (df.Metadata_Site == 1),'Split']='Test'"
   ],
   "metadata": {
    "collapsed": false,
    "pycharm": {
     "name": "#%%\n"
    }
   }
  },
  {
   "cell_type": "code",
   "execution_count": 6,
   "outputs": [],
   "source": [
    "df.loc[(df.Treatment_Replicate == 1) | (df.Treatment_Replicate == 2),'Split']='Test'"
   ],
   "metadata": {
    "collapsed": false,
    "pycharm": {
     "name": "#%%\n"
    }
   }
  },
  {
   "cell_type": "code",
   "execution_count": 7,
   "outputs": [],
   "source": [
    "test_plates = df[df['Split'] == 'Test'].Metadata_Plate.unique()"
   ],
   "metadata": {
    "collapsed": false,
    "pycharm": {
     "name": "#%%\n"
    }
   }
  },
  {
   "cell_type": "code",
   "execution_count": 8,
   "outputs": [],
   "source": [
    "df.loc[(df.Compound == 'DMSO') & (df.Metadata_Plate.isin(test_plates)),'Split']='Test'"
   ],
   "metadata": {
    "collapsed": false,
    "pycharm": {
     "name": "#%%\n"
    }
   }
  },
  {
   "cell_type": "code",
   "execution_count": 9,
   "outputs": [
    {
     "data": {
      "text/plain": "DMSO                      18144\nBRD-K86301799-001-34-8       27\nBRD-A29485665-001-12-8       27\nBRD-K22749967-046-02-3       27\nBRD-A97674275-001-11-8       27\n                          ...  \nBRD-K33127281-001-05-6       27\nBRD-K89348303-001-14-7       27\nBRD-K70610771-001-02-9       27\nBRD-K80608265-001-01-6       27\nBRD-K11433652-001-17-0       26\nName: Compound, Length: 512, dtype: int64"
     },
     "execution_count": 9,
     "metadata": {},
     "output_type": "execute_result"
    }
   ],
   "source": [
    "df[df['Split'] == 'Training'].Compound.value_counts()"
   ],
   "metadata": {
    "collapsed": false,
    "pycharm": {
     "name": "#%%\n"
    }
   }
  },
  {
   "cell_type": "code",
   "execution_count": 10,
   "outputs": [
    {
     "name": "stdout",
     "output_type": "stream",
     "text": [
      "52\n",
      "84\n"
     ]
    },
    {
     "data": {
      "text/plain": "DMSO                      11124\nBRD-K86301799-001-34-8       18\nBRD-K06388322-312-02-6       18\nBRD-K90825648-001-02-0       18\nBRD-A65013509-003-24-4       18\n                          ...  \nBRD-K92984783-003-05-7       18\nBRD-K08799216-001-05-3       18\nBRD-K05524748-003-04-4       18\nBRD-K31627533-001-09-5       18\nBRD-K81258678-001-01-0       11\nName: Compound, Length: 512, dtype: int64"
     },
     "execution_count": 10,
     "metadata": {},
     "output_type": "execute_result"
    }
   ],
   "source": [
    "print(len(df[df['Split'] == 'Test'].Metadata_Plate.unique()))\n",
    "print(len(df[df['Split'] == 'Training'].Metadata_Plate.unique()))\n",
    "\n",
    "df[df['Split'] == 'Test'].Compound.value_counts()"
   ],
   "metadata": {
    "collapsed": false,
    "pycharm": {
     "name": "#%%\n"
    }
   }
  },
  {
   "cell_type": "code",
   "execution_count": 11,
   "outputs": [
    {
     "data": {
      "text/plain": "(20315, 20)"
     },
     "execution_count": 11,
     "metadata": {},
     "output_type": "execute_result"
    }
   ],
   "source": [
    "df[df['Split'] == 'Test'].shape"
   ],
   "metadata": {
    "collapsed": false,
    "pycharm": {
     "name": "#%%\n"
    }
   }
  },
  {
   "cell_type": "code",
   "execution_count": 113,
   "outputs": [],
   "source": [
    "# save\n",
    "df.to_csv('811_index.csv', index=False)\n"
   ],
   "metadata": {
    "collapsed": false,
    "pycharm": {
     "name": "#%%\n"
    }
   }
  },
  {
   "cell_type": "code",
   "execution_count": 18,
   "outputs": [],
   "source": [
    "# now with less validation files!\n",
    "df['Split'] = 'Training'\n",
    "df.loc[(df.Treatment_Replicate == 1) | (df.Treatment_Replicate == 2),'Split']='Unused'\n",
    "test_plates = df[df['Split'] == 'Unused'].Metadata_Plate.unique()\n",
    "df.loc[(df.Compound == 'DMSO') & (df.Metadata_Plate.isin(test_plates)),'Split']='Unused'"
   ],
   "metadata": {
    "collapsed": false,
    "pycharm": {
     "name": "#%%\n"
    }
   }
  },
  {
   "cell_type": "code",
   "execution_count": 13,
   "outputs": [],
   "source": [
    "df.loc[(df.Compound == 'DMSO') & (df.Split == 'Unused') & (df.Treatment_Replicate % 199 == 0),'Split']='Test'\n",
    "df.loc[(df.Split == 'Unused') & (df.Treatment_Replicate == 1) & (df.Metadata_Site <= 2),'Split']='Test'"
   ],
   "metadata": {
    "collapsed": false,
    "pycharm": {
     "name": "#%%\n"
    }
   }
  },
  {
   "cell_type": "code",
   "execution_count": 14,
   "outputs": [
    {
     "data": {
      "text/plain": "DMSO                      92\nBRD-K86301799-001-34-8     2\nBRD-K67080878-001-15-4     2\nBRD-A32172948-001-07-6     2\nBRD-A52660433-066-02-1     2\n                          ..\nBRD-K97688263-001-03-7     2\nBRD-K45158365-001-11-4     2\nBRD-K06388322-312-02-6     2\nBRD-K81144366-003-19-7     2\nBRD-K24616672-003-20-1     2\nName: Compound, Length: 512, dtype: int64"
     },
     "execution_count": 14,
     "metadata": {},
     "output_type": "execute_result"
    }
   ],
   "source": [
    "df[df['Split'] == 'Test'].Compound.value_counts()"
   ],
   "metadata": {
    "collapsed": false,
    "pycharm": {
     "name": "#%%\n"
    }
   }
  },
  {
   "cell_type": "code",
   "execution_count": 15,
   "outputs": [
    {
     "data": {
      "text/plain": "DMSO                      18144\nBRD-K86301799-001-34-8       27\nBRD-A29485665-001-12-8       27\nBRD-K22749967-046-02-3       27\nBRD-A97674275-001-11-8       27\n                          ...  \nBRD-K33127281-001-05-6       27\nBRD-K89348303-001-14-7       27\nBRD-K70610771-001-02-9       27\nBRD-K80608265-001-01-6       27\nBRD-K11433652-001-17-0       26\nName: Compound, Length: 512, dtype: int64"
     },
     "execution_count": 15,
     "metadata": {},
     "output_type": "execute_result"
    }
   ],
   "source": [
    "df[df['Split'] == 'Training'].Compound.value_counts()"
   ],
   "metadata": {
    "collapsed": false,
    "pycharm": {
     "name": "#%%\n"
    }
   }
  },
  {
   "cell_type": "code",
   "execution_count": 16,
   "outputs": [
    {
     "data": {
      "text/plain": "DMSO                      11032\nBRD-K86301799-001-34-8       16\nBRD-K06388322-312-02-6       16\nBRD-K90825648-001-02-0       16\nBRD-A65013509-003-24-4       16\n                          ...  \nBRD-K92984783-003-05-7       16\nBRD-K08799216-001-05-3       16\nBRD-K05524748-003-04-4       16\nBRD-K31627533-001-09-5       16\nBRD-K81258678-001-01-0        9\nName: Compound, Length: 512, dtype: int64"
     },
     "execution_count": 16,
     "metadata": {},
     "output_type": "execute_result"
    }
   ],
   "source": [
    "df[df['Split'] == 'Unused'].Compound.value_counts()"
   ],
   "metadata": {
    "collapsed": false,
    "pycharm": {
     "name": "#%%\n"
    }
   }
  },
  {
   "cell_type": "code",
   "execution_count": 130,
   "outputs": [],
   "source": [
    "df.to_csv('812_index.csv', index=False)"
   ],
   "metadata": {
    "collapsed": false,
    "pycharm": {
     "name": "#%%\n"
    }
   }
  },
  {
   "cell_type": "markdown",
   "source": [
    "Now, we are gonna check that we have mixed batches within the compounds so we dont train the batches!"
   ],
   "metadata": {
    "collapsed": false,
    "pycharm": {
     "name": "#%% md\n"
    }
   }
  },
  {
   "cell_type": "code",
   "execution_count": 21,
   "outputs": [
    {
     "name": "stderr",
     "output_type": "stream",
     "text": [
      "/Users/mbornhol/miniconda3/envs/cyto_eval/lib/python3.7/site-packages/IPython/core/interactiveshell.py:3166: DtypeWarning: Columns (8,9,16,17,18,20,21,22,23,24) have mixed types.Specify dtype option on import or set low_memory=False.\n",
      "  interactivity=interactivity, compiler=compiler, result=result)\n"
     ]
    }
   ],
   "source": [
    "# Get Batch data\n",
    "batch = pd.read_csv('/Users/mbornhol/git/neural-profiling/baseline/01_data/level_3_data/sub_level3.csv')"
   ],
   "metadata": {
    "collapsed": false,
    "pycharm": {
     "name": "#%%\n"
    }
   }
  },
  {
   "cell_type": "code",
   "execution_count": 25,
   "outputs": [],
   "source": [
    "b = batch[['Metadata_Batch_Number', 'Metadata_Plate', 'Metadata_Well']]"
   ],
   "metadata": {
    "collapsed": false,
    "pycharm": {
     "name": "#%%\n"
    }
   }
  },
  {
   "cell_type": "code",
   "execution_count": 29,
   "outputs": [],
   "source": [
    "df = pd.merge(df, b, on=['Metadata_Plate', 'Metadata_Well'], validate='many_to_one')"
   ],
   "metadata": {
    "collapsed": false,
    "pycharm": {
     "name": "#%%\n"
    }
   }
  },
  {
   "cell_type": "code",
   "execution_count": 30,
   "outputs": [],
   "source": [
    "df['Split'] = 'Training'\n",
    "df.loc[(df.Treatment_Replicate == 1) | (df.Treatment_Replicate == 2),'Split']='Unused'\n",
    "test_plates = df[df['Split'] == 'Unused'].Metadata_Plate.unique()\n",
    "df.loc[(df.Compound == 'DMSO') & (df.Metadata_Plate.isin(test_plates)),'Split']='Unused'\n",
    "df.loc[(df.Compound == 'DMSO') & (df.Split == 'Unused') & (df.Treatment_Replicate % 199 == 0),'Split']='Test'\n",
    "df.loc[(df.Split == 'Unused') & (df.Treatment_Replicate == 1) & (df.Metadata_Site <= 2),'Split']='Test'"
   ],
   "metadata": {
    "collapsed": false,
    "pycharm": {
     "name": "#%%\n"
    }
   }
  },
  {
   "cell_type": "code",
   "execution_count": 74,
   "outputs": [],
   "source": [
    "ls = {}\n",
    "for c in df.Metadata_broad_sample.unique():\n",
    "    v = df[(df['Metadata_broad_sample'] == c)].Metadata_Batch_Number.value_counts().idxmax()\n",
    "    w = df[(df['Metadata_broad_sample'] == c) & (df['Metadata_Batch_Number'] == v)].Treatment_Replicate.unique()[:2]\n",
    "    ls[c] = [v,w]"
   ],
   "metadata": {
    "collapsed": false,
    "pycharm": {
     "name": "#%%\n"
    }
   }
  },
  {
   "cell_type": "code",
   "execution_count": 94,
   "outputs": [],
   "source": [
    "df['Split'] = 'Training'"
   ],
   "metadata": {
    "collapsed": false,
    "pycharm": {
     "name": "#%%\n"
    }
   }
  },
  {
   "cell_type": "code",
   "execution_count": 103,
   "outputs": [],
   "source": [
    "for m in ls:\n",
    "    df.loc[(df.Metadata_broad_sample == m) & (df.Treatment_Replicate.isin(ls[m][1])),'Split']='Unused'\n",
    "df.loc[(df.Metadata_Site == 5) & (df.Split == 'Unused'),'Split']='Test'"
   ],
   "metadata": {
    "collapsed": false,
    "pycharm": {
     "name": "#%%\n"
    }
   }
  },
  {
   "cell_type": "code",
   "execution_count": 93,
   "outputs": [
    {
     "data": {
      "text/plain": "      Metadata_Plate Metadata_Well  Metadata_Site   Metadata_broad_sample  \\\n34976     SQ00015056           C13              1  BRD-K92984783-003-05-7   \n34977     SQ00015056           C13              2  BRD-K92984783-003-05-7   \n34978     SQ00015056           C13              3  BRD-K92984783-003-05-7   \n34979     SQ00015056           C13              4  BRD-K92984783-003-05-7   \n34980     SQ00015056           C13              5  BRD-K92984783-003-05-7   \n34981     SQ00015056           C13              6  BRD-K92984783-003-05-7   \n34982     SQ00015056           C13              7  BRD-K92984783-003-05-7   \n34983     SQ00015056           C13              8  BRD-K92984783-003-05-7   \n34984     SQ00015056           C13              9  BRD-K92984783-003-05-7   \n34985     SQ00015057           C13              1  BRD-K92984783-003-05-7   \n34986     SQ00015057           C13              2  BRD-K92984783-003-05-7   \n34987     SQ00015057           C13              3  BRD-K92984783-003-05-7   \n34988     SQ00015057           C13              4  BRD-K92984783-003-05-7   \n34989     SQ00015057           C13              5  BRD-K92984783-003-05-7   \n34990     SQ00015057           C13              6  BRD-K92984783-003-05-7   \n34991     SQ00015057           C13              7  BRD-K92984783-003-05-7   \n34992     SQ00015057           C13              8  BRD-K92984783-003-05-7   \n34993     SQ00015057           C13              9  BRD-K92984783-003-05-7   \n\n                                            Metadata_moa  \\\n34976  dopamine receptor antagonist|serotonin recepto...   \n34977  dopamine receptor antagonist|serotonin recepto...   \n34978  dopamine receptor antagonist|serotonin recepto...   \n34979  dopamine receptor antagonist|serotonin recepto...   \n34980  dopamine receptor antagonist|serotonin recepto...   \n34981  dopamine receptor antagonist|serotonin recepto...   \n34982  dopamine receptor antagonist|serotonin recepto...   \n34983  dopamine receptor antagonist|serotonin recepto...   \n34984  dopamine receptor antagonist|serotonin recepto...   \n34985  dopamine receptor antagonist|serotonin recepto...   \n34986  dopamine receptor antagonist|serotonin recepto...   \n34987  dopamine receptor antagonist|serotonin recepto...   \n34988  dopamine receptor antagonist|serotonin recepto...   \n34989  dopamine receptor antagonist|serotonin recepto...   \n34990  dopamine receptor antagonist|serotonin recepto...   \n34991  dopamine receptor antagonist|serotonin recepto...   \n34992  dopamine receptor antagonist|serotonin recepto...   \n34993  dopamine receptor antagonist|serotonin recepto...   \n\n       Metadata_mmoles_per_liter  Metadata_dose_recode  \\\n34976                       10.0                     6   \n34977                       10.0                     6   \n34978                       10.0                     6   \n34979                       10.0                     6   \n34980                       10.0                     6   \n34981                       10.0                     6   \n34982                       10.0                     6   \n34983                       10.0                     6   \n34984                       10.0                     6   \n34985                       10.0                     6   \n34986                       10.0                     6   \n34987                       10.0                     6   \n34988                       10.0                     6   \n34989                       10.0                     6   \n34990                       10.0                     6   \n34991                       10.0                     6   \n34992                       10.0                     6   \n34993                       10.0                     6   \n\n                                            RNA  \\\n34976  SQ00015056/r03c13f01p01-ch3sk1fk1fl1.png   \n34977  SQ00015056/r03c13f02p01-ch3sk1fk1fl1.png   \n34978  SQ00015056/r03c13f03p01-ch3sk1fk1fl1.png   \n34979  SQ00015056/r03c13f04p01-ch3sk1fk1fl1.png   \n34980  SQ00015056/r03c13f05p01-ch3sk1fk1fl1.png   \n34981  SQ00015056/r03c13f06p01-ch3sk1fk1fl1.png   \n34982  SQ00015056/r03c13f07p01-ch3sk1fk1fl1.png   \n34983  SQ00015056/r03c13f08p01-ch3sk1fk1fl1.png   \n34984  SQ00015056/r03c13f09p01-ch3sk1fk1fl1.png   \n34985  SQ00015057/r03c13f01p01-ch3sk1fk1fl1.png   \n34986  SQ00015057/r03c13f02p01-ch3sk1fk1fl1.png   \n34987  SQ00015057/r03c13f03p01-ch3sk1fk1fl1.png   \n34988  SQ00015057/r03c13f04p01-ch3sk1fk1fl1.png   \n34989  SQ00015057/r03c13f05p01-ch3sk1fk1fl1.png   \n34990  SQ00015057/r03c13f06p01-ch3sk1fk1fl1.png   \n34991  SQ00015057/r03c13f07p01-ch3sk1fk1fl1.png   \n34992  SQ00015057/r03c13f08p01-ch3sk1fk1fl1.png   \n34993  SQ00015057/r03c13f09p01-ch3sk1fk1fl1.png   \n\n                                             ER  \\\n34976  SQ00015056/r03c13f01p01-ch2sk1fk1fl1.png   \n34977  SQ00015056/r03c13f02p01-ch2sk1fk1fl1.png   \n34978  SQ00015056/r03c13f03p01-ch2sk1fk1fl1.png   \n34979  SQ00015056/r03c13f04p01-ch2sk1fk1fl1.png   \n34980  SQ00015056/r03c13f05p01-ch2sk1fk1fl1.png   \n34981  SQ00015056/r03c13f06p01-ch2sk1fk1fl1.png   \n34982  SQ00015056/r03c13f07p01-ch2sk1fk1fl1.png   \n34983  SQ00015056/r03c13f08p01-ch2sk1fk1fl1.png   \n34984  SQ00015056/r03c13f09p01-ch2sk1fk1fl1.png   \n34985  SQ00015057/r03c13f01p01-ch2sk1fk1fl1.png   \n34986  SQ00015057/r03c13f02p01-ch2sk1fk1fl1.png   \n34987  SQ00015057/r03c13f03p01-ch2sk1fk1fl1.png   \n34988  SQ00015057/r03c13f04p01-ch2sk1fk1fl1.png   \n34989  SQ00015057/r03c13f05p01-ch2sk1fk1fl1.png   \n34990  SQ00015057/r03c13f06p01-ch2sk1fk1fl1.png   \n34991  SQ00015057/r03c13f07p01-ch2sk1fk1fl1.png   \n34992  SQ00015057/r03c13f08p01-ch2sk1fk1fl1.png   \n34993  SQ00015057/r03c13f09p01-ch2sk1fk1fl1.png   \n\n                                            AGP  ...  \\\n34976  SQ00015056/r03c13f01p01-ch4sk1fk1fl1.png  ...   \n34977  SQ00015056/r03c13f02p01-ch4sk1fk1fl1.png  ...   \n34978  SQ00015056/r03c13f03p01-ch4sk1fk1fl1.png  ...   \n34979  SQ00015056/r03c13f04p01-ch4sk1fk1fl1.png  ...   \n34980  SQ00015056/r03c13f05p01-ch4sk1fk1fl1.png  ...   \n34981  SQ00015056/r03c13f06p01-ch4sk1fk1fl1.png  ...   \n34982  SQ00015056/r03c13f07p01-ch4sk1fk1fl1.png  ...   \n34983  SQ00015056/r03c13f08p01-ch4sk1fk1fl1.png  ...   \n34984  SQ00015056/r03c13f09p01-ch4sk1fk1fl1.png  ...   \n34985  SQ00015057/r03c13f01p01-ch4sk1fk1fl1.png  ...   \n34986  SQ00015057/r03c13f02p01-ch4sk1fk1fl1.png  ...   \n34987  SQ00015057/r03c13f03p01-ch4sk1fk1fl1.png  ...   \n34988  SQ00015057/r03c13f04p01-ch4sk1fk1fl1.png  ...   \n34989  SQ00015057/r03c13f05p01-ch4sk1fk1fl1.png  ...   \n34990  SQ00015057/r03c13f06p01-ch4sk1fk1fl1.png  ...   \n34991  SQ00015057/r03c13f07p01-ch4sk1fk1fl1.png  ...   \n34992  SQ00015057/r03c13f08p01-ch4sk1fk1fl1.png  ...   \n34993  SQ00015057/r03c13f09p01-ch4sk1fk1fl1.png  ...   \n\n                                            DNA Concentration  Treatment_ID  \\\n34976  SQ00015056/r03c13f01p01-ch1sk1fk1fl1.png          10.0          9124   \n34977  SQ00015056/r03c13f02p01-ch1sk1fk1fl1.png          10.0          9124   \n34978  SQ00015056/r03c13f03p01-ch1sk1fk1fl1.png          10.0          9124   \n34979  SQ00015056/r03c13f04p01-ch1sk1fk1fl1.png          10.0          9124   \n34980  SQ00015056/r03c13f05p01-ch1sk1fk1fl1.png          10.0          9124   \n34981  SQ00015056/r03c13f06p01-ch1sk1fk1fl1.png          10.0          9124   \n34982  SQ00015056/r03c13f07p01-ch1sk1fk1fl1.png          10.0          9124   \n34983  SQ00015056/r03c13f08p01-ch1sk1fk1fl1.png          10.0          9124   \n34984  SQ00015056/r03c13f09p01-ch1sk1fk1fl1.png          10.0          9124   \n34985  SQ00015057/r03c13f01p01-ch1sk1fk1fl1.png          10.0          9124   \n34986  SQ00015057/r03c13f02p01-ch1sk1fk1fl1.png          10.0          9124   \n34987  SQ00015057/r03c13f03p01-ch1sk1fk1fl1.png          10.0          9124   \n34988  SQ00015057/r03c13f04p01-ch1sk1fk1fl1.png          10.0          9124   \n34989  SQ00015057/r03c13f05p01-ch1sk1fk1fl1.png          10.0          9124   \n34990  SQ00015057/r03c13f06p01-ch1sk1fk1fl1.png          10.0          9124   \n34991  SQ00015057/r03c13f07p01-ch1sk1fk1fl1.png          10.0          9124   \n34992  SQ00015057/r03c13f08p01-ch1sk1fk1fl1.png          10.0          9124   \n34993  SQ00015057/r03c13f09p01-ch1sk1fk1fl1.png          10.0          9124   \n\n                     Compound pert_iname Treatment_Replicate  \\\n34976  BRD-K92984783-003-05-7  melperone                   1   \n34977  BRD-K92984783-003-05-7  melperone                   1   \n34978  BRD-K92984783-003-05-7  melperone                   1   \n34979  BRD-K92984783-003-05-7  melperone                   1   \n34980  BRD-K92984783-003-05-7  melperone                   1   \n34981  BRD-K92984783-003-05-7  melperone                   1   \n34982  BRD-K92984783-003-05-7  melperone                   1   \n34983  BRD-K92984783-003-05-7  melperone                   1   \n34984  BRD-K92984783-003-05-7  melperone                   1   \n34985  BRD-K92984783-003-05-7  melperone                   2   \n34986  BRD-K92984783-003-05-7  melperone                   2   \n34987  BRD-K92984783-003-05-7  melperone                   2   \n34988  BRD-K92984783-003-05-7  melperone                   2   \n34989  BRD-K92984783-003-05-7  melperone                   2   \n34990  BRD-K92984783-003-05-7  melperone                   2   \n34991  BRD-K92984783-003-05-7  melperone                   2   \n34992  BRD-K92984783-003-05-7  melperone                   2   \n34993  BRD-K92984783-003-05-7  melperone                   2   \n\n                                        Treatment     Plate_Map_Name   Split  \\\n34976  BRD-K92984783-003-05-7@9.99999999999999999  C-7161-01-LM6-028  Unused   \n34977  BRD-K92984783-003-05-7@9.99999999999999999  C-7161-01-LM6-028  Unused   \n34978  BRD-K92984783-003-05-7@9.99999999999999999  C-7161-01-LM6-028  Unused   \n34979  BRD-K92984783-003-05-7@9.99999999999999999  C-7161-01-LM6-028  Unused   \n34980  BRD-K92984783-003-05-7@9.99999999999999999  C-7161-01-LM6-028  Unused   \n34981  BRD-K92984783-003-05-7@9.99999999999999999  C-7161-01-LM6-028  Unused   \n34982  BRD-K92984783-003-05-7@9.99999999999999999  C-7161-01-LM6-028  Unused   \n34983  BRD-K92984783-003-05-7@9.99999999999999999  C-7161-01-LM6-028  Unused   \n34984  BRD-K92984783-003-05-7@9.99999999999999999  C-7161-01-LM6-028  Unused   \n34985  BRD-K92984783-003-05-7@9.99999999999999999  C-7161-01-LM6-028  Unused   \n34986  BRD-K92984783-003-05-7@9.99999999999999999  C-7161-01-LM6-028  Unused   \n34987  BRD-K92984783-003-05-7@9.99999999999999999  C-7161-01-LM6-028  Unused   \n34988  BRD-K92984783-003-05-7@9.99999999999999999  C-7161-01-LM6-028  Unused   \n34989  BRD-K92984783-003-05-7@9.99999999999999999  C-7161-01-LM6-028  Unused   \n34990  BRD-K92984783-003-05-7@9.99999999999999999  C-7161-01-LM6-028  Unused   \n34991  BRD-K92984783-003-05-7@9.99999999999999999  C-7161-01-LM6-028  Unused   \n34992  BRD-K92984783-003-05-7@9.99999999999999999  C-7161-01-LM6-028  Unused   \n34993  BRD-K92984783-003-05-7@9.99999999999999999  C-7161-01-LM6-028  Unused   \n\n      Metadata_Batch_Number  \n34976                     4  \n34977                     4  \n34978                     4  \n34979                     4  \n34980                     4  \n34981                     4  \n34982                     4  \n34983                     4  \n34984                     4  \n34985                     4  \n34986                     4  \n34987                     4  \n34988                     4  \n34989                     4  \n34990                     4  \n34991                     4  \n34992                     4  \n34993                     4  \n\n[18 rows x 21 columns]",
      "text/html": "<div>\n<style scoped>\n    .dataframe tbody tr th:only-of-type {\n        vertical-align: middle;\n    }\n\n    .dataframe tbody tr th {\n        vertical-align: top;\n    }\n\n    .dataframe thead th {\n        text-align: right;\n    }\n</style>\n<table border=\"1\" class=\"dataframe\">\n  <thead>\n    <tr style=\"text-align: right;\">\n      <th></th>\n      <th>Metadata_Plate</th>\n      <th>Metadata_Well</th>\n      <th>Metadata_Site</th>\n      <th>Metadata_broad_sample</th>\n      <th>Metadata_moa</th>\n      <th>Metadata_mmoles_per_liter</th>\n      <th>Metadata_dose_recode</th>\n      <th>RNA</th>\n      <th>ER</th>\n      <th>AGP</th>\n      <th>...</th>\n      <th>DNA</th>\n      <th>Concentration</th>\n      <th>Treatment_ID</th>\n      <th>Compound</th>\n      <th>pert_iname</th>\n      <th>Treatment_Replicate</th>\n      <th>Treatment</th>\n      <th>Plate_Map_Name</th>\n      <th>Split</th>\n      <th>Metadata_Batch_Number</th>\n    </tr>\n  </thead>\n  <tbody>\n    <tr>\n      <th>34976</th>\n      <td>SQ00015056</td>\n      <td>C13</td>\n      <td>1</td>\n      <td>BRD-K92984783-003-05-7</td>\n      <td>dopamine receptor antagonist|serotonin recepto...</td>\n      <td>10.0</td>\n      <td>6</td>\n      <td>SQ00015056/r03c13f01p01-ch3sk1fk1fl1.png</td>\n      <td>SQ00015056/r03c13f01p01-ch2sk1fk1fl1.png</td>\n      <td>SQ00015056/r03c13f01p01-ch4sk1fk1fl1.png</td>\n      <td>...</td>\n      <td>SQ00015056/r03c13f01p01-ch1sk1fk1fl1.png</td>\n      <td>10.0</td>\n      <td>9124</td>\n      <td>BRD-K92984783-003-05-7</td>\n      <td>melperone</td>\n      <td>1</td>\n      <td>BRD-K92984783-003-05-7@9.99999999999999999</td>\n      <td>C-7161-01-LM6-028</td>\n      <td>Unused</td>\n      <td>4</td>\n    </tr>\n    <tr>\n      <th>34977</th>\n      <td>SQ00015056</td>\n      <td>C13</td>\n      <td>2</td>\n      <td>BRD-K92984783-003-05-7</td>\n      <td>dopamine receptor antagonist|serotonin recepto...</td>\n      <td>10.0</td>\n      <td>6</td>\n      <td>SQ00015056/r03c13f02p01-ch3sk1fk1fl1.png</td>\n      <td>SQ00015056/r03c13f02p01-ch2sk1fk1fl1.png</td>\n      <td>SQ00015056/r03c13f02p01-ch4sk1fk1fl1.png</td>\n      <td>...</td>\n      <td>SQ00015056/r03c13f02p01-ch1sk1fk1fl1.png</td>\n      <td>10.0</td>\n      <td>9124</td>\n      <td>BRD-K92984783-003-05-7</td>\n      <td>melperone</td>\n      <td>1</td>\n      <td>BRD-K92984783-003-05-7@9.99999999999999999</td>\n      <td>C-7161-01-LM6-028</td>\n      <td>Unused</td>\n      <td>4</td>\n    </tr>\n    <tr>\n      <th>34978</th>\n      <td>SQ00015056</td>\n      <td>C13</td>\n      <td>3</td>\n      <td>BRD-K92984783-003-05-7</td>\n      <td>dopamine receptor antagonist|serotonin recepto...</td>\n      <td>10.0</td>\n      <td>6</td>\n      <td>SQ00015056/r03c13f03p01-ch3sk1fk1fl1.png</td>\n      <td>SQ00015056/r03c13f03p01-ch2sk1fk1fl1.png</td>\n      <td>SQ00015056/r03c13f03p01-ch4sk1fk1fl1.png</td>\n      <td>...</td>\n      <td>SQ00015056/r03c13f03p01-ch1sk1fk1fl1.png</td>\n      <td>10.0</td>\n      <td>9124</td>\n      <td>BRD-K92984783-003-05-7</td>\n      <td>melperone</td>\n      <td>1</td>\n      <td>BRD-K92984783-003-05-7@9.99999999999999999</td>\n      <td>C-7161-01-LM6-028</td>\n      <td>Unused</td>\n      <td>4</td>\n    </tr>\n    <tr>\n      <th>34979</th>\n      <td>SQ00015056</td>\n      <td>C13</td>\n      <td>4</td>\n      <td>BRD-K92984783-003-05-7</td>\n      <td>dopamine receptor antagonist|serotonin recepto...</td>\n      <td>10.0</td>\n      <td>6</td>\n      <td>SQ00015056/r03c13f04p01-ch3sk1fk1fl1.png</td>\n      <td>SQ00015056/r03c13f04p01-ch2sk1fk1fl1.png</td>\n      <td>SQ00015056/r03c13f04p01-ch4sk1fk1fl1.png</td>\n      <td>...</td>\n      <td>SQ00015056/r03c13f04p01-ch1sk1fk1fl1.png</td>\n      <td>10.0</td>\n      <td>9124</td>\n      <td>BRD-K92984783-003-05-7</td>\n      <td>melperone</td>\n      <td>1</td>\n      <td>BRD-K92984783-003-05-7@9.99999999999999999</td>\n      <td>C-7161-01-LM6-028</td>\n      <td>Unused</td>\n      <td>4</td>\n    </tr>\n    <tr>\n      <th>34980</th>\n      <td>SQ00015056</td>\n      <td>C13</td>\n      <td>5</td>\n      <td>BRD-K92984783-003-05-7</td>\n      <td>dopamine receptor antagonist|serotonin recepto...</td>\n      <td>10.0</td>\n      <td>6</td>\n      <td>SQ00015056/r03c13f05p01-ch3sk1fk1fl1.png</td>\n      <td>SQ00015056/r03c13f05p01-ch2sk1fk1fl1.png</td>\n      <td>SQ00015056/r03c13f05p01-ch4sk1fk1fl1.png</td>\n      <td>...</td>\n      <td>SQ00015056/r03c13f05p01-ch1sk1fk1fl1.png</td>\n      <td>10.0</td>\n      <td>9124</td>\n      <td>BRD-K92984783-003-05-7</td>\n      <td>melperone</td>\n      <td>1</td>\n      <td>BRD-K92984783-003-05-7@9.99999999999999999</td>\n      <td>C-7161-01-LM6-028</td>\n      <td>Unused</td>\n      <td>4</td>\n    </tr>\n    <tr>\n      <th>34981</th>\n      <td>SQ00015056</td>\n      <td>C13</td>\n      <td>6</td>\n      <td>BRD-K92984783-003-05-7</td>\n      <td>dopamine receptor antagonist|serotonin recepto...</td>\n      <td>10.0</td>\n      <td>6</td>\n      <td>SQ00015056/r03c13f06p01-ch3sk1fk1fl1.png</td>\n      <td>SQ00015056/r03c13f06p01-ch2sk1fk1fl1.png</td>\n      <td>SQ00015056/r03c13f06p01-ch4sk1fk1fl1.png</td>\n      <td>...</td>\n      <td>SQ00015056/r03c13f06p01-ch1sk1fk1fl1.png</td>\n      <td>10.0</td>\n      <td>9124</td>\n      <td>BRD-K92984783-003-05-7</td>\n      <td>melperone</td>\n      <td>1</td>\n      <td>BRD-K92984783-003-05-7@9.99999999999999999</td>\n      <td>C-7161-01-LM6-028</td>\n      <td>Unused</td>\n      <td>4</td>\n    </tr>\n    <tr>\n      <th>34982</th>\n      <td>SQ00015056</td>\n      <td>C13</td>\n      <td>7</td>\n      <td>BRD-K92984783-003-05-7</td>\n      <td>dopamine receptor antagonist|serotonin recepto...</td>\n      <td>10.0</td>\n      <td>6</td>\n      <td>SQ00015056/r03c13f07p01-ch3sk1fk1fl1.png</td>\n      <td>SQ00015056/r03c13f07p01-ch2sk1fk1fl1.png</td>\n      <td>SQ00015056/r03c13f07p01-ch4sk1fk1fl1.png</td>\n      <td>...</td>\n      <td>SQ00015056/r03c13f07p01-ch1sk1fk1fl1.png</td>\n      <td>10.0</td>\n      <td>9124</td>\n      <td>BRD-K92984783-003-05-7</td>\n      <td>melperone</td>\n      <td>1</td>\n      <td>BRD-K92984783-003-05-7@9.99999999999999999</td>\n      <td>C-7161-01-LM6-028</td>\n      <td>Unused</td>\n      <td>4</td>\n    </tr>\n    <tr>\n      <th>34983</th>\n      <td>SQ00015056</td>\n      <td>C13</td>\n      <td>8</td>\n      <td>BRD-K92984783-003-05-7</td>\n      <td>dopamine receptor antagonist|serotonin recepto...</td>\n      <td>10.0</td>\n      <td>6</td>\n      <td>SQ00015056/r03c13f08p01-ch3sk1fk1fl1.png</td>\n      <td>SQ00015056/r03c13f08p01-ch2sk1fk1fl1.png</td>\n      <td>SQ00015056/r03c13f08p01-ch4sk1fk1fl1.png</td>\n      <td>...</td>\n      <td>SQ00015056/r03c13f08p01-ch1sk1fk1fl1.png</td>\n      <td>10.0</td>\n      <td>9124</td>\n      <td>BRD-K92984783-003-05-7</td>\n      <td>melperone</td>\n      <td>1</td>\n      <td>BRD-K92984783-003-05-7@9.99999999999999999</td>\n      <td>C-7161-01-LM6-028</td>\n      <td>Unused</td>\n      <td>4</td>\n    </tr>\n    <tr>\n      <th>34984</th>\n      <td>SQ00015056</td>\n      <td>C13</td>\n      <td>9</td>\n      <td>BRD-K92984783-003-05-7</td>\n      <td>dopamine receptor antagonist|serotonin recepto...</td>\n      <td>10.0</td>\n      <td>6</td>\n      <td>SQ00015056/r03c13f09p01-ch3sk1fk1fl1.png</td>\n      <td>SQ00015056/r03c13f09p01-ch2sk1fk1fl1.png</td>\n      <td>SQ00015056/r03c13f09p01-ch4sk1fk1fl1.png</td>\n      <td>...</td>\n      <td>SQ00015056/r03c13f09p01-ch1sk1fk1fl1.png</td>\n      <td>10.0</td>\n      <td>9124</td>\n      <td>BRD-K92984783-003-05-7</td>\n      <td>melperone</td>\n      <td>1</td>\n      <td>BRD-K92984783-003-05-7@9.99999999999999999</td>\n      <td>C-7161-01-LM6-028</td>\n      <td>Unused</td>\n      <td>4</td>\n    </tr>\n    <tr>\n      <th>34985</th>\n      <td>SQ00015057</td>\n      <td>C13</td>\n      <td>1</td>\n      <td>BRD-K92984783-003-05-7</td>\n      <td>dopamine receptor antagonist|serotonin recepto...</td>\n      <td>10.0</td>\n      <td>6</td>\n      <td>SQ00015057/r03c13f01p01-ch3sk1fk1fl1.png</td>\n      <td>SQ00015057/r03c13f01p01-ch2sk1fk1fl1.png</td>\n      <td>SQ00015057/r03c13f01p01-ch4sk1fk1fl1.png</td>\n      <td>...</td>\n      <td>SQ00015057/r03c13f01p01-ch1sk1fk1fl1.png</td>\n      <td>10.0</td>\n      <td>9124</td>\n      <td>BRD-K92984783-003-05-7</td>\n      <td>melperone</td>\n      <td>2</td>\n      <td>BRD-K92984783-003-05-7@9.99999999999999999</td>\n      <td>C-7161-01-LM6-028</td>\n      <td>Unused</td>\n      <td>4</td>\n    </tr>\n    <tr>\n      <th>34986</th>\n      <td>SQ00015057</td>\n      <td>C13</td>\n      <td>2</td>\n      <td>BRD-K92984783-003-05-7</td>\n      <td>dopamine receptor antagonist|serotonin recepto...</td>\n      <td>10.0</td>\n      <td>6</td>\n      <td>SQ00015057/r03c13f02p01-ch3sk1fk1fl1.png</td>\n      <td>SQ00015057/r03c13f02p01-ch2sk1fk1fl1.png</td>\n      <td>SQ00015057/r03c13f02p01-ch4sk1fk1fl1.png</td>\n      <td>...</td>\n      <td>SQ00015057/r03c13f02p01-ch1sk1fk1fl1.png</td>\n      <td>10.0</td>\n      <td>9124</td>\n      <td>BRD-K92984783-003-05-7</td>\n      <td>melperone</td>\n      <td>2</td>\n      <td>BRD-K92984783-003-05-7@9.99999999999999999</td>\n      <td>C-7161-01-LM6-028</td>\n      <td>Unused</td>\n      <td>4</td>\n    </tr>\n    <tr>\n      <th>34987</th>\n      <td>SQ00015057</td>\n      <td>C13</td>\n      <td>3</td>\n      <td>BRD-K92984783-003-05-7</td>\n      <td>dopamine receptor antagonist|serotonin recepto...</td>\n      <td>10.0</td>\n      <td>6</td>\n      <td>SQ00015057/r03c13f03p01-ch3sk1fk1fl1.png</td>\n      <td>SQ00015057/r03c13f03p01-ch2sk1fk1fl1.png</td>\n      <td>SQ00015057/r03c13f03p01-ch4sk1fk1fl1.png</td>\n      <td>...</td>\n      <td>SQ00015057/r03c13f03p01-ch1sk1fk1fl1.png</td>\n      <td>10.0</td>\n      <td>9124</td>\n      <td>BRD-K92984783-003-05-7</td>\n      <td>melperone</td>\n      <td>2</td>\n      <td>BRD-K92984783-003-05-7@9.99999999999999999</td>\n      <td>C-7161-01-LM6-028</td>\n      <td>Unused</td>\n      <td>4</td>\n    </tr>\n    <tr>\n      <th>34988</th>\n      <td>SQ00015057</td>\n      <td>C13</td>\n      <td>4</td>\n      <td>BRD-K92984783-003-05-7</td>\n      <td>dopamine receptor antagonist|serotonin recepto...</td>\n      <td>10.0</td>\n      <td>6</td>\n      <td>SQ00015057/r03c13f04p01-ch3sk1fk1fl1.png</td>\n      <td>SQ00015057/r03c13f04p01-ch2sk1fk1fl1.png</td>\n      <td>SQ00015057/r03c13f04p01-ch4sk1fk1fl1.png</td>\n      <td>...</td>\n      <td>SQ00015057/r03c13f04p01-ch1sk1fk1fl1.png</td>\n      <td>10.0</td>\n      <td>9124</td>\n      <td>BRD-K92984783-003-05-7</td>\n      <td>melperone</td>\n      <td>2</td>\n      <td>BRD-K92984783-003-05-7@9.99999999999999999</td>\n      <td>C-7161-01-LM6-028</td>\n      <td>Unused</td>\n      <td>4</td>\n    </tr>\n    <tr>\n      <th>34989</th>\n      <td>SQ00015057</td>\n      <td>C13</td>\n      <td>5</td>\n      <td>BRD-K92984783-003-05-7</td>\n      <td>dopamine receptor antagonist|serotonin recepto...</td>\n      <td>10.0</td>\n      <td>6</td>\n      <td>SQ00015057/r03c13f05p01-ch3sk1fk1fl1.png</td>\n      <td>SQ00015057/r03c13f05p01-ch2sk1fk1fl1.png</td>\n      <td>SQ00015057/r03c13f05p01-ch4sk1fk1fl1.png</td>\n      <td>...</td>\n      <td>SQ00015057/r03c13f05p01-ch1sk1fk1fl1.png</td>\n      <td>10.0</td>\n      <td>9124</td>\n      <td>BRD-K92984783-003-05-7</td>\n      <td>melperone</td>\n      <td>2</td>\n      <td>BRD-K92984783-003-05-7@9.99999999999999999</td>\n      <td>C-7161-01-LM6-028</td>\n      <td>Unused</td>\n      <td>4</td>\n    </tr>\n    <tr>\n      <th>34990</th>\n      <td>SQ00015057</td>\n      <td>C13</td>\n      <td>6</td>\n      <td>BRD-K92984783-003-05-7</td>\n      <td>dopamine receptor antagonist|serotonin recepto...</td>\n      <td>10.0</td>\n      <td>6</td>\n      <td>SQ00015057/r03c13f06p01-ch3sk1fk1fl1.png</td>\n      <td>SQ00015057/r03c13f06p01-ch2sk1fk1fl1.png</td>\n      <td>SQ00015057/r03c13f06p01-ch4sk1fk1fl1.png</td>\n      <td>...</td>\n      <td>SQ00015057/r03c13f06p01-ch1sk1fk1fl1.png</td>\n      <td>10.0</td>\n      <td>9124</td>\n      <td>BRD-K92984783-003-05-7</td>\n      <td>melperone</td>\n      <td>2</td>\n      <td>BRD-K92984783-003-05-7@9.99999999999999999</td>\n      <td>C-7161-01-LM6-028</td>\n      <td>Unused</td>\n      <td>4</td>\n    </tr>\n    <tr>\n      <th>34991</th>\n      <td>SQ00015057</td>\n      <td>C13</td>\n      <td>7</td>\n      <td>BRD-K92984783-003-05-7</td>\n      <td>dopamine receptor antagonist|serotonin recepto...</td>\n      <td>10.0</td>\n      <td>6</td>\n      <td>SQ00015057/r03c13f07p01-ch3sk1fk1fl1.png</td>\n      <td>SQ00015057/r03c13f07p01-ch2sk1fk1fl1.png</td>\n      <td>SQ00015057/r03c13f07p01-ch4sk1fk1fl1.png</td>\n      <td>...</td>\n      <td>SQ00015057/r03c13f07p01-ch1sk1fk1fl1.png</td>\n      <td>10.0</td>\n      <td>9124</td>\n      <td>BRD-K92984783-003-05-7</td>\n      <td>melperone</td>\n      <td>2</td>\n      <td>BRD-K92984783-003-05-7@9.99999999999999999</td>\n      <td>C-7161-01-LM6-028</td>\n      <td>Unused</td>\n      <td>4</td>\n    </tr>\n    <tr>\n      <th>34992</th>\n      <td>SQ00015057</td>\n      <td>C13</td>\n      <td>8</td>\n      <td>BRD-K92984783-003-05-7</td>\n      <td>dopamine receptor antagonist|serotonin recepto...</td>\n      <td>10.0</td>\n      <td>6</td>\n      <td>SQ00015057/r03c13f08p01-ch3sk1fk1fl1.png</td>\n      <td>SQ00015057/r03c13f08p01-ch2sk1fk1fl1.png</td>\n      <td>SQ00015057/r03c13f08p01-ch4sk1fk1fl1.png</td>\n      <td>...</td>\n      <td>SQ00015057/r03c13f08p01-ch1sk1fk1fl1.png</td>\n      <td>10.0</td>\n      <td>9124</td>\n      <td>BRD-K92984783-003-05-7</td>\n      <td>melperone</td>\n      <td>2</td>\n      <td>BRD-K92984783-003-05-7@9.99999999999999999</td>\n      <td>C-7161-01-LM6-028</td>\n      <td>Unused</td>\n      <td>4</td>\n    </tr>\n    <tr>\n      <th>34993</th>\n      <td>SQ00015057</td>\n      <td>C13</td>\n      <td>9</td>\n      <td>BRD-K92984783-003-05-7</td>\n      <td>dopamine receptor antagonist|serotonin recepto...</td>\n      <td>10.0</td>\n      <td>6</td>\n      <td>SQ00015057/r03c13f09p01-ch3sk1fk1fl1.png</td>\n      <td>SQ00015057/r03c13f09p01-ch2sk1fk1fl1.png</td>\n      <td>SQ00015057/r03c13f09p01-ch4sk1fk1fl1.png</td>\n      <td>...</td>\n      <td>SQ00015057/r03c13f09p01-ch1sk1fk1fl1.png</td>\n      <td>10.0</td>\n      <td>9124</td>\n      <td>BRD-K92984783-003-05-7</td>\n      <td>melperone</td>\n      <td>2</td>\n      <td>BRD-K92984783-003-05-7@9.99999999999999999</td>\n      <td>C-7161-01-LM6-028</td>\n      <td>Unused</td>\n      <td>4</td>\n    </tr>\n  </tbody>\n</table>\n<p>18 rows × 21 columns</p>\n</div>"
     },
     "execution_count": 93,
     "metadata": {},
     "output_type": "execute_result"
    }
   ],
   "source": [
    "test_plates = df[df['Split'] == 'Unused'].Metadata_Plate.unique()\n",
    "df.loc[(df.Compound == 'DMSO') & (df.Metadata_Plate.isin(test_plates)),'Split']='Unused'\n",
    "df.loc[(df.Compound == 'DMSO') & (df.Split == 'Unused') & (df.Treatment_Replicate % 399 == 0),'Split']='Test'"
   ],
   "metadata": {
    "collapsed": false,
    "pycharm": {
     "name": "#%%\n"
    }
   }
  },
  {
   "cell_type": "code",
   "execution_count": 112,
   "outputs": [
    {
     "data": {
      "text/plain": "DMSO                      45\nBRD-K86301799-001-34-8     2\nBRD-K67080878-001-15-4     2\nBRD-A32172948-001-07-6     2\nBRD-A52660433-066-02-1     2\n                          ..\nBRD-K97688263-001-03-7     2\nBRD-K45158365-001-11-4     2\nBRD-K06388322-312-02-6     2\nBRD-K24616672-003-20-1     2\nBRD-K81258678-001-01-0     1\nName: Compound, Length: 512, dtype: int64"
     },
     "execution_count": 112,
     "metadata": {},
     "output_type": "execute_result"
    }
   ],
   "source": [
    "df[df['Split'] == 'Test'].Compound.value_counts()"
   ],
   "metadata": {
    "collapsed": false,
    "pycharm": {
     "name": "#%%\n"
    }
   }
  },
  {
   "cell_type": "code",
   "execution_count": 113,
   "outputs": [
    {
     "data": {
      "text/plain": "DMSO                      17928\nBRD-K86301799-001-34-8       27\nBRD-A29485665-001-12-8       27\nBRD-K22749967-046-02-3       27\nBRD-A97674275-001-11-8       27\n                          ...  \nBRD-K33127281-001-05-6       27\nBRD-K89348303-001-14-7       27\nBRD-K70610771-001-02-9       27\nBRD-K80608265-001-01-6       27\nBRD-K11433652-001-17-0       26\nName: Compound, Length: 512, dtype: int64"
     },
     "execution_count": 113,
     "metadata": {},
     "output_type": "execute_result"
    }
   ],
   "source": [
    "df[df['Split'] == 'Training'].Compound.value_counts()"
   ],
   "metadata": {
    "collapsed": false,
    "pycharm": {
     "name": "#%%\n"
    }
   }
  },
  {
   "cell_type": "code",
   "execution_count": 114,
   "outputs": [
    {
     "data": {
      "text/plain": "DMSO                      11295\nBRD-K86301799-001-34-8       16\nBRD-K06388322-312-02-6       16\nBRD-K90825648-001-02-0       16\nBRD-A65013509-003-24-4       16\n                          ...  \nBRD-K92984783-003-05-7       16\nBRD-K08799216-001-05-3       16\nBRD-K05524748-003-04-4       16\nBRD-K31627533-001-09-5       16\nBRD-K81258678-001-01-0       10\nName: Compound, Length: 512, dtype: int64"
     },
     "execution_count": 114,
     "metadata": {},
     "output_type": "execute_result"
    }
   ],
   "source": [
    "df[df['Split'] == 'Unused'].Compound.value_counts()\n"
   ],
   "metadata": {
    "collapsed": false,
    "pycharm": {
     "name": "#%%\n"
    }
   }
  },
  {
   "cell_type": "code",
   "execution_count": 115,
   "outputs": [
    {
     "name": "stdout",
     "output_type": "stream",
     "text": [
      "DMSO\n"
     ]
    }
   ],
   "source": [
    "# this shows that all training includes the two batches.\n",
    "for c in df.Metadata_broad_sample.unique():\n",
    "    v = df[(df['Metadata_broad_sample'] == c) & (df.Split == 'Training')].Metadata_Batch_Number.unique()\n",
    "    if len(v) != 2:\n",
    "        print(c)"
   ],
   "metadata": {
    "collapsed": false,
    "pycharm": {
     "name": "#%%\n"
    }
   }
  },
  {
   "cell_type": "code",
   "execution_count": 116,
   "outputs": [],
   "source": [
    "df.to_csv('817_index.csv', index=False)"
   ],
   "metadata": {
    "collapsed": false,
    "pycharm": {
     "name": "#%%\n"
    }
   }
  },
  {
   "cell_type": "code",
   "execution_count": 1,
   "outputs": [],
   "source": [
    "# new index with smaller moas instead of bigger ones.\n"
   ],
   "metadata": {
    "collapsed": false,
    "pycharm": {
     "name": "#%%\n"
    }
   }
  },
  {
   "cell_type": "code",
   "execution_count": 31,
   "outputs": [],
   "source": [
    "df = pd.read_csv('sub_index.csv')\n",
    "# select bottom 50 moas\n",
    "vc = df.Metadata_moa.value_counts()\n",
    "large_moas = vc[50:].keys().tolist()\n",
    "large_moas.append('unknown')\n",
    "df = df[df[\"Metadata_moa\"].isin(large_moas)]"
   ],
   "metadata": {
    "collapsed": false,
    "pycharm": {
     "name": "#%%\n"
    }
   }
  },
  {
   "cell_type": "code",
   "execution_count": 32,
   "outputs": [],
   "source": [
    "# delete all Compounds that do not have 5 replicates\n",
    "full_reps = df[df.Treatment_Replicate == 5].Compound.unique()\n",
    "df = df[df[\"Compound\"].isin(full_reps)]"
   ],
   "metadata": {
    "collapsed": false,
    "pycharm": {
     "name": "#%%\n"
    }
   }
  },
  {
   "cell_type": "code",
   "execution_count": 33,
   "outputs": [],
   "source": [
    "df['Split'] = 'Training'"
   ],
   "metadata": {
    "collapsed": false,
    "pycharm": {
     "name": "#%%\n"
    }
   }
  },
  {
   "cell_type": "code",
   "execution_count": 34,
   "outputs": [
    {
     "name": "stderr",
     "output_type": "stream",
     "text": [
      "/Users/mbornhol/miniconda3/envs/cyto_eval/lib/python3.7/site-packages/IPython/core/interactiveshell.py:3166: DtypeWarning: Columns (8,9,16,17,18,20,21,22,23,24) have mixed types.Specify dtype option on import or set low_memory=False.\n",
      "  interactivity=interactivity, compiler=compiler, result=result)\n"
     ]
    }
   ],
   "source": [
    "# Get Batch data\n",
    "batch = pd.read_csv('/Users/mbornhol/git/neural-profiling/baseline/01_data/level_3_data/sub_level3.csv')\n",
    "b = batch[['Metadata_Batch_Number', 'Metadata_Plate', 'Metadata_Well']]\n",
    "df = pd.merge(df, b, on=['Metadata_Plate', 'Metadata_Well'], validate='many_to_one')"
   ],
   "metadata": {
    "collapsed": false,
    "pycharm": {
     "name": "#%%\n"
    }
   }
  },
  {
   "cell_type": "code",
   "execution_count": 35,
   "outputs": [],
   "source": [
    "ls = {}\n",
    "for c in df.Metadata_broad_sample.unique():\n",
    "    v = df[(df['Metadata_broad_sample'] == c)].Metadata_Batch_Number.value_counts().idxmax()\n",
    "    w = df[(df['Metadata_broad_sample'] == c) & (df['Metadata_Batch_Number'] == v)].Treatment_Replicate.unique()[:2]\n",
    "    ls[c] = [v,w]"
   ],
   "metadata": {
    "collapsed": false,
    "pycharm": {
     "name": "#%%\n"
    }
   }
  },
  {
   "cell_type": "code",
   "execution_count": 36,
   "outputs": [],
   "source": [
    "for m in ls:\n",
    "    df.loc[(df.Metadata_broad_sample == m) & (df.Treatment_Replicate.isin(ls[m][1])),'Split']='Unused'\n",
    "df.loc[(df.Metadata_Site == 5) & (df.Split == 'Unused'),'Split']='Test'"
   ],
   "metadata": {
    "collapsed": false,
    "pycharm": {
     "name": "#%%\n"
    }
   }
  },
  {
   "cell_type": "code",
   "execution_count": 37,
   "outputs": [],
   "source": [
    "test_plates = df[df['Split'] == 'Unused'].Metadata_Plate.unique()\n",
    "df.loc[(df.Compound == 'DMSO') & (df.Metadata_Plate.isin(test_plates)),'Split']='Unused'\n",
    "df.loc[(df.Compound == 'DMSO') & (df.Split == 'Unused') & (df.Treatment_Replicate % 399 == 0),'Split']='Test'\n"
   ],
   "metadata": {
    "collapsed": false,
    "pycharm": {
     "name": "#%%\n"
    }
   }
  },
  {
   "cell_type": "code",
   "execution_count": 38,
   "outputs": [
    {
     "data": {
      "text/plain": "DMSO                      45\nBRD-K26341917-001-01-3     2\nBRD-K81916719-001-13-9     2\nBRD-A48430263-003-17-2     2\nBRD-K88544581-001-06-1     2\n                          ..\nBRD-K97729603-001-01-2     2\nBRD-K81694556-003-01-9     2\nBRD-K33882852-003-02-8     2\nBRD-K07857022-002-01-1     2\nBRD-K20897876-001-10-0     2\nName: Compound, Length: 507, dtype: int64"
     },
     "execution_count": 38,
     "metadata": {},
     "output_type": "execute_result"
    }
   ],
   "source": [
    "\n",
    "df[df['Split'] == 'Test'].Compound.value_counts()"
   ],
   "metadata": {
    "collapsed": false,
    "pycharm": {
     "name": "#%%\n"
    }
   }
  },
  {
   "cell_type": "code",
   "execution_count": 39,
   "outputs": [
    {
     "data": {
      "text/plain": "DMSO                      17928\nBRD-K69776681-001-03-8       27\nBRD-K89402695-001-02-3       27\nBRD-A61793559-001-15-6       27\nBRD-K81916719-001-13-9       27\n                          ...  \nBRD-A30984645-001-01-5       27\nBRD-A29623586-001-01-3       27\nBRD-K08586861-001-01-1       27\nBRD-K70358946-001-15-7       27\nBRD-A29520968-001-02-7       27\nName: Compound, Length: 507, dtype: int64"
     },
     "execution_count": 39,
     "metadata": {},
     "output_type": "execute_result"
    }
   ],
   "source": [
    "df[df['Split'] == 'Training'].Compound.value_counts()"
   ],
   "metadata": {
    "collapsed": false,
    "pycharm": {
     "name": "#%%\n"
    }
   }
  },
  {
   "cell_type": "code",
   "execution_count": 40,
   "outputs": [
    {
     "data": {
      "text/plain": "DMSO                      11295\nBRD-K26341917-001-01-3       16\nBRD-K25361343-001-01-6       16\nBRD-K13356952-001-25-1       16\nBRD-K51747290-001-13-1       16\n                          ...  \nBRD-K55781385-001-01-7       16\nBRD-A12230535-001-06-7       16\nBRD-K50398167-236-22-7       16\nBRD-A26384407-001-25-1       16\nBRD-K18157228-001-01-7       15\nName: Compound, Length: 507, dtype: int64"
     },
     "execution_count": 40,
     "metadata": {},
     "output_type": "execute_result"
    }
   ],
   "source": [
    "df[df['Split'] == 'Unused'].Compound.value_counts()"
   ],
   "metadata": {
    "collapsed": false,
    "pycharm": {
     "name": "#%%\n"
    }
   }
  },
  {
   "cell_type": "code",
   "execution_count": 41,
   "outputs": [],
   "source": [
    "df.to_csv('823_index.csv', index=False)"
   ],
   "metadata": {
    "collapsed": false,
    "pycharm": {
     "name": "#%%\n"
    }
   }
  },
  {
   "cell_type": "markdown",
   "source": [
    "----------"
   ],
   "metadata": {
    "collapsed": false,
    "pycharm": {
     "name": "#%% md\n"
    }
   }
  },
  {
   "cell_type": "code",
   "execution_count": 3,
   "outputs": [],
   "source": [
    "\n",
    "# And heres the next one! Now I am gonna use allllll of them!\n",
    "df = pd.read_csv('sub_index.csv')"
   ],
   "metadata": {
    "collapsed": false,
    "pycharm": {
     "name": "#%%\n"
    }
   }
  },
  {
   "cell_type": "code",
   "execution_count": 4,
   "outputs": [],
   "source": [
    "# delete all Compounds that do not have 5 replicates\n",
    "full_reps = df[df.Treatment_Replicate == 5].Compound.unique()\n",
    "df = df[df[\"Compound\"].isin(full_reps)]"
   ],
   "metadata": {
    "collapsed": false,
    "pycharm": {
     "name": "#%%\n"
    }
   }
  },
  {
   "cell_type": "code",
   "execution_count": 5,
   "outputs": [],
   "source": [
    "df['Split'] = 'Training'"
   ],
   "metadata": {
    "collapsed": false,
    "pycharm": {
     "name": "#%%\n"
    }
   }
  },
  {
   "cell_type": "code",
   "execution_count": 6,
   "outputs": [
    {
     "name": "stderr",
     "output_type": "stream",
     "text": [
      "/Users/mbornhol/miniconda3/envs/cyto_eval/lib/python3.7/site-packages/IPython/core/interactiveshell.py:3166: DtypeWarning: Columns (8,9,16,17,18,20,21,22,23,24) have mixed types.Specify dtype option on import or set low_memory=False.\n",
      "  interactivity=interactivity, compiler=compiler, result=result)\n"
     ]
    }
   ],
   "source": [
    "# Get Batch data\n",
    "batch = pd.read_csv('/Users/mbornhol/git/neural-profiling/baseline/01_data/level_3_data/sub_level3.csv')\n",
    "b = batch[['Metadata_Batch_Number', 'Metadata_Plate', 'Metadata_Well']]\n",
    "df = pd.merge(df, b, on=['Metadata_Plate', 'Metadata_Well'], validate='many_to_one')"
   ],
   "metadata": {
    "collapsed": false,
    "pycharm": {
     "name": "#%%\n"
    }
   }
  },
  {
   "cell_type": "code",
   "execution_count": 7,
   "outputs": [],
   "source": [
    "ls = {}\n",
    "for c in df.Metadata_broad_sample.unique():\n",
    "    v = df[(df['Metadata_broad_sample'] == c)].Metadata_Batch_Number.value_counts().idxmax()\n",
    "    w = df[(df['Metadata_broad_sample'] == c) & (df['Metadata_Batch_Number'] == v)].Treatment_Replicate.unique()[:2]\n",
    "    ls[c] = [v,w]"
   ],
   "metadata": {
    "collapsed": false,
    "pycharm": {
     "name": "#%%\n"
    }
   }
  },
  {
   "cell_type": "code",
   "execution_count": 8,
   "outputs": [],
   "source": [
    "for m in ls:\n",
    "    df.loc[(df.Metadata_broad_sample == m) & (df.Treatment_Replicate.isin(ls[m][1])),'Split']='Unused'"
   ],
   "metadata": {
    "collapsed": false,
    "pycharm": {
     "name": "#%%\n"
    }
   }
  },
  {
   "cell_type": "code",
   "execution_count": 9,
   "outputs": [],
   "source": [
    "df.loc[(df.Metadata_Site == 5) & (df.Split == 'Unused'),'Split']='Test'"
   ],
   "metadata": {
    "collapsed": false,
    "pycharm": {
     "name": "#%%\n"
    }
   }
  },
  {
   "cell_type": "code",
   "execution_count": 11,
   "outputs": [],
   "source": [
    "test_plates = df[df['Split'] == 'Unused'].Metadata_Plate.unique()\n",
    "df.loc[(df.Compound == 'DMSO') & (df.Metadata_Plate.isin(test_plates)),'Split']='Unused'\n",
    "df.loc[(df.Compound == 'DMSO') & (df.Split == 'Unused') & (df.Treatment_Replicate % 599 == 0),'Split']='Test'\n"
   ],
   "metadata": {
    "collapsed": false,
    "pycharm": {
     "name": "#%%\n"
    }
   }
  },
  {
   "cell_type": "code",
   "execution_count": 12,
   "outputs": [
    {
     "data": {
      "text/plain": "DMSO                      36\nBRD-A65280694-003-13-7     2\nBRD-K53765467-001-02-1     2\nBRD-K53061490-003-13-9     2\nBRD-K72922393-003-15-2     2\n                          ..\nBRD-A20126139-001-04-2     2\nBRD-K72414522-001-06-7     2\nBRD-A50764878-003-02-8     2\nBRD-K86882815-001-03-2     2\nBRD-K81258678-001-01-0     1\nName: Compound, Length: 1018, dtype: int64"
     },
     "execution_count": 12,
     "metadata": {},
     "output_type": "execute_result"
    }
   ],
   "source": [
    "\n",
    "df[df['Split'] == 'Test'].Compound.value_counts()"
   ],
   "metadata": {
    "collapsed": false,
    "pycharm": {
     "name": "#%%\n"
    }
   }
  },
  {
   "cell_type": "code",
   "execution_count": 13,
   "outputs": [
    {
     "data": {
      "text/plain": "DMSO                      17928\nBRD-A65280694-003-13-7       27\nBRD-K76617868-003-11-9       27\nBRD-K34008116-001-01-7       27\nBRD-K62200014-003-10-5       27\n                          ...  \nBRD-A73368467-003-17-6       27\nBRD-K82603084-408-01-1       27\nBRD-K96862998-001-15-5       27\nBRD-K60341624-001-02-2       27\nBRD-K11433652-001-17-0       26\nName: Compound, Length: 1018, dtype: int64"
     },
     "execution_count": 13,
     "metadata": {},
     "output_type": "execute_result"
    }
   ],
   "source": [
    "df[df['Split'] == 'Training'].Compound.value_counts()"
   ],
   "metadata": {
    "collapsed": false,
    "pycharm": {
     "name": "#%%\n"
    }
   }
  },
  {
   "cell_type": "code",
   "execution_count": 14,
   "outputs": [
    {
     "data": {
      "text/plain": "DMSO                      11304\nBRD-K91825936-001-01-2       16\nBRD-K61693562-300-01-7       16\nBRD-K78659596-001-03-9       16\nBRD-K68693535-001-03-4       16\n                          ...  \nBRD-K06557128-001-07-0       16\nBRD-K22024824-001-03-7       16\nBRD-K19352500-070-12-4       16\nBRD-K18157228-001-01-7       15\nBRD-K81258678-001-01-0       10\nName: Compound, Length: 1018, dtype: int64"
     },
     "execution_count": 14,
     "metadata": {},
     "output_type": "execute_result"
    }
   ],
   "source": [
    "df[df['Split'] == 'Unused'].Compound.value_counts()"
   ],
   "metadata": {
    "collapsed": false,
    "pycharm": {
     "name": "#%%\n"
    }
   }
  },
  {
   "cell_type": "code",
   "execution_count": 16,
   "outputs": [],
   "source": [
    "df.to_csv('826_index.csv', index=False)"
   ],
   "metadata": {
    "collapsed": false,
    "pycharm": {
     "name": "#%%\n"
    }
   }
  },
  {
   "cell_type": "code",
   "execution_count": 15,
   "outputs": [
    {
     "data": {
      "text/plain": "      Metadata_Plate Metadata_Well  Metadata_Site   Metadata_broad_sample  \\\n67153     SQ00015142           P07              5  BRD-A65280694-003-13-7   \n67162     SQ00015143           P07              5  BRD-A65280694-003-13-7   \n\n                       Metadata_moa  Metadata_mmoles_per_liter  \\\n67153  dopamine receptor antagonist                       10.0   \n67162  dopamine receptor antagonist                       10.0   \n\n       Metadata_dose_recode                                       RNA  \\\n67153                     6  SQ00015142/r16c07f05p01-ch3sk1fk1fl1.png   \n67162                     6  SQ00015143/r16c07f05p01-ch3sk1fk1fl1.png   \n\n                                             ER  \\\n67153  SQ00015142/r16c07f05p01-ch2sk1fk1fl1.png   \n67162  SQ00015143/r16c07f05p01-ch2sk1fk1fl1.png   \n\n                                            AGP  ...  \\\n67153  SQ00015142/r16c07f05p01-ch4sk1fk1fl1.png  ...   \n67162  SQ00015143/r16c07f05p01-ch4sk1fk1fl1.png  ...   \n\n                                            DNA Concentration  Treatment_ID  \\\n67153  SQ00015142/r16c07f05p01-ch1sk1fk1fl1.png          10.0          5698   \n67162  SQ00015143/r16c07f05p01-ch1sk1fk1fl1.png          10.0          5698   \n\n                     Compound pert_iname Treatment_Replicate  \\\n67153  BRD-A65280694-003-13-7  molindone                   1   \n67162  BRD-A65280694-003-13-7  molindone                   2   \n\n                                        Treatment     Plate_Map_Name Split  \\\n67153  BRD-A65280694-003-13-7@9.99999999999999999  C-7161-01-LM6-017  Test   \n67162  BRD-A65280694-003-13-7@9.99999999999999999  C-7161-01-LM6-017  Test   \n\n      Metadata_Batch_Number  \n67153                     5  \n67162                     5  \n\n[2 rows x 21 columns]",
      "text/html": "<div>\n<style scoped>\n    .dataframe tbody tr th:only-of-type {\n        vertical-align: middle;\n    }\n\n    .dataframe tbody tr th {\n        vertical-align: top;\n    }\n\n    .dataframe thead th {\n        text-align: right;\n    }\n</style>\n<table border=\"1\" class=\"dataframe\">\n  <thead>\n    <tr style=\"text-align: right;\">\n      <th></th>\n      <th>Metadata_Plate</th>\n      <th>Metadata_Well</th>\n      <th>Metadata_Site</th>\n      <th>Metadata_broad_sample</th>\n      <th>Metadata_moa</th>\n      <th>Metadata_mmoles_per_liter</th>\n      <th>Metadata_dose_recode</th>\n      <th>RNA</th>\n      <th>ER</th>\n      <th>AGP</th>\n      <th>...</th>\n      <th>DNA</th>\n      <th>Concentration</th>\n      <th>Treatment_ID</th>\n      <th>Compound</th>\n      <th>pert_iname</th>\n      <th>Treatment_Replicate</th>\n      <th>Treatment</th>\n      <th>Plate_Map_Name</th>\n      <th>Split</th>\n      <th>Metadata_Batch_Number</th>\n    </tr>\n  </thead>\n  <tbody>\n    <tr>\n      <th>67153</th>\n      <td>SQ00015142</td>\n      <td>P07</td>\n      <td>5</td>\n      <td>BRD-A65280694-003-13-7</td>\n      <td>dopamine receptor antagonist</td>\n      <td>10.0</td>\n      <td>6</td>\n      <td>SQ00015142/r16c07f05p01-ch3sk1fk1fl1.png</td>\n      <td>SQ00015142/r16c07f05p01-ch2sk1fk1fl1.png</td>\n      <td>SQ00015142/r16c07f05p01-ch4sk1fk1fl1.png</td>\n      <td>...</td>\n      <td>SQ00015142/r16c07f05p01-ch1sk1fk1fl1.png</td>\n      <td>10.0</td>\n      <td>5698</td>\n      <td>BRD-A65280694-003-13-7</td>\n      <td>molindone</td>\n      <td>1</td>\n      <td>BRD-A65280694-003-13-7@9.99999999999999999</td>\n      <td>C-7161-01-LM6-017</td>\n      <td>Test</td>\n      <td>5</td>\n    </tr>\n    <tr>\n      <th>67162</th>\n      <td>SQ00015143</td>\n      <td>P07</td>\n      <td>5</td>\n      <td>BRD-A65280694-003-13-7</td>\n      <td>dopamine receptor antagonist</td>\n      <td>10.0</td>\n      <td>6</td>\n      <td>SQ00015143/r16c07f05p01-ch3sk1fk1fl1.png</td>\n      <td>SQ00015143/r16c07f05p01-ch2sk1fk1fl1.png</td>\n      <td>SQ00015143/r16c07f05p01-ch4sk1fk1fl1.png</td>\n      <td>...</td>\n      <td>SQ00015143/r16c07f05p01-ch1sk1fk1fl1.png</td>\n      <td>10.0</td>\n      <td>5698</td>\n      <td>BRD-A65280694-003-13-7</td>\n      <td>molindone</td>\n      <td>2</td>\n      <td>BRD-A65280694-003-13-7@9.99999999999999999</td>\n      <td>C-7161-01-LM6-017</td>\n      <td>Test</td>\n      <td>5</td>\n    </tr>\n  </tbody>\n</table>\n<p>2 rows × 21 columns</p>\n</div>"
     },
     "execution_count": 15,
     "metadata": {},
     "output_type": "execute_result"
    }
   ],
   "source": [],
   "metadata": {
    "collapsed": false,
    "pycharm": {
     "name": "#%%\n"
    }
   }
  },
  {
   "cell_type": "code",
   "execution_count": 6,
   "outputs": [
    {
     "data": {
      "text/plain": "28"
     },
     "execution_count": 6,
     "metadata": {},
     "output_type": "execute_result"
    }
   ],
   "source": [
    "len(df.Plate_Map_Name.unique())"
   ],
   "metadata": {
    "collapsed": false,
    "pycharm": {
     "name": "#%%\n"
    }
   }
  },
  {
   "cell_type": "code",
   "execution_count": 7,
   "outputs": [
    {
     "data": {
      "text/plain": "140"
     },
     "execution_count": 7,
     "metadata": {},
     "output_type": "execute_result"
    }
   ],
   "source": [
    "28 * 5"
   ],
   "metadata": {
    "collapsed": false,
    "pycharm": {
     "name": "#%%\n"
    }
   }
  },
  {
   "cell_type": "markdown",
   "source": [
    "Record the number of cells in test and train!\n",
    "\n"
   ],
   "metadata": {
    "collapsed": false,
    "pycharm": {
     "name": "#%% md\n"
    }
   }
  },
  {
   "cell_type": "code",
   "execution_count": 6,
   "outputs": [],
   "source": [
    "count = pd.read_csv('/Users/mbornhol/git/neural-profiling/baseline/results/cell_count.csv')\n",
    "df812 = pd.read_csv('812_index.csv')\n",
    "df817 = pd.read_csv('817_index.csv')\n",
    "df826 = pd.read_csv('826_index.csv')\n",
    "\n",
    "\n"
   ],
   "metadata": {
    "collapsed": false,
    "pycharm": {
     "name": "#%%\n"
    }
   }
  },
  {
   "cell_type": "code",
   "execution_count": 7,
   "outputs": [],
   "source": [
    "df812 = df812[df812['Split'] == 'Training'].drop_duplicates(['Metadata_Plate', 'Metadata_Well'])\n",
    "df812 = pd.merge(df812, count, on=['Metadata_Plate', 'Metadata_Well'])"
   ],
   "metadata": {
    "collapsed": false,
    "pycharm": {
     "name": "#%%\n"
    }
   }
  },
  {
   "cell_type": "code",
   "execution_count": 8,
   "outputs": [
    {
     "data": {
      "text/plain": "7594539"
     },
     "execution_count": 8,
     "metadata": {},
     "output_type": "execute_result"
    }
   ],
   "source": [
    "df812['cell_count'].sum()\n"
   ],
   "metadata": {
    "collapsed": false,
    "pycharm": {
     "name": "#%%\n"
    }
   }
  },
  {
   "cell_type": "code",
   "execution_count": 9,
   "outputs": [
    {
     "data": {
      "text/plain": "5.2091067160058575"
     },
     "execution_count": 9,
     "metadata": {},
     "output_type": "execute_result"
    }
   ],
   "source": [
    "7594539 / 1457935\n"
   ],
   "metadata": {
    "collapsed": false,
    "pycharm": {
     "name": "#%%\n"
    }
   }
  },
  {
   "cell_type": "markdown",
   "source": [
    "Try and find the phenotype list of Wells."
   ],
   "metadata": {
    "collapsed": false,
    "pycharm": {
     "name": "#%% md\n"
    }
   }
  },
  {
   "cell_type": "code",
   "execution_count": 94,
   "outputs": [],
   "source": [
    "from pycytominer import aggregate, annotate, normalize, feature_select, cyto_utils\n",
    "from sklearn.decomposition import PCA"
   ],
   "metadata": {
    "collapsed": false,
    "pycharm": {
     "name": "#%%\n"
    }
   }
  },
  {
   "cell_type": "code",
   "execution_count": 95,
   "outputs": [],
   "source": [
    "df = pd.read_csv('/Users/mbornhol/git/neural-profiling/pre-trained/efficient_net/aggregated/aggregated_efficientnet_median.csv', low_memory=False)\n",
    "meta = pd.read_csv('/Users/mbornhol/git/neural-profiling/pre-trained/data-prep/02_index_preperation/repurposing_info_external_moa_map_resolved.tsv', sep='\\t')\n",
    "meta = meta[['broad_sample', 'moa']]\n",
    "meta.rename(columns = {'broad_sample' : 'Metadata_broad_sample', 'moa' : 'Metadata_moa'}, inplace=True)\n",
    "features = [f for f in df.columns if f.startswith('eff')]"
   ],
   "metadata": {
    "collapsed": false,
    "pycharm": {
     "name": "#%%\n"
    }
   }
  },
  {
   "cell_type": "code",
   "execution_count": 96,
   "outputs": [],
   "source": [
    "con = aggregate(\n",
    "    df,\n",
    "    strata=[\"Metadata_broad_sample\"],\n",
    "    features=features\n",
    ")\n",
    "con = pd.merge(con, meta, how='left', on=['Metadata_broad_sample'])\n"
   ],
   "metadata": {
    "collapsed": false,
    "pycharm": {
     "name": "#%%\n"
    }
   }
  },
  {
   "cell_type": "code",
   "execution_count": 97,
   "outputs": [
    {
     "data": {
      "text/plain": "Metadata_broad_sample        DMSO\nefficientnet_0          -0.170743\nefficientnet_1          -0.147162\nefficientnet_2          -0.156323\nefficientnet_3           0.003327\n                           ...   \nefficientnet_6396       -0.036225\nefficientnet_6397       -0.153883\nefficientnet_6398       -0.070627\nefficientnet_6399        0.653679\nMetadata_moa                  NaN\nName: 1143, Length: 6402, dtype: object"
     },
     "execution_count": 97,
     "metadata": {},
     "output_type": "execute_result"
    }
   ],
   "source": [
    "dmso = con.loc[1143]\n",
    "con.loc[1143]"
   ],
   "metadata": {
    "collapsed": false,
    "pycharm": {
     "name": "#%%\n"
    }
   }
  },
  {
   "cell_type": "code",
   "execution_count": 98,
   "outputs": [],
   "source": [
    "for i in range(len(con)):\n",
    "    con.loc[i, 'distance_dmso'] = np.linalg.norm(dmso[features] - con.loc[i, features])\n",
    "sort = con.sort_values(['distance_dmso'], ascending=False)"
   ],
   "metadata": {
    "collapsed": false,
    "pycharm": {
     "name": "#%%\n"
    }
   }
  },
  {
   "cell_type": "code",
   "execution_count": 106,
   "outputs": [
    {
     "data": {
      "text/plain": "(array([ 69., 504., 197., 145.,  70.,  28.,  43.,  41.,  33.,  14.]),\n array([ 0.        ,  2.0335457 ,  4.0670914 ,  6.10063711,  8.13418281,\n        10.16772851, 12.20127421, 14.23481991, 16.26836561, 18.30191132,\n        20.33545702]),\n <BarContainer object of 10 artists>)"
     },
     "execution_count": 106,
     "metadata": {},
     "output_type": "execute_result"
    },
    {
     "data": {
      "text/plain": "<Figure size 432x288 with 1 Axes>",
      "image/png": "[encoded data removed]"
     },
     "metadata": {},
     "output_type": "display_data"
    }
   ],
   "source": [
    "plt.style.use({'figure.facecolor':'white'})\n",
    "plt.hist(sort.distance_dmso.values.tolist())"
   ],
   "metadata": {
    "collapsed": false,
    "pycharm": {
     "name": "#%%\n"
    }
   }
  },
  {
   "cell_type": "code",
   "execution_count": 107,
   "outputs": [],
   "source": [],
   "metadata": {
    "collapsed": false,
    "pycharm": {
     "name": "#%%\n"
    }
   }
  },
  {
   "cell_type": "code",
   "execution_count": 132,
   "outputs": [
    {
     "data": {
      "text/plain": "502"
     },
     "execution_count": 132,
     "metadata": {},
     "output_type": "execute_result"
    }
   ],
   "source": [
    "s = 4.5\n",
    "sum([1 for i in sort.distance_dmso.values.tolist() if i > s])"
   ],
   "metadata": {
    "collapsed": false,
    "pycharm": {
     "name": "#%%\n"
    }
   }
  },
  {
   "cell_type": "code",
   "execution_count": 133,
   "outputs": [],
   "source": [
    "select = sort[sort['distance_dmso'] > s].Metadata_broad_sample.tolist()"
   ],
   "metadata": {
    "collapsed": false,
    "pycharm": {
     "name": "#%%\n"
    }
   }
  },
  {
   "cell_type": "code",
   "execution_count": 134,
   "outputs": [
    {
     "name": "stdout",
     "output_type": "stream",
     "text": [
      "Explained variation per principal component: [0.61588871 0.15303335]\n"
     ]
    },
    {
     "data": {
      "text/plain": "<Figure size 432x288 with 1 Axes>",
      "image/png": "[encoded data removed]"
     },
     "metadata": {},
     "output_type": "display_data"
    }
   ],
   "source": [
    "def func(row):\n",
    "    if select.count(row.Metadata_broad_sample) == 1:\n",
    "        return 1\n",
    "    else:\n",
    "        return 0.2\n",
    "\n",
    "pca = PCA(n_components=2)\n",
    "pca_result = pca.fit_transform(con[features].values)\n",
    "con['pca-one'] = pca_result[:,0]\n",
    "con['pca-two'] = pca_result[:,1]\n",
    "print('Explained variation per principal component: {}'.format(pca.explained_variance_ratio_))\n",
    "plt.style.use({'figure.facecolor':'white'})\n",
    "con['color'] = con.apply(func, axis=1)\n",
    "plt.scatter(con['pca-one'], con['pca-two'], s = 3, alpha= con['color'], c = con['color'])\n",
    "plt.show()"
   ],
   "metadata": {
    "collapsed": false,
    "pycharm": {
     "name": "#%%\n"
    }
   }
  },
  {
   "cell_type": "code",
   "execution_count": 135,
   "outputs": [
    {
     "data": {
      "text/plain": "glucocorticoid receptor agonist                                                                                                15\ntopoisomerase inhibitor                                                                                                        15\nphosphodiesterase inhibitor                                                                                                    12\nHDAC inhibitor                                                                                                                 11\nEGFR inhibitor                                                                                                                 11\n                                                                                                                               ..\npurinergic receptor antagonist                                                                                                  1\nestrogen receptor agonist|glucocorticoid receptor antagonist|progesterone receptor agonist|progesterone receptor antagonist     1\nmineralocorticoid receptor antagonist                                                                                           1\nadenylyl cyclase activator                                                                                                      1\nlipid peroxidase inhibitor                                                                                                      1\nName: Metadata_moa, Length: 178, dtype: int64"
     },
     "execution_count": 135,
     "metadata": {},
     "output_type": "execute_result"
    }
   ],
   "source": [
    "con[con['Metadata_broad_sample'].isin(select)].Metadata_moa.value_counts()"
   ],
   "metadata": {
    "collapsed": false,
    "pycharm": {
     "name": "#%%\n"
    }
   }
  },
  {
   "cell_type": "code",
   "execution_count": 136,
   "outputs": [],
   "source": [
    "df = pd.read_csv('sub_index.csv')"
   ],
   "metadata": {
    "collapsed": false,
    "pycharm": {
     "name": "#%%\n"
    }
   }
  },
  {
   "cell_type": "code",
   "execution_count": 137,
   "outputs": [],
   "source": [
    "# delete all Compounds that do not have 5 replicates\n",
    "full_reps = df[df.Treatment_Replicate == 5].Compound.unique()\n",
    "df = df[df[\"Compound\"].isin(full_reps)]\n",
    "df['Split'] = 'Training'"
   ],
   "metadata": {
    "collapsed": false,
    "pycharm": {
     "name": "#%%\n"
    }
   }
  },
  {
   "cell_type": "code",
   "execution_count": 138,
   "outputs": [],
   "source": [
    "select.append('DMSO')\n",
    "df = df[df[\"Compound\"].isin(select)]"
   ],
   "metadata": {
    "collapsed": false,
    "pycharm": {
     "name": "#%%\n"
    }
   }
  },
  {
   "cell_type": "code",
   "execution_count": 139,
   "outputs": [
    {
     "name": "stderr",
     "output_type": "stream",
     "text": [
      "/Users/mbornhol/miniconda3/envs/cyto_eval/lib/python3.7/site-packages/IPython/core/interactiveshell.py:3166: DtypeWarning: Columns (8,9,16,17,18,20,21,22,23,24) have mixed types.Specify dtype option on import or set low_memory=False.\n",
      "  interactivity=interactivity, compiler=compiler, result=result)\n"
     ]
    }
   ],
   "source": [
    "# Get Batch data\n",
    "batch = pd.read_csv('/Users/mbornhol/git/neural-profiling/baseline/01_data/level_3_data/sub_level3.csv')\n",
    "b = batch[['Metadata_Batch_Number', 'Metadata_Plate', 'Metadata_Well']]\n",
    "df = pd.merge(df, b, on=['Metadata_Plate', 'Metadata_Well'], validate='many_to_one')\n",
    "ls = {}\n",
    "for c in df.Metadata_broad_sample.unique():\n",
    "    v = df[(df['Metadata_broad_sample'] == c)].Metadata_Batch_Number.value_counts().idxmax()\n",
    "    w = df[(df['Metadata_broad_sample'] == c) & (df['Metadata_Batch_Number'] == v)].Treatment_Replicate.unique()[:2]\n",
    "    ls[c] = [v,w]"
   ],
   "metadata": {
    "collapsed": false,
    "pycharm": {
     "name": "#%%\n"
    }
   }
  },
  {
   "cell_type": "code",
   "execution_count": 140,
   "outputs": [],
   "source": [
    "for m in ls:\n",
    "    df.loc[(df.Metadata_broad_sample == m) & (df.Treatment_Replicate.isin(ls[m][1])),'Split']='Unused'"
   ],
   "metadata": {
    "collapsed": false,
    "pycharm": {
     "name": "#%%\n"
    }
   }
  },
  {
   "cell_type": "code",
   "execution_count": 141,
   "outputs": [],
   "source": [
    "df.loc[(df.Metadata_Site == 5) & (df.Split == 'Unused'),'Split']='Test'"
   ],
   "metadata": {
    "collapsed": false,
    "pycharm": {
     "name": "#%%\n"
    }
   }
  },
  {
   "cell_type": "code",
   "execution_count": 142,
   "outputs": [],
   "source": [
    "test_plates = df[df['Split'] == 'Unused'].Metadata_Plate.unique()\n",
    "df.loc[(df.Compound == 'DMSO') & (df.Metadata_Plate.isin(test_plates)),'Split']='Unused'\n",
    "df.loc[(df.Compound == 'DMSO') & (df.Split == 'Unused') & (df.Treatment_Replicate % 599 == 0),'Split']='Test'\n"
   ],
   "metadata": {
    "collapsed": false,
    "pycharm": {
     "name": "#%%\n"
    }
   }
  },
  {
   "cell_type": "code",
   "execution_count": 143,
   "outputs": [
    {
     "data": {
      "text/plain": "DMSO                      36\nBRD-K33882852-003-02-8     2\nBRD-A05523972-001-01-5     2\nBRD-K16803204-001-01-6     2\nBRD-K52959329-238-01-9     2\n                          ..\nBRD-K88807631-001-01-3     2\nBRD-A51964809-003-12-6     2\nBRD-K62996583-001-10-3     2\nBRD-K12737986-001-01-4     2\nBRD-K81258678-001-01-0     1\nName: Compound, Length: 432, dtype: int64"
     },
     "execution_count": 143,
     "metadata": {},
     "output_type": "execute_result"
    }
   ],
   "source": [
    "\n",
    "df[df['Split'] == 'Test'].Compound.value_counts()"
   ],
   "metadata": {
    "collapsed": false,
    "pycharm": {
     "name": "#%%\n"
    }
   }
  },
  {
   "cell_type": "code",
   "execution_count": 144,
   "outputs": [
    {
     "data": {
      "text/plain": "DMSO                      17928\nBRD-K33882852-003-02-8       27\nBRD-K08547377-394-03-5       27\nBRD-K52911425-001-09-8       27\nBRD-K27182532-001-02-3       27\n                          ...  \nBRD-K36270037-001-01-7       27\nBRD-A34255068-001-34-5       27\nBRD-K45924332-001-16-8       27\nBRD-A49765801-001-04-1       27\nBRD-K12737986-001-01-4       27\nName: Compound, Length: 432, dtype: int64"
     },
     "execution_count": 144,
     "metadata": {},
     "output_type": "execute_result"
    }
   ],
   "source": [
    "df[df['Split'] == 'Training'].Compound.value_counts()"
   ],
   "metadata": {
    "collapsed": false,
    "pycharm": {
     "name": "#%%\n"
    }
   }
  },
  {
   "cell_type": "code",
   "execution_count": 145,
   "outputs": [
    {
     "data": {
      "text/plain": "DMSO                      11304\nBRD-K33882852-003-02-8       16\nBRD-K88807631-001-01-3       16\nBRD-K50133271-001-18-7       16\nBRD-A23067620-300-01-3       16\n                          ...  \nBRD-A05821830-341-01-5       16\nBRD-A93424738-001-04-8       16\nBRD-K23499943-003-01-6       16\nBRD-K18157228-001-01-7       15\nBRD-K81258678-001-01-0       10\nName: Compound, Length: 432, dtype: int64"
     },
     "execution_count": 145,
     "metadata": {},
     "output_type": "execute_result"
    }
   ],
   "source": [
    "df[df['Split'] == 'Unused'].Compound.value_counts()"
   ],
   "metadata": {
    "collapsed": false,
    "pycharm": {
     "name": "#%%\n"
    }
   }
  },
  {
   "cell_type": "code",
   "execution_count": 146,
   "outputs": [],
   "source": [
    "df.to_csv('924_index.csv', index=False)"
   ],
   "metadata": {
    "collapsed": false,
    "pycharm": {
     "name": "#%%\n"
    }
   }
  },
  {
   "cell_type": "code",
   "execution_count": 148,
   "outputs": [
    {
     "data": {
      "text/plain": "(48655, 21)"
     },
     "execution_count": 148,
     "metadata": {},
     "output_type": "execute_result"
    }
   ],
   "source": [
    "df.shape"
   ],
   "metadata": {
    "collapsed": false,
    "pycharm": {
     "name": "#%%\n"
    }
   }
  },
  {
   "cell_type": "code",
   "execution_count": null,
   "outputs": [],
   "source": [],
   "metadata": {
    "collapsed": false,
    "pycharm": {
     "name": "#%%\n"
    }
   }
  }
 ],
 "metadata": {
  "kernelspec": {
   "display_name": "Python 3",
   "language": "python",
   "name": "python3"
  },
  "language_info": {
   "codemirror_mode": {
    "name": "ipython",
    "version": 2
   },
   "file_extension": ".py",
   "mimetype": "text/x-python",
   "name": "python",
   "nbconvert_exporter": "python",
   "pygments_lexer": "ipython2",
   "version": "2.7.6"
  }
 },
 "nbformat": 4,
 "nbformat_minor": 0
}