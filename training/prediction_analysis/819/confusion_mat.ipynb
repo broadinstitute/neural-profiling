{
 "cells": [
  {
   "cell_type": "code",
   "execution_count": 27,
   "metadata": {
    "collapsed": true
   },
   "outputs": [],
   "source": [
    "import pandas as pd\n",
    "import numpy as np\n",
    "from sklearn import metrics\n",
    "import matplotlib.pyplot as plt"
   ]
  },
  {
   "cell_type": "code",
   "execution_count": 2,
   "outputs": [],
   "source": [
    "df = pd.read_csv('extract.csv', low_memory=False)"
   ],
   "metadata": {
    "collapsed": false,
    "pycharm": {
     "name": "#%%\n"
    }
   }
  },
  {
   "cell_type": "code",
   "execution_count": 3,
   "outputs": [],
   "source": [
    "meta = pd.read_csv('../817_target.csv', low_memory=False)"
   ],
   "metadata": {
    "collapsed": false,
    "pycharm": {
     "name": "#%%\n"
    }
   }
  },
  {
   "cell_type": "code",
   "execution_count": 255,
   "outputs": [
    {
     "data": {
      "text/plain": "DMSO                      12553\nBRD-A58048407-001-18-8      867\nBRD-K48461310-234-01-3      866\nBRD-K82467063-001-02-7      866\nBRD-A53576514-048-14-3      830\n                          ...  \nBRD-K07310275-001-02-5        9\nBRD-K12867552-001-04-7        9\nBRD-K61397605-001-03-4        7\nBRD-K12787259-001-04-3        2\nBRD-K99475619-001-01-2        2\nName: Metadata_broad_sample, Length: 512, dtype: int64"
     },
     "execution_count": 255,
     "metadata": {},
     "output_type": "execute_result"
    }
   ],
   "source": [
    "df.Metadata_broad_sample.value_counts()"
   ],
   "metadata": {
    "collapsed": false,
    "pycharm": {
     "name": "#%%\n"
    }
   }
  },
  {
   "cell_type": "code",
   "execution_count": 258,
   "outputs": [
    {
     "data": {
      "text/plain": "       Unnamed: 0 Metadata_Plate Metadata_Well  Metadata_Site  \\\n45688           0     SQ00015044           E01              5   \n45689           0     SQ00015045           E01              5   \n\n        Metadata_broad_sample             Metadata_moa  \\\n45688  BRD-K99475619-001-01-2  topoisomerase inhibitor   \n45689  BRD-K99475619-001-01-2  topoisomerase inhibitor   \n\n       Metadata_mmoles_per_liter  Metadata_dose_recode  \\\n45688                       10.0                     6   \n45689                       10.0                     6   \n\n                                   Metadata_RNA  \\\n45688  SQ00015044/r05c01f05p01-ch3sk1fk1fl1.png   \n45689  SQ00015045/r05c01f05p01-ch3sk1fk1fl1.png   \n\n                                    Metadata_ER  ... efficientnet_502  \\\n45688  SQ00015044/r05c01f05p01-ch2sk1fk1fl1.png  ...     1.184230e-08   \n45689  SQ00015045/r05c01f05p01-ch2sk1fk1fl1.png  ...     7.703617e-07   \n\n      efficientnet_503 efficientnet_504  efficientnet_505  efficientnet_506  \\\n45688         0.000001     5.650094e-09      1.910025e-08          0.000136   \n45689         0.000015     5.042711e-07      9.380246e-12          0.000035   \n\n      efficientnet_507 efficientnet_508  efficientnet_509 efficientnet_510  \\\n45688     3.830110e-09     1.901173e-09          0.000003     9.517923e-07   \n45689     6.436500e-08     1.093262e-07          0.596406     6.396553e-08   \n\n      efficientnet_511  \n45688     1.699417e-08  \n45689     7.107612e-09  \n\n[2 rows x 535 columns]",
      "text/html": "<div>\n<style scoped>\n    .dataframe tbody tr th:only-of-type {\n        vertical-align: middle;\n    }\n\n    .dataframe tbody tr th {\n        vertical-align: top;\n    }\n\n    .dataframe thead th {\n        text-align: right;\n    }\n</style>\n<table border=\"1\" class=\"dataframe\">\n  <thead>\n    <tr style=\"text-align: right;\">\n      <th></th>\n      <th>Unnamed: 0</th>\n      <th>Metadata_Plate</th>\n      <th>Metadata_Well</th>\n      <th>Metadata_Site</th>\n      <th>Metadata_broad_sample</th>\n      <th>Metadata_moa</th>\n      <th>Metadata_mmoles_per_liter</th>\n      <th>Metadata_dose_recode</th>\n      <th>Metadata_RNA</th>\n      <th>Metadata_ER</th>\n      <th>...</th>\n      <th>efficientnet_502</th>\n      <th>efficientnet_503</th>\n      <th>efficientnet_504</th>\n      <th>efficientnet_505</th>\n      <th>efficientnet_506</th>\n      <th>efficientnet_507</th>\n      <th>efficientnet_508</th>\n      <th>efficientnet_509</th>\n      <th>efficientnet_510</th>\n      <th>efficientnet_511</th>\n    </tr>\n  </thead>\n  <tbody>\n    <tr>\n      <th>45688</th>\n      <td>0</td>\n      <td>SQ00015044</td>\n      <td>E01</td>\n      <td>5</td>\n      <td>BRD-K99475619-001-01-2</td>\n      <td>topoisomerase inhibitor</td>\n      <td>10.0</td>\n      <td>6</td>\n      <td>SQ00015044/r05c01f05p01-ch3sk1fk1fl1.png</td>\n      <td>SQ00015044/r05c01f05p01-ch2sk1fk1fl1.png</td>\n      <td>...</td>\n      <td>1.184230e-08</td>\n      <td>0.000001</td>\n      <td>5.650094e-09</td>\n      <td>1.910025e-08</td>\n      <td>0.000136</td>\n      <td>3.830110e-09</td>\n      <td>1.901173e-09</td>\n      <td>0.000003</td>\n      <td>9.517923e-07</td>\n      <td>1.699417e-08</td>\n    </tr>\n    <tr>\n      <th>45689</th>\n      <td>0</td>\n      <td>SQ00015045</td>\n      <td>E01</td>\n      <td>5</td>\n      <td>BRD-K99475619-001-01-2</td>\n      <td>topoisomerase inhibitor</td>\n      <td>10.0</td>\n      <td>6</td>\n      <td>SQ00015045/r05c01f05p01-ch3sk1fk1fl1.png</td>\n      <td>SQ00015045/r05c01f05p01-ch2sk1fk1fl1.png</td>\n      <td>...</td>\n      <td>7.703617e-07</td>\n      <td>0.000015</td>\n      <td>5.042711e-07</td>\n      <td>9.380246e-12</td>\n      <td>0.000035</td>\n      <td>6.436500e-08</td>\n      <td>1.093262e-07</td>\n      <td>0.596406</td>\n      <td>6.396553e-08</td>\n      <td>7.107612e-09</td>\n    </tr>\n  </tbody>\n</table>\n<p>2 rows × 535 columns</p>\n</div>"
     },
     "execution_count": 258,
     "metadata": {},
     "output_type": "execute_result"
    }
   ],
   "source": [
    "# check why there us such a low support for some functions\n",
    "df[df['Metadata_broad_sample'] == 'BRD-K99475619-001-01-2']"
   ],
   "metadata": {
    "collapsed": false,
    "pycharm": {
     "name": "#%%\n"
    }
   }
  },
  {
   "cell_type": "markdown",
   "source": [
    "```\n",
    ">>> df[(df['Class_Name'] == 'BRD-K99475619-001-01-2') & (df['Key'] == 'SQ00015044/E01-5')]\n",
    "Empty DataFrame\n",
    "Columns: [Unnamed: 0, Nuclei_Location_Center_X, Nuclei_Location_Center_Y, Key, Target, Class_Name, Image_Name]```\n",
    "```\n",
    "```\n",
    "tf-docker /local_group_storage/broad_data/michael/training/inputs/locations/SQ00015044 > cat E01-5-Nuclei.csv\n",
    "Nuclei_Location_Center_X,Nuclei_Location_Center_Y\n",
    "678.55869659042,546.956193353475\n",
    "\n",
    "```"
   ],
   "metadata": {
    "collapsed": false,
    "pycharm": {
     "name": "#%% md\n"
    }
   }
  },
  {
   "cell_type": "code",
   "execution_count": 4,
   "outputs": [
    {
     "name": "stdout",
     "output_type": "stream",
     "text": [
      "(217450, 535)\n",
      "(217448, 535)\n"
     ]
    }
   ],
   "source": [
    "print(df.shape)\n",
    "features = [f for f in df.columns if f.startswith('eff')]\n",
    "df.dropna(inplace=True, subset=features)\n",
    "print(df.shape)"
   ],
   "metadata": {
    "collapsed": false,
    "pycharm": {
     "name": "#%%\n"
    }
   }
  },
  {
   "cell_type": "code",
   "execution_count": 5,
   "outputs": [
    {
     "data": {
      "text/plain": "   Unnamed: 0 Metadata_Plate Metadata_Well  Metadata_Site  \\\n0           0     SQ00015048           F09              1   \n1           1     SQ00015048           F09              1   \n2           2     SQ00015048           F09              1   \n3           3     SQ00015048           F09              1   \n4           4     SQ00015048           F09              1   \n\n  Metadata_broad_sample Metadata_moa  Metadata_mmoles_per_liter  \\\n0                  DMSO      unknown                        0.0   \n1                  DMSO      unknown                        0.0   \n2                  DMSO      unknown                        0.0   \n3                  DMSO      unknown                        0.0   \n4                  DMSO      unknown                        0.0   \n\n   Metadata_dose_recode                              Metadata_RNA  \\\n0                     0  SQ00015048/r06c09f01p01-ch3sk1fk1fl1.png   \n1                     0  SQ00015048/r06c09f01p01-ch3sk1fk1fl1.png   \n2                     0  SQ00015048/r06c09f01p01-ch3sk1fk1fl1.png   \n3                     0  SQ00015048/r06c09f01p01-ch3sk1fk1fl1.png   \n4                     0  SQ00015048/r06c09f01p01-ch3sk1fk1fl1.png   \n\n                                Metadata_ER  ... efficientnet_502  \\\n0  SQ00015048/r06c09f01p01-ch2sk1fk1fl1.png  ...     5.150308e-10   \n1  SQ00015048/r06c09f01p01-ch2sk1fk1fl1.png  ...     4.069315e-14   \n2  SQ00015048/r06c09f01p01-ch2sk1fk1fl1.png  ...     2.631196e-11   \n3  SQ00015048/r06c09f01p01-ch2sk1fk1fl1.png  ...     6.187224e-12   \n4  SQ00015048/r06c09f01p01-ch2sk1fk1fl1.png  ...     4.718292e-13   \n\n  efficientnet_503 efficientnet_504  efficientnet_505  efficientnet_506  \\\n0     3.259038e-10     9.464305e-10      1.643955e-08      2.043295e-08   \n1     2.413383e-13     6.382346e-12      3.731888e-09      5.664257e-12   \n2     5.441508e-11     5.723609e-10      6.753988e-09      1.084125e-11   \n3     4.501196e-11     4.187805e-11      4.466739e-07      1.543473e-10   \n4     5.334631e-12     1.131297e-11      1.054553e-07      2.038916e-12   \n\n  efficientnet_507 efficientnet_508  efficientnet_509 efficientnet_510  \\\n0     1.586793e-10     2.947892e-10      2.685885e-09     8.916605e-08   \n1     4.116137e-14     6.130249e-12      1.409534e-11     1.045423e-11   \n2     1.478836e-11     2.005035e-09      1.775038e-09     1.760865e-07   \n3     1.227888e-11     2.245777e-11      1.199587e-09     7.243955e-11   \n4     3.208729e-12     3.299744e-11      3.973849e-11     3.524891e-13   \n\n  efficientnet_511  \n0     3.845683e-07  \n1     6.232399e-03  \n2     2.253438e-03  \n3     9.503179e-03  \n4     3.181025e-02  \n\n[5 rows x 535 columns]",
      "text/html": "<div>\n<style scoped>\n    .dataframe tbody tr th:only-of-type {\n        vertical-align: middle;\n    }\n\n    .dataframe tbody tr th {\n        vertical-align: top;\n    }\n\n    .dataframe thead th {\n        text-align: right;\n    }\n</style>\n<table border=\"1\" class=\"dataframe\">\n  <thead>\n    <tr style=\"text-align: right;\">\n      <th></th>\n      <th>Unnamed: 0</th>\n      <th>Metadata_Plate</th>\n      <th>Metadata_Well</th>\n      <th>Metadata_Site</th>\n      <th>Metadata_broad_sample</th>\n      <th>Metadata_moa</th>\n      <th>Metadata_mmoles_per_liter</th>\n      <th>Metadata_dose_recode</th>\n      <th>Metadata_RNA</th>\n      <th>Metadata_ER</th>\n      <th>...</th>\n      <th>efficientnet_502</th>\n      <th>efficientnet_503</th>\n      <th>efficientnet_504</th>\n      <th>efficientnet_505</th>\n      <th>efficientnet_506</th>\n      <th>efficientnet_507</th>\n      <th>efficientnet_508</th>\n      <th>efficientnet_509</th>\n      <th>efficientnet_510</th>\n      <th>efficientnet_511</th>\n    </tr>\n  </thead>\n  <tbody>\n    <tr>\n      <th>0</th>\n      <td>0</td>\n      <td>SQ00015048</td>\n      <td>F09</td>\n      <td>1</td>\n      <td>DMSO</td>\n      <td>unknown</td>\n      <td>0.0</td>\n      <td>0</td>\n      <td>SQ00015048/r06c09f01p01-ch3sk1fk1fl1.png</td>\n      <td>SQ00015048/r06c09f01p01-ch2sk1fk1fl1.png</td>\n      <td>...</td>\n      <td>5.150308e-10</td>\n      <td>3.259038e-10</td>\n      <td>9.464305e-10</td>\n      <td>1.643955e-08</td>\n      <td>2.043295e-08</td>\n      <td>1.586793e-10</td>\n      <td>2.947892e-10</td>\n      <td>2.685885e-09</td>\n      <td>8.916605e-08</td>\n      <td>3.845683e-07</td>\n    </tr>\n    <tr>\n      <th>1</th>\n      <td>1</td>\n      <td>SQ00015048</td>\n      <td>F09</td>\n      <td>1</td>\n      <td>DMSO</td>\n      <td>unknown</td>\n      <td>0.0</td>\n      <td>0</td>\n      <td>SQ00015048/r06c09f01p01-ch3sk1fk1fl1.png</td>\n      <td>SQ00015048/r06c09f01p01-ch2sk1fk1fl1.png</td>\n      <td>...</td>\n      <td>4.069315e-14</td>\n      <td>2.413383e-13</td>\n      <td>6.382346e-12</td>\n      <td>3.731888e-09</td>\n      <td>5.664257e-12</td>\n      <td>4.116137e-14</td>\n      <td>6.130249e-12</td>\n      <td>1.409534e-11</td>\n      <td>1.045423e-11</td>\n      <td>6.232399e-03</td>\n    </tr>\n    <tr>\n      <th>2</th>\n      <td>2</td>\n      <td>SQ00015048</td>\n      <td>F09</td>\n      <td>1</td>\n      <td>DMSO</td>\n      <td>unknown</td>\n      <td>0.0</td>\n      <td>0</td>\n      <td>SQ00015048/r06c09f01p01-ch3sk1fk1fl1.png</td>\n      <td>SQ00015048/r06c09f01p01-ch2sk1fk1fl1.png</td>\n      <td>...</td>\n      <td>2.631196e-11</td>\n      <td>5.441508e-11</td>\n      <td>5.723609e-10</td>\n      <td>6.753988e-09</td>\n      <td>1.084125e-11</td>\n      <td>1.478836e-11</td>\n      <td>2.005035e-09</td>\n      <td>1.775038e-09</td>\n      <td>1.760865e-07</td>\n      <td>2.253438e-03</td>\n    </tr>\n    <tr>\n      <th>3</th>\n      <td>3</td>\n      <td>SQ00015048</td>\n      <td>F09</td>\n      <td>1</td>\n      <td>DMSO</td>\n      <td>unknown</td>\n      <td>0.0</td>\n      <td>0</td>\n      <td>SQ00015048/r06c09f01p01-ch3sk1fk1fl1.png</td>\n      <td>SQ00015048/r06c09f01p01-ch2sk1fk1fl1.png</td>\n      <td>...</td>\n      <td>6.187224e-12</td>\n      <td>4.501196e-11</td>\n      <td>4.187805e-11</td>\n      <td>4.466739e-07</td>\n      <td>1.543473e-10</td>\n      <td>1.227888e-11</td>\n      <td>2.245777e-11</td>\n      <td>1.199587e-09</td>\n      <td>7.243955e-11</td>\n      <td>9.503179e-03</td>\n    </tr>\n    <tr>\n      <th>4</th>\n      <td>4</td>\n      <td>SQ00015048</td>\n      <td>F09</td>\n      <td>1</td>\n      <td>DMSO</td>\n      <td>unknown</td>\n      <td>0.0</td>\n      <td>0</td>\n      <td>SQ00015048/r06c09f01p01-ch3sk1fk1fl1.png</td>\n      <td>SQ00015048/r06c09f01p01-ch2sk1fk1fl1.png</td>\n      <td>...</td>\n      <td>4.718292e-13</td>\n      <td>5.334631e-12</td>\n      <td>1.131297e-11</td>\n      <td>1.054553e-07</td>\n      <td>2.038916e-12</td>\n      <td>3.208729e-12</td>\n      <td>3.299744e-11</td>\n      <td>3.973849e-11</td>\n      <td>3.524891e-13</td>\n      <td>3.181025e-02</td>\n    </tr>\n  </tbody>\n</table>\n<p>5 rows × 535 columns</p>\n</div>"
     },
     "execution_count": 5,
     "metadata": {},
     "output_type": "execute_result"
    }
   ],
   "source": [
    "meta_dict = meta['Class_Name'].to_dict()\n",
    "df.head()"
   ],
   "metadata": {
    "collapsed": false,
    "pycharm": {
     "name": "#%%\n"
    }
   }
  },
  {
   "cell_type": "code",
   "execution_count": 265,
   "outputs": [],
   "source": [
    "features = [f for f in df.columns if f.startswith('eff')]"
   ],
   "metadata": {
    "collapsed": false,
    "pycharm": {
     "name": "#%%\n"
    }
   }
  },
  {
   "cell_type": "code",
   "execution_count": 6,
   "outputs": [],
   "source": [
    "df['prediction'] = df[features].idxmax(axis = 1)\n",
    "#top = df[features].apply(lambda s: s.nlargest(5).index.tolist(), axis=1)"
   ],
   "metadata": {
    "collapsed": false,
    "pycharm": {
     "name": "#%%\n"
    }
   }
  },
  {
   "cell_type": "code",
   "execution_count": 7,
   "outputs": [],
   "source": [
    "df['prediction'] = df['prediction'].str[13:].astype(int)"
   ],
   "metadata": {
    "collapsed": false,
    "pycharm": {
     "name": "#%%\n"
    }
   }
  },
  {
   "cell_type": "code",
   "execution_count": 8,
   "outputs": [],
   "source": [
    "df['prediction'] = df['prediction'].replace(meta_dict)"
   ],
   "metadata": {
    "collapsed": false,
    "pycharm": {
     "name": "#%%\n"
    }
   }
  },
  {
   "cell_type": "code",
   "execution_count": 9,
   "outputs": [
    {
     "data": {
      "text/plain": "   Unnamed: 0 Metadata_Plate Metadata_Well  Metadata_Site  \\\n0           0     SQ00015048           F09              1   \n1           1     SQ00015048           F09              1   \n2           2     SQ00015048           F09              1   \n3           3     SQ00015048           F09              1   \n4           4     SQ00015048           F09              1   \n\n  Metadata_broad_sample Metadata_moa  Metadata_mmoles_per_liter  \\\n0                  DMSO      unknown                        0.0   \n1                  DMSO      unknown                        0.0   \n2                  DMSO      unknown                        0.0   \n3                  DMSO      unknown                        0.0   \n4                  DMSO      unknown                        0.0   \n\n   Metadata_dose_recode                              Metadata_RNA  \\\n0                     0  SQ00015048/r06c09f01p01-ch3sk1fk1fl1.png   \n1                     0  SQ00015048/r06c09f01p01-ch3sk1fk1fl1.png   \n2                     0  SQ00015048/r06c09f01p01-ch3sk1fk1fl1.png   \n3                     0  SQ00015048/r06c09f01p01-ch3sk1fk1fl1.png   \n4                     0  SQ00015048/r06c09f01p01-ch3sk1fk1fl1.png   \n\n                                Metadata_ER  ... efficientnet_503  \\\n0  SQ00015048/r06c09f01p01-ch2sk1fk1fl1.png  ...     3.259038e-10   \n1  SQ00015048/r06c09f01p01-ch2sk1fk1fl1.png  ...     2.413383e-13   \n2  SQ00015048/r06c09f01p01-ch2sk1fk1fl1.png  ...     5.441508e-11   \n3  SQ00015048/r06c09f01p01-ch2sk1fk1fl1.png  ...     4.501196e-11   \n4  SQ00015048/r06c09f01p01-ch2sk1fk1fl1.png  ...     5.334631e-12   \n\n  efficientnet_504 efficientnet_505  efficientnet_506  efficientnet_507  \\\n0     9.464305e-10     1.643955e-08      2.043295e-08      1.586793e-10   \n1     6.382346e-12     3.731888e-09      5.664257e-12      4.116137e-14   \n2     5.723609e-10     6.753988e-09      1.084125e-11      1.478836e-11   \n3     4.187805e-11     4.466739e-07      1.543473e-10      1.227888e-11   \n4     1.131297e-11     1.054553e-07      2.038916e-12      3.208729e-12   \n\n  efficientnet_508 efficientnet_509  efficientnet_510 efficientnet_511  \\\n0     2.947892e-10     2.685885e-09      8.916605e-08     3.845683e-07   \n1     6.130249e-12     1.409534e-11      1.045423e-11     6.232399e-03   \n2     2.005035e-09     1.775038e-09      1.760865e-07     2.253438e-03   \n3     2.245777e-11     1.199587e-09      7.243955e-11     9.503179e-03   \n4     3.299744e-11     3.973849e-11      3.524891e-13     3.181025e-02   \n\n               prediction  \n0  BRD-K78113049-001-16-2  \n1  BRD-K84986517-001-01-8  \n2  BRD-K78113049-001-16-2  \n3  BRD-K78113049-001-16-2  \n4  BRD-K84986517-001-01-8  \n\n[5 rows x 536 columns]",
      "text/html": "<div>\n<style scoped>\n    .dataframe tbody tr th:only-of-type {\n        vertical-align: middle;\n    }\n\n    .dataframe tbody tr th {\n        vertical-align: top;\n    }\n\n    .dataframe thead th {\n        text-align: right;\n    }\n</style>\n<table border=\"1\" class=\"dataframe\">\n  <thead>\n    <tr style=\"text-align: right;\">\n      <th></th>\n      <th>Unnamed: 0</th>\n      <th>Metadata_Plate</th>\n      <th>Metadata_Well</th>\n      <th>Metadata_Site</th>\n      <th>Metadata_broad_sample</th>\n      <th>Metadata_moa</th>\n      <th>Metadata_mmoles_per_liter</th>\n      <th>Metadata_dose_recode</th>\n      <th>Metadata_RNA</th>\n      <th>Metadata_ER</th>\n      <th>...</th>\n      <th>efficientnet_503</th>\n      <th>efficientnet_504</th>\n      <th>efficientnet_505</th>\n      <th>efficientnet_506</th>\n      <th>efficientnet_507</th>\n      <th>efficientnet_508</th>\n      <th>efficientnet_509</th>\n      <th>efficientnet_510</th>\n      <th>efficientnet_511</th>\n      <th>prediction</th>\n    </tr>\n  </thead>\n  <tbody>\n    <tr>\n      <th>0</th>\n      <td>0</td>\n      <td>SQ00015048</td>\n      <td>F09</td>\n      <td>1</td>\n      <td>DMSO</td>\n      <td>unknown</td>\n      <td>0.0</td>\n      <td>0</td>\n      <td>SQ00015048/r06c09f01p01-ch3sk1fk1fl1.png</td>\n      <td>SQ00015048/r06c09f01p01-ch2sk1fk1fl1.png</td>\n      <td>...</td>\n      <td>3.259038e-10</td>\n      <td>9.464305e-10</td>\n      <td>1.643955e-08</td>\n      <td>2.043295e-08</td>\n      <td>1.586793e-10</td>\n      <td>2.947892e-10</td>\n      <td>2.685885e-09</td>\n      <td>8.916605e-08</td>\n      <td>3.845683e-07</td>\n      <td>BRD-K78113049-001-16-2</td>\n    </tr>\n    <tr>\n      <th>1</th>\n      <td>1</td>\n      <td>SQ00015048</td>\n      <td>F09</td>\n      <td>1</td>\n      <td>DMSO</td>\n      <td>unknown</td>\n      <td>0.0</td>\n      <td>0</td>\n      <td>SQ00015048/r06c09f01p01-ch3sk1fk1fl1.png</td>\n      <td>SQ00015048/r06c09f01p01-ch2sk1fk1fl1.png</td>\n      <td>...</td>\n      <td>2.413383e-13</td>\n      <td>6.382346e-12</td>\n      <td>3.731888e-09</td>\n      <td>5.664257e-12</td>\n      <td>4.116137e-14</td>\n      <td>6.130249e-12</td>\n      <td>1.409534e-11</td>\n      <td>1.045423e-11</td>\n      <td>6.232399e-03</td>\n      <td>BRD-K84986517-001-01-8</td>\n    </tr>\n    <tr>\n      <th>2</th>\n      <td>2</td>\n      <td>SQ00015048</td>\n      <td>F09</td>\n      <td>1</td>\n      <td>DMSO</td>\n      <td>unknown</td>\n      <td>0.0</td>\n      <td>0</td>\n      <td>SQ00015048/r06c09f01p01-ch3sk1fk1fl1.png</td>\n      <td>SQ00015048/r06c09f01p01-ch2sk1fk1fl1.png</td>\n      <td>...</td>\n      <td>5.441508e-11</td>\n      <td>5.723609e-10</td>\n      <td>6.753988e-09</td>\n      <td>1.084125e-11</td>\n      <td>1.478836e-11</td>\n      <td>2.005035e-09</td>\n      <td>1.775038e-09</td>\n      <td>1.760865e-07</td>\n      <td>2.253438e-03</td>\n      <td>BRD-K78113049-001-16-2</td>\n    </tr>\n    <tr>\n      <th>3</th>\n      <td>3</td>\n      <td>SQ00015048</td>\n      <td>F09</td>\n      <td>1</td>\n      <td>DMSO</td>\n      <td>unknown</td>\n      <td>0.0</td>\n      <td>0</td>\n      <td>SQ00015048/r06c09f01p01-ch3sk1fk1fl1.png</td>\n      <td>SQ00015048/r06c09f01p01-ch2sk1fk1fl1.png</td>\n      <td>...</td>\n      <td>4.501196e-11</td>\n      <td>4.187805e-11</td>\n      <td>4.466739e-07</td>\n      <td>1.543473e-10</td>\n      <td>1.227888e-11</td>\n      <td>2.245777e-11</td>\n      <td>1.199587e-09</td>\n      <td>7.243955e-11</td>\n      <td>9.503179e-03</td>\n      <td>BRD-K78113049-001-16-2</td>\n    </tr>\n    <tr>\n      <th>4</th>\n      <td>4</td>\n      <td>SQ00015048</td>\n      <td>F09</td>\n      <td>1</td>\n      <td>DMSO</td>\n      <td>unknown</td>\n      <td>0.0</td>\n      <td>0</td>\n      <td>SQ00015048/r06c09f01p01-ch3sk1fk1fl1.png</td>\n      <td>SQ00015048/r06c09f01p01-ch2sk1fk1fl1.png</td>\n      <td>...</td>\n      <td>5.334631e-12</td>\n      <td>1.131297e-11</td>\n      <td>1.054553e-07</td>\n      <td>2.038916e-12</td>\n      <td>3.208729e-12</td>\n      <td>3.299744e-11</td>\n      <td>3.973849e-11</td>\n      <td>3.524891e-13</td>\n      <td>3.181025e-02</td>\n      <td>BRD-K84986517-001-01-8</td>\n    </tr>\n  </tbody>\n</table>\n<p>5 rows × 536 columns</p>\n</div>"
     },
     "execution_count": 9,
     "metadata": {},
     "output_type": "execute_result"
    }
   ],
   "source": [
    "df.head()"
   ],
   "metadata": {
    "collapsed": false,
    "pycharm": {
     "name": "#%%\n"
    }
   }
  },
  {
   "cell_type": "code",
   "execution_count": 10,
   "outputs": [],
   "source": [
    "cols = ['Metadata_Plate', 'Metadata_Well', 'Metadata_Site',\n",
    "       'Metadata_broad_sample', 'Metadata_moa', 'Metadata_Split', 'prediction']\n",
    "\n",
    "dfs = df[cols]"
   ],
   "metadata": {
    "collapsed": false,
    "pycharm": {
     "name": "#%%\n"
    }
   }
  },
  {
   "cell_type": "code",
   "execution_count": 271,
   "outputs": [
    {
     "data": {
      "text/plain": "  Metadata_Plate Metadata_Well  Metadata_Site Metadata_broad_sample  \\\n0     SQ00015048           F09              1                  DMSO   \n1     SQ00015048           F09              1                  DMSO   \n2     SQ00015048           F09              1                  DMSO   \n3     SQ00015048           F09              1                  DMSO   \n4     SQ00015048           F09              1                  DMSO   \n\n  Metadata_moa Metadata_Split              prediction  \n0      unknown           Test  BRD-K78113049-001-16-2  \n1      unknown           Test  BRD-K84986517-001-01-8  \n2      unknown           Test  BRD-K78113049-001-16-2  \n3      unknown           Test  BRD-K78113049-001-16-2  \n4      unknown           Test  BRD-K84986517-001-01-8  ",
      "text/html": "<div>\n<style scoped>\n    .dataframe tbody tr th:only-of-type {\n        vertical-align: middle;\n    }\n\n    .dataframe tbody tr th {\n        vertical-align: top;\n    }\n\n    .dataframe thead th {\n        text-align: right;\n    }\n</style>\n<table border=\"1\" class=\"dataframe\">\n  <thead>\n    <tr style=\"text-align: right;\">\n      <th></th>\n      <th>Metadata_Plate</th>\n      <th>Metadata_Well</th>\n      <th>Metadata_Site</th>\n      <th>Metadata_broad_sample</th>\n      <th>Metadata_moa</th>\n      <th>Metadata_Split</th>\n      <th>prediction</th>\n    </tr>\n  </thead>\n  <tbody>\n    <tr>\n      <th>0</th>\n      <td>SQ00015048</td>\n      <td>F09</td>\n      <td>1</td>\n      <td>DMSO</td>\n      <td>unknown</td>\n      <td>Test</td>\n      <td>BRD-K78113049-001-16-2</td>\n    </tr>\n    <tr>\n      <th>1</th>\n      <td>SQ00015048</td>\n      <td>F09</td>\n      <td>1</td>\n      <td>DMSO</td>\n      <td>unknown</td>\n      <td>Test</td>\n      <td>BRD-K84986517-001-01-8</td>\n    </tr>\n    <tr>\n      <th>2</th>\n      <td>SQ00015048</td>\n      <td>F09</td>\n      <td>1</td>\n      <td>DMSO</td>\n      <td>unknown</td>\n      <td>Test</td>\n      <td>BRD-K78113049-001-16-2</td>\n    </tr>\n    <tr>\n      <th>3</th>\n      <td>SQ00015048</td>\n      <td>F09</td>\n      <td>1</td>\n      <td>DMSO</td>\n      <td>unknown</td>\n      <td>Test</td>\n      <td>BRD-K78113049-001-16-2</td>\n    </tr>\n    <tr>\n      <th>4</th>\n      <td>SQ00015048</td>\n      <td>F09</td>\n      <td>1</td>\n      <td>DMSO</td>\n      <td>unknown</td>\n      <td>Test</td>\n      <td>BRD-K84986517-001-01-8</td>\n    </tr>\n  </tbody>\n</table>\n</div>"
     },
     "execution_count": 271,
     "metadata": {},
     "output_type": "execute_result"
    }
   ],
   "source": [
    "dfs.head()"
   ],
   "metadata": {
    "collapsed": false,
    "pycharm": {
     "name": "#%%\n"
    }
   }
  },
  {
   "cell_type": "code",
   "execution_count": 13,
   "outputs": [],
   "source": [
    "labels = np.sort(dfs.Metadata_broad_sample.unique())"
   ],
   "metadata": {
    "collapsed": false,
    "pycharm": {
     "name": "#%%\n"
    }
   }
  },
  {
   "cell_type": "code",
   "execution_count": 14,
   "outputs": [],
   "source": [
    "cmtx = metrics.confusion_matrix(dfs['Metadata_broad_sample'], dfs['prediction'], labels=labels)"
   ],
   "metadata": {
    "collapsed": false,
    "pycharm": {
     "name": "#%%\n"
    }
   }
  },
  {
   "cell_type": "code",
   "source": [
    "meta = dfs.drop_duplicates(subset=['Metadata_broad_sample'])[['Metadata_broad_sample','Metadata_Well','Metadata_moa']]\n"
   ],
   "metadata": {
    "collapsed": false,
    "pycharm": {
     "name": "#%%\n"
    }
   },
   "execution_count": 15,
   "outputs": []
  },
  {
   "cell_type": "code",
   "execution_count": 16,
   "outputs": [],
   "source": [
    "df = pd.DataFrame(cmtx, columns=labels)\n",
    "df['Metadata_broad_sample'] = labels\n",
    "df = df.merge(meta, how='left', on='Metadata_broad_sample', validate='one_to_one')"
   ],
   "metadata": {
    "collapsed": false,
    "pycharm": {
     "name": "#%%\n"
    }
   }
  },
  {
   "cell_type": "code",
   "execution_count": 276,
   "outputs": [
    {
     "data": {
      "text/plain": "    Metadata_broad_sample Metadata_Well                      Metadata_moa  \\\n0  BRD-A02006392-001-10-7           G19           calcium channel blocker   \n1  BRD-A03506276-001-01-5           A07                     HSP inhibitor   \n2  BRD-A03623303-045-09-5           A13    adrenergic receptor antagonist   \n3  BRD-A04352665-001-05-3           C01  CC chemokine receptor antagonist   \n4  BRD-A04553218-050-16-2           D01     histamine receptor antagonist   \n\n   BRD-A02006392-001-10-7  BRD-A03506276-001-01-5  BRD-A03623303-045-09-5  \\\n0                     235                       0                       0   \n1                       0                      12                       0   \n2                       0                       0                     192   \n3                       0                       0                       0   \n4                       0                       0                       0   \n\n   BRD-A04352665-001-05-3  BRD-A04553218-050-16-2  BRD-A05821830-341-01-5  \\\n0                       0                       0                       0   \n1                       0                       0                       2   \n2                       0                       0                       0   \n3                      81                       7                       0   \n4                     136                      45                       0   \n\n   BRD-A07395371-003-10-0  ...  BRD-K98572433-001-02-9  \\\n0                       0  ...                       0   \n1                       0  ...                       0   \n2                       0  ...                       0   \n3                       0  ...                       0   \n4                       0  ...                       0   \n\n   BRD-K98624455-074-02-8  BRD-K99023089-001-03-7  BRD-K99107520-001-24-1  \\\n0                       0                       0                       0   \n1                       0                       0                       0   \n2                       0                       0                       0   \n3                       0                       0                       0   \n4                       0                       0                       0   \n\n   BRD-K99113996-001-02-0  BRD-K99257182-310-01-6  BRD-K99451608-001-07-3  \\\n0                       0                       0                       0   \n1                       0                       0                       0   \n2                       0                       0                       0   \n3                       0                       0                       0   \n4                       0                       0                       0   \n\n   BRD-K99475619-001-01-2  BRD-K99604664-001-01-1  DMSO  \n0                       0                       0     0  \n1                       0                       0     0  \n2                       0                       0     0  \n3                       0                       0     0  \n4                       0                       0     1  \n\n[5 rows x 515 columns]",
      "text/html": "<div>\n<style scoped>\n    .dataframe tbody tr th:only-of-type {\n        vertical-align: middle;\n    }\n\n    .dataframe tbody tr th {\n        vertical-align: top;\n    }\n\n    .dataframe thead th {\n        text-align: right;\n    }\n</style>\n<table border=\"1\" class=\"dataframe\">\n  <thead>\n    <tr style=\"text-align: right;\">\n      <th></th>\n      <th>Metadata_broad_sample</th>\n      <th>Metadata_Well</th>\n      <th>Metadata_moa</th>\n      <th>BRD-A02006392-001-10-7</th>\n      <th>BRD-A03506276-001-01-5</th>\n      <th>BRD-A03623303-045-09-5</th>\n      <th>BRD-A04352665-001-05-3</th>\n      <th>BRD-A04553218-050-16-2</th>\n      <th>BRD-A05821830-341-01-5</th>\n      <th>BRD-A07395371-003-10-0</th>\n      <th>...</th>\n      <th>BRD-K98572433-001-02-9</th>\n      <th>BRD-K98624455-074-02-8</th>\n      <th>BRD-K99023089-001-03-7</th>\n      <th>BRD-K99107520-001-24-1</th>\n      <th>BRD-K99113996-001-02-0</th>\n      <th>BRD-K99257182-310-01-6</th>\n      <th>BRD-K99451608-001-07-3</th>\n      <th>BRD-K99475619-001-01-2</th>\n      <th>BRD-K99604664-001-01-1</th>\n      <th>DMSO</th>\n    </tr>\n  </thead>\n  <tbody>\n    <tr>\n      <th>0</th>\n      <td>BRD-A02006392-001-10-7</td>\n      <td>G19</td>\n      <td>calcium channel blocker</td>\n      <td>235</td>\n      <td>0</td>\n      <td>0</td>\n      <td>0</td>\n      <td>0</td>\n      <td>0</td>\n      <td>0</td>\n      <td>...</td>\n      <td>0</td>\n      <td>0</td>\n      <td>0</td>\n      <td>0</td>\n      <td>0</td>\n      <td>0</td>\n      <td>0</td>\n      <td>0</td>\n      <td>0</td>\n      <td>0</td>\n    </tr>\n    <tr>\n      <th>1</th>\n      <td>BRD-A03506276-001-01-5</td>\n      <td>A07</td>\n      <td>HSP inhibitor</td>\n      <td>0</td>\n      <td>12</td>\n      <td>0</td>\n      <td>0</td>\n      <td>0</td>\n      <td>2</td>\n      <td>0</td>\n      <td>...</td>\n      <td>0</td>\n      <td>0</td>\n      <td>0</td>\n      <td>0</td>\n      <td>0</td>\n      <td>0</td>\n      <td>0</td>\n      <td>0</td>\n      <td>0</td>\n      <td>0</td>\n    </tr>\n    <tr>\n      <th>2</th>\n      <td>BRD-A03623303-045-09-5</td>\n      <td>A13</td>\n      <td>adrenergic receptor antagonist</td>\n      <td>0</td>\n      <td>0</td>\n      <td>192</td>\n      <td>0</td>\n      <td>0</td>\n      <td>0</td>\n      <td>0</td>\n      <td>...</td>\n      <td>0</td>\n      <td>0</td>\n      <td>0</td>\n      <td>0</td>\n      <td>0</td>\n      <td>0</td>\n      <td>0</td>\n      <td>0</td>\n      <td>0</td>\n      <td>0</td>\n    </tr>\n    <tr>\n      <th>3</th>\n      <td>BRD-A04352665-001-05-3</td>\n      <td>C01</td>\n      <td>CC chemokine receptor antagonist</td>\n      <td>0</td>\n      <td>0</td>\n      <td>0</td>\n      <td>81</td>\n      <td>7</td>\n      <td>0</td>\n      <td>0</td>\n      <td>...</td>\n      <td>0</td>\n      <td>0</td>\n      <td>0</td>\n      <td>0</td>\n      <td>0</td>\n      <td>0</td>\n      <td>0</td>\n      <td>0</td>\n      <td>0</td>\n      <td>0</td>\n    </tr>\n    <tr>\n      <th>4</th>\n      <td>BRD-A04553218-050-16-2</td>\n      <td>D01</td>\n      <td>histamine receptor antagonist</td>\n      <td>0</td>\n      <td>0</td>\n      <td>0</td>\n      <td>136</td>\n      <td>45</td>\n      <td>0</td>\n      <td>0</td>\n      <td>...</td>\n      <td>0</td>\n      <td>0</td>\n      <td>0</td>\n      <td>0</td>\n      <td>0</td>\n      <td>0</td>\n      <td>0</td>\n      <td>0</td>\n      <td>0</td>\n      <td>1</td>\n    </tr>\n  </tbody>\n</table>\n<p>5 rows × 515 columns</p>\n</div>"
     },
     "execution_count": 276,
     "metadata": {},
     "output_type": "execute_result"
    }
   ],
   "source": [
    "df = pd.concat([df[['Metadata_broad_sample','Metadata_Well','Metadata_moa']],df[labels]], axis=1)\n",
    "df.head()"
   ],
   "metadata": {
    "collapsed": false,
    "pycharm": {
     "name": "#%%\n"
    }
   }
  },
  {
   "cell_type": "code",
   "source": [
    "df[['Metadata_Well', 'Metadata_broad_sample', 'Metadata_moa']].to_csv('labels.csv', index=False)"
   ],
   "metadata": {
    "collapsed": false,
    "pycharm": {
     "name": "#%%\n"
    }
   },
   "execution_count": 280,
   "outputs": []
  },
  {
   "cell_type": "code",
   "execution_count": 74,
   "outputs": [],
   "source": [
    "df.to_csv('confusion_matrix.csv', index=False)"
   ],
   "metadata": {
    "collapsed": false,
    "pycharm": {
     "name": "#%%\n"
    }
   }
  },
  {
   "cell_type": "code",
   "execution_count": 75,
   "outputs": [],
   "source": [
    "report = metrics.classification_report(dfs['Metadata_broad_sample'], dfs['prediction'], labels=labels)"
   ],
   "metadata": {
    "collapsed": false,
    "pycharm": {
     "name": "#%%\n"
    }
   }
  },
  {
   "cell_type": "code",
   "execution_count": 26,
   "outputs": [
    {
     "ename": "KeyError",
     "evalue": "'Metadata_broad_sample'",
     "output_type": "error",
     "traceback": [
      "\u001B[0;31m---------------------------------------------------------------------------\u001B[0m",
      "\u001B[0;31mKeyError\u001B[0m                                  Traceback (most recent call last)",
      "\u001B[0;32m~/miniconda3/envs/cyto_eval/lib/python3.7/site-packages/pandas/core/indexes/base.py\u001B[0m in \u001B[0;36mget_loc\u001B[0;34m(self, key, method, tolerance)\u001B[0m\n\u001B[1;32m   3079\u001B[0m             \u001B[0;32mtry\u001B[0m\u001B[0;34m:\u001B[0m\u001B[0;34m\u001B[0m\u001B[0;34m\u001B[0m\u001B[0m\n\u001B[0;32m-> 3080\u001B[0;31m                 \u001B[0;32mreturn\u001B[0m \u001B[0mself\u001B[0m\u001B[0;34m.\u001B[0m\u001B[0m_engine\u001B[0m\u001B[0;34m.\u001B[0m\u001B[0mget_loc\u001B[0m\u001B[0;34m(\u001B[0m\u001B[0mcasted_key\u001B[0m\u001B[0;34m)\u001B[0m\u001B[0;34m\u001B[0m\u001B[0;34m\u001B[0m\u001B[0m\n\u001B[0m\u001B[1;32m   3081\u001B[0m             \u001B[0;32mexcept\u001B[0m \u001B[0mKeyError\u001B[0m \u001B[0;32mas\u001B[0m \u001B[0merr\u001B[0m\u001B[0;34m:\u001B[0m\u001B[0;34m\u001B[0m\u001B[0;34m\u001B[0m\u001B[0m\n",
      "\u001B[0;32mpandas/_libs/index.pyx\u001B[0m in \u001B[0;36mpandas._libs.index.IndexEngine.get_loc\u001B[0;34m()\u001B[0m\n",
      "\u001B[0;32mpandas/_libs/index.pyx\u001B[0m in \u001B[0;36mpandas._libs.index.IndexEngine.get_loc\u001B[0;34m()\u001B[0m\n",
      "\u001B[0;32mpandas/_libs/hashtable_class_helper.pxi\u001B[0m in \u001B[0;36mpandas._libs.hashtable.PyObjectHashTable.get_item\u001B[0;34m()\u001B[0m\n",
      "\u001B[0;32mpandas/_libs/hashtable_class_helper.pxi\u001B[0m in \u001B[0;36mpandas._libs.hashtable.PyObjectHashTable.get_item\u001B[0;34m()\u001B[0m\n",
      "\u001B[0;31mKeyError\u001B[0m: 'Metadata_broad_sample'",
      "\nThe above exception was the direct cause of the following exception:\n",
      "\u001B[0;31mKeyError\u001B[0m                                  Traceback (most recent call last)",
      "\u001B[0;32m<ipython-input-26-16fe6d1f7431>\u001B[0m in \u001B[0;36m<module>\u001B[0;34m\u001B[0m\n\u001B[0;32m----> 1\u001B[0;31m \u001B[0mmetrics\u001B[0m\u001B[0;34m.\u001B[0m\u001B[0mclassification_report\u001B[0m\u001B[0;34m(\u001B[0m\u001B[0mdfs\u001B[0m\u001B[0;34m[\u001B[0m\u001B[0;34m'Metadata_broad_sample'\u001B[0m\u001B[0;34m]\u001B[0m\u001B[0;34m,\u001B[0m \u001B[0mdfs\u001B[0m\u001B[0;34m[\u001B[0m\u001B[0;34m'prediction'\u001B[0m\u001B[0;34m]\u001B[0m\u001B[0;34m,\u001B[0m \u001B[0mlabels\u001B[0m\u001B[0;34m=\u001B[0m\u001B[0mlabels\u001B[0m\u001B[0;34m,\u001B[0m \u001B[0moutput_dict\u001B[0m\u001B[0;34m=\u001B[0m\u001B[0;32mTrue\u001B[0m\u001B[0;34m)\u001B[0m\u001B[0;34m\u001B[0m\u001B[0;34m\u001B[0m\u001B[0m\n\u001B[0m",
      "\u001B[0;32m~/miniconda3/envs/cyto_eval/lib/python3.7/site-packages/pandas/core/frame.py\u001B[0m in \u001B[0;36m__getitem__\u001B[0;34m(self, key)\u001B[0m\n\u001B[1;32m   3022\u001B[0m             \u001B[0;32mif\u001B[0m \u001B[0mself\u001B[0m\u001B[0;34m.\u001B[0m\u001B[0mcolumns\u001B[0m\u001B[0;34m.\u001B[0m\u001B[0mnlevels\u001B[0m \u001B[0;34m>\u001B[0m \u001B[0;36m1\u001B[0m\u001B[0;34m:\u001B[0m\u001B[0;34m\u001B[0m\u001B[0;34m\u001B[0m\u001B[0m\n\u001B[1;32m   3023\u001B[0m                 \u001B[0;32mreturn\u001B[0m \u001B[0mself\u001B[0m\u001B[0;34m.\u001B[0m\u001B[0m_getitem_multilevel\u001B[0m\u001B[0;34m(\u001B[0m\u001B[0mkey\u001B[0m\u001B[0;34m)\u001B[0m\u001B[0;34m\u001B[0m\u001B[0;34m\u001B[0m\u001B[0m\n\u001B[0;32m-> 3024\u001B[0;31m             \u001B[0mindexer\u001B[0m \u001B[0;34m=\u001B[0m \u001B[0mself\u001B[0m\u001B[0;34m.\u001B[0m\u001B[0mcolumns\u001B[0m\u001B[0;34m.\u001B[0m\u001B[0mget_loc\u001B[0m\u001B[0;34m(\u001B[0m\u001B[0mkey\u001B[0m\u001B[0;34m)\u001B[0m\u001B[0;34m\u001B[0m\u001B[0;34m\u001B[0m\u001B[0m\n\u001B[0m\u001B[1;32m   3025\u001B[0m             \u001B[0;32mif\u001B[0m \u001B[0mis_integer\u001B[0m\u001B[0;34m(\u001B[0m\u001B[0mindexer\u001B[0m\u001B[0;34m)\u001B[0m\u001B[0;34m:\u001B[0m\u001B[0;34m\u001B[0m\u001B[0;34m\u001B[0m\u001B[0m\n\u001B[1;32m   3026\u001B[0m                 \u001B[0mindexer\u001B[0m \u001B[0;34m=\u001B[0m \u001B[0;34m[\u001B[0m\u001B[0mindexer\u001B[0m\u001B[0;34m]\u001B[0m\u001B[0;34m\u001B[0m\u001B[0;34m\u001B[0m\u001B[0m\n",
      "\u001B[0;32m~/miniconda3/envs/cyto_eval/lib/python3.7/site-packages/pandas/core/indexes/base.py\u001B[0m in \u001B[0;36mget_loc\u001B[0;34m(self, key, method, tolerance)\u001B[0m\n\u001B[1;32m   3080\u001B[0m                 \u001B[0;32mreturn\u001B[0m \u001B[0mself\u001B[0m\u001B[0;34m.\u001B[0m\u001B[0m_engine\u001B[0m\u001B[0;34m.\u001B[0m\u001B[0mget_loc\u001B[0m\u001B[0;34m(\u001B[0m\u001B[0mcasted_key\u001B[0m\u001B[0;34m)\u001B[0m\u001B[0;34m\u001B[0m\u001B[0;34m\u001B[0m\u001B[0m\n\u001B[1;32m   3081\u001B[0m             \u001B[0;32mexcept\u001B[0m \u001B[0mKeyError\u001B[0m \u001B[0;32mas\u001B[0m \u001B[0merr\u001B[0m\u001B[0;34m:\u001B[0m\u001B[0;34m\u001B[0m\u001B[0;34m\u001B[0m\u001B[0m\n\u001B[0;32m-> 3082\u001B[0;31m                 \u001B[0;32mraise\u001B[0m \u001B[0mKeyError\u001B[0m\u001B[0;34m(\u001B[0m\u001B[0mkey\u001B[0m\u001B[0;34m)\u001B[0m \u001B[0;32mfrom\u001B[0m \u001B[0merr\u001B[0m\u001B[0;34m\u001B[0m\u001B[0;34m\u001B[0m\u001B[0m\n\u001B[0m\u001B[1;32m   3083\u001B[0m \u001B[0;34m\u001B[0m\u001B[0m\n\u001B[1;32m   3084\u001B[0m         \u001B[0;32mif\u001B[0m \u001B[0mtolerance\u001B[0m \u001B[0;32mis\u001B[0m \u001B[0;32mnot\u001B[0m \u001B[0;32mNone\u001B[0m\u001B[0;34m:\u001B[0m\u001B[0;34m\u001B[0m\u001B[0;34m\u001B[0m\u001B[0m\n",
      "\u001B[0;31mKeyError\u001B[0m: 'Metadata_broad_sample'"
     ]
    }
   ],
   "source": [
    "metrics.classification_report(dfs['Metadata_broad_sample'], dfs['prediction'], labels=labels, output_dict=True)"
   ],
   "metadata": {
    "collapsed": false,
    "pycharm": {
     "name": "#%%\n"
    }
   }
  },
  {
   "cell_type": "code",
   "execution_count": 83,
   "outputs": [
    {
     "data": {
      "text/plain": "                        precision    recall  f1-score        support\nBRD-A02006392-001-10-7   0.491632  0.398981  0.440487     589.000000\nBRD-A03506276-001-01-5   0.266667  0.750000  0.393443      16.000000\nBRD-A03623303-045-09-5   0.145565  0.559767  0.231047     343.000000\nBRD-A04352665-001-05-3   0.196602  0.291367  0.234783     278.000000\nBRD-A04553218-050-16-2   0.248619  0.130814  0.171429     344.000000\n...                           ...       ...       ...            ...\nBRD-K99604664-001-01-1   0.162162  0.146939  0.154176     245.000000\nDMSO                     0.304254  0.045009  0.078418   12553.000000\naccuracy                 0.287347  0.287347  0.287347       0.287347\nmacro avg                0.364397  0.370930  0.336750  217448.000000\nweighted avg             0.318980  0.287347  0.272571  217448.000000\n\n[515 rows x 4 columns]",
      "text/html": "<div>\n<style scoped>\n    .dataframe tbody tr th:only-of-type {\n        vertical-align: middle;\n    }\n\n    .dataframe tbody tr th {\n        vertical-align: top;\n    }\n\n    .dataframe thead th {\n        text-align: right;\n    }\n</style>\n<table border=\"1\" class=\"dataframe\">\n  <thead>\n    <tr style=\"text-align: right;\">\n      <th></th>\n      <th>precision</th>\n      <th>recall</th>\n      <th>f1-score</th>\n      <th>support</th>\n    </tr>\n  </thead>\n  <tbody>\n    <tr>\n      <th>BRD-A02006392-001-10-7</th>\n      <td>0.491632</td>\n      <td>0.398981</td>\n      <td>0.440487</td>\n      <td>589.000000</td>\n    </tr>\n    <tr>\n      <th>BRD-A03506276-001-01-5</th>\n      <td>0.266667</td>\n      <td>0.750000</td>\n      <td>0.393443</td>\n      <td>16.000000</td>\n    </tr>\n    <tr>\n      <th>BRD-A03623303-045-09-5</th>\n      <td>0.145565</td>\n      <td>0.559767</td>\n      <td>0.231047</td>\n      <td>343.000000</td>\n    </tr>\n    <tr>\n      <th>BRD-A04352665-001-05-3</th>\n      <td>0.196602</td>\n      <td>0.291367</td>\n      <td>0.234783</td>\n      <td>278.000000</td>\n    </tr>\n    <tr>\n      <th>BRD-A04553218-050-16-2</th>\n      <td>0.248619</td>\n      <td>0.130814</td>\n      <td>0.171429</td>\n      <td>344.000000</td>\n    </tr>\n    <tr>\n      <th>...</th>\n      <td>...</td>\n      <td>...</td>\n      <td>...</td>\n      <td>...</td>\n    </tr>\n    <tr>\n      <th>BRD-K99604664-001-01-1</th>\n      <td>0.162162</td>\n      <td>0.146939</td>\n      <td>0.154176</td>\n      <td>245.000000</td>\n    </tr>\n    <tr>\n      <th>DMSO</th>\n      <td>0.304254</td>\n      <td>0.045009</td>\n      <td>0.078418</td>\n      <td>12553.000000</td>\n    </tr>\n    <tr>\n      <th>accuracy</th>\n      <td>0.287347</td>\n      <td>0.287347</td>\n      <td>0.287347</td>\n      <td>0.287347</td>\n    </tr>\n    <tr>\n      <th>macro avg</th>\n      <td>0.364397</td>\n      <td>0.370930</td>\n      <td>0.336750</td>\n      <td>217448.000000</td>\n    </tr>\n    <tr>\n      <th>weighted avg</th>\n      <td>0.318980</td>\n      <td>0.287347</td>\n      <td>0.272571</td>\n      <td>217448.000000</td>\n    </tr>\n  </tbody>\n</table>\n<p>515 rows × 4 columns</p>\n</div>"
     },
     "execution_count": 83,
     "metadata": {},
     "output_type": "execute_result"
    }
   ],
   "source": [
    "df_report = pd.DataFrame(report_dict).transpose()\n",
    "df_report"
   ],
   "metadata": {
    "collapsed": false,
    "pycharm": {
     "name": "#%%\n"
    }
   }
  },
  {
   "cell_type": "code",
   "execution_count": 209,
   "outputs": [
    {
     "data": {
      "text/plain": "                        precision    recall  f1-score  support\nBRD-K99113996-001-02-0   0.979592  0.964824  0.972152    199.0\nBRD-K95901403-001-04-5   0.977401  0.905759  0.940217    191.0\nBRD-K72414522-001-06-7   0.929825  0.929825  0.929825     57.0\nBRD-K61195623-001-01-4   0.920635  0.935484  0.928000     62.0\nBRD-K61691541-001-01-1   0.867947  0.994498  0.926923    727.0\n...                           ...       ...       ...      ...\nBRD-A97104540-004-15-0   0.000000  0.000000  0.000000    357.0\nBRD-K95880107-001-02-4   0.000000  0.000000  0.000000    330.0\nBRD-K97158071-001-18-1   0.000000  0.000000  0.000000    413.0\nBRD-K97181089-003-24-7   0.000000  0.000000  0.000000    464.0\nBRD-K79595931-312-01-3   0.000000  0.000000  0.000000    533.0\n\n[515 rows x 4 columns]",
      "text/html": "<div>\n<style scoped>\n    .dataframe tbody tr th:only-of-type {\n        vertical-align: middle;\n    }\n\n    .dataframe tbody tr th {\n        vertical-align: top;\n    }\n\n    .dataframe thead th {\n        text-align: right;\n    }\n</style>\n<table border=\"1\" class=\"dataframe\">\n  <thead>\n    <tr style=\"text-align: right;\">\n      <th></th>\n      <th>precision</th>\n      <th>recall</th>\n      <th>f1-score</th>\n      <th>support</th>\n    </tr>\n  </thead>\n  <tbody>\n    <tr>\n      <th>BRD-K99113996-001-02-0</th>\n      <td>0.979592</td>\n      <td>0.964824</td>\n      <td>0.972152</td>\n      <td>199.0</td>\n    </tr>\n    <tr>\n      <th>BRD-K95901403-001-04-5</th>\n      <td>0.977401</td>\n      <td>0.905759</td>\n      <td>0.940217</td>\n      <td>191.0</td>\n    </tr>\n    <tr>\n      <th>BRD-K72414522-001-06-7</th>\n      <td>0.929825</td>\n      <td>0.929825</td>\n      <td>0.929825</td>\n      <td>57.0</td>\n    </tr>\n    <tr>\n      <th>BRD-K61195623-001-01-4</th>\n      <td>0.920635</td>\n      <td>0.935484</td>\n      <td>0.928000</td>\n      <td>62.0</td>\n    </tr>\n    <tr>\n      <th>BRD-K61691541-001-01-1</th>\n      <td>0.867947</td>\n      <td>0.994498</td>\n      <td>0.926923</td>\n      <td>727.0</td>\n    </tr>\n    <tr>\n      <th>...</th>\n      <td>...</td>\n      <td>...</td>\n      <td>...</td>\n      <td>...</td>\n    </tr>\n    <tr>\n      <th>BRD-A97104540-004-15-0</th>\n      <td>0.000000</td>\n      <td>0.000000</td>\n      <td>0.000000</td>\n      <td>357.0</td>\n    </tr>\n    <tr>\n      <th>BRD-K95880107-001-02-4</th>\n      <td>0.000000</td>\n      <td>0.000000</td>\n      <td>0.000000</td>\n      <td>330.0</td>\n    </tr>\n    <tr>\n      <th>BRD-K97158071-001-18-1</th>\n      <td>0.000000</td>\n      <td>0.000000</td>\n      <td>0.000000</td>\n      <td>413.0</td>\n    </tr>\n    <tr>\n      <th>BRD-K97181089-003-24-7</th>\n      <td>0.000000</td>\n      <td>0.000000</td>\n      <td>0.000000</td>\n      <td>464.0</td>\n    </tr>\n    <tr>\n      <th>BRD-K79595931-312-01-3</th>\n      <td>0.000000</td>\n      <td>0.000000</td>\n      <td>0.000000</td>\n      <td>533.0</td>\n    </tr>\n  </tbody>\n</table>\n<p>515 rows × 4 columns</p>\n</div>"
     },
     "execution_count": 209,
     "metadata": {},
     "output_type": "execute_result"
    }
   ],
   "source": [
    "sort = df_report.sort_values(by='f1-score', ascending=False)\n",
    "sort"
   ],
   "metadata": {
    "collapsed": false,
    "pycharm": {
     "name": "#%%\n"
    }
   }
  },
  {
   "cell_type": "code",
   "execution_count": 210,
   "outputs": [
    {
     "data": {
      "text/plain": "Index(['BRD-K99113996-001-02-0', 'BRD-K95901403-001-04-5',\n       'BRD-K72414522-001-06-7', 'BRD-K61195623-001-01-4',\n       'BRD-K61691541-001-01-1', 'BRD-K19687926-379-07-4',\n       'BRD-A33280134-001-04-7', 'BRD-K86882815-001-03-2',\n       'BRD-K57169635-001-04-5', 'BRD-K87909389-003-03-4',\n       ...\n       'BRD-K92731339-227-04-9', 'BRD-K93208532-001-02-5',\n       'BRD-A97674275-001-11-8', 'BRD-K51485625-001-08-4',\n       'BRD-K74339692-001-01-9', 'BRD-A97104540-004-15-0',\n       'BRD-K95880107-001-02-4', 'BRD-K97158071-001-18-1',\n       'BRD-K97181089-003-24-7', 'BRD-K79595931-312-01-3'],\n      dtype='object', length=515)"
     },
     "execution_count": 210,
     "metadata": {},
     "output_type": "execute_result"
    }
   ],
   "source": [
    "sort.index.tolist()"
   ],
   "metadata": {
    "collapsed": false,
    "pycharm": {
     "name": "#%%\n"
    }
   }
  },
  {
   "cell_type": "code",
   "execution_count": 77,
   "outputs": [
    {
     "data": {
      "text/plain": "0.28734685993892795"
     },
     "execution_count": 77,
     "metadata": {},
     "output_type": "execute_result"
    }
   ],
   "source": [
    "y_true = dfs['Metadata_broad_sample']\n",
    "y_pred = dfs['prediction']\n",
    "metrics.accuracy_score(y_true, y_pred)"
   ],
   "metadata": {
    "collapsed": false,
    "pycharm": {
     "name": "#%%\n"
    }
   }
  },
  {
   "cell_type": "code",
   "execution_count": null,
   "outputs": [],
   "source": [
    "# %matplotlib qt\n",
    "classes = dfs['Metadata_broad_sample'].unique()\n",
    "classes.sort()\n",
    "classes = { classes[i]:i for i in range(len(classes))}\n",
    "\n",
    "cm = sklearn.metrics.confusion_matrix(dfs['Metadata_broad_sample'], dfs['prediction'])\n",
    "fig = plt.figure(figsize=(15,15))\n",
    "ax = fig.add_subplot(111)\n",
    "cax = ax.matshow(cm.T/np.sum(cm, axis=1), cmap=plt.cm.Blues)\n",
    "fig.colorbar(cax)\n",
    "a = ax.set_yticks([x for x in classes.values()])\n",
    "b = ax.set_yticklabels([x for x in classes.keys()])"
   ],
   "metadata": {
    "collapsed": false,
    "pycharm": {
     "name": "#%%\n"
    }
   }
  },
  {
   "cell_type": "code",
   "execution_count": 70,
   "outputs": [],
   "source": [
    "dfs.to_csv('819_predictions.csv', index=False)"
   ],
   "metadata": {
    "collapsed": false,
    "pycharm": {
     "name": "#%%\n"
    }
   }
  },
  {
   "cell_type": "markdown",
   "source": [
    "Does DMSO increase or decrease the overall accruacy ?\n",
    "How to calc accuracy/ does DMSO effect it\n",
    "\n",
    "What are compounds that are not distingishued from DMSO.\n",
    "Do they have small scores? Do we want to get rid of them\n",
    "\n",
    "\n",
    "Can we train on easy to distingueshly compounds. is the enrichment score gonna go up?\n",
    "\n",
    "Ask Slack which ones are easy to distingiush from DMSO.\n",
    "\n",
    "https://software.broadinstitute.org/morpheus/\n",
    "\n",
    "Do Compounds get confused because they have the same MOA?\n",
    "\n",
    "\n",
    "Get example images for the easily classifiable. Is that obvious for the eye?\n",
    "\n",
    "\n",
    "\n",
    "Color each well with the accuracy / Precision how well it behaves.\n",
    "\n",
    "Are confusions happening between Wells?\n",
    "\n",
    "## important\n",
    "\n",
    "!!!!! Take a easily classifiable compound. Mix them with DMSO and plot on PCA or UMAP\n",
    "Do the same thing with badly identifiable Compound!\n",
    "\n",
    "Why do some compounds only have a very low support?"
   ],
   "metadata": {
    "collapsed": false,
    "pycharm": {
     "name": "#%% md\n"
    }
   }
  },
  {
   "cell_type": "code",
   "execution_count": 283,
   "outputs": [
    {
     "data": {
      "text/plain": "DMSO    2871\nName: Metadata_broad_sample, dtype: int64"
     },
     "execution_count": 283,
     "metadata": {},
     "output_type": "execute_result"
    }
   ],
   "source": [
    "# test weird confusions for well\n",
    "\n",
    "dfs[dfs['Metadata_Well'] == 'F09'].Metadata_broad_sample.value_counts()"
   ],
   "metadata": {
    "collapsed": false,
    "pycharm": {
     "name": "#%%\n"
    }
   }
  },
  {
   "cell_type": "code",
   "execution_count": 141,
   "outputs": [],
   "source": [
    "t = df[df['Metadata_broad_sample'] == 'DMSO'].reset_index().drop(columns= ['index', 'Metadata_broad_sample',\t'Metadata_Well',\t'Metadata_Site',\t'Metadata_moa'])\n"
   ],
   "metadata": {
    "collapsed": false,
    "pycharm": {
     "name": "#%%\n"
    }
   }
  },
  {
   "cell_type": "code",
   "execution_count": 148,
   "outputs": [],
   "source": [
    "dmso_true = t.sort_values(axis=1, by=0, ascending=False).columns.to_list()"
   ],
   "metadata": {
    "collapsed": false,
    "pycharm": {
     "name": "#%%\n"
    }
   }
  },
  {
   "cell_type": "code",
   "execution_count": 149,
   "outputs": [],
   "source": [
    "dmso_pred = df[['Metadata_broad_sample', 'DMSO']].sort_values(by='DMSO', ascending=False).Metadata_broad_sample.to_list()"
   ],
   "metadata": {
    "collapsed": false,
    "pycharm": {
     "name": "#%%\n"
    }
   }
  },
  {
   "cell_type": "code",
   "execution_count": 152,
   "outputs": [],
   "source": [
    "ls = []\n",
    "for c in dmso_true:\n",
    "    ls.append(dmso_pred.index(c))"
   ],
   "metadata": {
    "collapsed": false,
    "pycharm": {
     "name": "#%%\n"
    }
   }
  },
  {
   "cell_type": "markdown",
   "source": [
    "## prediction for MOAS"
   ],
   "metadata": {
    "collapsed": false,
    "pycharm": {
     "name": "#%% md\n"
    }
   }
  },
  {
   "cell_type": "code",
   "execution_count": 17,
   "outputs": [],
   "source": [
    "dfs = dfs.merge(meta, how='left', left_on='prediction', right_on='Metadata_broad_sample')"
   ],
   "metadata": {
    "collapsed": false,
    "pycharm": {
     "name": "#%%\n"
    }
   }
  },
  {
   "cell_type": "code",
   "execution_count": 188,
   "outputs": [],
   "source": [
    "labels = np.sort(dfs.Metadata_moa_x.unique())\n",
    "cm_moa = metrics.confusion_matrix(dfs['Metadata_moa_x'], dfs['Metadata_moa_y'])"
   ],
   "metadata": {
    "collapsed": false,
    "pycharm": {
     "name": "#%%\n"
    }
   }
  },
  {
   "cell_type": "code",
   "execution_count": null,
   "outputs": [],
   "source": [],
   "metadata": {
    "collapsed": false,
    "pycharm": {
     "name": "#%%\n"
    }
   }
  },
  {
   "cell_type": "code",
   "execution_count": 189,
   "outputs": [],
   "source": [
    "df = pd.DataFrame(cm_moa, columns=labels)\n",
    "df['Metadata_moa'] = labels\n",
    "df = pd.concat([df[['Metadata_moa']],df[labels]], axis=1)\n"
   ],
   "metadata": {
    "collapsed": false,
    "pycharm": {
     "name": "#%%\n"
    }
   }
  },
  {
   "cell_type": "code",
   "execution_count": null,
   "outputs": [],
   "source": [
    "df.head()"
   ],
   "metadata": {
    "collapsed": false,
    "pycharm": {
     "name": "#%%\n"
    }
   }
  },
  {
   "cell_type": "code",
   "execution_count": 169,
   "outputs": [],
   "source": [
    "df.to_csv('confusion_matrix_moa.csv', index=False)"
   ],
   "metadata": {
    "collapsed": false,
    "pycharm": {
     "name": "#%%\n"
    }
   }
  },
  {
   "cell_type": "code",
   "execution_count": 170,
   "outputs": [
    {
     "name": "stdout",
     "output_type": "stream",
     "text": [
      "                                                            precision    recall  f1-score   support\n",
      "\n",
      "                                             AKT inhibitor       0.58      0.43      0.50      2082\n",
      "                                   Aurora kinase inhibitor       0.43      0.64      0.51       461\n",
      "                          CC chemokine receptor antagonist       0.22      0.30      0.25      2429\n",
      "                                             CDK inhibitor       0.63      0.67      0.65       613\n",
      "                                             DNA inhibitor       0.26      0.28      0.27      2712\n",
      "                                            EGFR inhibitor       0.62      0.58      0.60      3504\n",
      "                                             HCV inhibitor       0.37      0.37      0.37      2219\n",
      "                                            HDAC inhibitor       0.60      0.64      0.62      1226\n",
      "                                    HIV protease inhibitor       0.33      0.31      0.32      2986\n",
      "                                           HMGCR inhibitor       0.51      0.34      0.41      2315\n",
      "                                             HSP inhibitor       0.77      0.74      0.76       254\n",
      "                                             JAK inhibitor       0.39      0.60      0.47      1529\n",
      "                                             MEK inhibitor       0.73      0.89      0.80      1754\n",
      "                                            PI3K inhibitor       0.53      0.47      0.50      1936\n",
      "                                  RNA polymerase inhibitor       0.33      0.25      0.29      1707\n",
      "                            acetylcholine receptor agonist       0.34      0.31      0.33      3869\n",
      "                         acetylcholine receptor antagonist       0.25      0.34      0.29     10061\n",
      "                               adrenergic receptor agonist       0.26      0.28      0.27      9871\n",
      "                            adrenergic receptor antagonist       0.28      0.31      0.30     14539\n",
      "                              androgen receptor antagonist       0.24      0.24      0.24      2577\n",
      "                   angiotensin converting enzyme inhibitor       0.15      0.13      0.14      5227\n",
      "                           angiotensin receptor antagonist       0.22      0.27      0.24      2898\n",
      "                            bacterial DNA gyrase inhibitor       0.17      0.25      0.20      3647\n",
      "                   bacterial cell wall synthesis inhibitor       0.25      0.27      0.26      5220\n",
      "                                   calcium channel blocker       0.42      0.42      0.42      7676\n",
      "                                  cyclooxygenase inhibitor       0.29      0.33      0.31     12484\n",
      "                                 dopamine receptor agonist       0.39      0.49      0.43      6170\n",
      "                              dopamine receptor antagonist       0.56      0.47      0.51      8682\n",
      "dopamine receptor antagonist|serotonin receptor antagonist       0.35      0.27      0.31      4366\n",
      "                                 estrogen receptor agonist       0.19      0.24      0.21      2704\n",
      "                                 gamma secretase inhibitor       0.45      0.44      0.45      3130\n",
      "                           glucocorticoid receptor agonist       0.56      0.64      0.60      5410\n",
      "                             glutamate receptor antagonist       0.23      0.27      0.25      3034\n",
      "                             histamine receptor antagonist       0.29      0.26      0.27     10559\n",
      "                                            mTOR inhibitor       0.42      0.56      0.48      1507\n",
      "                             mTOR inhibitor|PI3K inhibitor       0.59      0.97      0.73       492\n",
      "                               monoamine oxidase inhibitor       0.20      0.36      0.25      2600\n",
      "                                        p38 MAPK inhibitor       0.28      0.41      0.33      2957\n",
      "                               phosphodiesterase inhibitor       0.30      0.24      0.27     13962\n",
      "                                 potassium channel blocker       0.30      0.36      0.33      3575\n",
      "                             progesterone receptor agonist       0.40      0.40      0.40      1981\n",
      "                                 retinoid receptor agonist       0.42      0.35      0.38      2112\n",
      "                                serotonin receptor agonist       0.30      0.22      0.26      4646\n",
      "                             serotonin receptor antagonist       0.34      0.29      0.32      6722\n",
      "                                    sodium channel blocker       0.21      0.23      0.22      6131\n",
      "                              sterol demethylase inhibitor       0.29      0.18      0.22      2025\n",
      "                                   topoisomerase inhibitor       0.22      0.31      0.26      2472\n",
      "                          tubulin polymerization inhibitor       0.31      0.42      0.36      1066\n",
      "                                                   unknown       0.30      0.05      0.08     12553\n",
      "                                vitamin D receptor agonist       0.32      0.45      0.38      2796\n",
      "\n",
      "                                                  accuracy                           0.33    217448\n",
      "                                                 macro avg       0.37      0.39      0.37    217448\n",
      "                                              weighted avg       0.33      0.33      0.32    217448\n",
      "\n"
     ]
    }
   ],
   "source": [
    "print(metrics.classification_report(dfs['Metadata_moa_x'], dfs['Metadata_moa_y'], labels=labels))\n"
   ],
   "metadata": {
    "collapsed": false,
    "pycharm": {
     "name": "#%%\n"
    }
   }
  },
  {
   "cell_type": "code",
   "execution_count": null,
   "outputs": [],
   "source": [],
   "metadata": {
    "collapsed": false,
    "pycharm": {
     "name": "#%%\n"
    }
   }
  },
  {
   "cell_type": "markdown",
   "source": [
    "## prediction for Wells"
   ],
   "metadata": {
    "collapsed": false
   }
  },
  {
   "cell_type": "code",
   "execution_count": 12,
   "outputs": [
    {
     "data": {
      "text/plain": "  Metadata_Plate Metadata_Well  Metadata_Site Metadata_broad_sample  \\\n0     SQ00015048           F09              1                  DMSO   \n1     SQ00015048           F09              1                  DMSO   \n2     SQ00015048           F09              1                  DMSO   \n3     SQ00015048           F09              1                  DMSO   \n4     SQ00015048           F09              1                  DMSO   \n\n  Metadata_moa Metadata_Split              prediction  \n0      unknown           Test  BRD-K78113049-001-16-2  \n1      unknown           Test  BRD-K84986517-001-01-8  \n2      unknown           Test  BRD-K78113049-001-16-2  \n3      unknown           Test  BRD-K78113049-001-16-2  \n4      unknown           Test  BRD-K84986517-001-01-8  ",
      "text/html": "<div>\n<style scoped>\n    .dataframe tbody tr th:only-of-type {\n        vertical-align: middle;\n    }\n\n    .dataframe tbody tr th {\n        vertical-align: top;\n    }\n\n    .dataframe thead th {\n        text-align: right;\n    }\n</style>\n<table border=\"1\" class=\"dataframe\">\n  <thead>\n    <tr style=\"text-align: right;\">\n      <th></th>\n      <th>Metadata_Plate</th>\n      <th>Metadata_Well</th>\n      <th>Metadata_Site</th>\n      <th>Metadata_broad_sample</th>\n      <th>Metadata_moa</th>\n      <th>Metadata_Split</th>\n      <th>prediction</th>\n    </tr>\n  </thead>\n  <tbody>\n    <tr>\n      <th>0</th>\n      <td>SQ00015048</td>\n      <td>F09</td>\n      <td>1</td>\n      <td>DMSO</td>\n      <td>unknown</td>\n      <td>Test</td>\n      <td>BRD-K78113049-001-16-2</td>\n    </tr>\n    <tr>\n      <th>1</th>\n      <td>SQ00015048</td>\n      <td>F09</td>\n      <td>1</td>\n      <td>DMSO</td>\n      <td>unknown</td>\n      <td>Test</td>\n      <td>BRD-K84986517-001-01-8</td>\n    </tr>\n    <tr>\n      <th>2</th>\n      <td>SQ00015048</td>\n      <td>F09</td>\n      <td>1</td>\n      <td>DMSO</td>\n      <td>unknown</td>\n      <td>Test</td>\n      <td>BRD-K78113049-001-16-2</td>\n    </tr>\n    <tr>\n      <th>3</th>\n      <td>SQ00015048</td>\n      <td>F09</td>\n      <td>1</td>\n      <td>DMSO</td>\n      <td>unknown</td>\n      <td>Test</td>\n      <td>BRD-K78113049-001-16-2</td>\n    </tr>\n    <tr>\n      <th>4</th>\n      <td>SQ00015048</td>\n      <td>F09</td>\n      <td>1</td>\n      <td>DMSO</td>\n      <td>unknown</td>\n      <td>Test</td>\n      <td>BRD-K84986517-001-01-8</td>\n    </tr>\n  </tbody>\n</table>\n</div>"
     },
     "execution_count": 12,
     "metadata": {},
     "output_type": "execute_result"
    }
   ],
   "source": [
    "dfs.head()"
   ],
   "metadata": {
    "collapsed": false,
    "pycharm": {
     "name": "#%%\n"
    }
   }
  },
  {
   "cell_type": "code",
   "execution_count": 18,
   "outputs": [],
   "source": [
    "labels = np.sort(dfs.Metadata_Well_x.unique())\n",
    "cm_well = metrics.confusion_matrix(dfs['Metadata_Well_x'], dfs['Metadata_Well_y'])"
   ],
   "metadata": {
    "collapsed": false,
    "pycharm": {
     "name": "#%%\n"
    }
   }
  },
  {
   "cell_type": "code",
   "execution_count": 19,
   "outputs": [],
   "source": [
    "df = pd.DataFrame(cm_well, columns=labels)\n",
    "df['Metadata_Well'] = labels\n",
    "df = pd.concat([df[['Metadata_Well']],df[labels]], axis=1)\n"
   ],
   "metadata": {
    "collapsed": false,
    "pycharm": {
     "name": "#%%\n"
    }
   }
  },
  {
   "cell_type": "code",
   "execution_count": 22,
   "outputs": [
    {
     "data": {
      "text/plain": "  Metadata_Plate Metadata_Well_x  Metadata_Site Metadata_broad_sample_x  \\\n0     SQ00015048             F09              1                    DMSO   \n1     SQ00015048             F09              1                    DMSO   \n2     SQ00015048             F09              1                    DMSO   \n3     SQ00015048             F09              1                    DMSO   \n4     SQ00015048             F09              1                    DMSO   \n\n  Metadata_moa_x Metadata_Split              prediction  \\\n0        unknown           Test  BRD-K78113049-001-16-2   \n1        unknown           Test  BRD-K84986517-001-01-8   \n2        unknown           Test  BRD-K78113049-001-16-2   \n3        unknown           Test  BRD-K78113049-001-16-2   \n4        unknown           Test  BRD-K84986517-001-01-8   \n\n  Metadata_broad_sample_y Metadata_Well_y           Metadata_moa_y  \n0  BRD-K78113049-001-16-2             L19  topoisomerase inhibitor  \n1  BRD-K84986517-001-01-8             D13   HIV protease inhibitor  \n2  BRD-K78113049-001-16-2             L19  topoisomerase inhibitor  \n3  BRD-K78113049-001-16-2             L19  topoisomerase inhibitor  \n4  BRD-K84986517-001-01-8             D13   HIV protease inhibitor  ",
      "text/html": "<div>\n<style scoped>\n    .dataframe tbody tr th:only-of-type {\n        vertical-align: middle;\n    }\n\n    .dataframe tbody tr th {\n        vertical-align: top;\n    }\n\n    .dataframe thead th {\n        text-align: right;\n    }\n</style>\n<table border=\"1\" class=\"dataframe\">\n  <thead>\n    <tr style=\"text-align: right;\">\n      <th></th>\n      <th>Metadata_Plate</th>\n      <th>Metadata_Well_x</th>\n      <th>Metadata_Site</th>\n      <th>Metadata_broad_sample_x</th>\n      <th>Metadata_moa_x</th>\n      <th>Metadata_Split</th>\n      <th>prediction</th>\n      <th>Metadata_broad_sample_y</th>\n      <th>Metadata_Well_y</th>\n      <th>Metadata_moa_y</th>\n    </tr>\n  </thead>\n  <tbody>\n    <tr>\n      <th>0</th>\n      <td>SQ00015048</td>\n      <td>F09</td>\n      <td>1</td>\n      <td>DMSO</td>\n      <td>unknown</td>\n      <td>Test</td>\n      <td>BRD-K78113049-001-16-2</td>\n      <td>BRD-K78113049-001-16-2</td>\n      <td>L19</td>\n      <td>topoisomerase inhibitor</td>\n    </tr>\n    <tr>\n      <th>1</th>\n      <td>SQ00015048</td>\n      <td>F09</td>\n      <td>1</td>\n      <td>DMSO</td>\n      <td>unknown</td>\n      <td>Test</td>\n      <td>BRD-K84986517-001-01-8</td>\n      <td>BRD-K84986517-001-01-8</td>\n      <td>D13</td>\n      <td>HIV protease inhibitor</td>\n    </tr>\n    <tr>\n      <th>2</th>\n      <td>SQ00015048</td>\n      <td>F09</td>\n      <td>1</td>\n      <td>DMSO</td>\n      <td>unknown</td>\n      <td>Test</td>\n      <td>BRD-K78113049-001-16-2</td>\n      <td>BRD-K78113049-001-16-2</td>\n      <td>L19</td>\n      <td>topoisomerase inhibitor</td>\n    </tr>\n    <tr>\n      <th>3</th>\n      <td>SQ00015048</td>\n      <td>F09</td>\n      <td>1</td>\n      <td>DMSO</td>\n      <td>unknown</td>\n      <td>Test</td>\n      <td>BRD-K78113049-001-16-2</td>\n      <td>BRD-K78113049-001-16-2</td>\n      <td>L19</td>\n      <td>topoisomerase inhibitor</td>\n    </tr>\n    <tr>\n      <th>4</th>\n      <td>SQ00015048</td>\n      <td>F09</td>\n      <td>1</td>\n      <td>DMSO</td>\n      <td>unknown</td>\n      <td>Test</td>\n      <td>BRD-K84986517-001-01-8</td>\n      <td>BRD-K84986517-001-01-8</td>\n      <td>D13</td>\n      <td>HIV protease inhibitor</td>\n    </tr>\n  </tbody>\n</table>\n</div>"
     },
     "execution_count": 22,
     "metadata": {},
     "output_type": "execute_result"
    }
   ],
   "source": [
    "dfs.head()"
   ],
   "metadata": {
    "collapsed": false,
    "pycharm": {
     "name": "#%%\n"
    }
   }
  },
  {
   "cell_type": "code",
   "execution_count": 177,
   "outputs": [],
   "source": [
    "df.to_csv('confusion_matrix_Well.csv', index=False)"
   ],
   "metadata": {
    "collapsed": false,
    "pycharm": {
     "name": "#%%\n"
    }
   }
  },
  {
   "cell_type": "code",
   "execution_count": 178,
   "outputs": [
    {
     "name": "stderr",
     "output_type": "stream",
     "text": [
      "/Users/mbornhol/miniconda3/envs/cyto_eval/lib/python3.7/site-packages/sklearn/metrics/_classification.py:1245: UndefinedMetricWarning: Precision and F-score are ill-defined and being set to 0.0 in labels with no predicted samples. Use `zero_division` parameter to control this behavior.\n",
      "  _warn_prf(average, modifier, msg_start, len(result))\n",
      "/Users/mbornhol/miniconda3/envs/cyto_eval/lib/python3.7/site-packages/sklearn/metrics/_classification.py:1245: UndefinedMetricWarning: Precision and F-score are ill-defined and being set to 0.0 in labels with no predicted samples. Use `zero_division` parameter to control this behavior.\n",
      "  _warn_prf(average, modifier, msg_start, len(result))\n",
      "/Users/mbornhol/miniconda3/envs/cyto_eval/lib/python3.7/site-packages/sklearn/metrics/_classification.py:1245: UndefinedMetricWarning: Precision and F-score are ill-defined and being set to 0.0 in labels with no predicted samples. Use `zero_division` parameter to control this behavior.\n",
      "  _warn_prf(average, modifier, msg_start, len(result))\n"
     ]
    },
    {
     "name": "stdout",
     "output_type": "stream",
     "text": [
      "              precision    recall  f1-score   support\n",
      "\n",
      "         A06       0.00      0.00      0.00      2189\n",
      "         A07       0.41      0.36      0.39      4439\n",
      "         A13       0.36      0.42      0.39      3586\n",
      "         A19       0.52      0.49      0.51      2422\n",
      "         B06       0.00      0.00      0.00      4410\n",
      "         B07       0.24      0.21      0.22      3637\n",
      "         B13       0.23      0.18      0.20      3343\n",
      "         B19       0.22      0.29      0.25      3353\n",
      "         C01       0.37      0.52      0.43      4655\n",
      "         C07       0.34      0.21      0.26      3523\n",
      "         C13       0.33      0.21      0.26      3113\n",
      "         D01       0.35      0.41      0.38      4071\n",
      "         D07       0.25      0.34      0.29      4027\n",
      "         D13       0.29      0.40      0.34      2641\n",
      "         D19       0.22      0.25      0.23      2512\n",
      "         E01       0.37      0.49      0.42      3168\n",
      "         E07       0.53      0.42      0.47      3063\n",
      "         E13       0.31      0.35      0.33      4631\n",
      "         E19       0.42      0.48      0.45      7083\n",
      "         F01       0.48      0.61      0.53      2047\n",
      "         F09       0.00      0.00      0.00      2871\n",
      "         F13       0.33      0.30      0.32      4178\n",
      "         F19       0.26      0.43      0.32      3332\n",
      "         G01       0.57      0.54      0.56      2083\n",
      "         G07       0.31      0.24      0.27      4161\n",
      "         G19       0.52      0.30      0.38      5502\n",
      "         H01       0.43      0.54      0.48      4138\n",
      "         H07       0.42      0.33      0.37      3729\n",
      "         H13       0.27      0.26      0.26      4692\n",
      "         H19       0.22      0.35      0.27      5164\n",
      "         I01       0.28      0.30      0.29      2216\n",
      "         I07       0.38      0.35      0.37      4765\n",
      "         I13       0.21      0.23      0.22      6145\n",
      "         I19       0.25      0.25      0.25      6143\n",
      "         J01       0.27      0.35      0.31      5750\n",
      "         J07       0.39      0.89      0.54        35\n",
      "         J15       0.00      0.00      0.00      3083\n",
      "         J19       0.20      0.18      0.19      4833\n",
      "         K01       0.33      0.36      0.34      2992\n",
      "         K13       0.35      0.24      0.29      3954\n",
      "         K19       0.48      0.46      0.47      3879\n",
      "         L01       0.31      0.28      0.29      2824\n",
      "         L07       0.18      0.17      0.17      4868\n",
      "         L13       0.16      0.15      0.15      2909\n",
      "         L19       0.26      0.39      0.31      3294\n",
      "         M01       0.41      0.48      0.44      2580\n",
      "         M07       0.28      0.24      0.26      4920\n",
      "         M13       0.24      0.24      0.24      3542\n",
      "         M19       0.28      0.34      0.31      4838\n",
      "         N01       0.32      0.27      0.29      3810\n",
      "         N07       0.38      0.42      0.40      2694\n",
      "         N13       0.32      0.28      0.30      2347\n",
      "         N19       0.28      0.25      0.26      3840\n",
      "         O07       0.17      0.22      0.19      2693\n",
      "         O13       0.26      0.29      0.27      4052\n",
      "         O19       0.21      0.19      0.20      2882\n",
      "         P01       0.16      0.26      0.20       968\n",
      "         P07       0.35      0.44      0.39      3922\n",
      "         P13       0.19      0.22      0.20      2548\n",
      "         P19       0.75      0.63      0.69      2359\n",
      "\n",
      "    accuracy                           0.31    217448\n",
      "   macro avg       0.30      0.32      0.31    217448\n",
      "weighted avg       0.30      0.31      0.30    217448\n",
      "\n"
     ]
    }
   ],
   "source": [
    "print(metrics.classification_report(dfs['Metadata_Well_x'], dfs['Metadata_Well_y'], labels=labels))\n"
   ],
   "metadata": {
    "collapsed": false,
    "pycharm": {
     "name": "#%%\n"
    }
   }
  },
  {
   "cell_type": "code",
   "execution_count": 185,
   "outputs": [
    {
     "data": {
      "text/plain": "  Metadata_Well  A06  A07  A13  A19  B06  B07  B13  B19  C01  ...  N07  N13  \\\n0           A06    0   42  117    0    0   56    8    3   44  ...    0  145   \n\n   N19  O07  O13  O19  P01  P07  P13  P19  \n0    1    0    4    0    1    2    0    3  \n\n[1 rows x 61 columns]",
      "text/html": "<div>\n<style scoped>\n    .dataframe tbody tr th:only-of-type {\n        vertical-align: middle;\n    }\n\n    .dataframe tbody tr th {\n        vertical-align: top;\n    }\n\n    .dataframe thead th {\n        text-align: right;\n    }\n</style>\n<table border=\"1\" class=\"dataframe\">\n  <thead>\n    <tr style=\"text-align: right;\">\n      <th></th>\n      <th>Metadata_Well</th>\n      <th>A06</th>\n      <th>A07</th>\n      <th>A13</th>\n      <th>A19</th>\n      <th>B06</th>\n      <th>B07</th>\n      <th>B13</th>\n      <th>B19</th>\n      <th>C01</th>\n      <th>...</th>\n      <th>N07</th>\n      <th>N13</th>\n      <th>N19</th>\n      <th>O07</th>\n      <th>O13</th>\n      <th>O19</th>\n      <th>P01</th>\n      <th>P07</th>\n      <th>P13</th>\n      <th>P19</th>\n    </tr>\n  </thead>\n  <tbody>\n    <tr>\n      <th>0</th>\n      <td>A06</td>\n      <td>0</td>\n      <td>42</td>\n      <td>117</td>\n      <td>0</td>\n      <td>0</td>\n      <td>56</td>\n      <td>8</td>\n      <td>3</td>\n      <td>44</td>\n      <td>...</td>\n      <td>0</td>\n      <td>145</td>\n      <td>1</td>\n      <td>0</td>\n      <td>4</td>\n      <td>0</td>\n      <td>1</td>\n      <td>2</td>\n      <td>0</td>\n      <td>3</td>\n    </tr>\n  </tbody>\n</table>\n<p>1 rows × 61 columns</p>\n</div>"
     },
     "execution_count": 185,
     "metadata": {},
     "output_type": "execute_result"
    }
   ],
   "source": [
    "df[df['Metadata_Well'] == 'A06'"
   ],
   "metadata": {
    "collapsed": false,
    "pycharm": {
     "name": "#%%\n"
    }
   }
  },
  {
   "cell_type": "code",
   "execution_count": 25,
   "outputs": [
    {
     "data": {
      "text/plain": "B06    4410\nJ15    3083\nF09    2871\nA06    2189\nName: Metadata_Well_x, dtype: int64"
     },
     "execution_count": 25,
     "metadata": {},
     "output_type": "execute_result"
    }
   ],
   "source": [
    "# Check which wells are DMSO\n",
    "dfs[dfs[\"Metadata_broad_sample_x\"] == 'DMSO'].Metadata_Well_x.value_counts()"
   ],
   "metadata": {
    "collapsed": false,
    "pycharm": {
     "name": "#%%\n"
    }
   }
  },
  {
   "cell_type": "markdown",
   "source": [
    "Take a easily classifiable compound. Mix them with DMSO and plot on PCA or UMAP\n",
    "Do the same thing with badly identifiable Compound!"
   ],
   "metadata": {
    "collapsed": false,
    "pycharm": {
     "name": "#%% md\n"
    }
   }
  },
  {
   "cell_type": "code",
   "execution_count": 215,
   "outputs": [],
   "source": [
    "# Top compounds for prediction:\n",
    "c = sort[:10].index.to_list()\n",
    "c.append('DMSO')"
   ],
   "metadata": {
    "collapsed": false,
    "pycharm": {
     "name": "#%%\n"
    }
   }
  },
  {
   "cell_type": "code",
   "execution_count": 245,
   "outputs": [
    {
     "name": "stderr",
     "output_type": "stream",
     "text": [
      "/Users/mbornhol/miniconda3/envs/cyto_eval/lib/python3.7/site-packages/IPython/core/interactiveshell.py:3166: DtypeWarning: Columns (12) have mixed types.Specify dtype option on import or set low_memory=False.\n",
      "  interactivity=interactivity, compiler=compiler, result=result)\n"
     ]
    }
   ],
   "source": [
    "df = pd.read_csv('/Users/mbornhol/git/neural-profiling/training/runs/819/819_aggregated_median.csv')"
   ],
   "metadata": {
    "collapsed": false,
    "pycharm": {
     "name": "#%%\n"
    }
   }
  },
  {
   "cell_type": "code",
   "execution_count": 246,
   "outputs": [],
   "source": [
    "df = df[df['Metadata_broad_sample'].isin(c)]"
   ],
   "metadata": {
    "collapsed": false,
    "pycharm": {
     "name": "#%%\n"
    }
   }
  },
  {
   "cell_type": "code",
   "execution_count": 219,
   "outputs": [
    {
     "data": {
      "text/plain": "DMSO                      3251\nBRD-K72414522-001-06-7       5\nBRD-K95901403-001-04-5       5\nBRD-K61691541-001-01-1       5\nBRD-K87909389-003-03-4       5\nBRD-K19687926-379-07-4       5\nBRD-K57169635-001-04-5       5\nBRD-K99113996-001-02-0       5\nBRD-K61195623-001-01-4       5\nBRD-A33280134-001-04-7       5\nBRD-K86882815-001-03-2       5\nName: Metadata_broad_sample, dtype: int64"
     },
     "execution_count": 219,
     "metadata": {},
     "output_type": "execute_result"
    }
   ],
   "source": [
    "from sklearn.decomposition import PCA\n",
    "df.Metadata_broad_sample.value_counts()"
   ],
   "metadata": {
    "collapsed": false,
    "pycharm": {
     "name": "#%%\n"
    }
   }
  },
  {
   "cell_type": "code",
   "execution_count": 247,
   "outputs": [
    {
     "name": "stdout",
     "output_type": "stream",
     "text": [
      "Explained variation per principal component: [0.06414899 0.04999811 0.04719665]\n"
     ]
    },
    {
     "data": {
      "text/plain": "<Figure size 432x288 with 1 Axes>",
      "image/png": "[encoded data removed]"
     },
     "metadata": {},
     "output_type": "display_data"
    }
   ],
   "source": [
    "features = [f for f in df.columns if f.startswith('eff')]\n",
    "pca = PCA(n_components=3)\n",
    "pca_result = pca.fit_transform(df[features].values)\n",
    "df['pca-one'] = pca_result[:,0]\n",
    "df['pca-two'] = pca_result[:,1]\n",
    "print('Explained variation per principal component: {}'.format(pca.explained_variance_ratio_))\n",
    "plt.style.use({'figure.facecolor':'white'})\n",
    "plt.scatter(df['pca-one'], df['pca-two'], s = 3, alpha= 0.4)\n",
    "plt.show()\n"
   ],
   "metadata": {
    "collapsed": false,
    "pycharm": {
     "name": "#%%\n"
    }
   }
  },
  {
   "cell_type": "code",
   "execution_count": 250,
   "outputs": [],
   "source": [
    "def is_dmso(sample):\n",
    "    if sample == 'DMSO':\n",
    "        return 0.8\n",
    "    else:\n",
    "        return 0"
   ],
   "metadata": {
    "collapsed": false,
    "pycharm": {
     "name": "#%%\n"
    }
   }
  },
  {
   "cell_type": "code",
   "execution_count": 251,
   "outputs": [
    {
     "data": {
      "text/plain": "<Figure size 432x288 with 1 Axes>",
      "image/png": "[encoded data removed]"
     },
     "metadata": {},
     "output_type": "display_data"
    }
   ],
   "source": [
    "df = df.sample(frac=1).reset_index(drop=True)\n",
    "df['color'] = df.Metadata_broad_sample.apply(is_dmso)\n",
    "plt.style.use({'figure.facecolor':'white'})\n",
    "plt.scatter(df['pca-one'], df['pca-two'], c = df['color'], marker= 'o', s = 2, alpha= 1- df['color'], cmap = 'prism')\n",
    "plt.show()"
   ],
   "metadata": {
    "collapsed": false,
    "pycharm": {
     "name": "#%%\n"
    }
   }
  },
  {
   "cell_type": "code",
   "execution_count": 222,
   "outputs": [],
   "source": [
    "# try umap\n",
    "import umap\n",
    "reducer = umap.UMAP()"
   ],
   "metadata": {
    "collapsed": false,
    "pycharm": {
     "name": "#%%\n"
    }
   }
  },
  {
   "cell_type": "code",
   "execution_count": 224,
   "outputs": [
    {
     "data": {
      "text/plain": "(3301, 2)"
     },
     "execution_count": 224,
     "metadata": {},
     "output_type": "execute_result"
    }
   ],
   "source": [
    "embedding = reducer.fit_transform(df[features])\n",
    "embedding.shape"
   ],
   "metadata": {
    "collapsed": false,
    "pycharm": {
     "name": "#%%\n"
    }
   }
  },
  {
   "cell_type": "code",
   "execution_count": 235,
   "outputs": [
    {
     "data": {
      "text/plain": "Text(0.5, 1.0, 'UMAP projection of the Penguin dataset')"
     },
     "execution_count": 235,
     "metadata": {},
     "output_type": "execute_result"
    },
    {
     "data": {
      "text/plain": "<Figure size 432x288 with 1 Axes>",
      "image/png": "[encoded data removed]"
     },
     "metadata": {},
     "output_type": "display_data"
    }
   ],
   "source": [
    "df['color'] = df.Metadata_broad_sample.apply(is_dmso)\n",
    "plt.scatter(\n",
    "    embedding[:, 0],\n",
    "    embedding[:, 1],\n",
    "    c = df['color'],\n",
    "alpha= 1- df['color'])\n",
    "plt.gca().set_aspect('equal', 'datalim')\n",
    "plt.title('UMAP projection of the Penguin dataset', fontsize=24)"
   ],
   "metadata": {
    "collapsed": false,
    "pycharm": {
     "name": "#%%\n"
    }
   }
  },
  {
   "cell_type": "code",
   "execution_count": 252,
   "outputs": [],
   "source": [
    "# Do the same things above but with spherized data.\n",
    "# df = pd.read_csv('/Users/mbornhol/git/neural-profiling/training/runs/819/819_aggregated_median.csv')\n",
    "features = [f for f in df.columns if f.startswith('eff')]\n",
    "from pycytominer import aggregate, normalize\n",
    "sphere = normalize(\n",
    "    profiles=df,\n",
    "    features=features,\n",
    "    samples=\"Metadata_broad_sample == 'DMSO'\",\n",
    "    method='spherize',\n",
    "    output_file='none'\n",
    ")\n"
   ],
   "metadata": {
    "collapsed": false,
    "pycharm": {
     "name": "#%%\n"
    }
   }
  },
  {
   "cell_type": "code",
   "execution_count": 253,
   "outputs": [
    {
     "name": "stdout",
     "output_type": "stream",
     "text": [
      "Explained variation per principal component: [0.08827497 0.0475594  0.0345471 ]\n"
     ]
    },
    {
     "data": {
      "text/plain": "<Figure size 432x288 with 1 Axes>",
      "image/png": "[encoded data removed]"
     },
     "metadata": {},
     "output_type": "display_data"
    }
   ],
   "source": [
    "sphere = sphere.sample(frac=1).reset_index(drop=True)\n",
    "pca = PCA(n_components=3)\n",
    "pca_result = pca.fit_transform(sphere[features].values)\n",
    "sphere['pca-one'] = pca_result[:,0]\n",
    "sphere['pca-two'] = pca_result[:,1]\n",
    "print('Explained variation per principal component: {}'.format(pca.explained_variance_ratio_))\n",
    "sphere['color'] = sphere.Metadata_broad_sample.apply(is_dmso)\n",
    "plt.style.use({'figure.facecolor':'white'})\n",
    "plt.scatter(sphere['pca-one'], sphere['pca-two'], c = sphere['color'], marker= 'o', s = 2, alpha= 1- sphere['color'], cmap = 'prism')\n",
    "plt.show()\n",
    "\n"
   ],
   "metadata": {
    "collapsed": false,
    "pycharm": {
     "name": "#%%\n"
    }
   }
  },
  {
   "cell_type": "code",
   "execution_count": null,
   "outputs": [],
   "source": [],
   "metadata": {
    "collapsed": false,
    "pycharm": {
     "name": "#%%\n"
    }
   }
  }
 ],
 "metadata": {
  "kernelspec": {
   "display_name": "Python 3",
   "language": "python",
   "name": "python3"
  },
  "language_info": {
   "codemirror_mode": {
    "name": "ipython",
    "version": 2
   },
   "file_extension": ".py",
   "mimetype": "text/x-python",
   "name": "python",
   "nbconvert_exporter": "python",
   "pygments_lexer": "ipython2",
   "version": "2.7.6"
  }
 },
 "nbformat": 4,
 "nbformat_minor": 0
}