{
 "cells": [
  {
   "cell_type": "code",
   "execution_count": null,
   "metadata": {
    "collapsed": true
   },
   "outputs": [],
   "source": [
    "# First training results\n",
    "\n",
    "https://www.comet.ml/michaelbornholdt/deepprofiler-lincs/3751bddf2ea24527a7f617becbe89383"
   ]
  },
  {
   "cell_type": "code",
   "execution_count": 1,
   "outputs": [],
   "source": [
    "import pandas as pd\n",
    "import numpy as np\n",
    "import matplotlib.pyplot as plt\n",
    "from pycytominer import aggregate, annotate, normalize, feature_select, cyto_utils\n",
    "from cytominer_eval import evaluate\n",
    "from cytominer_eval.transform import metric_melt\n",
    "from sklearn.decomposition import PCA\n",
    "import sys\n",
    "#sys.path.insert(0, \"/Users/mbornhol/git/neural-profiling\")"
   ],
   "metadata": {
    "collapsed": false,
    "pycharm": {
     "name": "#%%\n"
    }
   }
  },
  {
   "cell_type": "code",
   "execution_count": 9,
   "outputs": [],
   "source": [
    "df = pd.read_csv('727_aggregated_median.csv', low_memory=False)"
   ],
   "metadata": {
    "collapsed": false,
    "pycharm": {
     "name": "#%%\n"
    }
   }
  },
  {
   "cell_type": "code",
   "execution_count": 10,
   "outputs": [],
   "source": [
    "df_meta = pd.read_csv('/Users/mbornhol/git/neural-profiling/pre-trained/data-prep/02_index_preperation/repurposing_info_external_moa_map_resolved.tsv', sep='\\t')\n",
    "df_meta = df_meta[['broad_sample', 'moa']]\n",
    "df_meta.rename(columns = {'broad_sample' : 'Metadata_broad_sample', 'moa' : 'Metadata_moa'}, inplace=True)"
   ],
   "metadata": {
    "collapsed": false,
    "pycharm": {
     "name": "#%%\n"
    }
   }
  },
  {
   "cell_type": "code",
   "execution_count": 11,
   "outputs": [],
   "source": [
    "features = [f for f in df.columns if f.startswith('eff')]\n",
    "meta_features = [feat for feat in df.columns if feat not in features]\n",
    "top_moa = df.Metadata_moa.value_counts()[1:20].keys().tolist()"
   ],
   "metadata": {
    "collapsed": false,
    "pycharm": {
     "name": "#%%\n"
    }
   }
  },
  {
   "cell_type": "code",
   "execution_count": 12,
   "outputs": [],
   "source": [
    "k_range = [5, 10, 15, 20, 25]\n",
    "p_range = np.arange(0.995, 0.96, -0.005)"
   ],
   "metadata": {
    "collapsed": false,
    "pycharm": {
     "name": "#%%\n"
    }
   }
  },
  {
   "cell_type": "code",
   "execution_count": 14,
   "outputs": [],
   "source": [
    "df = df.rename(columns={'Metadata_Compound' : 'Metadata_broad_sample'})"
   ],
   "metadata": {
    "collapsed": false,
    "pycharm": {
     "name": "#%%\n"
    }
   }
  },
  {
   "cell_type": "code",
   "execution_count": 15,
   "outputs": [],
   "source": [
    "sphere = normalize(\n",
    "    profiles=df,\n",
    "    features=features,\n",
    "    samples=\"Metadata_broad_sample == 'DMSO'\",\n",
    "    method='spherize',\n",
    "    output_file='none'\n",
    ")"
   ],
   "metadata": {
    "collapsed": false,
    "pycharm": {
     "name": "#%%\n"
    }
   }
  },
  {
   "cell_type": "code",
   "execution_count": 16,
   "outputs": [],
   "source": [
    "con = aggregate(\n",
    "    sphere,\n",
    "    strata=[\"Metadata_broad_sample\"],\n",
    "    features=features\n",
    ")"
   ],
   "metadata": {
    "collapsed": false,
    "pycharm": {
     "name": "#%%\n"
    }
   }
  },
  {
   "cell_type": "code",
   "execution_count": 17,
   "outputs": [
    {
     "data": {
      "text/plain": "   enrichment_percentile  threshold  ods_ratio   p-value\n0                  0.995   0.991040   0.000000  1.000000\n1                  0.990   0.989737   0.000000  1.000000\n2                  0.985   0.987814   0.000000  1.000000\n3                  0.980   0.985724   0.000000  1.000000\n4                  0.975   0.984200   1.872294  0.300357\n5                  0.970   0.982916   1.546271  0.381833\n6                  0.965   0.981070   1.314900  0.459379\n7                  0.960   0.978640   1.142186  0.531309",
      "text/html": "<div>\n<style scoped>\n    .dataframe tbody tr th:only-of-type {\n        vertical-align: middle;\n    }\n\n    .dataframe tbody tr th {\n        vertical-align: top;\n    }\n\n    .dataframe thead th {\n        text-align: right;\n    }\n</style>\n<table border=\"1\" class=\"dataframe\">\n  <thead>\n    <tr style=\"text-align: right;\">\n      <th></th>\n      <th>enrichment_percentile</th>\n      <th>threshold</th>\n      <th>ods_ratio</th>\n      <th>p-value</th>\n    </tr>\n  </thead>\n  <tbody>\n    <tr>\n      <th>0</th>\n      <td>0.995</td>\n      <td>0.991040</td>\n      <td>0.000000</td>\n      <td>1.000000</td>\n    </tr>\n    <tr>\n      <th>1</th>\n      <td>0.990</td>\n      <td>0.989737</td>\n      <td>0.000000</td>\n      <td>1.000000</td>\n    </tr>\n    <tr>\n      <th>2</th>\n      <td>0.985</td>\n      <td>0.987814</td>\n      <td>0.000000</td>\n      <td>1.000000</td>\n    </tr>\n    <tr>\n      <th>3</th>\n      <td>0.980</td>\n      <td>0.985724</td>\n      <td>0.000000</td>\n      <td>1.000000</td>\n    </tr>\n    <tr>\n      <th>4</th>\n      <td>0.975</td>\n      <td>0.984200</td>\n      <td>1.872294</td>\n      <td>0.300357</td>\n    </tr>\n    <tr>\n      <th>5</th>\n      <td>0.970</td>\n      <td>0.982916</td>\n      <td>1.546271</td>\n      <td>0.381833</td>\n    </tr>\n    <tr>\n      <th>6</th>\n      <td>0.965</td>\n      <td>0.981070</td>\n      <td>1.314900</td>\n      <td>0.459379</td>\n    </tr>\n    <tr>\n      <th>7</th>\n      <td>0.960</td>\n      <td>0.978640</td>\n      <td>1.142186</td>\n      <td>0.531309</td>\n    </tr>\n  </tbody>\n</table>\n</div>"
     },
     "execution_count": 17,
     "metadata": {},
     "output_type": "execute_result"
    }
   ],
   "source": [
    "con = pd.merge(con, df_meta, how='left', on=['Metadata_broad_sample'])\n",
    "res_sphere = evaluate(\n",
    "        profiles=con,\n",
    "        features=features,\n",
    "        meta_features=['Metadata_broad_sample', \"Metadata_moa\"],\n",
    "        replicate_groups=[\"Metadata_moa\"],\n",
    "        operation=\"enrichment\",\n",
    "        similarity_metric=\"pearson\",\n",
    "        enrichment_percentile=p_range\n",
    "    )\n",
    "res_sphere"
   ],
   "metadata": {
    "collapsed": false,
    "pycharm": {
     "name": "#%%\n"
    }
   }
  },
  {
   "cell_type": "code",
   "execution_count": 5,
   "outputs": [
    {
     "data": {
      "text/plain": "Index(['Unnamed: 0', 'Metadata_Aggregate_On', 'Metadata_Well_Position',\n       'Metadata_Plate', 'Metadata_Well', 'Metadata_moa',\n       'Metadata_mmoles_per_liter', 'Metadata_dose_recode',\n       'Metadata_Concentration', 'Metadata_Treatment_ID',\n       ...\n       'efficientnet_1270', 'efficientnet_1271', 'efficientnet_1272',\n       'efficientnet_1273', 'efficientnet_1274', 'efficientnet_1275',\n       'efficientnet_1276', 'efficientnet_1277', 'efficientnet_1278',\n       'efficientnet_1279'],\n      dtype='object', length=1296)"
     },
     "execution_count": 5,
     "metadata": {},
     "output_type": "execute_result"
    }
   ],
   "source": [
    "df.columns"
   ],
   "metadata": {
    "collapsed": false,
    "pycharm": {
     "name": "#%%\n"
    }
   }
  },
  {
   "cell_type": "code",
   "execution_count": 6,
   "outputs": [],
   "source": [
    "df = pd.merge(df, df_meta, how='left', right_on=['Metadata_broad_sample'], left_on=['Metadata_Compound'])"
   ],
   "metadata": {
    "collapsed": false,
    "pycharm": {
     "name": "#%%\n"
    }
   }
  },
  {
   "cell_type": "code",
   "execution_count": 25,
   "outputs": [],
   "source": [
    "d = {}\n",
    "for moa in df.Metadata_moa.unique():\n",
    "    d[moa] = len(df[df['Metadata_moa'] == moa].Metadata_broad_sample.unique())"
   ],
   "metadata": {
    "collapsed": false,
    "pycharm": {
     "name": "#%%\n"
    }
   }
  },
  {
   "cell_type": "code",
   "execution_count": 26,
   "outputs": [
    {
     "data": {
      "text/plain": "{'unknown': 1,\n 'acetylcholine receptor antagonist': 3,\n 'HMGCR inhibitor': 2,\n 'HDAC inhibitor': 2,\n 'bacterial DNA gyrase inhibitor': 1,\n 'EGFR inhibitor|protein tyrosine kinase inhibitor': 1,\n 'DNA methyltransferase inhibitor': 1,\n 'fungal squalene epoxidase inhibitor': 1,\n 'benzodiazepine receptor agonist': 1,\n 'PKC activator': 1,\n 'adrenergic receptor agonist': 1,\n 'Aurora kinase inhibitor': 1,\n 'gamma secretase inhibitor': 2,\n 'glutamate receptor antagonist': 1,\n 'CFTR channel agonist': 1,\n 'calcium channel blocker': 1,\n 'serotonin receptor agonist|serotonin receptor antagonist': 2,\n 'EGFR inhibitor': 2,\n 'hypoxia inducible factor inhibitor': 1,\n 'DNA alkylating agent': 1,\n 'sodium channel blocker': 1,\n 'XIAP inhibitor': 2,\n 'HSP inhibitor': 1,\n 'AKT inhibitor': 2,\n 'angiotensin converting enzyme inhibitor': 2,\n 'leukotriene receptor antagonist': 1,\n '5 alpha reductase inhibitor': 1,\n 'adrenergic receptor antagonist': 3,\n 'c-Met inhibitor': 1,\n 'vitamin D receptor agonist': 1,\n 'histamine receptor antagonist': 2,\n 'P glycoprotein inhibitor': 1,\n 'CDK inhibitor': 1,\n 'calcineurin inhibitor': 1,\n 'Pim kinase inhibitor': 1,\n 'RNA polymerase inhibitor': 1,\n 'vasopressin receptor antagonist': 1,\n 'dipeptidyl peptidase inhibitor': 1,\n 'BCL inhibitor': 1,\n 'ACAT inhibitor': 2,\n 'cannabinoid receptor agonist': 1,\n 'dopamine reuptake inhibitor': 1,\n 'benzodiazepine receptor antagonist': 1,\n 'topoisomerase inhibitor': 1,\n 'HCV inhibitor': 3,\n 'dopamine receptor antagonist|serotonin receptor antagonist': 2,\n 'serotonin transporter (SERT) inhibitor': 1,\n 'Bcr-Abl kinase inhibitor': 1,\n 'VEGFR inhibitor': 1,\n 'estrogen receptor agonist|glucocorticoid receptor antagonist|progesterone receptor agonist|progesterone receptor antagonist': 1,\n \"Bruton's tyrosine kinase (BTK) inhibitor\": 1,\n 'PLK inhibitor': 2,\n 'selective serotonin reuptake inhibitor (SSRI)': 2,\n 'sigma receptor antagonist': 1,\n 'adenosine receptor antagonist': 1,\n 'cyclooxygenase inhibitor': 1,\n 'carbonic anhydrase inhibitor': 1,\n 'ribonucleotide reductase inhibitor': 1,\n 'T-type calcium channel blocker': 1,\n 'sterol demethylase inhibitor': 1,\n 'acetylcholine receptor agonist': 1,\n 'glutamate receptor agonist': 1,\n 'adenosine receptor agonist': 1,\n 'cytochrome P450 inhibitor': 1,\n 'serotonin receptor agonist': 1,\n 'ALK tyrosine kinase receptor inhibitor': 1}"
     },
     "execution_count": 26,
     "metadata": {},
     "output_type": "execute_result"
    }
   ],
   "source": [
    "d"
   ],
   "metadata": {
    "collapsed": false,
    "pycharm": {
     "name": "#%%\n"
    }
   }
  },
  {
   "cell_type": "code",
   "execution_count": 27,
   "outputs": [],
   "source": [
    "index = pd.read_csv('/Users/mbornhol/git/neural-profiling/pre-trained/data-prep/02_index_preperation/sub_index.csv')"
   ],
   "metadata": {
    "collapsed": false,
    "pycharm": {
     "name": "#%%\n"
    }
   }
  },
  {
   "cell_type": "code",
   "execution_count": null,
   "outputs": [],
   "source": [],
   "metadata": {
    "collapsed": false,
    "pycharm": {
     "name": "#%%\n"
    }
   }
  }
 ],
 "metadata": {
  "kernelspec": {
   "display_name": "Python 3",
   "language": "python",
   "name": "python3"
  },
  "language_info": {
   "codemirror_mode": {
    "name": "ipython",
    "version": 2
   },
   "file_extension": ".py",
   "mimetype": "text/x-python",
   "name": "python",
   "nbconvert_exporter": "python",
   "pygments_lexer": "ipython2",
   "version": "2.7.6"
  }
 },
 "nbformat": 4,
 "nbformat_minor": 0
}