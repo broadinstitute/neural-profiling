{
 "cells": [
  {
   "cell_type": "code",
   "execution_count": 1,
   "metadata": {
    "collapsed": true
   },
   "outputs": [],
   "source": [
    "import matplotlib.pyplot as plt\n",
    "import numpy as np\n",
    "import pandas as pd\n",
    "import sys\n",
    "sys.path.insert(0, \"/Users/mbornhol/git/neural-profiling\")\n",
    "from utils import eval"
   ]
  },
  {
   "cell_type": "code",
   "execution_count": 48,
   "outputs": [
    {
     "name": "stderr",
     "output_type": "stream",
     "text": [
      "/Users/mbornhol/miniconda3/envs/cyto_eval/lib/python3.7/site-packages/IPython/core/interactiveshell.py:3166: DtypeWarning: Columns (12) have mixed types.Specify dtype option on import or set low_memory=False.\n",
      "  interactivity=interactivity, compiler=compiler, result=result)\n"
     ]
    }
   ],
   "source": [
    "df = pd.read_csv(\"1014_aggregated_median.csv\")\n",
    "features = [f for f in df.columns if f.startswith(\"res\")]"
   ],
   "metadata": {
    "collapsed": false,
    "pycharm": {
     "name": "#%%\n"
    }
   }
  },
  {
   "cell_type": "code",
   "execution_count": 49,
   "outputs": [
    {
     "data": {
      "text/plain": "25"
     },
     "execution_count": 49,
     "metadata": {},
     "output_type": "execute_result"
    }
   ],
   "source": [
    "drops = [c for c in features if df[c].max() == 0]\n",
    "len(drops)"
   ],
   "metadata": {
    "collapsed": false,
    "pycharm": {
     "name": "#%%\n"
    }
   }
  },
  {
   "cell_type": "code",
   "execution_count": 50,
   "outputs": [
    {
     "data": {
      "text/plain": "(8745, 2041)"
     },
     "execution_count": 50,
     "metadata": {},
     "output_type": "execute_result"
    }
   ],
   "source": [
    "df = df.drop(columns=drops)\n",
    "df.shape"
   ],
   "metadata": {
    "collapsed": false,
    "pycharm": {
     "name": "#%%\n"
    }
   }
  },
  {
   "cell_type": "code",
   "execution_count": 62,
   "outputs": [
    {
     "data": {
      "text/plain": "(8745, 153)"
     },
     "execution_count": 62,
     "metadata": {},
     "output_type": "execute_result"
    }
   ],
   "source": [
    "from pycytominer import aggregate, annotate, normalize, feature_select, cyto_utils\n",
    "feature_select_ops = [\n",
    "    \"variance_threshold\",\n",
    "    #\"drop_outliers\",\n",
    "]\n",
    "select = feature_select(\n",
    "    profiles=df,\n",
    "    features=[f for f in df.columns if f.startswith(\"res\")],\n",
    "    operation=feature_select_ops,\n",
    "    freq_cut=0.0005,\n",
    "    unique_cut=0.0005,\n",
    "    outlier_cutoff=100,\n",
    ")\n",
    "select.shape"
   ],
   "metadata": {
    "collapsed": false,
    "pycharm": {
     "name": "#%%\n"
    }
   }
  },
  {
   "cell_type": "code",
   "execution_count": 63,
   "outputs": [
    {
     "name": "stdout",
     "output_type": "stream",
     "text": [
      "135 features were identified\n"
     ]
    }
   ],
   "source": [
    "# df = pd.read_csv(\"1014_aggregated_median.csv\")\n",
    "e = eval.evaluation(select, prefix='res')\n",
    "df = e.norm_agg()\n",
    "name = 'df'"
   ],
   "metadata": {
    "collapsed": false,
    "pycharm": {
     "name": "#%%\n"
    }
   }
  },
  {
   "cell_type": "code",
   "execution_count": 64,
   "outputs": [],
   "source": [
    "exec(name + \"_pre = eval.prec_mean(e.eval(\" + name + \", operation = 'precision_recall'))\")\n",
    "#exec(name + \"_pre_r = e.eval(\" + name + \", operation = 'precision_recall', eval_range='R').precision.mean()\")\n",
    "#exec(name + \"_hit = eval.hitk_prep(e.eval(\" + name + \", operation = 'hitk'))\")\n",
    "exec(name + \"_enr = e.eval(\" + name + \", operation = 'enrichment')\")"
   ],
   "metadata": {
    "collapsed": false,
    "pycharm": {
     "name": "#%%\n"
    }
   }
  },
  {
   "cell_type": "code",
   "execution_count": 65,
   "outputs": [
    {
     "data": {
      "text/plain": "   enrichment_percentile  threshold  ods_ratio        p-value     k  \\\n0                  0.995   0.584016   9.372555  8.360877e-242   5.0   \n1                  0.990   0.499606   6.637945  9.288777e-266  10.0   \n2                  0.985   0.441615   5.590717  2.554551e-286  15.0   \n3                  0.980   0.398139   4.906226  1.256426e-292  20.0   \n4                  0.975   0.363569   4.367226  5.783100e-286  25.0   \n5                  0.970   0.335096   3.972233  5.468834e-278  30.0   \n6                  0.965   0.311483   3.694446  1.359242e-273  40.0   \n7                  0.960   0.291657   3.456896  3.126528e-266  50.0   \n\n   precision    recall  \n0   0.050919  0.038768  \n1   0.038408  0.053394  \n2   0.034704  0.070726  \n3   0.031452  0.083740  \n4   0.028066  0.092798  \n5   0.025984  0.100872  \n6   0.023272  0.117395  \n7   0.021242  0.134453  ",
      "text/html": "<div>\n<style scoped>\n    .dataframe tbody tr th:only-of-type {\n        vertical-align: middle;\n    }\n\n    .dataframe tbody tr th {\n        vertical-align: top;\n    }\n\n    .dataframe thead th {\n        text-align: right;\n    }\n</style>\n<table border=\"1\" class=\"dataframe\">\n  <thead>\n    <tr style=\"text-align: right;\">\n      <th></th>\n      <th>enrichment_percentile</th>\n      <th>threshold</th>\n      <th>ods_ratio</th>\n      <th>p-value</th>\n      <th>k</th>\n      <th>precision</th>\n      <th>recall</th>\n    </tr>\n  </thead>\n  <tbody>\n    <tr>\n      <th>0</th>\n      <td>0.995</td>\n      <td>0.584016</td>\n      <td>9.372555</td>\n      <td>8.360877e-242</td>\n      <td>5.0</td>\n      <td>0.050919</td>\n      <td>0.038768</td>\n    </tr>\n    <tr>\n      <th>1</th>\n      <td>0.990</td>\n      <td>0.499606</td>\n      <td>6.637945</td>\n      <td>9.288777e-266</td>\n      <td>10.0</td>\n      <td>0.038408</td>\n      <td>0.053394</td>\n    </tr>\n    <tr>\n      <th>2</th>\n      <td>0.985</td>\n      <td>0.441615</td>\n      <td>5.590717</td>\n      <td>2.554551e-286</td>\n      <td>15.0</td>\n      <td>0.034704</td>\n      <td>0.070726</td>\n    </tr>\n    <tr>\n      <th>3</th>\n      <td>0.980</td>\n      <td>0.398139</td>\n      <td>4.906226</td>\n      <td>1.256426e-292</td>\n      <td>20.0</td>\n      <td>0.031452</td>\n      <td>0.083740</td>\n    </tr>\n    <tr>\n      <th>4</th>\n      <td>0.975</td>\n      <td>0.363569</td>\n      <td>4.367226</td>\n      <td>5.783100e-286</td>\n      <td>25.0</td>\n      <td>0.028066</td>\n      <td>0.092798</td>\n    </tr>\n    <tr>\n      <th>5</th>\n      <td>0.970</td>\n      <td>0.335096</td>\n      <td>3.972233</td>\n      <td>5.468834e-278</td>\n      <td>30.0</td>\n      <td>0.025984</td>\n      <td>0.100872</td>\n    </tr>\n    <tr>\n      <th>6</th>\n      <td>0.965</td>\n      <td>0.311483</td>\n      <td>3.694446</td>\n      <td>1.359242e-273</td>\n      <td>40.0</td>\n      <td>0.023272</td>\n      <td>0.117395</td>\n    </tr>\n    <tr>\n      <th>7</th>\n      <td>0.960</td>\n      <td>0.291657</td>\n      <td>3.456896</td>\n      <td>3.126528e-266</td>\n      <td>50.0</td>\n      <td>0.021242</td>\n      <td>0.134453</td>\n    </tr>\n  </tbody>\n</table>\n</div>"
     },
     "execution_count": 65,
     "metadata": {},
     "output_type": "execute_result"
    }
   ],
   "source": [
    "res = pd.concat([df_enr, df_pre], ignore_index=False, axis=1)\n",
    "res.to_csv('results.csv')\n",
    "\n",
    "res"
   ],
   "metadata": {
    "collapsed": false,
    "pycharm": {
     "name": "#%%\n"
    }
   }
  },
  {
   "cell_type": "code",
   "execution_count": 5,
   "outputs": [
    {
     "name": "stderr",
     "output_type": "stream",
     "text": [
      "/Users/mbornhol/miniconda3/envs/cyto_eval/lib/python3.7/site-packages/IPython/core/interactiveshell.py:3166: DtypeWarning: Columns (12) have mixed types.Specify dtype option on import or set low_memory=False.\n",
      "  interactivity=interactivity, compiler=compiler, result=result)\n"
     ]
    },
    {
     "data": {
      "text/plain": "      Unnamed: 0 Metadata_Aggregate_On Metadata_Well_Position Metadata_Plate  \\\n0              0                  well         SQ00014812/A01     SQ00014812   \n1              1                  well         SQ00014812/A02     SQ00014812   \n2              2                  well         SQ00014812/A03     SQ00014812   \n3              3                  well         SQ00014812/A04     SQ00014812   \n4              4                  well         SQ00014812/A05     SQ00014812   \n...          ...                   ...                    ...            ...   \n8740        8740                  well         SQ00015198/P13     SQ00015198   \n8741        8741                  well         SQ00015230/P13     SQ00015230   \n8742        8742                  well         SQ00015231/P13     SQ00015231   \n8743        8743                  well         SQ00015232/P13     SQ00015232   \n8744        8744                  well         SQ00015233/P13     SQ00015233   \n\n     Metadata_Well   Metadata_broad_sample                   Metadata_moa  \\\n0              A01                    DMSO                        unknown   \n1              A02                    DMSO                        unknown   \n2              A03                    DMSO                        unknown   \n3              A04                    DMSO                        unknown   \n4              A05                    DMSO                        unknown   \n...            ...                     ...                            ...   \n8740           P13  BRD-K41599323-001-02-3  farnesyltransferase inhibitor   \n8741           P13  BRD-K41599323-001-02-3  farnesyltransferase inhibitor   \n8742           P13  BRD-K41599323-001-02-3  farnesyltransferase inhibitor   \n8743           P13  BRD-K41599323-001-02-3  farnesyltransferase inhibitor   \n8744           P13  BRD-K41599323-001-02-3  farnesyltransferase inhibitor   \n\n      Metadata_mmoles_per_liter  Metadata_dose_recode  Metadata_Concentration  \\\n0                           0.0                     0                     NaN   \n1                           0.0                     0                     NaN   \n2                           0.0                     0                     NaN   \n3                           0.0                     0                     NaN   \n4                           0.0                     0                     NaN   \n...                         ...                   ...                     ...   \n8740                       10.0                     6                    10.0   \n8741                       10.0                     6                    10.0   \n8742                       10.0                     6                    10.0   \n8743                       10.0                     6                    10.0   \n8744                       10.0                     6                    10.0   \n\n      ...  efficientnet_1270 efficientnet_1271 efficientnet_1272  \\\n0     ...      -6.789429e-07          0.000004         -0.000004   \n1     ...      -8.437809e-07          0.000003         -0.000004   \n2     ...      -8.908827e-07          0.000003         -0.000004   \n3     ...      -7.871906e-07          0.000003         -0.000004   \n4     ...      -7.892552e-07          0.000004         -0.000004   \n...   ...                ...               ...               ...   \n8740  ...      -1.351541e-06          0.000002         -0.000004   \n8741  ...      -1.430406e-06          0.000003         -0.000004   \n8742  ...      -1.552765e-06          0.000003         -0.000004   \n8743  ...      -1.573057e-06          0.000003         -0.000004   \n8744  ...      -1.573262e-06          0.000003         -0.000004   \n\n      efficientnet_1273 efficientnet_1274 efficientnet_1275 efficientnet_1276  \\\n0              0.000003          0.000003         -0.000003         -0.000002   \n1              0.000003          0.000003         -0.000003         -0.000002   \n2              0.000003          0.000003         -0.000003         -0.000002   \n3              0.000003          0.000003         -0.000003         -0.000002   \n4              0.000003          0.000003         -0.000003         -0.000002   \n...                 ...               ...               ...               ...   \n8740           0.000003          0.000002         -0.000002         -0.000002   \n8741           0.000003          0.000003         -0.000003         -0.000002   \n8742           0.000003          0.000003         -0.000003         -0.000002   \n8743           0.000003          0.000003         -0.000003         -0.000002   \n8744           0.000003          0.000003         -0.000003         -0.000002   \n\n     efficientnet_1277  efficientnet_1278  efficientnet_1279  \n0        -4.985976e-07      -9.679805e-07           0.000002  \n1        -7.366856e-07      -1.029155e-06           0.000002  \n2        -7.911593e-07      -1.123078e-06           0.000002  \n3        -8.032482e-07      -1.050589e-06           0.000002  \n4        -7.762644e-07      -1.054073e-06           0.000002  \n...                ...                ...                ...  \n8740     -6.998772e-07      -1.418709e-06           0.000001  \n8741     -4.837283e-07      -1.599845e-06           0.000001  \n8742     -4.827804e-07      -1.777435e-06           0.000001  \n8743     -5.991865e-07      -1.693699e-06           0.000001  \n8744     -6.470434e-07      -1.728738e-06           0.000001  \n\n[8745 rows x 1298 columns]",
      "text/html": "<div>\n<style scoped>\n    .dataframe tbody tr th:only-of-type {\n        vertical-align: middle;\n    }\n\n    .dataframe tbody tr th {\n        vertical-align: top;\n    }\n\n    .dataframe thead th {\n        text-align: right;\n    }\n</style>\n<table border=\"1\" class=\"dataframe\">\n  <thead>\n    <tr style=\"text-align: right;\">\n      <th></th>\n      <th>Unnamed: 0</th>\n      <th>Metadata_Aggregate_On</th>\n      <th>Metadata_Well_Position</th>\n      <th>Metadata_Plate</th>\n      <th>Metadata_Well</th>\n      <th>Metadata_broad_sample</th>\n      <th>Metadata_moa</th>\n      <th>Metadata_mmoles_per_liter</th>\n      <th>Metadata_dose_recode</th>\n      <th>Metadata_Concentration</th>\n      <th>...</th>\n      <th>efficientnet_1270</th>\n      <th>efficientnet_1271</th>\n      <th>efficientnet_1272</th>\n      <th>efficientnet_1273</th>\n      <th>efficientnet_1274</th>\n      <th>efficientnet_1275</th>\n      <th>efficientnet_1276</th>\n      <th>efficientnet_1277</th>\n      <th>efficientnet_1278</th>\n      <th>efficientnet_1279</th>\n    </tr>\n  </thead>\n  <tbody>\n    <tr>\n      <th>0</th>\n      <td>0</td>\n      <td>well</td>\n      <td>SQ00014812/A01</td>\n      <td>SQ00014812</td>\n      <td>A01</td>\n      <td>DMSO</td>\n      <td>unknown</td>\n      <td>0.0</td>\n      <td>0</td>\n      <td>NaN</td>\n      <td>...</td>\n      <td>-6.789429e-07</td>\n      <td>0.000004</td>\n      <td>-0.000004</td>\n      <td>0.000003</td>\n      <td>0.000003</td>\n      <td>-0.000003</td>\n      <td>-0.000002</td>\n      <td>-4.985976e-07</td>\n      <td>-9.679805e-07</td>\n      <td>0.000002</td>\n    </tr>\n    <tr>\n      <th>1</th>\n      <td>1</td>\n      <td>well</td>\n      <td>SQ00014812/A02</td>\n      <td>SQ00014812</td>\n      <td>A02</td>\n      <td>DMSO</td>\n      <td>unknown</td>\n      <td>0.0</td>\n      <td>0</td>\n      <td>NaN</td>\n      <td>...</td>\n      <td>-8.437809e-07</td>\n      <td>0.000003</td>\n      <td>-0.000004</td>\n      <td>0.000003</td>\n      <td>0.000003</td>\n      <td>-0.000003</td>\n      <td>-0.000002</td>\n      <td>-7.366856e-07</td>\n      <td>-1.029155e-06</td>\n      <td>0.000002</td>\n    </tr>\n    <tr>\n      <th>2</th>\n      <td>2</td>\n      <td>well</td>\n      <td>SQ00014812/A03</td>\n      <td>SQ00014812</td>\n      <td>A03</td>\n      <td>DMSO</td>\n      <td>unknown</td>\n      <td>0.0</td>\n      <td>0</td>\n      <td>NaN</td>\n      <td>...</td>\n      <td>-8.908827e-07</td>\n      <td>0.000003</td>\n      <td>-0.000004</td>\n      <td>0.000003</td>\n      <td>0.000003</td>\n      <td>-0.000003</td>\n      <td>-0.000002</td>\n      <td>-7.911593e-07</td>\n      <td>-1.123078e-06</td>\n      <td>0.000002</td>\n    </tr>\n    <tr>\n      <th>3</th>\n      <td>3</td>\n      <td>well</td>\n      <td>SQ00014812/A04</td>\n      <td>SQ00014812</td>\n      <td>A04</td>\n      <td>DMSO</td>\n      <td>unknown</td>\n      <td>0.0</td>\n      <td>0</td>\n      <td>NaN</td>\n      <td>...</td>\n      <td>-7.871906e-07</td>\n      <td>0.000003</td>\n      <td>-0.000004</td>\n      <td>0.000003</td>\n      <td>0.000003</td>\n      <td>-0.000003</td>\n      <td>-0.000002</td>\n      <td>-8.032482e-07</td>\n      <td>-1.050589e-06</td>\n      <td>0.000002</td>\n    </tr>\n    <tr>\n      <th>4</th>\n      <td>4</td>\n      <td>well</td>\n      <td>SQ00014812/A05</td>\n      <td>SQ00014812</td>\n      <td>A05</td>\n      <td>DMSO</td>\n      <td>unknown</td>\n      <td>0.0</td>\n      <td>0</td>\n      <td>NaN</td>\n      <td>...</td>\n      <td>-7.892552e-07</td>\n      <td>0.000004</td>\n      <td>-0.000004</td>\n      <td>0.000003</td>\n      <td>0.000003</td>\n      <td>-0.000003</td>\n      <td>-0.000002</td>\n      <td>-7.762644e-07</td>\n      <td>-1.054073e-06</td>\n      <td>0.000002</td>\n    </tr>\n    <tr>\n      <th>...</th>\n      <td>...</td>\n      <td>...</td>\n      <td>...</td>\n      <td>...</td>\n      <td>...</td>\n      <td>...</td>\n      <td>...</td>\n      <td>...</td>\n      <td>...</td>\n      <td>...</td>\n      <td>...</td>\n      <td>...</td>\n      <td>...</td>\n      <td>...</td>\n      <td>...</td>\n      <td>...</td>\n      <td>...</td>\n      <td>...</td>\n      <td>...</td>\n      <td>...</td>\n      <td>...</td>\n    </tr>\n    <tr>\n      <th>8740</th>\n      <td>8740</td>\n      <td>well</td>\n      <td>SQ00015198/P13</td>\n      <td>SQ00015198</td>\n      <td>P13</td>\n      <td>BRD-K41599323-001-02-3</td>\n      <td>farnesyltransferase inhibitor</td>\n      <td>10.0</td>\n      <td>6</td>\n      <td>10.0</td>\n      <td>...</td>\n      <td>-1.351541e-06</td>\n      <td>0.000002</td>\n      <td>-0.000004</td>\n      <td>0.000003</td>\n      <td>0.000002</td>\n      <td>-0.000002</td>\n      <td>-0.000002</td>\n      <td>-6.998772e-07</td>\n      <td>-1.418709e-06</td>\n      <td>0.000001</td>\n    </tr>\n    <tr>\n      <th>8741</th>\n      <td>8741</td>\n      <td>well</td>\n      <td>SQ00015230/P13</td>\n      <td>SQ00015230</td>\n      <td>P13</td>\n      <td>BRD-K41599323-001-02-3</td>\n      <td>farnesyltransferase inhibitor</td>\n      <td>10.0</td>\n      <td>6</td>\n      <td>10.0</td>\n      <td>...</td>\n      <td>-1.430406e-06</td>\n      <td>0.000003</td>\n      <td>-0.000004</td>\n      <td>0.000003</td>\n      <td>0.000003</td>\n      <td>-0.000003</td>\n      <td>-0.000002</td>\n      <td>-4.837283e-07</td>\n      <td>-1.599845e-06</td>\n      <td>0.000001</td>\n    </tr>\n    <tr>\n      <th>8742</th>\n      <td>8742</td>\n      <td>well</td>\n      <td>SQ00015231/P13</td>\n      <td>SQ00015231</td>\n      <td>P13</td>\n      <td>BRD-K41599323-001-02-3</td>\n      <td>farnesyltransferase inhibitor</td>\n      <td>10.0</td>\n      <td>6</td>\n      <td>10.0</td>\n      <td>...</td>\n      <td>-1.552765e-06</td>\n      <td>0.000003</td>\n      <td>-0.000004</td>\n      <td>0.000003</td>\n      <td>0.000003</td>\n      <td>-0.000003</td>\n      <td>-0.000002</td>\n      <td>-4.827804e-07</td>\n      <td>-1.777435e-06</td>\n      <td>0.000001</td>\n    </tr>\n    <tr>\n      <th>8743</th>\n      <td>8743</td>\n      <td>well</td>\n      <td>SQ00015232/P13</td>\n      <td>SQ00015232</td>\n      <td>P13</td>\n      <td>BRD-K41599323-001-02-3</td>\n      <td>farnesyltransferase inhibitor</td>\n      <td>10.0</td>\n      <td>6</td>\n      <td>10.0</td>\n      <td>...</td>\n      <td>-1.573057e-06</td>\n      <td>0.000003</td>\n      <td>-0.000004</td>\n      <td>0.000003</td>\n      <td>0.000003</td>\n      <td>-0.000003</td>\n      <td>-0.000002</td>\n      <td>-5.991865e-07</td>\n      <td>-1.693699e-06</td>\n      <td>0.000001</td>\n    </tr>\n    <tr>\n      <th>8744</th>\n      <td>8744</td>\n      <td>well</td>\n      <td>SQ00015233/P13</td>\n      <td>SQ00015233</td>\n      <td>P13</td>\n      <td>BRD-K41599323-001-02-3</td>\n      <td>farnesyltransferase inhibitor</td>\n      <td>10.0</td>\n      <td>6</td>\n      <td>10.0</td>\n      <td>...</td>\n      <td>-1.573262e-06</td>\n      <td>0.000003</td>\n      <td>-0.000004</td>\n      <td>0.000003</td>\n      <td>0.000003</td>\n      <td>-0.000003</td>\n      <td>-0.000002</td>\n      <td>-6.470434e-07</td>\n      <td>-1.728738e-06</td>\n      <td>0.000001</td>\n    </tr>\n  </tbody>\n</table>\n<p>8745 rows × 1298 columns</p>\n</div>"
     },
     "execution_count": 5,
     "metadata": {},
     "output_type": "execute_result"
    }
   ],
   "source": [
    "pd.read_csv(\"1014_aggregated_median.csv\")\n"
   ],
   "metadata": {
    "collapsed": false,
    "pycharm": {
     "name": "#%%\n"
    }
   }
  },
  {
   "cell_type": "code",
   "execution_count": null,
   "outputs": [],
   "source": [],
   "metadata": {
    "collapsed": false,
    "pycharm": {
     "name": "#%%\n"
    }
   }
  }
 ],
 "metadata": {
  "kernelspec": {
   "display_name": "Python 3",
   "language": "python",
   "name": "python3"
  },
  "language_info": {
   "codemirror_mode": {
    "name": "ipython",
    "version": 2
   },
   "file_extension": ".py",
   "mimetype": "text/x-python",
   "name": "python",
   "nbconvert_exporter": "python",
   "pygments_lexer": "ipython2",
   "version": "2.7.6"
  }
 },
 "nbformat": 4,
 "nbformat_minor": 0
}