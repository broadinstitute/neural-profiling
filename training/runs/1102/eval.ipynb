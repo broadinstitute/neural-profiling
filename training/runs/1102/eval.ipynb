{
 "cells": [
  {
   "cell_type": "code",
   "execution_count": 3,
   "metadata": {
    "collapsed": true
   },
   "outputs": [],
   "source": [
    "import matplotlib.pyplot as plt\n",
    "import numpy as np\n",
    "import pandas as pd\n",
    "import sys\n",
    "sys.path.insert(0, \"/Users/mbornhol/git/neural-profiling\")\n",
    "from utils import eval"
   ]
  },
  {
   "cell_type": "code",
   "execution_count": 4,
   "outputs": [
    {
     "name": "stderr",
     "output_type": "stream",
     "text": [
      "/Users/mbornhol/miniconda3/envs/cyto_eval/lib/python3.7/site-packages/IPython/core/interactiveshell.py:3166: DtypeWarning: Columns (12) have mixed types.Specify dtype option on import or set low_memory=False.\n",
      "  interactivity=interactivity, compiler=compiler, result=result)\n"
     ]
    },
    {
     "name": "stdout",
     "output_type": "stream",
     "text": [
      "1280 features were identified\n"
     ]
    }
   ],
   "source": [
    "df = pd.read_csv(\"1102_new_aggregated_median.csv\")\n",
    "e = eval.evaluation(df)\n",
    "df = e.norm_agg()\n",
    "name = 'df'"
   ],
   "metadata": {
    "collapsed": false,
    "pycharm": {
     "name": "#%%\n"
    }
   }
  },
  {
   "cell_type": "code",
   "execution_count": 5,
   "outputs": [],
   "source": [
    "exec(name + \"_pre = eval.prec_mean(e.eval(\" + name + \", operation = 'precision_recall'))\")\n",
    "exec(name + \"_pre_r = e.eval(\" + name + \", operation = 'precision_recall', eval_range='R').precision.mean()\")\n",
    "exec(name + \"_hit = eval.hitk_prep(e.eval(\" + name + \", operation = 'hitk'))\")\n",
    "exec(name + \"_enr = e.eval(\" + name + \", operation = 'enrichment')\")"
   ],
   "metadata": {
    "collapsed": false,
    "pycharm": {
     "name": "#%%\n"
    }
   }
  },
  {
   "cell_type": "code",
   "execution_count": 6,
   "outputs": [
    {
     "data": {
      "text/plain": "   enrichment_percentile  threshold  ods_ratio        p-value     k  \\\n0                  0.995   0.699003   8.061383  5.086675e-191   5.0   \n1                  0.990   0.571449   7.106137  1.401087e-297  10.0   \n2                  0.985   0.477567   6.756426   0.000000e+00  15.0   \n3                  0.980   0.411772   5.881714   0.000000e+00  20.0   \n4                  0.975   0.362599   5.079944   0.000000e+00  25.0   \n5                  0.970   0.327304   4.571167   0.000000e+00  30.0   \n6                  0.965   0.297955   4.159655   0.000000e+00  40.0   \n7                  0.960   0.272576   3.840730   0.000000e+00  50.0   \n\n   precision    recall  \n0   0.064917  0.052321  \n1   0.053456  0.077364  \n2   0.046719  0.098256  \n3   0.041645  0.114857  \n4   0.037270  0.128674  \n5   0.034237  0.139704  \n6   0.029024  0.155549  \n7   0.025862  0.170791  ",
      "text/html": "<div>\n<style scoped>\n    .dataframe tbody tr th:only-of-type {\n        vertical-align: middle;\n    }\n\n    .dataframe tbody tr th {\n        vertical-align: top;\n    }\n\n    .dataframe thead th {\n        text-align: right;\n    }\n</style>\n<table border=\"1\" class=\"dataframe\">\n  <thead>\n    <tr style=\"text-align: right;\">\n      <th></th>\n      <th>enrichment_percentile</th>\n      <th>threshold</th>\n      <th>ods_ratio</th>\n      <th>p-value</th>\n      <th>k</th>\n      <th>precision</th>\n      <th>recall</th>\n    </tr>\n  </thead>\n  <tbody>\n    <tr>\n      <th>0</th>\n      <td>0.995</td>\n      <td>0.699003</td>\n      <td>8.061383</td>\n      <td>5.086675e-191</td>\n      <td>5.0</td>\n      <td>0.064917</td>\n      <td>0.052321</td>\n    </tr>\n    <tr>\n      <th>1</th>\n      <td>0.990</td>\n      <td>0.571449</td>\n      <td>7.106137</td>\n      <td>1.401087e-297</td>\n      <td>10.0</td>\n      <td>0.053456</td>\n      <td>0.077364</td>\n    </tr>\n    <tr>\n      <th>2</th>\n      <td>0.985</td>\n      <td>0.477567</td>\n      <td>6.756426</td>\n      <td>0.000000e+00</td>\n      <td>15.0</td>\n      <td>0.046719</td>\n      <td>0.098256</td>\n    </tr>\n    <tr>\n      <th>3</th>\n      <td>0.980</td>\n      <td>0.411772</td>\n      <td>5.881714</td>\n      <td>0.000000e+00</td>\n      <td>20.0</td>\n      <td>0.041645</td>\n      <td>0.114857</td>\n    </tr>\n    <tr>\n      <th>4</th>\n      <td>0.975</td>\n      <td>0.362599</td>\n      <td>5.079944</td>\n      <td>0.000000e+00</td>\n      <td>25.0</td>\n      <td>0.037270</td>\n      <td>0.128674</td>\n    </tr>\n    <tr>\n      <th>5</th>\n      <td>0.970</td>\n      <td>0.327304</td>\n      <td>4.571167</td>\n      <td>0.000000e+00</td>\n      <td>30.0</td>\n      <td>0.034237</td>\n      <td>0.139704</td>\n    </tr>\n    <tr>\n      <th>6</th>\n      <td>0.965</td>\n      <td>0.297955</td>\n      <td>4.159655</td>\n      <td>0.000000e+00</td>\n      <td>40.0</td>\n      <td>0.029024</td>\n      <td>0.155549</td>\n    </tr>\n    <tr>\n      <th>7</th>\n      <td>0.960</td>\n      <td>0.272576</td>\n      <td>3.840730</td>\n      <td>0.000000e+00</td>\n      <td>50.0</td>\n      <td>0.025862</td>\n      <td>0.170791</td>\n    </tr>\n  </tbody>\n</table>\n</div>"
     },
     "execution_count": 6,
     "metadata": {},
     "output_type": "execute_result"
    }
   ],
   "source": [
    "res = pd.concat([df_enr, df_pre], ignore_index=False, axis=1)\n",
    "res.to_csv('results.csv')\n",
    "\n",
    "res"
   ],
   "metadata": {
    "collapsed": false,
    "pycharm": {
     "name": "#%%\n"
    }
   }
  },
  {
   "cell_type": "code",
   "execution_count": 7,
   "outputs": [
    {
     "data": {
      "text/plain": "0.06321092414886853"
     },
     "execution_count": 7,
     "metadata": {},
     "output_type": "execute_result"
    }
   ],
   "source": [
    "df_pre_r\n"
   ],
   "metadata": {
    "collapsed": false,
    "pycharm": {
     "name": "#%%\n"
    }
   }
  },
  {
   "cell_type": "code",
   "execution_count": null,
   "outputs": [],
   "source": [],
   "metadata": {
    "collapsed": false,
    "pycharm": {
     "name": "#%%\n"
    }
   }
  }
 ],
 "metadata": {
  "kernelspec": {
   "display_name": "Python 3",
   "language": "python",
   "name": "python3"
  },
  "language_info": {
   "codemirror_mode": {
    "name": "ipython",
    "version": 2
   },
   "file_extension": ".py",
   "mimetype": "text/x-python",
   "name": "python",
   "nbconvert_exporter": "python",
   "pygments_lexer": "ipython2",
   "version": "2.7.6"
  }
 },
 "nbformat": 4,
 "nbformat_minor": 0
}