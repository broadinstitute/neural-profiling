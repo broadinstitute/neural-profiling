{
 "cells": [
  {
   "cell_type": "code",
   "execution_count": 1,
   "metadata": {
    "collapsed": true
   },
   "outputs": [],
   "source": [
    "import matplotlib.pyplot as plt\n",
    "import numpy as np\n",
    "import pandas as pd\n",
    "import sys\n",
    "sys.path.insert(0, \"/Users/mbornhol/git/neural-profiling\")\n",
    "from utils import eval"
   ]
  },
  {
   "cell_type": "code",
   "execution_count": 2,
   "outputs": [
    {
     "name": "stderr",
     "output_type": "stream",
     "text": [
      "/Users/mbornhol/miniconda3/envs/cyto_eval/lib/python3.7/site-packages/IPython/core/interactiveshell.py:3166: DtypeWarning: Columns (12) have mixed types.Specify dtype option on import or set low_memory=False.\n",
      "  interactivity=interactivity, compiler=compiler, result=result)\n"
     ]
    },
    {
     "name": "stdout",
     "output_type": "stream",
     "text": [
      "1280 features were identified\n"
     ]
    }
   ],
   "source": [
    "df = pd.read_csv(\"1010_aggregated_median.csv\")\n",
    "e = eval.evaluation(df)\n",
    "df = e.norm_agg()\n",
    "name = 'df'"
   ],
   "metadata": {
    "collapsed": false,
    "pycharm": {
     "name": "#%%\n"
    }
   }
  },
  {
   "cell_type": "code",
   "execution_count": 3,
   "outputs": [],
   "source": [
    "exec(name + \"_pre = eval.prec_mean(e.eval(\" + name + \", operation = 'precision_recall'))\")\n",
    "exec(name + \"_pre_r = e.eval(\" + name + \", operation = 'precision_recall', eval_range='R').precision.mean()\")\n",
    "#exec(name + \"_hit = eval.hitk_prep(e.eval(\" + name + \", operation = 'hitk'))\")\n",
    "exec(name + \"_enr = e.eval(\" + name + \", operation = 'enrichment')\")"
   ],
   "metadata": {
    "collapsed": false,
    "pycharm": {
     "name": "#%%\n"
    }
   }
  },
  {
   "cell_type": "code",
   "execution_count": 4,
   "outputs": [
    {
     "data": {
      "text/plain": "   enrichment_percentile  threshold  ods_ratio  p-value     k  precision  \\\n0                  0.995   0.394962  12.897549      0.0   5.0   0.063517   \n1                  0.990   0.302277   9.388432      0.0  10.0   0.048994   \n2                  0.985   0.248750   7.705204      0.0  15.0   0.041178   \n3                  0.980   0.211109   6.399606      0.0  20.0   0.036570   \n4                  0.975   0.183903   5.495277      0.0  25.0   0.033526   \n5                  0.970   0.163159   4.901833      0.0  30.0   0.030884   \n6                  0.965   0.146987   4.421467      0.0  40.0   0.026750   \n7                  0.960   0.133892   4.037148      0.0  50.0   0.024007   \n\n     recall  \n0  0.050979  \n1  0.072425  \n2  0.086157  \n3  0.099101  \n4  0.110223  \n5  0.121771  \n6  0.141264  \n7  0.154634  ",
      "text/html": "<div>\n<style scoped>\n    .dataframe tbody tr th:only-of-type {\n        vertical-align: middle;\n    }\n\n    .dataframe tbody tr th {\n        vertical-align: top;\n    }\n\n    .dataframe thead th {\n        text-align: right;\n    }\n</style>\n<table border=\"1\" class=\"dataframe\">\n  <thead>\n    <tr style=\"text-align: right;\">\n      <th></th>\n      <th>enrichment_percentile</th>\n      <th>threshold</th>\n      <th>ods_ratio</th>\n      <th>p-value</th>\n      <th>k</th>\n      <th>precision</th>\n      <th>recall</th>\n    </tr>\n  </thead>\n  <tbody>\n    <tr>\n      <th>0</th>\n      <td>0.995</td>\n      <td>0.394962</td>\n      <td>12.897549</td>\n      <td>0.0</td>\n      <td>5.0</td>\n      <td>0.063517</td>\n      <td>0.050979</td>\n    </tr>\n    <tr>\n      <th>1</th>\n      <td>0.990</td>\n      <td>0.302277</td>\n      <td>9.388432</td>\n      <td>0.0</td>\n      <td>10.0</td>\n      <td>0.048994</td>\n      <td>0.072425</td>\n    </tr>\n    <tr>\n      <th>2</th>\n      <td>0.985</td>\n      <td>0.248750</td>\n      <td>7.705204</td>\n      <td>0.0</td>\n      <td>15.0</td>\n      <td>0.041178</td>\n      <td>0.086157</td>\n    </tr>\n    <tr>\n      <th>3</th>\n      <td>0.980</td>\n      <td>0.211109</td>\n      <td>6.399606</td>\n      <td>0.0</td>\n      <td>20.0</td>\n      <td>0.036570</td>\n      <td>0.099101</td>\n    </tr>\n    <tr>\n      <th>4</th>\n      <td>0.975</td>\n      <td>0.183903</td>\n      <td>5.495277</td>\n      <td>0.0</td>\n      <td>25.0</td>\n      <td>0.033526</td>\n      <td>0.110223</td>\n    </tr>\n    <tr>\n      <th>5</th>\n      <td>0.970</td>\n      <td>0.163159</td>\n      <td>4.901833</td>\n      <td>0.0</td>\n      <td>30.0</td>\n      <td>0.030884</td>\n      <td>0.121771</td>\n    </tr>\n    <tr>\n      <th>6</th>\n      <td>0.965</td>\n      <td>0.146987</td>\n      <td>4.421467</td>\n      <td>0.0</td>\n      <td>40.0</td>\n      <td>0.026750</td>\n      <td>0.141264</td>\n    </tr>\n    <tr>\n      <th>7</th>\n      <td>0.960</td>\n      <td>0.133892</td>\n      <td>4.037148</td>\n      <td>0.0</td>\n      <td>50.0</td>\n      <td>0.024007</td>\n      <td>0.154634</td>\n    </tr>\n  </tbody>\n</table>\n</div>"
     },
     "execution_count": 4,
     "metadata": {},
     "output_type": "execute_result"
    }
   ],
   "source": [
    "res = pd.concat([df_enr, df_pre], ignore_index=False, axis=1)\n",
    "res.to_csv('results.csv')\n",
    "\n",
    "res"
   ],
   "metadata": {
    "collapsed": false,
    "pycharm": {
     "name": "#%%\n"
    }
   }
  },
  {
   "cell_type": "code",
   "execution_count": 5,
   "outputs": [
    {
     "data": {
      "text/plain": "0.05570769677446745"
     },
     "execution_count": 5,
     "metadata": {},
     "output_type": "execute_result"
    }
   ],
   "source": [
    "df_pre_r"
   ],
   "metadata": {
    "collapsed": false,
    "pycharm": {
     "name": "#%%\n"
    }
   }
  },
  {
   "cell_type": "code",
   "execution_count": null,
   "outputs": [],
   "source": [],
   "metadata": {
    "collapsed": false,
    "pycharm": {
     "name": "#%%\n"
    }
   }
  }
 ],
 "metadata": {
  "kernelspec": {
   "display_name": "Python 3",
   "language": "python",
   "name": "python3"
  },
  "language_info": {
   "codemirror_mode": {
    "name": "ipython",
    "version": 2
   },
   "file_extension": ".py",
   "mimetype": "text/x-python",
   "name": "python",
   "nbconvert_exporter": "python",
   "pygments_lexer": "ipython2",
   "version": "2.7.6"
  }
 },
 "nbformat": 4,
 "nbformat_minor": 0
}