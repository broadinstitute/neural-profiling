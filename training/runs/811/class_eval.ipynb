{
 "cells": [
  {
   "cell_type": "code",
   "execution_count": 1,
   "metadata": {
    "collapsed": true
   },
   "outputs": [],
   "source": [
    "\n",
    "import pandas as pd\n",
    "import numpy as np\n",
    "import matplotlib.pyplot as plt\n",
    "from pycytominer import aggregate, annotate, normalize, feature_select, cyto_utils\n",
    "from cytominer_eval import evaluate\n",
    "from cytominer_eval.transform import metric_melt\n",
    "from sklearn.decomposition import PCA\n",
    "import sys\n",
    "from sklearn.decomposition import PCA"
   ]
  },
  {
   "cell_type": "code",
   "execution_count": 28,
   "outputs": [],
   "source": [
    "df = pd.read_csv('811_aggregated_median_class.csv', low_memory=False)\n",
    "index = pd.read_csv('/Users/mbornhol/git/neural-profiling/training/index/mapping.csv', low_memory=False)"
   ],
   "metadata": {
    "collapsed": false,
    "pycharm": {
     "name": "#%%\n"
    }
   }
  },
  {
   "cell_type": "code",
   "execution_count": 5,
   "outputs": [
    {
     "data": {
      "text/plain": "   Unnamed: 0 Metadata_Aggregate_On Metadata_Well_Position Metadata_Plate  \\\n0           0                  well         SQ00014812/A01     SQ00014812   \n1           1                  well         SQ00014812/A02     SQ00014812   \n2           2                  well         SQ00014812/A03     SQ00014812   \n3           3                  well         SQ00014812/A04     SQ00014812   \n4           4                  well         SQ00014812/A05     SQ00014812   \n\n  Metadata_Well Metadata_broad_sample Metadata_moa  Metadata_mmoles_per_liter  \\\n0           A01                  DMSO      unknown                        0.0   \n1           A02                  DMSO      unknown                        0.0   \n2           A03                  DMSO      unknown                        0.0   \n3           A04                  DMSO      unknown                        0.0   \n4           A05                  DMSO      unknown                        0.0   \n\n   Metadata_dose_recode  Metadata_Concentration  ...  efficientnet_502  \\\n0                     0                     NaN  ...      3.432625e-09   \n1                     0                     NaN  ...      4.957783e-05   \n2                     0                     NaN  ...      1.410774e-05   \n3                     0                     NaN  ...      1.031905e-04   \n4                     0                     NaN  ...      1.051027e-05   \n\n  efficientnet_503 efficientnet_504  efficientnet_505 efficientnet_506  \\\n0     9.803609e-10     2.195271e-06      5.841608e-11     1.983585e-12   \n1     1.303421e-08     3.534693e-08      7.808864e-13     8.799593e-12   \n2     1.057805e-08     9.230452e-08      7.083045e-13     7.152273e-12   \n3     1.344526e-08     4.465145e-07      2.419374e-12     1.434216e-11   \n4     1.175435e-07     3.282714e-07      1.077576e-10     1.782674e-11   \n\n  efficientnet_507 efficientnet_508  efficientnet_509  efficientnet_510  \\\n0     2.306936e-06     2.402459e-09      1.847797e-11      5.252970e-08   \n1     9.394263e-07     2.699113e-09      1.711644e-11      8.728982e-07   \n2     1.084633e-06     1.679325e-08      3.021371e-11      1.808065e-06   \n3     3.407125e-06     3.149164e-08      2.732146e-11      7.853214e-07   \n4     4.033859e-05     4.209948e-08      5.837287e-11      1.012039e-07   \n\n   efficientnet_511  \n0      1.128051e-06  \n1      8.686126e-07  \n2      6.445535e-07  \n3      1.068879e-06  \n4      2.840036e-05  \n\n[5 rows x 529 columns]",
      "text/html": "<div>\n<style scoped>\n    .dataframe tbody tr th:only-of-type {\n        vertical-align: middle;\n    }\n\n    .dataframe tbody tr th {\n        vertical-align: top;\n    }\n\n    .dataframe thead th {\n        text-align: right;\n    }\n</style>\n<table border=\"1\" class=\"dataframe\">\n  <thead>\n    <tr style=\"text-align: right;\">\n      <th></th>\n      <th>Unnamed: 0</th>\n      <th>Metadata_Aggregate_On</th>\n      <th>Metadata_Well_Position</th>\n      <th>Metadata_Plate</th>\n      <th>Metadata_Well</th>\n      <th>Metadata_broad_sample</th>\n      <th>Metadata_moa</th>\n      <th>Metadata_mmoles_per_liter</th>\n      <th>Metadata_dose_recode</th>\n      <th>Metadata_Concentration</th>\n      <th>...</th>\n      <th>efficientnet_502</th>\n      <th>efficientnet_503</th>\n      <th>efficientnet_504</th>\n      <th>efficientnet_505</th>\n      <th>efficientnet_506</th>\n      <th>efficientnet_507</th>\n      <th>efficientnet_508</th>\n      <th>efficientnet_509</th>\n      <th>efficientnet_510</th>\n      <th>efficientnet_511</th>\n    </tr>\n  </thead>\n  <tbody>\n    <tr>\n      <th>0</th>\n      <td>0</td>\n      <td>well</td>\n      <td>SQ00014812/A01</td>\n      <td>SQ00014812</td>\n      <td>A01</td>\n      <td>DMSO</td>\n      <td>unknown</td>\n      <td>0.0</td>\n      <td>0</td>\n      <td>NaN</td>\n      <td>...</td>\n      <td>3.432625e-09</td>\n      <td>9.803609e-10</td>\n      <td>2.195271e-06</td>\n      <td>5.841608e-11</td>\n      <td>1.983585e-12</td>\n      <td>2.306936e-06</td>\n      <td>2.402459e-09</td>\n      <td>1.847797e-11</td>\n      <td>5.252970e-08</td>\n      <td>1.128051e-06</td>\n    </tr>\n    <tr>\n      <th>1</th>\n      <td>1</td>\n      <td>well</td>\n      <td>SQ00014812/A02</td>\n      <td>SQ00014812</td>\n      <td>A02</td>\n      <td>DMSO</td>\n      <td>unknown</td>\n      <td>0.0</td>\n      <td>0</td>\n      <td>NaN</td>\n      <td>...</td>\n      <td>4.957783e-05</td>\n      <td>1.303421e-08</td>\n      <td>3.534693e-08</td>\n      <td>7.808864e-13</td>\n      <td>8.799593e-12</td>\n      <td>9.394263e-07</td>\n      <td>2.699113e-09</td>\n      <td>1.711644e-11</td>\n      <td>8.728982e-07</td>\n      <td>8.686126e-07</td>\n    </tr>\n    <tr>\n      <th>2</th>\n      <td>2</td>\n      <td>well</td>\n      <td>SQ00014812/A03</td>\n      <td>SQ00014812</td>\n      <td>A03</td>\n      <td>DMSO</td>\n      <td>unknown</td>\n      <td>0.0</td>\n      <td>0</td>\n      <td>NaN</td>\n      <td>...</td>\n      <td>1.410774e-05</td>\n      <td>1.057805e-08</td>\n      <td>9.230452e-08</td>\n      <td>7.083045e-13</td>\n      <td>7.152273e-12</td>\n      <td>1.084633e-06</td>\n      <td>1.679325e-08</td>\n      <td>3.021371e-11</td>\n      <td>1.808065e-06</td>\n      <td>6.445535e-07</td>\n    </tr>\n    <tr>\n      <th>3</th>\n      <td>3</td>\n      <td>well</td>\n      <td>SQ00014812/A04</td>\n      <td>SQ00014812</td>\n      <td>A04</td>\n      <td>DMSO</td>\n      <td>unknown</td>\n      <td>0.0</td>\n      <td>0</td>\n      <td>NaN</td>\n      <td>...</td>\n      <td>1.031905e-04</td>\n      <td>1.344526e-08</td>\n      <td>4.465145e-07</td>\n      <td>2.419374e-12</td>\n      <td>1.434216e-11</td>\n      <td>3.407125e-06</td>\n      <td>3.149164e-08</td>\n      <td>2.732146e-11</td>\n      <td>7.853214e-07</td>\n      <td>1.068879e-06</td>\n    </tr>\n    <tr>\n      <th>4</th>\n      <td>4</td>\n      <td>well</td>\n      <td>SQ00014812/A05</td>\n      <td>SQ00014812</td>\n      <td>A05</td>\n      <td>DMSO</td>\n      <td>unknown</td>\n      <td>0.0</td>\n      <td>0</td>\n      <td>NaN</td>\n      <td>...</td>\n      <td>1.051027e-05</td>\n      <td>1.175435e-07</td>\n      <td>3.282714e-07</td>\n      <td>1.077576e-10</td>\n      <td>1.782674e-11</td>\n      <td>4.033859e-05</td>\n      <td>4.209948e-08</td>\n      <td>5.837287e-11</td>\n      <td>1.012039e-07</td>\n      <td>2.840036e-05</td>\n    </tr>\n  </tbody>\n</table>\n<p>5 rows × 529 columns</p>\n</div>"
     },
     "execution_count": 5,
     "metadata": {},
     "output_type": "execute_result"
    }
   ],
   "source": [
    "features = [f for f in df.columns if f.startswith('eff')]\n",
    "meta_features = [feat for feat in df.columns if feat not in features]\n",
    "top_moa = df.Metadata_moa.value_counts()[1:20].keys().tolist()\n",
    "\n",
    "df.head()"
   ],
   "metadata": {
    "collapsed": false,
    "pycharm": {
     "name": "#%%\n"
    }
   }
  },
  {
   "cell_type": "code",
   "execution_count": 10,
   "outputs": [
    {
     "data": {
      "text/plain": "(array([  1.,   1.,  27., 249., 135.,  71.,  12.,   6.,   6.,   4.]),\n array([0.00755929, 0.01173921, 0.01591912, 0.02009904, 0.02427895,\n        0.02845887, 0.03263878, 0.0368187 , 0.04099861, 0.04517853,\n        0.04935844]),\n <BarContainer object of 10 artists>)"
     },
     "execution_count": 10,
     "metadata": {},
     "output_type": "execute_result"
    },
    {
     "data": {
      "text/plain": "<Figure size 432x288 with 1 Axes>",
      "image/png": "[encoded data removed]"
     },
     "metadata": {},
     "output_type": "display_data"
    }
   ],
   "source": [
    "plt.style.use({'figure.facecolor':'white'})\n",
    "plt.hist(df[features].std().tolist())"
   ],
   "metadata": {
    "collapsed": false,
    "pycharm": {
     "name": "#%%\n"
    }
   }
  },
  {
   "cell_type": "code",
   "execution_count": 37,
   "outputs": [],
   "source": [
    "df['prediction'] = df[features].idxmax(axis = 1).str[13:].astype(int)"
   ],
   "metadata": {
    "collapsed": false,
    "pycharm": {
     "name": "#%%\n"
    }
   }
  },
  {
   "cell_type": "code",
   "execution_count": 39,
   "outputs": [],
   "source": [
    "df = pd.merge(df, index, left_on=['Metadata_broad_sample'], right_on=['Class_Name'])"
   ],
   "metadata": {
    "collapsed": false,
    "pycharm": {
     "name": "#%%\n"
    }
   }
  },
  {
   "cell_type": "code",
   "execution_count": 48,
   "outputs": [
    {
     "data": {
      "text/plain": "511    19\n390     5\n397     5\n395     5\n105     5\n       ..\n423     2\n422     2\n418     2\n417     2\n93      2\nName: Target_x, Length: 512, dtype: int64"
     },
     "execution_count": 48,
     "metadata": {},
     "output_type": "execute_result"
    }
   ],
   "source": [
    "df[df['correct']].Target_x.value_counts()"
   ],
   "metadata": {
    "collapsed": false,
    "pycharm": {
     "name": "#%%\n"
    }
   }
  },
  {
   "cell_type": "code",
   "execution_count": 51,
   "outputs": [
    {
     "data": {
      "text/plain": "511    3232\n396       2\n340       2\n277       2\n346       2\n       ... \n476       1\n478       1\n482       1\n486       1\n1         1\nName: Target_x, Length: 370, dtype: int64"
     },
     "execution_count": 51,
     "metadata": {},
     "output_type": "execute_result"
    }
   ],
   "source": [
    "df[~df['correct']].Target_x.value_counts()"
   ],
   "metadata": {
    "collapsed": false,
    "pycharm": {
     "name": "#%%\n"
    }
   }
  },
  {
   "cell_type": "code",
   "execution_count": 49,
   "outputs": [
    {
     "data": {
      "text/plain": "   Unnamed: 0_x Metadata_Aggregate_On Metadata_Well_Position Metadata_Plate  \\\n0             0                  well         SQ00014812/A01     SQ00014812   \n1             1                  well         SQ00014812/A02     SQ00014812   \n2             2                  well         SQ00014812/A03     SQ00014812   \n3             3                  well         SQ00014812/A04     SQ00014812   \n4             4                  well         SQ00014812/A05     SQ00014812   \n\n  Metadata_Well Metadata_broad_sample Metadata_moa  Metadata_mmoles_per_liter  \\\n0           A01                  DMSO      unknown                        0.0   \n1           A02                  DMSO      unknown                        0.0   \n2           A03                  DMSO      unknown                        0.0   \n3           A04                  DMSO      unknown                        0.0   \n4           A05                  DMSO      unknown                        0.0   \n\n   Metadata_dose_recode  Metadata_Concentration  ...  efficientnet_510  \\\n0                     0                     NaN  ...      5.252970e-08   \n1                     0                     NaN  ...      8.728982e-07   \n2                     0                     NaN  ...      1.808065e-06   \n3                     0                     NaN  ...      7.853214e-07   \n4                     0                     NaN  ...      1.012039e-07   \n\n  efficientnet_511 Unnamed: 0_y  Target_x Class_Name_x prediction Unnamed: 0  \\\n0     1.128051e-06       131213       511         DMSO        471     131213   \n1     8.686126e-07       131213       511         DMSO        484     131213   \n2     6.445535e-07       131213       511         DMSO        484     131213   \n3     1.068879e-06       131213       511         DMSO        484     131213   \n4     2.840036e-05       131213       511         DMSO        118     131213   \n\n   Target_y  Class_Name_y  correct  \n0       511          DMSO    False  \n1       511          DMSO    False  \n2       511          DMSO    False  \n3       511          DMSO    False  \n4       511          DMSO    False  \n\n[5 rows x 537 columns]",
      "text/html": "<div>\n<style scoped>\n    .dataframe tbody tr th:only-of-type {\n        vertical-align: middle;\n    }\n\n    .dataframe tbody tr th {\n        vertical-align: top;\n    }\n\n    .dataframe thead th {\n        text-align: right;\n    }\n</style>\n<table border=\"1\" class=\"dataframe\">\n  <thead>\n    <tr style=\"text-align: right;\">\n      <th></th>\n      <th>Unnamed: 0_x</th>\n      <th>Metadata_Aggregate_On</th>\n      <th>Metadata_Well_Position</th>\n      <th>Metadata_Plate</th>\n      <th>Metadata_Well</th>\n      <th>Metadata_broad_sample</th>\n      <th>Metadata_moa</th>\n      <th>Metadata_mmoles_per_liter</th>\n      <th>Metadata_dose_recode</th>\n      <th>Metadata_Concentration</th>\n      <th>...</th>\n      <th>efficientnet_510</th>\n      <th>efficientnet_511</th>\n      <th>Unnamed: 0_y</th>\n      <th>Target_x</th>\n      <th>Class_Name_x</th>\n      <th>prediction</th>\n      <th>Unnamed: 0</th>\n      <th>Target_y</th>\n      <th>Class_Name_y</th>\n      <th>correct</th>\n    </tr>\n  </thead>\n  <tbody>\n    <tr>\n      <th>0</th>\n      <td>0</td>\n      <td>well</td>\n      <td>SQ00014812/A01</td>\n      <td>SQ00014812</td>\n      <td>A01</td>\n      <td>DMSO</td>\n      <td>unknown</td>\n      <td>0.0</td>\n      <td>0</td>\n      <td>NaN</td>\n      <td>...</td>\n      <td>5.252970e-08</td>\n      <td>1.128051e-06</td>\n      <td>131213</td>\n      <td>511</td>\n      <td>DMSO</td>\n      <td>471</td>\n      <td>131213</td>\n      <td>511</td>\n      <td>DMSO</td>\n      <td>False</td>\n    </tr>\n    <tr>\n      <th>1</th>\n      <td>1</td>\n      <td>well</td>\n      <td>SQ00014812/A02</td>\n      <td>SQ00014812</td>\n      <td>A02</td>\n      <td>DMSO</td>\n      <td>unknown</td>\n      <td>0.0</td>\n      <td>0</td>\n      <td>NaN</td>\n      <td>...</td>\n      <td>8.728982e-07</td>\n      <td>8.686126e-07</td>\n      <td>131213</td>\n      <td>511</td>\n      <td>DMSO</td>\n      <td>484</td>\n      <td>131213</td>\n      <td>511</td>\n      <td>DMSO</td>\n      <td>False</td>\n    </tr>\n    <tr>\n      <th>2</th>\n      <td>2</td>\n      <td>well</td>\n      <td>SQ00014812/A03</td>\n      <td>SQ00014812</td>\n      <td>A03</td>\n      <td>DMSO</td>\n      <td>unknown</td>\n      <td>0.0</td>\n      <td>0</td>\n      <td>NaN</td>\n      <td>...</td>\n      <td>1.808065e-06</td>\n      <td>6.445535e-07</td>\n      <td>131213</td>\n      <td>511</td>\n      <td>DMSO</td>\n      <td>484</td>\n      <td>131213</td>\n      <td>511</td>\n      <td>DMSO</td>\n      <td>False</td>\n    </tr>\n    <tr>\n      <th>3</th>\n      <td>3</td>\n      <td>well</td>\n      <td>SQ00014812/A04</td>\n      <td>SQ00014812</td>\n      <td>A04</td>\n      <td>DMSO</td>\n      <td>unknown</td>\n      <td>0.0</td>\n      <td>0</td>\n      <td>NaN</td>\n      <td>...</td>\n      <td>7.853214e-07</td>\n      <td>1.068879e-06</td>\n      <td>131213</td>\n      <td>511</td>\n      <td>DMSO</td>\n      <td>484</td>\n      <td>131213</td>\n      <td>511</td>\n      <td>DMSO</td>\n      <td>False</td>\n    </tr>\n    <tr>\n      <th>4</th>\n      <td>4</td>\n      <td>well</td>\n      <td>SQ00014812/A05</td>\n      <td>SQ00014812</td>\n      <td>A05</td>\n      <td>DMSO</td>\n      <td>unknown</td>\n      <td>0.0</td>\n      <td>0</td>\n      <td>NaN</td>\n      <td>...</td>\n      <td>1.012039e-07</td>\n      <td>2.840036e-05</td>\n      <td>131213</td>\n      <td>511</td>\n      <td>DMSO</td>\n      <td>118</td>\n      <td>131213</td>\n      <td>511</td>\n      <td>DMSO</td>\n      <td>False</td>\n    </tr>\n  </tbody>\n</table>\n<p>5 rows × 537 columns</p>\n</div>"
     },
     "execution_count": 49,
     "metadata": {},
     "output_type": "execute_result"
    }
   ],
   "source": [
    "df.head()\n"
   ],
   "metadata": {
    "collapsed": false,
    "pycharm": {
     "name": "#%%\n"
    }
   }
  },
  {
   "cell_type": "code",
   "execution_count": 50,
   "outputs": [
    {
     "data": {
      "text/plain": "DMSO                      19\nBRD-K16803204-001-01-6     5\nBRD-A68493689-001-01-9     5\nBRD-K46386702-001-02-1     5\nBRD-K19687926-379-07-4     5\n                          ..\nBRD-K79595931-312-01-3     2\nBRD-A78723049-001-01-2     2\nBRD-K78113049-001-16-2     2\nBRD-K79759585-048-04-8     2\nBRD-K78485176-001-07-8     2\nName: Class_Name_x, Length: 512, dtype: int64"
     },
     "execution_count": 50,
     "metadata": {},
     "output_type": "execute_result"
    }
   ],
   "source": [
    "df[df['correct']].Class_Name_x.value_counts()"
   ],
   "metadata": {
    "collapsed": false,
    "pycharm": {
     "name": "#%%\n"
    }
   }
  },
  {
   "cell_type": "code",
   "execution_count": null,
   "outputs": [],
   "source": [],
   "metadata": {
    "collapsed": false,
    "pycharm": {
     "name": "#%%\n"
    }
   }
  }
 ],
 "metadata": {
  "kernelspec": {
   "display_name": "Python 3",
   "language": "python",
   "name": "python3"
  },
  "language_info": {
   "codemirror_mode": {
    "name": "ipython",
    "version": 2
   },
   "file_extension": ".py",
   "mimetype": "text/x-python",
   "name": "python",
   "nbconvert_exporter": "python",
   "pygments_lexer": "ipython2",
   "version": "2.7.6"
  }
 },
 "nbformat": 4,
 "nbformat_minor": 0
}