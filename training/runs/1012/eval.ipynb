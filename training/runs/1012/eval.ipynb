{
 "cells": [
  {
   "cell_type": "code",
   "execution_count": 1,
   "metadata": {
    "collapsed": true
   },
   "outputs": [],
   "source": [
    "import matplotlib.pyplot as plt\n",
    "import numpy as np\n",
    "import pandas as pd\n",
    "import sys\n",
    "sys.path.insert(0, \"/Users/mbornhol/git/neural-profiling\")\n",
    "from utils import eval"
   ]
  },
  {
   "cell_type": "code",
   "execution_count": 2,
   "outputs": [
    {
     "name": "stderr",
     "output_type": "stream",
     "text": [
      "/Users/mbornhol/miniconda3/envs/cyto_eval/lib/python3.7/site-packages/IPython/core/interactiveshell.py:3166: DtypeWarning: Columns (12) have mixed types.Specify dtype option on import or set low_memory=False.\n",
      "  interactivity=interactivity, compiler=compiler, result=result)\n"
     ]
    },
    {
     "name": "stdout",
     "output_type": "stream",
     "text": [
      "1280 features were identified\n"
     ]
    }
   ],
   "source": [
    "df = pd.read_csv(\"1012_aggregated_median.csv\")\n",
    "e = eval.evaluation(df)\n",
    "df = e.norm_agg()\n",
    "name = 'df'"
   ],
   "metadata": {
    "collapsed": false,
    "pycharm": {
     "name": "#%%\n"
    }
   }
  },
  {
   "cell_type": "code",
   "execution_count": 3,
   "outputs": [],
   "source": [
    "exec(name + \"_pre = eval.prec_mean(e.eval(\" + name + \", operation = 'precision_recall'))\")\n",
    "exec(name + \"_pre_r = e.eval(\" + name + \", operation = 'precision_recall', eval_range='R').precision.mean()\")\n",
    "#exec(name + \"_hit = eval.hitk_prep(e.eval(\" + name + \", operation = 'hitk'))\")\n",
    "exec(name + \"_enr = e.eval(\" + name + \", operation = 'enrichment')\")"
   ],
   "metadata": {
    "collapsed": false,
    "pycharm": {
     "name": "#%%\n"
    }
   }
  },
  {
   "cell_type": "code",
   "execution_count": 4,
   "outputs": [
    {
     "data": {
      "text/plain": "   enrichment_percentile  threshold  ods_ratio        p-value     k  \\\n0                  0.995   0.363883  11.901118   0.000000e+00   5.0   \n1                  0.990   0.276310   8.498828   0.000000e+00  10.0   \n2                  0.985   0.226002   6.929660   0.000000e+00  15.0   \n3                  0.980   0.192335   5.763895   0.000000e+00  20.0   \n4                  0.975   0.168900   5.016859   0.000000e+00  25.0   \n5                  0.970   0.150221   4.509366   0.000000e+00  30.0   \n6                  0.965   0.135864   4.091156   0.000000e+00  40.0   \n7                  0.960   0.124182   3.773703  8.059693e-320  50.0   \n\n   precision    recall  \n0   0.060017  0.047058  \n1   0.045057  0.064044  \n2   0.038320  0.076163  \n3   0.033990  0.090452  \n4   0.031146  0.101155  \n5   0.029134  0.111962  \n6   0.025306  0.127757  \n7   0.022747  0.143549  ",
      "text/html": "<div>\n<style scoped>\n    .dataframe tbody tr th:only-of-type {\n        vertical-align: middle;\n    }\n\n    .dataframe tbody tr th {\n        vertical-align: top;\n    }\n\n    .dataframe thead th {\n        text-align: right;\n    }\n</style>\n<table border=\"1\" class=\"dataframe\">\n  <thead>\n    <tr style=\"text-align: right;\">\n      <th></th>\n      <th>enrichment_percentile</th>\n      <th>threshold</th>\n      <th>ods_ratio</th>\n      <th>p-value</th>\n      <th>k</th>\n      <th>precision</th>\n      <th>recall</th>\n    </tr>\n  </thead>\n  <tbody>\n    <tr>\n      <th>0</th>\n      <td>0.995</td>\n      <td>0.363883</td>\n      <td>11.901118</td>\n      <td>0.000000e+00</td>\n      <td>5.0</td>\n      <td>0.060017</td>\n      <td>0.047058</td>\n    </tr>\n    <tr>\n      <th>1</th>\n      <td>0.990</td>\n      <td>0.276310</td>\n      <td>8.498828</td>\n      <td>0.000000e+00</td>\n      <td>10.0</td>\n      <td>0.045057</td>\n      <td>0.064044</td>\n    </tr>\n    <tr>\n      <th>2</th>\n      <td>0.985</td>\n      <td>0.226002</td>\n      <td>6.929660</td>\n      <td>0.000000e+00</td>\n      <td>15.0</td>\n      <td>0.038320</td>\n      <td>0.076163</td>\n    </tr>\n    <tr>\n      <th>3</th>\n      <td>0.980</td>\n      <td>0.192335</td>\n      <td>5.763895</td>\n      <td>0.000000e+00</td>\n      <td>20.0</td>\n      <td>0.033990</td>\n      <td>0.090452</td>\n    </tr>\n    <tr>\n      <th>4</th>\n      <td>0.975</td>\n      <td>0.168900</td>\n      <td>5.016859</td>\n      <td>0.000000e+00</td>\n      <td>25.0</td>\n      <td>0.031146</td>\n      <td>0.101155</td>\n    </tr>\n    <tr>\n      <th>5</th>\n      <td>0.970</td>\n      <td>0.150221</td>\n      <td>4.509366</td>\n      <td>0.000000e+00</td>\n      <td>30.0</td>\n      <td>0.029134</td>\n      <td>0.111962</td>\n    </tr>\n    <tr>\n      <th>6</th>\n      <td>0.965</td>\n      <td>0.135864</td>\n      <td>4.091156</td>\n      <td>0.000000e+00</td>\n      <td>40.0</td>\n      <td>0.025306</td>\n      <td>0.127757</td>\n    </tr>\n    <tr>\n      <th>7</th>\n      <td>0.960</td>\n      <td>0.124182</td>\n      <td>3.773703</td>\n      <td>8.059693e-320</td>\n      <td>50.0</td>\n      <td>0.022747</td>\n      <td>0.143549</td>\n    </tr>\n  </tbody>\n</table>\n</div>"
     },
     "execution_count": 4,
     "metadata": {},
     "output_type": "execute_result"
    }
   ],
   "source": [
    "res = pd.concat([df_enr, df_pre], ignore_index=False, axis=1)\n",
    "res.to_csv('results.csv')\n",
    "\n",
    "res"
   ],
   "metadata": {
    "collapsed": false,
    "pycharm": {
     "name": "#%%\n"
    }
   }
  },
  {
   "cell_type": "code",
   "execution_count": 5,
   "outputs": [
    {
     "data": {
      "text/plain": "0.055012979647059354"
     },
     "execution_count": 5,
     "metadata": {},
     "output_type": "execute_result"
    }
   ],
   "source": [
    "df_pre_r"
   ],
   "metadata": {
    "collapsed": false,
    "pycharm": {
     "name": "#%%\n"
    }
   }
  },
  {
   "cell_type": "code",
   "execution_count": null,
   "outputs": [],
   "source": [],
   "metadata": {
    "collapsed": false,
    "pycharm": {
     "name": "#%%\n"
    }
   }
  }
 ],
 "metadata": {
  "kernelspec": {
   "display_name": "Python 3",
   "language": "python",
   "name": "python3"
  },
  "language_info": {
   "codemirror_mode": {
    "name": "ipython",
    "version": 2
   },
   "file_extension": ".py",
   "mimetype": "text/x-python",
   "name": "python",
   "nbconvert_exporter": "python",
   "pygments_lexer": "ipython2",
   "version": "2.7.6"
  }
 },
 "nbformat": 4,
 "nbformat_minor": 0
}