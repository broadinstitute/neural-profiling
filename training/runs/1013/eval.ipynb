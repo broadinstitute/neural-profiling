{
 "cells": [
  {
   "cell_type": "code",
   "execution_count": 1,
   "metadata": {
    "collapsed": true
   },
   "outputs": [],
   "source": [
    "import matplotlib.pyplot as plt\n",
    "import numpy as np\n",
    "import pandas as pd\n",
    "import sys\n",
    "sys.path.insert(0, \"/Users/mbornhol/git/neural-profiling\")\n",
    "from utils import eval"
   ]
  },
  {
   "cell_type": "code",
   "execution_count": 2,
   "outputs": [
    {
     "name": "stderr",
     "output_type": "stream",
     "text": [
      "/Users/mbornhol/miniconda3/envs/cyto_eval/lib/python3.7/site-packages/IPython/core/interactiveshell.py:3166: DtypeWarning: Columns (12) have mixed types.Specify dtype option on import or set low_memory=False.\n",
      "  interactivity=interactivity, compiler=compiler, result=result)\n"
     ]
    },
    {
     "name": "stdout",
     "output_type": "stream",
     "text": [
      "1280 features were identified\n"
     ]
    }
   ],
   "source": [
    "df = pd.read_csv(\"1013_aggregated_median.csv\")\n",
    "e = eval.evaluation(df)\n",
    "df = e.norm_agg()\n",
    "name = 'df'"
   ],
   "metadata": {
    "collapsed": false,
    "pycharm": {
     "name": "#%%\n"
    }
   }
  },
  {
   "cell_type": "code",
   "execution_count": 3,
   "outputs": [],
   "source": [
    "exec(name + \"_pre = eval.prec_mean(e.eval(\" + name + \", operation = 'precision_recall'))\")\n",
    "#exec(name + \"_pre_r = e.eval(\" + name + \", operation = 'precision_recall', eval_range='R').precision.mean()\")\n",
    "#exec(name + \"_hit = eval.hitk_prep(e.eval(\" + name + \", operation = 'hitk'))\")\n",
    "exec(name + \"_enr = e.eval(\" + name + \", operation = 'enrichment')\")"
   ],
   "metadata": {
    "collapsed": false,
    "pycharm": {
     "name": "#%%\n"
    }
   }
  },
  {
   "cell_type": "code",
   "execution_count": 4,
   "outputs": [
    {
     "data": {
      "text/plain": "   enrichment_percentile  threshold  ods_ratio        p-value     k  \\\n0                  0.995   0.337010  11.077427  1.896578e-310   5.0   \n1                  0.990   0.257794   8.318430   0.000000e+00  10.0   \n2                  0.985   0.213317   6.739163   0.000000e+00  15.0   \n3                  0.980   0.183677   5.855478   0.000000e+00  20.0   \n4                  0.975   0.161771   5.143244   0.000000e+00  25.0   \n5                  0.970   0.145334   4.659870   0.000000e+00  30.0   \n6                  0.965   0.132320   4.282259   0.000000e+00  40.0   \n7                  0.960   0.121754   3.955501   0.000000e+00  50.0   \n\n   precision    recall  \n0   0.057568  0.045538  \n1   0.044444  0.063713  \n2   0.038087  0.080693  \n3   0.034471  0.093859  \n4   0.031986  0.107035  \n5   0.029950  0.119588  \n6   0.026050  0.135740  \n7   0.023307  0.150573  ",
      "text/html": "<div>\n<style scoped>\n    .dataframe tbody tr th:only-of-type {\n        vertical-align: middle;\n    }\n\n    .dataframe tbody tr th {\n        vertical-align: top;\n    }\n\n    .dataframe thead th {\n        text-align: right;\n    }\n</style>\n<table border=\"1\" class=\"dataframe\">\n  <thead>\n    <tr style=\"text-align: right;\">\n      <th></th>\n      <th>enrichment_percentile</th>\n      <th>threshold</th>\n      <th>ods_ratio</th>\n      <th>p-value</th>\n      <th>k</th>\n      <th>precision</th>\n      <th>recall</th>\n    </tr>\n  </thead>\n  <tbody>\n    <tr>\n      <th>0</th>\n      <td>0.995</td>\n      <td>0.337010</td>\n      <td>11.077427</td>\n      <td>1.896578e-310</td>\n      <td>5.0</td>\n      <td>0.057568</td>\n      <td>0.045538</td>\n    </tr>\n    <tr>\n      <th>1</th>\n      <td>0.990</td>\n      <td>0.257794</td>\n      <td>8.318430</td>\n      <td>0.000000e+00</td>\n      <td>10.0</td>\n      <td>0.044444</td>\n      <td>0.063713</td>\n    </tr>\n    <tr>\n      <th>2</th>\n      <td>0.985</td>\n      <td>0.213317</td>\n      <td>6.739163</td>\n      <td>0.000000e+00</td>\n      <td>15.0</td>\n      <td>0.038087</td>\n      <td>0.080693</td>\n    </tr>\n    <tr>\n      <th>3</th>\n      <td>0.980</td>\n      <td>0.183677</td>\n      <td>5.855478</td>\n      <td>0.000000e+00</td>\n      <td>20.0</td>\n      <td>0.034471</td>\n      <td>0.093859</td>\n    </tr>\n    <tr>\n      <th>4</th>\n      <td>0.975</td>\n      <td>0.161771</td>\n      <td>5.143244</td>\n      <td>0.000000e+00</td>\n      <td>25.0</td>\n      <td>0.031986</td>\n      <td>0.107035</td>\n    </tr>\n    <tr>\n      <th>5</th>\n      <td>0.970</td>\n      <td>0.145334</td>\n      <td>4.659870</td>\n      <td>0.000000e+00</td>\n      <td>30.0</td>\n      <td>0.029950</td>\n      <td>0.119588</td>\n    </tr>\n    <tr>\n      <th>6</th>\n      <td>0.965</td>\n      <td>0.132320</td>\n      <td>4.282259</td>\n      <td>0.000000e+00</td>\n      <td>40.0</td>\n      <td>0.026050</td>\n      <td>0.135740</td>\n    </tr>\n    <tr>\n      <th>7</th>\n      <td>0.960</td>\n      <td>0.121754</td>\n      <td>3.955501</td>\n      <td>0.000000e+00</td>\n      <td>50.0</td>\n      <td>0.023307</td>\n      <td>0.150573</td>\n    </tr>\n  </tbody>\n</table>\n</div>"
     },
     "execution_count": 4,
     "metadata": {},
     "output_type": "execute_result"
    }
   ],
   "source": [
    "res = pd.concat([df_enr, df_pre], ignore_index=False, axis=1)\n",
    "res.to_csv('results.csv')\n",
    "\n",
    "res"
   ],
   "metadata": {
    "collapsed": false,
    "pycharm": {
     "name": "#%%\n"
    }
   }
  },
  {
   "cell_type": "code",
   "execution_count": null,
   "outputs": [],
   "source": [],
   "metadata": {
    "collapsed": false,
    "pycharm": {
     "name": "#%%\n"
    }
   }
  }
 ],
 "metadata": {
  "kernelspec": {
   "display_name": "Python 3",
   "language": "python",
   "name": "python3"
  },
  "language_info": {
   "codemirror_mode": {
    "name": "ipython",
    "version": 2
   },
   "file_extension": ".py",
   "mimetype": "text/x-python",
   "name": "python",
   "nbconvert_exporter": "python",
   "pygments_lexer": "ipython2",
   "version": "2.7.6"
  }
 },
 "nbformat": 4,
 "nbformat_minor": 0
}