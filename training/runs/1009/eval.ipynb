{
 "cells": [
  {
   "cell_type": "code",
   "execution_count": 1,
   "metadata": {
    "collapsed": true
   },
   "outputs": [],
   "source": [
    "import matplotlib.pyplot as plt\n",
    "import numpy as np\n",
    "import pandas as pd\n",
    "import sys\n",
    "sys.path.insert(0, \"/Users/mbornhol/git/neural-profiling\")\n",
    "from utils import eval"
   ]
  },
  {
   "cell_type": "code",
   "execution_count": 2,
   "outputs": [
    {
     "name": "stderr",
     "output_type": "stream",
     "text": [
      "/Users/mbornhol/miniconda3/envs/cyto_eval/lib/python3.7/site-packages/IPython/core/interactiveshell.py:3166: DtypeWarning: Columns (12) have mixed types.Specify dtype option on import or set low_memory=False.\n",
      "  interactivity=interactivity, compiler=compiler, result=result)\n"
     ]
    },
    {
     "name": "stdout",
     "output_type": "stream",
     "text": [
      "1280 features were identified\n"
     ]
    }
   ],
   "source": [
    "df = pd.read_csv(\"1009_aggregated_median.csv\")\n",
    "e = eval.evaluation(df)\n",
    "df = e.norm_agg()\n",
    "name = 'df'"
   ],
   "metadata": {
    "collapsed": false,
    "pycharm": {
     "name": "#%%\n"
    }
   }
  },
  {
   "cell_type": "code",
   "execution_count": 3,
   "outputs": [],
   "source": [
    "exec(name + \"_pre = eval.prec_mean(e.eval(\" + name + \", operation = 'precision_recall'))\")\n",
    "exec(name + \"_pre_r = e.eval(\" + name + \", operation = 'precision_recall', eval_range='R').precision.mean()\")\n",
    "#exec(name + \"_hit = eval.hitk_prep(e.eval(\" + name + \", operation = 'hitk'))\")\n",
    "exec(name + \"_enr = e.eval(\" + name + \", operation = 'enrichment')\")"
   ],
   "metadata": {
    "collapsed": false,
    "pycharm": {
     "name": "#%%\n"
    }
   }
  },
  {
   "cell_type": "code",
   "execution_count": 4,
   "outputs": [
    {
     "data": {
      "text/plain": "   enrichment_percentile  threshold  ods_ratio        p-value     k  \\\n0                  0.995   0.364927  10.017225  1.821206e-267   5.0   \n1                  0.990   0.271388   7.155801  5.397571e-301  10.0   \n2                  0.985   0.220578   5.940103  2.758966e-318  15.0   \n3                  0.980   0.187005   5.247782   0.000000e+00  20.0   \n4                  0.975   0.162994   4.745955   0.000000e+00  25.0   \n5                  0.970   0.144242   4.255852  1.528313e-318  30.0   \n6                  0.965   0.130079   3.857746  5.397201e-299  40.0   \n7                  0.960   0.118654   3.601097  2.438881e-290  50.0   \n\n   precision    recall  \n0   0.055643  0.044055  \n1   0.040332  0.056734  \n2   0.035462  0.073679  \n3   0.031671  0.086574  \n4   0.028941  0.096890  \n5   0.026772  0.104272  \n6   0.023578  0.119071  \n7   0.021365  0.133370  ",
      "text/html": "<div>\n<style scoped>\n    .dataframe tbody tr th:only-of-type {\n        vertical-align: middle;\n    }\n\n    .dataframe tbody tr th {\n        vertical-align: top;\n    }\n\n    .dataframe thead th {\n        text-align: right;\n    }\n</style>\n<table border=\"1\" class=\"dataframe\">\n  <thead>\n    <tr style=\"text-align: right;\">\n      <th></th>\n      <th>enrichment_percentile</th>\n      <th>threshold</th>\n      <th>ods_ratio</th>\n      <th>p-value</th>\n      <th>k</th>\n      <th>precision</th>\n      <th>recall</th>\n    </tr>\n  </thead>\n  <tbody>\n    <tr>\n      <th>0</th>\n      <td>0.995</td>\n      <td>0.364927</td>\n      <td>10.017225</td>\n      <td>1.821206e-267</td>\n      <td>5.0</td>\n      <td>0.055643</td>\n      <td>0.044055</td>\n    </tr>\n    <tr>\n      <th>1</th>\n      <td>0.990</td>\n      <td>0.271388</td>\n      <td>7.155801</td>\n      <td>5.397571e-301</td>\n      <td>10.0</td>\n      <td>0.040332</td>\n      <td>0.056734</td>\n    </tr>\n    <tr>\n      <th>2</th>\n      <td>0.985</td>\n      <td>0.220578</td>\n      <td>5.940103</td>\n      <td>2.758966e-318</td>\n      <td>15.0</td>\n      <td>0.035462</td>\n      <td>0.073679</td>\n    </tr>\n    <tr>\n      <th>3</th>\n      <td>0.980</td>\n      <td>0.187005</td>\n      <td>5.247782</td>\n      <td>0.000000e+00</td>\n      <td>20.0</td>\n      <td>0.031671</td>\n      <td>0.086574</td>\n    </tr>\n    <tr>\n      <th>4</th>\n      <td>0.975</td>\n      <td>0.162994</td>\n      <td>4.745955</td>\n      <td>0.000000e+00</td>\n      <td>25.0</td>\n      <td>0.028941</td>\n      <td>0.096890</td>\n    </tr>\n    <tr>\n      <th>5</th>\n      <td>0.970</td>\n      <td>0.144242</td>\n      <td>4.255852</td>\n      <td>1.528313e-318</td>\n      <td>30.0</td>\n      <td>0.026772</td>\n      <td>0.104272</td>\n    </tr>\n    <tr>\n      <th>6</th>\n      <td>0.965</td>\n      <td>0.130079</td>\n      <td>3.857746</td>\n      <td>5.397201e-299</td>\n      <td>40.0</td>\n      <td>0.023578</td>\n      <td>0.119071</td>\n    </tr>\n    <tr>\n      <th>7</th>\n      <td>0.960</td>\n      <td>0.118654</td>\n      <td>3.601097</td>\n      <td>2.438881e-290</td>\n      <td>50.0</td>\n      <td>0.021365</td>\n      <td>0.133370</td>\n    </tr>\n  </tbody>\n</table>\n</div>"
     },
     "execution_count": 4,
     "metadata": {},
     "output_type": "execute_result"
    }
   ],
   "source": [
    "res = pd.concat([df_enr, df_pre], ignore_index=False, axis=1)\n",
    "res.to_csv('results.csv')\n",
    "\n",
    "res"
   ],
   "metadata": {
    "collapsed": false,
    "pycharm": {
     "name": "#%%\n"
    }
   }
  },
  {
   "cell_type": "code",
   "execution_count": 5,
   "outputs": [
    {
     "data": {
      "text/plain": "0.051048263303927074"
     },
     "execution_count": 5,
     "metadata": {},
     "output_type": "execute_result"
    }
   ],
   "source": [
    "\n",
    "df_pre_r"
   ],
   "metadata": {
    "collapsed": false,
    "pycharm": {
     "name": "#%%\n"
    }
   }
  },
  {
   "cell_type": "code",
   "execution_count": null,
   "outputs": [],
   "source": [],
   "metadata": {
    "collapsed": false,
    "pycharm": {
     "name": "#%%\n"
    }
   }
  }
 ],
 "metadata": {
  "kernelspec": {
   "display_name": "Python 3",
   "language": "python",
   "name": "python3"
  },
  "language_info": {
   "codemirror_mode": {
    "name": "ipython",
    "version": 2
   },
   "file_extension": ".py",
   "mimetype": "text/x-python",
   "name": "python",
   "nbconvert_exporter": "python",
   "pygments_lexer": "ipython2",
   "version": "2.7.6"
  }
 },
 "nbformat": 4,
 "nbformat_minor": 0
}