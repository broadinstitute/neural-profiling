{
 "cells": [
  {
   "cell_type": "code",
   "execution_count": 1,
   "metadata": {
    "collapsed": true
   },
   "outputs": [],
   "source": [
    "import matplotlib.pyplot as plt\n",
    "import numpy as np\n",
    "import pandas as pd\n",
    "import sys\n",
    "sys.path.insert(0, \"/Users/mbornhol/git/neural-profiling\")\n",
    "from utils import eval"
   ]
  },
  {
   "cell_type": "code",
   "execution_count": 2,
   "outputs": [
    {
     "name": "stderr",
     "output_type": "stream",
     "text": [
      "/Users/mbornhol/miniconda3/envs/cyto_eval/lib/python3.7/site-packages/IPython/core/interactiveshell.py:3166: DtypeWarning: Columns (12) have mixed types.Specify dtype option on import or set low_memory=False.\n",
      "  interactivity=interactivity, compiler=compiler, result=result)\n"
     ]
    },
    {
     "name": "stdout",
     "output_type": "stream",
     "text": [
      "1280 features were identified\n"
     ]
    }
   ],
   "source": [
    "df = pd.read_csv(\"1107_aggregated_median.csv\")\n",
    "e = eval.evaluation(df)\n",
    "df = e.norm_agg()\n",
    "name = 'df'"
   ],
   "metadata": {
    "collapsed": false,
    "pycharm": {
     "name": "#%%\n"
    }
   }
  },
  {
   "cell_type": "code",
   "execution_count": 3,
   "outputs": [],
   "source": [
    "exec(name + \"_pre = eval.prec_mean(e.eval(\" + name + \", operation = 'precision_recall'))\")\n",
    "exec(name + \"_pre_r = e.eval(\" + name + \", operation = 'precision_recall', eval_range='R').precision.mean()\")\n",
    "exec(name + \"_hit = eval.hitk_prep(e.eval(\" + name + \", operation = 'hitk'))\")\n",
    "exec(name + \"_enr = e.eval(\" + name + \", operation = 'enrichment')\")"
   ],
   "metadata": {
    "collapsed": false,
    "pycharm": {
     "name": "#%%\n"
    }
   }
  },
  {
   "cell_type": "code",
   "execution_count": 4,
   "outputs": [
    {
     "data": {
      "text/plain": "   enrichment_percentile  threshold  ods_ratio  p-value     k  precision  \\\n0                  0.995   0.379195  14.786610      0.0   5.0   0.067717   \n1                  0.990   0.284518  10.083987      0.0  10.0   0.054068   \n2                  0.985   0.233053   7.884539      0.0  15.0   0.046253   \n3                  0.980   0.199298   6.466877      0.0  20.0   0.040507   \n4                  0.975   0.175298   5.614101      0.0  25.0   0.036745   \n5                  0.970   0.157661   4.910864      0.0  30.0   0.033567   \n6                  0.965   0.143210   4.468173      0.0  40.0   0.028631   \n7                  0.960   0.131630   4.167504      0.0  50.0   0.025337   \n\n     recall  \n0  0.057086  \n1  0.081157  \n2  0.099470  \n3  0.112118  \n4  0.125010  \n5  0.134506  \n6  0.151171  \n7  0.166353  ",
      "text/html": "<div>\n<style scoped>\n    .dataframe tbody tr th:only-of-type {\n        vertical-align: middle;\n    }\n\n    .dataframe tbody tr th {\n        vertical-align: top;\n    }\n\n    .dataframe thead th {\n        text-align: right;\n    }\n</style>\n<table border=\"1\" class=\"dataframe\">\n  <thead>\n    <tr style=\"text-align: right;\">\n      <th></th>\n      <th>enrichment_percentile</th>\n      <th>threshold</th>\n      <th>ods_ratio</th>\n      <th>p-value</th>\n      <th>k</th>\n      <th>precision</th>\n      <th>recall</th>\n    </tr>\n  </thead>\n  <tbody>\n    <tr>\n      <th>0</th>\n      <td>0.995</td>\n      <td>0.379195</td>\n      <td>14.786610</td>\n      <td>0.0</td>\n      <td>5.0</td>\n      <td>0.067717</td>\n      <td>0.057086</td>\n    </tr>\n    <tr>\n      <th>1</th>\n      <td>0.990</td>\n      <td>0.284518</td>\n      <td>10.083987</td>\n      <td>0.0</td>\n      <td>10.0</td>\n      <td>0.054068</td>\n      <td>0.081157</td>\n    </tr>\n    <tr>\n      <th>2</th>\n      <td>0.985</td>\n      <td>0.233053</td>\n      <td>7.884539</td>\n      <td>0.0</td>\n      <td>15.0</td>\n      <td>0.046253</td>\n      <td>0.099470</td>\n    </tr>\n    <tr>\n      <th>3</th>\n      <td>0.980</td>\n      <td>0.199298</td>\n      <td>6.466877</td>\n      <td>0.0</td>\n      <td>20.0</td>\n      <td>0.040507</td>\n      <td>0.112118</td>\n    </tr>\n    <tr>\n      <th>4</th>\n      <td>0.975</td>\n      <td>0.175298</td>\n      <td>5.614101</td>\n      <td>0.0</td>\n      <td>25.0</td>\n      <td>0.036745</td>\n      <td>0.125010</td>\n    </tr>\n    <tr>\n      <th>5</th>\n      <td>0.970</td>\n      <td>0.157661</td>\n      <td>4.910864</td>\n      <td>0.0</td>\n      <td>30.0</td>\n      <td>0.033567</td>\n      <td>0.134506</td>\n    </tr>\n    <tr>\n      <th>6</th>\n      <td>0.965</td>\n      <td>0.143210</td>\n      <td>4.468173</td>\n      <td>0.0</td>\n      <td>40.0</td>\n      <td>0.028631</td>\n      <td>0.151171</td>\n    </tr>\n    <tr>\n      <th>7</th>\n      <td>0.960</td>\n      <td>0.131630</td>\n      <td>4.167504</td>\n      <td>0.0</td>\n      <td>50.0</td>\n      <td>0.025337</td>\n      <td>0.166353</td>\n    </tr>\n  </tbody>\n</table>\n</div>"
     },
     "execution_count": 4,
     "metadata": {},
     "output_type": "execute_result"
    }
   ],
   "source": [
    "res = pd.concat([df_enr, df_pre], ignore_index=False, axis=1)\n",
    "res.to_csv('results.csv')\n",
    "\n",
    "res"
   ],
   "metadata": {
    "collapsed": false,
    "pycharm": {
     "name": "#%%\n"
    }
   }
  },
  {
   "cell_type": "code",
   "execution_count": 5,
   "outputs": [
    {
     "data": {
      "text/plain": "0.07026821622572375"
     },
     "execution_count": 5,
     "metadata": {},
     "output_type": "execute_result"
    }
   ],
   "source": [
    "df_pre_r\n"
   ],
   "metadata": {
    "collapsed": false,
    "pycharm": {
     "name": "#%%\n"
    }
   }
  },
  {
   "cell_type": "code",
   "execution_count": null,
   "outputs": [],
   "source": [],
   "metadata": {
    "collapsed": false,
    "pycharm": {
     "name": "#%%\n"
    }
   }
  }
 ],
 "metadata": {
  "kernelspec": {
   "display_name": "Python 3",
   "language": "python",
   "name": "python3"
  },
  "language_info": {
   "codemirror_mode": {
    "name": "ipython",
    "version": 2
   },
   "file_extension": ".py",
   "mimetype": "text/x-python",
   "name": "python",
   "nbconvert_exporter": "python",
   "pygments_lexer": "ipython2",
   "version": "2.7.6"
  }
 },
 "nbformat": 4,
 "nbformat_minor": 0
}