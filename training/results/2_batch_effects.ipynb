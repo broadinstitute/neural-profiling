{
 "cells": [
  {
   "cell_type": "code",
   "execution_count": 55,
   "metadata": {
    "collapsed": true
   },
   "outputs": [],
   "source": [
    "import pandas as pd\n",
    "import numpy as np\n",
    "import matplotlib.pyplot as plt\n",
    "from pycytominer import aggregate, annotate, normalize, feature_select, cyto_utils\n",
    "from cytominer_eval import evaluate\n",
    "from cytominer_eval.transform import metric_melt\n",
    "from pycytominer.cyto_utils import infer_cp_features\n",
    "import seaborn as sns\n",
    "from sklearn.decomposition import PCA\n",
    "import sys\n",
    "sys.path.insert(0, \"/Users/mbornhol/git/neural-profiling\")\n",
    "from utils import eval"
   ]
  },
  {
   "cell_type": "code",
   "execution_count": 56,
   "outputs": [
    {
     "name": "stderr",
     "output_type": "stream",
     "text": [
      "/Users/mbornhol/miniconda3/envs/cyto_eval/lib/python3.7/site-packages/IPython/core/interactiveshell.py:3166: DtypeWarning: Columns (8,9,16,17,18,20,21,22,23,24) have mixed types.Specify dtype option on import or set low_memory=False.\n",
      "  interactivity=interactivity, compiler=compiler, result=result)\n"
     ]
    }
   ],
   "source": [
    "index = pd.read_csv(\"../00_index.csv\")\n",
    "batch = pd.read_csv('/Users/mbornhol/git/neural-profiling/baseline/01_data/level_3_data/sub_level3.csv')\n",
    "batch = batch[['Metadata_Batch_Number', 'Metadata_Plate', 'Metadata_Well']]\n",
    "p = np.arange(0.995, 0.98, -0.005)\n"
   ],
   "metadata": {
    "collapsed": false,
    "pycharm": {
     "name": "#%%\n"
    }
   }
  },
  {
   "cell_type": "code",
   "execution_count": 57,
   "outputs": [],
   "source": [
    "def batch_eff(df, frac = 0.2):\n",
    "    DMSO = df[df[\"Metadata_broad_sample\"] == \"DMSO\"]\n",
    "    DMSO = pd.merge(DMSO, batch, how=\"left\", on=['Metadata_Plate', 'Metadata_Well'])\n",
    "    features = [f for f in DMSO.columns if f.startswith(\"eff\")]\n",
    "    meta_features=[f for f in DMSO.columns if not f.startswith(\"eff\")]\n",
    "    DMSO = DMSO.sample(frac=frac)\n",
    "    print(DMSO.shape)\n",
    "    plate_corr = evaluate(\n",
    "        profiles=DMSO,\n",
    "        features=features,\n",
    "        meta_features=meta_features,\n",
    "        replicate_groups=['Metadata_Plate'],\n",
    "        operation=\"enrichment\",\n",
    "        similarity_metric=\"pearson\",\n",
    "        enrichment_percentile=p,\n",
    "    )\n",
    "    batch_corr = evaluate(\n",
    "        profiles=DMSO,\n",
    "        features=features,\n",
    "        meta_features=meta_features,\n",
    "        replicate_groups=['Metadata_Batch_Number'],\n",
    "        operation=\"enrichment\",\n",
    "        similarity_metric=\"pearson\",\n",
    "        enrichment_percentile=p,\n",
    "    )\n",
    "    return pd.concat([plate_corr, batch_corr], axis=1)"
   ],
   "metadata": {
    "collapsed": false,
    "pycharm": {
     "name": "#%%\n"
    }
   }
  },
  {
   "cell_type": "code",
   "execution_count": 59,
   "outputs": [
    {
     "name": "stdout",
     "output_type": "stream",
     "text": [
      "(650, 1299)\n"
     ]
    },
    {
     "data": {
      "text/plain": "   enrichment_percentile  threshold   ods_ratio  p-value  \\\n0                  0.995   0.730764  229.576805      0.0   \n1                  0.990   0.634724  151.486111      0.0   \n2                  0.985   0.572483  117.175643      0.0   \n3                  0.980   0.528446  104.395126      0.0   \n\n   enrichment_percentile  threshold    ods_ratio  p-value  \n0                  0.995   0.730764          inf      0.0  \n1                  0.990   0.634724  1764.689051      0.0  \n2                  0.985   0.572483   327.670016      0.0  \n3                  0.980   0.528446   145.565224      0.0  ",
      "text/html": "<div>\n<style scoped>\n    .dataframe tbody tr th:only-of-type {\n        vertical-align: middle;\n    }\n\n    .dataframe tbody tr th {\n        vertical-align: top;\n    }\n\n    .dataframe thead th {\n        text-align: right;\n    }\n</style>\n<table border=\"1\" class=\"dataframe\">\n  <thead>\n    <tr style=\"text-align: right;\">\n      <th></th>\n      <th>enrichment_percentile</th>\n      <th>threshold</th>\n      <th>ods_ratio</th>\n      <th>p-value</th>\n      <th>enrichment_percentile</th>\n      <th>threshold</th>\n      <th>ods_ratio</th>\n      <th>p-value</th>\n    </tr>\n  </thead>\n  <tbody>\n    <tr>\n      <th>0</th>\n      <td>0.995</td>\n      <td>0.730764</td>\n      <td>229.576805</td>\n      <td>0.0</td>\n      <td>0.995</td>\n      <td>0.730764</td>\n      <td>inf</td>\n      <td>0.0</td>\n    </tr>\n    <tr>\n      <th>1</th>\n      <td>0.990</td>\n      <td>0.634724</td>\n      <td>151.486111</td>\n      <td>0.0</td>\n      <td>0.990</td>\n      <td>0.634724</td>\n      <td>1764.689051</td>\n      <td>0.0</td>\n    </tr>\n    <tr>\n      <th>2</th>\n      <td>0.985</td>\n      <td>0.572483</td>\n      <td>117.175643</td>\n      <td>0.0</td>\n      <td>0.985</td>\n      <td>0.572483</td>\n      <td>327.670016</td>\n      <td>0.0</td>\n    </tr>\n    <tr>\n      <th>3</th>\n      <td>0.980</td>\n      <td>0.528446</td>\n      <td>104.395126</td>\n      <td>0.0</td>\n      <td>0.980</td>\n      <td>0.528446</td>\n      <td>145.565224</td>\n      <td>0.0</td>\n    </tr>\n  </tbody>\n</table>\n</div>"
     },
     "execution_count": 59,
     "metadata": {},
     "output_type": "execute_result"
    }
   ],
   "source": [
    "df = pd.read_csv('/Users/mbornhol/git/neural-profiling/training/runs/1102/1102_aggregated_median.csv', low_memory=False)\n",
    "pre = batch_eff(df)\n",
    "pre"
   ],
   "metadata": {
    "collapsed": false,
    "pycharm": {
     "name": "#%%\n"
    }
   }
  },
  {
   "cell_type": "code",
   "execution_count": null,
   "outputs": [],
   "source": [
    "df = pd.read_csv('/Users/mbornhol/git/neural-profiling/00_thesis/pre_trained/aggregated_efficientnet_median.csv', low_memory=False)\n",
    "pre = batch_eff(df)\n",
    "pre"
   ],
   "metadata": {
    "collapsed": false,
    "pycharm": {
     "name": "#%%\n"
    }
   }
  },
  {
   "cell_type": "code",
   "execution_count": 34,
   "outputs": [
    {
     "name": "stdout",
     "output_type": "stream",
     "text": [
      "(2601, 1299)\n"
     ]
    },
    {
     "data": {
      "text/plain": "   enrichment_percentile  threshold   ods_ratio  p-value  \\\n0                  0.995   0.804328  175.584088      0.0   \n1                  0.990   0.721341  108.494639      0.0   \n2                  0.985   0.656617   87.775223      0.0   \n3                  0.980   0.600813   78.317812      0.0   \n\n   enrichment_percentile  threshold     ods_ratio  p-value  \n0                  0.995   0.804328  23097.460848      0.0  \n1                  0.990   0.721341   3022.323589      0.0  \n2                  0.985   0.656617   1048.860161      0.0  \n3                  0.980   0.600813    445.886209      0.0  ",
      "text/html": "<div>\n<style scoped>\n    .dataframe tbody tr th:only-of-type {\n        vertical-align: middle;\n    }\n\n    .dataframe tbody tr th {\n        vertical-align: top;\n    }\n\n    .dataframe thead th {\n        text-align: right;\n    }\n</style>\n<table border=\"1\" class=\"dataframe\">\n  <thead>\n    <tr style=\"text-align: right;\">\n      <th></th>\n      <th>enrichment_percentile</th>\n      <th>threshold</th>\n      <th>ods_ratio</th>\n      <th>p-value</th>\n      <th>enrichment_percentile</th>\n      <th>threshold</th>\n      <th>ods_ratio</th>\n      <th>p-value</th>\n    </tr>\n  </thead>\n  <tbody>\n    <tr>\n      <th>0</th>\n      <td>0.995</td>\n      <td>0.804328</td>\n      <td>175.584088</td>\n      <td>0.0</td>\n      <td>0.995</td>\n      <td>0.804328</td>\n      <td>23097.460848</td>\n      <td>0.0</td>\n    </tr>\n    <tr>\n      <th>1</th>\n      <td>0.990</td>\n      <td>0.721341</td>\n      <td>108.494639</td>\n      <td>0.0</td>\n      <td>0.990</td>\n      <td>0.721341</td>\n      <td>3022.323589</td>\n      <td>0.0</td>\n    </tr>\n    <tr>\n      <th>2</th>\n      <td>0.985</td>\n      <td>0.656617</td>\n      <td>87.775223</td>\n      <td>0.0</td>\n      <td>0.985</td>\n      <td>0.656617</td>\n      <td>1048.860161</td>\n      <td>0.0</td>\n    </tr>\n    <tr>\n      <th>3</th>\n      <td>0.980</td>\n      <td>0.600813</td>\n      <td>78.317812</td>\n      <td>0.0</td>\n      <td>0.980</td>\n      <td>0.600813</td>\n      <td>445.886209</td>\n      <td>0.0</td>\n    </tr>\n  </tbody>\n</table>\n</div>"
     },
     "execution_count": 34,
     "metadata": {},
     "output_type": "execute_result"
    }
   ],
   "source": [
    "# simple trained model\n",
    "df = pd.read_csv('/Users/mbornhol/git/neural-profiling/training/runs/1008/1008_aggregated_median.csv', low_memory=False)\n",
    "simple = batch_eff(df, frac=0.8)\n",
    "simple"
   ],
   "metadata": {
    "collapsed": false,
    "pycharm": {
     "name": "#%%\n"
    }
   }
  },
  {
   "cell_type": "code",
   "execution_count": 35,
   "outputs": [
    {
     "name": "stdout",
     "output_type": "stream",
     "text": [
      "(2601, 1299)\n"
     ]
    },
    {
     "data": {
      "text/plain": "   enrichment_percentile  threshold   ods_ratio  p-value  \\\n0                  0.995   0.817762  126.394886      0.0   \n1                  0.990   0.745647   83.535071      0.0   \n2                  0.985   0.691788   67.578931      0.0   \n3                  0.980   0.646383   58.800579      0.0   \n\n   enrichment_percentile  threshold    ods_ratio  p-value  \n0                  0.995   0.817762  3277.065203      0.0  \n1                  0.990   0.745647   635.479434      0.0  \n2                  0.985   0.691788   292.065106      0.0  \n3                  0.980   0.646383   167.235243      0.0  ",
      "text/html": "<div>\n<style scoped>\n    .dataframe tbody tr th:only-of-type {\n        vertical-align: middle;\n    }\n\n    .dataframe tbody tr th {\n        vertical-align: top;\n    }\n\n    .dataframe thead th {\n        text-align: right;\n    }\n</style>\n<table border=\"1\" class=\"dataframe\">\n  <thead>\n    <tr style=\"text-align: right;\">\n      <th></th>\n      <th>enrichment_percentile</th>\n      <th>threshold</th>\n      <th>ods_ratio</th>\n      <th>p-value</th>\n      <th>enrichment_percentile</th>\n      <th>threshold</th>\n      <th>ods_ratio</th>\n      <th>p-value</th>\n    </tr>\n  </thead>\n  <tbody>\n    <tr>\n      <th>0</th>\n      <td>0.995</td>\n      <td>0.817762</td>\n      <td>126.394886</td>\n      <td>0.0</td>\n      <td>0.995</td>\n      <td>0.817762</td>\n      <td>3277.065203</td>\n      <td>0.0</td>\n    </tr>\n    <tr>\n      <th>1</th>\n      <td>0.990</td>\n      <td>0.745647</td>\n      <td>83.535071</td>\n      <td>0.0</td>\n      <td>0.990</td>\n      <td>0.745647</td>\n      <td>635.479434</td>\n      <td>0.0</td>\n    </tr>\n    <tr>\n      <th>2</th>\n      <td>0.985</td>\n      <td>0.691788</td>\n      <td>67.578931</td>\n      <td>0.0</td>\n      <td>0.985</td>\n      <td>0.691788</td>\n      <td>292.065106</td>\n      <td>0.0</td>\n    </tr>\n    <tr>\n      <th>3</th>\n      <td>0.980</td>\n      <td>0.646383</td>\n      <td>58.800579</td>\n      <td>0.0</td>\n      <td>0.980</td>\n      <td>0.646383</td>\n      <td>167.235243</td>\n      <td>0.0</td>\n    </tr>\n  </tbody>\n</table>\n</div>"
     },
     "execution_count": 35,
     "metadata": {},
     "output_type": "execute_result"
    }
   ],
   "source": [
    "# simple trained model. Aug on\n",
    "df = pd.read_csv('/Users/mbornhol/git/neural-profiling/training/runs/1010/1010_aggregated_median.csv', low_memory=False)\n",
    "simple_aug = batch_eff(df, frac=0.8)\n",
    "simple_aug"
   ],
   "metadata": {
    "collapsed": false,
    "pycharm": {
     "name": "#%%\n"
    }
   }
  },
  {
   "cell_type": "code",
   "execution_count": 44,
   "outputs": [
    {
     "name": "stdout",
     "output_type": "stream",
     "text": [
      "(2601, 1299)\n"
     ]
    },
    {
     "data": {
      "text/plain": "   enrichment_percentile  threshold   ods_ratio  p-value  \\\n0                  0.995   0.786295  121.453391      0.0   \n1                  0.990   0.701529   78.811520      0.0   \n2                  0.985   0.637497   62.799660      0.0   \n3                  0.980   0.586275   54.307242      0.0   \n\n   enrichment_percentile  threshold    ods_ratio  p-value  \n0                  0.995   0.786295  2030.214450      0.0  \n1                  0.990   0.701529   452.052936      0.0  \n2                  0.985   0.637497   208.849538      0.0  \n3                  0.980   0.586275   120.700788      0.0  ",
      "text/html": "<div>\n<style scoped>\n    .dataframe tbody tr th:only-of-type {\n        vertical-align: middle;\n    }\n\n    .dataframe tbody tr th {\n        vertical-align: top;\n    }\n\n    .dataframe thead th {\n        text-align: right;\n    }\n</style>\n<table border=\"1\" class=\"dataframe\">\n  <thead>\n    <tr style=\"text-align: right;\">\n      <th></th>\n      <th>enrichment_percentile</th>\n      <th>threshold</th>\n      <th>ods_ratio</th>\n      <th>p-value</th>\n      <th>enrichment_percentile</th>\n      <th>threshold</th>\n      <th>ods_ratio</th>\n      <th>p-value</th>\n    </tr>\n  </thead>\n  <tbody>\n    <tr>\n      <th>0</th>\n      <td>0.995</td>\n      <td>0.786295</td>\n      <td>121.453391</td>\n      <td>0.0</td>\n      <td>0.995</td>\n      <td>0.786295</td>\n      <td>2030.214450</td>\n      <td>0.0</td>\n    </tr>\n    <tr>\n      <th>1</th>\n      <td>0.990</td>\n      <td>0.701529</td>\n      <td>78.811520</td>\n      <td>0.0</td>\n      <td>0.990</td>\n      <td>0.701529</td>\n      <td>452.052936</td>\n      <td>0.0</td>\n    </tr>\n    <tr>\n      <th>2</th>\n      <td>0.985</td>\n      <td>0.637497</td>\n      <td>62.799660</td>\n      <td>0.0</td>\n      <td>0.985</td>\n      <td>0.637497</td>\n      <td>208.849538</td>\n      <td>0.0</td>\n    </tr>\n    <tr>\n      <th>3</th>\n      <td>0.980</td>\n      <td>0.586275</td>\n      <td>54.307242</td>\n      <td>0.0</td>\n      <td>0.980</td>\n      <td>0.586275</td>\n      <td>120.700788</td>\n      <td>0.0</td>\n    </tr>\n  </tbody>\n</table>\n</div>"
     },
     "execution_count": 44,
     "metadata": {},
     "output_type": "execute_result"
    }
   ],
   "source": [
    "# simple trained model. Aug off. label on\n",
    "df = pd.read_csv('/Users/mbornhol/git/neural-profiling/training/runs/1012/1012_aggregated_median.csv', low_memory=False)\n",
    "simple_aug = batch_eff(df, frac=0.8)\n",
    "simple_aug"
   ],
   "metadata": {
    "collapsed": false,
    "pycharm": {
     "name": "#%%\n"
    }
   }
  },
  {
   "cell_type": "code",
   "execution_count": 36,
   "outputs": [
    {
     "name": "stdout",
     "output_type": "stream",
     "text": [
      "(2601, 1299)\n"
     ]
    },
    {
     "data": {
      "text/plain": "   enrichment_percentile  threshold   ods_ratio  p-value  \\\n0                  0.995   0.779838  219.635693      0.0   \n1                  0.990   0.689968  131.641079      0.0   \n2                  0.985   0.624161  106.333779      0.0   \n3                  0.980   0.570379   93.619948      0.0   \n\n   enrichment_percentile  threshold     ods_ratio  p-value  \n0                  0.995   0.779838  11493.216113      0.0  \n1                  0.990   0.689968    927.042423      0.0  \n2                  0.985   0.624161    327.737967      0.0  \n3                  0.980   0.570379    170.990431      0.0  ",
      "text/html": "<div>\n<style scoped>\n    .dataframe tbody tr th:only-of-type {\n        vertical-align: middle;\n    }\n\n    .dataframe tbody tr th {\n        vertical-align: top;\n    }\n\n    .dataframe thead th {\n        text-align: right;\n    }\n</style>\n<table border=\"1\" class=\"dataframe\">\n  <thead>\n    <tr style=\"text-align: right;\">\n      <th></th>\n      <th>enrichment_percentile</th>\n      <th>threshold</th>\n      <th>ods_ratio</th>\n      <th>p-value</th>\n      <th>enrichment_percentile</th>\n      <th>threshold</th>\n      <th>ods_ratio</th>\n      <th>p-value</th>\n    </tr>\n  </thead>\n  <tbody>\n    <tr>\n      <th>0</th>\n      <td>0.995</td>\n      <td>0.779838</td>\n      <td>219.635693</td>\n      <td>0.0</td>\n      <td>0.995</td>\n      <td>0.779838</td>\n      <td>11493.216113</td>\n      <td>0.0</td>\n    </tr>\n    <tr>\n      <th>1</th>\n      <td>0.990</td>\n      <td>0.689968</td>\n      <td>131.641079</td>\n      <td>0.0</td>\n      <td>0.990</td>\n      <td>0.689968</td>\n      <td>927.042423</td>\n      <td>0.0</td>\n    </tr>\n    <tr>\n      <th>2</th>\n      <td>0.985</td>\n      <td>0.624161</td>\n      <td>106.333779</td>\n      <td>0.0</td>\n      <td>0.985</td>\n      <td>0.624161</td>\n      <td>327.737967</td>\n      <td>0.0</td>\n    </tr>\n    <tr>\n      <th>3</th>\n      <td>0.980</td>\n      <td>0.570379</td>\n      <td>93.619948</td>\n      <td>0.0</td>\n      <td>0.980</td>\n      <td>0.570379</td>\n      <td>170.990431</td>\n      <td>0.0</td>\n    </tr>\n  </tbody>\n</table>\n</div>"
     },
     "execution_count": 36,
     "metadata": {},
     "output_type": "execute_result"
    }
   ],
   "source": [
    "# stronger trained model. Aug off\n",
    "df = pd.read_csv('/Users/mbornhol/git/neural-profiling/training/runs/1101/1101_aggregated_median.csv', low_memory=False)\n",
    "good_off = batch_eff(df, frac=0.8)\n",
    "good_off"
   ],
   "metadata": {
    "collapsed": false,
    "pycharm": {
     "name": "#%%\n"
    }
   }
  },
  {
   "cell_type": "code",
   "execution_count": 37,
   "outputs": [
    {
     "name": "stdout",
     "output_type": "stream",
     "text": [
      "(2601, 1299)\n"
     ]
    },
    {
     "data": {
      "text/plain": "   enrichment_percentile  threshold   ods_ratio  p-value  \\\n0                  0.995   0.670208  182.316746      0.0   \n1                  0.990   0.546662  113.081949      0.0   \n2                  0.985   0.466179   89.769236      0.0   \n3                  0.980   0.406170   79.050021      0.0   \n\n   enrichment_percentile  threshold    ods_ratio  p-value  \n0                  0.995   0.670208  4588.357721      0.0  \n1                  0.990   0.546662  1549.247064      0.0  \n2                  0.985   0.466179   476.026613      0.0  \n3                  0.980   0.406170   228.119729      0.0  ",
      "text/html": "<div>\n<style scoped>\n    .dataframe tbody tr th:only-of-type {\n        vertical-align: middle;\n    }\n\n    .dataframe tbody tr th {\n        vertical-align: top;\n    }\n\n    .dataframe thead th {\n        text-align: right;\n    }\n</style>\n<table border=\"1\" class=\"dataframe\">\n  <thead>\n    <tr style=\"text-align: right;\">\n      <th></th>\n      <th>enrichment_percentile</th>\n      <th>threshold</th>\n      <th>ods_ratio</th>\n      <th>p-value</th>\n      <th>enrichment_percentile</th>\n      <th>threshold</th>\n      <th>ods_ratio</th>\n      <th>p-value</th>\n    </tr>\n  </thead>\n  <tbody>\n    <tr>\n      <th>0</th>\n      <td>0.995</td>\n      <td>0.670208</td>\n      <td>182.316746</td>\n      <td>0.0</td>\n      <td>0.995</td>\n      <td>0.670208</td>\n      <td>4588.357721</td>\n      <td>0.0</td>\n    </tr>\n    <tr>\n      <th>1</th>\n      <td>0.990</td>\n      <td>0.546662</td>\n      <td>113.081949</td>\n      <td>0.0</td>\n      <td>0.990</td>\n      <td>0.546662</td>\n      <td>1549.247064</td>\n      <td>0.0</td>\n    </tr>\n    <tr>\n      <th>2</th>\n      <td>0.985</td>\n      <td>0.466179</td>\n      <td>89.769236</td>\n      <td>0.0</td>\n      <td>0.985</td>\n      <td>0.466179</td>\n      <td>476.026613</td>\n      <td>0.0</td>\n    </tr>\n    <tr>\n      <th>3</th>\n      <td>0.980</td>\n      <td>0.406170</td>\n      <td>79.050021</td>\n      <td>0.0</td>\n      <td>0.980</td>\n      <td>0.406170</td>\n      <td>228.119729</td>\n      <td>0.0</td>\n    </tr>\n  </tbody>\n</table>\n</div>"
     },
     "execution_count": 37,
     "metadata": {},
     "output_type": "execute_result"
    }
   ],
   "source": [
    "# stronger trained model. Aug on\n",
    "df = pd.read_csv('/Users/mbornhol/git/neural-profiling/training/runs/1028/1028_aggregated_median.csv', low_memory=False)\n",
    "good_aug = batch_eff(df, frac=0.8)\n",
    "good_aug"
   ],
   "metadata": {
    "collapsed": false,
    "pycharm": {
     "name": "#%%\n"
    }
   }
  },
  {
   "cell_type": "code",
   "execution_count": 38,
   "outputs": [
    {
     "name": "stdout",
     "output_type": "stream",
     "text": [
      "(2601, 1299)\n"
     ]
    },
    {
     "data": {
      "text/plain": "   enrichment_percentile  threshold   ods_ratio  p-value  \\\n0                  0.995   0.765222  217.408821      0.0   \n1                  0.990   0.673064  130.380671      0.0   \n2                  0.985   0.606563  103.755800      0.0   \n3                  0.980   0.553369   90.803949      0.0   \n\n   enrichment_percentile  threshold     ods_ratio  p-value  \n0                  0.995   0.765222  13847.854020      0.0  \n1                  0.990   0.673064    647.662220      0.0  \n2                  0.985   0.606563    236.718946      0.0  \n3                  0.980   0.553369    137.617034      0.0  ",
      "text/html": "<div>\n<style scoped>\n    .dataframe tbody tr th:only-of-type {\n        vertical-align: middle;\n    }\n\n    .dataframe tbody tr th {\n        vertical-align: top;\n    }\n\n    .dataframe thead th {\n        text-align: right;\n    }\n</style>\n<table border=\"1\" class=\"dataframe\">\n  <thead>\n    <tr style=\"text-align: right;\">\n      <th></th>\n      <th>enrichment_percentile</th>\n      <th>threshold</th>\n      <th>ods_ratio</th>\n      <th>p-value</th>\n      <th>enrichment_percentile</th>\n      <th>threshold</th>\n      <th>ods_ratio</th>\n      <th>p-value</th>\n    </tr>\n  </thead>\n  <tbody>\n    <tr>\n      <th>0</th>\n      <td>0.995</td>\n      <td>0.765222</td>\n      <td>217.408821</td>\n      <td>0.0</td>\n      <td>0.995</td>\n      <td>0.765222</td>\n      <td>13847.854020</td>\n      <td>0.0</td>\n    </tr>\n    <tr>\n      <th>1</th>\n      <td>0.990</td>\n      <td>0.673064</td>\n      <td>130.380671</td>\n      <td>0.0</td>\n      <td>0.990</td>\n      <td>0.673064</td>\n      <td>647.662220</td>\n      <td>0.0</td>\n    </tr>\n    <tr>\n      <th>2</th>\n      <td>0.985</td>\n      <td>0.606563</td>\n      <td>103.755800</td>\n      <td>0.0</td>\n      <td>0.985</td>\n      <td>0.606563</td>\n      <td>236.718946</td>\n      <td>0.0</td>\n    </tr>\n    <tr>\n      <th>3</th>\n      <td>0.980</td>\n      <td>0.553369</td>\n      <td>90.803949</td>\n      <td>0.0</td>\n      <td>0.980</td>\n      <td>0.553369</td>\n      <td>137.617034</td>\n      <td>0.0</td>\n    </tr>\n  </tbody>\n</table>\n</div>"
     },
     "execution_count": 38,
     "metadata": {},
     "output_type": "execute_result"
    }
   ],
   "source": [
    "# compare 1021 to 1023\n",
    "df = pd.read_csv('/Users/mbornhol/git/neural-profiling/training/runs/1021/1021_aggregated_median.csv', low_memory=False)\n",
    "res = batch_eff(df, frac=0.8)\n",
    "res"
   ],
   "metadata": {
    "collapsed": false,
    "pycharm": {
     "name": "#%%\n"
    }
   }
  },
  {
   "cell_type": "code",
   "execution_count": 39,
   "outputs": [
    {
     "name": "stdout",
     "output_type": "stream",
     "text": [
      "(2601, 1299)\n"
     ]
    },
    {
     "data": {
      "text/plain": "   enrichment_percentile  threshold   ods_ratio  p-value  \\\n0                  0.995   0.757802  129.063519      0.0   \n1                  0.990   0.668142   83.988141      0.0   \n2                  0.985   0.600097   67.682602      0.0   \n3                  0.980   0.544790   59.378128      0.0   \n\n   enrichment_percentile  threshold    ods_ratio  p-value  \n0                  0.995   0.757802  3143.522870      0.0  \n1                  0.990   0.668142   485.681582      0.0  \n2                  0.985   0.600097   222.173732      0.0  \n3                  0.980   0.544790   127.460284      0.0  ",
      "text/html": "<div>\n<style scoped>\n    .dataframe tbody tr th:only-of-type {\n        vertical-align: middle;\n    }\n\n    .dataframe tbody tr th {\n        vertical-align: top;\n    }\n\n    .dataframe thead th {\n        text-align: right;\n    }\n</style>\n<table border=\"1\" class=\"dataframe\">\n  <thead>\n    <tr style=\"text-align: right;\">\n      <th></th>\n      <th>enrichment_percentile</th>\n      <th>threshold</th>\n      <th>ods_ratio</th>\n      <th>p-value</th>\n      <th>enrichment_percentile</th>\n      <th>threshold</th>\n      <th>ods_ratio</th>\n      <th>p-value</th>\n    </tr>\n  </thead>\n  <tbody>\n    <tr>\n      <th>0</th>\n      <td>0.995</td>\n      <td>0.757802</td>\n      <td>129.063519</td>\n      <td>0.0</td>\n      <td>0.995</td>\n      <td>0.757802</td>\n      <td>3143.522870</td>\n      <td>0.0</td>\n    </tr>\n    <tr>\n      <th>1</th>\n      <td>0.990</td>\n      <td>0.668142</td>\n      <td>83.988141</td>\n      <td>0.0</td>\n      <td>0.990</td>\n      <td>0.668142</td>\n      <td>485.681582</td>\n      <td>0.0</td>\n    </tr>\n    <tr>\n      <th>2</th>\n      <td>0.985</td>\n      <td>0.600097</td>\n      <td>67.682602</td>\n      <td>0.0</td>\n      <td>0.985</td>\n      <td>0.600097</td>\n      <td>222.173732</td>\n      <td>0.0</td>\n    </tr>\n    <tr>\n      <th>3</th>\n      <td>0.980</td>\n      <td>0.544790</td>\n      <td>59.378128</td>\n      <td>0.0</td>\n      <td>0.980</td>\n      <td>0.544790</td>\n      <td>127.460284</td>\n      <td>0.0</td>\n    </tr>\n  </tbody>\n</table>\n</div>"
     },
     "execution_count": 39,
     "metadata": {},
     "output_type": "execute_result"
    }
   ],
   "source": [
    "df = pd.read_csv('/Users/mbornhol/git/neural-profiling/training/runs/1023/1023_aggregated_median.csv', low_memory=False)\n",
    "res = batch_eff(df, frac=0.8)\n",
    "res"
   ],
   "metadata": {
    "collapsed": false,
    "pycharm": {
     "name": "#%%\n"
    }
   }
  },
  {
   "cell_type": "code",
   "execution_count": 40,
   "outputs": [
    {
     "name": "stdout",
     "output_type": "stream",
     "text": [
      "(2601, 1299)\n"
     ]
    },
    {
     "data": {
      "text/plain": "   enrichment_percentile  threshold   ods_ratio  p-value  \\\n0                  0.995   0.674535  182.442955      0.0   \n1                  0.990   0.550454  113.441770      0.0   \n2                  0.985   0.468641   89.159135      0.0   \n3                  0.980   0.408118   78.849803      0.0   \n\n   enrichment_percentile  threshold    ods_ratio  p-value  \n0                  0.995   0.674535  6283.301226      0.0  \n1                  0.990   0.550454  1505.758041      0.0  \n2                  0.985   0.468641   487.788429      0.0  \n3                  0.980   0.408118   233.370598      0.0  ",
      "text/html": "<div>\n<style scoped>\n    .dataframe tbody tr th:only-of-type {\n        vertical-align: middle;\n    }\n\n    .dataframe tbody tr th {\n        vertical-align: top;\n    }\n\n    .dataframe thead th {\n        text-align: right;\n    }\n</style>\n<table border=\"1\" class=\"dataframe\">\n  <thead>\n    <tr style=\"text-align: right;\">\n      <th></th>\n      <th>enrichment_percentile</th>\n      <th>threshold</th>\n      <th>ods_ratio</th>\n      <th>p-value</th>\n      <th>enrichment_percentile</th>\n      <th>threshold</th>\n      <th>ods_ratio</th>\n      <th>p-value</th>\n    </tr>\n  </thead>\n  <tbody>\n    <tr>\n      <th>0</th>\n      <td>0.995</td>\n      <td>0.674535</td>\n      <td>182.442955</td>\n      <td>0.0</td>\n      <td>0.995</td>\n      <td>0.674535</td>\n      <td>6283.301226</td>\n      <td>0.0</td>\n    </tr>\n    <tr>\n      <th>1</th>\n      <td>0.990</td>\n      <td>0.550454</td>\n      <td>113.441770</td>\n      <td>0.0</td>\n      <td>0.990</td>\n      <td>0.550454</td>\n      <td>1505.758041</td>\n      <td>0.0</td>\n    </tr>\n    <tr>\n      <th>2</th>\n      <td>0.985</td>\n      <td>0.468641</td>\n      <td>89.159135</td>\n      <td>0.0</td>\n      <td>0.985</td>\n      <td>0.468641</td>\n      <td>487.788429</td>\n      <td>0.0</td>\n    </tr>\n    <tr>\n      <th>3</th>\n      <td>0.980</td>\n      <td>0.408118</td>\n      <td>78.849803</td>\n      <td>0.0</td>\n      <td>0.980</td>\n      <td>0.408118</td>\n      <td>233.370598</td>\n      <td>0.0</td>\n    </tr>\n  </tbody>\n</table>\n</div>"
     },
     "execution_count": 40,
     "metadata": {},
     "output_type": "execute_result"
    }
   ],
   "source": [
    "# compare 1003 to 1028\n",
    "df = pd.read_csv('/Users/mbornhol/git/neural-profiling/training/runs/1028/1028_aggregated_median.csv', low_memory=False)\n",
    "res = batch_eff(df, frac=0.8)\n",
    "res"
   ],
   "metadata": {
    "collapsed": false,
    "pycharm": {
     "name": "#%%\n"
    }
   }
  },
  {
   "cell_type": "code",
   "execution_count": 41,
   "outputs": [
    {
     "name": "stdout",
     "output_type": "stream",
     "text": [
      "(2601, 1299)\n"
     ]
    },
    {
     "data": {
      "text/plain": "   enrichment_percentile  threshold   ods_ratio  p-value  \\\n0                  0.995   0.733304  274.688535      0.0   \n1                  0.990   0.624116  168.134246      0.0   \n2                  0.985   0.547438  136.392114      0.0   \n3                  0.980   0.490832  123.163584      0.0   \n\n   enrichment_percentile  threshold     ods_ratio  p-value  \n0                  0.995   0.733304  34604.255480      0.0  \n1                  0.990   0.624116   2054.585179      0.0  \n2                  0.985   0.547438    481.614828      0.0  \n3                  0.980   0.490832    189.976560      0.0  ",
      "text/html": "<div>\n<style scoped>\n    .dataframe tbody tr th:only-of-type {\n        vertical-align: middle;\n    }\n\n    .dataframe tbody tr th {\n        vertical-align: top;\n    }\n\n    .dataframe thead th {\n        text-align: right;\n    }\n</style>\n<table border=\"1\" class=\"dataframe\">\n  <thead>\n    <tr style=\"text-align: right;\">\n      <th></th>\n      <th>enrichment_percentile</th>\n      <th>threshold</th>\n      <th>ods_ratio</th>\n      <th>p-value</th>\n      <th>enrichment_percentile</th>\n      <th>threshold</th>\n      <th>ods_ratio</th>\n      <th>p-value</th>\n    </tr>\n  </thead>\n  <tbody>\n    <tr>\n      <th>0</th>\n      <td>0.995</td>\n      <td>0.733304</td>\n      <td>274.688535</td>\n      <td>0.0</td>\n      <td>0.995</td>\n      <td>0.733304</td>\n      <td>34604.255480</td>\n      <td>0.0</td>\n    </tr>\n    <tr>\n      <th>1</th>\n      <td>0.990</td>\n      <td>0.624116</td>\n      <td>168.134246</td>\n      <td>0.0</td>\n      <td>0.990</td>\n      <td>0.624116</td>\n      <td>2054.585179</td>\n      <td>0.0</td>\n    </tr>\n    <tr>\n      <th>2</th>\n      <td>0.985</td>\n      <td>0.547438</td>\n      <td>136.392114</td>\n      <td>0.0</td>\n      <td>0.985</td>\n      <td>0.547438</td>\n      <td>481.614828</td>\n      <td>0.0</td>\n    </tr>\n    <tr>\n      <th>3</th>\n      <td>0.980</td>\n      <td>0.490832</td>\n      <td>123.163584</td>\n      <td>0.0</td>\n      <td>0.980</td>\n      <td>0.490832</td>\n      <td>189.976560</td>\n      <td>0.0</td>\n    </tr>\n  </tbody>\n</table>\n</div>"
     },
     "execution_count": 41,
     "metadata": {},
     "output_type": "execute_result"
    }
   ],
   "source": [
    "df = pd.read_csv('/Users/mbornhol/git/neural-profiling/training/runs/1103/1103_aggregated_median.csv', low_memory=False)\n",
    "res = batch_eff(df, frac=0.8)\n",
    "res"
   ],
   "metadata": {
    "collapsed": false,
    "pycharm": {
     "name": "#%%\n"
    }
   }
  },
  {
   "cell_type": "code",
   "execution_count": 42,
   "outputs": [
    {
     "name": "stdout",
     "output_type": "stream",
     "text": [
      "(2591, 6418)\n"
     ]
    },
    {
     "data": {
      "text/plain": "   enrichment_percentile  threshold  ods_ratio   p-value  \\\n0                  0.995   0.000697   0.740345  0.999987   \n1                  0.990   0.000501   0.730888  1.000000   \n2                  0.985   0.000397   0.707153  1.000000   \n3                  0.980   0.000325   0.692581  1.000000   \n\n   enrichment_percentile  threshold  ods_ratio   p-value  \n0                  0.995   0.000697   0.973103  0.976678  \n1                  0.990   0.000501   0.947150  1.000000  \n2                  0.985   0.000397   0.944790  1.000000  \n3                  0.980   0.000325   0.941523  1.000000  ",
      "text/html": "<div>\n<style scoped>\n    .dataframe tbody tr th:only-of-type {\n        vertical-align: middle;\n    }\n\n    .dataframe tbody tr th {\n        vertical-align: top;\n    }\n\n    .dataframe thead th {\n        text-align: right;\n    }\n</style>\n<table border=\"1\" class=\"dataframe\">\n  <thead>\n    <tr style=\"text-align: right;\">\n      <th></th>\n      <th>enrichment_percentile</th>\n      <th>threshold</th>\n      <th>ods_ratio</th>\n      <th>p-value</th>\n      <th>enrichment_percentile</th>\n      <th>threshold</th>\n      <th>ods_ratio</th>\n      <th>p-value</th>\n    </tr>\n  </thead>\n  <tbody>\n    <tr>\n      <th>0</th>\n      <td>0.995</td>\n      <td>0.000697</td>\n      <td>0.740345</td>\n      <td>0.999987</td>\n      <td>0.995</td>\n      <td>0.000697</td>\n      <td>0.973103</td>\n      <td>0.976678</td>\n    </tr>\n    <tr>\n      <th>1</th>\n      <td>0.990</td>\n      <td>0.000501</td>\n      <td>0.730888</td>\n      <td>1.000000</td>\n      <td>0.990</td>\n      <td>0.000501</td>\n      <td>0.947150</td>\n      <td>1.000000</td>\n    </tr>\n    <tr>\n      <th>2</th>\n      <td>0.985</td>\n      <td>0.000397</td>\n      <td>0.707153</td>\n      <td>1.000000</td>\n      <td>0.985</td>\n      <td>0.000397</td>\n      <td>0.944790</td>\n      <td>1.000000</td>\n    </tr>\n    <tr>\n      <th>3</th>\n      <td>0.980</td>\n      <td>0.000325</td>\n      <td>0.692581</td>\n      <td>1.000000</td>\n      <td>0.980</td>\n      <td>0.000325</td>\n      <td>0.941523</td>\n      <td>1.000000</td>\n    </tr>\n  </tbody>\n</table>\n</div>"
     },
     "execution_count": 42,
     "metadata": {},
     "output_type": "execute_result"
    }
   ],
   "source": [
    "df = pd.read_csv('/Users/mbornhol/git/neural-profiling/00_thesis/pre_trained/aggregated_efficientnet_median.csv', low_memory=False)\n",
    "features = [f for f in df.columns if f.startswith(\"eff\")]\n",
    "sphere = normalize(\n",
    "    profiles=df,\n",
    "    features=features,\n",
    "    samples=\"Metadata_broad_sample == 'DMSO'\",\n",
    "    method='spherize',\n",
    "    output_file='none'\n",
    ")\n",
    "res = batch_eff(sphere, frac=0.8)\n",
    "res\n"
   ],
   "metadata": {
    "collapsed": false,
    "pycharm": {
     "name": "#%%\n"
    }
   }
  },
  {
   "cell_type": "code",
   "execution_count": 43,
   "outputs": [
    {
     "name": "stdout",
     "output_type": "stream",
     "text": [
      "(2601, 1298)\n"
     ]
    },
    {
     "data": {
      "text/plain": "   enrichment_percentile  threshold   ods_ratio  p-value  \\\n0                  0.995   0.070403  143.047127      0.0   \n1                  0.990   0.051515   67.842443      0.0   \n2                  0.985   0.045018   44.993786      0.0   \n3                  0.980   0.041157   34.054677      0.0   \n\n   enrichment_percentile  threshold  ods_ratio  p-value  \n0                  0.995   0.070403  72.806668      0.0  \n1                  0.990   0.051515  13.658548      0.0  \n2                  0.985   0.045018   7.656754      0.0  \n3                  0.980   0.041157   5.567272      0.0  ",
      "text/html": "<div>\n<style scoped>\n    .dataframe tbody tr th:only-of-type {\n        vertical-align: middle;\n    }\n\n    .dataframe tbody tr th {\n        vertical-align: top;\n    }\n\n    .dataframe thead th {\n        text-align: right;\n    }\n</style>\n<table border=\"1\" class=\"dataframe\">\n  <thead>\n    <tr style=\"text-align: right;\">\n      <th></th>\n      <th>enrichment_percentile</th>\n      <th>threshold</th>\n      <th>ods_ratio</th>\n      <th>p-value</th>\n      <th>enrichment_percentile</th>\n      <th>threshold</th>\n      <th>ods_ratio</th>\n      <th>p-value</th>\n    </tr>\n  </thead>\n  <tbody>\n    <tr>\n      <th>0</th>\n      <td>0.995</td>\n      <td>0.070403</td>\n      <td>143.047127</td>\n      <td>0.0</td>\n      <td>0.995</td>\n      <td>0.070403</td>\n      <td>72.806668</td>\n      <td>0.0</td>\n    </tr>\n    <tr>\n      <th>1</th>\n      <td>0.990</td>\n      <td>0.051515</td>\n      <td>67.842443</td>\n      <td>0.0</td>\n      <td>0.990</td>\n      <td>0.051515</td>\n      <td>13.658548</td>\n      <td>0.0</td>\n    </tr>\n    <tr>\n      <th>2</th>\n      <td>0.985</td>\n      <td>0.045018</td>\n      <td>44.993786</td>\n      <td>0.0</td>\n      <td>0.985</td>\n      <td>0.045018</td>\n      <td>7.656754</td>\n      <td>0.0</td>\n    </tr>\n    <tr>\n      <th>3</th>\n      <td>0.980</td>\n      <td>0.041157</td>\n      <td>34.054677</td>\n      <td>0.0</td>\n      <td>0.980</td>\n      <td>0.041157</td>\n      <td>5.567272</td>\n      <td>0.0</td>\n    </tr>\n  </tbody>\n</table>\n</div>"
     },
     "execution_count": 43,
     "metadata": {},
     "output_type": "execute_result"
    }
   ],
   "source": [
    "df = pd.read_csv('/Users/mbornhol/git/neural-profiling/training/runs/1008/1008_aggregated_median.csv', low_memory=False)\n",
    "features = [f for f in df.columns if f.startswith(\"eff\")]\n",
    "sphere = normalize(\n",
    "    profiles=df,\n",
    "    features=features,\n",
    "    samples=\"Metadata_broad_sample == 'DMSO'\",\n",
    "    method='spherize',\n",
    "    output_file='none'\n",
    ")\n",
    "res = batch_eff(sphere, frac=0.8)\n",
    "res"
   ],
   "metadata": {
    "collapsed": false,
    "pycharm": {
     "name": "#%%\n"
    }
   }
  },
  {
   "cell_type": "code",
   "execution_count": 51,
   "outputs": [
    {
     "name": "stdout",
     "output_type": "stream",
     "text": [
      "(2601, 1298)\n"
     ]
    },
    {
     "data": {
      "text/plain": "   enrichment_percentile  threshold   ods_ratio  p-value  \\\n0                  0.995   0.075622  118.782337      0.0   \n1                  0.990   0.054245   60.412948      0.0   \n2                  0.985   0.046992   41.121365      0.0   \n3                  0.980   0.042707   31.511022      0.0   \n\n   enrichment_percentile  threshold  ods_ratio  p-value  \n0                  0.995   0.075622  63.468175      0.0  \n1                  0.990   0.054245  15.131726      0.0  \n2                  0.985   0.046992   8.437399      0.0  \n3                  0.980   0.042707   6.114858      0.0  ",
      "text/html": "<div>\n<style scoped>\n    .dataframe tbody tr th:only-of-type {\n        vertical-align: middle;\n    }\n\n    .dataframe tbody tr th {\n        vertical-align: top;\n    }\n\n    .dataframe thead th {\n        text-align: right;\n    }\n</style>\n<table border=\"1\" class=\"dataframe\">\n  <thead>\n    <tr style=\"text-align: right;\">\n      <th></th>\n      <th>enrichment_percentile</th>\n      <th>threshold</th>\n      <th>ods_ratio</th>\n      <th>p-value</th>\n      <th>enrichment_percentile</th>\n      <th>threshold</th>\n      <th>ods_ratio</th>\n      <th>p-value</th>\n    </tr>\n  </thead>\n  <tbody>\n    <tr>\n      <th>0</th>\n      <td>0.995</td>\n      <td>0.075622</td>\n      <td>118.782337</td>\n      <td>0.0</td>\n      <td>0.995</td>\n      <td>0.075622</td>\n      <td>63.468175</td>\n      <td>0.0</td>\n    </tr>\n    <tr>\n      <th>1</th>\n      <td>0.990</td>\n      <td>0.054245</td>\n      <td>60.412948</td>\n      <td>0.0</td>\n      <td>0.990</td>\n      <td>0.054245</td>\n      <td>15.131726</td>\n      <td>0.0</td>\n    </tr>\n    <tr>\n      <th>2</th>\n      <td>0.985</td>\n      <td>0.046992</td>\n      <td>41.121365</td>\n      <td>0.0</td>\n      <td>0.985</td>\n      <td>0.046992</td>\n      <td>8.437399</td>\n      <td>0.0</td>\n    </tr>\n    <tr>\n      <th>3</th>\n      <td>0.980</td>\n      <td>0.042707</td>\n      <td>31.511022</td>\n      <td>0.0</td>\n      <td>0.980</td>\n      <td>0.042707</td>\n      <td>6.114858</td>\n      <td>0.0</td>\n    </tr>\n  </tbody>\n</table>\n</div>"
     },
     "execution_count": 51,
     "metadata": {},
     "output_type": "execute_result"
    }
   ],
   "source": [
    "df = pd.read_csv('/Users/mbornhol/git/neural-profiling/training/runs/1010/1010_aggregated_median.csv', low_memory=False)\n",
    "features = [f for f in df.columns if f.startswith(\"eff\")]\n",
    "sphere = normalize(\n",
    "    profiles=df,\n",
    "    features=features,\n",
    "    samples=\"Metadata_broad_sample == 'DMSO'\",\n",
    "    method='spherize',\n",
    "    output_file='none'\n",
    ")\n",
    "res = batch_eff(sphere, frac=0.8)\n",
    "res"
   ],
   "metadata": {
    "collapsed": false,
    "pycharm": {
     "name": "#%%\n"
    }
   }
  },
  {
   "cell_type": "code",
   "execution_count": 53,
   "outputs": [
    {
     "name": "stdout",
     "output_type": "stream",
     "text": [
      "(2601, 1298)\n"
     ]
    },
    {
     "data": {
      "text/plain": "   enrichment_percentile  threshold   ods_ratio  p-value  \\\n0                  0.995   0.070458  158.808846      0.0   \n1                  0.990   0.052162   75.689039      0.0   \n2                  0.985   0.045815   50.137007      0.0   \n3                  0.980   0.041950   37.867013      0.0   \n\n   enrichment_percentile  threshold  ods_ratio  p-value  \n0                  0.995   0.070458  61.049904      0.0  \n1                  0.990   0.052162  12.259392      0.0  \n2                  0.985   0.045815   6.941850      0.0  \n3                  0.980   0.041950   5.093136      0.0  ",
      "text/html": "<div>\n<style scoped>\n    .dataframe tbody tr th:only-of-type {\n        vertical-align: middle;\n    }\n\n    .dataframe tbody tr th {\n        vertical-align: top;\n    }\n\n    .dataframe thead th {\n        text-align: right;\n    }\n</style>\n<table border=\"1\" class=\"dataframe\">\n  <thead>\n    <tr style=\"text-align: right;\">\n      <th></th>\n      <th>enrichment_percentile</th>\n      <th>threshold</th>\n      <th>ods_ratio</th>\n      <th>p-value</th>\n      <th>enrichment_percentile</th>\n      <th>threshold</th>\n      <th>ods_ratio</th>\n      <th>p-value</th>\n    </tr>\n  </thead>\n  <tbody>\n    <tr>\n      <th>0</th>\n      <td>0.995</td>\n      <td>0.070458</td>\n      <td>158.808846</td>\n      <td>0.0</td>\n      <td>0.995</td>\n      <td>0.070458</td>\n      <td>61.049904</td>\n      <td>0.0</td>\n    </tr>\n    <tr>\n      <th>1</th>\n      <td>0.990</td>\n      <td>0.052162</td>\n      <td>75.689039</td>\n      <td>0.0</td>\n      <td>0.990</td>\n      <td>0.052162</td>\n      <td>12.259392</td>\n      <td>0.0</td>\n    </tr>\n    <tr>\n      <th>2</th>\n      <td>0.985</td>\n      <td>0.045815</td>\n      <td>50.137007</td>\n      <td>0.0</td>\n      <td>0.985</td>\n      <td>0.045815</td>\n      <td>6.941850</td>\n      <td>0.0</td>\n    </tr>\n    <tr>\n      <th>3</th>\n      <td>0.980</td>\n      <td>0.041950</td>\n      <td>37.867013</td>\n      <td>0.0</td>\n      <td>0.980</td>\n      <td>0.041950</td>\n      <td>5.093136</td>\n      <td>0.0</td>\n    </tr>\n  </tbody>\n</table>\n</div>"
     },
     "execution_count": 53,
     "metadata": {},
     "output_type": "execute_result"
    }
   ],
   "source": [
    "df = pd.read_csv('/Users/mbornhol/git/neural-profiling/training/runs/1101/1101_aggregated_median.csv', low_memory=False)\n",
    "features = [f for f in df.columns if f.startswith(\"eff\")]\n",
    "sphere = normalize(\n",
    "    profiles=df,\n",
    "    features=features,\n",
    "    samples=\"Metadata_broad_sample == 'DMSO'\",\n",
    "    method='spherize',\n",
    "    output_file='none'\n",
    ")\n",
    "res = batch_eff(sphere, frac=0.8)\n",
    "res"
   ],
   "metadata": {
    "collapsed": false,
    "pycharm": {
     "name": "#%%\n"
    }
   }
  },
  {
   "cell_type": "code",
   "execution_count": 54,
   "outputs": [
    {
     "name": "stdout",
     "output_type": "stream",
     "text": [
      "(2601, 1298)\n"
     ]
    },
    {
     "data": {
      "text/plain": "   enrichment_percentile  threshold   ods_ratio  p-value  \\\n0                  0.995   0.069744  134.356108      0.0   \n1                  0.990   0.051283   65.211920      0.0   \n2                  0.985   0.044885   43.954279      0.0   \n3                  0.980   0.041094   33.386348      0.0   \n\n   enrichment_percentile  threshold  ods_ratio  p-value  \n0                  0.995   0.069744  55.295656      0.0  \n1                  0.990   0.051283  11.519203      0.0  \n2                  0.985   0.044885   6.653269      0.0  \n3                  0.980   0.041094   4.913870      0.0  ",
      "text/html": "<div>\n<style scoped>\n    .dataframe tbody tr th:only-of-type {\n        vertical-align: middle;\n    }\n\n    .dataframe tbody tr th {\n        vertical-align: top;\n    }\n\n    .dataframe thead th {\n        text-align: right;\n    }\n</style>\n<table border=\"1\" class=\"dataframe\">\n  <thead>\n    <tr style=\"text-align: right;\">\n      <th></th>\n      <th>enrichment_percentile</th>\n      <th>threshold</th>\n      <th>ods_ratio</th>\n      <th>p-value</th>\n      <th>enrichment_percentile</th>\n      <th>threshold</th>\n      <th>ods_ratio</th>\n      <th>p-value</th>\n    </tr>\n  </thead>\n  <tbody>\n    <tr>\n      <th>0</th>\n      <td>0.995</td>\n      <td>0.069744</td>\n      <td>134.356108</td>\n      <td>0.0</td>\n      <td>0.995</td>\n      <td>0.069744</td>\n      <td>55.295656</td>\n      <td>0.0</td>\n    </tr>\n    <tr>\n      <th>1</th>\n      <td>0.990</td>\n      <td>0.051283</td>\n      <td>65.211920</td>\n      <td>0.0</td>\n      <td>0.990</td>\n      <td>0.051283</td>\n      <td>11.519203</td>\n      <td>0.0</td>\n    </tr>\n    <tr>\n      <th>2</th>\n      <td>0.985</td>\n      <td>0.044885</td>\n      <td>43.954279</td>\n      <td>0.0</td>\n      <td>0.985</td>\n      <td>0.044885</td>\n      <td>6.653269</td>\n      <td>0.0</td>\n    </tr>\n    <tr>\n      <th>3</th>\n      <td>0.980</td>\n      <td>0.041094</td>\n      <td>33.386348</td>\n      <td>0.0</td>\n      <td>0.980</td>\n      <td>0.041094</td>\n      <td>4.913870</td>\n      <td>0.0</td>\n    </tr>\n  </tbody>\n</table>\n</div>"
     },
     "execution_count": 54,
     "metadata": {},
     "output_type": "execute_result"
    }
   ],
   "source": [
    "df = pd.read_csv('/Users/mbornhol/git/neural-profiling/training/runs/1028/1028_aggregated_median.csv', low_memory=False)\n",
    "features = [f for f in df.columns if f.startswith(\"eff\")]\n",
    "sphere = normalize(\n",
    "    profiles=df,\n",
    "    features=features,\n",
    "    samples=\"Metadata_broad_sample == 'DMSO'\",\n",
    "    method='spherize',\n",
    "    output_file='none'\n",
    ")\n",
    "res = batch_eff(sphere, frac=0.8)\n",
    "res"
   ],
   "metadata": {
    "collapsed": false,
    "pycharm": {
     "name": "#%%\n"
    }
   }
  },
  {
   "cell_type": "code",
   "execution_count": 47,
   "outputs": [
    {
     "name": "stdout",
     "output_type": "stream",
     "text": [
      "1280 features were identified\n"
     ]
    },
    {
     "data": {
      "text/plain": "   enrichment_percentile  threshold  ods_ratio       p-value\n0                  0.995   0.723653   3.643561  1.440658e-44\n1                  0.990   0.631884   3.182542  3.344909e-63",
      "text/html": "<div>\n<style scoped>\n    .dataframe tbody tr th:only-of-type {\n        vertical-align: middle;\n    }\n\n    .dataframe tbody tr th {\n        vertical-align: top;\n    }\n\n    .dataframe thead th {\n        text-align: right;\n    }\n</style>\n<table border=\"1\" class=\"dataframe\">\n  <thead>\n    <tr style=\"text-align: right;\">\n      <th></th>\n      <th>enrichment_percentile</th>\n      <th>threshold</th>\n      <th>ods_ratio</th>\n      <th>p-value</th>\n    </tr>\n  </thead>\n  <tbody>\n    <tr>\n      <th>0</th>\n      <td>0.995</td>\n      <td>0.723653</td>\n      <td>3.643561</td>\n      <td>1.440658e-44</td>\n    </tr>\n    <tr>\n      <th>1</th>\n      <td>0.990</td>\n      <td>0.631884</td>\n      <td>3.182542</td>\n      <td>3.344909e-63</td>\n    </tr>\n  </tbody>\n</table>\n</div>"
     },
     "execution_count": 47,
     "metadata": {},
     "output_type": "execute_result"
    }
   ],
   "source": [],
   "metadata": {
    "collapsed": false,
    "pycharm": {
     "name": "#%%\n"
    }
   }
  },
  {
   "cell_type": "code",
   "execution_count": null,
   "outputs": [],
   "source": [
    "# simple trained model\n",
    "df = pd.read_csv('/Users/mbornhol/git/neural-profiling/training/runs/1008/1008_aggregated_median.csv', low_memory=False)\n",
    "e = eval.evaluation(df)\n",
    "df = e.norm_agg(method=None)\n",
    "res = e.eval(df, operation = 'enrichment')\n",
    "res[:2]"
   ],
   "metadata": {
    "collapsed": false,
    "pycharm": {
     "name": "#%%\n"
    }
   }
  },
  {
   "cell_type": "code",
   "execution_count": 48,
   "outputs": [
    {
     "name": "stdout",
     "output_type": "stream",
     "text": [
      "1280 features were identified\n"
     ]
    },
    {
     "data": {
      "text/plain": "   enrichment_percentile  threshold  ods_ratio       p-value\n0                  0.995   0.740983   3.600285  1.908701e-43\n1                  0.990   0.657107   3.226498  3.133438e-65",
      "text/html": "<div>\n<style scoped>\n    .dataframe tbody tr th:only-of-type {\n        vertical-align: middle;\n    }\n\n    .dataframe tbody tr th {\n        vertical-align: top;\n    }\n\n    .dataframe thead th {\n        text-align: right;\n    }\n</style>\n<table border=\"1\" class=\"dataframe\">\n  <thead>\n    <tr style=\"text-align: right;\">\n      <th></th>\n      <th>enrichment_percentile</th>\n      <th>threshold</th>\n      <th>ods_ratio</th>\n      <th>p-value</th>\n    </tr>\n  </thead>\n  <tbody>\n    <tr>\n      <th>0</th>\n      <td>0.995</td>\n      <td>0.740983</td>\n      <td>3.600285</td>\n      <td>1.908701e-43</td>\n    </tr>\n    <tr>\n      <th>1</th>\n      <td>0.990</td>\n      <td>0.657107</td>\n      <td>3.226498</td>\n      <td>3.133438e-65</td>\n    </tr>\n  </tbody>\n</table>\n</div>"
     },
     "execution_count": 48,
     "metadata": {},
     "output_type": "execute_result"
    }
   ],
   "source": [
    "# simple trained model. Aug on\n",
    "df = pd.read_csv('/Users/mbornhol/git/neural-profiling/training/runs/1010/1010_aggregated_median.csv', low_memory=False)\n",
    "e = eval.evaluation(df)\n",
    "df = e.norm_agg(method=None)\n",
    "res = e.eval(df, operation = 'enrichment')\n",
    "res[:2]"
   ],
   "metadata": {
    "collapsed": false,
    "pycharm": {
     "name": "#%%\n"
    }
   }
  },
  {
   "cell_type": "code",
   "execution_count": 49,
   "outputs": [
    {
     "name": "stdout",
     "output_type": "stream",
     "text": [
      "1280 features were identified\n"
     ]
    },
    {
     "data": {
      "text/plain": "   enrichment_percentile  threshold  ods_ratio       p-value\n0                  0.995   0.731456   2.617108  9.391377e-21\n1                  0.990   0.655039   2.746443  2.784585e-44",
      "text/html": "<div>\n<style scoped>\n    .dataframe tbody tr th:only-of-type {\n        vertical-align: middle;\n    }\n\n    .dataframe tbody tr th {\n        vertical-align: top;\n    }\n\n    .dataframe thead th {\n        text-align: right;\n    }\n</style>\n<table border=\"1\" class=\"dataframe\">\n  <thead>\n    <tr style=\"text-align: right;\">\n      <th></th>\n      <th>enrichment_percentile</th>\n      <th>threshold</th>\n      <th>ods_ratio</th>\n      <th>p-value</th>\n    </tr>\n  </thead>\n  <tbody>\n    <tr>\n      <th>0</th>\n      <td>0.995</td>\n      <td>0.731456</td>\n      <td>2.617108</td>\n      <td>9.391377e-21</td>\n    </tr>\n    <tr>\n      <th>1</th>\n      <td>0.990</td>\n      <td>0.655039</td>\n      <td>2.746443</td>\n      <td>2.784585e-44</td>\n    </tr>\n  </tbody>\n</table>\n</div>"
     },
     "execution_count": 49,
     "metadata": {},
     "output_type": "execute_result"
    }
   ],
   "source": [
    "# stronger trained model. Aug off\n",
    "df = pd.read_csv('/Users/mbornhol/git/neural-profiling/training/runs/1101/1101_aggregated_median.csv', low_memory=False)\n",
    "e = eval.evaluation(df)\n",
    "df = e.norm_agg(method=None)\n",
    "res = e.eval(df, operation = 'enrichment')\n",
    "res[:2]"
   ],
   "metadata": {
    "collapsed": false,
    "pycharm": {
     "name": "#%%\n"
    }
   }
  },
  {
   "cell_type": "code",
   "execution_count": 50,
   "outputs": [
    {
     "name": "stdout",
     "output_type": "stream",
     "text": [
      "1280 features were identified\n"
     ]
    },
    {
     "data": {
      "text/plain": "   enrichment_percentile  threshold  ods_ratio        p-value\n0                  0.995   0.545566   4.035058   4.078919e-55\n1                  0.990   0.423171   4.644112  6.005944e-140",
      "text/html": "<div>\n<style scoped>\n    .dataframe tbody tr th:only-of-type {\n        vertical-align: middle;\n    }\n\n    .dataframe tbody tr th {\n        vertical-align: top;\n    }\n\n    .dataframe thead th {\n        text-align: right;\n    }\n</style>\n<table border=\"1\" class=\"dataframe\">\n  <thead>\n    <tr style=\"text-align: right;\">\n      <th></th>\n      <th>enrichment_percentile</th>\n      <th>threshold</th>\n      <th>ods_ratio</th>\n      <th>p-value</th>\n    </tr>\n  </thead>\n  <tbody>\n    <tr>\n      <th>0</th>\n      <td>0.995</td>\n      <td>0.545566</td>\n      <td>4.035058</td>\n      <td>4.078919e-55</td>\n    </tr>\n    <tr>\n      <th>1</th>\n      <td>0.990</td>\n      <td>0.423171</td>\n      <td>4.644112</td>\n      <td>6.005944e-140</td>\n    </tr>\n  </tbody>\n</table>\n</div>"
     },
     "execution_count": 50,
     "metadata": {},
     "output_type": "execute_result"
    }
   ],
   "source": [
    "# stronger trained model. Aug on\n",
    "df = pd.read_csv('/Users/mbornhol/git/neural-profiling/training/runs/1028/1028_aggregated_median.csv', low_memory=False)\n",
    "e = eval.evaluation(df)\n",
    "df = e.norm_agg(method=None)\n",
    "res = e.eval(df, operation = 'enrichment')\n",
    "res[:2]"
   ],
   "metadata": {
    "collapsed": false,
    "pycharm": {
     "name": "#%%\n"
    }
   }
  },
  {
   "cell_type": "code",
   "execution_count": null,
   "outputs": [],
   "source": [],
   "metadata": {
    "collapsed": false,
    "pycharm": {
     "name": "#%%\n"
    }
   }
  }
 ],
 "metadata": {
  "kernelspec": {
   "display_name": "Python 3",
   "language": "python",
   "name": "python3"
  },
  "language_info": {
   "codemirror_mode": {
    "name": "ipython",
    "version": 2
   },
   "file_extension": ".py",
   "mimetype": "text/x-python",
   "name": "python",
   "nbconvert_exporter": "python",
   "pygments_lexer": "ipython2",
   "version": "2.7.6"
  }
 },
 "nbformat": 4,
 "nbformat_minor": 0
}