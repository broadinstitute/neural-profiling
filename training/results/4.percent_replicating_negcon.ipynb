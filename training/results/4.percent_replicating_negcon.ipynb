{
 "cells": [
  {
   "cell_type": "code",
   "execution_count": 1,
   "outputs": [],
   "source": [
    "import pandas as pd\n",
    "import utils\n",
    "import seaborn as sns\n",
    "import matplotlib.pyplot as plt\n",
    "import random\n",
    "import plotly.express as px\n",
    "from pycytominer import aggregate, annotate, normalize, feature_select, cyto_utils\n",
    "\n",
    "random.seed(9000)\n",
    "\n",
    "plt.style.use(\"seaborn-ticks\")\n",
    "plt.rcParams[\"image.cmap\"] = \"Set1\"\n",
    "plt.rcParams['axes.prop_cycle'] = plt.cycler(color=plt.cm.Set1.colors)\n",
    "%matplotlib inline\n",
    "import numpy as np\n",
    "import scipy.spatial\n",
    "import pandas as pd\n",
    "import matplotlib.pyplot as plt\n",
    "import seaborn as sns\n",
    "from random import sample,choices\n",
    "from scipy.stats import pearsonr\n",
    "# sns.set_style(\"whitegrid\")\n",
    "sns.set(rc={\"lines.linewidth\": 2})\n",
    "\n",
    "def replicateCorrs(inDf,pertColName,featColNames,plotEnabled):\n",
    "\n",
    "    \"\"\"\n",
    "    Calculates replicate correlation versus across purtburtion correlations\n",
    "\n",
    "    This function takes the input dataframe and output/plot replicate correlations.\n",
    "\n",
    "    Parameters:\n",
    "    inDf   (pandas df): input dataframe contains metadata and features\n",
    "    pertColName  (str): The column based on which we define replicates of a purturbation\n",
    "    featColNames(list): The list of all columns corresponding to features\n",
    "    plotEnabled (bool): If True or 1, plots the curves\n",
    "\n",
    "    Returns:\n",
    "    repCorrDf   (list):\n",
    "\n",
    "    \"\"\"\n",
    "\n",
    "\n",
    "    df=inDf.copy()\n",
    "    df[featColNames]=inDf[featColNames].interpolate();\n",
    "    uniqPert=df[pertColName].unique().tolist()\n",
    "    repC=[]\n",
    "    randC=[]\n",
    "\n",
    "    repCorrDf=pd.DataFrame(index = uniqPert,columns=['RepCor'])\n",
    "\n",
    "    repSizeDF=df.groupby([pertColName]).size().reset_index()\n",
    "    highRepComp=repSizeDF[repSizeDF[0]>1][pertColName].tolist()\n",
    "\n",
    "\n",
    "    for u in highRepComp:\n",
    "        df1=df[df[pertColName]==u].drop_duplicates().reset_index(drop=True)\n",
    "        repCorrPurtbs=df1.loc[:,featColNames].T.corr()\n",
    "        repCorr=list(repCorrPurtbs.values[np.triu_indices(repCorrPurtbs.shape[0], k = 1)])\n",
    "        repCorrDf.loc[u,'RepCor']=np.nanmean(repCorr)\n",
    "        repC=repC+[np.nanmedian(repCorr)]\n",
    "\n",
    "    randC_v2=[]\n",
    "    for i in range(50):\n",
    "        uniqeSamplesFromEachPurt=inDf.groupby(pertColName)[featColNames].apply(lambda s: s.sample(1))\n",
    "        corrMatAcrossPurtbs=uniqeSamplesFromEachPurt.loc[:,featColNames].T.corr()\n",
    "        randCorrVals=list(corrMatAcrossPurtbs.values[np.triu_indices(corrMatAcrossPurtbs.shape[0], k = 1)])\n",
    "    randC_v2=randC_v2+randCorrVals\n",
    "\n",
    "    if 0:\n",
    "        fig, axes = plt.subplots(figsize=(5,3))\n",
    "        sns.kdeplot(randC, bw=.1, label=\"random pairs\",ax=axes)\n",
    "        sns.kdeplot(repC, bw=.1, label=\"replicate pairs\",ax=axes);axes.set_xlabel('CC');\n",
    "        sns.kdeplot(randC_v2, bw=.1, label=\"random v2 pairs\",ax=axes);axes.set_xlabel('CC');\n",
    "#         perc5=np.percentile(repCC, 50);axes.axvline(x=perc5,linestyle=':',color='darkorange');\n",
    "#         perc95=np.percentile(randCC, 90);axes.axvline(x=perc95,linestyle=':');\n",
    "        axes.legend();#axes.set_title('');\n",
    "        axes.set_xlim(-1.1,1.1)\n",
    "\n",
    "    repC = [repC for repC in repC if str(repC) != 'nan']\n",
    "    randC_v2 = [randC_v2 for randC_v2 in randC_v2 if str(randC_v2) != 'nan']\n",
    "\n",
    "    perc95=np.percentile(randC_v2, 90);\n",
    "    rep10=np.percentile(repC, 10);\n",
    "\n",
    "    if plotEnabled:\n",
    "        fig, axes = plt.subplots(figsize=(5,4))\n",
    "\n",
    "        sns.distplot(randC_v2,kde=True,hist=True,bins=20,label=\"random pairs\",ax=axes,norm_hist=True);\n",
    "        sns.distplot(repC,kde=True,hist=True,bins=20,label=\"replicate pairs\",ax=axes,norm_hist=True,color='r');\n",
    "\n",
    "        #         perc5=np.percentile(repCC, 50);axes.axvline(x=perc5,linestyle=':',color='darkorange');\n",
    "        axes.axvline(x=perc95,linestyle=':');\n",
    "        axes.axvline(x=0,linestyle=':');\n",
    "        axes.legend(loc=2);#axes.set_title('');\n",
    "        # axes.set_xlim(-1,1);\n",
    "        plt.tight_layout()\n",
    "\n",
    "    repCorrDf['Rand90Perc']=perc95\n",
    "    repCorrDf['Rep10Perc']=rep10\n",
    "\n",
    "    return [randC_v2,repC,repCorrDf]"
   ],
   "metadata": {
    "collapsed": false,
    "pycharm": {
     "name": "#%%\n"
    }
   }
  },
  {
   "cell_type": "markdown",
   "source": [
    "In this notebook the Percent Replicating score for DMSO at each position is computed for the following U2OS 48h time point compound plates\n",
    "1. Whole plate normalized CP profiles\n",
    "2. Spherized CP profiles\n",
    "3. Spherized DL profiles\n",
    "\n",
    "The following are the steps taken\n",
    "1. Whole plate normalized CP profiles, Spherized CP profiles and Spherized DL profiles from the 48h Compound experiment are read and the replicates plates merged into a single dataframe.\n",
    "2. All the non-negative control wells are removed.\n",
    "3. DMSO wells in the same position are considered replicates while DMSO wells in different positions are considered non-replicates.\n",
    "4. The signal distribution, which is the median pairwise replicate correlation, is computed for each replicate.\n",
    "5. The null distribution, which is the median pairwise correlation of non-replicates, is computed for 1000 combinations of non-replicates.\n",
    "6. Percent Replicating is computed as the percentage of the signal distribution that is the greater than the 95th percentile of null distribution\n",
    "7. The signal and noise distributions and the Percent Replicating values are plotted and the table of Percent Replicating is printed."
   ],
   "metadata": {
    "collapsed": false,
    "pycharm": {
     "name": "#%% md\n"
    }
   }
  },
  {
   "cell_type": "markdown",
   "source": [
    "# CP base"
   ],
   "metadata": {
    "collapsed": false,
    "pycharm": {
     "name": "#%% md\n"
    }
   }
  },
  {
   "cell_type": "code",
   "execution_count": 2,
   "outputs": [
    {
     "name": "stderr",
     "output_type": "stream",
     "text": [
      "/Users/mbornhol/miniconda3/envs/cyto_eval/lib/python3.7/site-packages/IPython/core/interactiveshell.py:3166: DtypeWarning: Columns (22,23) have mixed types.Specify dtype option on import or set low_memory=False.\n",
      "  interactivity=interactivity, compiler=compiler, result=result)\n"
     ]
    }
   ],
   "source": [
    "df_base = pd.read_csv('/Users/mbornhol/git/neural-profiling/baseline/01_data/level_3_data/2016_04_01_a549_48hr_batch1_dmso_spherized_profiles_with_input_normalized_by_dmso.csv.gz')\n",
    "df_base_dmso = df_base.query(\"Metadata_broad_sample == 'DMSO'\")"
   ],
   "metadata": {
    "collapsed": false,
    "pycharm": {
     "name": "#%%\n"
    }
   }
  },
  {
   "cell_type": "code",
   "execution_count": 17,
   "outputs": [
    {
     "name": "stderr",
     "output_type": "stream",
     "text": [
      "/Users/mbornhol/miniconda3/envs/cyto_eval/lib/python3.7/site-packages/seaborn/distributions.py:2557: FutureWarning: `distplot` is a deprecated function and will be removed in a future version. Please adapt your code to use either `displot` (a figure-level function with similar flexibility) or `histplot` (an axes-level function for histograms).\n",
      "  warnings.warn(msg, FutureWarning)\n",
      "/Users/mbornhol/miniconda3/envs/cyto_eval/lib/python3.7/site-packages/seaborn/distributions.py:2557: FutureWarning: `distplot` is a deprecated function and will be removed in a future version. Please adapt your code to use either `displot` (a figure-level function with similar flexibility) or `histplot` (an axes-level function for histograms).\n",
      "  warnings.warn(msg, FutureWarning)\n"
     ]
    },
    {
     "data": {
      "text/plain": "<Figure size 360x288 with 1 Axes>",
      "image/png": "[encoded data removed]"
     },
     "metadata": {},
     "output_type": "display_data"
    }
   ],
   "source": [
    "features = [f for f in df_base.columns if not f.startswith(\"Meta\")]\n",
    "randC_v2,repC,repCorrDf = replicateCorrs(df_base_dmso, \"Metadata_Well\",features,1)\n",
    "prop_95_replicating, value_95_replicating = utils.percent_score(randC_v2, repC,how='right')"
   ],
   "metadata": {
    "collapsed": false,
    "pycharm": {
     "name": "#%%\n"
    }
   }
  },
  {
   "cell_type": "code",
   "execution_count": 18,
   "outputs": [
    {
     "name": "stdout",
     "output_type": "stream",
     "text": [
      "0.0\n",
      "0.0418984213466351\n"
     ]
    }
   ],
   "source": [
    "print(prop_95_replicating)\n",
    "print(value_95_replicating)"
   ],
   "metadata": {
    "collapsed": false,
    "pycharm": {
     "name": "#%%\n"
    }
   }
  },
  {
   "cell_type": "code",
   "execution_count": 19,
   "outputs": [
    {
     "data": {
      "text/plain": "[0.0027081297112408432,\n 0.0011681215839064757,\n 0.0006092082287695777,\n 0.0009202431429691509,\n 0.001871821360730351,\n 0.0010071087620965764,\n 0.003542571512729198,\n 0.003047202605465587,\n 0.004083832455313052,\n 0.002784756232287063,\n 0.0020835467308742556,\n 0.0020495457497042746,\n 0.0010138425437150045,\n 0.0005296613529982612,\n 0.0012020609158485554,\n 0.0005100150300069651,\n 0.0007927514960578475,\n 0.0006512639179461575,\n 0.0013683413456418055,\n 0.0010604606103065363,\n 0.0011669232052182589,\n 0.0007654364384513496,\n 0.00113346295267247,\n 0.0019886083211072955]"
     },
     "execution_count": 19,
     "metadata": {},
     "output_type": "execute_result"
    }
   ],
   "source": [
    "repC"
   ],
   "metadata": {
    "collapsed": false,
    "pycharm": {
     "name": "#%%\n"
    }
   }
  },
  {
   "cell_type": "markdown",
   "source": [
    "# pretrained\n",
    "1. without norm\n",
    "2. With Mad rob\n",
    "3. With sphere"
   ],
   "metadata": {
    "collapsed": false,
    "pycharm": {
     "name": "#%% md\n"
    }
   }
  },
  {
   "cell_type": "code",
   "execution_count": 38,
   "outputs": [
    {
     "name": "stderr",
     "output_type": "stream",
     "text": [
      "/Users/mbornhol/miniconda3/envs/cyto_eval/lib/python3.7/site-packages/IPython/core/interactiveshell.py:3166: DtypeWarning: Columns (12) have mixed types.Specify dtype option on import or set low_memory=False.\n",
      "  interactivity=interactivity, compiler=compiler, result=result)\n"
     ]
    }
   ],
   "source": [
    "df_eff = pd.read_csv('/Users/mbornhol/git/neural-profiling/00_thesis/pre_trained/aggregated_efficientnet_median.csv')\n",
    "features = [f for f in df_eff.columns if not f.startswith(\"Meta\")]\n",
    "df_eff_mad = normalize(\n",
    "    profiles=df_eff,\n",
    "    features=features,\n",
    "    samples=\"Metadata_broad_sample == 'DMSO'\",\n",
    "    method='mad_robustize',\n",
    "    output_file='none'\n",
    ").query(\"Metadata_broad_sample == 'DMSO'\")\n",
    "\n",
    "df_eff_sph = normalize(\n",
    "    profiles=df_eff,\n",
    "    features=features,\n",
    "    samples=\"Metadata_broad_sample == 'DMSO'\",\n",
    "    method='spherize',\n",
    "    output_file='none'\n",
    ").query(\"Metadata_broad_sample == 'DMSO'\")\n",
    "df_eff = df_eff.query(\"Metadata_broad_sample != 'DMSO'\")"
   ],
   "metadata": {
    "collapsed": false,
    "pycharm": {
     "name": "#%%\n"
    }
   }
  },
  {
   "cell_type": "code",
   "execution_count": 39,
   "outputs": [
    {
     "name": "stderr",
     "output_type": "stream",
     "text": [
      "/Users/mbornhol/miniconda3/envs/cyto_eval/lib/python3.7/site-packages/seaborn/distributions.py:2557: FutureWarning: `distplot` is a deprecated function and will be removed in a future version. Please adapt your code to use either `displot` (a figure-level function with similar flexibility) or `histplot` (an axes-level function for histograms).\n",
      "  warnings.warn(msg, FutureWarning)\n",
      "/Users/mbornhol/miniconda3/envs/cyto_eval/lib/python3.7/site-packages/seaborn/distributions.py:2557: FutureWarning: `distplot` is a deprecated function and will be removed in a future version. Please adapt your code to use either `displot` (a figure-level function with similar flexibility) or `histplot` (an axes-level function for histograms).\n",
      "  warnings.warn(msg, FutureWarning)\n"
     ]
    },
    {
     "name": "stdout",
     "output_type": "stream",
     "text": [
      "0.0\n",
      "0.9999997195417636\n"
     ]
    },
    {
     "data": {
      "text/plain": "<Figure size 360x288 with 1 Axes>",
      "image/png": "[encoded data removed]"
     },
     "metadata": {},
     "output_type": "display_data"
    }
   ],
   "source": [
    "randC_v2,repC,repCorrDf = replicateCorrs(df_eff, \"Metadata_Well\",features,1)\n",
    "prop_95_replicating, value_95_replicating = utils.percent_score(randC_v2, repC,how='right')\n",
    "print(prop_95_replicating)\n",
    "print(value_95_replicating)"
   ],
   "metadata": {
    "collapsed": false,
    "pycharm": {
     "name": "#%%\n"
    }
   }
  },
  {
   "cell_type": "code",
   "execution_count": 45,
   "outputs": [],
   "source": [],
   "metadata": {
    "collapsed": false,
    "pycharm": {
     "name": "#%%\n"
    }
   }
  },
  {
   "cell_type": "code",
   "execution_count": 43,
   "outputs": [
    {
     "name": "stdout",
     "output_type": "stream",
     "text": [
      "0.0\n",
      "0.9999988896318021\n"
     ]
    }
   ],
   "source": [
    "replicating_corr = list(utils.corr_between_replicates(df_eff, \"Metadata_Well\")) # signal distribution\n",
    "null_replicating = list(utils.corr_between_non_replicates(df_eff, n_samples=100, n_replicates=10, metadata_compound_name = \"Metadata_Well\")) # null distribution\n",
    "prop_95_replicating, value_95_replicating = utils.percent_score(null_replicating,replicating_corr, how='right')\n",
    "print(prop_95_replicating)\n",
    "print(value_95_replicating)"
   ],
   "metadata": {
    "collapsed": false,
    "pycharm": {
     "name": "#%%\n"
    }
   }
  },
  {
   "cell_type": "code",
   "execution_count": 7,
   "outputs": [
    {
     "name": "stderr",
     "output_type": "stream",
     "text": [
      "/Users/mbornhol/miniconda3/envs/cyto_eval/lib/python3.7/site-packages/seaborn/distributions.py:2557: FutureWarning: `distplot` is a deprecated function and will be removed in a future version. Please adapt your code to use either `displot` (a figure-level function with similar flexibility) or `histplot` (an axes-level function for histograms).\n",
      "  warnings.warn(msg, FutureWarning)\n",
      "/Users/mbornhol/miniconda3/envs/cyto_eval/lib/python3.7/site-packages/seaborn/distributions.py:2557: FutureWarning: `distplot` is a deprecated function and will be removed in a future version. Please adapt your code to use either `displot` (a figure-level function with similar flexibility) or `histplot` (an axes-level function for histograms).\n",
      "  warnings.warn(msg, FutureWarning)\n"
     ]
    },
    {
     "name": "stdout",
     "output_type": "stream",
     "text": [
      "0.0\n",
      "0.6304089355049526\n"
     ]
    },
    {
     "data": {
      "text/plain": "<Figure size 360x288 with 1 Axes>",
      "image/png": "[encoded data removed]"
     },
     "metadata": {},
     "output_type": "display_data"
    }
   ],
   "source": [
    "randC_v2,repC,repCorrDf = replicateCorrs(df_eff_mad, \"Metadata_Well\",features,1)\n",
    "prop_95_replicating, value_95_replicating = utils.percent_score(randC_v2, repC,how='right')\n",
    "print(prop_95_replicating)\n",
    "print(value_95_replicating)"
   ],
   "metadata": {
    "collapsed": false,
    "pycharm": {
     "name": "#%%\n"
    }
   }
  },
  {
   "cell_type": "code",
   "execution_count": 8,
   "outputs": [
    {
     "name": "stdout",
     "output_type": "stream",
     "text": [
      "0.0\n",
      "0.000320179162640579\n"
     ]
    },
    {
     "name": "stderr",
     "output_type": "stream",
     "text": [
      "/Users/mbornhol/miniconda3/envs/cyto_eval/lib/python3.7/site-packages/seaborn/distributions.py:2557: FutureWarning: `distplot` is a deprecated function and will be removed in a future version. Please adapt your code to use either `displot` (a figure-level function with similar flexibility) or `histplot` (an axes-level function for histograms).\n",
      "  warnings.warn(msg, FutureWarning)\n",
      "/Users/mbornhol/miniconda3/envs/cyto_eval/lib/python3.7/site-packages/seaborn/distributions.py:2557: FutureWarning: `distplot` is a deprecated function and will be removed in a future version. Please adapt your code to use either `displot` (a figure-level function with similar flexibility) or `histplot` (an axes-level function for histograms).\n",
      "  warnings.warn(msg, FutureWarning)\n"
     ]
    },
    {
     "data": {
      "text/plain": "<Figure size 360x288 with 1 Axes>",
      "image/png": "[encoded data removed]"
     },
     "metadata": {},
     "output_type": "display_data"
    }
   ],
   "source": [
    "randC_v2,repC,repCorrDf = replicateCorrs(df_eff_sph, \"Metadata_Well\",features,1)\n",
    "prop_95_replicating, value_95_replicating = utils.percent_score(randC_v2, repC,how='right')\n",
    "print(prop_95_replicating)\n",
    "print(value_95_replicating)"
   ],
   "metadata": {
    "collapsed": false,
    "pycharm": {
     "name": "#%%\n"
    }
   }
  },
  {
   "cell_type": "code",
   "execution_count": 13,
   "outputs": [
    {
     "name": "stderr",
     "output_type": "stream",
     "text": [
      "/Users/mbornhol/miniconda3/envs/cyto_eval/lib/python3.7/site-packages/IPython/core/interactiveshell.py:3166: DtypeWarning: Columns (12) have mixed types.Specify dtype option on import or set low_memory=False.\n",
      "  interactivity=interactivity, compiler=compiler, result=result)\n"
     ]
    }
   ],
   "source": [
    "df_train = pd.read_csv('/Users/mbornhol/git/neural-profiling/training/runs/813/813_aggregated_median.csv')\n",
    "df_train_dmso = df_train.query(\"Metadata_broad_sample == 'DMSO'\")\n",
    "features = [f for f in df_train.columns if not f.startswith(\"Meta\")]"
   ],
   "metadata": {
    "collapsed": false,
    "pycharm": {
     "name": "#%%\n"
    }
   }
  },
  {
   "cell_type": "code",
   "execution_count": 14,
   "outputs": [
    {
     "name": "stderr",
     "output_type": "stream",
     "text": [
      "/Users/mbornhol/miniconda3/envs/cyto_eval/lib/python3.7/site-packages/seaborn/distributions.py:2557: FutureWarning: `distplot` is a deprecated function and will be removed in a future version. Please adapt your code to use either `displot` (a figure-level function with similar flexibility) or `histplot` (an axes-level function for histograms).\n",
      "  warnings.warn(msg, FutureWarning)\n",
      "/Users/mbornhol/miniconda3/envs/cyto_eval/lib/python3.7/site-packages/seaborn/distributions.py:2557: FutureWarning: `distplot` is a deprecated function and will be removed in a future version. Please adapt your code to use either `displot` (a figure-level function with similar flexibility) or `histplot` (an axes-level function for histograms).\n",
      "  warnings.warn(msg, FutureWarning)\n"
     ]
    },
    {
     "name": "stdout",
     "output_type": "stream",
     "text": [
      "0.0\n",
      "0.9999491218070883\n"
     ]
    },
    {
     "data": {
      "text/plain": "<Figure size 360x288 with 1 Axes>",
      "image/png": "[encoded data removed]"
     },
     "metadata": {},
     "output_type": "display_data"
    }
   ],
   "source": [
    "randC_v2,repC,repCorrDf = replicateCorrs(df_train_dmso, \"Metadata_Well\",features,1)\n",
    "prop_95_replicating, value_95_replicating = utils.percent_score(randC_v2, repC,how='right')\n",
    "print(prop_95_replicating)\n",
    "print(value_95_replicating)"
   ],
   "metadata": {
    "collapsed": false,
    "pycharm": {
     "name": "#%%\n"
    }
   }
  },
  {
   "cell_type": "code",
   "execution_count": 70,
   "outputs": [
    {
     "data": {
      "text/plain": "0.9999974568509163"
     },
     "execution_count": 70,
     "metadata": {},
     "output_type": "execute_result"
    }
   ],
   "source": [
    "value_95_replicating"
   ],
   "metadata": {
    "collapsed": false,
    "pycharm": {
     "name": "#%%\n"
    }
   }
  },
  {
   "cell_type": "code",
   "execution_count": 66,
   "outputs": [
    {
     "data": {
      "text/plain": "0.044596996517038134"
     },
     "execution_count": 66,
     "metadata": {},
     "output_type": "execute_result"
    }
   ],
   "source": [],
   "metadata": {
    "collapsed": false,
    "pycharm": {
     "name": "#%%\n"
    }
   }
  },
  {
   "cell_type": "code",
   "execution_count": 4,
   "outputs": [
    {
     "name": "stderr",
     "output_type": "stream",
     "text": [
      "/Users/mbornhol/miniconda3/envs/cyto_eval/lib/python3.7/site-packages/IPython/core/interactiveshell.py:3166: DtypeWarning: Columns (12) have mixed types.Specify dtype option on import or set low_memory=False.\n",
      "  interactivity=interactivity, compiler=compiler, result=result)\n"
     ]
    },
    {
     "ename": "NameError",
     "evalue": "name 'replicateCorrs' is not defined",
     "output_type": "error",
     "traceback": [
      "\u001B[0;31m---------------------------------------------------------------------------\u001B[0m",
      "\u001B[0;31mNameError\u001B[0m                                 Traceback (most recent call last)",
      "\u001B[0;32m<ipython-input-4-760b14ebe140>\u001B[0m in \u001B[0;36m<module>\u001B[0;34m\u001B[0m\n\u001B[1;32m      2\u001B[0m \u001B[0mdf_eff_dmso\u001B[0m \u001B[0;34m=\u001B[0m \u001B[0mdf_eff\u001B[0m\u001B[0;34m.\u001B[0m\u001B[0mquery\u001B[0m\u001B[0;34m(\u001B[0m\u001B[0;34m\"Metadata_broad_sample == 'DMSO'\"\u001B[0m\u001B[0;34m)\u001B[0m\u001B[0;34m\u001B[0m\u001B[0;34m\u001B[0m\u001B[0m\n\u001B[1;32m      3\u001B[0m \u001B[0mfeatures\u001B[0m \u001B[0;34m=\u001B[0m \u001B[0;34m[\u001B[0m\u001B[0mf\u001B[0m \u001B[0;32mfor\u001B[0m \u001B[0mf\u001B[0m \u001B[0;32min\u001B[0m \u001B[0mdf_eff_dmso\u001B[0m\u001B[0;34m.\u001B[0m\u001B[0mcolumns\u001B[0m \u001B[0;32mif\u001B[0m \u001B[0;32mnot\u001B[0m \u001B[0mf\u001B[0m\u001B[0;34m.\u001B[0m\u001B[0mstartswith\u001B[0m\u001B[0;34m(\u001B[0m\u001B[0;34m\"Meta\"\u001B[0m\u001B[0;34m)\u001B[0m\u001B[0;34m]\u001B[0m\u001B[0;34m\u001B[0m\u001B[0;34m\u001B[0m\u001B[0m\n\u001B[0;32m----> 4\u001B[0;31m \u001B[0mrandC_v2\u001B[0m\u001B[0;34m,\u001B[0m\u001B[0mrepC\u001B[0m\u001B[0;34m,\u001B[0m\u001B[0mrepCorrDf\u001B[0m \u001B[0;34m=\u001B[0m \u001B[0mreplicateCorrs\u001B[0m\u001B[0;34m(\u001B[0m\u001B[0mdf_eff_dmso\u001B[0m\u001B[0;34m,\u001B[0m \u001B[0;34m\"Metadata_Well\"\u001B[0m\u001B[0;34m,\u001B[0m\u001B[0mfeatures\u001B[0m\u001B[0;34m,\u001B[0m\u001B[0;36m1\u001B[0m\u001B[0;34m)\u001B[0m\u001B[0;34m\u001B[0m\u001B[0;34m\u001B[0m\u001B[0m\n\u001B[0m\u001B[1;32m      5\u001B[0m \u001B[0mprop_95_replicating\u001B[0m\u001B[0;34m,\u001B[0m \u001B[0mvalue_95_replicating\u001B[0m \u001B[0;34m=\u001B[0m \u001B[0mutils\u001B[0m\u001B[0;34m.\u001B[0m\u001B[0mpercent_score\u001B[0m\u001B[0;34m(\u001B[0m\u001B[0mrandC_v2\u001B[0m\u001B[0;34m,\u001B[0m \u001B[0mrepC\u001B[0m\u001B[0;34m,\u001B[0m\u001B[0mhow\u001B[0m\u001B[0;34m=\u001B[0m\u001B[0;34m'right'\u001B[0m\u001B[0;34m)\u001B[0m\u001B[0;34m\u001B[0m\u001B[0;34m\u001B[0m\u001B[0m\n",
      "\u001B[0;31mNameError\u001B[0m: name 'replicateCorrs' is not defined"
     ]
    }
   ],
   "source": [
    "df_eff = pd.read_csv('/Users/mbornhol/git/neural-profiling/00_thesis/pre_trained/aggregated_efficientnet_median.csv')\n",
    "df_eff_dmso = df_eff.query(\"Metadata_broad_sample == 'DMSO'\")\n",
    "features = [f for f in df_eff_dmso.columns if not f.startswith(\"Meta\")]\n",
    "randC_v2,repC,repCorrDf = replicateCorrs(df_eff_dmso, \"Metadata_Well\",features,1)\n",
    "prop_95_replicating, value_95_replicating = utils.percent_score(randC_v2, repC,how='right')"
   ],
   "metadata": {
    "collapsed": false,
    "pycharm": {
     "name": "#%%\n"
    }
   }
  },
  {
   "cell_type": "code",
   "execution_count": 71,
   "outputs": [
    {
     "data": {
      "text/plain": "0.9999974568509163"
     },
     "execution_count": 71,
     "metadata": {},
     "output_type": "execute_result"
    }
   ],
   "source": [
    "# plt.rcParams['figure.facecolor'] = 'white' # Enabling this makes the figure axes and labels visible in PyCharm Dracula theme\n",
    "value_95_replicating"
   ],
   "metadata": {
    "collapsed": false,
    "pycharm": {
     "name": "#%%\n"
    }
   }
  },
  {
   "cell_type": "code",
   "execution_count": 20,
   "outputs": [
    {
     "name": "stderr",
     "output_type": "stream",
     "text": [
      "/Users/mbornhol/miniconda3/envs/cyto_eval/lib/python3.7/site-packages/IPython/core/interactiveshell.py:3166: DtypeWarning: Columns (22,23) have mixed types.Specify dtype option on import or set low_memory=False.\n",
      "  interactivity=interactivity, compiler=compiler, result=result)\n"
     ]
    }
   ],
   "source": [
    "df_base = pd.read_csv('/Users/mbornhol/git/neural-profiling/baseline/01_data/level_3_data/2016_04_01_a549_48hr_batch1_dmso_spherized_profiles_with_input_normalized_by_dmso.csv.gz')"
   ],
   "metadata": {
    "collapsed": false,
    "pycharm": {
     "name": "#%%\n"
    }
   }
  },
  {
   "cell_type": "code",
   "execution_count": 25,
   "outputs": [],
   "source": [
    "df_base = df_base.query(\"Metadata_broad_sample != 'DMSO'\")\n",
    "df_base = df_base [df_base_dmso.Metadata_plate_map_name == \"C-7161-01-LM6-027\"]"
   ],
   "metadata": {
    "collapsed": false,
    "pycharm": {
     "name": "#%%\n"
    }
   }
  },
  {
   "cell_type": "code",
   "execution_count": 21,
   "outputs": [
    {
     "ename": "KeyboardInterrupt",
     "evalue": "",
     "output_type": "error",
     "traceback": [
      "\u001B[0;31m---------------------------------------------------------------------------\u001B[0m",
      "\u001B[0;31mKeyboardInterrupt\u001B[0m                         Traceback (most recent call last)",
      "\u001B[0;32m<ipython-input-21-694a13a75e8d>\u001B[0m in \u001B[0;36m<module>\u001B[0;34m\u001B[0m\n\u001B[1;32m      1\u001B[0m \u001B[0mfeatures\u001B[0m \u001B[0;34m=\u001B[0m \u001B[0;34m[\u001B[0m\u001B[0mf\u001B[0m \u001B[0;32mfor\u001B[0m \u001B[0mf\u001B[0m \u001B[0;32min\u001B[0m \u001B[0mdf_base\u001B[0m\u001B[0;34m.\u001B[0m\u001B[0mcolumns\u001B[0m \u001B[0;32mif\u001B[0m \u001B[0;32mnot\u001B[0m \u001B[0mf\u001B[0m\u001B[0;34m.\u001B[0m\u001B[0mstartswith\u001B[0m\u001B[0;34m(\u001B[0m\u001B[0;34m\"Meta\"\u001B[0m\u001B[0;34m)\u001B[0m\u001B[0;34m]\u001B[0m\u001B[0;34m\u001B[0m\u001B[0;34m\u001B[0m\u001B[0m\n\u001B[0;32m----> 2\u001B[0;31m \u001B[0mrandC_v2\u001B[0m\u001B[0;34m,\u001B[0m\u001B[0mrepC\u001B[0m\u001B[0;34m,\u001B[0m\u001B[0mrepCorrDf\u001B[0m \u001B[0;34m=\u001B[0m \u001B[0mreplicateCorrs\u001B[0m\u001B[0;34m(\u001B[0m\u001B[0mdf_base_dmso\u001B[0m\u001B[0;34m,\u001B[0m \u001B[0;34m\"Metadata_broad_sample\"\u001B[0m\u001B[0;34m,\u001B[0m\u001B[0mfeatures\u001B[0m\u001B[0;34m,\u001B[0m\u001B[0;36m1\u001B[0m\u001B[0;34m)\u001B[0m\u001B[0;34m\u001B[0m\u001B[0;34m\u001B[0m\u001B[0m\n\u001B[0m\u001B[1;32m      3\u001B[0m \u001B[0mprop_95_replicating\u001B[0m\u001B[0;34m,\u001B[0m \u001B[0mvalue_95_replicating\u001B[0m \u001B[0;34m=\u001B[0m \u001B[0mutils\u001B[0m\u001B[0;34m.\u001B[0m\u001B[0mpercent_score\u001B[0m\u001B[0;34m(\u001B[0m\u001B[0mrandC_v2\u001B[0m\u001B[0;34m,\u001B[0m \u001B[0mrepC\u001B[0m\u001B[0;34m,\u001B[0m\u001B[0mhow\u001B[0m\u001B[0;34m=\u001B[0m\u001B[0;34m'right'\u001B[0m\u001B[0;34m)\u001B[0m\u001B[0;34m\u001B[0m\u001B[0;34m\u001B[0m\u001B[0m\n",
      "\u001B[0;32m<ipython-input-1-3f02be202272>\u001B[0m in \u001B[0;36mreplicateCorrs\u001B[0;34m(inDf, pertColName, featColNames, plotEnabled)\u001B[0m\n\u001B[1;32m     55\u001B[0m \u001B[0;34m\u001B[0m\u001B[0m\n\u001B[1;32m     56\u001B[0m     \u001B[0;32mfor\u001B[0m \u001B[0mu\u001B[0m \u001B[0;32min\u001B[0m \u001B[0mhighRepComp\u001B[0m\u001B[0;34m:\u001B[0m\u001B[0;34m\u001B[0m\u001B[0;34m\u001B[0m\u001B[0m\n\u001B[0;32m---> 57\u001B[0;31m         \u001B[0mdf1\u001B[0m\u001B[0;34m=\u001B[0m\u001B[0mdf\u001B[0m\u001B[0;34m[\u001B[0m\u001B[0mdf\u001B[0m\u001B[0;34m[\u001B[0m\u001B[0mpertColName\u001B[0m\u001B[0;34m]\u001B[0m\u001B[0;34m==\u001B[0m\u001B[0mu\u001B[0m\u001B[0;34m]\u001B[0m\u001B[0;34m.\u001B[0m\u001B[0mdrop_duplicates\u001B[0m\u001B[0;34m(\u001B[0m\u001B[0;34m)\u001B[0m\u001B[0;34m.\u001B[0m\u001B[0mreset_index\u001B[0m\u001B[0;34m(\u001B[0m\u001B[0mdrop\u001B[0m\u001B[0;34m=\u001B[0m\u001B[0;32mTrue\u001B[0m\u001B[0;34m)\u001B[0m\u001B[0;34m\u001B[0m\u001B[0;34m\u001B[0m\u001B[0m\n\u001B[0m\u001B[1;32m     58\u001B[0m         \u001B[0mrepCorrPurtbs\u001B[0m\u001B[0;34m=\u001B[0m\u001B[0mdf1\u001B[0m\u001B[0;34m.\u001B[0m\u001B[0mloc\u001B[0m\u001B[0;34m[\u001B[0m\u001B[0;34m:\u001B[0m\u001B[0;34m,\u001B[0m\u001B[0mfeatColNames\u001B[0m\u001B[0;34m]\u001B[0m\u001B[0;34m.\u001B[0m\u001B[0mT\u001B[0m\u001B[0;34m.\u001B[0m\u001B[0mcorr\u001B[0m\u001B[0;34m(\u001B[0m\u001B[0;34m)\u001B[0m\u001B[0;34m\u001B[0m\u001B[0;34m\u001B[0m\u001B[0m\n\u001B[1;32m     59\u001B[0m         \u001B[0mrepCorr\u001B[0m\u001B[0;34m=\u001B[0m\u001B[0mlist\u001B[0m\u001B[0;34m(\u001B[0m\u001B[0mrepCorrPurtbs\u001B[0m\u001B[0;34m.\u001B[0m\u001B[0mvalues\u001B[0m\u001B[0;34m[\u001B[0m\u001B[0mnp\u001B[0m\u001B[0;34m.\u001B[0m\u001B[0mtriu_indices\u001B[0m\u001B[0;34m(\u001B[0m\u001B[0mrepCorrPurtbs\u001B[0m\u001B[0;34m.\u001B[0m\u001B[0mshape\u001B[0m\u001B[0;34m[\u001B[0m\u001B[0;36m0\u001B[0m\u001B[0;34m]\u001B[0m\u001B[0;34m,\u001B[0m \u001B[0mk\u001B[0m \u001B[0;34m=\u001B[0m \u001B[0;36m1\u001B[0m\u001B[0;34m)\u001B[0m\u001B[0;34m]\u001B[0m\u001B[0;34m)\u001B[0m\u001B[0;34m\u001B[0m\u001B[0;34m\u001B[0m\u001B[0m\n",
      "\u001B[0;32m~/miniconda3/envs/cyto_eval/lib/python3.7/site-packages/pandas/core/frame.py\u001B[0m in \u001B[0;36mdrop_duplicates\u001B[0;34m(self, subset, keep, inplace, ignore_index)\u001B[0m\n\u001B[1;32m   5266\u001B[0m         \u001B[0minplace\u001B[0m \u001B[0;34m=\u001B[0m \u001B[0mvalidate_bool_kwarg\u001B[0m\u001B[0;34m(\u001B[0m\u001B[0minplace\u001B[0m\u001B[0;34m,\u001B[0m \u001B[0;34m\"inplace\"\u001B[0m\u001B[0;34m)\u001B[0m\u001B[0;34m\u001B[0m\u001B[0;34m\u001B[0m\u001B[0m\n\u001B[1;32m   5267\u001B[0m         \u001B[0mignore_index\u001B[0m \u001B[0;34m=\u001B[0m \u001B[0mvalidate_bool_kwarg\u001B[0m\u001B[0;34m(\u001B[0m\u001B[0mignore_index\u001B[0m\u001B[0;34m,\u001B[0m \u001B[0;34m\"ignore_index\"\u001B[0m\u001B[0;34m)\u001B[0m\u001B[0;34m\u001B[0m\u001B[0;34m\u001B[0m\u001B[0m\n\u001B[0;32m-> 5268\u001B[0;31m         \u001B[0mduplicated\u001B[0m \u001B[0;34m=\u001B[0m \u001B[0mself\u001B[0m\u001B[0;34m.\u001B[0m\u001B[0mduplicated\u001B[0m\u001B[0;34m(\u001B[0m\u001B[0msubset\u001B[0m\u001B[0;34m,\u001B[0m \u001B[0mkeep\u001B[0m\u001B[0;34m=\u001B[0m\u001B[0mkeep\u001B[0m\u001B[0;34m)\u001B[0m\u001B[0;34m\u001B[0m\u001B[0;34m\u001B[0m\u001B[0m\n\u001B[0m\u001B[1;32m   5269\u001B[0m \u001B[0;34m\u001B[0m\u001B[0m\n\u001B[1;32m   5270\u001B[0m         \u001B[0mresult\u001B[0m \u001B[0;34m=\u001B[0m \u001B[0mself\u001B[0m\u001B[0;34m[\u001B[0m\u001B[0;34m-\u001B[0m\u001B[0mduplicated\u001B[0m\u001B[0;34m]\u001B[0m\u001B[0;34m\u001B[0m\u001B[0;34m\u001B[0m\u001B[0m\n",
      "\u001B[0;32m~/miniconda3/envs/cyto_eval/lib/python3.7/site-packages/pandas/core/frame.py\u001B[0m in \u001B[0;36mduplicated\u001B[0;34m(self, subset, keep)\u001B[0m\n\u001B[1;32m   5403\u001B[0m \u001B[0;34m\u001B[0m\u001B[0m\n\u001B[1;32m   5404\u001B[0m         \u001B[0mvals\u001B[0m \u001B[0;34m=\u001B[0m \u001B[0;34m(\u001B[0m\u001B[0mcol\u001B[0m\u001B[0;34m.\u001B[0m\u001B[0mvalues\u001B[0m \u001B[0;32mfor\u001B[0m \u001B[0mname\u001B[0m\u001B[0;34m,\u001B[0m \u001B[0mcol\u001B[0m \u001B[0;32min\u001B[0m \u001B[0mself\u001B[0m\u001B[0;34m.\u001B[0m\u001B[0mitems\u001B[0m\u001B[0;34m(\u001B[0m\u001B[0;34m)\u001B[0m \u001B[0;32mif\u001B[0m \u001B[0mname\u001B[0m \u001B[0;32min\u001B[0m \u001B[0msubset\u001B[0m\u001B[0;34m)\u001B[0m\u001B[0;34m\u001B[0m\u001B[0;34m\u001B[0m\u001B[0m\n\u001B[0;32m-> 5405\u001B[0;31m         \u001B[0mlabels\u001B[0m\u001B[0;34m,\u001B[0m \u001B[0mshape\u001B[0m \u001B[0;34m=\u001B[0m \u001B[0mmap\u001B[0m\u001B[0;34m(\u001B[0m\u001B[0mlist\u001B[0m\u001B[0;34m,\u001B[0m \u001B[0mzip\u001B[0m\u001B[0;34m(\u001B[0m\u001B[0;34m*\u001B[0m\u001B[0mmap\u001B[0m\u001B[0;34m(\u001B[0m\u001B[0mf\u001B[0m\u001B[0;34m,\u001B[0m \u001B[0mvals\u001B[0m\u001B[0;34m)\u001B[0m\u001B[0;34m)\u001B[0m\u001B[0;34m)\u001B[0m\u001B[0;34m\u001B[0m\u001B[0;34m\u001B[0m\u001B[0m\n\u001B[0m\u001B[1;32m   5406\u001B[0m \u001B[0;34m\u001B[0m\u001B[0m\n\u001B[1;32m   5407\u001B[0m         \u001B[0mids\u001B[0m \u001B[0;34m=\u001B[0m \u001B[0mget_group_index\u001B[0m\u001B[0;34m(\u001B[0m\u001B[0mlabels\u001B[0m\u001B[0;34m,\u001B[0m \u001B[0mshape\u001B[0m\u001B[0;34m,\u001B[0m \u001B[0msort\u001B[0m\u001B[0;34m=\u001B[0m\u001B[0;32mFalse\u001B[0m\u001B[0;34m,\u001B[0m \u001B[0mxnull\u001B[0m\u001B[0;34m=\u001B[0m\u001B[0;32mFalse\u001B[0m\u001B[0;34m)\u001B[0m\u001B[0;34m\u001B[0m\u001B[0;34m\u001B[0m\u001B[0m\n",
      "\u001B[0;32m~/miniconda3/envs/cyto_eval/lib/python3.7/site-packages/pandas/core/frame.py\u001B[0m in \u001B[0;36mf\u001B[0;34m(vals)\u001B[0m\n\u001B[1;32m   5378\u001B[0m         \u001B[0;32mdef\u001B[0m \u001B[0mf\u001B[0m\u001B[0;34m(\u001B[0m\u001B[0mvals\u001B[0m\u001B[0;34m)\u001B[0m\u001B[0;34m:\u001B[0m\u001B[0;34m\u001B[0m\u001B[0;34m\u001B[0m\u001B[0m\n\u001B[1;32m   5379\u001B[0m             labels, shape = algorithms.factorize(\n\u001B[0;32m-> 5380\u001B[0;31m                 \u001B[0mvals\u001B[0m\u001B[0;34m,\u001B[0m \u001B[0msize_hint\u001B[0m\u001B[0;34m=\u001B[0m\u001B[0mmin\u001B[0m\u001B[0;34m(\u001B[0m\u001B[0mlen\u001B[0m\u001B[0;34m(\u001B[0m\u001B[0mself\u001B[0m\u001B[0;34m)\u001B[0m\u001B[0;34m,\u001B[0m \u001B[0mSIZE_HINT_LIMIT\u001B[0m\u001B[0;34m)\u001B[0m\u001B[0;34m\u001B[0m\u001B[0;34m\u001B[0m\u001B[0m\n\u001B[0m\u001B[1;32m   5381\u001B[0m             )\n\u001B[1;32m   5382\u001B[0m             \u001B[0;32mreturn\u001B[0m \u001B[0mlabels\u001B[0m\u001B[0;34m.\u001B[0m\u001B[0mastype\u001B[0m\u001B[0;34m(\u001B[0m\u001B[0;34m\"i8\"\u001B[0m\u001B[0;34m,\u001B[0m \u001B[0mcopy\u001B[0m\u001B[0;34m=\u001B[0m\u001B[0;32mFalse\u001B[0m\u001B[0;34m)\u001B[0m\u001B[0;34m,\u001B[0m \u001B[0mlen\u001B[0m\u001B[0;34m(\u001B[0m\u001B[0mshape\u001B[0m\u001B[0;34m)\u001B[0m\u001B[0;34m\u001B[0m\u001B[0;34m\u001B[0m\u001B[0m\n",
      "\u001B[0;32m~/miniconda3/envs/cyto_eval/lib/python3.7/site-packages/pandas/core/algorithms.py\u001B[0m in \u001B[0;36mfactorize\u001B[0;34m(values, sort, na_sentinel, size_hint)\u001B[0m\n\u001B[1;32m    721\u001B[0m \u001B[0;34m\u001B[0m\u001B[0m\n\u001B[1;32m    722\u001B[0m         codes, uniques = factorize_array(\n\u001B[0;32m--> 723\u001B[0;31m             \u001B[0mvalues\u001B[0m\u001B[0;34m,\u001B[0m \u001B[0mna_sentinel\u001B[0m\u001B[0;34m=\u001B[0m\u001B[0mna_sentinel\u001B[0m\u001B[0;34m,\u001B[0m \u001B[0msize_hint\u001B[0m\u001B[0;34m=\u001B[0m\u001B[0msize_hint\u001B[0m\u001B[0;34m,\u001B[0m \u001B[0mna_value\u001B[0m\u001B[0;34m=\u001B[0m\u001B[0mna_value\u001B[0m\u001B[0;34m\u001B[0m\u001B[0;34m\u001B[0m\u001B[0m\n\u001B[0m\u001B[1;32m    724\u001B[0m         )\n\u001B[1;32m    725\u001B[0m \u001B[0;34m\u001B[0m\u001B[0m\n",
      "\u001B[0;32m~/miniconda3/envs/cyto_eval/lib/python3.7/site-packages/pandas/core/algorithms.py\u001B[0m in \u001B[0;36mfactorize_array\u001B[0;34m(values, na_sentinel, size_hint, na_value, mask)\u001B[0m\n\u001B[1;32m    527\u001B[0m     \u001B[0mtable\u001B[0m \u001B[0;34m=\u001B[0m \u001B[0mhash_klass\u001B[0m\u001B[0;34m(\u001B[0m\u001B[0msize_hint\u001B[0m \u001B[0;32mor\u001B[0m \u001B[0mlen\u001B[0m\u001B[0;34m(\u001B[0m\u001B[0mvalues\u001B[0m\u001B[0;34m)\u001B[0m\u001B[0;34m)\u001B[0m\u001B[0;34m\u001B[0m\u001B[0;34m\u001B[0m\u001B[0m\n\u001B[1;32m    528\u001B[0m     uniques, codes = table.factorize(\n\u001B[0;32m--> 529\u001B[0;31m         \u001B[0mvalues\u001B[0m\u001B[0;34m,\u001B[0m \u001B[0mna_sentinel\u001B[0m\u001B[0;34m=\u001B[0m\u001B[0mna_sentinel\u001B[0m\u001B[0;34m,\u001B[0m \u001B[0mna_value\u001B[0m\u001B[0;34m=\u001B[0m\u001B[0mna_value\u001B[0m\u001B[0;34m,\u001B[0m \u001B[0mmask\u001B[0m\u001B[0;34m=\u001B[0m\u001B[0mmask\u001B[0m\u001B[0;34m\u001B[0m\u001B[0;34m\u001B[0m\u001B[0m\n\u001B[0m\u001B[1;32m    530\u001B[0m     )\n\u001B[1;32m    531\u001B[0m \u001B[0;34m\u001B[0m\u001B[0m\n",
      "\u001B[0;32mpandas/_libs/hashtable_class_helper.pxi\u001B[0m in \u001B[0;36mpandas._libs.hashtable.Float64HashTable.factorize\u001B[0;34m()\u001B[0m\n",
      "\u001B[0;32mpandas/_libs/hashtable_class_helper.pxi\u001B[0m in \u001B[0;36mpandas._libs.hashtable.Float64HashTable._unique\u001B[0;34m()\u001B[0m\n",
      "\u001B[0;32m~/miniconda3/envs/cyto_eval/lib/python3.7/site-packages/numpy/core/_asarray.py\u001B[0m in \u001B[0;36masarray\u001B[0;34m(a, dtype, order, like)\u001B[0m\n\u001B[1;32m     97\u001B[0m \u001B[0;34m\u001B[0m\u001B[0m\n\u001B[1;32m     98\u001B[0m     \"\"\"\n\u001B[0;32m---> 99\u001B[0;31m     \u001B[0;32mif\u001B[0m \u001B[0mlike\u001B[0m \u001B[0;32mis\u001B[0m \u001B[0;32mnot\u001B[0m \u001B[0;32mNone\u001B[0m\u001B[0;34m:\u001B[0m\u001B[0;34m\u001B[0m\u001B[0;34m\u001B[0m\u001B[0m\n\u001B[0m\u001B[1;32m    100\u001B[0m         \u001B[0;32mreturn\u001B[0m \u001B[0m_asarray_with_like\u001B[0m\u001B[0;34m(\u001B[0m\u001B[0ma\u001B[0m\u001B[0;34m,\u001B[0m \u001B[0mdtype\u001B[0m\u001B[0;34m=\u001B[0m\u001B[0mdtype\u001B[0m\u001B[0;34m,\u001B[0m \u001B[0morder\u001B[0m\u001B[0;34m=\u001B[0m\u001B[0morder\u001B[0m\u001B[0;34m,\u001B[0m \u001B[0mlike\u001B[0m\u001B[0;34m=\u001B[0m\u001B[0mlike\u001B[0m\u001B[0;34m)\u001B[0m\u001B[0;34m\u001B[0m\u001B[0;34m\u001B[0m\u001B[0m\n\u001B[1;32m    101\u001B[0m \u001B[0;34m\u001B[0m\u001B[0m\n",
      "\u001B[0;31mKeyboardInterrupt\u001B[0m: "
     ]
    }
   ],
   "source": [
    "features = [f for f in df_base.columns if not f.startswith(\"Meta\")]\n",
    "randC_v2,repC,repCorrDf = replicateCorrs(df_base_dmso, \"Metadata_broad_sample\",features,1)\n",
    "prop_95_replicating, value_95_replicating = utils.percent_score(randC_v2, repC,how='right')"
   ],
   "metadata": {
    "collapsed": false,
    "pycharm": {
     "name": "#%%\n"
    }
   }
  },
  {
   "cell_type": "code",
   "execution_count": null,
   "outputs": [],
   "source": [
    "print(prop_95_replicating)\n",
    "print(value_95_replicating)"
   ],
   "metadata": {
    "collapsed": false,
    "pycharm": {
     "name": "#%%\n"
    }
   }
  },
  {
   "cell_type": "code",
   "execution_count": 26,
   "outputs": [
    {
     "data": {
      "text/plain": "   Metadata_plate_map_name   Metadata_broad_sample  Metadata_mg_per_ml  \\\n6        C-7161-01-LM6-027  BRD-K92301463-001-05-5            0.380520   \n7        C-7161-01-LM6-027  BRD-K92301463-001-05-5            0.126840   \n8        C-7161-01-LM6-027  BRD-K92301463-001-05-5            0.042280   \n9        C-7161-01-LM6-027  BRD-K92301463-001-05-5            0.014093   \n10       C-7161-01-LM6-027  BRD-K92301463-001-05-5            0.004698   \n\n    Metadata_mmoles_per_liter Metadata_solvent Metadata_Plate Metadata_Well  \\\n6                    1.000000             DMSO     SQ00015211           A07   \n7                    0.333330             DMSO     SQ00015211           A08   \n8                    0.111110             DMSO     SQ00015211           A09   \n9                    0.037037             DMSO     SQ00015211           A10   \n10                   0.012346             DMSO     SQ00015211           A11   \n\n   Metadata_pert_id    Metadata_pert_mfc_id Metadata_pert_well  ...  \\\n6     BRD-K92301463  BRD-K92301463-001-05-5                A07  ...   \n7     BRD-K92301463  BRD-K92301463-001-05-5                A08  ...   \n8     BRD-K92301463  BRD-K92301463-001-05-5                A09  ...   \n9     BRD-K92301463  BRD-K92301463-001-05-5                A10  ...   \n10    BRD-K92301463  BRD-K92301463-001-05-5                A11  ...   \n\n    Nuclei_Texture_SumVariance_RNA_20_0 Nuclei_Texture_SumVariance_RNA_5_0  \\\n6                             -1.914416                           0.956014   \n7                              0.278340                          -1.466554   \n8                              2.375923                          -1.126536   \n9                             -0.639863                          -0.458803   \n10                            -0.046652                          -0.693108   \n\n   Nuclei_Texture_Variance_AGP_20_0 Nuclei_Texture_Variance_DNA_20_0  \\\n6                         -1.555247                        -0.038971   \n7                          1.298892                        -0.085553   \n8                         -2.368054                         0.677266   \n9                          0.052816                        -0.986230   \n10                         0.279095                        -1.250561   \n\n   Nuclei_Texture_Variance_ER_10_0 Nuclei_Texture_Variance_ER_20_0  \\\n6                         0.563998                       -0.459078   \n7                         2.078748                       -0.785900   \n8                        -2.161539                       -1.030605   \n9                         0.459197                       -0.868973   \n10                        0.244342                        0.833477   \n\n   Nuclei_Texture_Variance_Mito_20_0 Nuclei_Texture_Variance_RNA_10_0  \\\n6                          -0.613771                        -1.199368   \n7                           0.834367                         1.361300   \n8                           0.131178                        -1.475261   \n9                          -0.826204                        -0.615738   \n10                         -0.205147                         1.103067   \n\n   Nuclei_Texture_Variance_RNA_20_0 Nuclei_Texture_Variance_RNA_5_0  \n6                         -1.558536                        1.893174  \n7                          1.568432                        1.296790  \n8                          2.989612                        0.977136  \n9                          0.809007                        1.710367  \n10                        -4.454818                        0.335270  \n\n[5 rows x 1055 columns]",
      "text/html": "<div>\n<style scoped>\n    .dataframe tbody tr th:only-of-type {\n        vertical-align: middle;\n    }\n\n    .dataframe tbody tr th {\n        vertical-align: top;\n    }\n\n    .dataframe thead th {\n        text-align: right;\n    }\n</style>\n<table border=\"1\" class=\"dataframe\">\n  <thead>\n    <tr style=\"text-align: right;\">\n      <th></th>\n      <th>Metadata_plate_map_name</th>\n      <th>Metadata_broad_sample</th>\n      <th>Metadata_mg_per_ml</th>\n      <th>Metadata_mmoles_per_liter</th>\n      <th>Metadata_solvent</th>\n      <th>Metadata_Plate</th>\n      <th>Metadata_Well</th>\n      <th>Metadata_pert_id</th>\n      <th>Metadata_pert_mfc_id</th>\n      <th>Metadata_pert_well</th>\n      <th>...</th>\n      <th>Nuclei_Texture_SumVariance_RNA_20_0</th>\n      <th>Nuclei_Texture_SumVariance_RNA_5_0</th>\n      <th>Nuclei_Texture_Variance_AGP_20_0</th>\n      <th>Nuclei_Texture_Variance_DNA_20_0</th>\n      <th>Nuclei_Texture_Variance_ER_10_0</th>\n      <th>Nuclei_Texture_Variance_ER_20_0</th>\n      <th>Nuclei_Texture_Variance_Mito_20_0</th>\n      <th>Nuclei_Texture_Variance_RNA_10_0</th>\n      <th>Nuclei_Texture_Variance_RNA_20_0</th>\n      <th>Nuclei_Texture_Variance_RNA_5_0</th>\n    </tr>\n  </thead>\n  <tbody>\n    <tr>\n      <th>6</th>\n      <td>C-7161-01-LM6-027</td>\n      <td>BRD-K92301463-001-05-5</td>\n      <td>0.380520</td>\n      <td>1.000000</td>\n      <td>DMSO</td>\n      <td>SQ00015211</td>\n      <td>A07</td>\n      <td>BRD-K92301463</td>\n      <td>BRD-K92301463-001-05-5</td>\n      <td>A07</td>\n      <td>...</td>\n      <td>-1.914416</td>\n      <td>0.956014</td>\n      <td>-1.555247</td>\n      <td>-0.038971</td>\n      <td>0.563998</td>\n      <td>-0.459078</td>\n      <td>-0.613771</td>\n      <td>-1.199368</td>\n      <td>-1.558536</td>\n      <td>1.893174</td>\n    </tr>\n    <tr>\n      <th>7</th>\n      <td>C-7161-01-LM6-027</td>\n      <td>BRD-K92301463-001-05-5</td>\n      <td>0.126840</td>\n      <td>0.333330</td>\n      <td>DMSO</td>\n      <td>SQ00015211</td>\n      <td>A08</td>\n      <td>BRD-K92301463</td>\n      <td>BRD-K92301463-001-05-5</td>\n      <td>A08</td>\n      <td>...</td>\n      <td>0.278340</td>\n      <td>-1.466554</td>\n      <td>1.298892</td>\n      <td>-0.085553</td>\n      <td>2.078748</td>\n      <td>-0.785900</td>\n      <td>0.834367</td>\n      <td>1.361300</td>\n      <td>1.568432</td>\n      <td>1.296790</td>\n    </tr>\n    <tr>\n      <th>8</th>\n      <td>C-7161-01-LM6-027</td>\n      <td>BRD-K92301463-001-05-5</td>\n      <td>0.042280</td>\n      <td>0.111110</td>\n      <td>DMSO</td>\n      <td>SQ00015211</td>\n      <td>A09</td>\n      <td>BRD-K92301463</td>\n      <td>BRD-K92301463-001-05-5</td>\n      <td>A09</td>\n      <td>...</td>\n      <td>2.375923</td>\n      <td>-1.126536</td>\n      <td>-2.368054</td>\n      <td>0.677266</td>\n      <td>-2.161539</td>\n      <td>-1.030605</td>\n      <td>0.131178</td>\n      <td>-1.475261</td>\n      <td>2.989612</td>\n      <td>0.977136</td>\n    </tr>\n    <tr>\n      <th>9</th>\n      <td>C-7161-01-LM6-027</td>\n      <td>BRD-K92301463-001-05-5</td>\n      <td>0.014093</td>\n      <td>0.037037</td>\n      <td>DMSO</td>\n      <td>SQ00015211</td>\n      <td>A10</td>\n      <td>BRD-K92301463</td>\n      <td>BRD-K92301463-001-05-5</td>\n      <td>A10</td>\n      <td>...</td>\n      <td>-0.639863</td>\n      <td>-0.458803</td>\n      <td>0.052816</td>\n      <td>-0.986230</td>\n      <td>0.459197</td>\n      <td>-0.868973</td>\n      <td>-0.826204</td>\n      <td>-0.615738</td>\n      <td>0.809007</td>\n      <td>1.710367</td>\n    </tr>\n    <tr>\n      <th>10</th>\n      <td>C-7161-01-LM6-027</td>\n      <td>BRD-K92301463-001-05-5</td>\n      <td>0.004698</td>\n      <td>0.012346</td>\n      <td>DMSO</td>\n      <td>SQ00015211</td>\n      <td>A11</td>\n      <td>BRD-K92301463</td>\n      <td>BRD-K92301463-001-05-5</td>\n      <td>A11</td>\n      <td>...</td>\n      <td>-0.046652</td>\n      <td>-0.693108</td>\n      <td>0.279095</td>\n      <td>-1.250561</td>\n      <td>0.244342</td>\n      <td>0.833477</td>\n      <td>-0.205147</td>\n      <td>1.103067</td>\n      <td>-4.454818</td>\n      <td>0.335270</td>\n    </tr>\n  </tbody>\n</table>\n<p>5 rows × 1055 columns</p>\n</div>"
     },
     "execution_count": 26,
     "metadata": {},
     "output_type": "execute_result"
    }
   ],
   "source": [
    "df_base_dmso.head()"
   ],
   "metadata": {
    "collapsed": false,
    "pycharm": {
     "name": "#%%\n"
    }
   }
  },
  {
   "cell_type": "code",
   "execution_count": 11,
   "outputs": [],
   "source": [
    "features = [f for f in df_eff.columns if not f.startswith(\"Meta\")]\n",
    "from pycytominer import aggregate, annotate, normalize, feature_select, cyto_utils\n",
    "rob_DMSO = normalize(\n",
    "    profiles=df_eff,\n",
    "    features=features,\n",
    "    samples=\"Metadata_broad_sample == 'DMSO'\",\n",
    "    method='robustize',\n",
    "    output_file='none'\n",
    ").query(\"Metadata_broad_sample == 'DMSO'\")"
   ],
   "metadata": {
    "collapsed": false,
    "pycharm": {
     "name": "#%%\n"
    }
   }
  },
  {
   "cell_type": "code",
   "execution_count": 12,
   "outputs": [
    {
     "data": {
      "text/plain": "     Metadata_Aggregate_On Metadata_Well_Position Metadata_Plate  \\\n0                     well         SQ00014812/A01     SQ00014812   \n1                     well         SQ00014812/A02     SQ00014812   \n2                     well         SQ00014812/A03     SQ00014812   \n3                     well         SQ00014812/A04     SQ00014812   \n4                     well         SQ00014812/A05     SQ00014812   \n...                    ...                    ...            ...   \n3234                  well         SQ00015233/J14     SQ00015233   \n3235                  well         SQ00015233/J15     SQ00015233   \n3236                  well         SQ00015233/J16     SQ00015233   \n3237                  well         SQ00015233/J17     SQ00015233   \n3238                  well         SQ00015233/J18     SQ00015233   \n\n     Metadata_Well Metadata_broad_sample Metadata_moa  \\\n0              A01                  DMSO      unknown   \n1              A02                  DMSO      unknown   \n2              A03                  DMSO      unknown   \n3              A04                  DMSO      unknown   \n4              A05                  DMSO      unknown   \n...            ...                   ...          ...   \n3234           J14                  DMSO      unknown   \n3235           J15                  DMSO      unknown   \n3236           J16                  DMSO      unknown   \n3237           J17                  DMSO      unknown   \n3238           J18                  DMSO      unknown   \n\n      Metadata_mmoles_per_liter  Metadata_dose_recode  Metadata_Concentration  \\\n0                           0.0                     0                     NaN   \n1                           0.0                     0                     NaN   \n2                           0.0                     0                     NaN   \n3                           0.0                     0                     NaN   \n4                           0.0                     0                     NaN   \n...                         ...                   ...                     ...   \n3234                        0.0                     0                     NaN   \n3235                        0.0                     0                     NaN   \n3236                        0.0                     0                     NaN   \n3237                        0.0                     0                     NaN   \n3238                        0.0                     0                     NaN   \n\n      Metadata_Treatment_ID  ... efficientnet_6390 efficientnet_6391  \\\n0                         0  ...         -0.877628          0.961319   \n1                         0  ...         -0.695168          0.774378   \n2                         0  ...         -0.697905          0.574986   \n3                         0  ...         -0.871711          0.544572   \n4                         0  ...         -1.096220          0.806013   \n...                     ...  ...               ...               ...   \n3234                      0  ...         -0.247420          0.270666   \n3235                      0  ...         -0.290821          0.047898   \n3236                      0  ...         -0.665908          0.878006   \n3237                      0  ...         -0.795413          1.317973   \n3238                      0  ...         -0.394278          0.175480   \n\n      efficientnet_6392 efficientnet_6393 efficientnet_6394 efficientnet_6395  \\\n0              1.031408          0.181504          0.085185         -0.836756   \n1             -0.250129         -0.058580          0.237552         -0.922884   \n2              0.224785         -0.230136          0.271980         -0.531208   \n3             -0.072644         -0.142519          0.295878         -1.065528   \n4              0.690064         -0.001062          0.068451         -0.994238   \n...                 ...               ...               ...               ...   \n3234          -0.579819         -0.122932         -0.105427         -0.508268   \n3235          -0.307078         -0.231020          0.020180         -0.275306   \n3236          -0.116848         -0.070090         -0.351022         -0.881100   \n3237           0.155972          0.091566         -0.261623         -0.933069   \n3238          -0.436553         -0.190557         -0.188648         -0.342734   \n\n     efficientnet_6396  efficientnet_6397  efficientnet_6398  \\\n0             0.335190           0.623790          -0.701943   \n1             0.135440           0.888928          -0.283894   \n2            -0.129495           0.277405          -0.535411   \n3             0.345489           1.282360          -0.669664   \n4             0.654678           0.901693          -0.773342   \n...                ...                ...                ...   \n3234          0.176703          -0.448085          -0.397045   \n3235         -0.398989          -0.325250          -0.454847   \n3236          0.809725          -0.377001          -0.482835   \n3237          0.936062          -0.332777          -0.537313   \n3238          0.415859          -0.361486          -0.232750   \n\n      efficientnet_6399  \n0             -0.106164  \n1             -0.497282  \n2             -0.157726  \n3             -0.545866  \n4             -0.316473  \n...                 ...  \n3234          -0.103281  \n3235          -0.171000  \n3236          -0.129577  \n3237          -0.070764  \n3238          -0.254290  \n\n[3239 rows x 6418 columns]",
      "text/html": "<div>\n<style scoped>\n    .dataframe tbody tr th:only-of-type {\n        vertical-align: middle;\n    }\n\n    .dataframe tbody tr th {\n        vertical-align: top;\n    }\n\n    .dataframe thead th {\n        text-align: right;\n    }\n</style>\n<table border=\"1\" class=\"dataframe\">\n  <thead>\n    <tr style=\"text-align: right;\">\n      <th></th>\n      <th>Metadata_Aggregate_On</th>\n      <th>Metadata_Well_Position</th>\n      <th>Metadata_Plate</th>\n      <th>Metadata_Well</th>\n      <th>Metadata_broad_sample</th>\n      <th>Metadata_moa</th>\n      <th>Metadata_mmoles_per_liter</th>\n      <th>Metadata_dose_recode</th>\n      <th>Metadata_Concentration</th>\n      <th>Metadata_Treatment_ID</th>\n      <th>...</th>\n      <th>efficientnet_6390</th>\n      <th>efficientnet_6391</th>\n      <th>efficientnet_6392</th>\n      <th>efficientnet_6393</th>\n      <th>efficientnet_6394</th>\n      <th>efficientnet_6395</th>\n      <th>efficientnet_6396</th>\n      <th>efficientnet_6397</th>\n      <th>efficientnet_6398</th>\n      <th>efficientnet_6399</th>\n    </tr>\n  </thead>\n  <tbody>\n    <tr>\n      <th>0</th>\n      <td>well</td>\n      <td>SQ00014812/A01</td>\n      <td>SQ00014812</td>\n      <td>A01</td>\n      <td>DMSO</td>\n      <td>unknown</td>\n      <td>0.0</td>\n      <td>0</td>\n      <td>NaN</td>\n      <td>0</td>\n      <td>...</td>\n      <td>-0.877628</td>\n      <td>0.961319</td>\n      <td>1.031408</td>\n      <td>0.181504</td>\n      <td>0.085185</td>\n      <td>-0.836756</td>\n      <td>0.335190</td>\n      <td>0.623790</td>\n      <td>-0.701943</td>\n      <td>-0.106164</td>\n    </tr>\n    <tr>\n      <th>1</th>\n      <td>well</td>\n      <td>SQ00014812/A02</td>\n      <td>SQ00014812</td>\n      <td>A02</td>\n      <td>DMSO</td>\n      <td>unknown</td>\n      <td>0.0</td>\n      <td>0</td>\n      <td>NaN</td>\n      <td>0</td>\n      <td>...</td>\n      <td>-0.695168</td>\n      <td>0.774378</td>\n      <td>-0.250129</td>\n      <td>-0.058580</td>\n      <td>0.237552</td>\n      <td>-0.922884</td>\n      <td>0.135440</td>\n      <td>0.888928</td>\n      <td>-0.283894</td>\n      <td>-0.497282</td>\n    </tr>\n    <tr>\n      <th>2</th>\n      <td>well</td>\n      <td>SQ00014812/A03</td>\n      <td>SQ00014812</td>\n      <td>A03</td>\n      <td>DMSO</td>\n      <td>unknown</td>\n      <td>0.0</td>\n      <td>0</td>\n      <td>NaN</td>\n      <td>0</td>\n      <td>...</td>\n      <td>-0.697905</td>\n      <td>0.574986</td>\n      <td>0.224785</td>\n      <td>-0.230136</td>\n      <td>0.271980</td>\n      <td>-0.531208</td>\n      <td>-0.129495</td>\n      <td>0.277405</td>\n      <td>-0.535411</td>\n      <td>-0.157726</td>\n    </tr>\n    <tr>\n      <th>3</th>\n      <td>well</td>\n      <td>SQ00014812/A04</td>\n      <td>SQ00014812</td>\n      <td>A04</td>\n      <td>DMSO</td>\n      <td>unknown</td>\n      <td>0.0</td>\n      <td>0</td>\n      <td>NaN</td>\n      <td>0</td>\n      <td>...</td>\n      <td>-0.871711</td>\n      <td>0.544572</td>\n      <td>-0.072644</td>\n      <td>-0.142519</td>\n      <td>0.295878</td>\n      <td>-1.065528</td>\n      <td>0.345489</td>\n      <td>1.282360</td>\n      <td>-0.669664</td>\n      <td>-0.545866</td>\n    </tr>\n    <tr>\n      <th>4</th>\n      <td>well</td>\n      <td>SQ00014812/A05</td>\n      <td>SQ00014812</td>\n      <td>A05</td>\n      <td>DMSO</td>\n      <td>unknown</td>\n      <td>0.0</td>\n      <td>0</td>\n      <td>NaN</td>\n      <td>0</td>\n      <td>...</td>\n      <td>-1.096220</td>\n      <td>0.806013</td>\n      <td>0.690064</td>\n      <td>-0.001062</td>\n      <td>0.068451</td>\n      <td>-0.994238</td>\n      <td>0.654678</td>\n      <td>0.901693</td>\n      <td>-0.773342</td>\n      <td>-0.316473</td>\n    </tr>\n    <tr>\n      <th>...</th>\n      <td>...</td>\n      <td>...</td>\n      <td>...</td>\n      <td>...</td>\n      <td>...</td>\n      <td>...</td>\n      <td>...</td>\n      <td>...</td>\n      <td>...</td>\n      <td>...</td>\n      <td>...</td>\n      <td>...</td>\n      <td>...</td>\n      <td>...</td>\n      <td>...</td>\n      <td>...</td>\n      <td>...</td>\n      <td>...</td>\n      <td>...</td>\n      <td>...</td>\n      <td>...</td>\n    </tr>\n    <tr>\n      <th>3234</th>\n      <td>well</td>\n      <td>SQ00015233/J14</td>\n      <td>SQ00015233</td>\n      <td>J14</td>\n      <td>DMSO</td>\n      <td>unknown</td>\n      <td>0.0</td>\n      <td>0</td>\n      <td>NaN</td>\n      <td>0</td>\n      <td>...</td>\n      <td>-0.247420</td>\n      <td>0.270666</td>\n      <td>-0.579819</td>\n      <td>-0.122932</td>\n      <td>-0.105427</td>\n      <td>-0.508268</td>\n      <td>0.176703</td>\n      <td>-0.448085</td>\n      <td>-0.397045</td>\n      <td>-0.103281</td>\n    </tr>\n    <tr>\n      <th>3235</th>\n      <td>well</td>\n      <td>SQ00015233/J15</td>\n      <td>SQ00015233</td>\n      <td>J15</td>\n      <td>DMSO</td>\n      <td>unknown</td>\n      <td>0.0</td>\n      <td>0</td>\n      <td>NaN</td>\n      <td>0</td>\n      <td>...</td>\n      <td>-0.290821</td>\n      <td>0.047898</td>\n      <td>-0.307078</td>\n      <td>-0.231020</td>\n      <td>0.020180</td>\n      <td>-0.275306</td>\n      <td>-0.398989</td>\n      <td>-0.325250</td>\n      <td>-0.454847</td>\n      <td>-0.171000</td>\n    </tr>\n    <tr>\n      <th>3236</th>\n      <td>well</td>\n      <td>SQ00015233/J16</td>\n      <td>SQ00015233</td>\n      <td>J16</td>\n      <td>DMSO</td>\n      <td>unknown</td>\n      <td>0.0</td>\n      <td>0</td>\n      <td>NaN</td>\n      <td>0</td>\n      <td>...</td>\n      <td>-0.665908</td>\n      <td>0.878006</td>\n      <td>-0.116848</td>\n      <td>-0.070090</td>\n      <td>-0.351022</td>\n      <td>-0.881100</td>\n      <td>0.809725</td>\n      <td>-0.377001</td>\n      <td>-0.482835</td>\n      <td>-0.129577</td>\n    </tr>\n    <tr>\n      <th>3237</th>\n      <td>well</td>\n      <td>SQ00015233/J17</td>\n      <td>SQ00015233</td>\n      <td>J17</td>\n      <td>DMSO</td>\n      <td>unknown</td>\n      <td>0.0</td>\n      <td>0</td>\n      <td>NaN</td>\n      <td>0</td>\n      <td>...</td>\n      <td>-0.795413</td>\n      <td>1.317973</td>\n      <td>0.155972</td>\n      <td>0.091566</td>\n      <td>-0.261623</td>\n      <td>-0.933069</td>\n      <td>0.936062</td>\n      <td>-0.332777</td>\n      <td>-0.537313</td>\n      <td>-0.070764</td>\n    </tr>\n    <tr>\n      <th>3238</th>\n      <td>well</td>\n      <td>SQ00015233/J18</td>\n      <td>SQ00015233</td>\n      <td>J18</td>\n      <td>DMSO</td>\n      <td>unknown</td>\n      <td>0.0</td>\n      <td>0</td>\n      <td>NaN</td>\n      <td>0</td>\n      <td>...</td>\n      <td>-0.394278</td>\n      <td>0.175480</td>\n      <td>-0.436553</td>\n      <td>-0.190557</td>\n      <td>-0.188648</td>\n      <td>-0.342734</td>\n      <td>0.415859</td>\n      <td>-0.361486</td>\n      <td>-0.232750</td>\n      <td>-0.254290</td>\n    </tr>\n  </tbody>\n</table>\n<p>3239 rows × 6418 columns</p>\n</div>"
     },
     "execution_count": 12,
     "metadata": {},
     "output_type": "execute_result"
    }
   ],
   "source": [],
   "metadata": {
    "collapsed": false,
    "pycharm": {
     "name": "#%%\n"
    }
   }
  },
  {
   "cell_type": "code",
   "execution_count": 27,
   "outputs": [],
   "source": [
    "df_base = df_base [df_base.Metadata_plate_map_name == \"C-7161-01-LM6-027\"]\n",
    "replicating_corr = list(utils.corr_between_replicates(df_base, \"Metadata_Well\")) # signal distribution\n",
    "null_replicating = list(utils.corr_between_non_replicates(df_base, n_samples=100, n_replicates=10, metadata_compound_name = \"Metadata_Well\")) # null distribution"
   ],
   "metadata": {
    "collapsed": false,
    "pycharm": {
     "name": "#%%\n"
    }
   }
  },
  {
   "cell_type": "code",
   "execution_count": 34,
   "outputs": [],
   "source": [
    "prop_95_replicating, value_95_replicating = utils.percent_score(null_replicating,replicating_corr, how='right')"
   ],
   "metadata": {
    "collapsed": false,
    "pycharm": {
     "name": "#%%\n"
    }
   }
  },
  {
   "cell_type": "code",
   "execution_count": 35,
   "outputs": [
    {
     "data": {
      "text/plain": "0.020211503054496274"
     },
     "execution_count": 35,
     "metadata": {},
     "output_type": "execute_result"
    }
   ],
   "source": [
    "value_95_replicating"
   ],
   "metadata": {
    "collapsed": false,
    "pycharm": {
     "name": "#%%\n"
    }
   }
  },
  {
   "cell_type": "code",
   "execution_count": 36,
   "outputs": [
    {
     "data": {
      "text/plain": "66.66666666666666"
     },
     "execution_count": 36,
     "metadata": {},
     "output_type": "execute_result"
    }
   ],
   "source": [
    "prop_95_replicating\n"
   ],
   "metadata": {
    "collapsed": false,
    "pycharm": {
     "name": "#%%\n"
    }
   }
  },
  {
   "cell_type": "code",
   "execution_count": 33,
   "outputs": [],
   "source": [
    "# replicating_corr"
   ],
   "metadata": {
    "collapsed": false,
    "pycharm": {
     "name": "#%%\n"
    }
   }
  },
  {
   "cell_type": "code",
   "execution_count": 32,
   "outputs": [
    {
     "data": {
      "text/plain": "(array([252.,  48.,  11.,  13.,  10.,   8.,  10.,  10.,  16.,   6.]),\n array([-0.02146878,  0.04838175,  0.11823229,  0.18808282,  0.25793336,\n         0.32778389,  0.39763442,  0.46748496,  0.53733549,  0.60718603,\n         0.67703656]),\n <BarContainer object of 10 artists>)"
     },
     "execution_count": 32,
     "metadata": {},
     "output_type": "execute_result"
    },
    {
     "data": {
      "text/plain": "<Figure size 432x288 with 1 Axes>",
      "image/png": "[encoded data removed]"
     },
     "metadata": {},
     "output_type": "display_data"
    }
   ],
   "source": [
    "plt.hist(replicating_corr)\n"
   ],
   "metadata": {
    "collapsed": false,
    "pycharm": {
     "name": "#%%\n"
    }
   }
  },
  {
   "cell_type": "code",
   "execution_count": null,
   "outputs": [],
   "source": [],
   "metadata": {
    "collapsed": false,
    "pycharm": {
     "name": "#%%\n"
    }
   }
  }
 ],
 "metadata": {
  "kernelspec": {
   "display_name": "Python 3",
   "language": "python",
   "name": "python3"
  },
  "language_info": {
   "codemirror_mode": {
    "name": "ipython",
    "version": 2
   },
   "file_extension": ".py",
   "mimetype": "text/x-python",
   "name": "python",
   "nbconvert_exporter": "python",
   "pygments_lexer": "ipython2",
   "version": "2.7.6"
  }
 },
 "nbformat": 4,
 "nbformat_minor": 0
}