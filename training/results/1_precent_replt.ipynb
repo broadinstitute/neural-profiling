{
 "cells": [
  {
   "cell_type": "code",
   "execution_count": 1,
   "outputs": [],
   "source": [
    "import pandas as pd\n",
    "import numpy as np\n",
    "import matplotlib.pyplot as plt\n",
    "from pycytominer import aggregate, annotate, normalize, feature_select, cyto_utils\n",
    "from cytominer_eval import evaluate\n",
    "from cytominer_eval.transform import metric_melt\n",
    "from pycytominer.cyto_utils import infer_cp_features\n",
    "import seaborn as sns\n",
    "from sklearn.decomposition import PCA\n",
    "import sys\n",
    "sys.path.insert(0, \"/Users/mbornhol/git/neural-profiling\")\n",
    "from utils import eval"
   ],
   "metadata": {
    "collapsed": false,
    "pycharm": {
     "name": "#%%\n"
    }
   }
  },
  {
   "cell_type": "code",
   "execution_count": 2,
   "outputs": [
    {
     "name": "stderr",
     "output_type": "stream",
     "text": [
      "/Users/mbornhol/miniconda3/envs/cyto_eval/lib/python3.7/site-packages/IPython/core/interactiveshell.py:3166: DtypeWarning: Columns (8,9,16,17,18,20,21,22,23,24) have mixed types.Specify dtype option on import or set low_memory=False.\n",
      "  interactivity=interactivity, compiler=compiler, result=result)\n"
     ]
    }
   ],
   "source": [
    "index = pd.read_csv(\"../00_index.csv\")\n",
    "batch = pd.read_csv('/Users/mbornhol/git/neural-profiling/baseline/01_data/level_3_data/sub_level3.csv')\n",
    "batch = batch[['Metadata_Batch_Number', 'Metadata_Plate', 'Metadata_Well']]\n",
    "p = np.arange(0.995, 0.96, -0.005)"
   ],
   "metadata": {
    "collapsed": false,
    "pycharm": {
     "name": "#%%\n"
    }
   }
  },
  {
   "cell_type": "code",
   "execution_count": 7,
   "outputs": [
    {
     "name": "stderr",
     "output_type": "stream",
     "text": [
      "/Users/mbornhol/miniconda3/envs/cyto_eval/lib/python3.7/site-packages/IPython/core/interactiveshell.py:3166: DtypeWarning: Columns (23,24) have mixed types.Specify dtype option on import or set low_memory=False.\n",
      "  interactivity=interactivity, compiler=compiler, result=result)\n"
     ]
    }
   ],
   "source": [
    "CP = pd.read_csv('/Users/mbornhol/git/neural-profiling/baseline/01_data/level_3_data/full_level3.csv')\n",
    "merge = pd.merge(CP, index, how=\"outer\", on=[\"Metadata_Plate\", \"Metadata_Well\"], indicator=True)\n",
    "df_CP = CP[merge._merge == \"both\"]\n",
    "DMSO_CP = df_CP[df_CP[\"Metadata_broad_sample\"] == \"DMSO\"]\n",
    "# DMSO_CP = pd.merge(DMSO_CP, batch, how=\"left\", on=['Metadata_Plate', 'Metadata_Well'])\n",
    "# DMSO_CP.columns"
   ],
   "metadata": {
    "collapsed": false,
    "pycharm": {
     "name": "#%%\n"
    }
   }
  },
  {
   "cell_type": "code",
   "execution_count": 8,
   "outputs": [
    {
     "data": {
      "text/plain": "(325, 1811)"
     },
     "execution_count": 8,
     "metadata": {},
     "output_type": "execute_result"
    }
   ],
   "source": [
    "DMSO_CP = DMSO_CP.sample(frac=0.1)\n",
    "DMSO_CP.shape"
   ],
   "metadata": {
    "collapsed": false,
    "pycharm": {
     "name": "#%%\n"
    }
   }
  },
  {
   "cell_type": "code",
   "execution_count": 13,
   "outputs": [
    {
     "data": {
      "text/plain": "   enrichment_percentile  threshold  ods_ratio   p-value\n0                  0.995   0.999913   1.270556  0.131905\n1                  0.990   0.999882   1.175558  0.146101\n2                  0.985   0.999860   1.272283  0.021940\n3                  0.980   0.999839   1.200847  0.041654\n4                  0.975   0.999823   1.119087  0.124374\n5                  0.970   0.999804   1.113392  0.114130\n6                  0.965   0.999787   1.136991  0.057987\n7                  0.960   0.999770   1.193291  0.009309",
      "text/html": "<div>\n<style scoped>\n    .dataframe tbody tr th:only-of-type {\n        vertical-align: middle;\n    }\n\n    .dataframe tbody tr th {\n        vertical-align: top;\n    }\n\n    .dataframe thead th {\n        text-align: right;\n    }\n</style>\n<table border=\"1\" class=\"dataframe\">\n  <thead>\n    <tr style=\"text-align: right;\">\n      <th></th>\n      <th>enrichment_percentile</th>\n      <th>threshold</th>\n      <th>ods_ratio</th>\n      <th>p-value</th>\n    </tr>\n  </thead>\n  <tbody>\n    <tr>\n      <th>0</th>\n      <td>0.995</td>\n      <td>0.999913</td>\n      <td>1.270556</td>\n      <td>0.131905</td>\n    </tr>\n    <tr>\n      <th>1</th>\n      <td>0.990</td>\n      <td>0.999882</td>\n      <td>1.175558</td>\n      <td>0.146101</td>\n    </tr>\n    <tr>\n      <th>2</th>\n      <td>0.985</td>\n      <td>0.999860</td>\n      <td>1.272283</td>\n      <td>0.021940</td>\n    </tr>\n    <tr>\n      <th>3</th>\n      <td>0.980</td>\n      <td>0.999839</td>\n      <td>1.200847</td>\n      <td>0.041654</td>\n    </tr>\n    <tr>\n      <th>4</th>\n      <td>0.975</td>\n      <td>0.999823</td>\n      <td>1.119087</td>\n      <td>0.124374</td>\n    </tr>\n    <tr>\n      <th>5</th>\n      <td>0.970</td>\n      <td>0.999804</td>\n      <td>1.113392</td>\n      <td>0.114130</td>\n    </tr>\n    <tr>\n      <th>6</th>\n      <td>0.965</td>\n      <td>0.999787</td>\n      <td>1.136991</td>\n      <td>0.057987</td>\n    </tr>\n    <tr>\n      <th>7</th>\n      <td>0.960</td>\n      <td>0.999770</td>\n      <td>1.193291</td>\n      <td>0.009309</td>\n    </tr>\n  </tbody>\n</table>\n</div>"
     },
     "execution_count": 13,
     "metadata": {},
     "output_type": "execute_result"
    }
   ],
   "source": [
    "res = evaluate(\n",
    "    profiles=DMSO_CP,\n",
    "    features=infer_cp_features(DMSO_CP),\n",
    "    meta_features=infer_cp_features(DMSO_CP, metadata=True),\n",
    "    replicate_groups=['Metadata_Well'],\n",
    "    operation=\"enrichment\",\n",
    "    similarity_metric=\"pearson\",\n",
    "    enrichment_percentile=p,\n",
    ")\n",
    "res"
   ],
   "metadata": {
    "collapsed": false,
    "pycharm": {
     "name": "#%%\n"
    }
   }
  },
  {
   "cell_type": "code",
   "execution_count": 14,
   "outputs": [
    {
     "data": {
      "text/plain": "   enrichment_percentile  threshold  ods_ratio       p-value\n0                  0.995   0.999913   6.221374  6.491462e-11\n1                  0.990   0.999882   5.123543  2.470925e-14\n2                  0.985   0.999860   5.008452  2.027357e-19\n3                  0.980   0.999839   5.167858  4.800106e-26\n4                  0.975   0.999823   4.757986  3.770664e-27\n5                  0.970   0.999804   4.380746  3.463840e-27\n6                  0.965   0.999787   4.216433  1.072733e-28\n7                  0.960   0.999770   3.834803  1.028550e-26",
      "text/html": "<div>\n<style scoped>\n    .dataframe tbody tr th:only-of-type {\n        vertical-align: middle;\n    }\n\n    .dataframe tbody tr th {\n        vertical-align: top;\n    }\n\n    .dataframe thead th {\n        text-align: right;\n    }\n</style>\n<table border=\"1\" class=\"dataframe\">\n  <thead>\n    <tr style=\"text-align: right;\">\n      <th></th>\n      <th>enrichment_percentile</th>\n      <th>threshold</th>\n      <th>ods_ratio</th>\n      <th>p-value</th>\n    </tr>\n  </thead>\n  <tbody>\n    <tr>\n      <th>0</th>\n      <td>0.995</td>\n      <td>0.999913</td>\n      <td>6.221374</td>\n      <td>6.491462e-11</td>\n    </tr>\n    <tr>\n      <th>1</th>\n      <td>0.990</td>\n      <td>0.999882</td>\n      <td>5.123543</td>\n      <td>2.470925e-14</td>\n    </tr>\n    <tr>\n      <th>2</th>\n      <td>0.985</td>\n      <td>0.999860</td>\n      <td>5.008452</td>\n      <td>2.027357e-19</td>\n    </tr>\n    <tr>\n      <th>3</th>\n      <td>0.980</td>\n      <td>0.999839</td>\n      <td>5.167858</td>\n      <td>4.800106e-26</td>\n    </tr>\n    <tr>\n      <th>4</th>\n      <td>0.975</td>\n      <td>0.999823</td>\n      <td>4.757986</td>\n      <td>3.770664e-27</td>\n    </tr>\n    <tr>\n      <th>5</th>\n      <td>0.970</td>\n      <td>0.999804</td>\n      <td>4.380746</td>\n      <td>3.463840e-27</td>\n    </tr>\n    <tr>\n      <th>6</th>\n      <td>0.965</td>\n      <td>0.999787</td>\n      <td>4.216433</td>\n      <td>1.072733e-28</td>\n    </tr>\n    <tr>\n      <th>7</th>\n      <td>0.960</td>\n      <td>0.999770</td>\n      <td>3.834803</td>\n      <td>1.028550e-26</td>\n    </tr>\n  </tbody>\n</table>\n</div>"
     },
     "execution_count": 14,
     "metadata": {},
     "output_type": "execute_result"
    }
   ],
   "source": [
    "res = evaluate(\n",
    "    profiles=DMSO_CP,\n",
    "    features=infer_cp_features(DMSO_CP),\n",
    "    meta_features=infer_cp_features(DMSO_CP, metadata=True),\n",
    "    replicate_groups=['Metadata_Plate'],\n",
    "    operation=\"enrichment\",\n",
    "    similarity_metric=\"pearson\",\n",
    "    enrichment_percentile=p,\n",
    ")\n",
    "res"
   ],
   "metadata": {
    "collapsed": false,
    "pycharm": {
     "name": "#%%\n"
    }
   }
  },
  {
   "cell_type": "code",
   "execution_count": 15,
   "outputs": [
    {
     "data": {
      "text/plain": "   enrichment_percentile  threshold  ods_ratio        p-value\n0                  0.995   0.999913   3.866602   4.970575e-50\n1                  0.990   0.999882   2.970847   1.901248e-61\n2                  0.985   0.999860   2.646505   3.294856e-71\n3                  0.980   0.999839   2.473954   3.789559e-80\n4                  0.975   0.999823   2.443675   5.321199e-96\n5                  0.970   0.999804   2.293075   3.701100e-97\n6                  0.965   0.999787   2.228305  5.058740e-104\n7                  0.960   0.999770   2.145625  4.503232e-106",
      "text/html": "<div>\n<style scoped>\n    .dataframe tbody tr th:only-of-type {\n        vertical-align: middle;\n    }\n\n    .dataframe tbody tr th {\n        vertical-align: top;\n    }\n\n    .dataframe thead th {\n        text-align: right;\n    }\n</style>\n<table border=\"1\" class=\"dataframe\">\n  <thead>\n    <tr style=\"text-align: right;\">\n      <th></th>\n      <th>enrichment_percentile</th>\n      <th>threshold</th>\n      <th>ods_ratio</th>\n      <th>p-value</th>\n    </tr>\n  </thead>\n  <tbody>\n    <tr>\n      <th>0</th>\n      <td>0.995</td>\n      <td>0.999913</td>\n      <td>3.866602</td>\n      <td>4.970575e-50</td>\n    </tr>\n    <tr>\n      <th>1</th>\n      <td>0.990</td>\n      <td>0.999882</td>\n      <td>2.970847</td>\n      <td>1.901248e-61</td>\n    </tr>\n    <tr>\n      <th>2</th>\n      <td>0.985</td>\n      <td>0.999860</td>\n      <td>2.646505</td>\n      <td>3.294856e-71</td>\n    </tr>\n    <tr>\n      <th>3</th>\n      <td>0.980</td>\n      <td>0.999839</td>\n      <td>2.473954</td>\n      <td>3.789559e-80</td>\n    </tr>\n    <tr>\n      <th>4</th>\n      <td>0.975</td>\n      <td>0.999823</td>\n      <td>2.443675</td>\n      <td>5.321199e-96</td>\n    </tr>\n    <tr>\n      <th>5</th>\n      <td>0.970</td>\n      <td>0.999804</td>\n      <td>2.293075</td>\n      <td>3.701100e-97</td>\n    </tr>\n    <tr>\n      <th>6</th>\n      <td>0.965</td>\n      <td>0.999787</td>\n      <td>2.228305</td>\n      <td>5.058740e-104</td>\n    </tr>\n    <tr>\n      <th>7</th>\n      <td>0.960</td>\n      <td>0.999770</td>\n      <td>2.145625</td>\n      <td>4.503232e-106</td>\n    </tr>\n  </tbody>\n</table>\n</div>"
     },
     "execution_count": 15,
     "metadata": {},
     "output_type": "execute_result"
    }
   ],
   "source": [
    "res = evaluate(\n",
    "    profiles=DMSO_CP,\n",
    "    features=infer_cp_features(DMSO_CP),\n",
    "    meta_features=infer_cp_features(DMSO_CP, metadata=True),\n",
    "    replicate_groups=['Metadata_Batch_Number'],\n",
    "    operation=\"enrichment\",\n",
    "    similarity_metric=\"pearson\",\n",
    "    enrichment_percentile=p,\n",
    ")\n",
    "res"
   ],
   "metadata": {
    "collapsed": false,
    "pycharm": {
     "name": "#%%\n"
    }
   }
  },
  {
   "cell_type": "code",
   "execution_count": 9,
   "outputs": [
    {
     "data": {
      "text/plain": "      Metadata_plate_map_name Metadata_broad_sample  Metadata_mg_per_ml  \\\n42649       C-7161-01-LM6-002                  DMSO                 0.0   \n49664       C-7161-01-LM6-017                  DMSO                 0.0   \n8959        C-7161-01-LM6-004                  DMSO                 0.0   \n50328       C-7161-01-LM6-014                  DMSO                 0.0   \n49379       C-7161-01-LM6-026                  DMSO                 0.0   \n...                       ...                   ...                 ...   \n6531        C-7161-01-LM6-023                  DMSO                 0.0   \n29185       C-7161-01-LM6-012                  DMSO                 0.0   \n34023       C-7161-01-LM6-022                  DMSO                 0.0   \n9829        C-7161-01-LM6-008                  DMSO                 0.0   \n24038       C-7161-01-LM6-019                  DMSO                 0.0   \n\n       Metadata_mmoles_per_liter Metadata_solvent Metadata_Plate  \\\n42649                        0.0             DMSO     SQ00015123   \n49664                        0.0             DMSO     SQ00015201   \n8959                         0.0             DMSO     SQ00015159   \n50328                        0.0             DMSO     SQ00015230   \n49379                        0.0             DMSO     SQ00015050   \n...                          ...              ...            ...   \n6531                         0.0             DMSO     SQ00014819   \n29185                        0.0             DMSO     SQ00015223   \n34023                        0.0             DMSO     SQ00014813   \n9829                         0.0             DMSO     SQ00015105   \n24038                        0.0             DMSO     SQ00015203   \n\n      Metadata_Well Metadata_pert_id Metadata_pert_mfc_id Metadata_pert_well  \\\n42649           B02              NaN                  NaN                B02   \n49664           F10              NaN                  NaN                F10   \n8959            F08              NaN                  NaN                F08   \n50328           B02              NaN                  NaN                B02   \n49379           J13              NaN                  NaN                J13   \n...             ...              ...                  ...                ...   \n6531            A04              NaN                  NaN                A04   \n29185           A02              NaN                  NaN                A02   \n34023           J16              NaN                  NaN                J16   \n9829            J14              NaN                  NaN                J14   \n24038           J15              NaN                  NaN                J15   \n\n       ...  Metadata_target Metadata_broad_date Metadata_clinical_phase  \\\n42649  ...              NaN                 NaN                     NaN   \n49664  ...              NaN                 NaN                     NaN   \n8959   ...              NaN                 NaN                     NaN   \n50328  ...              NaN                 NaN                     NaN   \n49379  ...              NaN                 NaN                     NaN   \n...    ...              ...                 ...                     ...   \n6531   ...              NaN                 NaN                     NaN   \n29185  ...              NaN                 NaN                     NaN   \n34023  ...              NaN                 NaN                     NaN   \n9829   ...              NaN                 NaN                     NaN   \n24038  ...              NaN                 NaN                     NaN   \n\n      Metadata_alternative_moa Metadata_alternative_target  \\\n42649                      NaN                         NaN   \n49664                      NaN                         NaN   \n8959                       NaN                         NaN   \n50328                      NaN                         NaN   \n49379                      NaN                         NaN   \n...                        ...                         ...   \n6531                       NaN                         NaN   \n29185                      NaN                         NaN   \n34023                      NaN                         NaN   \n9829                       NaN                         NaN   \n24038                      NaN                         NaN   \n\n      Metadata_Assay_Plate_Barcode Metadata_Plate_Map_Name  \\\n42649                   SQ00015123       C-7161-01-LM6-002   \n49664                   SQ00015201       C-7161-01-LM6-017   \n8959                    SQ00015159       C-7161-01-LM6-004   \n50328                   SQ00015230       C-7161-01-LM6-014   \n49379                   SQ00015050       C-7161-01-LM6-026   \n...                            ...                     ...   \n6531                    SQ00014819       C-7161-01-LM6-023   \n29185                   SQ00015223       C-7161-01-LM6-012   \n34023                   SQ00014813       C-7161-01-LM6-022   \n9829                    SQ00015105       C-7161-01-LM6-008   \n24038                   SQ00015203       C-7161-01-LM6-019   \n\n      Metadata_Batch_Number Metadata_Batch_Date Metadata_dose_recode  \n42649                     2          2016-04-05                    1  \n49664                     1          2016-03-22                    1  \n8959                      2          2016-04-05                    1  \n50328                     3          2016-04-26                    1  \n49379                     4          2016-05-17                    1  \n...                     ...                 ...                  ...  \n6531                      4          2016-05-17                    1  \n29185                     3          2016-04-26                    1  \n34023                     4          2016-05-17                    1  \n9829                      3          2016-04-26                    1  \n24038                     1          2016-03-22                    1  \n\n[325 rows x 29 columns]",
      "text/html": "<div>\n<style scoped>\n    .dataframe tbody tr th:only-of-type {\n        vertical-align: middle;\n    }\n\n    .dataframe tbody tr th {\n        vertical-align: top;\n    }\n\n    .dataframe thead th {\n        text-align: right;\n    }\n</style>\n<table border=\"1\" class=\"dataframe\">\n  <thead>\n    <tr style=\"text-align: right;\">\n      <th></th>\n      <th>Metadata_plate_map_name</th>\n      <th>Metadata_broad_sample</th>\n      <th>Metadata_mg_per_ml</th>\n      <th>Metadata_mmoles_per_liter</th>\n      <th>Metadata_solvent</th>\n      <th>Metadata_Plate</th>\n      <th>Metadata_Well</th>\n      <th>Metadata_pert_id</th>\n      <th>Metadata_pert_mfc_id</th>\n      <th>Metadata_pert_well</th>\n      <th>...</th>\n      <th>Metadata_target</th>\n      <th>Metadata_broad_date</th>\n      <th>Metadata_clinical_phase</th>\n      <th>Metadata_alternative_moa</th>\n      <th>Metadata_alternative_target</th>\n      <th>Metadata_Assay_Plate_Barcode</th>\n      <th>Metadata_Plate_Map_Name</th>\n      <th>Metadata_Batch_Number</th>\n      <th>Metadata_Batch_Date</th>\n      <th>Metadata_dose_recode</th>\n    </tr>\n  </thead>\n  <tbody>\n    <tr>\n      <th>42649</th>\n      <td>C-7161-01-LM6-002</td>\n      <td>DMSO</td>\n      <td>0.0</td>\n      <td>0.0</td>\n      <td>DMSO</td>\n      <td>SQ00015123</td>\n      <td>B02</td>\n      <td>NaN</td>\n      <td>NaN</td>\n      <td>B02</td>\n      <td>...</td>\n      <td>NaN</td>\n      <td>NaN</td>\n      <td>NaN</td>\n      <td>NaN</td>\n      <td>NaN</td>\n      <td>SQ00015123</td>\n      <td>C-7161-01-LM6-002</td>\n      <td>2</td>\n      <td>2016-04-05</td>\n      <td>1</td>\n    </tr>\n    <tr>\n      <th>49664</th>\n      <td>C-7161-01-LM6-017</td>\n      <td>DMSO</td>\n      <td>0.0</td>\n      <td>0.0</td>\n      <td>DMSO</td>\n      <td>SQ00015201</td>\n      <td>F10</td>\n      <td>NaN</td>\n      <td>NaN</td>\n      <td>F10</td>\n      <td>...</td>\n      <td>NaN</td>\n      <td>NaN</td>\n      <td>NaN</td>\n      <td>NaN</td>\n      <td>NaN</td>\n      <td>SQ00015201</td>\n      <td>C-7161-01-LM6-017</td>\n      <td>1</td>\n      <td>2016-03-22</td>\n      <td>1</td>\n    </tr>\n    <tr>\n      <th>8959</th>\n      <td>C-7161-01-LM6-004</td>\n      <td>DMSO</td>\n      <td>0.0</td>\n      <td>0.0</td>\n      <td>DMSO</td>\n      <td>SQ00015159</td>\n      <td>F08</td>\n      <td>NaN</td>\n      <td>NaN</td>\n      <td>F08</td>\n      <td>...</td>\n      <td>NaN</td>\n      <td>NaN</td>\n      <td>NaN</td>\n      <td>NaN</td>\n      <td>NaN</td>\n      <td>SQ00015159</td>\n      <td>C-7161-01-LM6-004</td>\n      <td>2</td>\n      <td>2016-04-05</td>\n      <td>1</td>\n    </tr>\n    <tr>\n      <th>50328</th>\n      <td>C-7161-01-LM6-014</td>\n      <td>DMSO</td>\n      <td>0.0</td>\n      <td>0.0</td>\n      <td>DMSO</td>\n      <td>SQ00015230</td>\n      <td>B02</td>\n      <td>NaN</td>\n      <td>NaN</td>\n      <td>B02</td>\n      <td>...</td>\n      <td>NaN</td>\n      <td>NaN</td>\n      <td>NaN</td>\n      <td>NaN</td>\n      <td>NaN</td>\n      <td>SQ00015230</td>\n      <td>C-7161-01-LM6-014</td>\n      <td>3</td>\n      <td>2016-04-26</td>\n      <td>1</td>\n    </tr>\n    <tr>\n      <th>49379</th>\n      <td>C-7161-01-LM6-026</td>\n      <td>DMSO</td>\n      <td>0.0</td>\n      <td>0.0</td>\n      <td>DMSO</td>\n      <td>SQ00015050</td>\n      <td>J13</td>\n      <td>NaN</td>\n      <td>NaN</td>\n      <td>J13</td>\n      <td>...</td>\n      <td>NaN</td>\n      <td>NaN</td>\n      <td>NaN</td>\n      <td>NaN</td>\n      <td>NaN</td>\n      <td>SQ00015050</td>\n      <td>C-7161-01-LM6-026</td>\n      <td>4</td>\n      <td>2016-05-17</td>\n      <td>1</td>\n    </tr>\n    <tr>\n      <th>...</th>\n      <td>...</td>\n      <td>...</td>\n      <td>...</td>\n      <td>...</td>\n      <td>...</td>\n      <td>...</td>\n      <td>...</td>\n      <td>...</td>\n      <td>...</td>\n      <td>...</td>\n      <td>...</td>\n      <td>...</td>\n      <td>...</td>\n      <td>...</td>\n      <td>...</td>\n      <td>...</td>\n      <td>...</td>\n      <td>...</td>\n      <td>...</td>\n      <td>...</td>\n      <td>...</td>\n    </tr>\n    <tr>\n      <th>6531</th>\n      <td>C-7161-01-LM6-023</td>\n      <td>DMSO</td>\n      <td>0.0</td>\n      <td>0.0</td>\n      <td>DMSO</td>\n      <td>SQ00014819</td>\n      <td>A04</td>\n      <td>NaN</td>\n      <td>NaN</td>\n      <td>A04</td>\n      <td>...</td>\n      <td>NaN</td>\n      <td>NaN</td>\n      <td>NaN</td>\n      <td>NaN</td>\n      <td>NaN</td>\n      <td>SQ00014819</td>\n      <td>C-7161-01-LM6-023</td>\n      <td>4</td>\n      <td>2016-05-17</td>\n      <td>1</td>\n    </tr>\n    <tr>\n      <th>29185</th>\n      <td>C-7161-01-LM6-012</td>\n      <td>DMSO</td>\n      <td>0.0</td>\n      <td>0.0</td>\n      <td>DMSO</td>\n      <td>SQ00015223</td>\n      <td>A02</td>\n      <td>NaN</td>\n      <td>NaN</td>\n      <td>A02</td>\n      <td>...</td>\n      <td>NaN</td>\n      <td>NaN</td>\n      <td>NaN</td>\n      <td>NaN</td>\n      <td>NaN</td>\n      <td>SQ00015223</td>\n      <td>C-7161-01-LM6-012</td>\n      <td>3</td>\n      <td>2016-04-26</td>\n      <td>1</td>\n    </tr>\n    <tr>\n      <th>34023</th>\n      <td>C-7161-01-LM6-022</td>\n      <td>DMSO</td>\n      <td>0.0</td>\n      <td>0.0</td>\n      <td>DMSO</td>\n      <td>SQ00014813</td>\n      <td>J16</td>\n      <td>NaN</td>\n      <td>NaN</td>\n      <td>J16</td>\n      <td>...</td>\n      <td>NaN</td>\n      <td>NaN</td>\n      <td>NaN</td>\n      <td>NaN</td>\n      <td>NaN</td>\n      <td>SQ00014813</td>\n      <td>C-7161-01-LM6-022</td>\n      <td>4</td>\n      <td>2016-05-17</td>\n      <td>1</td>\n    </tr>\n    <tr>\n      <th>9829</th>\n      <td>C-7161-01-LM6-008</td>\n      <td>DMSO</td>\n      <td>0.0</td>\n      <td>0.0</td>\n      <td>DMSO</td>\n      <td>SQ00015105</td>\n      <td>J14</td>\n      <td>NaN</td>\n      <td>NaN</td>\n      <td>J14</td>\n      <td>...</td>\n      <td>NaN</td>\n      <td>NaN</td>\n      <td>NaN</td>\n      <td>NaN</td>\n      <td>NaN</td>\n      <td>SQ00015105</td>\n      <td>C-7161-01-LM6-008</td>\n      <td>3</td>\n      <td>2016-04-26</td>\n      <td>1</td>\n    </tr>\n    <tr>\n      <th>24038</th>\n      <td>C-7161-01-LM6-019</td>\n      <td>DMSO</td>\n      <td>0.0</td>\n      <td>0.0</td>\n      <td>DMSO</td>\n      <td>SQ00015203</td>\n      <td>J15</td>\n      <td>NaN</td>\n      <td>NaN</td>\n      <td>J15</td>\n      <td>...</td>\n      <td>NaN</td>\n      <td>NaN</td>\n      <td>NaN</td>\n      <td>NaN</td>\n      <td>NaN</td>\n      <td>SQ00015203</td>\n      <td>C-7161-01-LM6-019</td>\n      <td>1</td>\n      <td>2016-03-22</td>\n      <td>1</td>\n    </tr>\n  </tbody>\n</table>\n<p>325 rows × 29 columns</p>\n</div>"
     },
     "execution_count": 9,
     "metadata": {},
     "output_type": "execute_result"
    }
   ],
   "source": [],
   "metadata": {
    "collapsed": false,
    "pycharm": {
     "name": "#%%\n"
    }
   }
  },
  {
   "cell_type": "markdown",
   "source": [
    "# pretrained"
   ],
   "metadata": {
    "collapsed": false
   }
  },
  {
   "cell_type": "code",
   "execution_count": 16,
   "outputs": [],
   "source": [
    "pre = pd.read_csv('/Users/mbornhol/git/neural-profiling/00_thesis/pre_trained/aggregated_efficientnet_median.csv', low_memory=False)"
   ],
   "metadata": {
    "collapsed": false,
    "pycharm": {
     "name": "#%%\n"
    }
   }
  },
  {
   "cell_type": "code",
   "execution_count": 21,
   "outputs": [
    {
     "name": "stderr",
     "output_type": "stream",
     "text": [
      "/Users/mbornhol/miniconda3/envs/cyto_eval/lib/python3.7/site-packages/ipykernel_launcher.py:2: UserWarning: Boolean Series key will be reindexed to match DataFrame index.\n",
      "  \n"
     ]
    }
   ],
   "source": [
    "merge = pd.merge(pre, index, how=\"outer\", on=[\"Metadata_Plate\", \"Metadata_Well\"], indicator=True)\n",
    "df_pre = pre[merge._merge == \"both\"]\n",
    "DMSO_pre = df_pre[df_pre[\"Metadata_broad_sample\"] == \"DMSO\"]\n",
    "DMSO_pre = pd.merge(DMSO_pre, batch, how=\"left\", on=['Metadata_Plate', 'Metadata_Well'])\n",
    "features = [f for f in DMSO_pre.columns if f.startswith(\"eff\")]\n",
    "meta_features=[f for f in DMSO_pre.columns if not f.startswith(\"eff\")]"
   ],
   "metadata": {
    "collapsed": false,
    "pycharm": {
     "name": "#%%\n"
    }
   }
  },
  {
   "cell_type": "code",
   "execution_count": 23,
   "outputs": [
    {
     "data": {
      "text/plain": "(324, 6419)"
     },
     "execution_count": 23,
     "metadata": {},
     "output_type": "execute_result"
    }
   ],
   "source": [
    "DMSO_pre = DMSO_pre.sample(frac=0.1)\n",
    "DMSO_pre.shape"
   ],
   "metadata": {
    "collapsed": false,
    "pycharm": {
     "name": "#%%\n"
    }
   }
  },
  {
   "cell_type": "code",
   "execution_count": 24,
   "outputs": [
    {
     "data": {
      "text/plain": "   enrichment_percentile  threshold  ods_ratio       p-value\n0                  0.995   0.997490   1.923810  1.324484e-04\n1                  0.990   0.996846   1.885635  3.187611e-07\n2                  0.985   0.996385   2.013252  3.755325e-12\n3                  0.980   0.995967   2.084390  3.424125e-17\n4                  0.975   0.995553   1.920445  3.681090e-16\n5                  0.970   0.995203   1.882368  1.145166e-17\n6                  0.965   0.994876   1.842730  1.009919e-18\n7                  0.960   0.994539   1.759433  8.958986e-18",
      "text/html": "<div>\n<style scoped>\n    .dataframe tbody tr th:only-of-type {\n        vertical-align: middle;\n    }\n\n    .dataframe tbody tr th {\n        vertical-align: top;\n    }\n\n    .dataframe thead th {\n        text-align: right;\n    }\n</style>\n<table border=\"1\" class=\"dataframe\">\n  <thead>\n    <tr style=\"text-align: right;\">\n      <th></th>\n      <th>enrichment_percentile</th>\n      <th>threshold</th>\n      <th>ods_ratio</th>\n      <th>p-value</th>\n    </tr>\n  </thead>\n  <tbody>\n    <tr>\n      <th>0</th>\n      <td>0.995</td>\n      <td>0.997490</td>\n      <td>1.923810</td>\n      <td>1.324484e-04</td>\n    </tr>\n    <tr>\n      <th>1</th>\n      <td>0.990</td>\n      <td>0.996846</td>\n      <td>1.885635</td>\n      <td>3.187611e-07</td>\n    </tr>\n    <tr>\n      <th>2</th>\n      <td>0.985</td>\n      <td>0.996385</td>\n      <td>2.013252</td>\n      <td>3.755325e-12</td>\n    </tr>\n    <tr>\n      <th>3</th>\n      <td>0.980</td>\n      <td>0.995967</td>\n      <td>2.084390</td>\n      <td>3.424125e-17</td>\n    </tr>\n    <tr>\n      <th>4</th>\n      <td>0.975</td>\n      <td>0.995553</td>\n      <td>1.920445</td>\n      <td>3.681090e-16</td>\n    </tr>\n    <tr>\n      <th>5</th>\n      <td>0.970</td>\n      <td>0.995203</td>\n      <td>1.882368</td>\n      <td>1.145166e-17</td>\n    </tr>\n    <tr>\n      <th>6</th>\n      <td>0.965</td>\n      <td>0.994876</td>\n      <td>1.842730</td>\n      <td>1.009919e-18</td>\n    </tr>\n    <tr>\n      <th>7</th>\n      <td>0.960</td>\n      <td>0.994539</td>\n      <td>1.759433</td>\n      <td>8.958986e-18</td>\n    </tr>\n  </tbody>\n</table>\n</div>"
     },
     "execution_count": 24,
     "metadata": {},
     "output_type": "execute_result"
    }
   ],
   "source": [
    "res = evaluate(\n",
    "    profiles=DMSO_pre,\n",
    "    features=features,\n",
    "    meta_features=meta_features,\n",
    "    replicate_groups=['Metadata_Well'],\n",
    "    operation=\"enrichment\",\n",
    "    similarity_metric=\"pearson\",\n",
    "    enrichment_percentile=p,\n",
    ")\n",
    "res"
   ],
   "metadata": {
    "collapsed": false,
    "pycharm": {
     "name": "#%%\n"
    }
   }
  },
  {
   "cell_type": "code",
   "execution_count": 25,
   "outputs": [
    {
     "data": {
      "text/plain": "   enrichment_percentile  threshold  ods_ratio        p-value\n0                  0.995   0.997490  53.788561  4.190055e-156\n1                  0.990   0.996846  40.843500  9.101552e-208\n2                  0.985   0.996385  33.853703  2.095067e-231\n3                  0.980   0.995967  32.695994  1.622761e-268\n4                  0.975   0.995553  29.241796  1.294840e-275\n5                  0.970   0.995203  27.620228  4.070710e-288\n6                  0.965   0.994876  24.542062  5.948539e-280\n7                  0.960   0.994539  23.344602  1.018954e-284",
      "text/html": "<div>\n<style scoped>\n    .dataframe tbody tr th:only-of-type {\n        vertical-align: middle;\n    }\n\n    .dataframe tbody tr th {\n        vertical-align: top;\n    }\n\n    .dataframe thead th {\n        text-align: right;\n    }\n</style>\n<table border=\"1\" class=\"dataframe\">\n  <thead>\n    <tr style=\"text-align: right;\">\n      <th></th>\n      <th>enrichment_percentile</th>\n      <th>threshold</th>\n      <th>ods_ratio</th>\n      <th>p-value</th>\n    </tr>\n  </thead>\n  <tbody>\n    <tr>\n      <th>0</th>\n      <td>0.995</td>\n      <td>0.997490</td>\n      <td>53.788561</td>\n      <td>4.190055e-156</td>\n    </tr>\n    <tr>\n      <th>1</th>\n      <td>0.990</td>\n      <td>0.996846</td>\n      <td>40.843500</td>\n      <td>9.101552e-208</td>\n    </tr>\n    <tr>\n      <th>2</th>\n      <td>0.985</td>\n      <td>0.996385</td>\n      <td>33.853703</td>\n      <td>2.095067e-231</td>\n    </tr>\n    <tr>\n      <th>3</th>\n      <td>0.980</td>\n      <td>0.995967</td>\n      <td>32.695994</td>\n      <td>1.622761e-268</td>\n    </tr>\n    <tr>\n      <th>4</th>\n      <td>0.975</td>\n      <td>0.995553</td>\n      <td>29.241796</td>\n      <td>1.294840e-275</td>\n    </tr>\n    <tr>\n      <th>5</th>\n      <td>0.970</td>\n      <td>0.995203</td>\n      <td>27.620228</td>\n      <td>4.070710e-288</td>\n    </tr>\n    <tr>\n      <th>6</th>\n      <td>0.965</td>\n      <td>0.994876</td>\n      <td>24.542062</td>\n      <td>5.948539e-280</td>\n    </tr>\n    <tr>\n      <th>7</th>\n      <td>0.960</td>\n      <td>0.994539</td>\n      <td>23.344602</td>\n      <td>1.018954e-284</td>\n    </tr>\n  </tbody>\n</table>\n</div>"
     },
     "execution_count": 25,
     "metadata": {},
     "output_type": "execute_result"
    }
   ],
   "source": [
    "res = evaluate(\n",
    "    profiles=DMSO_pre,\n",
    "    features=features,\n",
    "    meta_features=meta_features,\n",
    "    replicate_groups=['Metadata_Plate'],\n",
    "    operation=\"enrichment\",\n",
    "    similarity_metric=\"pearson\",\n",
    "    enrichment_percentile=p,\n",
    ")\n",
    "res"
   ],
   "metadata": {
    "collapsed": false,
    "pycharm": {
     "name": "#%%\n"
    }
   }
  },
  {
   "cell_type": "code",
   "execution_count": 26,
   "outputs": [
    {
     "data": {
      "text/plain": "   enrichment_percentile  threshold   ods_ratio  p-value\n0                  0.995   0.997490  520.737429      0.0\n1                  0.990   0.996846  532.983115      0.0\n2                  0.985   0.996385  271.353905      0.0\n3                  0.980   0.995967  211.168330      0.0\n4                  0.975   0.995553  121.481883      0.0\n5                  0.970   0.995203   90.445923      0.0\n6                  0.965   0.994876   69.970525      0.0\n7                  0.960   0.994539   52.010797      0.0",
      "text/html": "<div>\n<style scoped>\n    .dataframe tbody tr th:only-of-type {\n        vertical-align: middle;\n    }\n\n    .dataframe tbody tr th {\n        vertical-align: top;\n    }\n\n    .dataframe thead th {\n        text-align: right;\n    }\n</style>\n<table border=\"1\" class=\"dataframe\">\n  <thead>\n    <tr style=\"text-align: right;\">\n      <th></th>\n      <th>enrichment_percentile</th>\n      <th>threshold</th>\n      <th>ods_ratio</th>\n      <th>p-value</th>\n    </tr>\n  </thead>\n  <tbody>\n    <tr>\n      <th>0</th>\n      <td>0.995</td>\n      <td>0.997490</td>\n      <td>520.737429</td>\n      <td>0.0</td>\n    </tr>\n    <tr>\n      <th>1</th>\n      <td>0.990</td>\n      <td>0.996846</td>\n      <td>532.983115</td>\n      <td>0.0</td>\n    </tr>\n    <tr>\n      <th>2</th>\n      <td>0.985</td>\n      <td>0.996385</td>\n      <td>271.353905</td>\n      <td>0.0</td>\n    </tr>\n    <tr>\n      <th>3</th>\n      <td>0.980</td>\n      <td>0.995967</td>\n      <td>211.168330</td>\n      <td>0.0</td>\n    </tr>\n    <tr>\n      <th>4</th>\n      <td>0.975</td>\n      <td>0.995553</td>\n      <td>121.481883</td>\n      <td>0.0</td>\n    </tr>\n    <tr>\n      <th>5</th>\n      <td>0.970</td>\n      <td>0.995203</td>\n      <td>90.445923</td>\n      <td>0.0</td>\n    </tr>\n    <tr>\n      <th>6</th>\n      <td>0.965</td>\n      <td>0.994876</td>\n      <td>69.970525</td>\n      <td>0.0</td>\n    </tr>\n    <tr>\n      <th>7</th>\n      <td>0.960</td>\n      <td>0.994539</td>\n      <td>52.010797</td>\n      <td>0.0</td>\n    </tr>\n  </tbody>\n</table>\n</div>"
     },
     "execution_count": 26,
     "metadata": {},
     "output_type": "execute_result"
    }
   ],
   "source": [
    "res = evaluate(\n",
    "    profiles=DMSO_pre,\n",
    "    features=features,\n",
    "    meta_features=meta_features,\n",
    "    replicate_groups=['Metadata_Batch_Number'],\n",
    "    operation=\"enrichment\",\n",
    "    similarity_metric=\"pearson\",\n",
    "    enrichment_percentile=p,\n",
    ")\n",
    "res"
   ],
   "metadata": {
    "collapsed": false,
    "pycharm": {
     "name": "#%%\n"
    }
   }
  },
  {
   "cell_type": "code",
   "execution_count": 18,
   "outputs": [
    {
     "data": {
      "text/plain": "      Unnamed: 0 Metadata_Aggregate_On Metadata_Well_Position Metadata_Plate  \\\n0              0                  well         SQ00014812/A01     SQ00014812   \n1              1                  well         SQ00014812/A02     SQ00014812   \n2              2                  well         SQ00014812/A03     SQ00014812   \n3              3                  well         SQ00014812/A04     SQ00014812   \n4              4                  well         SQ00014812/A05     SQ00014812   \n...          ...                   ...                    ...            ...   \n3234        3234                  well         SQ00015233/J14     SQ00015233   \n3235        3235                  well         SQ00015233/J15     SQ00015233   \n3236        3236                  well         SQ00015233/J16     SQ00015233   \n3237        3237                  well         SQ00015233/J17     SQ00015233   \n3238        3238                  well         SQ00015233/J18     SQ00015233   \n\n     Metadata_Well Metadata_broad_sample Metadata_moa  \\\n0              A01                  DMSO      unknown   \n1              A02                  DMSO      unknown   \n2              A03                  DMSO      unknown   \n3              A04                  DMSO      unknown   \n4              A05                  DMSO      unknown   \n...            ...                   ...          ...   \n3234           J14                  DMSO      unknown   \n3235           J15                  DMSO      unknown   \n3236           J16                  DMSO      unknown   \n3237           J17                  DMSO      unknown   \n3238           J18                  DMSO      unknown   \n\n      Metadata_mmoles_per_liter  Metadata_dose_recode  Metadata_Concentration  \\\n0                           0.0                     0                     NaN   \n1                           0.0                     0                     NaN   \n2                           0.0                     0                     NaN   \n3                           0.0                     0                     NaN   \n4                           0.0                     0                     NaN   \n...                         ...                   ...                     ...   \n3234                        0.0                     0                     NaN   \n3235                        0.0                     0                     NaN   \n3236                        0.0                     0                     NaN   \n3237                        0.0                     0                     NaN   \n3238                        0.0                     0                     NaN   \n\n      Metadata_Treatment_ID Metadata_Compound Metadata_pert_iname  \\\n0                         0              DMSO                 NaN   \n1                         0              DMSO                 NaN   \n2                         0              DMSO                 NaN   \n3                         0              DMSO                 NaN   \n4                         0              DMSO                 NaN   \n...                     ...               ...                 ...   \n3234                      0              DMSO                 NaN   \n3235                      0              DMSO                 NaN   \n3236                      0              DMSO                 NaN   \n3237                      0              DMSO                 NaN   \n3238                      0              DMSO                 NaN   \n\n      Metadata_Treatment_Replicate Metadata_Treatment Metadata_Plate_Map_Name  \\\n0                                1            DMSO@NA       C-7161-01-LM6-022   \n1                                2            DMSO@NA       C-7161-01-LM6-022   \n2                                3            DMSO@NA       C-7161-01-LM6-022   \n3                                4            DMSO@NA       C-7161-01-LM6-022   \n4                                5            DMSO@NA       C-7161-01-LM6-022   \n...                            ...                ...                     ...   \n3234                          3248            DMSO@NA       C-7161-01-LM6-014   \n3235                          3249            DMSO@NA       C-7161-01-LM6-014   \n3236                          3250            DMSO@NA       C-7161-01-LM6-014   \n3237                          3251            DMSO@NA       C-7161-01-LM6-014   \n3238                          3252            DMSO@NA       C-7161-01-LM6-014   \n\n     Metadata_Split Metadata_Model  \n0          Training   efficientnet  \n1          Training   efficientnet  \n2          Training   efficientnet  \n3          Training   efficientnet  \n4          Training   efficientnet  \n...             ...            ...  \n3234       Training   efficientnet  \n3235       Training   efficientnet  \n3236       Training   efficientnet  \n3237       Training   efficientnet  \n3238       Training   efficientnet  \n\n[3239 rows x 18 columns]",
      "text/html": "<div>\n<style scoped>\n    .dataframe tbody tr th:only-of-type {\n        vertical-align: middle;\n    }\n\n    .dataframe tbody tr th {\n        vertical-align: top;\n    }\n\n    .dataframe thead th {\n        text-align: right;\n    }\n</style>\n<table border=\"1\" class=\"dataframe\">\n  <thead>\n    <tr style=\"text-align: right;\">\n      <th></th>\n      <th>Unnamed: 0</th>\n      <th>Metadata_Aggregate_On</th>\n      <th>Metadata_Well_Position</th>\n      <th>Metadata_Plate</th>\n      <th>Metadata_Well</th>\n      <th>Metadata_broad_sample</th>\n      <th>Metadata_moa</th>\n      <th>Metadata_mmoles_per_liter</th>\n      <th>Metadata_dose_recode</th>\n      <th>Metadata_Concentration</th>\n      <th>Metadata_Treatment_ID</th>\n      <th>Metadata_Compound</th>\n      <th>Metadata_pert_iname</th>\n      <th>Metadata_Treatment_Replicate</th>\n      <th>Metadata_Treatment</th>\n      <th>Metadata_Plate_Map_Name</th>\n      <th>Metadata_Split</th>\n      <th>Metadata_Model</th>\n    </tr>\n  </thead>\n  <tbody>\n    <tr>\n      <th>0</th>\n      <td>0</td>\n      <td>well</td>\n      <td>SQ00014812/A01</td>\n      <td>SQ00014812</td>\n      <td>A01</td>\n      <td>DMSO</td>\n      <td>unknown</td>\n      <td>0.0</td>\n      <td>0</td>\n      <td>NaN</td>\n      <td>0</td>\n      <td>DMSO</td>\n      <td>NaN</td>\n      <td>1</td>\n      <td>DMSO@NA</td>\n      <td>C-7161-01-LM6-022</td>\n      <td>Training</td>\n      <td>efficientnet</td>\n    </tr>\n    <tr>\n      <th>1</th>\n      <td>1</td>\n      <td>well</td>\n      <td>SQ00014812/A02</td>\n      <td>SQ00014812</td>\n      <td>A02</td>\n      <td>DMSO</td>\n      <td>unknown</td>\n      <td>0.0</td>\n      <td>0</td>\n      <td>NaN</td>\n      <td>0</td>\n      <td>DMSO</td>\n      <td>NaN</td>\n      <td>2</td>\n      <td>DMSO@NA</td>\n      <td>C-7161-01-LM6-022</td>\n      <td>Training</td>\n      <td>efficientnet</td>\n    </tr>\n    <tr>\n      <th>2</th>\n      <td>2</td>\n      <td>well</td>\n      <td>SQ00014812/A03</td>\n      <td>SQ00014812</td>\n      <td>A03</td>\n      <td>DMSO</td>\n      <td>unknown</td>\n      <td>0.0</td>\n      <td>0</td>\n      <td>NaN</td>\n      <td>0</td>\n      <td>DMSO</td>\n      <td>NaN</td>\n      <td>3</td>\n      <td>DMSO@NA</td>\n      <td>C-7161-01-LM6-022</td>\n      <td>Training</td>\n      <td>efficientnet</td>\n    </tr>\n    <tr>\n      <th>3</th>\n      <td>3</td>\n      <td>well</td>\n      <td>SQ00014812/A04</td>\n      <td>SQ00014812</td>\n      <td>A04</td>\n      <td>DMSO</td>\n      <td>unknown</td>\n      <td>0.0</td>\n      <td>0</td>\n      <td>NaN</td>\n      <td>0</td>\n      <td>DMSO</td>\n      <td>NaN</td>\n      <td>4</td>\n      <td>DMSO@NA</td>\n      <td>C-7161-01-LM6-022</td>\n      <td>Training</td>\n      <td>efficientnet</td>\n    </tr>\n    <tr>\n      <th>4</th>\n      <td>4</td>\n      <td>well</td>\n      <td>SQ00014812/A05</td>\n      <td>SQ00014812</td>\n      <td>A05</td>\n      <td>DMSO</td>\n      <td>unknown</td>\n      <td>0.0</td>\n      <td>0</td>\n      <td>NaN</td>\n      <td>0</td>\n      <td>DMSO</td>\n      <td>NaN</td>\n      <td>5</td>\n      <td>DMSO@NA</td>\n      <td>C-7161-01-LM6-022</td>\n      <td>Training</td>\n      <td>efficientnet</td>\n    </tr>\n    <tr>\n      <th>...</th>\n      <td>...</td>\n      <td>...</td>\n      <td>...</td>\n      <td>...</td>\n      <td>...</td>\n      <td>...</td>\n      <td>...</td>\n      <td>...</td>\n      <td>...</td>\n      <td>...</td>\n      <td>...</td>\n      <td>...</td>\n      <td>...</td>\n      <td>...</td>\n      <td>...</td>\n      <td>...</td>\n      <td>...</td>\n      <td>...</td>\n    </tr>\n    <tr>\n      <th>3234</th>\n      <td>3234</td>\n      <td>well</td>\n      <td>SQ00015233/J14</td>\n      <td>SQ00015233</td>\n      <td>J14</td>\n      <td>DMSO</td>\n      <td>unknown</td>\n      <td>0.0</td>\n      <td>0</td>\n      <td>NaN</td>\n      <td>0</td>\n      <td>DMSO</td>\n      <td>NaN</td>\n      <td>3248</td>\n      <td>DMSO@NA</td>\n      <td>C-7161-01-LM6-014</td>\n      <td>Training</td>\n      <td>efficientnet</td>\n    </tr>\n    <tr>\n      <th>3235</th>\n      <td>3235</td>\n      <td>well</td>\n      <td>SQ00015233/J15</td>\n      <td>SQ00015233</td>\n      <td>J15</td>\n      <td>DMSO</td>\n      <td>unknown</td>\n      <td>0.0</td>\n      <td>0</td>\n      <td>NaN</td>\n      <td>0</td>\n      <td>DMSO</td>\n      <td>NaN</td>\n      <td>3249</td>\n      <td>DMSO@NA</td>\n      <td>C-7161-01-LM6-014</td>\n      <td>Training</td>\n      <td>efficientnet</td>\n    </tr>\n    <tr>\n      <th>3236</th>\n      <td>3236</td>\n      <td>well</td>\n      <td>SQ00015233/J16</td>\n      <td>SQ00015233</td>\n      <td>J16</td>\n      <td>DMSO</td>\n      <td>unknown</td>\n      <td>0.0</td>\n      <td>0</td>\n      <td>NaN</td>\n      <td>0</td>\n      <td>DMSO</td>\n      <td>NaN</td>\n      <td>3250</td>\n      <td>DMSO@NA</td>\n      <td>C-7161-01-LM6-014</td>\n      <td>Training</td>\n      <td>efficientnet</td>\n    </tr>\n    <tr>\n      <th>3237</th>\n      <td>3237</td>\n      <td>well</td>\n      <td>SQ00015233/J17</td>\n      <td>SQ00015233</td>\n      <td>J17</td>\n      <td>DMSO</td>\n      <td>unknown</td>\n      <td>0.0</td>\n      <td>0</td>\n      <td>NaN</td>\n      <td>0</td>\n      <td>DMSO</td>\n      <td>NaN</td>\n      <td>3251</td>\n      <td>DMSO@NA</td>\n      <td>C-7161-01-LM6-014</td>\n      <td>Training</td>\n      <td>efficientnet</td>\n    </tr>\n    <tr>\n      <th>3238</th>\n      <td>3238</td>\n      <td>well</td>\n      <td>SQ00015233/J18</td>\n      <td>SQ00015233</td>\n      <td>J18</td>\n      <td>DMSO</td>\n      <td>unknown</td>\n      <td>0.0</td>\n      <td>0</td>\n      <td>NaN</td>\n      <td>0</td>\n      <td>DMSO</td>\n      <td>NaN</td>\n      <td>3252</td>\n      <td>DMSO@NA</td>\n      <td>C-7161-01-LM6-014</td>\n      <td>Training</td>\n      <td>efficientnet</td>\n    </tr>\n  </tbody>\n</table>\n<p>3239 rows × 18 columns</p>\n</div>"
     },
     "execution_count": 18,
     "metadata": {},
     "output_type": "execute_result"
    }
   ],
   "source": [],
   "metadata": {
    "collapsed": false,
    "pycharm": {
     "name": "#%%\n"
    }
   }
  },
  {
   "cell_type": "code",
   "execution_count": null,
   "outputs": [],
   "source": [],
   "metadata": {
    "collapsed": false,
    "pycharm": {
     "name": "#%%\n"
    }
   }
  },
  {
   "cell_type": "markdown",
   "source": [
    "# Trained"
   ],
   "metadata": {
    "collapsed": false
   }
  },
  {
   "cell_type": "code",
   "execution_count": 27,
   "outputs": [],
   "source": [
    "train = pd.read_csv('/Users/mbornhol/git/neural-profiling/training/runs/1028/1028_aggregated_median.csv', low_memory=False)"
   ],
   "metadata": {
    "collapsed": false,
    "pycharm": {
     "name": "#%%\n"
    }
   }
  },
  {
   "cell_type": "code",
   "execution_count": 28,
   "outputs": [],
   "source": [
    "merge = pd.merge(train, index, how=\"outer\", on=[\"Metadata_Plate\", \"Metadata_Well\"], indicator=True)\n",
    "df_train = train[merge._merge == \"both\"]\n",
    "DMSO_train = df_train[df_train[\"Metadata_broad_sample\"] == \"DMSO\"]\n",
    "DMSO_train = pd.merge(DMSO_train, batch, how=\"left\", on=['Metadata_Plate', 'Metadata_Well'])\n",
    "features = [f for f in DMSO_train.columns if f.startswith(\"eff\")]\n",
    "meta_features=[f for f in DMSO_train.columns if not f.startswith(\"eff\")]"
   ],
   "metadata": {
    "collapsed": false,
    "pycharm": {
     "name": "#%%\n"
    }
   }
  },
  {
   "cell_type": "code",
   "execution_count": 29,
   "outputs": [
    {
     "data": {
      "text/plain": "(325, 1299)"
     },
     "execution_count": 29,
     "metadata": {},
     "output_type": "execute_result"
    }
   ],
   "source": [
    "DMSO_train = DMSO_train.sample(frac=0.1)\n",
    "DMSO_train.shape"
   ],
   "metadata": {
    "collapsed": false,
    "pycharm": {
     "name": "#%%\n"
    }
   }
  },
  {
   "cell_type": "code",
   "execution_count": 30,
   "outputs": [
    {
     "data": {
      "text/plain": "   enrichment_percentile  threshold  ods_ratio       p-value\n0                  0.995   0.696456   0.869444  7.594149e-01\n1                  0.990   0.565618   1.146253  1.881984e-01\n2                  0.985   0.481442   1.208633  5.814364e-02\n3                  0.980   0.419968   1.510655  9.625040e-06\n4                  0.975   0.369380   1.560057  1.069363e-07\n5                  0.970   0.326959   1.510575  9.791781e-08\n6                  0.965   0.296176   1.621470  1.048439e-11\n7                  0.960   0.270663   1.565370  2.895119e-11",
      "text/html": "<div>\n<style scoped>\n    .dataframe tbody tr th:only-of-type {\n        vertical-align: middle;\n    }\n\n    .dataframe tbody tr th {\n        vertical-align: top;\n    }\n\n    .dataframe thead th {\n        text-align: right;\n    }\n</style>\n<table border=\"1\" class=\"dataframe\">\n  <thead>\n    <tr style=\"text-align: right;\">\n      <th></th>\n      <th>enrichment_percentile</th>\n      <th>threshold</th>\n      <th>ods_ratio</th>\n      <th>p-value</th>\n    </tr>\n  </thead>\n  <tbody>\n    <tr>\n      <th>0</th>\n      <td>0.995</td>\n      <td>0.696456</td>\n      <td>0.869444</td>\n      <td>7.594149e-01</td>\n    </tr>\n    <tr>\n      <th>1</th>\n      <td>0.990</td>\n      <td>0.565618</td>\n      <td>1.146253</td>\n      <td>1.881984e-01</td>\n    </tr>\n    <tr>\n      <th>2</th>\n      <td>0.985</td>\n      <td>0.481442</td>\n      <td>1.208633</td>\n      <td>5.814364e-02</td>\n    </tr>\n    <tr>\n      <th>3</th>\n      <td>0.980</td>\n      <td>0.419968</td>\n      <td>1.510655</td>\n      <td>9.625040e-06</td>\n    </tr>\n    <tr>\n      <th>4</th>\n      <td>0.975</td>\n      <td>0.369380</td>\n      <td>1.560057</td>\n      <td>1.069363e-07</td>\n    </tr>\n    <tr>\n      <th>5</th>\n      <td>0.970</td>\n      <td>0.326959</td>\n      <td>1.510575</td>\n      <td>9.791781e-08</td>\n    </tr>\n    <tr>\n      <th>6</th>\n      <td>0.965</td>\n      <td>0.296176</td>\n      <td>1.621470</td>\n      <td>1.048439e-11</td>\n    </tr>\n    <tr>\n      <th>7</th>\n      <td>0.960</td>\n      <td>0.270663</td>\n      <td>1.565370</td>\n      <td>2.895119e-11</td>\n    </tr>\n  </tbody>\n</table>\n</div>"
     },
     "execution_count": 30,
     "metadata": {},
     "output_type": "execute_result"
    }
   ],
   "source": [
    "res = evaluate(\n",
    "    profiles=DMSO_train,\n",
    "    features=features,\n",
    "    meta_features=meta_features,\n",
    "    replicate_groups=['Metadata_Well'],\n",
    "    operation=\"enrichment\",\n",
    "    similarity_metric=\"pearson\",\n",
    "    enrichment_percentile=p,\n",
    ")\n",
    "res"
   ],
   "metadata": {
    "collapsed": false,
    "pycharm": {
     "name": "#%%\n"
    }
   }
  },
  {
   "cell_type": "code",
   "execution_count": 31,
   "outputs": [
    {
     "data": {
      "text/plain": "   enrichment_percentile  threshold   ods_ratio  p-value\n0                  0.995   0.696456  192.018832      0.0\n1                  0.990   0.565618  130.776328      0.0\n2                  0.985   0.481442  105.956083      0.0\n3                  0.980   0.419968   84.994115      0.0\n4                  0.975   0.369380   79.996459      0.0\n5                  0.970   0.326959   73.020437      0.0\n6                  0.965   0.296176   72.319485      0.0\n7                  0.960   0.270663   64.384570      0.0",
      "text/html": "<div>\n<style scoped>\n    .dataframe tbody tr th:only-of-type {\n        vertical-align: middle;\n    }\n\n    .dataframe tbody tr th {\n        vertical-align: top;\n    }\n\n    .dataframe thead th {\n        text-align: right;\n    }\n</style>\n<table border=\"1\" class=\"dataframe\">\n  <thead>\n    <tr style=\"text-align: right;\">\n      <th></th>\n      <th>enrichment_percentile</th>\n      <th>threshold</th>\n      <th>ods_ratio</th>\n      <th>p-value</th>\n    </tr>\n  </thead>\n  <tbody>\n    <tr>\n      <th>0</th>\n      <td>0.995</td>\n      <td>0.696456</td>\n      <td>192.018832</td>\n      <td>0.0</td>\n    </tr>\n    <tr>\n      <th>1</th>\n      <td>0.990</td>\n      <td>0.565618</td>\n      <td>130.776328</td>\n      <td>0.0</td>\n    </tr>\n    <tr>\n      <th>2</th>\n      <td>0.985</td>\n      <td>0.481442</td>\n      <td>105.956083</td>\n      <td>0.0</td>\n    </tr>\n    <tr>\n      <th>3</th>\n      <td>0.980</td>\n      <td>0.419968</td>\n      <td>84.994115</td>\n      <td>0.0</td>\n    </tr>\n    <tr>\n      <th>4</th>\n      <td>0.975</td>\n      <td>0.369380</td>\n      <td>79.996459</td>\n      <td>0.0</td>\n    </tr>\n    <tr>\n      <th>5</th>\n      <td>0.970</td>\n      <td>0.326959</td>\n      <td>73.020437</td>\n      <td>0.0</td>\n    </tr>\n    <tr>\n      <th>6</th>\n      <td>0.965</td>\n      <td>0.296176</td>\n      <td>72.319485</td>\n      <td>0.0</td>\n    </tr>\n    <tr>\n      <th>7</th>\n      <td>0.960</td>\n      <td>0.270663</td>\n      <td>64.384570</td>\n      <td>0.0</td>\n    </tr>\n  </tbody>\n</table>\n</div>"
     },
     "execution_count": 31,
     "metadata": {},
     "output_type": "execute_result"
    }
   ],
   "source": [
    "res = evaluate(\n",
    "    profiles=DMSO_train,\n",
    "    features=features,\n",
    "    meta_features=meta_features,\n",
    "    replicate_groups=['Metadata_Plate'],\n",
    "    operation=\"enrichment\",\n",
    "    similarity_metric=\"pearson\",\n",
    "    enrichment_percentile=p,\n",
    ")\n",
    "res"
   ],
   "metadata": {
    "collapsed": false,
    "pycharm": {
     "name": "#%%\n"
    }
   }
  },
  {
   "cell_type": "code",
   "execution_count": 32,
   "outputs": [
    {
     "data": {
      "text/plain": "   enrichment_percentile  threshold    ods_ratio  p-value\n0                  0.995   0.696456          inf      0.0\n1                  0.990   0.565618          inf      0.0\n2                  0.985   0.481442  1131.581284      0.0\n3                  0.980   0.419968   354.181130      0.0\n4                  0.975   0.369380   182.241053      0.0\n5                  0.970   0.326959   106.671063      0.0\n6                  0.965   0.296176    70.216893      0.0\n7                  0.960   0.270663    49.556401      0.0",
      "text/html": "<div>\n<style scoped>\n    .dataframe tbody tr th:only-of-type {\n        vertical-align: middle;\n    }\n\n    .dataframe tbody tr th {\n        vertical-align: top;\n    }\n\n    .dataframe thead th {\n        text-align: right;\n    }\n</style>\n<table border=\"1\" class=\"dataframe\">\n  <thead>\n    <tr style=\"text-align: right;\">\n      <th></th>\n      <th>enrichment_percentile</th>\n      <th>threshold</th>\n      <th>ods_ratio</th>\n      <th>p-value</th>\n    </tr>\n  </thead>\n  <tbody>\n    <tr>\n      <th>0</th>\n      <td>0.995</td>\n      <td>0.696456</td>\n      <td>inf</td>\n      <td>0.0</td>\n    </tr>\n    <tr>\n      <th>1</th>\n      <td>0.990</td>\n      <td>0.565618</td>\n      <td>inf</td>\n      <td>0.0</td>\n    </tr>\n    <tr>\n      <th>2</th>\n      <td>0.985</td>\n      <td>0.481442</td>\n      <td>1131.581284</td>\n      <td>0.0</td>\n    </tr>\n    <tr>\n      <th>3</th>\n      <td>0.980</td>\n      <td>0.419968</td>\n      <td>354.181130</td>\n      <td>0.0</td>\n    </tr>\n    <tr>\n      <th>4</th>\n      <td>0.975</td>\n      <td>0.369380</td>\n      <td>182.241053</td>\n      <td>0.0</td>\n    </tr>\n    <tr>\n      <th>5</th>\n      <td>0.970</td>\n      <td>0.326959</td>\n      <td>106.671063</td>\n      <td>0.0</td>\n    </tr>\n    <tr>\n      <th>6</th>\n      <td>0.965</td>\n      <td>0.296176</td>\n      <td>70.216893</td>\n      <td>0.0</td>\n    </tr>\n    <tr>\n      <th>7</th>\n      <td>0.960</td>\n      <td>0.270663</td>\n      <td>49.556401</td>\n      <td>0.0</td>\n    </tr>\n  </tbody>\n</table>\n</div>"
     },
     "execution_count": 32,
     "metadata": {},
     "output_type": "execute_result"
    }
   ],
   "source": [
    "res = evaluate(\n",
    "    profiles=DMSO_train,\n",
    "    features=features,\n",
    "    meta_features=meta_features,\n",
    "    replicate_groups=['Metadata_Batch_Number'],\n",
    "    operation=\"enrichment\",\n",
    "    similarity_metric=\"pearson\",\n",
    "    enrichment_percentile=p,\n",
    ")\n",
    "res"
   ],
   "metadata": {
    "collapsed": false,
    "pycharm": {
     "name": "#%%\n"
    }
   }
  },
  {
   "cell_type": "code",
   "execution_count": 22,
   "outputs": [
    {
     "name": "stderr",
     "output_type": "stream",
     "text": [
      "/Users/mbornhol/miniconda3/envs/cyto_eval/lib/python3.7/site-packages/IPython/core/interactiveshell.py:3166: DtypeWarning: Columns (12) have mixed types.Specify dtype option on import or set low_memory=False.\n",
      "  interactivity=interactivity, compiler=compiler, result=result)\n"
     ]
    }
   ],
   "source": [
    "# compare augmented to non augmented\n",
    "\n",
    "non = pd.read_csv('/Users/mbornhol/git/neural-profiling/training/runs/1008/1008_aggregated_median.csv')\n",
    "# aug = pd.read_csv('/Users/mbornhol/git/neural-profiling/training/runs/1010/1010_aggregated_median.csv')"
   ],
   "metadata": {
    "collapsed": false,
    "pycharm": {
     "name": "#%%\n"
    }
   }
  },
  {
   "cell_type": "code",
   "execution_count": 23,
   "outputs": [],
   "source": [
    "# merge = pd.merge(train, index, how=\"outer\", on=[\"Metadata_Plate\", \"Metadata_Well\"], indicator=True)\n",
    "# df_train = train[merge._merge == \"both\"]\n",
    "DMSO_train = non[non[\"Metadata_broad_sample\"] == \"DMSO\"]\n",
    "DMSO_train = pd.merge(DMSO_train, batch, how=\"left\", on=['Metadata_Plate', 'Metadata_Well'])\n",
    "features = [f for f in DMSO_train.columns if f.startswith(\"eff\")]\n",
    "meta_features=[f for f in DMSO_train.columns if not f.startswith(\"eff\")]"
   ],
   "metadata": {
    "collapsed": false,
    "pycharm": {
     "name": "#%%\n"
    }
   }
  },
  {
   "cell_type": "code",
   "execution_count": 24,
   "outputs": [
    {
     "data": {
      "text/plain": "(650, 1299)"
     },
     "execution_count": 24,
     "metadata": {},
     "output_type": "execute_result"
    }
   ],
   "source": [
    "DMSO_train = DMSO_train.sample(frac=0.2)\n",
    "DMSO_train.shape"
   ],
   "metadata": {
    "collapsed": false,
    "pycharm": {
     "name": "#%%\n"
    }
   }
  },
  {
   "cell_type": "code",
   "execution_count": 25,
   "outputs": [
    {
     "data": {
      "text/plain": "   enrichment_percentile  threshold  ods_ratio       p-value\n0                  0.995   0.816401   1.234509  2.136448e-02\n1                  0.990   0.736719   1.446433  5.407601e-08\n2                  0.985   0.671016   1.478828  2.144463e-12\n3                  0.980   0.618052   1.395927  1.183150e-11\n4                  0.975   0.572537   1.351588  1.348435e-11\n5                  0.970   0.530035   1.326719  5.621123e-12\n6                  0.965   0.493150   1.335183  3.507317e-14\n7                  0.960   0.459520   1.355011  1.888766e-17",
      "text/html": "<div>\n<style scoped>\n    .dataframe tbody tr th:only-of-type {\n        vertical-align: middle;\n    }\n\n    .dataframe tbody tr th {\n        vertical-align: top;\n    }\n\n    .dataframe thead th {\n        text-align: right;\n    }\n</style>\n<table border=\"1\" class=\"dataframe\">\n  <thead>\n    <tr style=\"text-align: right;\">\n      <th></th>\n      <th>enrichment_percentile</th>\n      <th>threshold</th>\n      <th>ods_ratio</th>\n      <th>p-value</th>\n    </tr>\n  </thead>\n  <tbody>\n    <tr>\n      <th>0</th>\n      <td>0.995</td>\n      <td>0.816401</td>\n      <td>1.234509</td>\n      <td>2.136448e-02</td>\n    </tr>\n    <tr>\n      <th>1</th>\n      <td>0.990</td>\n      <td>0.736719</td>\n      <td>1.446433</td>\n      <td>5.407601e-08</td>\n    </tr>\n    <tr>\n      <th>2</th>\n      <td>0.985</td>\n      <td>0.671016</td>\n      <td>1.478828</td>\n      <td>2.144463e-12</td>\n    </tr>\n    <tr>\n      <th>3</th>\n      <td>0.980</td>\n      <td>0.618052</td>\n      <td>1.395927</td>\n      <td>1.183150e-11</td>\n    </tr>\n    <tr>\n      <th>4</th>\n      <td>0.975</td>\n      <td>0.572537</td>\n      <td>1.351588</td>\n      <td>1.348435e-11</td>\n    </tr>\n    <tr>\n      <th>5</th>\n      <td>0.970</td>\n      <td>0.530035</td>\n      <td>1.326719</td>\n      <td>5.621123e-12</td>\n    </tr>\n    <tr>\n      <th>6</th>\n      <td>0.965</td>\n      <td>0.493150</td>\n      <td>1.335183</td>\n      <td>3.507317e-14</td>\n    </tr>\n    <tr>\n      <th>7</th>\n      <td>0.960</td>\n      <td>0.459520</td>\n      <td>1.355011</td>\n      <td>1.888766e-17</td>\n    </tr>\n  </tbody>\n</table>\n</div>"
     },
     "execution_count": 25,
     "metadata": {},
     "output_type": "execute_result"
    }
   ],
   "source": [
    "res = evaluate(\n",
    "    profiles=DMSO_train,\n",
    "    features=features,\n",
    "    meta_features=meta_features,\n",
    "    replicate_groups=['Metadata_Well'],\n",
    "    operation=\"enrichment\",\n",
    "    similarity_metric=\"pearson\",\n",
    "    enrichment_percentile=p,\n",
    ")\n",
    "res"
   ],
   "metadata": {
    "collapsed": false,
    "pycharm": {
     "name": "#%%\n"
    }
   }
  },
  {
   "cell_type": "code",
   "execution_count": 26,
   "outputs": [
    {
     "data": {
      "text/plain": "   enrichment_percentile  threshold   ods_ratio  p-value\n0                  0.995   0.816401  205.575377      0.0\n1                  0.990   0.736719  120.766909      0.0\n2                  0.985   0.671016   97.613952      0.0\n3                  0.980   0.618052   85.128542      0.0\n4                  0.975   0.572537   79.875692      0.0\n5                  0.970   0.530035   76.245798      0.0\n6                  0.965   0.493150   74.854989      0.0\n7                  0.960   0.459520   71.898063      0.0",
      "text/html": "<div>\n<style scoped>\n    .dataframe tbody tr th:only-of-type {\n        vertical-align: middle;\n    }\n\n    .dataframe tbody tr th {\n        vertical-align: top;\n    }\n\n    .dataframe thead th {\n        text-align: right;\n    }\n</style>\n<table border=\"1\" class=\"dataframe\">\n  <thead>\n    <tr style=\"text-align: right;\">\n      <th></th>\n      <th>enrichment_percentile</th>\n      <th>threshold</th>\n      <th>ods_ratio</th>\n      <th>p-value</th>\n    </tr>\n  </thead>\n  <tbody>\n    <tr>\n      <th>0</th>\n      <td>0.995</td>\n      <td>0.816401</td>\n      <td>205.575377</td>\n      <td>0.0</td>\n    </tr>\n    <tr>\n      <th>1</th>\n      <td>0.990</td>\n      <td>0.736719</td>\n      <td>120.766909</td>\n      <td>0.0</td>\n    </tr>\n    <tr>\n      <th>2</th>\n      <td>0.985</td>\n      <td>0.671016</td>\n      <td>97.613952</td>\n      <td>0.0</td>\n    </tr>\n    <tr>\n      <th>3</th>\n      <td>0.980</td>\n      <td>0.618052</td>\n      <td>85.128542</td>\n      <td>0.0</td>\n    </tr>\n    <tr>\n      <th>4</th>\n      <td>0.975</td>\n      <td>0.572537</td>\n      <td>79.875692</td>\n      <td>0.0</td>\n    </tr>\n    <tr>\n      <th>5</th>\n      <td>0.970</td>\n      <td>0.530035</td>\n      <td>76.245798</td>\n      <td>0.0</td>\n    </tr>\n    <tr>\n      <th>6</th>\n      <td>0.965</td>\n      <td>0.493150</td>\n      <td>74.854989</td>\n      <td>0.0</td>\n    </tr>\n    <tr>\n      <th>7</th>\n      <td>0.960</td>\n      <td>0.459520</td>\n      <td>71.898063</td>\n      <td>0.0</td>\n    </tr>\n  </tbody>\n</table>\n</div>"
     },
     "execution_count": 26,
     "metadata": {},
     "output_type": "execute_result"
    }
   ],
   "source": [
    "res = evaluate(\n",
    "    profiles=DMSO_train,\n",
    "    features=features,\n",
    "    meta_features=meta_features,\n",
    "    replicate_groups=['Metadata_Plate'],\n",
    "    operation=\"enrichment\",\n",
    "    similarity_metric=\"pearson\",\n",
    "    enrichment_percentile=p,\n",
    ")\n",
    "res"
   ],
   "metadata": {
    "collapsed": false,
    "pycharm": {
     "name": "#%%\n"
    }
   }
  },
  {
   "cell_type": "code",
   "execution_count": 27,
   "outputs": [
    {
     "data": {
      "text/plain": "   enrichment_percentile  threshold    ods_ratio  p-value\n0                  0.995   0.816401          inf      0.0\n1                  0.990   0.736719  1760.565692      0.0\n2                  0.985   0.671016   561.773918      0.0\n3                  0.980   0.618052   268.900670      0.0\n4                  0.975   0.572537   170.767753      0.0\n5                  0.970   0.530035   123.532721      0.0\n6                  0.965   0.493150    94.433929      0.0\n7                  0.960   0.459520    76.114370      0.0",
      "text/html": "<div>\n<style scoped>\n    .dataframe tbody tr th:only-of-type {\n        vertical-align: middle;\n    }\n\n    .dataframe tbody tr th {\n        vertical-align: top;\n    }\n\n    .dataframe thead th {\n        text-align: right;\n    }\n</style>\n<table border=\"1\" class=\"dataframe\">\n  <thead>\n    <tr style=\"text-align: right;\">\n      <th></th>\n      <th>enrichment_percentile</th>\n      <th>threshold</th>\n      <th>ods_ratio</th>\n      <th>p-value</th>\n    </tr>\n  </thead>\n  <tbody>\n    <tr>\n      <th>0</th>\n      <td>0.995</td>\n      <td>0.816401</td>\n      <td>inf</td>\n      <td>0.0</td>\n    </tr>\n    <tr>\n      <th>1</th>\n      <td>0.990</td>\n      <td>0.736719</td>\n      <td>1760.565692</td>\n      <td>0.0</td>\n    </tr>\n    <tr>\n      <th>2</th>\n      <td>0.985</td>\n      <td>0.671016</td>\n      <td>561.773918</td>\n      <td>0.0</td>\n    </tr>\n    <tr>\n      <th>3</th>\n      <td>0.980</td>\n      <td>0.618052</td>\n      <td>268.900670</td>\n      <td>0.0</td>\n    </tr>\n    <tr>\n      <th>4</th>\n      <td>0.975</td>\n      <td>0.572537</td>\n      <td>170.767753</td>\n      <td>0.0</td>\n    </tr>\n    <tr>\n      <th>5</th>\n      <td>0.970</td>\n      <td>0.530035</td>\n      <td>123.532721</td>\n      <td>0.0</td>\n    </tr>\n    <tr>\n      <th>6</th>\n      <td>0.965</td>\n      <td>0.493150</td>\n      <td>94.433929</td>\n      <td>0.0</td>\n    </tr>\n    <tr>\n      <th>7</th>\n      <td>0.960</td>\n      <td>0.459520</td>\n      <td>76.114370</td>\n      <td>0.0</td>\n    </tr>\n  </tbody>\n</table>\n</div>"
     },
     "execution_count": 27,
     "metadata": {},
     "output_type": "execute_result"
    }
   ],
   "source": [
    "res = evaluate(\n",
    "    profiles=DMSO_train,\n",
    "    features=features,\n",
    "    meta_features=meta_features,\n",
    "    replicate_groups=['Metadata_Batch_Number'],\n",
    "    operation=\"enrichment\",\n",
    "    similarity_metric=\"pearson\",\n",
    "    enrichment_percentile=p,\n",
    ")\n",
    "res"
   ],
   "metadata": {
    "collapsed": false,
    "pycharm": {
     "name": "#%%\n"
    }
   }
  },
  {
   "cell_type": "code",
   "execution_count": 3,
   "outputs": [],
   "source": [],
   "metadata": {
    "collapsed": false,
    "pycharm": {
     "name": "#%%\n"
    }
   }
  },
  {
   "cell_type": "code",
   "execution_count": 28,
   "outputs": [
    {
     "name": "stderr",
     "output_type": "stream",
     "text": [
      "/Users/mbornhol/miniconda3/envs/cyto_eval/lib/python3.7/site-packages/IPython/core/interactiveshell.py:3166: DtypeWarning: Columns (12) have mixed types.Specify dtype option on import or set low_memory=False.\n",
      "  interactivity=interactivity, compiler=compiler, result=result)\n"
     ]
    }
   ],
   "source": [
    "aug = pd.read_csv('/Users/mbornhol/git/neural-profiling/training/runs/1010/1010_aggregated_median.csv')"
   ],
   "metadata": {
    "collapsed": false,
    "pycharm": {
     "name": "#%%\n"
    }
   }
  },
  {
   "cell_type": "code",
   "execution_count": 29,
   "outputs": [],
   "source": [
    "# merge = pd.merge(train, index, how=\"outer\", on=[\"Metadata_Plate\", \"Metadata_Well\"], indicator=True)\n",
    "# df_train = train[merge._merge == \"both\"]\n",
    "DMSO_train = aug[aug[\"Metadata_broad_sample\"] == \"DMSO\"]\n",
    "DMSO_train = pd.merge(DMSO_train, batch, how=\"left\", on=['Metadata_Plate', 'Metadata_Well'])\n",
    "features = [f for f in DMSO_train.columns if f.startswith(\"eff\")]\n",
    "meta_features=[f for f in DMSO_train.columns if not f.startswith(\"eff\")]"
   ],
   "metadata": {
    "collapsed": false,
    "pycharm": {
     "name": "#%%\n"
    }
   }
  },
  {
   "cell_type": "code",
   "execution_count": 30,
   "outputs": [
    {
     "data": {
      "text/plain": "(650, 1299)"
     },
     "execution_count": 30,
     "metadata": {},
     "output_type": "execute_result"
    }
   ],
   "source": [
    "DMSO_train = DMSO_train.sample(frac=0.2)\n",
    "DMSO_train.shape"
   ],
   "metadata": {
    "collapsed": false,
    "pycharm": {
     "name": "#%%\n"
    }
   }
  },
  {
   "cell_type": "code",
   "execution_count": 31,
   "outputs": [
    {
     "data": {
      "text/plain": "   enrichment_percentile  threshold  ods_ratio       p-value\n0                  0.995   0.814019   1.330701  2.532495e-03\n1                  0.990   0.743888   1.371228  4.648273e-06\n2                  0.985   0.691756   1.522666  4.610313e-14\n3                  0.980   0.646553   1.485794  5.449343e-16\n4                  0.975   0.609611   1.469680  2.406548e-18\n5                  0.970   0.575118   1.451150  4.299967e-20\n6                  0.965   0.544724   1.450213  6.884852e-23\n7                  0.960   0.516841   1.433432  4.259189e-24",
      "text/html": "<div>\n<style scoped>\n    .dataframe tbody tr th:only-of-type {\n        vertical-align: middle;\n    }\n\n    .dataframe tbody tr th {\n        vertical-align: top;\n    }\n\n    .dataframe thead th {\n        text-align: right;\n    }\n</style>\n<table border=\"1\" class=\"dataframe\">\n  <thead>\n    <tr style=\"text-align: right;\">\n      <th></th>\n      <th>enrichment_percentile</th>\n      <th>threshold</th>\n      <th>ods_ratio</th>\n      <th>p-value</th>\n    </tr>\n  </thead>\n  <tbody>\n    <tr>\n      <th>0</th>\n      <td>0.995</td>\n      <td>0.814019</td>\n      <td>1.330701</td>\n      <td>2.532495e-03</td>\n    </tr>\n    <tr>\n      <th>1</th>\n      <td>0.990</td>\n      <td>0.743888</td>\n      <td>1.371228</td>\n      <td>4.648273e-06</td>\n    </tr>\n    <tr>\n      <th>2</th>\n      <td>0.985</td>\n      <td>0.691756</td>\n      <td>1.522666</td>\n      <td>4.610313e-14</td>\n    </tr>\n    <tr>\n      <th>3</th>\n      <td>0.980</td>\n      <td>0.646553</td>\n      <td>1.485794</td>\n      <td>5.449343e-16</td>\n    </tr>\n    <tr>\n      <th>4</th>\n      <td>0.975</td>\n      <td>0.609611</td>\n      <td>1.469680</td>\n      <td>2.406548e-18</td>\n    </tr>\n    <tr>\n      <th>5</th>\n      <td>0.970</td>\n      <td>0.575118</td>\n      <td>1.451150</td>\n      <td>4.299967e-20</td>\n    </tr>\n    <tr>\n      <th>6</th>\n      <td>0.965</td>\n      <td>0.544724</td>\n      <td>1.450213</td>\n      <td>6.884852e-23</td>\n    </tr>\n    <tr>\n      <th>7</th>\n      <td>0.960</td>\n      <td>0.516841</td>\n      <td>1.433432</td>\n      <td>4.259189e-24</td>\n    </tr>\n  </tbody>\n</table>\n</div>"
     },
     "execution_count": 31,
     "metadata": {},
     "output_type": "execute_result"
    }
   ],
   "source": [
    "res = evaluate(\n",
    "    profiles=DMSO_train,\n",
    "    features=features,\n",
    "    meta_features=meta_features,\n",
    "    replicate_groups=['Metadata_Well'],\n",
    "    operation=\"enrichment\",\n",
    "    similarity_metric=\"pearson\",\n",
    "    enrichment_percentile=p,\n",
    ")\n",
    "res"
   ],
   "metadata": {
    "collapsed": false,
    "pycharm": {
     "name": "#%%\n"
    }
   }
  },
  {
   "cell_type": "code",
   "execution_count": 32,
   "outputs": [
    {
     "data": {
      "text/plain": "   enrichment_percentile  threshold   ods_ratio  p-value\n0                  0.995   0.814019  132.314612      0.0\n1                  0.990   0.743888   78.961853      0.0\n2                  0.985   0.691756   64.713009      0.0\n3                  0.980   0.646553   56.769989      0.0\n4                  0.975   0.609611   50.584607      0.0\n5                  0.970   0.575118   46.099973      0.0\n6                  0.965   0.544724   44.200794      0.0\n7                  0.960   0.516841   43.147660      0.0",
      "text/html": "<div>\n<style scoped>\n    .dataframe tbody tr th:only-of-type {\n        vertical-align: middle;\n    }\n\n    .dataframe tbody tr th {\n        vertical-align: top;\n    }\n\n    .dataframe thead th {\n        text-align: right;\n    }\n</style>\n<table border=\"1\" class=\"dataframe\">\n  <thead>\n    <tr style=\"text-align: right;\">\n      <th></th>\n      <th>enrichment_percentile</th>\n      <th>threshold</th>\n      <th>ods_ratio</th>\n      <th>p-value</th>\n    </tr>\n  </thead>\n  <tbody>\n    <tr>\n      <th>0</th>\n      <td>0.995</td>\n      <td>0.814019</td>\n      <td>132.314612</td>\n      <td>0.0</td>\n    </tr>\n    <tr>\n      <th>1</th>\n      <td>0.990</td>\n      <td>0.743888</td>\n      <td>78.961853</td>\n      <td>0.0</td>\n    </tr>\n    <tr>\n      <th>2</th>\n      <td>0.985</td>\n      <td>0.691756</td>\n      <td>64.713009</td>\n      <td>0.0</td>\n    </tr>\n    <tr>\n      <th>3</th>\n      <td>0.980</td>\n      <td>0.646553</td>\n      <td>56.769989</td>\n      <td>0.0</td>\n    </tr>\n    <tr>\n      <th>4</th>\n      <td>0.975</td>\n      <td>0.609611</td>\n      <td>50.584607</td>\n      <td>0.0</td>\n    </tr>\n    <tr>\n      <th>5</th>\n      <td>0.970</td>\n      <td>0.575118</td>\n      <td>46.099973</td>\n      <td>0.0</td>\n    </tr>\n    <tr>\n      <th>6</th>\n      <td>0.965</td>\n      <td>0.544724</td>\n      <td>44.200794</td>\n      <td>0.0</td>\n    </tr>\n    <tr>\n      <th>7</th>\n      <td>0.960</td>\n      <td>0.516841</td>\n      <td>43.147660</td>\n      <td>0.0</td>\n    </tr>\n  </tbody>\n</table>\n</div>"
     },
     "execution_count": 32,
     "metadata": {},
     "output_type": "execute_result"
    }
   ],
   "source": [
    "res = evaluate(\n",
    "    profiles=DMSO_train,\n",
    "    features=features,\n",
    "    meta_features=meta_features,\n",
    "    replicate_groups=['Metadata_Plate'],\n",
    "    operation=\"enrichment\",\n",
    "    similarity_metric=\"pearson\",\n",
    "    enrichment_percentile=p,\n",
    ")\n",
    "res"
   ],
   "metadata": {
    "collapsed": false,
    "pycharm": {
     "name": "#%%\n"
    }
   }
  },
  {
   "cell_type": "code",
   "execution_count": 33,
   "outputs": [
    {
     "data": {
      "text/plain": "   enrichment_percentile  threshold    ods_ratio  p-value\n0                  0.995   0.814019  2157.539910      0.0\n1                  0.990   0.743888   417.908198      0.0\n2                  0.985   0.691756   239.305704      0.0\n3                  0.980   0.646553   141.263801      0.0\n4                  0.975   0.609611    92.157361      0.0\n5                  0.970   0.575118    68.540549      0.0\n6                  0.965   0.544724    55.037679      0.0\n7                  0.960   0.516841    46.610475      0.0",
      "text/html": "<div>\n<style scoped>\n    .dataframe tbody tr th:only-of-type {\n        vertical-align: middle;\n    }\n\n    .dataframe tbody tr th {\n        vertical-align: top;\n    }\n\n    .dataframe thead th {\n        text-align: right;\n    }\n</style>\n<table border=\"1\" class=\"dataframe\">\n  <thead>\n    <tr style=\"text-align: right;\">\n      <th></th>\n      <th>enrichment_percentile</th>\n      <th>threshold</th>\n      <th>ods_ratio</th>\n      <th>p-value</th>\n    </tr>\n  </thead>\n  <tbody>\n    <tr>\n      <th>0</th>\n      <td>0.995</td>\n      <td>0.814019</td>\n      <td>2157.539910</td>\n      <td>0.0</td>\n    </tr>\n    <tr>\n      <th>1</th>\n      <td>0.990</td>\n      <td>0.743888</td>\n      <td>417.908198</td>\n      <td>0.0</td>\n    </tr>\n    <tr>\n      <th>2</th>\n      <td>0.985</td>\n      <td>0.691756</td>\n      <td>239.305704</td>\n      <td>0.0</td>\n    </tr>\n    <tr>\n      <th>3</th>\n      <td>0.980</td>\n      <td>0.646553</td>\n      <td>141.263801</td>\n      <td>0.0</td>\n    </tr>\n    <tr>\n      <th>4</th>\n      <td>0.975</td>\n      <td>0.609611</td>\n      <td>92.157361</td>\n      <td>0.0</td>\n    </tr>\n    <tr>\n      <th>5</th>\n      <td>0.970</td>\n      <td>0.575118</td>\n      <td>68.540549</td>\n      <td>0.0</td>\n    </tr>\n    <tr>\n      <th>6</th>\n      <td>0.965</td>\n      <td>0.544724</td>\n      <td>55.037679</td>\n      <td>0.0</td>\n    </tr>\n    <tr>\n      <th>7</th>\n      <td>0.960</td>\n      <td>0.516841</td>\n      <td>46.610475</td>\n      <td>0.0</td>\n    </tr>\n  </tbody>\n</table>\n</div>"
     },
     "execution_count": 33,
     "metadata": {},
     "output_type": "execute_result"
    }
   ],
   "source": [
    "res = evaluate(\n",
    "    profiles=DMSO_train,\n",
    "    features=features,\n",
    "    meta_features=meta_features,\n",
    "    replicate_groups=['Metadata_Batch_Number'],\n",
    "    operation=\"enrichment\",\n",
    "    similarity_metric=\"pearson\",\n",
    "    enrichment_percentile=p,\n",
    ")\n",
    "res"
   ],
   "metadata": {
    "collapsed": false,
    "pycharm": {
     "name": "#%%\n"
    }
   }
  },
  {
   "cell_type": "code",
   "execution_count": 34,
   "outputs": [],
   "source": [
    "sphere = normalize(\n",
    "    profiles=non,\n",
    "    features=features,\n",
    "    samples=\"Metadata_broad_sample == 'DMSO'\",\n",
    "    method='spherize',\n",
    "    output_file='none'\n",
    ")"
   ],
   "metadata": {
    "collapsed": false,
    "pycharm": {
     "name": "#%%\n"
    }
   }
  },
  {
   "cell_type": "code",
   "execution_count": 43,
   "outputs": [],
   "source": [
    "DMSO_train = sphere[sphere[\"Metadata_broad_sample\"] == \"DMSO\"]\n",
    "DMSO_train = pd.merge(DMSO_train, batch, how=\"left\", on=['Metadata_Plate', 'Metadata_Well'])\n",
    "DMSO_train = DMSO_train.sample(frac=0.2)\n",
    "DMSO_train.shape\n",
    "features = [f for f in DMSO_train.columns if f.startswith(\"eff\")]\n",
    "meta_features=[f for f in DMSO_train.columns if not f.startswith(\"eff\")]"
   ],
   "metadata": {
    "collapsed": false,
    "pycharm": {
     "name": "#%%\n"
    }
   }
  },
  {
   "cell_type": "code",
   "execution_count": 44,
   "outputs": [
    {
     "data": {
      "text/plain": "   enrichment_percentile  threshold   ods_ratio  p-value\n0                  0.995   0.069264  134.323122      0.0\n1                  0.990   0.051536   64.683636      0.0\n2                  0.985   0.045189   43.909474      0.0\n3                  0.980   0.041189   33.987174      0.0\n4                  0.975   0.038360   27.232235      0.0\n5                  0.970   0.036224   22.599750      0.0\n6                  0.965   0.034486   19.285379      0.0\n7                  0.960   0.033013   17.105015      0.0",
      "text/html": "<div>\n<style scoped>\n    .dataframe tbody tr th:only-of-type {\n        vertical-align: middle;\n    }\n\n    .dataframe tbody tr th {\n        vertical-align: top;\n    }\n\n    .dataframe thead th {\n        text-align: right;\n    }\n</style>\n<table border=\"1\" class=\"dataframe\">\n  <thead>\n    <tr style=\"text-align: right;\">\n      <th></th>\n      <th>enrichment_percentile</th>\n      <th>threshold</th>\n      <th>ods_ratio</th>\n      <th>p-value</th>\n    </tr>\n  </thead>\n  <tbody>\n    <tr>\n      <th>0</th>\n      <td>0.995</td>\n      <td>0.069264</td>\n      <td>134.323122</td>\n      <td>0.0</td>\n    </tr>\n    <tr>\n      <th>1</th>\n      <td>0.990</td>\n      <td>0.051536</td>\n      <td>64.683636</td>\n      <td>0.0</td>\n    </tr>\n    <tr>\n      <th>2</th>\n      <td>0.985</td>\n      <td>0.045189</td>\n      <td>43.909474</td>\n      <td>0.0</td>\n    </tr>\n    <tr>\n      <th>3</th>\n      <td>0.980</td>\n      <td>0.041189</td>\n      <td>33.987174</td>\n      <td>0.0</td>\n    </tr>\n    <tr>\n      <th>4</th>\n      <td>0.975</td>\n      <td>0.038360</td>\n      <td>27.232235</td>\n      <td>0.0</td>\n    </tr>\n    <tr>\n      <th>5</th>\n      <td>0.970</td>\n      <td>0.036224</td>\n      <td>22.599750</td>\n      <td>0.0</td>\n    </tr>\n    <tr>\n      <th>6</th>\n      <td>0.965</td>\n      <td>0.034486</td>\n      <td>19.285379</td>\n      <td>0.0</td>\n    </tr>\n    <tr>\n      <th>7</th>\n      <td>0.960</td>\n      <td>0.033013</td>\n      <td>17.105015</td>\n      <td>0.0</td>\n    </tr>\n  </tbody>\n</table>\n</div>"
     },
     "execution_count": 44,
     "metadata": {},
     "output_type": "execute_result"
    }
   ],
   "source": [
    "res = evaluate(\n",
    "    profiles=DMSO_train,\n",
    "    features=features,\n",
    "    meta_features=meta_features,\n",
    "    replicate_groups=['Metadata_Plate'],\n",
    "    operation=\"enrichment\",\n",
    "    similarity_metric=\"pearson\",\n",
    "    enrichment_percentile=p,\n",
    ")\n",
    "res"
   ],
   "metadata": {
    "collapsed": false,
    "pycharm": {
     "name": "#%%\n"
    }
   }
  },
  {
   "cell_type": "code",
   "execution_count": 45,
   "outputs": [
    {
     "data": {
      "text/plain": "   enrichment_percentile  threshold  ods_ratio  p-value\n0                  0.995   0.069264  61.928278      0.0\n1                  0.990   0.051536  13.238270      0.0\n2                  0.985   0.045189   7.460675      0.0\n3                  0.980   0.041189   5.357751      0.0\n4                  0.975   0.038360   4.385099      0.0\n5                  0.970   0.036224   3.775039      0.0\n6                  0.965   0.034486   3.320240      0.0\n7                  0.960   0.033013   3.025243      0.0",
      "text/html": "<div>\n<style scoped>\n    .dataframe tbody tr th:only-of-type {\n        vertical-align: middle;\n    }\n\n    .dataframe tbody tr th {\n        vertical-align: top;\n    }\n\n    .dataframe thead th {\n        text-align: right;\n    }\n</style>\n<table border=\"1\" class=\"dataframe\">\n  <thead>\n    <tr style=\"text-align: right;\">\n      <th></th>\n      <th>enrichment_percentile</th>\n      <th>threshold</th>\n      <th>ods_ratio</th>\n      <th>p-value</th>\n    </tr>\n  </thead>\n  <tbody>\n    <tr>\n      <th>0</th>\n      <td>0.995</td>\n      <td>0.069264</td>\n      <td>61.928278</td>\n      <td>0.0</td>\n    </tr>\n    <tr>\n      <th>1</th>\n      <td>0.990</td>\n      <td>0.051536</td>\n      <td>13.238270</td>\n      <td>0.0</td>\n    </tr>\n    <tr>\n      <th>2</th>\n      <td>0.985</td>\n      <td>0.045189</td>\n      <td>7.460675</td>\n      <td>0.0</td>\n    </tr>\n    <tr>\n      <th>3</th>\n      <td>0.980</td>\n      <td>0.041189</td>\n      <td>5.357751</td>\n      <td>0.0</td>\n    </tr>\n    <tr>\n      <th>4</th>\n      <td>0.975</td>\n      <td>0.038360</td>\n      <td>4.385099</td>\n      <td>0.0</td>\n    </tr>\n    <tr>\n      <th>5</th>\n      <td>0.970</td>\n      <td>0.036224</td>\n      <td>3.775039</td>\n      <td>0.0</td>\n    </tr>\n    <tr>\n      <th>6</th>\n      <td>0.965</td>\n      <td>0.034486</td>\n      <td>3.320240</td>\n      <td>0.0</td>\n    </tr>\n    <tr>\n      <th>7</th>\n      <td>0.960</td>\n      <td>0.033013</td>\n      <td>3.025243</td>\n      <td>0.0</td>\n    </tr>\n  </tbody>\n</table>\n</div>"
     },
     "execution_count": 45,
     "metadata": {},
     "output_type": "execute_result"
    }
   ],
   "source": [
    "res = evaluate(\n",
    "    profiles=DMSO_train,\n",
    "    features=features,\n",
    "    meta_features=meta_features,\n",
    "    replicate_groups=['Metadata_Batch_Number'],\n",
    "    operation=\"enrichment\",\n",
    "    similarity_metric=\"pearson\",\n",
    "    enrichment_percentile=p,\n",
    ")\n",
    "res"
   ],
   "metadata": {
    "collapsed": false,
    "pycharm": {
     "name": "#%%\n"
    }
   }
  },
  {
   "cell_type": "code",
   "execution_count": 45,
   "outputs": [],
   "source": [],
   "metadata": {
    "collapsed": false,
    "pycharm": {
     "name": "#%%\n"
    }
   }
  },
  {
   "cell_type": "code",
   "execution_count": 42,
   "outputs": [
    {
     "ename": "KeyError",
     "evalue": "\"['Unnamed: 0'] not in index\"",
     "output_type": "error",
     "traceback": [
      "\u001B[0;31m---------------------------------------------------------------------------\u001B[0m",
      "\u001B[0;31mKeyError\u001B[0m                                  Traceback (most recent call last)",
      "\u001B[0;32m<ipython-input-42-2923e9bf7117>\u001B[0m in \u001B[0;36m<module>\u001B[0;34m\u001B[0m\n\u001B[0;32m----> 1\u001B[0;31m \u001B[0mDMSO_train\u001B[0m\u001B[0;34m[\u001B[0m\u001B[0mmeta_features\u001B[0m\u001B[0;34m]\u001B[0m\u001B[0;34m\u001B[0m\u001B[0;34m\u001B[0m\u001B[0m\n\u001B[0m\u001B[1;32m      2\u001B[0m \u001B[0;34m\u001B[0m\u001B[0m\n\u001B[1;32m      3\u001B[0m \u001B[0;34m\u001B[0m\u001B[0m\n",
      "\u001B[0;32m~/miniconda3/envs/cyto_eval/lib/python3.7/site-packages/pandas/core/frame.py\u001B[0m in \u001B[0;36m__getitem__\u001B[0;34m(self, key)\u001B[0m\n\u001B[1;32m   3028\u001B[0m             \u001B[0;32mif\u001B[0m \u001B[0mis_iterator\u001B[0m\u001B[0;34m(\u001B[0m\u001B[0mkey\u001B[0m\u001B[0;34m)\u001B[0m\u001B[0;34m:\u001B[0m\u001B[0;34m\u001B[0m\u001B[0;34m\u001B[0m\u001B[0m\n\u001B[1;32m   3029\u001B[0m                 \u001B[0mkey\u001B[0m \u001B[0;34m=\u001B[0m \u001B[0mlist\u001B[0m\u001B[0;34m(\u001B[0m\u001B[0mkey\u001B[0m\u001B[0;34m)\u001B[0m\u001B[0;34m\u001B[0m\u001B[0;34m\u001B[0m\u001B[0m\n\u001B[0;32m-> 3030\u001B[0;31m             \u001B[0mindexer\u001B[0m \u001B[0;34m=\u001B[0m \u001B[0mself\u001B[0m\u001B[0;34m.\u001B[0m\u001B[0mloc\u001B[0m\u001B[0;34m.\u001B[0m\u001B[0m_get_listlike_indexer\u001B[0m\u001B[0;34m(\u001B[0m\u001B[0mkey\u001B[0m\u001B[0;34m,\u001B[0m \u001B[0maxis\u001B[0m\u001B[0;34m=\u001B[0m\u001B[0;36m1\u001B[0m\u001B[0;34m,\u001B[0m \u001B[0mraise_missing\u001B[0m\u001B[0;34m=\u001B[0m\u001B[0;32mTrue\u001B[0m\u001B[0;34m)\u001B[0m\u001B[0;34m[\u001B[0m\u001B[0;36m1\u001B[0m\u001B[0;34m]\u001B[0m\u001B[0;34m\u001B[0m\u001B[0;34m\u001B[0m\u001B[0m\n\u001B[0m\u001B[1;32m   3031\u001B[0m \u001B[0;34m\u001B[0m\u001B[0m\n\u001B[1;32m   3032\u001B[0m         \u001B[0;31m# take() does not accept boolean indexers\u001B[0m\u001B[0;34m\u001B[0m\u001B[0;34m\u001B[0m\u001B[0;34m\u001B[0m\u001B[0m\n",
      "\u001B[0;32m~/miniconda3/envs/cyto_eval/lib/python3.7/site-packages/pandas/core/indexing.py\u001B[0m in \u001B[0;36m_get_listlike_indexer\u001B[0;34m(self, key, axis, raise_missing)\u001B[0m\n\u001B[1;32m   1263\u001B[0m             \u001B[0mkeyarr\u001B[0m\u001B[0;34m,\u001B[0m \u001B[0mindexer\u001B[0m\u001B[0;34m,\u001B[0m \u001B[0mnew_indexer\u001B[0m \u001B[0;34m=\u001B[0m \u001B[0max\u001B[0m\u001B[0;34m.\u001B[0m\u001B[0m_reindex_non_unique\u001B[0m\u001B[0;34m(\u001B[0m\u001B[0mkeyarr\u001B[0m\u001B[0;34m)\u001B[0m\u001B[0;34m\u001B[0m\u001B[0;34m\u001B[0m\u001B[0m\n\u001B[1;32m   1264\u001B[0m \u001B[0;34m\u001B[0m\u001B[0m\n\u001B[0;32m-> 1265\u001B[0;31m         \u001B[0mself\u001B[0m\u001B[0;34m.\u001B[0m\u001B[0m_validate_read_indexer\u001B[0m\u001B[0;34m(\u001B[0m\u001B[0mkeyarr\u001B[0m\u001B[0;34m,\u001B[0m \u001B[0mindexer\u001B[0m\u001B[0;34m,\u001B[0m \u001B[0maxis\u001B[0m\u001B[0;34m,\u001B[0m \u001B[0mraise_missing\u001B[0m\u001B[0;34m=\u001B[0m\u001B[0mraise_missing\u001B[0m\u001B[0;34m)\u001B[0m\u001B[0;34m\u001B[0m\u001B[0;34m\u001B[0m\u001B[0m\n\u001B[0m\u001B[1;32m   1266\u001B[0m         \u001B[0;32mreturn\u001B[0m \u001B[0mkeyarr\u001B[0m\u001B[0;34m,\u001B[0m \u001B[0mindexer\u001B[0m\u001B[0;34m\u001B[0m\u001B[0;34m\u001B[0m\u001B[0m\n\u001B[1;32m   1267\u001B[0m \u001B[0;34m\u001B[0m\u001B[0m\n",
      "\u001B[0;32m~/miniconda3/envs/cyto_eval/lib/python3.7/site-packages/pandas/core/indexing.py\u001B[0m in \u001B[0;36m_validate_read_indexer\u001B[0;34m(self, key, indexer, axis, raise_missing)\u001B[0m\n\u001B[1;32m   1313\u001B[0m             \u001B[0;32mif\u001B[0m \u001B[0mraise_missing\u001B[0m\u001B[0;34m:\u001B[0m\u001B[0;34m\u001B[0m\u001B[0;34m\u001B[0m\u001B[0m\n\u001B[1;32m   1314\u001B[0m                 \u001B[0mnot_found\u001B[0m \u001B[0;34m=\u001B[0m \u001B[0mlist\u001B[0m\u001B[0;34m(\u001B[0m\u001B[0mset\u001B[0m\u001B[0;34m(\u001B[0m\u001B[0mkey\u001B[0m\u001B[0;34m)\u001B[0m \u001B[0;34m-\u001B[0m \u001B[0mset\u001B[0m\u001B[0;34m(\u001B[0m\u001B[0max\u001B[0m\u001B[0;34m)\u001B[0m\u001B[0;34m)\u001B[0m\u001B[0;34m\u001B[0m\u001B[0;34m\u001B[0m\u001B[0m\n\u001B[0;32m-> 1315\u001B[0;31m                 \u001B[0;32mraise\u001B[0m \u001B[0mKeyError\u001B[0m\u001B[0;34m(\u001B[0m\u001B[0;34mf\"{not_found} not in index\"\u001B[0m\u001B[0;34m)\u001B[0m\u001B[0;34m\u001B[0m\u001B[0;34m\u001B[0m\u001B[0m\n\u001B[0m\u001B[1;32m   1316\u001B[0m \u001B[0;34m\u001B[0m\u001B[0m\n\u001B[1;32m   1317\u001B[0m             \u001B[0mnot_found\u001B[0m \u001B[0;34m=\u001B[0m \u001B[0mkey\u001B[0m\u001B[0;34m[\u001B[0m\u001B[0mmissing_mask\u001B[0m\u001B[0;34m]\u001B[0m\u001B[0;34m\u001B[0m\u001B[0;34m\u001B[0m\u001B[0m\n",
      "\u001B[0;31mKeyError\u001B[0m: \"['Unnamed: 0'] not in index\""
     ]
    }
   ],
   "source": [],
   "metadata": {
    "collapsed": false,
    "pycharm": {
     "name": "#%%\n"
    }
   }
  },
  {
   "cell_type": "code",
   "execution_count": null,
   "outputs": [],
   "source": [],
   "metadata": {
    "collapsed": false,
    "pycharm": {
     "name": "#%%\n"
    }
   }
  }
 ],
 "metadata": {
  "kernelspec": {
   "display_name": "Python 3",
   "language": "python",
   "name": "python3"
  },
  "language_info": {
   "codemirror_mode": {
    "name": "ipython",
    "version": 2
   },
   "file_extension": ".py",
   "mimetype": "text/x-python",
   "name": "python",
   "nbconvert_exporter": "python",
   "pygments_lexer": "ipython2",
   "version": "2.7.6"
  }
 },
 "nbformat": 4,
 "nbformat_minor": 0
}