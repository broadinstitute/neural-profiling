{
 "cells": [
  {
   "cell_type": "code",
   "execution_count": 1,
   "metadata": {
    "collapsed": true
   },
   "outputs": [],
   "source": [
    "import pandas as pd\n",
    "import numpy as np\n",
    "import matplotlib.pyplot as plt\n",
    "from pycytominer import aggregate, annotate, normalize, feature_select, cyto_utils\n",
    "from cytominer_eval import evaluate\n",
    "from cytominer_eval.transform import metric_melt\n",
    "from pycytominer.cyto_utils import infer_cp_features\n",
    "import seaborn as sns\n",
    "from sklearn.decomposition import PCA\n",
    "import sys\n",
    "sys.path.insert(0, \"/Users/mbornhol/git/neural-profiling\")\n",
    "from utils import eval"
   ]
  },
  {
   "cell_type": "code",
   "execution_count": 2,
   "outputs": [],
   "source": [
    "index = pd.read_csv(\"../00_index.csv\")"
   ],
   "metadata": {
    "collapsed": false,
    "pycharm": {
     "name": "#%%\n"
    }
   }
  },
  {
   "cell_type": "markdown",
   "source": [
    "# Unknown level 3. Prob raw CP data\n",
    "Whatever is in\n",
    "data_loc = '/Users/mbornhol/git/lincs-cell-painting/profiles/2016_04_01_a549_48hr_batch1/'"
   ],
   "metadata": {
    "collapsed": false,
    "pycharm": {
     "name": "#%% md\n"
    }
   }
  },
  {
   "cell_type": "code",
   "execution_count": 3,
   "outputs": [
    {
     "name": "stderr",
     "output_type": "stream",
     "text": [
      "/Users/mbornhol/miniconda3/envs/cyto_eval/lib/python3.7/site-packages/IPython/core/interactiveshell.py:3166: DtypeWarning: Columns (23,24) have mixed types.Specify dtype option on import or set low_memory=False.\n",
      "  interactivity=interactivity, compiler=compiler, result=result)\n"
     ]
    }
   ],
   "source": [
    "full = pd.read_csv('/Users/mbornhol/git/neural-profiling/baseline/01_data/level_3_data/full_level3.csv')\n",
    "df_sub = pd.merge(full, index, how=\"outer\", on=[\"Metadata_Plate\", \"Metadata_Well\"], indicator=True)\n",
    "unk = full[df_sub._merge == \"both\"]"
   ],
   "metadata": {
    "collapsed": false,
    "pycharm": {
     "name": "#%%\n"
    }
   }
  },
  {
   "cell_type": "code",
   "execution_count": null,
   "outputs": [],
   "source": [
    "res = evaluate(\n",
    "    profiles=unk.sample(frac=0.2),\n",
    "    features=infer_cp_features(unk),\n",
    "    meta_features=infer_cp_features(unk, metadata=True),\n",
    "    replicate_groups=['Metadata_Well'],\n",
    "    operation=\"enrichment\",\n",
    "    similarity_metric=\"pearson\",\n",
    "    enrichment_percentile=[0.995],\n",
    ")\n",
    "res"
   ],
   "metadata": {
    "collapsed": false,
    "pycharm": {
     "name": "#%%\n"
    }
   }
  },
  {
   "cell_type": "code",
   "execution_count": 10,
   "outputs": [],
   "source": [
    "# ONly DMSOs\n",
    "unk_dmso = unk[unk[\"Metadata_broad_sample\"] == \"DMSO\"]"
   ],
   "metadata": {
    "collapsed": false,
    "pycharm": {
     "name": "#%%\n"
    }
   }
  },
  {
   "cell_type": "code",
   "execution_count": 6,
   "outputs": [
    {
     "data": {
      "text/plain": "   enrichment_percentile  threshold  ods_ratio       p-value\n0                  0.995   0.999912   1.389905  6.224012e-17",
      "text/html": "<div>\n<style scoped>\n    .dataframe tbody tr th:only-of-type {\n        vertical-align: middle;\n    }\n\n    .dataframe tbody tr th {\n        vertical-align: top;\n    }\n\n    .dataframe thead th {\n        text-align: right;\n    }\n</style>\n<table border=\"1\" class=\"dataframe\">\n  <thead>\n    <tr style=\"text-align: right;\">\n      <th></th>\n      <th>enrichment_percentile</th>\n      <th>threshold</th>\n      <th>ods_ratio</th>\n      <th>p-value</th>\n    </tr>\n  </thead>\n  <tbody>\n    <tr>\n      <th>0</th>\n      <td>0.995</td>\n      <td>0.999912</td>\n      <td>1.389905</td>\n      <td>6.224012e-17</td>\n    </tr>\n  </tbody>\n</table>\n</div>"
     },
     "execution_count": 6,
     "metadata": {},
     "output_type": "execute_result"
    }
   ],
   "source": [
    "res = evaluate(\n",
    "    profiles=_.sample(frac=0.5),\n",
    "    features=infer_cp_features(unk),\n",
    "    meta_features=infer_cp_features(unk, metadata=True),\n",
    "    replicate_groups=['Metadata_Well'],\n",
    "    operation=\"enrichment\",\n",
    "    similarity_metric=\"pearson\",\n",
    "    enrichment_percentile=[0.995],\n",
    ")\n",
    "res"
   ],
   "metadata": {
    "collapsed": false,
    "pycharm": {
     "name": "#%%\n"
    }
   }
  },
  {
   "cell_type": "code",
   "execution_count": 11,
   "outputs": [
    {
     "data": {
      "text/plain": "   enrichment_percentile  threshold  ods_ratio        p-value\n0                  0.995   0.999911   5.578862  2.139227e-190",
      "text/html": "<div>\n<style scoped>\n    .dataframe tbody tr th:only-of-type {\n        vertical-align: middle;\n    }\n\n    .dataframe tbody tr th {\n        vertical-align: top;\n    }\n\n    .dataframe thead th {\n        text-align: right;\n    }\n</style>\n<table border=\"1\" class=\"dataframe\">\n  <thead>\n    <tr style=\"text-align: right;\">\n      <th></th>\n      <th>enrichment_percentile</th>\n      <th>threshold</th>\n      <th>ods_ratio</th>\n      <th>p-value</th>\n    </tr>\n  </thead>\n  <tbody>\n    <tr>\n      <th>0</th>\n      <td>0.995</td>\n      <td>0.999911</td>\n      <td>5.578862</td>\n      <td>2.139227e-190</td>\n    </tr>\n  </tbody>\n</table>\n</div>"
     },
     "execution_count": 11,
     "metadata": {},
     "output_type": "execute_result"
    }
   ],
   "source": [
    "res = evaluate(\n",
    "    profiles=unk_dmso.sample(frac=0.5),\n",
    "    features=infer_cp_features(unk),\n",
    "    meta_features=infer_cp_features(unk, metadata=True),\n",
    "    replicate_groups=['Metadata_Plate'],\n",
    "    operation=\"enrichment\",\n",
    "    similarity_metric=\"pearson\",\n",
    "    enrichment_percentile=[0.995],\n",
    ")\n",
    "res"
   ],
   "metadata": {
    "collapsed": false,
    "pycharm": {
     "name": "#%%\n"
    }
   }
  },
  {
   "cell_type": "code",
   "execution_count": 12,
   "outputs": [
    {
     "data": {
      "text/plain": "   enrichment_percentile  threshold  ods_ratio  p-value\n0                  0.995   0.999912   3.445542      0.0",
      "text/html": "<div>\n<style scoped>\n    .dataframe tbody tr th:only-of-type {\n        vertical-align: middle;\n    }\n\n    .dataframe tbody tr th {\n        vertical-align: top;\n    }\n\n    .dataframe thead th {\n        text-align: right;\n    }\n</style>\n<table border=\"1\" class=\"dataframe\">\n  <thead>\n    <tr style=\"text-align: right;\">\n      <th></th>\n      <th>enrichment_percentile</th>\n      <th>threshold</th>\n      <th>ods_ratio</th>\n      <th>p-value</th>\n    </tr>\n  </thead>\n  <tbody>\n    <tr>\n      <th>0</th>\n      <td>0.995</td>\n      <td>0.999912</td>\n      <td>3.445542</td>\n      <td>0.0</td>\n    </tr>\n  </tbody>\n</table>\n</div>"
     },
     "execution_count": 12,
     "metadata": {},
     "output_type": "execute_result"
    }
   ],
   "source": [
    "res = evaluate(\n",
    "    profiles=unk_dmso.sample(frac=0.5),\n",
    "    features=infer_cp_features(unk),\n",
    "    meta_features=infer_cp_features(unk, metadata=True),\n",
    "    replicate_groups=['Metadata_Batch_Number'],\n",
    "    operation=\"enrichment\",\n",
    "    similarity_metric=\"pearson\",\n",
    "    enrichment_percentile=[0.995],\n",
    ")\n",
    "res\n"
   ],
   "metadata": {
    "collapsed": false,
    "pycharm": {
     "name": "#%%\n"
    }
   }
  },
  {
   "cell_type": "markdown",
   "source": [
    "# pretrained"
   ],
   "metadata": {
    "collapsed": false,
    "pycharm": {
     "name": "#%% md\n"
    }
   }
  },
  {
   "cell_type": "code",
   "execution_count": 13,
   "outputs": [],
   "source": [
    "eff = pd.read_csv('/Users/mbornhol/git/neural-profiling/00_thesis/pre_trained/aggregated_efficientnet_median.csv', low_memory=False)"
   ],
   "metadata": {
    "collapsed": false,
    "pycharm": {
     "name": "#%%\n"
    }
   }
  },
  {
   "cell_type": "code",
   "execution_count": 14,
   "outputs": [
    {
     "name": "stderr",
     "output_type": "stream",
     "text": [
      "/Users/mbornhol/miniconda3/envs/cyto_eval/lib/python3.7/site-packages/ipykernel_launcher.py:2: UserWarning: Boolean Series key will be reindexed to match DataFrame index.\n",
      "  \n"
     ]
    },
    {
     "data": {
      "text/plain": "(8733, 6418)"
     },
     "execution_count": 14,
     "metadata": {},
     "output_type": "execute_result"
    }
   ],
   "source": [
    "merge = pd.merge(eff, index, how=\"outer\", on=[\"Metadata_Plate\", \"Metadata_Well\"], indicator=True)\n",
    "df = eff[merge._merge == \"both\"]\n",
    "df.shape"
   ],
   "metadata": {
    "collapsed": false,
    "pycharm": {
     "name": "#%%\n"
    }
   }
  },
  {
   "cell_type": "code",
   "execution_count": 15,
   "outputs": [],
   "source": [
    "features = [f for f in df.columns if f.startswith(\"eff\")]"
   ],
   "metadata": {
    "collapsed": false,
    "pycharm": {
     "name": "#%%\n"
    }
   }
  },
  {
   "cell_type": "code",
   "execution_count": 46,
   "outputs": [],
   "source": [
    "sphere = normalize(\n",
    "    profiles=df,\n",
    "    features=features,\n",
    "    samples=\"Metadata_broad_sample == 'DMSO'\",\n",
    "    method='spherize',\n",
    "    output_file='none'\n",
    ")"
   ],
   "metadata": {
    "collapsed": false,
    "pycharm": {
     "name": "#%%\n"
    }
   }
  },
  {
   "cell_type": "code",
   "execution_count": 66,
   "outputs": [
    {
     "data": {
      "text/plain": "   enrichment_percentile  threshold  ods_ratio        p-value\n0                  0.995   0.996716   3.071389  1.140804e-111",
      "text/html": "<div>\n<style scoped>\n    .dataframe tbody tr th:only-of-type {\n        vertical-align: middle;\n    }\n\n    .dataframe tbody tr th {\n        vertical-align: top;\n    }\n\n    .dataframe thead th {\n        text-align: right;\n    }\n</style>\n<table border=\"1\" class=\"dataframe\">\n  <thead>\n    <tr style=\"text-align: right;\">\n      <th></th>\n      <th>enrichment_percentile</th>\n      <th>threshold</th>\n      <th>ods_ratio</th>\n      <th>p-value</th>\n    </tr>\n  </thead>\n  <tbody>\n    <tr>\n      <th>0</th>\n      <td>0.995</td>\n      <td>0.996716</td>\n      <td>3.071389</td>\n      <td>1.140804e-111</td>\n    </tr>\n  </tbody>\n</table>\n</div>"
     },
     "execution_count": 66,
     "metadata": {},
     "output_type": "execute_result"
    }
   ],
   "source": [
    "df = df.sample(frac=0.2)\n",
    "res = evaluate(\n",
    "    profiles=df,\n",
    "    features=features,\n",
    "    meta_features=[f for f in df.columns if not f.startswith(\"eff\")],\n",
    "    replicate_groups=['Metadata_Well'],\n",
    "    operation=\"enrichment\",\n",
    "    similarity_metric=\"pearson\",\n",
    "    enrichment_percentile=[0.995],\n",
    ")\n",
    "res"
   ],
   "metadata": {
    "collapsed": false,
    "pycharm": {
     "name": "#%%\n"
    }
   }
  },
  {
   "cell_type": "code",
   "execution_count": 53,
   "outputs": [
    {
     "data": {
      "text/plain": "   enrichment_percentile  threshold  ods_ratio       p-value\n0                  0.995   0.329309   4.061539  6.270812e-54",
      "text/html": "<div>\n<style scoped>\n    .dataframe tbody tr th:only-of-type {\n        vertical-align: middle;\n    }\n\n    .dataframe tbody tr th {\n        vertical-align: top;\n    }\n\n    .dataframe thead th {\n        text-align: right;\n    }\n</style>\n<table border=\"1\" class=\"dataframe\">\n  <thead>\n    <tr style=\"text-align: right;\">\n      <th></th>\n      <th>enrichment_percentile</th>\n      <th>threshold</th>\n      <th>ods_ratio</th>\n      <th>p-value</th>\n    </tr>\n  </thead>\n  <tbody>\n    <tr>\n      <th>0</th>\n      <td>0.995</td>\n      <td>0.329309</td>\n      <td>4.061539</td>\n      <td>6.270812e-54</td>\n    </tr>\n  </tbody>\n</table>\n</div>"
     },
     "execution_count": 53,
     "metadata": {},
     "output_type": "execute_result"
    }
   ],
   "source": [
    "df = sphere.sample(frac=1)\n",
    "res = evaluate(\n",
    "    profiles=df,\n",
    "    features=features,\n",
    "    meta_features=[f for f in df.columns if not f.startswith(\"eff\")],\n",
    "    replicate_groups=['Metadata_Well'],\n",
    "    operation=\"enrichment\",\n",
    "    similarity_metric=\"pearson\",\n",
    "    enrichment_percentile=[0.995],\n",
    ")\n",
    "res"
   ],
   "metadata": {
    "collapsed": false,
    "pycharm": {
     "name": "#%%\n"
    }
   }
  },
  {
   "cell_type": "code",
   "execution_count": null,
   "outputs": [],
   "source": [],
   "metadata": {
    "collapsed": false,
    "pycharm": {
     "name": "#%%\n"
    }
   }
  },
  {
   "cell_type": "code",
   "execution_count": 16,
   "outputs": [],
   "source": [
    "# ONly DMSOs\n",
    "pre_dmso = df[df[\"Metadata_broad_sample\"] == \"DMSO\"]"
   ],
   "metadata": {
    "collapsed": false,
    "pycharm": {
     "name": "#%%\n"
    }
   }
  },
  {
   "cell_type": "code",
   "execution_count": 20,
   "outputs": [
    {
     "data": {
      "text/plain": "   enrichment_percentile  threshold  ods_ratio       p-value\n0                  0.995   0.997541   2.102206  3.691406e-99",
      "text/html": "<div>\n<style scoped>\n    .dataframe tbody tr th:only-of-type {\n        vertical-align: middle;\n    }\n\n    .dataframe tbody tr th {\n        vertical-align: top;\n    }\n\n    .dataframe thead th {\n        text-align: right;\n    }\n</style>\n<table border=\"1\" class=\"dataframe\">\n  <thead>\n    <tr style=\"text-align: right;\">\n      <th></th>\n      <th>enrichment_percentile</th>\n      <th>threshold</th>\n      <th>ods_ratio</th>\n      <th>p-value</th>\n    </tr>\n  </thead>\n  <tbody>\n    <tr>\n      <th>0</th>\n      <td>0.995</td>\n      <td>0.997541</td>\n      <td>2.102206</td>\n      <td>3.691406e-99</td>\n    </tr>\n  </tbody>\n</table>\n</div>"
     },
     "execution_count": 20,
     "metadata": {},
     "output_type": "execute_result"
    }
   ],
   "source": [
    "res = evaluate(\n",
    "    profiles=pre_dmso.sample(frac=0.5),\n",
    "    features=features,\n",
    "    meta_features=[f for f in df.columns if not f.startswith(\"eff\")],\n",
    "    replicate_groups=['Metadata_Well'],\n",
    "    operation=\"enrichment\",\n",
    "    similarity_metric=\"pearson\",\n",
    "    enrichment_percentile=[0.995],\n",
    ")\n",
    "res"
   ],
   "metadata": {
    "collapsed": false,
    "pycharm": {
     "name": "#%%\n"
    }
   }
  },
  {
   "cell_type": "code",
   "execution_count": 21,
   "outputs": [
    {
     "data": {
      "text/plain": "   enrichment_percentile  threshold  ods_ratio  p-value\n0                  0.995    0.99752  58.094764      0.0",
      "text/html": "<div>\n<style scoped>\n    .dataframe tbody tr th:only-of-type {\n        vertical-align: middle;\n    }\n\n    .dataframe tbody tr th {\n        vertical-align: top;\n    }\n\n    .dataframe thead th {\n        text-align: right;\n    }\n</style>\n<table border=\"1\" class=\"dataframe\">\n  <thead>\n    <tr style=\"text-align: right;\">\n      <th></th>\n      <th>enrichment_percentile</th>\n      <th>threshold</th>\n      <th>ods_ratio</th>\n      <th>p-value</th>\n    </tr>\n  </thead>\n  <tbody>\n    <tr>\n      <th>0</th>\n      <td>0.995</td>\n      <td>0.99752</td>\n      <td>58.094764</td>\n      <td>0.0</td>\n    </tr>\n  </tbody>\n</table>\n</div>"
     },
     "execution_count": 21,
     "metadata": {},
     "output_type": "execute_result"
    }
   ],
   "source": [
    "res = evaluate(\n",
    "    profiles=pre_dmso.sample(frac=0.5),\n",
    "    features=features,\n",
    "    meta_features=[f for f in df.columns if not f.startswith(\"eff\")],\n",
    "    replicate_groups=['Metadata_Plate'],\n",
    "    operation=\"enrichment\",\n",
    "    similarity_metric=\"pearson\",\n",
    "    enrichment_percentile=[0.995],\n",
    ")\n",
    "res"
   ],
   "metadata": {
    "collapsed": false,
    "pycharm": {
     "name": "#%%\n"
    }
   }
  },
  {
   "cell_type": "code",
   "execution_count": 22,
   "outputs": [
    {
     "ename": "AssertionError",
     "evalue": "replicate_group not found in melted dataframe columns",
     "output_type": "error",
     "traceback": [
      "\u001B[0;31m---------------------------------------------------------------------------\u001B[0m",
      "\u001B[0;31mAssertionError\u001B[0m                            Traceback (most recent call last)",
      "\u001B[0;32m<ipython-input-22-675eb038fd2b>\u001B[0m in \u001B[0;36m<module>\u001B[0;34m\u001B[0m\n\u001B[1;32m      6\u001B[0m     \u001B[0moperation\u001B[0m\u001B[0;34m=\u001B[0m\u001B[0;34m\"enrichment\"\u001B[0m\u001B[0;34m,\u001B[0m\u001B[0;34m\u001B[0m\u001B[0;34m\u001B[0m\u001B[0m\n\u001B[1;32m      7\u001B[0m     \u001B[0msimilarity_metric\u001B[0m\u001B[0;34m=\u001B[0m\u001B[0;34m\"pearson\"\u001B[0m\u001B[0;34m,\u001B[0m\u001B[0;34m\u001B[0m\u001B[0;34m\u001B[0m\u001B[0m\n\u001B[0;32m----> 8\u001B[0;31m     \u001B[0menrichment_percentile\u001B[0m\u001B[0;34m=\u001B[0m\u001B[0;34m[\u001B[0m\u001B[0;36m0.995\u001B[0m\u001B[0;34m]\u001B[0m\u001B[0;34m,\u001B[0m\u001B[0;34m\u001B[0m\u001B[0;34m\u001B[0m\u001B[0m\n\u001B[0m\u001B[1;32m      9\u001B[0m )\n\u001B[1;32m     10\u001B[0m \u001B[0mres\u001B[0m\u001B[0;34m\u001B[0m\u001B[0;34m\u001B[0m\u001B[0m\n",
      "\u001B[0;32m~/miniconda3/envs/cyto_eval/lib/python3.7/site-packages/cytominer_eval/evaluate.py\u001B[0m in \u001B[0;36mevaluate\u001B[0;34m(profiles, features, meta_features, replicate_groups, operation, groupby_columns, similarity_metric, replicate_reproducibility_quantile, replicate_reproducibility_return_median_cor, precision_recall_k, grit_control_perts, grit_replicate_summary_method, mp_value_params, enrichment_percentile, hitk_percent_list)\u001B[0m\n\u001B[1;32m    168\u001B[0m             \u001B[0msimilarity_melted_df\u001B[0m\u001B[0;34m=\u001B[0m\u001B[0msimilarity_melted_df\u001B[0m\u001B[0;34m,\u001B[0m\u001B[0;34m\u001B[0m\u001B[0;34m\u001B[0m\u001B[0m\n\u001B[1;32m    169\u001B[0m             \u001B[0mreplicate_groups\u001B[0m\u001B[0;34m=\u001B[0m\u001B[0mreplicate_groups\u001B[0m\u001B[0;34m,\u001B[0m\u001B[0;34m\u001B[0m\u001B[0;34m\u001B[0m\u001B[0m\n\u001B[0;32m--> 170\u001B[0;31m             \u001B[0mpercentile\u001B[0m\u001B[0;34m=\u001B[0m\u001B[0menrichment_percentile\u001B[0m\u001B[0;34m,\u001B[0m\u001B[0;34m\u001B[0m\u001B[0;34m\u001B[0m\u001B[0m\n\u001B[0m\u001B[1;32m    171\u001B[0m         )\n\u001B[1;32m    172\u001B[0m     \u001B[0;32melif\u001B[0m \u001B[0moperation\u001B[0m \u001B[0;34m==\u001B[0m \u001B[0;34m\"hitk\"\u001B[0m\u001B[0;34m:\u001B[0m\u001B[0;34m\u001B[0m\u001B[0;34m\u001B[0m\u001B[0m\n",
      "\u001B[0;32m~/miniconda3/envs/cyto_eval/lib/python3.7/site-packages/cytominer_eval/operations/enrichment.py\u001B[0m in \u001B[0;36menrichment\u001B[0;34m(similarity_melted_df, replicate_groups, percentile)\u001B[0m\n\u001B[1;32m     38\u001B[0m     \u001B[0mresult\u001B[0m \u001B[0;34m=\u001B[0m \u001B[0;34m[\u001B[0m\u001B[0;34m]\u001B[0m\u001B[0;34m\u001B[0m\u001B[0;34m\u001B[0m\u001B[0m\n\u001B[1;32m     39\u001B[0m     replicate_truth_df = assign_replicates(\n\u001B[0;32m---> 40\u001B[0;31m         \u001B[0msimilarity_melted_df\u001B[0m\u001B[0;34m=\u001B[0m\u001B[0msimilarity_melted_df\u001B[0m\u001B[0;34m,\u001B[0m \u001B[0mreplicate_groups\u001B[0m\u001B[0;34m=\u001B[0m\u001B[0mreplicate_groups\u001B[0m\u001B[0;34m\u001B[0m\u001B[0;34m\u001B[0m\u001B[0m\n\u001B[0m\u001B[1;32m     41\u001B[0m     )\n\u001B[1;32m     42\u001B[0m     \u001B[0;31m# loop over all percentiles\u001B[0m\u001B[0;34m\u001B[0m\u001B[0;34m\u001B[0m\u001B[0;34m\u001B[0m\u001B[0m\n",
      "\u001B[0;32m~/miniconda3/envs/cyto_eval/lib/python3.7/site-packages/cytominer_eval/utils/operation_utils.py\u001B[0m in \u001B[0;36massign_replicates\u001B[0;34m(similarity_melted_df, replicate_groups)\u001B[0m\n\u001B[1;32m     49\u001B[0m         assert all(\n\u001B[1;32m     50\u001B[0m             \u001B[0;34m[\u001B[0m\u001B[0mx\u001B[0m \u001B[0;32min\u001B[0m \u001B[0msimilarity_melted_df\u001B[0m\u001B[0;34m.\u001B[0m\u001B[0mcolumns\u001B[0m \u001B[0;32mfor\u001B[0m \u001B[0mx\u001B[0m \u001B[0;32min\u001B[0m \u001B[0mreplicate_cols_with_suffix\u001B[0m\u001B[0;34m]\u001B[0m\u001B[0;34m\u001B[0m\u001B[0;34m\u001B[0m\u001B[0m\n\u001B[0;32m---> 51\u001B[0;31m         ), \"replicate_group not found in melted dataframe columns\"\n\u001B[0m\u001B[1;32m     52\u001B[0m \u001B[0;34m\u001B[0m\u001B[0m\n\u001B[1;32m     53\u001B[0m         \u001B[0mreplicate_col_name\u001B[0m \u001B[0;34m=\u001B[0m \u001B[0mreplicate_col_names\u001B[0m\u001B[0;34m[\u001B[0m\u001B[0mreplicate_col\u001B[0m\u001B[0;34m]\u001B[0m\u001B[0;34m\u001B[0m\u001B[0;34m\u001B[0m\u001B[0m\n",
      "\u001B[0;31mAssertionError\u001B[0m: replicate_group not found in melted dataframe columns"
     ]
    }
   ],
   "source": [
    "res = evaluate(\n",
    "    profiles=pre_dmso.sample(frac=0.5),\n",
    "    features=features,\n",
    "    meta_features=[f for f in df.columns if not f.startswith(\"eff\")],\n",
    "    replicate_groups=['Metadata_Batch_Number'],\n",
    "    operation=\"enrichment\",\n",
    "    similarity_metric=\"pearson\",\n",
    "    enrichment_percentile=[0.995],\n",
    ")\n",
    "res"
   ],
   "metadata": {
    "collapsed": false,
    "pycharm": {
     "name": "#%%\n"
    }
   }
  },
  {
   "cell_type": "code",
   "execution_count": 24,
   "outputs": [
    {
     "ename": "AttributeError",
     "evalue": "'DataFrame' object has no attribute 'Metadata_Batch_Number'",
     "output_type": "error",
     "traceback": [
      "\u001B[0;31m---------------------------------------------------------------------------\u001B[0m",
      "\u001B[0;31mAttributeError\u001B[0m                            Traceback (most recent call last)",
      "\u001B[0;32m<ipython-input-24-cf3939ff4c35>\u001B[0m in \u001B[0;36m<module>\u001B[0;34m\u001B[0m\n\u001B[0;32m----> 1\u001B[0;31m \u001B[0mpre_dmso\u001B[0m\u001B[0;34m.\u001B[0m\u001B[0mMetadata_Batch_Number\u001B[0m\u001B[0;34m\u001B[0m\u001B[0;34m\u001B[0m\u001B[0m\n\u001B[0m",
      "\u001B[0;32m~/miniconda3/envs/cyto_eval/lib/python3.7/site-packages/pandas/core/generic.py\u001B[0m in \u001B[0;36m__getattr__\u001B[0;34m(self, name)\u001B[0m\n\u001B[1;32m   5458\u001B[0m             \u001B[0;32mif\u001B[0m \u001B[0mself\u001B[0m\u001B[0;34m.\u001B[0m\u001B[0m_info_axis\u001B[0m\u001B[0;34m.\u001B[0m\u001B[0m_can_hold_identifiers_and_holds_name\u001B[0m\u001B[0;34m(\u001B[0m\u001B[0mname\u001B[0m\u001B[0;34m)\u001B[0m\u001B[0;34m:\u001B[0m\u001B[0;34m\u001B[0m\u001B[0;34m\u001B[0m\u001B[0m\n\u001B[1;32m   5459\u001B[0m                 \u001B[0;32mreturn\u001B[0m \u001B[0mself\u001B[0m\u001B[0;34m[\u001B[0m\u001B[0mname\u001B[0m\u001B[0;34m]\u001B[0m\u001B[0;34m\u001B[0m\u001B[0;34m\u001B[0m\u001B[0m\n\u001B[0;32m-> 5460\u001B[0;31m             \u001B[0;32mreturn\u001B[0m \u001B[0mobject\u001B[0m\u001B[0;34m.\u001B[0m\u001B[0m__getattribute__\u001B[0m\u001B[0;34m(\u001B[0m\u001B[0mself\u001B[0m\u001B[0;34m,\u001B[0m \u001B[0mname\u001B[0m\u001B[0;34m)\u001B[0m\u001B[0;34m\u001B[0m\u001B[0;34m\u001B[0m\u001B[0m\n\u001B[0m\u001B[1;32m   5461\u001B[0m \u001B[0;34m\u001B[0m\u001B[0m\n\u001B[1;32m   5462\u001B[0m     \u001B[0;32mdef\u001B[0m \u001B[0m__setattr__\u001B[0m\u001B[0;34m(\u001B[0m\u001B[0mself\u001B[0m\u001B[0;34m,\u001B[0m \u001B[0mname\u001B[0m\u001B[0;34m:\u001B[0m \u001B[0mstr\u001B[0m\u001B[0;34m,\u001B[0m \u001B[0mvalue\u001B[0m\u001B[0;34m)\u001B[0m \u001B[0;34m->\u001B[0m \u001B[0;32mNone\u001B[0m\u001B[0;34m:\u001B[0m\u001B[0;34m\u001B[0m\u001B[0;34m\u001B[0m\u001B[0m\n",
      "\u001B[0;31mAttributeError\u001B[0m: 'DataFrame' object has no attribute 'Metadata_Batch_Number'"
     ]
    }
   ],
   "source": [
    "pre_dmso.Metadata_Batch_Number"
   ],
   "metadata": {
    "collapsed": false,
    "pycharm": {
     "name": "#%%\n"
    }
   }
  },
  {
   "cell_type": "markdown",
   "source": [
    "#   trained"
   ],
   "metadata": {
    "collapsed": false,
    "pycharm": {
     "name": "#%% md\n"
    }
   }
  },
  {
   "cell_type": "code",
   "execution_count": 25,
   "outputs": [],
   "source": [
    "trained = pd.read_csv('/Users/mbornhol/git/neural-profiling/training/runs/1028/1028_aggregated_median.csv', low_memory=False)"
   ],
   "metadata": {
    "collapsed": false,
    "pycharm": {
     "name": "#%%\n"
    }
   }
  },
  {
   "cell_type": "code",
   "execution_count": 26,
   "outputs": [
    {
     "data": {
      "text/plain": "(8745, 1298)"
     },
     "execution_count": 26,
     "metadata": {},
     "output_type": "execute_result"
    }
   ],
   "source": [
    "merge = pd.merge(trained, index, how=\"outer\", on=[\"Metadata_Plate\", \"Metadata_Well\"], indicator=True)\n",
    "df_trained = trained[merge._merge == \"both\"]\n",
    "df_trained.shape"
   ],
   "metadata": {
    "collapsed": false,
    "pycharm": {
     "name": "#%%\n"
    }
   }
  },
  {
   "cell_type": "code",
   "execution_count": 27,
   "outputs": [],
   "source": [
    "features = [f for f in df_trained.columns if f.startswith(\"eff\")]"
   ],
   "metadata": {
    "collapsed": false,
    "pycharm": {
     "name": "#%%\n"
    }
   }
  },
  {
   "cell_type": "code",
   "execution_count": 57,
   "outputs": [],
   "source": [
    "sphere = normalize(\n",
    "    profiles=df,\n",
    "    features=features,\n",
    "    samples=\"Metadata_broad_sample == 'DMSO'\",\n",
    "    method='spherize',\n",
    "    output_file='none'\n",
    ")"
   ],
   "metadata": {
    "collapsed": false,
    "pycharm": {
     "name": "#%%\n"
    }
   }
  },
  {
   "cell_type": "code",
   "execution_count": 59,
   "outputs": [
    {
     "data": {
      "text/plain": "   enrichment_percentile  threshold  ods_ratio       p-value\n0                  0.995   0.531583   4.043584  1.562464e-51",
      "text/html": "<div>\n<style scoped>\n    .dataframe tbody tr th:only-of-type {\n        vertical-align: middle;\n    }\n\n    .dataframe tbody tr th {\n        vertical-align: top;\n    }\n\n    .dataframe thead th {\n        text-align: right;\n    }\n</style>\n<table border=\"1\" class=\"dataframe\">\n  <thead>\n    <tr style=\"text-align: right;\">\n      <th></th>\n      <th>enrichment_percentile</th>\n      <th>threshold</th>\n      <th>ods_ratio</th>\n      <th>p-value</th>\n    </tr>\n  </thead>\n  <tbody>\n    <tr>\n      <th>0</th>\n      <td>0.995</td>\n      <td>0.531583</td>\n      <td>4.043584</td>\n      <td>1.562464e-51</td>\n    </tr>\n  </tbody>\n</table>\n</div>"
     },
     "execution_count": 59,
     "metadata": {},
     "output_type": "execute_result"
    }
   ],
   "source": [
    "df = df.sample(frac=0.1)\n",
    "res = evaluate(\n",
    "    profiles=df,\n",
    "    features=features,\n",
    "    meta_features=[f for f in df.columns if not f.startswith(\"eff\")],\n",
    "    replicate_groups=['Metadata_Well'],\n",
    "    operation=\"enrichment\",\n",
    "    similarity_metric=\"pearson\",\n",
    "    enrichment_percentile=[0.995],\n",
    ")\n",
    "res"
   ],
   "metadata": {
    "collapsed": false,
    "pycharm": {
     "name": "#%%\n"
    }
   }
  },
  {
   "cell_type": "code",
   "execution_count": 74,
   "outputs": [
    {
     "data": {
      "text/plain": "   enrichment_percentile  threshold  ods_ratio  p-value\n0                  0.995   0.525372  84.117144      0.0",
      "text/html": "<div>\n<style scoped>\n    .dataframe tbody tr th:only-of-type {\n        vertical-align: middle;\n    }\n\n    .dataframe tbody tr th {\n        vertical-align: top;\n    }\n\n    .dataframe thead th {\n        text-align: right;\n    }\n</style>\n<table border=\"1\" class=\"dataframe\">\n  <thead>\n    <tr style=\"text-align: right;\">\n      <th></th>\n      <th>enrichment_percentile</th>\n      <th>threshold</th>\n      <th>ods_ratio</th>\n      <th>p-value</th>\n    </tr>\n  </thead>\n  <tbody>\n    <tr>\n      <th>0</th>\n      <td>0.995</td>\n      <td>0.525372</td>\n      <td>84.117144</td>\n      <td>0.0</td>\n    </tr>\n  </tbody>\n</table>\n</div>"
     },
     "execution_count": 74,
     "metadata": {},
     "output_type": "execute_result"
    }
   ],
   "source": [
    "# df = df.sample(frac=0.1)\n",
    "res = evaluate(\n",
    "    profiles=df,\n",
    "    features=features,\n",
    "    meta_features=[f for f in df.columns if not f.startswith(\"eff\")],\n",
    "    replicate_groups=['Metadata_Plate'],\n",
    "    operation=\"enrichment\",\n",
    "    similarity_metric=\"pearson\",\n",
    "    enrichment_percentile=[0.995],\n",
    ")\n",
    "res"
   ],
   "metadata": {
    "collapsed": false,
    "pycharm": {
     "name": "#%%\n"
    }
   }
  },
  {
   "cell_type": "code",
   "execution_count": 60,
   "outputs": [
    {
     "data": {
      "text/plain": "   enrichment_percentile  threshold  ods_ratio       p-value\n0                  0.995   0.223091   4.914371  4.785025e-75",
      "text/html": "<div>\n<style scoped>\n    .dataframe tbody tr th:only-of-type {\n        vertical-align: middle;\n    }\n\n    .dataframe tbody tr th {\n        vertical-align: top;\n    }\n\n    .dataframe thead th {\n        text-align: right;\n    }\n</style>\n<table border=\"1\" class=\"dataframe\">\n  <thead>\n    <tr style=\"text-align: right;\">\n      <th></th>\n      <th>enrichment_percentile</th>\n      <th>threshold</th>\n      <th>ods_ratio</th>\n      <th>p-value</th>\n    </tr>\n  </thead>\n  <tbody>\n    <tr>\n      <th>0</th>\n      <td>0.995</td>\n      <td>0.223091</td>\n      <td>4.914371</td>\n      <td>4.785025e-75</td>\n    </tr>\n  </tbody>\n</table>\n</div>"
     },
     "execution_count": 60,
     "metadata": {},
     "output_type": "execute_result"
    }
   ],
   "source": [
    "df = sphere.sample(frac=0.1)\n",
    "res = evaluate(\n",
    "    profiles=df,\n",
    "    features=features,\n",
    "    meta_features=[f for f in df.columns if not f.startswith(\"eff\")],\n",
    "    replicate_groups=['Metadata_Well'],\n",
    "    operation=\"enrichment\",\n",
    "    similarity_metric=\"pearson\",\n",
    "    enrichment_percentile=[0.995],\n",
    ")\n",
    "res"
   ],
   "metadata": {
    "collapsed": false,
    "pycharm": {
     "name": "#%%\n"
    }
   }
  },
  {
   "cell_type": "code",
   "execution_count": 28,
   "outputs": [],
   "source": [
    "train_dmso = df_trained[df_trained[\"Metadata_broad_sample\"] == \"DMSO\"]"
   ],
   "metadata": {
    "collapsed": false,
    "pycharm": {
     "name": "#%%\n"
    }
   }
  },
  {
   "cell_type": "code",
   "execution_count": 29,
   "outputs": [
    {
     "data": {
      "text/plain": "   enrichment_percentile  threshold  ods_ratio       p-value\n0                  0.995   0.675098   1.677526  1.539618e-43",
      "text/html": "<div>\n<style scoped>\n    .dataframe tbody tr th:only-of-type {\n        vertical-align: middle;\n    }\n\n    .dataframe tbody tr th {\n        vertical-align: top;\n    }\n\n    .dataframe thead th {\n        text-align: right;\n    }\n</style>\n<table border=\"1\" class=\"dataframe\">\n  <thead>\n    <tr style=\"text-align: right;\">\n      <th></th>\n      <th>enrichment_percentile</th>\n      <th>threshold</th>\n      <th>ods_ratio</th>\n      <th>p-value</th>\n    </tr>\n  </thead>\n  <tbody>\n    <tr>\n      <th>0</th>\n      <td>0.995</td>\n      <td>0.675098</td>\n      <td>1.677526</td>\n      <td>1.539618e-43</td>\n    </tr>\n  </tbody>\n</table>\n</div>"
     },
     "execution_count": 29,
     "metadata": {},
     "output_type": "execute_result"
    }
   ],
   "source": [
    "res = evaluate(\n",
    "    profiles=train_dmso.sample(frac=0.5),\n",
    "    features=features,\n",
    "    meta_features=[f for f in df.columns if not f.startswith(\"eff\")],\n",
    "    replicate_groups=['Metadata_Well'],\n",
    "    operation=\"enrichment\",\n",
    "    similarity_metric=\"pearson\",\n",
    "    enrichment_percentile=[0.995],\n",
    ")\n",
    "res"
   ],
   "metadata": {
    "collapsed": false,
    "pycharm": {
     "name": "#%%\n"
    }
   }
  },
  {
   "cell_type": "code",
   "execution_count": 31,
   "outputs": [
    {
     "data": {
      "text/plain": "   enrichment_percentile  threshold   ods_ratio  p-value\n0                  0.995   0.672271  187.879943      0.0",
      "text/html": "<div>\n<style scoped>\n    .dataframe tbody tr th:only-of-type {\n        vertical-align: middle;\n    }\n\n    .dataframe tbody tr th {\n        vertical-align: top;\n    }\n\n    .dataframe thead th {\n        text-align: right;\n    }\n</style>\n<table border=\"1\" class=\"dataframe\">\n  <thead>\n    <tr style=\"text-align: right;\">\n      <th></th>\n      <th>enrichment_percentile</th>\n      <th>threshold</th>\n      <th>ods_ratio</th>\n      <th>p-value</th>\n    </tr>\n  </thead>\n  <tbody>\n    <tr>\n      <th>0</th>\n      <td>0.995</td>\n      <td>0.672271</td>\n      <td>187.879943</td>\n      <td>0.0</td>\n    </tr>\n  </tbody>\n</table>\n</div>"
     },
     "execution_count": 31,
     "metadata": {},
     "output_type": "execute_result"
    }
   ],
   "source": [
    "res = evaluate(\n",
    "    profiles=train_dmso.sample(frac=0.5),\n",
    "    features=features,\n",
    "    meta_features=[f for f in df.columns if not f.startswith(\"eff\")],\n",
    "    replicate_groups=['Metadata_Plate'],\n",
    "    operation=\"enrichment\",\n",
    "    similarity_metric=\"pearson\",\n",
    "    enrichment_percentile=[0.995],\n",
    ")\n",
    "res"
   ],
   "metadata": {
    "collapsed": false,
    "pycharm": {
     "name": "#%%\n"
    }
   }
  },
  {
   "cell_type": "code",
   "execution_count": null,
   "outputs": [],
   "source": [
    "res = evaluate(\n",
    "    profiles=pre_dmso.sample(frac=0.5),\n",
    "    features=features,\n",
    "    meta_features=[f for f in df.columns if not f.startswith(\"eff\")],\n",
    "    replicate_groups=['Metadata_Batch_Number'],\n",
    "    operation=\"enrichment\",\n",
    "    similarity_metric=\"pearson\",\n",
    "    enrichment_percentile=[0.995],\n",
    ")\n",
    "res"
   ],
   "metadata": {
    "collapsed": false,
    "pycharm": {
     "name": "#%%\n"
    }
   }
  },
  {
   "cell_type": "code",
   "execution_count": 67,
   "outputs": [
    {
     "data": {
      "text/plain": "   enrichment_percentile  threshold  ods_ratio        p-value\n0                  0.995    0.99989   3.792384  2.454376e-106",
      "text/html": "<div>\n<style scoped>\n    .dataframe tbody tr th:only-of-type {\n        vertical-align: middle;\n    }\n\n    .dataframe tbody tr th {\n        vertical-align: top;\n    }\n\n    .dataframe thead th {\n        text-align: right;\n    }\n</style>\n<table border=\"1\" class=\"dataframe\">\n  <thead>\n    <tr style=\"text-align: right;\">\n      <th></th>\n      <th>enrichment_percentile</th>\n      <th>threshold</th>\n      <th>ods_ratio</th>\n      <th>p-value</th>\n    </tr>\n  </thead>\n  <tbody>\n    <tr>\n      <th>0</th>\n      <td>0.995</td>\n      <td>0.99989</td>\n      <td>3.792384</td>\n      <td>2.454376e-106</td>\n    </tr>\n  </tbody>\n</table>\n</div>"
     },
     "execution_count": 67,
     "metadata": {},
     "output_type": "execute_result"
    }
   ],
   "source": [
    "# Testing Plate corr.\n",
    "res = evaluate(\n",
    "    profiles=unk.sample(frac=0.2),\n",
    "    features=infer_cp_features(unk),\n",
    "    meta_features=infer_cp_features(unk, metadata=True),\n",
    "    replicate_groups=['Metadata_Plate'],\n",
    "    operation=\"enrichment\",\n",
    "    similarity_metric=\"pearson\",\n",
    "    enrichment_percentile=[0.995],\n",
    ")\n",
    "res"
   ],
   "metadata": {
    "collapsed": false,
    "pycharm": {
     "name": "#%%\n"
    }
   }
  },
  {
   "cell_type": "code",
   "execution_count": 69,
   "outputs": [
    {
     "data": {
      "text/plain": "   enrichment_percentile  threshold  ods_ratio  p-value\n0                  0.995   0.996716  31.605624      0.0",
      "text/html": "<div>\n<style scoped>\n    .dataframe tbody tr th:only-of-type {\n        vertical-align: middle;\n    }\n\n    .dataframe tbody tr th {\n        vertical-align: top;\n    }\n\n    .dataframe thead th {\n        text-align: right;\n    }\n</style>\n<table border=\"1\" class=\"dataframe\">\n  <thead>\n    <tr style=\"text-align: right;\">\n      <th></th>\n      <th>enrichment_percentile</th>\n      <th>threshold</th>\n      <th>ods_ratio</th>\n      <th>p-value</th>\n    </tr>\n  </thead>\n  <tbody>\n    <tr>\n      <th>0</th>\n      <td>0.995</td>\n      <td>0.996716</td>\n      <td>31.605624</td>\n      <td>0.0</td>\n    </tr>\n  </tbody>\n</table>\n</div>"
     },
     "execution_count": 69,
     "metadata": {},
     "output_type": "execute_result"
    }
   ],
   "source": [
    "res = evaluate(\n",
    "    profiles=df,\n",
    "    features=features,\n",
    "    meta_features=[f for f in df.columns if not f.startswith(\"eff\")],\n",
    "    replicate_groups=['Metadata_Plate'],\n",
    "    operation=\"enrichment\",\n",
    "    similarity_metric=\"pearson\",\n",
    "    enrichment_percentile=[0.995],\n",
    ")\n",
    "res\n"
   ],
   "metadata": {
    "collapsed": false,
    "pycharm": {
     "name": "#%%\n"
    }
   }
  },
  {
   "cell_type": "code",
   "execution_count": null,
   "outputs": [],
   "source": [],
   "metadata": {
    "collapsed": false,
    "pycharm": {
     "name": "#%%\n"
    }
   }
  },
  {
   "cell_type": "markdown",
   "source": [
    "# CP spherized"
   ],
   "metadata": {
    "collapsed": false
   }
  },
  {
   "cell_type": "code",
   "execution_count": null,
   "outputs": [],
   "source": [
    "df = pd.read_csv('/Users/mbornhol/git/neural-profiling/00_thesis/baseline/2016_04_01_a549_48hr_batch1_dmso_spherized_profiles_with_input_normalized_by_dmso_consensus_median.csv.gz')\n",
    "df= df.rename(columns= {\"Metadata_pert_well\" : \"Metadata_Well\"})"
   ],
   "metadata": {
    "collapsed": false,
    "pycharm": {
     "name": "#%%\n"
    }
   }
  },
  {
   "cell_type": "code",
   "execution_count": null,
   "outputs": [],
   "source": [
    "merge = pd.merge(df, index, how=\"outer\", on=[\"Metadata_Plate\", \"Metadata_Well\"], indicator=True)\n",
    "df = df[merge._merge == \"both\"]\n",
    "# I am stuck cause this doesnt have plates"
   ],
   "metadata": {
    "collapsed": false,
    "pycharm": {
     "name": "#%%\n"
    }
   }
  },
  {
   "cell_type": "code",
   "execution_count": null,
   "outputs": [],
   "source": [
    "# res = evaluate(\n",
    "#     profiles=df.sample(frac=0.1),\n",
    "#     features=infer_cp_features(df),\n",
    "#     meta_features=infer_cp_features(df, metadata=True),\n",
    "#     replicate_groups=['Metadata_pert_well'],\n",
    "#     operation=\"enrichment\",\n",
    "#     similarity_metric=\"pearson\",\n",
    "#     enrichment_percentile=[0.995, 0.99, 0.98],\n",
    "# )\n",
    "# res"
   ],
   "metadata": {
    "collapsed": false,
    "pycharm": {
     "name": "#%%\n"
    }
   }
  }
 ],
 "metadata": {
  "kernelspec": {
   "display_name": "Python 3",
   "language": "python",
   "name": "python3"
  },
  "language_info": {
   "codemirror_mode": {
    "name": "ipython",
    "version": 2
   },
   "file_extension": ".py",
   "mimetype": "text/x-python",
   "name": "python",
   "nbconvert_exporter": "python",
   "pygments_lexer": "ipython2",
   "version": "2.7.6"
  }
 },
 "nbformat": 4,
 "nbformat_minor": 0
}