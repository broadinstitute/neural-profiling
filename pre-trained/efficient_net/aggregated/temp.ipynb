{
 "cells": [
  {
   "cell_type": "code",
   "execution_count": 3,
   "metadata": {
    "collapsed": true
   },
   "outputs": [],
   "source": [
    "import pandas as pd\n",
    "import numpy as np\n",
    "import matplotlib.pyplot as plt\n",
    "from pycytominer import aggregate, annotate, normalize, feature_select, cyto_utils"
   ]
  },
  {
   "cell_type": "code",
   "execution_count": 7,
   "outputs": [
    {
     "ename": "KeyboardInterrupt",
     "evalue": "",
     "output_type": "error",
     "traceback": [
      "\u001B[0;31m---------------------------------------------------------------------------\u001B[0m",
      "\u001B[0;31mKeyboardInterrupt\u001B[0m                         Traceback (most recent call last)",
      "\u001B[0;32m<ipython-input-7-cc2ef6454419>\u001B[0m in \u001B[0;36m<module>\u001B[0;34m\u001B[0m\n\u001B[1;32m      1\u001B[0m \u001B[0mf\u001B[0m \u001B[0;34m=\u001B[0m \u001B[0mpd\u001B[0m\u001B[0;34m.\u001B[0m\u001B[0mread_csv\u001B[0m\u001B[0;34m(\u001B[0m\u001B[0;34m'df_1300.csv'\u001B[0m\u001B[0;34m)\u001B[0m\u001B[0;34m\u001B[0m\u001B[0;34m\u001B[0m\u001B[0m\n\u001B[0;32m----> 2\u001B[0;31m \u001B[0ms\u001B[0m \u001B[0;34m=\u001B[0m \u001B[0mpd\u001B[0m\u001B[0;34m.\u001B[0m\u001B[0mread_csv\u001B[0m\u001B[0;34m(\u001B[0m\u001B[0;34m'df_10600.csv'\u001B[0m\u001B[0;34m)\u001B[0m\u001B[0;34m\u001B[0m\u001B[0;34m\u001B[0m\u001B[0m\n\u001B[0m\u001B[1;32m      3\u001B[0m \u001B[0mdf\u001B[0m \u001B[0;34m=\u001B[0m \u001B[0mpd\u001B[0m\u001B[0;34m.\u001B[0m\u001B[0mconcat\u001B[0m\u001B[0;34m(\u001B[0m\u001B[0;34m[\u001B[0m\u001B[0mf\u001B[0m\u001B[0;34m,\u001B[0m\u001B[0ms\u001B[0m\u001B[0;34m]\u001B[0m\u001B[0;34m,\u001B[0m \u001B[0mignore_index\u001B[0m \u001B[0;34m=\u001B[0m \u001B[0;32mTrue\u001B[0m\u001B[0;34m)\u001B[0m\u001B[0;34m\u001B[0m\u001B[0;34m\u001B[0m\u001B[0m\n\u001B[1;32m      4\u001B[0m \u001B[0;34m\u001B[0m\u001B[0m\n",
      "\u001B[0;32m~/miniconda3/envs/cyto_eval/lib/python3.7/site-packages/pandas/io/parsers.py\u001B[0m in \u001B[0;36mread_csv\u001B[0;34m(filepath_or_buffer, sep, delimiter, header, names, index_col, usecols, squeeze, prefix, mangle_dupe_cols, dtype, engine, converters, true_values, false_values, skipinitialspace, skiprows, skipfooter, nrows, na_values, keep_default_na, na_filter, verbose, skip_blank_lines, parse_dates, infer_datetime_format, keep_date_col, date_parser, dayfirst, cache_dates, iterator, chunksize, compression, thousands, decimal, lineterminator, quotechar, quoting, doublequote, escapechar, comment, encoding, dialect, error_bad_lines, warn_bad_lines, delim_whitespace, low_memory, memory_map, float_precision, storage_options)\u001B[0m\n\u001B[1;32m    603\u001B[0m     \u001B[0mkwds\u001B[0m\u001B[0;34m.\u001B[0m\u001B[0mupdate\u001B[0m\u001B[0;34m(\u001B[0m\u001B[0mkwds_defaults\u001B[0m\u001B[0;34m)\u001B[0m\u001B[0;34m\u001B[0m\u001B[0;34m\u001B[0m\u001B[0m\n\u001B[1;32m    604\u001B[0m \u001B[0;34m\u001B[0m\u001B[0m\n\u001B[0;32m--> 605\u001B[0;31m     \u001B[0;32mreturn\u001B[0m \u001B[0m_read\u001B[0m\u001B[0;34m(\u001B[0m\u001B[0mfilepath_or_buffer\u001B[0m\u001B[0;34m,\u001B[0m \u001B[0mkwds\u001B[0m\u001B[0;34m)\u001B[0m\u001B[0;34m\u001B[0m\u001B[0;34m\u001B[0m\u001B[0m\n\u001B[0m\u001B[1;32m    606\u001B[0m \u001B[0;34m\u001B[0m\u001B[0m\n\u001B[1;32m    607\u001B[0m \u001B[0;34m\u001B[0m\u001B[0m\n",
      "\u001B[0;32m~/miniconda3/envs/cyto_eval/lib/python3.7/site-packages/pandas/io/parsers.py\u001B[0m in \u001B[0;36m_read\u001B[0;34m(filepath_or_buffer, kwds)\u001B[0m\n\u001B[1;32m    461\u001B[0m \u001B[0;34m\u001B[0m\u001B[0m\n\u001B[1;32m    462\u001B[0m     \u001B[0;32mwith\u001B[0m \u001B[0mparser\u001B[0m\u001B[0;34m:\u001B[0m\u001B[0;34m\u001B[0m\u001B[0;34m\u001B[0m\u001B[0m\n\u001B[0;32m--> 463\u001B[0;31m         \u001B[0;32mreturn\u001B[0m \u001B[0mparser\u001B[0m\u001B[0;34m.\u001B[0m\u001B[0mread\u001B[0m\u001B[0;34m(\u001B[0m\u001B[0mnrows\u001B[0m\u001B[0;34m)\u001B[0m\u001B[0;34m\u001B[0m\u001B[0;34m\u001B[0m\u001B[0m\n\u001B[0m\u001B[1;32m    464\u001B[0m \u001B[0;34m\u001B[0m\u001B[0m\n\u001B[1;32m    465\u001B[0m \u001B[0;34m\u001B[0m\u001B[0m\n",
      "\u001B[0;32m~/miniconda3/envs/cyto_eval/lib/python3.7/site-packages/pandas/io/parsers.py\u001B[0m in \u001B[0;36mread\u001B[0;34m(self, nrows)\u001B[0m\n\u001B[1;32m   1050\u001B[0m     \u001B[0;32mdef\u001B[0m \u001B[0mread\u001B[0m\u001B[0;34m(\u001B[0m\u001B[0mself\u001B[0m\u001B[0;34m,\u001B[0m \u001B[0mnrows\u001B[0m\u001B[0;34m=\u001B[0m\u001B[0;32mNone\u001B[0m\u001B[0;34m)\u001B[0m\u001B[0;34m:\u001B[0m\u001B[0;34m\u001B[0m\u001B[0;34m\u001B[0m\u001B[0m\n\u001B[1;32m   1051\u001B[0m         \u001B[0mnrows\u001B[0m \u001B[0;34m=\u001B[0m \u001B[0mvalidate_integer\u001B[0m\u001B[0;34m(\u001B[0m\u001B[0;34m\"nrows\"\u001B[0m\u001B[0;34m,\u001B[0m \u001B[0mnrows\u001B[0m\u001B[0;34m)\u001B[0m\u001B[0;34m\u001B[0m\u001B[0;34m\u001B[0m\u001B[0m\n\u001B[0;32m-> 1052\u001B[0;31m         \u001B[0mindex\u001B[0m\u001B[0;34m,\u001B[0m \u001B[0mcolumns\u001B[0m\u001B[0;34m,\u001B[0m \u001B[0mcol_dict\u001B[0m \u001B[0;34m=\u001B[0m \u001B[0mself\u001B[0m\u001B[0;34m.\u001B[0m\u001B[0m_engine\u001B[0m\u001B[0;34m.\u001B[0m\u001B[0mread\u001B[0m\u001B[0;34m(\u001B[0m\u001B[0mnrows\u001B[0m\u001B[0;34m)\u001B[0m\u001B[0;34m\u001B[0m\u001B[0;34m\u001B[0m\u001B[0m\n\u001B[0m\u001B[1;32m   1053\u001B[0m \u001B[0;34m\u001B[0m\u001B[0m\n\u001B[1;32m   1054\u001B[0m         \u001B[0;32mif\u001B[0m \u001B[0mindex\u001B[0m \u001B[0;32mis\u001B[0m \u001B[0;32mNone\u001B[0m\u001B[0;34m:\u001B[0m\u001B[0;34m\u001B[0m\u001B[0;34m\u001B[0m\u001B[0m\n",
      "\u001B[0;32m~/miniconda3/envs/cyto_eval/lib/python3.7/site-packages/pandas/io/parsers.py\u001B[0m in \u001B[0;36mread\u001B[0;34m(self, nrows)\u001B[0m\n\u001B[1;32m   2054\u001B[0m     \u001B[0;32mdef\u001B[0m \u001B[0mread\u001B[0m\u001B[0;34m(\u001B[0m\u001B[0mself\u001B[0m\u001B[0;34m,\u001B[0m \u001B[0mnrows\u001B[0m\u001B[0;34m=\u001B[0m\u001B[0;32mNone\u001B[0m\u001B[0;34m)\u001B[0m\u001B[0;34m:\u001B[0m\u001B[0;34m\u001B[0m\u001B[0;34m\u001B[0m\u001B[0m\n\u001B[1;32m   2055\u001B[0m         \u001B[0;32mtry\u001B[0m\u001B[0;34m:\u001B[0m\u001B[0;34m\u001B[0m\u001B[0;34m\u001B[0m\u001B[0m\n\u001B[0;32m-> 2056\u001B[0;31m             \u001B[0mdata\u001B[0m \u001B[0;34m=\u001B[0m \u001B[0mself\u001B[0m\u001B[0;34m.\u001B[0m\u001B[0m_reader\u001B[0m\u001B[0;34m.\u001B[0m\u001B[0mread\u001B[0m\u001B[0;34m(\u001B[0m\u001B[0mnrows\u001B[0m\u001B[0;34m)\u001B[0m\u001B[0;34m\u001B[0m\u001B[0;34m\u001B[0m\u001B[0m\n\u001B[0m\u001B[1;32m   2057\u001B[0m         \u001B[0;32mexcept\u001B[0m \u001B[0mStopIteration\u001B[0m\u001B[0;34m:\u001B[0m\u001B[0;34m\u001B[0m\u001B[0;34m\u001B[0m\u001B[0m\n\u001B[1;32m   2058\u001B[0m             \u001B[0;32mif\u001B[0m \u001B[0mself\u001B[0m\u001B[0;34m.\u001B[0m\u001B[0m_first_chunk\u001B[0m\u001B[0;34m:\u001B[0m\u001B[0;34m\u001B[0m\u001B[0;34m\u001B[0m\u001B[0m\n",
      "\u001B[0;32mpandas/_libs/parsers.pyx\u001B[0m in \u001B[0;36mpandas._libs.parsers.TextReader.read\u001B[0;34m()\u001B[0m\n",
      "\u001B[0;32mpandas/_libs/parsers.pyx\u001B[0m in \u001B[0;36mpandas._libs.parsers.TextReader._read_low_memory\u001B[0;34m()\u001B[0m\n",
      "\u001B[0;32mpandas/_libs/parsers.pyx\u001B[0m in \u001B[0;36mpandas._libs.parsers.TextReader._read_rows\u001B[0;34m()\u001B[0m\n",
      "\u001B[0;32mpandas/_libs/parsers.pyx\u001B[0m in \u001B[0;36mpandas._libs.parsers.TextReader._convert_column_data\u001B[0;34m()\u001B[0m\n",
      "\u001B[0;32mpandas/_libs/parsers.pyx\u001B[0m in \u001B[0;36mpandas._libs.parsers.TextReader._convert_tokens\u001B[0;34m()\u001B[0m\n",
      "\u001B[0;32mpandas/_libs/parsers.pyx\u001B[0m in \u001B[0;36mpandas._libs.parsers.TextReader._convert_with_dtype\u001B[0;34m()\u001B[0m\n",
      "\u001B[0;32m~/miniconda3/envs/cyto_eval/lib/python3.7/site-packages/pandas/core/dtypes/common.py\u001B[0m in \u001B[0;36mis_extension_array_dtype\u001B[0;34m(arr_or_dtype)\u001B[0m\n\u001B[1;32m   1513\u001B[0m     \u001B[0;32mFalse\u001B[0m\u001B[0;34m\u001B[0m\u001B[0;34m\u001B[0m\u001B[0m\n\u001B[1;32m   1514\u001B[0m     \"\"\"\n\u001B[0;32m-> 1515\u001B[0;31m     \u001B[0mdtype\u001B[0m \u001B[0;34m=\u001B[0m \u001B[0mgetattr\u001B[0m\u001B[0;34m(\u001B[0m\u001B[0marr_or_dtype\u001B[0m\u001B[0;34m,\u001B[0m \u001B[0;34m\"dtype\"\u001B[0m\u001B[0;34m,\u001B[0m \u001B[0marr_or_dtype\u001B[0m\u001B[0;34m)\u001B[0m\u001B[0;34m\u001B[0m\u001B[0;34m\u001B[0m\u001B[0m\n\u001B[0m\u001B[1;32m   1516\u001B[0m     \u001B[0;32mreturn\u001B[0m \u001B[0misinstance\u001B[0m\u001B[0;34m(\u001B[0m\u001B[0mdtype\u001B[0m\u001B[0;34m,\u001B[0m \u001B[0mExtensionDtype\u001B[0m\u001B[0;34m)\u001B[0m \u001B[0;32mor\u001B[0m \u001B[0mregistry\u001B[0m\u001B[0;34m.\u001B[0m\u001B[0mfind\u001B[0m\u001B[0;34m(\u001B[0m\u001B[0mdtype\u001B[0m\u001B[0;34m)\u001B[0m \u001B[0;32mis\u001B[0m \u001B[0;32mnot\u001B[0m \u001B[0;32mNone\u001B[0m\u001B[0;34m\u001B[0m\u001B[0;34m\u001B[0m\u001B[0m\n\u001B[1;32m   1517\u001B[0m \u001B[0;34m\u001B[0m\u001B[0m\n",
      "\u001B[0;31mKeyboardInterrupt\u001B[0m: "
     ]
    }
   ],
   "source": [
    "f = pd.read_csv('df_1300.csv')\n",
    "s = pd.read_csv('df_10600.csv')\n",
    "df = pd.concat([f,s], ignore_index = True)"
   ],
   "metadata": {
    "collapsed": false,
    "pycharm": {
     "name": "#%%\n"
    }
   }
  },
  {
   "cell_type": "code",
   "execution_count": 3,
   "outputs": [
    {
     "data": {
      "text/plain": "  Metadata_Well Metadata_Plate Metadata_Aggregate_On  efficientnet_0  \\\n0           A01     SQ00014812                  well       -0.142897   \n1           A02     SQ00014812                  well       -0.147132   \n2           A03     SQ00014812                  well       -0.154955   \n3           A04     SQ00014812                  well       -0.160671   \n4           A05     SQ00014812                  well       -0.159718   \n\n   efficientnet_1  efficientnet_2  efficientnet_3  efficientnet_4  \\\n0       -0.113506       -0.130975       -0.037416       -0.107066   \n1       -0.117449       -0.138457       -0.007375       -0.106333   \n2       -0.128911       -0.139572       -0.032888       -0.108059   \n3       -0.133710       -0.155048       -0.018638       -0.104549   \n4       -0.137615       -0.153945       -0.028853       -0.100508   \n\n   efficientnet_5  efficientnet_6  ...  efficientnet_6391  efficientnet_6392  \\\n0       -0.142255       -0.101672  ...          -0.141283          -0.174196   \n1       -0.156632       -0.108970  ...          -0.154953          -0.184615   \n2       -0.161863       -0.109339  ...          -0.154065          -0.185680   \n3       -0.171953       -0.112013  ...          -0.156909          -0.185617   \n4       -0.169278       -0.111453  ...          -0.151267          -0.181471   \n\n   efficientnet_6393  efficientnet_6394  efficientnet_6395  efficientnet_6396  \\\n0          -0.114794          -0.141811           0.193496          -0.040117   \n1          -0.118525          -0.148998           0.231997          -0.039789   \n2          -0.121558          -0.147461           0.299611          -0.039168   \n3          -0.119637          -0.148401           0.239812          -0.039476   \n4          -0.117698          -0.159351           0.222006          -0.038631   \n\n   efficientnet_6397  efficientnet_6398  efficientnet_6399  \\\n0          -0.155768          -0.070296           0.613512   \n1          -0.147204          -0.067097           0.420422   \n2          -0.152627          -0.073011           0.588260   \n3          -0.147047          -0.074182           0.510465   \n4          -0.150220          -0.075038           0.569536   \n\n   Metadata_Well_Position  \n0          SQ00014812/A01  \n1          SQ00014812/A02  \n2          SQ00014812/A03  \n3          SQ00014812/A04  \n4          SQ00014812/A05  \n\n[5 rows x 6404 columns]",
      "text/html": "<div>\n<style scoped>\n    .dataframe tbody tr th:only-of-type {\n        vertical-align: middle;\n    }\n\n    .dataframe tbody tr th {\n        vertical-align: top;\n    }\n\n    .dataframe thead th {\n        text-align: right;\n    }\n</style>\n<table border=\"1\" class=\"dataframe\">\n  <thead>\n    <tr style=\"text-align: right;\">\n      <th></th>\n      <th>Metadata_Well</th>\n      <th>Metadata_Plate</th>\n      <th>Metadata_Aggregate_On</th>\n      <th>efficientnet_0</th>\n      <th>efficientnet_1</th>\n      <th>efficientnet_2</th>\n      <th>efficientnet_3</th>\n      <th>efficientnet_4</th>\n      <th>efficientnet_5</th>\n      <th>efficientnet_6</th>\n      <th>...</th>\n      <th>efficientnet_6391</th>\n      <th>efficientnet_6392</th>\n      <th>efficientnet_6393</th>\n      <th>efficientnet_6394</th>\n      <th>efficientnet_6395</th>\n      <th>efficientnet_6396</th>\n      <th>efficientnet_6397</th>\n      <th>efficientnet_6398</th>\n      <th>efficientnet_6399</th>\n      <th>Metadata_Well_Position</th>\n    </tr>\n  </thead>\n  <tbody>\n    <tr>\n      <th>0</th>\n      <td>A01</td>\n      <td>SQ00014812</td>\n      <td>well</td>\n      <td>-0.142897</td>\n      <td>-0.113506</td>\n      <td>-0.130975</td>\n      <td>-0.037416</td>\n      <td>-0.107066</td>\n      <td>-0.142255</td>\n      <td>-0.101672</td>\n      <td>...</td>\n      <td>-0.141283</td>\n      <td>-0.174196</td>\n      <td>-0.114794</td>\n      <td>-0.141811</td>\n      <td>0.193496</td>\n      <td>-0.040117</td>\n      <td>-0.155768</td>\n      <td>-0.070296</td>\n      <td>0.613512</td>\n      <td>SQ00014812/A01</td>\n    </tr>\n    <tr>\n      <th>1</th>\n      <td>A02</td>\n      <td>SQ00014812</td>\n      <td>well</td>\n      <td>-0.147132</td>\n      <td>-0.117449</td>\n      <td>-0.138457</td>\n      <td>-0.007375</td>\n      <td>-0.106333</td>\n      <td>-0.156632</td>\n      <td>-0.108970</td>\n      <td>...</td>\n      <td>-0.154953</td>\n      <td>-0.184615</td>\n      <td>-0.118525</td>\n      <td>-0.148998</td>\n      <td>0.231997</td>\n      <td>-0.039789</td>\n      <td>-0.147204</td>\n      <td>-0.067097</td>\n      <td>0.420422</td>\n      <td>SQ00014812/A02</td>\n    </tr>\n    <tr>\n      <th>2</th>\n      <td>A03</td>\n      <td>SQ00014812</td>\n      <td>well</td>\n      <td>-0.154955</td>\n      <td>-0.128911</td>\n      <td>-0.139572</td>\n      <td>-0.032888</td>\n      <td>-0.108059</td>\n      <td>-0.161863</td>\n      <td>-0.109339</td>\n      <td>...</td>\n      <td>-0.154065</td>\n      <td>-0.185680</td>\n      <td>-0.121558</td>\n      <td>-0.147461</td>\n      <td>0.299611</td>\n      <td>-0.039168</td>\n      <td>-0.152627</td>\n      <td>-0.073011</td>\n      <td>0.588260</td>\n      <td>SQ00014812/A03</td>\n    </tr>\n    <tr>\n      <th>3</th>\n      <td>A04</td>\n      <td>SQ00014812</td>\n      <td>well</td>\n      <td>-0.160671</td>\n      <td>-0.133710</td>\n      <td>-0.155048</td>\n      <td>-0.018638</td>\n      <td>-0.104549</td>\n      <td>-0.171953</td>\n      <td>-0.112013</td>\n      <td>...</td>\n      <td>-0.156909</td>\n      <td>-0.185617</td>\n      <td>-0.119637</td>\n      <td>-0.148401</td>\n      <td>0.239812</td>\n      <td>-0.039476</td>\n      <td>-0.147047</td>\n      <td>-0.074182</td>\n      <td>0.510465</td>\n      <td>SQ00014812/A04</td>\n    </tr>\n    <tr>\n      <th>4</th>\n      <td>A05</td>\n      <td>SQ00014812</td>\n      <td>well</td>\n      <td>-0.159718</td>\n      <td>-0.137615</td>\n      <td>-0.153945</td>\n      <td>-0.028853</td>\n      <td>-0.100508</td>\n      <td>-0.169278</td>\n      <td>-0.111453</td>\n      <td>...</td>\n      <td>-0.151267</td>\n      <td>-0.181471</td>\n      <td>-0.117698</td>\n      <td>-0.159351</td>\n      <td>0.222006</td>\n      <td>-0.038631</td>\n      <td>-0.150220</td>\n      <td>-0.075038</td>\n      <td>0.569536</td>\n      <td>SQ00014812/A05</td>\n    </tr>\n  </tbody>\n</table>\n<p>5 rows × 6404 columns</p>\n</div>"
     },
     "execution_count": 3,
     "metadata": {},
     "output_type": "execute_result"
    }
   ],
   "source": [
    "df = df.drop(['Unnamed: 0'], axis=1)\n",
    "df.head()"
   ],
   "metadata": {
    "collapsed": false,
    "pycharm": {
     "name": "#%%\n"
    }
   }
  },
  {
   "cell_type": "code",
   "execution_count": 8,
   "outputs": [],
   "source": [
    "df = pd.read_csv('raw.csv.gz')"
   ],
   "metadata": {
    "collapsed": false,
    "pycharm": {
     "name": "#%%\n"
    }
   }
  },
  {
   "cell_type": "code",
   "execution_count": 7,
   "outputs": [],
   "source": [
    "index = pd.read_csv('sub_index.csv')\n",
    "index.drop_duplicates(subset=['Metadata_Plate', 'Metadata_Well'], keep='first', inplace=True, ignore_index=True)"
   ],
   "metadata": {
    "collapsed": false,
    "pycharm": {
     "name": "#%%\n"
    }
   }
  },
  {
   "cell_type": "code",
   "execution_count": 11,
   "outputs": [],
   "source": [
    "df_meta = pd.merge(df, index, how='left', on=['Metadata_Plate', 'Metadata_Well'], validate='one_to_one')"
   ],
   "metadata": {
    "collapsed": false,
    "pycharm": {
     "name": "#%%\n"
    }
   }
  },
  {
   "cell_type": "code",
   "execution_count": 34,
   "outputs": [],
   "source": [
    "features = []\n",
    "for col in df_meta.columns.tolist():\n",
    "    if col.startswith('efficientnet_'):\n",
    "        features.append(col)\n",
    "meta_features = []\n",
    "for col in df_meta.columns.tolist():\n",
    "    if not col.startswith('efficientnet_'):\n",
    "        meta_features.append(col)"
   ],
   "metadata": {
    "collapsed": false,
    "pycharm": {
     "name": "#%%\n"
    }
   }
  },
  {
   "cell_type": "code",
   "execution_count": 52,
   "outputs": [],
   "source": [],
   "metadata": {
    "collapsed": false,
    "pycharm": {
     "name": "#%%\n"
    }
   }
  },
  {
   "cell_type": "code",
   "execution_count": 35,
   "outputs": [],
   "source": [
    "df = df_meta[meta_features + features]"
   ],
   "metadata": {
    "collapsed": false,
    "pycharm": {
     "name": "#%%\n"
    }
   }
  },
  {
   "cell_type": "code",
   "execution_count": 36,
   "outputs": [],
   "source": [
    "agg = aggregate(\n",
    "    df,\n",
    "    strata=[\"Metadata_broad_sample\"],\n",
    "    features=features\n",
    ")"
   ],
   "metadata": {
    "collapsed": false,
    "pycharm": {
     "name": "#%%\n"
    }
   }
  },
  {
   "cell_type": "code",
   "execution_count": null,
   "outputs": [],
   "source": [
    "agg1 = aggregate(\n",
    "    df,\n",
    "    strata=[\"Metadata_broad_sample\", 'Metadata_moa'],\n",
    "    features=features\n",
    ")"
   ],
   "metadata": {
    "collapsed": false,
    "pycharm": {
     "name": "#%%\n"
    }
   }
  },
  {
   "cell_type": "code",
   "execution_count": 66,
   "outputs": [
    {
     "data": {
      "text/plain": "    Metadata_broad_sample  efficientnet_0  efficientnet_1  efficientnet_2  \\\n0  BRD-A02006392-001-10-7       -0.176622       -0.142385       -0.152750   \n1  BRD-A02710418-003-11-8       -0.173832       -0.142791       -0.155356   \n2  BRD-A05457250-001-05-0       -0.176071       -0.155749       -0.161774   \n3  BRD-A07986123-001-02-8       -0.155393       -0.126701       -0.122958   \n4  BRD-A09349126-001-10-7       -0.175576       -0.139735       -0.159090   \n\n   efficientnet_3  efficientnet_4  efficientnet_5  efficientnet_6  \\\n0        0.104187       -0.084907       -0.179724       -0.112525   \n1        0.073125       -0.092427       -0.179326       -0.115437   \n2       -0.035939       -0.093066       -0.193235       -0.113029   \n3        0.211526       -0.094230       -0.176516       -0.102316   \n4        0.096396       -0.088254       -0.174185       -0.112148   \n\n   efficientnet_7  efficientnet_8  ...  efficientnet_6390  efficientnet_6391  \\\n0       -0.162467       -0.098899  ...          -0.102999          -0.178541   \n1       -0.157393       -0.116601  ...          -0.091052          -0.177236   \n2       -0.161600       -0.060474  ...          -0.124540          -0.166737   \n3       -0.139009       -0.145905  ...          -0.105283          -0.167146   \n4       -0.156863       -0.107829  ...          -0.097718          -0.177781   \n\n   efficientnet_6392  efficientnet_6393  efficientnet_6394  efficientnet_6395  \\\n0          -0.187841          -0.128411          -0.182296           0.611269   \n1          -0.188499          -0.124815          -0.186094           0.665411   \n2          -0.184532          -0.116635          -0.180021           0.423900   \n3          -0.179106          -0.123810          -0.179431           0.493881   \n4          -0.187269          -0.125494          -0.186077           0.641501   \n\n   efficientnet_6396  efficientnet_6397  efficientnet_6398  efficientnet_6399  \n0          -0.034899          -0.160830          -0.075636           0.648274  \n1          -0.034742          -0.157554          -0.068091           0.737472  \n2          -0.034277          -0.153299          -0.077206           0.609096  \n3          -0.037998          -0.164276          -0.082315           0.770513  \n4          -0.034614          -0.156627          -0.071017           0.779743  \n\n[5 rows x 6401 columns]",
      "text/html": "<div>\n<style scoped>\n    .dataframe tbody tr th:only-of-type {\n        vertical-align: middle;\n    }\n\n    .dataframe tbody tr th {\n        vertical-align: top;\n    }\n\n    .dataframe thead th {\n        text-align: right;\n    }\n</style>\n<table border=\"1\" class=\"dataframe\">\n  <thead>\n    <tr style=\"text-align: right;\">\n      <th></th>\n      <th>Metadata_broad_sample</th>\n      <th>efficientnet_0</th>\n      <th>efficientnet_1</th>\n      <th>efficientnet_2</th>\n      <th>efficientnet_3</th>\n      <th>efficientnet_4</th>\n      <th>efficientnet_5</th>\n      <th>efficientnet_6</th>\n      <th>efficientnet_7</th>\n      <th>efficientnet_8</th>\n      <th>...</th>\n      <th>efficientnet_6390</th>\n      <th>efficientnet_6391</th>\n      <th>efficientnet_6392</th>\n      <th>efficientnet_6393</th>\n      <th>efficientnet_6394</th>\n      <th>efficientnet_6395</th>\n      <th>efficientnet_6396</th>\n      <th>efficientnet_6397</th>\n      <th>efficientnet_6398</th>\n      <th>efficientnet_6399</th>\n    </tr>\n  </thead>\n  <tbody>\n    <tr>\n      <th>0</th>\n      <td>BRD-A02006392-001-10-7</td>\n      <td>-0.176622</td>\n      <td>-0.142385</td>\n      <td>-0.152750</td>\n      <td>0.104187</td>\n      <td>-0.084907</td>\n      <td>-0.179724</td>\n      <td>-0.112525</td>\n      <td>-0.162467</td>\n      <td>-0.098899</td>\n      <td>...</td>\n      <td>-0.102999</td>\n      <td>-0.178541</td>\n      <td>-0.187841</td>\n      <td>-0.128411</td>\n      <td>-0.182296</td>\n      <td>0.611269</td>\n      <td>-0.034899</td>\n      <td>-0.160830</td>\n      <td>-0.075636</td>\n      <td>0.648274</td>\n    </tr>\n    <tr>\n      <th>1</th>\n      <td>BRD-A02710418-003-11-8</td>\n      <td>-0.173832</td>\n      <td>-0.142791</td>\n      <td>-0.155356</td>\n      <td>0.073125</td>\n      <td>-0.092427</td>\n      <td>-0.179326</td>\n      <td>-0.115437</td>\n      <td>-0.157393</td>\n      <td>-0.116601</td>\n      <td>...</td>\n      <td>-0.091052</td>\n      <td>-0.177236</td>\n      <td>-0.188499</td>\n      <td>-0.124815</td>\n      <td>-0.186094</td>\n      <td>0.665411</td>\n      <td>-0.034742</td>\n      <td>-0.157554</td>\n      <td>-0.068091</td>\n      <td>0.737472</td>\n    </tr>\n    <tr>\n      <th>2</th>\n      <td>BRD-A05457250-001-05-0</td>\n      <td>-0.176071</td>\n      <td>-0.155749</td>\n      <td>-0.161774</td>\n      <td>-0.035939</td>\n      <td>-0.093066</td>\n      <td>-0.193235</td>\n      <td>-0.113029</td>\n      <td>-0.161600</td>\n      <td>-0.060474</td>\n      <td>...</td>\n      <td>-0.124540</td>\n      <td>-0.166737</td>\n      <td>-0.184532</td>\n      <td>-0.116635</td>\n      <td>-0.180021</td>\n      <td>0.423900</td>\n      <td>-0.034277</td>\n      <td>-0.153299</td>\n      <td>-0.077206</td>\n      <td>0.609096</td>\n    </tr>\n    <tr>\n      <th>3</th>\n      <td>BRD-A07986123-001-02-8</td>\n      <td>-0.155393</td>\n      <td>-0.126701</td>\n      <td>-0.122958</td>\n      <td>0.211526</td>\n      <td>-0.094230</td>\n      <td>-0.176516</td>\n      <td>-0.102316</td>\n      <td>-0.139009</td>\n      <td>-0.145905</td>\n      <td>...</td>\n      <td>-0.105283</td>\n      <td>-0.167146</td>\n      <td>-0.179106</td>\n      <td>-0.123810</td>\n      <td>-0.179431</td>\n      <td>0.493881</td>\n      <td>-0.037998</td>\n      <td>-0.164276</td>\n      <td>-0.082315</td>\n      <td>0.770513</td>\n    </tr>\n    <tr>\n      <th>4</th>\n      <td>BRD-A09349126-001-10-7</td>\n      <td>-0.175576</td>\n      <td>-0.139735</td>\n      <td>-0.159090</td>\n      <td>0.096396</td>\n      <td>-0.088254</td>\n      <td>-0.174185</td>\n      <td>-0.112148</td>\n      <td>-0.156863</td>\n      <td>-0.107829</td>\n      <td>...</td>\n      <td>-0.097718</td>\n      <td>-0.177781</td>\n      <td>-0.187269</td>\n      <td>-0.125494</td>\n      <td>-0.186077</td>\n      <td>0.641501</td>\n      <td>-0.034614</td>\n      <td>-0.156627</td>\n      <td>-0.071017</td>\n      <td>0.779743</td>\n    </tr>\n  </tbody>\n</table>\n<p>5 rows × 6401 columns</p>\n</div>"
     },
     "execution_count": 66,
     "metadata": {},
     "output_type": "execute_result"
    }
   ],
   "source": [
    "agg.head()"
   ],
   "metadata": {
    "collapsed": false,
    "pycharm": {
     "name": "#%%\n"
    }
   }
  },
  {
   "cell_type": "code",
   "execution_count": 67,
   "outputs": [
    {
     "data": {
      "text/plain": "phosphodiesterase inhibitor                                                                                                    28\nadrenergic receptor antagonist                                                                                                 22\ncyclooxygenase inhibitor                                                                                                       20\nhistamine receptor antagonist                                                                                                  20\nacetylcholine receptor antagonist                                                                                              18\n                                                                                                                               ..\nadrenergic inhibitor                                                                                                            1\nmembrane permeability inhibitor                                                                                                 1\nnitric oxide stimulant                                                                                                          1\ngrowth hormone secretagogue receptor agonist                                                                                    1\nestrogen receptor agonist|glucocorticoid receptor antagonist|progesterone receptor agonist|progesterone receptor antagonist     1\nName: Metadata_moa, Length: 231, dtype: int64"
     },
     "execution_count": 67,
     "metadata": {},
     "output_type": "execute_result"
    }
   ],
   "source": [
    "agg1.Metadata_moa.value_counts()"
   ],
   "metadata": {
    "collapsed": false,
    "pycharm": {
     "name": "#%%\n"
    }
   }
  },
  {
   "cell_type": "code",
   "execution_count": 37,
   "outputs": [],
   "source": [
    "lincs_df = pd.read_csv('../../../baseline/01_data/2016_04_01_a549_48hr_batch1_consensus_modz_feature_select_dmso.csv.gz')\n",
    "lincs_df = lincs_df[['Metadata_broad_sample',\n",
    "       'Metadata_pert_well', 'Metadata_mmoles_per_liter',\n",
    "       'Metadata_dose_recode', 'Metadata_time_point', 'Metadata_moa',\n",
    "       'Metadata_target']]"
   ],
   "metadata": {
    "collapsed": false,
    "pycharm": {
     "name": "#%%\n"
    }
   }
  },
  {
   "cell_type": "code",
   "execution_count": 38,
   "outputs": [],
   "source": [
    "lincs_df = lincs_df.drop_duplicates(['Metadata_broad_sample'], keep='first')"
   ],
   "metadata": {
    "collapsed": false,
    "pycharm": {
     "name": "#%%\n"
    }
   }
  },
  {
   "cell_type": "code",
   "execution_count": 39,
   "outputs": [],
   "source": [
    "df = pd.merge(agg, lincs_df, how='left', on=['Metadata_broad_sample'])"
   ],
   "metadata": {
    "collapsed": false,
    "pycharm": {
     "name": "#%%\n"
    }
   }
  },
  {
   "cell_type": "code",
   "execution_count": 75,
   "outputs": [
    {
     "data": {
      "text/plain": "      Metadata_broad_sample  efficientnet_0  efficientnet_1  efficientnet_2  \\\n0    BRD-A02006392-001-10-7       -0.176622       -0.142385       -0.152750   \n1    BRD-A02710418-003-11-8       -0.173832       -0.142791       -0.155356   \n2    BRD-A05457250-001-05-0       -0.176071       -0.155749       -0.161774   \n3    BRD-A07986123-001-02-8       -0.155393       -0.126701       -0.122958   \n4    BRD-A09349126-001-10-7       -0.175576       -0.139735       -0.159090   \n..                      ...             ...             ...             ...   \n929  BRD-K99545815-001-06-3       -0.143891       -0.061975       -0.140031   \n930  BRD-K99604664-001-01-1       -0.158073       -0.118083       -0.132081   \n931  BRD-K99749624-001-07-0       -0.150438       -0.113825       -0.127900   \n932  BRD-K99792991-001-34-9       -0.148306       -0.106373       -0.082971   \n933                    DMSO       -0.171279       -0.145154       -0.156067   \n\n     efficientnet_3  efficientnet_4  efficientnet_5  efficientnet_6  \\\n0          0.104187       -0.084907       -0.179724       -0.112525   \n1          0.073125       -0.092427       -0.179326       -0.115437   \n2         -0.035939       -0.093066       -0.193235       -0.113029   \n3          0.211526       -0.094230       -0.176516       -0.102316   \n4          0.096396       -0.088254       -0.174185       -0.112148   \n..              ...             ...             ...             ...   \n929        0.296240       -0.083314       -0.028642       -0.081474   \n930        0.092220       -0.101030       -0.176034       -0.106032   \n931       -0.038900       -0.106032       -0.123990       -0.106113   \n932        0.160005       -0.093079       -0.153175       -0.096187   \n933        0.002021       -0.094524       -0.184248       -0.113691   \n\n     efficientnet_7  efficientnet_8  ...  efficientnet_6396  \\\n0         -0.162467       -0.098899  ...          -0.034899   \n1         -0.157393       -0.116601  ...          -0.034742   \n2         -0.161600       -0.060474  ...          -0.034277   \n3         -0.139009       -0.145905  ...          -0.037998   \n4         -0.156863       -0.107829  ...          -0.034614   \n..              ...             ...  ...                ...   \n929       -0.097347       -0.099110  ...          -0.044580   \n930       -0.135580       -0.135449  ...          -0.044317   \n931       -0.119545       -0.143794  ...          -0.037606   \n932       -0.120803       -0.135865  ...          -0.034360   \n933       -0.158160       -0.105551  ...          -0.036380   \n\n     efficientnet_6397  efficientnet_6398  efficientnet_6399  \\\n0            -0.160830          -0.075636           0.648274   \n1            -0.157554          -0.068091           0.737472   \n2            -0.153299          -0.077206           0.609096   \n3            -0.164276          -0.082315           0.770513   \n4            -0.156627          -0.071017           0.779743   \n..                 ...                ...                ...   \n929          -0.165797          -0.086623           0.833252   \n930          -0.170153          -0.077641           0.713382   \n931          -0.177550          -0.080994           0.960181   \n932          -0.165817          -0.107996           1.076423   \n933          -0.155424          -0.071529           0.648937   \n\n     Metadata_pert_well  Metadata_mmoles_per_liter  Metadata_dose_recode  \\\n0                   G19                       10.0                     6   \n1                   O13                       10.0                     6   \n2                   I13                       10.0                     6   \n3                   A13                       10.0                     6   \n4                   G07                       10.0                     6   \n..                  ...                        ...                   ...   \n929                 M19                       10.0                     6   \n930                 N19                       10.0                     6   \n931                 N13                       10.0                     6   \n932                 M19                       10.0                     6   \n933                 A01                        0.0                     0   \n\n     Metadata_time_point                                       Metadata_moa  \\\n0                    48H                            calcium channel blocker   \n1                    48H                            opioid receptor agonist   \n2                    48H                     L-type calcium channel blocker   \n3                    48H                        androgen receptor modulator   \n4                    48H                      progesterone receptor agonist   \n..                   ...                                                ...   \n929                  48H                    focal adhesion kinase inhibitor   \n930                  48H                      progesterone receptor agonist   \n931                  48H  PDGFR tyrosine kinase receptor inhibitor|VEGFR...   \n932                  48H                        potassium channel activator   \n933                  48H                                            unknown   \n\n                                      Metadata_target  \n0                              CACNA1D|CACNA2D1|KCNN4  \n1                                                BCHE  \n2                                             unknown  \n3                                          AR|CYP17A1  \n4                                                 PGR  \n..                                                ...  \n929                                        PTK2|PTK2B  \n930                                               PGR  \n931  CSF1|CSF1R|FLT1|FLT3|FLT4|KDR|KIT|PDGFRB|RET|TEK  \n932                                        GLUD1|SDHD  \n933                                           unknown  \n\n[934 rows x 6407 columns]",
      "text/html": "<div>\n<style scoped>\n    .dataframe tbody tr th:only-of-type {\n        vertical-align: middle;\n    }\n\n    .dataframe tbody tr th {\n        vertical-align: top;\n    }\n\n    .dataframe thead th {\n        text-align: right;\n    }\n</style>\n<table border=\"1\" class=\"dataframe\">\n  <thead>\n    <tr style=\"text-align: right;\">\n      <th></th>\n      <th>Metadata_broad_sample</th>\n      <th>efficientnet_0</th>\n      <th>efficientnet_1</th>\n      <th>efficientnet_2</th>\n      <th>efficientnet_3</th>\n      <th>efficientnet_4</th>\n      <th>efficientnet_5</th>\n      <th>efficientnet_6</th>\n      <th>efficientnet_7</th>\n      <th>efficientnet_8</th>\n      <th>...</th>\n      <th>efficientnet_6396</th>\n      <th>efficientnet_6397</th>\n      <th>efficientnet_6398</th>\n      <th>efficientnet_6399</th>\n      <th>Metadata_pert_well</th>\n      <th>Metadata_mmoles_per_liter</th>\n      <th>Metadata_dose_recode</th>\n      <th>Metadata_time_point</th>\n      <th>Metadata_moa</th>\n      <th>Metadata_target</th>\n    </tr>\n  </thead>\n  <tbody>\n    <tr>\n      <th>0</th>\n      <td>BRD-A02006392-001-10-7</td>\n      <td>-0.176622</td>\n      <td>-0.142385</td>\n      <td>-0.152750</td>\n      <td>0.104187</td>\n      <td>-0.084907</td>\n      <td>-0.179724</td>\n      <td>-0.112525</td>\n      <td>-0.162467</td>\n      <td>-0.098899</td>\n      <td>...</td>\n      <td>-0.034899</td>\n      <td>-0.160830</td>\n      <td>-0.075636</td>\n      <td>0.648274</td>\n      <td>G19</td>\n      <td>10.0</td>\n      <td>6</td>\n      <td>48H</td>\n      <td>calcium channel blocker</td>\n      <td>CACNA1D|CACNA2D1|KCNN4</td>\n    </tr>\n    <tr>\n      <th>1</th>\n      <td>BRD-A02710418-003-11-8</td>\n      <td>-0.173832</td>\n      <td>-0.142791</td>\n      <td>-0.155356</td>\n      <td>0.073125</td>\n      <td>-0.092427</td>\n      <td>-0.179326</td>\n      <td>-0.115437</td>\n      <td>-0.157393</td>\n      <td>-0.116601</td>\n      <td>...</td>\n      <td>-0.034742</td>\n      <td>-0.157554</td>\n      <td>-0.068091</td>\n      <td>0.737472</td>\n      <td>O13</td>\n      <td>10.0</td>\n      <td>6</td>\n      <td>48H</td>\n      <td>opioid receptor agonist</td>\n      <td>BCHE</td>\n    </tr>\n    <tr>\n      <th>2</th>\n      <td>BRD-A05457250-001-05-0</td>\n      <td>-0.176071</td>\n      <td>-0.155749</td>\n      <td>-0.161774</td>\n      <td>-0.035939</td>\n      <td>-0.093066</td>\n      <td>-0.193235</td>\n      <td>-0.113029</td>\n      <td>-0.161600</td>\n      <td>-0.060474</td>\n      <td>...</td>\n      <td>-0.034277</td>\n      <td>-0.153299</td>\n      <td>-0.077206</td>\n      <td>0.609096</td>\n      <td>I13</td>\n      <td>10.0</td>\n      <td>6</td>\n      <td>48H</td>\n      <td>L-type calcium channel blocker</td>\n      <td>unknown</td>\n    </tr>\n    <tr>\n      <th>3</th>\n      <td>BRD-A07986123-001-02-8</td>\n      <td>-0.155393</td>\n      <td>-0.126701</td>\n      <td>-0.122958</td>\n      <td>0.211526</td>\n      <td>-0.094230</td>\n      <td>-0.176516</td>\n      <td>-0.102316</td>\n      <td>-0.139009</td>\n      <td>-0.145905</td>\n      <td>...</td>\n      <td>-0.037998</td>\n      <td>-0.164276</td>\n      <td>-0.082315</td>\n      <td>0.770513</td>\n      <td>A13</td>\n      <td>10.0</td>\n      <td>6</td>\n      <td>48H</td>\n      <td>androgen receptor modulator</td>\n      <td>AR|CYP17A1</td>\n    </tr>\n    <tr>\n      <th>4</th>\n      <td>BRD-A09349126-001-10-7</td>\n      <td>-0.175576</td>\n      <td>-0.139735</td>\n      <td>-0.159090</td>\n      <td>0.096396</td>\n      <td>-0.088254</td>\n      <td>-0.174185</td>\n      <td>-0.112148</td>\n      <td>-0.156863</td>\n      <td>-0.107829</td>\n      <td>...</td>\n      <td>-0.034614</td>\n      <td>-0.156627</td>\n      <td>-0.071017</td>\n      <td>0.779743</td>\n      <td>G07</td>\n      <td>10.0</td>\n      <td>6</td>\n      <td>48H</td>\n      <td>progesterone receptor agonist</td>\n      <td>PGR</td>\n    </tr>\n    <tr>\n      <th>...</th>\n      <td>...</td>\n      <td>...</td>\n      <td>...</td>\n      <td>...</td>\n      <td>...</td>\n      <td>...</td>\n      <td>...</td>\n      <td>...</td>\n      <td>...</td>\n      <td>...</td>\n      <td>...</td>\n      <td>...</td>\n      <td>...</td>\n      <td>...</td>\n      <td>...</td>\n      <td>...</td>\n      <td>...</td>\n      <td>...</td>\n      <td>...</td>\n      <td>...</td>\n      <td>...</td>\n    </tr>\n    <tr>\n      <th>929</th>\n      <td>BRD-K99545815-001-06-3</td>\n      <td>-0.143891</td>\n      <td>-0.061975</td>\n      <td>-0.140031</td>\n      <td>0.296240</td>\n      <td>-0.083314</td>\n      <td>-0.028642</td>\n      <td>-0.081474</td>\n      <td>-0.097347</td>\n      <td>-0.099110</td>\n      <td>...</td>\n      <td>-0.044580</td>\n      <td>-0.165797</td>\n      <td>-0.086623</td>\n      <td>0.833252</td>\n      <td>M19</td>\n      <td>10.0</td>\n      <td>6</td>\n      <td>48H</td>\n      <td>focal adhesion kinase inhibitor</td>\n      <td>PTK2|PTK2B</td>\n    </tr>\n    <tr>\n      <th>930</th>\n      <td>BRD-K99604664-001-01-1</td>\n      <td>-0.158073</td>\n      <td>-0.118083</td>\n      <td>-0.132081</td>\n      <td>0.092220</td>\n      <td>-0.101030</td>\n      <td>-0.176034</td>\n      <td>-0.106032</td>\n      <td>-0.135580</td>\n      <td>-0.135449</td>\n      <td>...</td>\n      <td>-0.044317</td>\n      <td>-0.170153</td>\n      <td>-0.077641</td>\n      <td>0.713382</td>\n      <td>N19</td>\n      <td>10.0</td>\n      <td>6</td>\n      <td>48H</td>\n      <td>progesterone receptor agonist</td>\n      <td>PGR</td>\n    </tr>\n    <tr>\n      <th>931</th>\n      <td>BRD-K99749624-001-07-0</td>\n      <td>-0.150438</td>\n      <td>-0.113825</td>\n      <td>-0.127900</td>\n      <td>-0.038900</td>\n      <td>-0.106032</td>\n      <td>-0.123990</td>\n      <td>-0.106113</td>\n      <td>-0.119545</td>\n      <td>-0.143794</td>\n      <td>...</td>\n      <td>-0.037606</td>\n      <td>-0.177550</td>\n      <td>-0.080994</td>\n      <td>0.960181</td>\n      <td>N13</td>\n      <td>10.0</td>\n      <td>6</td>\n      <td>48H</td>\n      <td>PDGFR tyrosine kinase receptor inhibitor|VEGFR...</td>\n      <td>CSF1|CSF1R|FLT1|FLT3|FLT4|KDR|KIT|PDGFRB|RET|TEK</td>\n    </tr>\n    <tr>\n      <th>932</th>\n      <td>BRD-K99792991-001-34-9</td>\n      <td>-0.148306</td>\n      <td>-0.106373</td>\n      <td>-0.082971</td>\n      <td>0.160005</td>\n      <td>-0.093079</td>\n      <td>-0.153175</td>\n      <td>-0.096187</td>\n      <td>-0.120803</td>\n      <td>-0.135865</td>\n      <td>...</td>\n      <td>-0.034360</td>\n      <td>-0.165817</td>\n      <td>-0.107996</td>\n      <td>1.076423</td>\n      <td>M19</td>\n      <td>10.0</td>\n      <td>6</td>\n      <td>48H</td>\n      <td>potassium channel activator</td>\n      <td>GLUD1|SDHD</td>\n    </tr>\n    <tr>\n      <th>933</th>\n      <td>DMSO</td>\n      <td>-0.171279</td>\n      <td>-0.145154</td>\n      <td>-0.156067</td>\n      <td>0.002021</td>\n      <td>-0.094524</td>\n      <td>-0.184248</td>\n      <td>-0.113691</td>\n      <td>-0.158160</td>\n      <td>-0.105551</td>\n      <td>...</td>\n      <td>-0.036380</td>\n      <td>-0.155424</td>\n      <td>-0.071529</td>\n      <td>0.648937</td>\n      <td>A01</td>\n      <td>0.0</td>\n      <td>0</td>\n      <td>48H</td>\n      <td>unknown</td>\n      <td>unknown</td>\n    </tr>\n  </tbody>\n</table>\n<p>934 rows × 6407 columns</p>\n</div>"
     },
     "execution_count": 75,
     "metadata": {},
     "output_type": "execute_result"
    }
   ],
   "source": [
    "df"
   ],
   "metadata": {
    "collapsed": false,
    "pycharm": {
     "name": "#%%\n"
    }
   }
  },
  {
   "cell_type": "code",
   "execution_count": 17,
   "outputs": [],
   "source": [
    "features = []\n",
    "for col in df.columns.tolist():\n",
    "    if col.startswith('efficientnet_'):\n",
    "        features.append(col)\n",
    "meta_features = []\n",
    "for col in df.columns.tolist():\n",
    "    if not col.startswith('efficientnet_'):\n",
    "        meta_features.append(col)\n"
   ],
   "metadata": {
    "collapsed": false,
    "pycharm": {
     "name": "#%%\n"
    }
   }
  },
  {
   "cell_type": "code",
   "execution_count": 43,
   "outputs": [],
   "source": [
    "df = df[meta_features + features]"
   ],
   "metadata": {
    "collapsed": false,
    "pycharm": {
     "name": "#%%\n"
    }
   }
  },
  {
   "cell_type": "code",
   "execution_count": 44,
   "outputs": [],
   "source": [
    "df.to_csv('aggregate_sample.csv', index=False)"
   ],
   "metadata": {
    "collapsed": false,
    "pycharm": {
     "name": "#%%\n"
    }
   }
  },
  {
   "cell_type": "code",
   "execution_count": 14,
   "outputs": [],
   "source": [
    "df_norm = normalize(\n",
    "    profiles=df,\n",
    "    features=features,\n",
    "    samples=\"Metadata_broad_sample == 'DMSO'\",\n",
    "    method='mad_robustize',\n",
    "    output_file='none'\n",
    ")"
   ],
   "metadata": {
    "collapsed": false,
    "pycharm": {
     "name": "#%%\n"
    }
   }
  },
  {
   "cell_type": "code",
   "execution_count": 18,
   "outputs": [
    {
     "data": {
      "text/plain": "-0.1820418834686279"
     },
     "execution_count": 18,
     "metadata": {},
     "output_type": "execute_result"
    }
   ],
   "source": [
    "df.efficientnet_0.min()"
   ],
   "metadata": {
    "collapsed": false,
    "pycharm": {
     "name": "#%%\n"
    }
   }
  },
  {
   "cell_type": "code",
   "execution_count": 5,
   "outputs": [
    {
     "data": {
      "text/plain": "False"
     },
     "execution_count": 5,
     "metadata": {},
     "output_type": "execute_result"
    }
   ],
   "source": [
    "df.equals(df1)"
   ],
   "metadata": {
    "collapsed": false,
    "pycharm": {
     "name": "#%%\n"
    }
   }
  },
  {
   "cell_type": "code",
   "execution_count": 24,
   "outputs": [
    {
     "data": {
      "text/plain": "(7605, 6404)"
     },
     "execution_count": 24,
     "metadata": {},
     "output_type": "execute_result"
    }
   ],
   "source": [
    "df.shape"
   ],
   "metadata": {
    "collapsed": false,
    "pycharm": {
     "name": "#%%\n"
    }
   }
  },
  {
   "cell_type": "code",
   "execution_count": 23,
   "outputs": [
    {
     "data": {
      "text/plain": "(7605, 6422)"
     },
     "execution_count": 23,
     "metadata": {},
     "output_type": "execute_result"
    }
   ],
   "source": [
    "df_meta.shape"
   ],
   "metadata": {
    "collapsed": false,
    "pycharm": {
     "name": "#%%\n"
    }
   }
  },
  {
   "cell_type": "code",
   "execution_count": 19,
   "outputs": [
    {
     "data": {
      "text/plain": "  Metadata_Plate Metadata_Well  Metadata_Site Metadata_broad_sample  \\\n0     SQ00014812           A01              1                  DMSO   \n1     SQ00014812           A02              1                  DMSO   \n2     SQ00014812           A03              1                  DMSO   \n3     SQ00014812           A04              1                  DMSO   \n4     SQ00014812           A05              1                  DMSO   \n\n  Metadata_moa  Metadata_mmoles_per_liter  Metadata_dose_recode  \\\n0      unknown                        0.0                     0   \n1      unknown                        0.0                     0   \n2      unknown                        0.0                     0   \n3      unknown                        0.0                     0   \n4      unknown                        0.0                     0   \n\n                                         RNA  \\\n0  SQ00014812/r01c01f01p01-ch3sk1fk1fl1.tiff   \n1  SQ00014812/r01c02f01p01-ch3sk1fk1fl1.tiff   \n2  SQ00014812/r01c03f01p01-ch3sk1fk1fl1.tiff   \n3  SQ00014812/r01c04f01p01-ch3sk1fk1fl1.tiff   \n4  SQ00014812/r01c05f01p01-ch3sk1fk1fl1.tiff   \n\n                                          ER  \\\n0  SQ00014812/r01c01f01p01-ch2sk1fk1fl1.tiff   \n1  SQ00014812/r01c02f01p01-ch2sk1fk1fl1.tiff   \n2  SQ00014812/r01c03f01p01-ch2sk1fk1fl1.tiff   \n3  SQ00014812/r01c04f01p01-ch2sk1fk1fl1.tiff   \n4  SQ00014812/r01c05f01p01-ch2sk1fk1fl1.tiff   \n\n                                         AGP  \\\n0  SQ00014812/r01c01f01p01-ch4sk1fk1fl1.tiff   \n1  SQ00014812/r01c02f01p01-ch4sk1fk1fl1.tiff   \n2  SQ00014812/r01c03f01p01-ch4sk1fk1fl1.tiff   \n3  SQ00014812/r01c04f01p01-ch4sk1fk1fl1.tiff   \n4  SQ00014812/r01c05f01p01-ch4sk1fk1fl1.tiff   \n\n                                        Mito  \\\n0  SQ00014812/r01c01f01p01-ch5sk1fk1fl1.tiff   \n1  SQ00014812/r01c02f01p01-ch5sk1fk1fl1.tiff   \n2  SQ00014812/r01c03f01p01-ch5sk1fk1fl1.tiff   \n3  SQ00014812/r01c04f01p01-ch5sk1fk1fl1.tiff   \n4  SQ00014812/r01c05f01p01-ch5sk1fk1fl1.tiff   \n\n                                         DNA  Concentration  Treatment_ID  \\\n0  SQ00014812/r01c01f01p01-ch1sk1fk1fl1.tiff            NaN             0   \n1  SQ00014812/r01c02f01p01-ch1sk1fk1fl1.tiff            NaN             0   \n2  SQ00014812/r01c03f01p01-ch1sk1fk1fl1.tiff            NaN             0   \n3  SQ00014812/r01c04f01p01-ch1sk1fk1fl1.tiff            NaN             0   \n4  SQ00014812/r01c05f01p01-ch1sk1fk1fl1.tiff            NaN             0   \n\n  Compound pert_iname  Treatment_Replicate Treatment     Plate_Map_Name  \\\n0     DMSO        NaN                    1   DMSO@NA  C-7161-01-LM6-022   \n1     DMSO        NaN                    2   DMSO@NA  C-7161-01-LM6-022   \n2     DMSO        NaN                    3   DMSO@NA  C-7161-01-LM6-022   \n3     DMSO        NaN                    4   DMSO@NA  C-7161-01-LM6-022   \n4     DMSO        NaN                    5   DMSO@NA  C-7161-01-LM6-022   \n\n      Split  \n0  Training  \n1  Training  \n2  Training  \n3  Training  \n4  Training  ",
      "text/html": "<div>\n<style scoped>\n    .dataframe tbody tr th:only-of-type {\n        vertical-align: middle;\n    }\n\n    .dataframe tbody tr th {\n        vertical-align: top;\n    }\n\n    .dataframe thead th {\n        text-align: right;\n    }\n</style>\n<table border=\"1\" class=\"dataframe\">\n  <thead>\n    <tr style=\"text-align: right;\">\n      <th></th>\n      <th>Metadata_Plate</th>\n      <th>Metadata_Well</th>\n      <th>Metadata_Site</th>\n      <th>Metadata_broad_sample</th>\n      <th>Metadata_moa</th>\n      <th>Metadata_mmoles_per_liter</th>\n      <th>Metadata_dose_recode</th>\n      <th>RNA</th>\n      <th>ER</th>\n      <th>AGP</th>\n      <th>Mito</th>\n      <th>DNA</th>\n      <th>Concentration</th>\n      <th>Treatment_ID</th>\n      <th>Compound</th>\n      <th>pert_iname</th>\n      <th>Treatment_Replicate</th>\n      <th>Treatment</th>\n      <th>Plate_Map_Name</th>\n      <th>Split</th>\n    </tr>\n  </thead>\n  <tbody>\n    <tr>\n      <th>0</th>\n      <td>SQ00014812</td>\n      <td>A01</td>\n      <td>1</td>\n      <td>DMSO</td>\n      <td>unknown</td>\n      <td>0.0</td>\n      <td>0</td>\n      <td>SQ00014812/r01c01f01p01-ch3sk1fk1fl1.tiff</td>\n      <td>SQ00014812/r01c01f01p01-ch2sk1fk1fl1.tiff</td>\n      <td>SQ00014812/r01c01f01p01-ch4sk1fk1fl1.tiff</td>\n      <td>SQ00014812/r01c01f01p01-ch5sk1fk1fl1.tiff</td>\n      <td>SQ00014812/r01c01f01p01-ch1sk1fk1fl1.tiff</td>\n      <td>NaN</td>\n      <td>0</td>\n      <td>DMSO</td>\n      <td>NaN</td>\n      <td>1</td>\n      <td>DMSO@NA</td>\n      <td>C-7161-01-LM6-022</td>\n      <td>Training</td>\n    </tr>\n    <tr>\n      <th>1</th>\n      <td>SQ00014812</td>\n      <td>A02</td>\n      <td>1</td>\n      <td>DMSO</td>\n      <td>unknown</td>\n      <td>0.0</td>\n      <td>0</td>\n      <td>SQ00014812/r01c02f01p01-ch3sk1fk1fl1.tiff</td>\n      <td>SQ00014812/r01c02f01p01-ch2sk1fk1fl1.tiff</td>\n      <td>SQ00014812/r01c02f01p01-ch4sk1fk1fl1.tiff</td>\n      <td>SQ00014812/r01c02f01p01-ch5sk1fk1fl1.tiff</td>\n      <td>SQ00014812/r01c02f01p01-ch1sk1fk1fl1.tiff</td>\n      <td>NaN</td>\n      <td>0</td>\n      <td>DMSO</td>\n      <td>NaN</td>\n      <td>2</td>\n      <td>DMSO@NA</td>\n      <td>C-7161-01-LM6-022</td>\n      <td>Training</td>\n    </tr>\n    <tr>\n      <th>2</th>\n      <td>SQ00014812</td>\n      <td>A03</td>\n      <td>1</td>\n      <td>DMSO</td>\n      <td>unknown</td>\n      <td>0.0</td>\n      <td>0</td>\n      <td>SQ00014812/r01c03f01p01-ch3sk1fk1fl1.tiff</td>\n      <td>SQ00014812/r01c03f01p01-ch2sk1fk1fl1.tiff</td>\n      <td>SQ00014812/r01c03f01p01-ch4sk1fk1fl1.tiff</td>\n      <td>SQ00014812/r01c03f01p01-ch5sk1fk1fl1.tiff</td>\n      <td>SQ00014812/r01c03f01p01-ch1sk1fk1fl1.tiff</td>\n      <td>NaN</td>\n      <td>0</td>\n      <td>DMSO</td>\n      <td>NaN</td>\n      <td>3</td>\n      <td>DMSO@NA</td>\n      <td>C-7161-01-LM6-022</td>\n      <td>Training</td>\n    </tr>\n    <tr>\n      <th>3</th>\n      <td>SQ00014812</td>\n      <td>A04</td>\n      <td>1</td>\n      <td>DMSO</td>\n      <td>unknown</td>\n      <td>0.0</td>\n      <td>0</td>\n      <td>SQ00014812/r01c04f01p01-ch3sk1fk1fl1.tiff</td>\n      <td>SQ00014812/r01c04f01p01-ch2sk1fk1fl1.tiff</td>\n      <td>SQ00014812/r01c04f01p01-ch4sk1fk1fl1.tiff</td>\n      <td>SQ00014812/r01c04f01p01-ch5sk1fk1fl1.tiff</td>\n      <td>SQ00014812/r01c04f01p01-ch1sk1fk1fl1.tiff</td>\n      <td>NaN</td>\n      <td>0</td>\n      <td>DMSO</td>\n      <td>NaN</td>\n      <td>4</td>\n      <td>DMSO@NA</td>\n      <td>C-7161-01-LM6-022</td>\n      <td>Training</td>\n    </tr>\n    <tr>\n      <th>4</th>\n      <td>SQ00014812</td>\n      <td>A05</td>\n      <td>1</td>\n      <td>DMSO</td>\n      <td>unknown</td>\n      <td>0.0</td>\n      <td>0</td>\n      <td>SQ00014812/r01c05f01p01-ch3sk1fk1fl1.tiff</td>\n      <td>SQ00014812/r01c05f01p01-ch2sk1fk1fl1.tiff</td>\n      <td>SQ00014812/r01c05f01p01-ch4sk1fk1fl1.tiff</td>\n      <td>SQ00014812/r01c05f01p01-ch5sk1fk1fl1.tiff</td>\n      <td>SQ00014812/r01c05f01p01-ch1sk1fk1fl1.tiff</td>\n      <td>NaN</td>\n      <td>0</td>\n      <td>DMSO</td>\n      <td>NaN</td>\n      <td>5</td>\n      <td>DMSO@NA</td>\n      <td>C-7161-01-LM6-022</td>\n      <td>Training</td>\n    </tr>\n  </tbody>\n</table>\n</div>"
     },
     "execution_count": 19,
     "metadata": {},
     "output_type": "execute_result"
    }
   ],
   "source": [
    "index.head()\n"
   ],
   "metadata": {
    "collapsed": false,
    "pycharm": {
     "name": "#%%\n"
    }
   }
  },
  {
   "cell_type": "code",
   "execution_count": 41,
   "outputs": [
    {
     "data": {
      "text/plain": "BRD-K70463136-001-01-5    1\nBRD-K54006094-051-01-7    1\nBRD-K20958582-001-01-4    1\nBRD-A06935312-001-04-3    1\nBRD-K51263939-001-08-6    1\n                         ..\nBRD-K06335600-003-20-7    1\nBRD-K70464547-003-01-2    1\nBRD-K00494077-066-01-9    1\nBRD-A97479839-003-13-3    1\nBRD-K07691486-001-15-5    1\nName: Metadata_broad_sample, Length: 1144, dtype: int64"
     },
     "execution_count": 41,
     "metadata": {},
     "output_type": "execute_result"
    }
   ],
   "source": [
    "df.Metadata_broad_sample.value_counts()"
   ],
   "metadata": {
    "collapsed": false,
    "pycharm": {
     "name": "#%%\n"
    }
   }
  },
  {
   "cell_type": "code",
   "execution_count": 74,
   "outputs": [
    {
     "data": {
      "text/plain": "      Metadata_broad_sample  efficientnet_0  efficientnet_1  efficientnet_2  \\\n0    BRD-A02006392-001-10-7       -0.176622       -0.142385       -0.152750   \n1    BRD-A02710418-003-11-8       -0.173832       -0.142791       -0.155356   \n2    BRD-A05457250-001-05-0       -0.176071       -0.155749       -0.161774   \n3    BRD-A07986123-001-02-8       -0.155393       -0.126701       -0.122958   \n4    BRD-A09349126-001-10-7       -0.175576       -0.139735       -0.159090   \n..                      ...             ...             ...             ...   \n929  BRD-K99545815-001-06-3       -0.143891       -0.061975       -0.140031   \n930  BRD-K99604664-001-01-1       -0.158073       -0.118083       -0.132081   \n931  BRD-K99749624-001-07-0       -0.150438       -0.113825       -0.127900   \n932  BRD-K99792991-001-34-9       -0.148306       -0.106373       -0.082971   \n933                    DMSO       -0.171279       -0.145154       -0.156067   \n\n     efficientnet_3  efficientnet_4  efficientnet_5  efficientnet_6  \\\n0          0.104187       -0.084907       -0.179724       -0.112525   \n1          0.073125       -0.092427       -0.179326       -0.115437   \n2         -0.035939       -0.093066       -0.193235       -0.113029   \n3          0.211526       -0.094230       -0.176516       -0.102316   \n4          0.096396       -0.088254       -0.174185       -0.112148   \n..              ...             ...             ...             ...   \n929        0.296240       -0.083314       -0.028642       -0.081474   \n930        0.092220       -0.101030       -0.176034       -0.106032   \n931       -0.038900       -0.106032       -0.123990       -0.106113   \n932        0.160005       -0.093079       -0.153175       -0.096187   \n933        0.002021       -0.094524       -0.184248       -0.113691   \n\n     efficientnet_7  efficientnet_8  ...  efficientnet_6396  \\\n0         -0.162467       -0.098899  ...          -0.034899   \n1         -0.157393       -0.116601  ...          -0.034742   \n2         -0.161600       -0.060474  ...          -0.034277   \n3         -0.139009       -0.145905  ...          -0.037998   \n4         -0.156863       -0.107829  ...          -0.034614   \n..              ...             ...  ...                ...   \n929       -0.097347       -0.099110  ...          -0.044580   \n930       -0.135580       -0.135449  ...          -0.044317   \n931       -0.119545       -0.143794  ...          -0.037606   \n932       -0.120803       -0.135865  ...          -0.034360   \n933       -0.158160       -0.105551  ...          -0.036380   \n\n     efficientnet_6397  efficientnet_6398  efficientnet_6399  \\\n0            -0.160830          -0.075636           0.648274   \n1            -0.157554          -0.068091           0.737472   \n2            -0.153299          -0.077206           0.609096   \n3            -0.164276          -0.082315           0.770513   \n4            -0.156627          -0.071017           0.779743   \n..                 ...                ...                ...   \n929          -0.165797          -0.086623           0.833252   \n930          -0.170153          -0.077641           0.713382   \n931          -0.177550          -0.080994           0.960181   \n932          -0.165817          -0.107996           1.076423   \n933          -0.155424          -0.071529           0.648937   \n\n     Metadata_pert_well  Metadata_mmoles_per_liter  Metadata_dose_recode  \\\n0                   G19                       10.0                     6   \n1                   O13                       10.0                     6   \n2                   I13                       10.0                     6   \n3                   A13                       10.0                     6   \n4                   G07                       10.0                     6   \n..                  ...                        ...                   ...   \n929                 M19                       10.0                     6   \n930                 N19                       10.0                     6   \n931                 N13                       10.0                     6   \n932                 M19                       10.0                     6   \n933                 A01                        0.0                     0   \n\n     Metadata_time_point                                       Metadata_moa  \\\n0                    48H                            calcium channel blocker   \n1                    48H                            opioid receptor agonist   \n2                    48H                     L-type calcium channel blocker   \n3                    48H                        androgen receptor modulator   \n4                    48H                      progesterone receptor agonist   \n..                   ...                                                ...   \n929                  48H                    focal adhesion kinase inhibitor   \n930                  48H                      progesterone receptor agonist   \n931                  48H  PDGFR tyrosine kinase receptor inhibitor|VEGFR...   \n932                  48H                        potassium channel activator   \n933                  48H                                            unknown   \n\n                                      Metadata_target  \n0                              CACNA1D|CACNA2D1|KCNN4  \n1                                                BCHE  \n2                                             unknown  \n3                                          AR|CYP17A1  \n4                                                 PGR  \n..                                                ...  \n929                                        PTK2|PTK2B  \n930                                               PGR  \n931  CSF1|CSF1R|FLT1|FLT3|FLT4|KDR|KIT|PDGFRB|RET|TEK  \n932                                        GLUD1|SDHD  \n933                                           unknown  \n\n[934 rows x 6407 columns]",
      "text/html": "<div>\n<style scoped>\n    .dataframe tbody tr th:only-of-type {\n        vertical-align: middle;\n    }\n\n    .dataframe tbody tr th {\n        vertical-align: top;\n    }\n\n    .dataframe thead th {\n        text-align: right;\n    }\n</style>\n<table border=\"1\" class=\"dataframe\">\n  <thead>\n    <tr style=\"text-align: right;\">\n      <th></th>\n      <th>Metadata_broad_sample</th>\n      <th>efficientnet_0</th>\n      <th>efficientnet_1</th>\n      <th>efficientnet_2</th>\n      <th>efficientnet_3</th>\n      <th>efficientnet_4</th>\n      <th>efficientnet_5</th>\n      <th>efficientnet_6</th>\n      <th>efficientnet_7</th>\n      <th>efficientnet_8</th>\n      <th>...</th>\n      <th>efficientnet_6396</th>\n      <th>efficientnet_6397</th>\n      <th>efficientnet_6398</th>\n      <th>efficientnet_6399</th>\n      <th>Metadata_pert_well</th>\n      <th>Metadata_mmoles_per_liter</th>\n      <th>Metadata_dose_recode</th>\n      <th>Metadata_time_point</th>\n      <th>Metadata_moa</th>\n      <th>Metadata_target</th>\n    </tr>\n  </thead>\n  <tbody>\n    <tr>\n      <th>0</th>\n      <td>BRD-A02006392-001-10-7</td>\n      <td>-0.176622</td>\n      <td>-0.142385</td>\n      <td>-0.152750</td>\n      <td>0.104187</td>\n      <td>-0.084907</td>\n      <td>-0.179724</td>\n      <td>-0.112525</td>\n      <td>-0.162467</td>\n      <td>-0.098899</td>\n      <td>...</td>\n      <td>-0.034899</td>\n      <td>-0.160830</td>\n      <td>-0.075636</td>\n      <td>0.648274</td>\n      <td>G19</td>\n      <td>10.0</td>\n      <td>6</td>\n      <td>48H</td>\n      <td>calcium channel blocker</td>\n      <td>CACNA1D|CACNA2D1|KCNN4</td>\n    </tr>\n    <tr>\n      <th>1</th>\n      <td>BRD-A02710418-003-11-8</td>\n      <td>-0.173832</td>\n      <td>-0.142791</td>\n      <td>-0.155356</td>\n      <td>0.073125</td>\n      <td>-0.092427</td>\n      <td>-0.179326</td>\n      <td>-0.115437</td>\n      <td>-0.157393</td>\n      <td>-0.116601</td>\n      <td>...</td>\n      <td>-0.034742</td>\n      <td>-0.157554</td>\n      <td>-0.068091</td>\n      <td>0.737472</td>\n      <td>O13</td>\n      <td>10.0</td>\n      <td>6</td>\n      <td>48H</td>\n      <td>opioid receptor agonist</td>\n      <td>BCHE</td>\n    </tr>\n    <tr>\n      <th>2</th>\n      <td>BRD-A05457250-001-05-0</td>\n      <td>-0.176071</td>\n      <td>-0.155749</td>\n      <td>-0.161774</td>\n      <td>-0.035939</td>\n      <td>-0.093066</td>\n      <td>-0.193235</td>\n      <td>-0.113029</td>\n      <td>-0.161600</td>\n      <td>-0.060474</td>\n      <td>...</td>\n      <td>-0.034277</td>\n      <td>-0.153299</td>\n      <td>-0.077206</td>\n      <td>0.609096</td>\n      <td>I13</td>\n      <td>10.0</td>\n      <td>6</td>\n      <td>48H</td>\n      <td>L-type calcium channel blocker</td>\n      <td>unknown</td>\n    </tr>\n    <tr>\n      <th>3</th>\n      <td>BRD-A07986123-001-02-8</td>\n      <td>-0.155393</td>\n      <td>-0.126701</td>\n      <td>-0.122958</td>\n      <td>0.211526</td>\n      <td>-0.094230</td>\n      <td>-0.176516</td>\n      <td>-0.102316</td>\n      <td>-0.139009</td>\n      <td>-0.145905</td>\n      <td>...</td>\n      <td>-0.037998</td>\n      <td>-0.164276</td>\n      <td>-0.082315</td>\n      <td>0.770513</td>\n      <td>A13</td>\n      <td>10.0</td>\n      <td>6</td>\n      <td>48H</td>\n      <td>androgen receptor modulator</td>\n      <td>AR|CYP17A1</td>\n    </tr>\n    <tr>\n      <th>4</th>\n      <td>BRD-A09349126-001-10-7</td>\n      <td>-0.175576</td>\n      <td>-0.139735</td>\n      <td>-0.159090</td>\n      <td>0.096396</td>\n      <td>-0.088254</td>\n      <td>-0.174185</td>\n      <td>-0.112148</td>\n      <td>-0.156863</td>\n      <td>-0.107829</td>\n      <td>...</td>\n      <td>-0.034614</td>\n      <td>-0.156627</td>\n      <td>-0.071017</td>\n      <td>0.779743</td>\n      <td>G07</td>\n      <td>10.0</td>\n      <td>6</td>\n      <td>48H</td>\n      <td>progesterone receptor agonist</td>\n      <td>PGR</td>\n    </tr>\n    <tr>\n      <th>...</th>\n      <td>...</td>\n      <td>...</td>\n      <td>...</td>\n      <td>...</td>\n      <td>...</td>\n      <td>...</td>\n      <td>...</td>\n      <td>...</td>\n      <td>...</td>\n      <td>...</td>\n      <td>...</td>\n      <td>...</td>\n      <td>...</td>\n      <td>...</td>\n      <td>...</td>\n      <td>...</td>\n      <td>...</td>\n      <td>...</td>\n      <td>...</td>\n      <td>...</td>\n      <td>...</td>\n    </tr>\n    <tr>\n      <th>929</th>\n      <td>BRD-K99545815-001-06-3</td>\n      <td>-0.143891</td>\n      <td>-0.061975</td>\n      <td>-0.140031</td>\n      <td>0.296240</td>\n      <td>-0.083314</td>\n      <td>-0.028642</td>\n      <td>-0.081474</td>\n      <td>-0.097347</td>\n      <td>-0.099110</td>\n      <td>...</td>\n      <td>-0.044580</td>\n      <td>-0.165797</td>\n      <td>-0.086623</td>\n      <td>0.833252</td>\n      <td>M19</td>\n      <td>10.0</td>\n      <td>6</td>\n      <td>48H</td>\n      <td>focal adhesion kinase inhibitor</td>\n      <td>PTK2|PTK2B</td>\n    </tr>\n    <tr>\n      <th>930</th>\n      <td>BRD-K99604664-001-01-1</td>\n      <td>-0.158073</td>\n      <td>-0.118083</td>\n      <td>-0.132081</td>\n      <td>0.092220</td>\n      <td>-0.101030</td>\n      <td>-0.176034</td>\n      <td>-0.106032</td>\n      <td>-0.135580</td>\n      <td>-0.135449</td>\n      <td>...</td>\n      <td>-0.044317</td>\n      <td>-0.170153</td>\n      <td>-0.077641</td>\n      <td>0.713382</td>\n      <td>N19</td>\n      <td>10.0</td>\n      <td>6</td>\n      <td>48H</td>\n      <td>progesterone receptor agonist</td>\n      <td>PGR</td>\n    </tr>\n    <tr>\n      <th>931</th>\n      <td>BRD-K99749624-001-07-0</td>\n      <td>-0.150438</td>\n      <td>-0.113825</td>\n      <td>-0.127900</td>\n      <td>-0.038900</td>\n      <td>-0.106032</td>\n      <td>-0.123990</td>\n      <td>-0.106113</td>\n      <td>-0.119545</td>\n      <td>-0.143794</td>\n      <td>...</td>\n      <td>-0.037606</td>\n      <td>-0.177550</td>\n      <td>-0.080994</td>\n      <td>0.960181</td>\n      <td>N13</td>\n      <td>10.0</td>\n      <td>6</td>\n      <td>48H</td>\n      <td>PDGFR tyrosine kinase receptor inhibitor|VEGFR...</td>\n      <td>CSF1|CSF1R|FLT1|FLT3|FLT4|KDR|KIT|PDGFRB|RET|TEK</td>\n    </tr>\n    <tr>\n      <th>932</th>\n      <td>BRD-K99792991-001-34-9</td>\n      <td>-0.148306</td>\n      <td>-0.106373</td>\n      <td>-0.082971</td>\n      <td>0.160005</td>\n      <td>-0.093079</td>\n      <td>-0.153175</td>\n      <td>-0.096187</td>\n      <td>-0.120803</td>\n      <td>-0.135865</td>\n      <td>...</td>\n      <td>-0.034360</td>\n      <td>-0.165817</td>\n      <td>-0.107996</td>\n      <td>1.076423</td>\n      <td>M19</td>\n      <td>10.0</td>\n      <td>6</td>\n      <td>48H</td>\n      <td>potassium channel activator</td>\n      <td>GLUD1|SDHD</td>\n    </tr>\n    <tr>\n      <th>933</th>\n      <td>DMSO</td>\n      <td>-0.171279</td>\n      <td>-0.145154</td>\n      <td>-0.156067</td>\n      <td>0.002021</td>\n      <td>-0.094524</td>\n      <td>-0.184248</td>\n      <td>-0.113691</td>\n      <td>-0.158160</td>\n      <td>-0.105551</td>\n      <td>...</td>\n      <td>-0.036380</td>\n      <td>-0.155424</td>\n      <td>-0.071529</td>\n      <td>0.648937</td>\n      <td>A01</td>\n      <td>0.0</td>\n      <td>0</td>\n      <td>48H</td>\n      <td>unknown</td>\n      <td>unknown</td>\n    </tr>\n  </tbody>\n</table>\n<p>934 rows × 6407 columns</p>\n</div>"
     },
     "execution_count": 74,
     "metadata": {},
     "output_type": "execute_result"
    }
   ],
   "source": [
    "df"
   ],
   "metadata": {
    "collapsed": false,
    "pycharm": {
     "name": "#%%\n"
    }
   }
  },
  {
   "cell_type": "code",
   "execution_count": 7,
   "outputs": [],
   "source": [
    "\n",
    "index = pd.read_csv('sub_index.csv')"
   ],
   "metadata": {
    "collapsed": false,
    "pycharm": {
     "name": "#%%\n"
    }
   }
  },
  {
   "cell_type": "code",
   "execution_count": 10,
   "outputs": [],
   "source": [
    "index.drop_duplicates(subset=['Metadata_Plate', 'Metadata_Well'], keep='first', inplace=True, ignore_index=True)\n"
   ],
   "metadata": {
    "collapsed": false,
    "pycharm": {
     "name": "#%%\n"
    }
   }
  },
  {
   "cell_type": "code",
   "execution_count": 11,
   "outputs": [
    {
     "data": {
      "text/plain": "False    8763\ndtype: int64"
     },
     "execution_count": 11,
     "metadata": {},
     "output_type": "execute_result"
    }
   ],
   "source": [
    "index.duplicated(subset=['Metadata_Plate', 'Metadata_Well']).value_counts()"
   ],
   "metadata": {
    "collapsed": false,
    "pycharm": {
     "name": "#%%\n"
    }
   }
  },
  {
   "cell_type": "code",
   "execution_count": 12,
   "outputs": [
    {
     "data": {
      "text/plain": "DMSO                      3252\nBRD-A12077521-003-01-5       5\nBRD-K05524748-003-04-4       5\nBRD-K73794685-001-01-5       5\nBRD-K83057217-001-01-2       5\n                          ... \nBRD-K43002771-034-01-6       2\nBRD-A40787240-066-04-6       2\nBRD-K42981054-001-01-9       2\nBRD-K43578482-001-01-4       2\nBRD-K41434598-003-01-9       2\nName: Metadata_broad_sample, Length: 1144, dtype: int64"
     },
     "execution_count": 12,
     "metadata": {},
     "output_type": "execute_result"
    }
   ],
   "source": [
    "index.Metadata_broad_sample.value_counts()\n"
   ],
   "metadata": {
    "collapsed": false,
    "pycharm": {
     "name": "#%%\n"
    }
   }
  },
  {
   "cell_type": "code",
   "execution_count": 13,
   "outputs": [
    {
     "data": {
      "text/plain": "False    10578\ndtype: int64"
     },
     "execution_count": 13,
     "metadata": {},
     "output_type": "execute_result"
    }
   ],
   "source": [
    "df.duplicated(subset=['Metadata_Plate', 'Metadata_Well']).value_counts()"
   ],
   "metadata": {
    "collapsed": false,
    "pycharm": {
     "name": "#%%\n"
    }
   }
  },
  {
   "cell_type": "code",
   "execution_count": 20,
   "outputs": [
    {
     "data": {
      "text/plain": "      Metadata_Plate Metadata_Well\n0         SQ00014812           A01\n1         SQ00014812           A02\n2         SQ00014812           A03\n3         SQ00014812           A04\n4         SQ00014812           A05\n...              ...           ...\n10573     SQ00015231           M01\n10574     SQ00015231           M07\n10575     SQ00015231           M13\n10576     SQ00015231           M19\n10577     SQ00015231           N01\n\n[10578 rows x 2 columns]",
      "text/html": "<div>\n<style scoped>\n    .dataframe tbody tr th:only-of-type {\n        vertical-align: middle;\n    }\n\n    .dataframe tbody tr th {\n        vertical-align: top;\n    }\n\n    .dataframe thead th {\n        text-align: right;\n    }\n</style>\n<table border=\"1\" class=\"dataframe\">\n  <thead>\n    <tr style=\"text-align: right;\">\n      <th></th>\n      <th>Metadata_Plate</th>\n      <th>Metadata_Well</th>\n    </tr>\n  </thead>\n  <tbody>\n    <tr>\n      <th>0</th>\n      <td>SQ00014812</td>\n      <td>A01</td>\n    </tr>\n    <tr>\n      <th>1</th>\n      <td>SQ00014812</td>\n      <td>A02</td>\n    </tr>\n    <tr>\n      <th>2</th>\n      <td>SQ00014812</td>\n      <td>A03</td>\n    </tr>\n    <tr>\n      <th>3</th>\n      <td>SQ00014812</td>\n      <td>A04</td>\n    </tr>\n    <tr>\n      <th>4</th>\n      <td>SQ00014812</td>\n      <td>A05</td>\n    </tr>\n    <tr>\n      <th>...</th>\n      <td>...</td>\n      <td>...</td>\n    </tr>\n    <tr>\n      <th>10573</th>\n      <td>SQ00015231</td>\n      <td>M01</td>\n    </tr>\n    <tr>\n      <th>10574</th>\n      <td>SQ00015231</td>\n      <td>M07</td>\n    </tr>\n    <tr>\n      <th>10575</th>\n      <td>SQ00015231</td>\n      <td>M13</td>\n    </tr>\n    <tr>\n      <th>10576</th>\n      <td>SQ00015231</td>\n      <td>M19</td>\n    </tr>\n    <tr>\n      <th>10577</th>\n      <td>SQ00015231</td>\n      <td>N01</td>\n    </tr>\n  </tbody>\n</table>\n<p>10578 rows × 2 columns</p>\n</div>"
     },
     "execution_count": 20,
     "metadata": {},
     "output_type": "execute_result"
    }
   ],
   "source": [
    "df[['Metadata_Plate', 'Metadata_Well']]"
   ],
   "metadata": {
    "collapsed": false,
    "pycharm": {
     "name": "#%%\n"
    }
   }
  },
  {
   "cell_type": "code",
   "execution_count": 21,
   "outputs": [
    {
     "data": {
      "text/plain": "     Metadata_Plate Metadata_Well\n0        SQ00014812           A01\n1        SQ00014812           A02\n2        SQ00014812           A03\n3        SQ00014812           A04\n4        SQ00014812           A05\n...             ...           ...\n8758     SQ00015198           P13\n8759     SQ00015230           P13\n8760     SQ00015231           P13\n8761     SQ00015232           P13\n8762     SQ00015233           P13\n\n[8763 rows x 2 columns]",
      "text/html": "<div>\n<style scoped>\n    .dataframe tbody tr th:only-of-type {\n        vertical-align: middle;\n    }\n\n    .dataframe tbody tr th {\n        vertical-align: top;\n    }\n\n    .dataframe thead th {\n        text-align: right;\n    }\n</style>\n<table border=\"1\" class=\"dataframe\">\n  <thead>\n    <tr style=\"text-align: right;\">\n      <th></th>\n      <th>Metadata_Plate</th>\n      <th>Metadata_Well</th>\n    </tr>\n  </thead>\n  <tbody>\n    <tr>\n      <th>0</th>\n      <td>SQ00014812</td>\n      <td>A01</td>\n    </tr>\n    <tr>\n      <th>1</th>\n      <td>SQ00014812</td>\n      <td>A02</td>\n    </tr>\n    <tr>\n      <th>2</th>\n      <td>SQ00014812</td>\n      <td>A03</td>\n    </tr>\n    <tr>\n      <th>3</th>\n      <td>SQ00014812</td>\n      <td>A04</td>\n    </tr>\n    <tr>\n      <th>4</th>\n      <td>SQ00014812</td>\n      <td>A05</td>\n    </tr>\n    <tr>\n      <th>...</th>\n      <td>...</td>\n      <td>...</td>\n    </tr>\n    <tr>\n      <th>8758</th>\n      <td>SQ00015198</td>\n      <td>P13</td>\n    </tr>\n    <tr>\n      <th>8759</th>\n      <td>SQ00015230</td>\n      <td>P13</td>\n    </tr>\n    <tr>\n      <th>8760</th>\n      <td>SQ00015231</td>\n      <td>P13</td>\n    </tr>\n    <tr>\n      <th>8761</th>\n      <td>SQ00015232</td>\n      <td>P13</td>\n    </tr>\n    <tr>\n      <th>8762</th>\n      <td>SQ00015233</td>\n      <td>P13</td>\n    </tr>\n  </tbody>\n</table>\n<p>8763 rows × 2 columns</p>\n</div>"
     },
     "execution_count": 21,
     "metadata": {},
     "output_type": "execute_result"
    }
   ],
   "source": [
    "index[['Metadata_Plate', 'Metadata_Well']]"
   ],
   "metadata": {
    "collapsed": false,
    "pycharm": {
     "name": "#%%\n"
    }
   }
  },
  {
   "cell_type": "code",
   "execution_count": 22,
   "outputs": [
    {
     "data": {
      "text/plain": "unknown                                         3252\nphosphodiesterase inhibitor                      162\nadrenergic receptor antagonist                   155\ncyclooxygenase inhibitor                         132\nhistamine receptor antagonist                    122\n                                                ... \nneprilysin inhibitor                               9\nfocal adhesion kinase inhibitor                    7\ntricyclic antidepressant                           7\ncalmodulin antagonist                              7\nestrogen receptor agonist|estrogenic hormone       6\nName: Metadata_moa, Length: 235, dtype: int64"
     },
     "execution_count": 22,
     "metadata": {},
     "output_type": "execute_result"
    }
   ],
   "source": [
    "index.Metadata_moa.value_counts()\n"
   ],
   "metadata": {
    "collapsed": false,
    "pycharm": {
     "name": "#%%\n"
    }
   }
  },
  {
   "cell_type": "code",
   "execution_count": 30,
   "outputs": [
    {
     "data": {
      "text/plain": "DMSO                      3203\nBRD-K36467523-001-02-8       5\nBRD-K42191735-001-05-3       5\nBRD-K91495480-001-02-2       5\nBRD-K06335600-003-20-7       5\n                          ... \nBRD-K43410529-001-02-3       2\nBRD-K42981054-001-01-9       2\nBRD-K41524689-001-23-5       2\nBRD-A43082555-001-01-1       2\nBRD-K37991163-003-13-4       2\nName: Metadata_broad_sample, Length: 1144, dtype: int64"
     },
     "execution_count": 30,
     "metadata": {},
     "output_type": "execute_result"
    }
   ],
   "source": [
    "df_meta.Metadata_broad_sample.value_counts()"
   ],
   "metadata": {
    "collapsed": false,
    "pycharm": {
     "name": "#%%\n"
    }
   }
  },
  {
   "cell_type": "code",
   "execution_count": 25,
   "outputs": [],
   "source": [
    "out = pd.merge(df, index, how='outer')"
   ],
   "metadata": {
    "collapsed": false,
    "pycharm": {
     "name": "#%%\n"
    }
   }
  },
  {
   "cell_type": "code",
   "execution_count": 28,
   "outputs": [
    {
     "data": {
      "text/plain": "Training    8606\nName: Split, dtype: int64"
     },
     "execution_count": 28,
     "metadata": {},
     "output_type": "execute_result"
    }
   ],
   "source": [
    "df_meta.Split.value_counts()"
   ],
   "metadata": {
    "collapsed": false,
    "pycharm": {
     "name": "#%%\n"
    }
   }
  },
  {
   "cell_type": "code",
   "execution_count": 29,
   "outputs": [
    {
     "data": {
      "text/plain": "unknown                                         3203\nphosphodiesterase inhibitor                      161\nadrenergic receptor antagonist                   155\ncyclooxygenase inhibitor                         128\nhistamine receptor antagonist                    119\n                                                ... \ncalmodulin antagonist                              7\ntricyclic antidepressant                           7\nfocal adhesion kinase inhibitor                    7\nestrogen receptor agonist|estrogenic hormone       6\nleukotriene synthesis inhibitor                    6\nName: Metadata_moa, Length: 235, dtype: int64"
     },
     "execution_count": 29,
     "metadata": {},
     "output_type": "execute_result"
    }
   ],
   "source": [
    "df_meta.Metadata_moa.value_counts()"
   ],
   "metadata": {
    "collapsed": false,
    "pycharm": {
     "name": "#%%\n"
    }
   }
  },
  {
   "cell_type": "code",
   "execution_count": 33,
   "outputs": [
    {
     "data": {
      "text/plain": "8321     BRD-K59574735-001-11-8\n8346     BRD-K39503511-001-03-9\n10471    BRD-K59574735-001-11-8\n10496    BRD-K39503511-001-03-9\n10551    BRD-K59574735-001-11-8\n10576    BRD-K39503511-001-03-9\nName: Metadata_broad_sample, dtype: object"
     },
     "execution_count": 33,
     "metadata": {},
     "output_type": "execute_result"
    }
   ],
   "source": [
    "df_meta.query(\"Metadata_moa == 'leukotriene synthesis inhibitor'\").Metadata_broad_sample"
   ],
   "metadata": {
    "collapsed": false,
    "pycharm": {
     "name": "#%%\n"
    }
   }
  },
  {
   "cell_type": "code",
   "execution_count": 1,
   "outputs": [
    {
     "ename": "NameError",
     "evalue": "name 'df' is not defined",
     "output_type": "error",
     "traceback": [
      "\u001B[0;31m---------------------------------------------------------------------------\u001B[0m",
      "\u001B[0;31mNameError\u001B[0m                                 Traceback (most recent call last)",
      "\u001B[0;32m<ipython-input-1-c42a15b2c7cf>\u001B[0m in \u001B[0;36m<module>\u001B[0;34m\u001B[0m\n\u001B[0;32m----> 1\u001B[0;31m \u001B[0mdf\u001B[0m\u001B[0;34m.\u001B[0m\u001B[0mhead\u001B[0m\u001B[0;34m(\u001B[0m\u001B[0;34m)\u001B[0m\u001B[0;34m\u001B[0m\u001B[0;34m\u001B[0m\u001B[0m\n\u001B[0m",
      "\u001B[0;31mNameError\u001B[0m: name 'df' is not defined"
     ]
    }
   ],
   "source": [
    "df.head()"
   ],
   "metadata": {
    "collapsed": false,
    "pycharm": {
     "name": "#%%\n"
    }
   }
  },
  {
   "cell_type": "code",
   "execution_count": 6,
   "outputs": [],
   "source": [],
   "metadata": {
    "collapsed": false,
    "pycharm": {
     "name": "#%%\n"
    }
   }
  },
  {
   "cell_type": "code",
   "execution_count": 13,
   "outputs": [
    {
     "data": {
      "text/plain": "unknown                                         2309\nphosphodiesterase inhibitor                      117\nadrenergic receptor antagonist                    95\ncyclooxygenase inhibitor                          85\nhistamine receptor antagonist                     85\n                                                ... \ngrowth hormone secretagogue receptor agonist       4\nfocal adhesion kinase inhibitor                    4\ntyrosinase inhibitor                               4\nmucolytic agent                                    3\nadrenergic inhibitor                               3\nName: Metadata_moa, Length: 231, dtype: int64"
     },
     "execution_count": 13,
     "metadata": {},
     "output_type": "execute_result"
    }
   ],
   "source": [
    "df_meta.Metadata_moa.value_counts()"
   ],
   "metadata": {
    "collapsed": false,
    "pycharm": {
     "name": "#%%\n"
    }
   }
  },
  {
   "cell_type": "code",
   "execution_count": 14,
   "outputs": [],
   "source": [
    "pi = df_meta.query(\"Metadata_moa == 'phosphodiesterase inhibitor'\")"
   ],
   "metadata": {
    "collapsed": false,
    "pycharm": {
     "name": "#%%\n"
    }
   }
  },
  {
   "cell_type": "code",
   "execution_count": 15,
   "outputs": [],
   "source": [
    "from cytominer_eval.transform import metric_melt\n"
   ],
   "metadata": {
    "collapsed": false,
    "pycharm": {
     "name": "#%%\n"
    }
   }
  },
  {
   "cell_type": "code",
   "execution_count": 19,
   "outputs": [],
   "source": [
    "melt = metric_melt(pi,\n",
    "            features,\n",
    "            meta_features)"
   ],
   "metadata": {
    "collapsed": false,
    "pycharm": {
     "name": "#%%\n"
    }
   }
  },
  {
   "cell_type": "code",
   "execution_count": 21,
   "outputs": [
    {
     "data": {
      "text/plain": "(array([   6.,   22.,   42.,   93.,  333.,  565.,  692.,  578., 1390.,\n        3065.]),\n array([0.77576301, 0.79808779, 0.82041257, 0.84273735, 0.86506212,\n        0.8873869 , 0.90971168, 0.93203646, 0.95436124, 0.97668601,\n        0.99901079]),\n <BarContainer object of 10 artists>)"
     },
     "execution_count": 21,
     "metadata": {},
     "output_type": "execute_result"
    },
    {
     "data": {
      "text/plain": "<Figure size 432x288 with 1 Axes>",
      "image/png": "[encoded data removed]"
     },
     "metadata": {
      "needs_background": "light"
     },
     "output_type": "display_data"
    }
   ],
   "source": [
    "plt.hist(melt.similarity_metric)"
   ],
   "metadata": {
    "collapsed": false,
    "pycharm": {
     "name": "#%%\n"
    }
   }
  },
  {
   "cell_type": "code",
   "execution_count": 22,
   "outputs": [],
   "source": [
    "sample = df_meta.query(\"Metadata_broad_sample == 'BRD-K36467523-001-02-8'\")"
   ],
   "metadata": {
    "collapsed": false,
    "pycharm": {
     "name": "#%%\n"
    }
   }
  },
  {
   "cell_type": "code",
   "execution_count": 23,
   "outputs": [],
   "source": [
    "melt = metric_melt(sample,\n",
    "            features,\n",
    "            meta_features)"
   ],
   "metadata": {
    "collapsed": false,
    "pycharm": {
     "name": "#%%\n"
    }
   }
  },
  {
   "cell_type": "code",
   "execution_count": 24,
   "outputs": [
    {
     "data": {
      "text/plain": "(array([3., 1., 3., 0., 0., 0., 0., 0., 0., 3.]),\n array([0.98718879, 0.98824938, 0.98930998, 0.99037058, 0.99143117,\n        0.99249177, 0.99355236, 0.99461296, 0.99567356, 0.99673415,\n        0.99779475]),\n <BarContainer object of 10 artists>)"
     },
     "execution_count": 24,
     "metadata": {},
     "output_type": "execute_result"
    },
    {
     "data": {
      "text/plain": "<Figure size 432x288 with 1 Axes>",
      "image/png": "[encoded data removed]"
     },
     "metadata": {
      "needs_background": "light"
     },
     "output_type": "display_data"
    }
   ],
   "source": [
    "plt.hist(melt.similarity_metric)"
   ],
   "metadata": {
    "collapsed": false,
    "pycharm": {
     "name": "#%%\n"
    }
   }
  },
  {
   "cell_type": "code",
   "execution_count": 4,
   "outputs": [],
   "source": [
    "df = pd.read_csv('raw.csv.gz')"
   ],
   "metadata": {
    "collapsed": false,
    "pycharm": {
     "name": "#%%\n"
    }
   }
  },
  {
   "cell_type": "code",
   "execution_count": 12,
   "outputs": [
    {
     "data": {
      "text/plain": "unknown                                         3252\nphosphodiesterase inhibitor                      162\nadrenergic receptor antagonist                   155\ncyclooxygenase inhibitor                         132\nhistamine receptor antagonist                    122\n                                                ... \nmucolytic agent                                    9\ncalmodulin antagonist                              7\nfocal adhesion kinase inhibitor                    7\ntricyclic antidepressant                           7\nestrogen receptor agonist|estrogenic hormone       6\nName: Metadata_moa, Length: 235, dtype: int64"
     },
     "execution_count": 12,
     "metadata": {},
     "output_type": "execute_result"
    }
   ],
   "source": [
    "index.Metadata_moa.value_counts()"
   ],
   "metadata": {
    "collapsed": false,
    "pycharm": {
     "name": "#%%\n"
    }
   }
  },
  {
   "cell_type": "code",
   "execution_count": 6,
   "outputs": [],
   "source": [
    "lincs_df = pd.read_csv('../../../baseline/01_data/2016_04_01_a549_48hr_batch1_consensus_modz_feature_select_dmso.csv.gz')\n",
    "lincs_df = lincs_df[['Metadata_broad_sample',\n",
    "   'Metadata_pert_well', 'Metadata_moa',\n",
    "   'Metadata_target']]\n",
    "lincs_df = lincs_df.drop_duplicates(['Metadata_broad_sample'], keep='first')"
   ],
   "metadata": {
    "collapsed": false,
    "pycharm": {
     "name": "#%%\n"
    }
   }
  },
  {
   "cell_type": "code",
   "execution_count": 8,
   "outputs": [
    {
     "data": {
      "text/plain": "Index(['Metadata_Plate', 'Metadata_Well', 'Metadata_Site',\n       'Metadata_broad_sample', 'Metadata_moa', 'Metadata_mmoles_per_liter',\n       'Metadata_dose_recode', 'RNA', 'ER', 'AGP', 'Mito', 'DNA',\n       'Concentration', 'Treatment_ID', 'Compound', 'pert_iname',\n       'Treatment_Replicate', 'Treatment', 'Plate_Map_Name', 'Split'],\n      dtype='object')"
     },
     "execution_count": 8,
     "metadata": {},
     "output_type": "execute_result"
    }
   ],
   "source": [
    "index.columns"
   ],
   "metadata": {
    "collapsed": false,
    "pycharm": {
     "name": "#%%\n"
    }
   }
  },
  {
   "cell_type": "code",
   "execution_count": 11,
   "outputs": [],
   "source": [
    "index = index[['Metadata_Plate', 'Metadata_Well','Metadata_broad_sample', 'Metadata_moa']]"
   ],
   "metadata": {
    "collapsed": false,
    "pycharm": {
     "name": "#%%\n"
    }
   }
  },
  {
   "cell_type": "code",
   "execution_count": 36,
   "outputs": [
    {
     "data": {
      "text/plain": "84"
     },
     "execution_count": 36,
     "metadata": {},
     "output_type": "execute_result"
    }
   ],
   "source": [
    "list(dic.values()).count(2)"
   ],
   "metadata": {
    "collapsed": false,
    "pycharm": {
     "name": "#%%\n"
    }
   }
  },
  {
   "cell_type": "code",
   "execution_count": 43,
   "outputs": [],
   "source": [
    "d = pd.merge(df, index, how='left',  on=['Metadata_Plate', 'Metadata_Well',], validate = 'one_to_one')\n",
    "meta_features = [col for col in d.columns.tolist() if col.startswith('Metadata_')]\n",
    "features = [col for col in d.columns.tolist() if col.startswith('efficientnet_')]\n",
    "d = d[meta_features + features]"
   ],
   "metadata": {
    "collapsed": false,
    "pycharm": {
     "name": "#%%\n"
    }
   }
  },
  {
   "cell_type": "code",
   "execution_count": 44,
   "outputs": [
    {
     "data": {
      "text/plain": "unknown                            2309\nphosphodiesterase inhibitor         117\nadrenergic receptor antagonist       95\ncyclooxygenase inhibitor             85\nhistamine receptor antagonist        85\n                                   ... \ntricyclic antidepressant              4\nnitric oxide stimulant                4\ncannabinoid receptor antagonist       4\nadrenergic inhibitor                  3\nmucolytic agent                       3\nName: Metadata_moa, Length: 231, dtype: int64"
     },
     "execution_count": 44,
     "metadata": {},
     "output_type": "execute_result"
    }
   ],
   "source": [
    "d.Metadata_moa.value_counts()"
   ],
   "metadata": {
    "collapsed": false,
    "pycharm": {
     "name": "#%%\n"
    }
   }
  },
  {
   "cell_type": "code",
   "execution_count": 73,
   "outputs": [
    {
     "data": {
      "text/plain": "23"
     },
     "execution_count": 73,
     "metadata": {},
     "output_type": "execute_result"
    }
   ],
   "source": [
    "list(dic.values()).count(1)"
   ],
   "metadata": {
    "collapsed": false,
    "pycharm": {
     "name": "#%%\n"
    }
   }
  },
  {
   "cell_type": "code",
   "execution_count": 53,
   "outputs": [
    {
     "data": {
      "text/plain": "1"
     },
     "execution_count": 53,
     "metadata": {},
     "output_type": "execute_result"
    }
   ],
   "source": [
    "len(d.query(\"Metadata_moa == 'mucolytic agent'\").Metadata_broad_sample.unique())"
   ],
   "metadata": {
    "collapsed": false,
    "pycharm": {
     "name": "#%%\n"
    }
   }
  },
  {
   "cell_type": "code",
   "execution_count": 52,
   "outputs": [
    {
     "data": {
      "text/plain": "2"
     },
     "execution_count": 52,
     "metadata": {},
     "output_type": "execute_result"
    }
   ],
   "source": [
    "dic['mucolytic agent']"
   ],
   "metadata": {
    "collapsed": false,
    "pycharm": {
     "name": "#%%\n"
    }
   }
  },
  {
   "cell_type": "code",
   "source": [
    "moas = d.Metadata_moa.unique()"
   ],
   "metadata": {
    "collapsed": false,
    "pycharm": {
     "name": "#%%\n"
    }
   },
   "execution_count": 61,
   "outputs": []
  },
  {
   "cell_type": "code",
   "execution_count": 71,
   "outputs": [],
   "source": [
    "dic = {}\n",
    "for moa in d.Metadata_moa.unique():\n",
    "    dic[moa] = len(d.query(\"Metadata_moa == @moa\").Metadata_broad_sample.unique())\n"
   ],
   "metadata": {
    "collapsed": false,
    "pycharm": {
     "name": "#%%\n"
    }
   }
  },
  {
   "cell_type": "code",
   "execution_count": 65,
   "outputs": [
    {
     "data": {
      "text/plain": "2"
     },
     "execution_count": 65,
     "metadata": {},
     "output_type": "execute_result"
    }
   ],
   "source": [
    "dic[moas[5]]"
   ],
   "metadata": {
    "collapsed": false,
    "pycharm": {
     "name": "#%%\n"
    }
   }
  },
  {
   "cell_type": "code",
   "execution_count": 69,
   "outputs": [
    {
     "data": {
      "text/plain": "1"
     },
     "execution_count": 69,
     "metadata": {},
     "output_type": "execute_result"
    }
   ],
   "source": [
    "len(d.query(\"Metadata_moa == @moas[5]\").Metadata_broad_sample.unique())\n"
   ],
   "metadata": {
    "collapsed": false,
    "pycharm": {
     "name": "#%%\n"
    }
   }
  },
  {
   "cell_type": "code",
   "execution_count": 72,
   "outputs": [
    {
     "data": {
      "text/plain": "{'unknown': 1,\n 'acetylcholine receptor antagonist': 18,\n 'HMGCR inhibitor': 6,\n 'HDAC inhibitor': 10,\n 'bacterial DNA gyrase inhibitor': 8,\n 'EGFR inhibitor|protein tyrosine kinase inhibitor': 1,\n 'DNA methyltransferase inhibitor': 3,\n nan: 0,\n 'fungal squalene epoxidase inhibitor': 3,\n 'benzodiazepine receptor agonist': 5,\n 'PKC activator': 2,\n 'adrenergic receptor agonist': 17,\n 'Aurora kinase inhibitor': 6,\n 'gamma secretase inhibitor': 6,\n 'glutamate receptor antagonist': 6,\n 'CFTR channel agonist': 2,\n 'calcium channel blocker': 14,\n 'serotonin receptor agonist|serotonin receptor antagonist': 3,\n 'EGFR inhibitor': 15,\n 'hypoxia inducible factor inhibitor': 2,\n 'DNA alkylating agent': 5,\n 'sodium channel blocker': 12,\n 'XIAP inhibitor': 3,\n 'HSP inhibitor': 4,\n 'AKT inhibitor': 6,\n 'angiotensin converting enzyme inhibitor': 10,\n 'leukotriene receptor antagonist': 4,\n '5 alpha reductase inhibitor': 3,\n 'adrenergic receptor antagonist': 22,\n 'c-Met inhibitor': 1,\n 'vitamin D receptor agonist': 5,\n 'histamine receptor antagonist': 20,\n 'P glycoprotein inhibitor': 2,\n 'CDK inhibitor': 5,\n 'calcineurin inhibitor': 3,\n 'Pim kinase inhibitor': 2,\n 'RNA polymerase inhibitor': 3,\n 'vasopressin receptor antagonist': 3,\n 'dipeptidyl peptidase inhibitor': 5,\n 'BCL inhibitor': 3,\n 'ACAT inhibitor': 3,\n 'cannabinoid receptor agonist': 2,\n 'dopamine reuptake inhibitor': 4,\n 'benzodiazepine receptor antagonist': 2,\n 'topoisomerase inhibitor': 14,\n 'HCV inhibitor': 4,\n 'dopamine receptor antagonist|serotonin receptor antagonist': 10,\n 'serotonin transporter (SERT) inhibitor': 2,\n 'Bcr-Abl kinase inhibitor': 2,\n 'VEGFR inhibitor': 3,\n 'estrogen receptor agonist|glucocorticoid receptor antagonist|progesterone receptor agonist|progesterone receptor antagonist': 1,\n \"Bruton's tyrosine kinase (BTK) inhibitor\": 3,\n 'PLK inhibitor': 5,\n 'selective serotonin reuptake inhibitor (SSRI)': 5,\n 'sigma receptor antagonist': 3,\n 'adenosine receptor antagonist': 4,\n 'cyclooxygenase inhibitor': 20,\n 'carbonic anhydrase inhibitor': 4,\n 'ribonucleotide reductase inhibitor': 4,\n 'T-type calcium channel blocker': 2,\n 'sterol demethylase inhibitor': 4,\n 'acetylcholine receptor agonist': 7,\n 'glutamate receptor agonist': 4,\n 'adenosine receptor agonist': 3,\n 'cytochrome P450 inhibitor': 4,\n 'serotonin receptor agonist': 9,\n 'ALK tyrosine kinase receptor inhibitor': 3,\n 'nitric oxide donor': 2,\n 'DNA synthesis inhibitor': 5,\n 'potassium channel activator': 4,\n 'aromatase inhibitor': 5,\n 'bacterial 50S ribosomal subunit inhibitor': 5,\n 'p38 MAPK inhibitor': 6,\n 'phosphodiesterase inhibitor': 28,\n 'neurotrophic agent': 2,\n 'endothelin receptor antagonist': 3,\n 'dihydrofolate reductase inhibitor': 3,\n 'glucocorticoid receptor agonist': 14,\n 'progesterone receptor antagonist': 2,\n 'PDGFR tyrosine kinase receptor inhibitor|VEGFR inhibitor': 2,\n 'dopamine receptor agonist': 9,\n 'angiotensin receptor antagonist': 6,\n 'retinoid receptor agonist': 6,\n 'angiogenesis inhibitor': 4,\n 'diuretic': 3,\n 'dopamine receptor antagonist': 16,\n 'coagulation factor inhibitor': 5,\n 'tubulin polymerization inhibitor': 8,\n 'proteasome inhibitor': 3,\n 'bacterial cell wall synthesis inhibitor': 9,\n 'PKC inhibitor': 5,\n 'histamine receptor modulator': 2,\n 'insulin sensitizer': 2,\n 'mTOR inhibitor': 7,\n 'ATP channel blocker': 3,\n 'neprilysin inhibitor': 1,\n 'NFkB pathway inhibitor': 4,\n 'DNA polymerase inhibitor': 5,\n 'potassium channel blocker': 7,\n 'KIT inhibitor|PDGFR tyrosine kinase receptor inhibitor|VEGFR inhibitor': 2,\n 'non-nucleoside reverse transcriptase inhibitor': 2,\n 'purine antagonist': 2,\n 'rho associated kinase inhibitor': 3,\n 'protein synthesis inhibitor': 4,\n 'xanthine oxidase inhibitor': 4,\n 'tumor necrosis factor release inhibitor': 2,\n 'TGF beta receptor inhibitor': 3,\n 'serotonin receptor antagonist': 12,\n 'sodium/potassium/chloride transporter inhibitor': 3,\n '11-beta hydroxysteroid dehydrogenase inhibitor|FXR agonist': 2,\n 'JAK inhibitor': 7,\n 'antithyroid agent': 2,\n 'aldose reductase inhibitor': 2,\n 'acetylcholine release enhancer': 2,\n 'platelet aggregation inhibitor': 2,\n 'sigma receptor agonist': 2,\n 'calcitonin antagonist': 3,\n 'L-type calcium channel blocker': 2,\n 'androgen receptor antagonist': 5,\n 'tricyclic antidepressant': 1,\n 'antimalarial agent': 2,\n 'CC chemokine receptor antagonist': 4,\n 'O6-alkylguanine-DNA alkyltransferase inhibitor': 2,\n 'androgen receptor modulator': 5,\n 'serotoninâ\\x80\\x93norepinephrine reuptake inhibitor (SNRI)': 1,\n 'thymidylate synthase inhibitor': 3,\n 'vitamin K antagonist': 3,\n 'GABA receptor modulator': 4,\n 'HIV protease inhibitor': 6,\n 'opioid receptor agonist': 4,\n 'tumor necrosis factor production inhibitor': 2,\n 'thyrotropin releasing hormone receptor agonist': 2,\n 'ATPase inhibitor': 4,\n 'beta-secretase inhibitor': 2,\n 'tachykinin antagonist': 6,\n 'bacterial 30S ribosomal subunit inhibitor': 3,\n 'gonadotropin releasing factor hormone receptor agonist': 2,\n 'sodium/glucose cotransporter inhibitor': 3,\n 'immunostimulant': 1,\n 'focal adhesion kinase inhibitor': 1,\n 'membrane permeability inhibitor': 1,\n 'progesterone receptor agonist': 6,\n 'mineralocorticoid receptor antagonist': 2,\n 'antioxidant': 2,\n 'hepatocyte growth factor receptor inhibitor': 2,\n 'protein synthesis stimulant': 3,\n 'opioid receptor antagonist': 4,\n 'dehydrogenase inhibitor|inositol monophosphatase inhibitor': 2,\n 'DNA inhibitor': 7,\n 'PPAR receptor agonist': 5,\n 'estrogen receptor antagonist|selective estrogen receptor modulator (SERM)': 3,\n 'PARP inhibitor': 3,\n 'nucleoside reverse transcriptase inhibitor': 5,\n 'vesicular monoamine transporter inhibitor': 2,\n 'PI3K inhibitor': 7,\n 'dihydroorotate dehydrogenase inhibitor': 2,\n 'chelating agent': 3,\n 'insulin sensitizer|PPAR receptor agonist': 3,\n 'alcohol dehydrogenase inhibitor': 2,\n 'DNA directed DNA polymerase inhibitor': 3,\n 'MEK inhibitor': 7,\n 'lipoxygenase inhibitor': 3,\n 'membrane integrity inhibitor': 2,\n 'prostanoid receptor agonist': 4,\n 'cyclooxygenase inhibitor|prostanoid receptor antagonist': 3,\n 'HIV integrase inhibitor': 3,\n 'sulfonylurea': 1,\n 'estrogen receptor agonist': 6,\n 'acetylcholinesterase inhibitor': 3,\n 'renin inhibitor': 2,\n 'microtubule inhibitor': 1,\n 'nitric oxide stimulant': 1,\n 'platelet activating factor receptor antagonist': 3,\n 'thromboxane synthase inhibitor': 3,\n 'insulin secretagogue': 3,\n 'guanylate cyclase stimulant': 2,\n 'beta lactamase inhibitor': 2,\n 'free radical scavenger': 4,\n 'nitric oxide synthase inhibitor': 4,\n 'lipid peroxidase inhibitor': 2,\n 'gap junction modulator': 2,\n 'histamine receptor agonist': 2,\n 'CCK receptor antagonist': 4,\n 'thromboxane receptor antagonist': 3,\n 'FGFR inhibitor|VEGFR inhibitor': 3,\n 'estrogen receptor antagonist': 1,\n 'cholesterol inhibitor': 4,\n 'diacylglycerol O acyltransferase inhibitor': 3,\n 'glucose dependent insulinotropic receptor agonist': 2,\n 'elastase inhibitor': 2,\n 'TRPV antagonist': 2,\n 'cannabinoid receptor inverse agonist': 2,\n 'matrix metalloprotease inhibitor': 3,\n 'glutamate receptor modulator': 2,\n 'calmodulin antagonist': 1,\n 'GABA receptor antagonist': 2,\n 'voltage-gated sodium channel blocker': 3,\n 'mTOR inhibitor|PI3K inhibitor': 5,\n 'monoamine oxidase inhibitor': 5,\n 'prostanoid receptor antagonist': 4,\n 'fatty acid synthase inhibitor': 2,\n 'tyrosine kinase inhibitor': 4,\n 'integrin antagonist': 2,\n 'nuclear factor erythroid derived|like (NRF2) activator': 2,\n 'tryptophan hydroxylase inhibitor': 2,\n 'carnitine palmitoyltransferase inhibitor': 2,\n 'anthelmintic agent': 2,\n 'norepinephrine reputake inhibitor|tricyclic antidepressant': 2,\n 'adenylyl cyclase activator': 2,\n 'cathepsin inhibitor': 2,\n 'immunosuppressant': 2,\n 'tyrosinase inhibitor': 1,\n 'cannabinoid receptor antagonist': 1,\n 'inosine monophosphate dehydrogenase inhibitor': 2,\n 'RAF inhibitor': 3,\n 'thrombin inhibitor': 2,\n 'protein tyrosine kinase inhibitor': 2,\n 'glucosidase inhibitor': 3,\n 'cholesteryl ester transfer protein inhibitor': 2,\n 'serotonin reuptake inhibitor': 1,\n 'lipase inhibitor': 2,\n 'glycine transporter inhibitor': 2,\n 'RNA synthesis inhibitor': 2,\n 'bacterial antifolate': 2,\n 'growth hormone secretagogue receptor agonist': 1,\n 'farnesyltransferase inhibitor': 2,\n 'MDM inhibitor': 2,\n 'adrenergic inhibitor': 1,\n 'mucolytic agent': 1,\n 'purinergic receptor antagonist': 1,\n 'JNK inhibitor': 2,\n 'FGFR inhibitor|PDGFR tyrosine kinase receptor inhibitor|VEGFR inhibitor': 1}"
     },
     "execution_count": 72,
     "metadata": {},
     "output_type": "execute_result"
    }
   ],
   "source": [
    "\n",
    "dic"
   ],
   "metadata": {
    "collapsed": false,
    "pycharm": {
     "name": "#%%\n"
    }
   }
  },
  {
   "cell_type": "code",
   "execution_count": null,
   "outputs": [],
   "source": [],
   "metadata": {
    "collapsed": false,
    "pycharm": {
     "name": "#%%\n"
    }
   }
  }
 ],
 "metadata": {
  "kernelspec": {
   "display_name": "Python 3",
   "language": "python",
   "name": "python3"
  },
  "language_info": {
   "codemirror_mode": {
    "name": "ipython",
    "version": 2
   },
   "file_extension": ".py",
   "mimetype": "text/x-python",
   "name": "python",
   "nbconvert_exporter": "python",
   "pygments_lexer": "ipython2",
   "version": "2.7.6"
  }
 },
 "nbformat": 4,
 "nbformat_minor": 0
}