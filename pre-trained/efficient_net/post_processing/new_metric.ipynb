{
 "cells": [
  {
   "cell_type": "markdown",
   "source": [
    "# Histogram metric"
   ],
   "metadata": {
    "collapsed": false
   }
  },
  {
   "cell_type": "code",
   "execution_count": 3,
   "outputs": [],
   "source": [
    "import pandas as pd\n",
    "import numpy as np\n",
    "import matplotlib.pyplot as plt\n",
    "from pycytominer import aggregate, annotate, normalize, feature_select, cyto_utils\n",
    "from cytominer_eval import evaluate\n",
    "from cytominer_eval.transform import metric_melt\n",
    "from sklearn.decomposition import PCA"
   ],
   "metadata": {
    "collapsed": false,
    "pycharm": {
     "name": "#%%\n"
    }
   }
  },
  {
   "cell_type": "code",
   "execution_count": 4,
   "outputs": [],
   "source": [
    "df = pd.read_csv('level3.csv')"
   ],
   "metadata": {
    "collapsed": false,
    "pycharm": {
     "name": "#%%\n"
    }
   }
  },
  {
   "cell_type": "code",
   "execution_count": 5,
   "outputs": [],
   "source": [
    "# MOA map for labels\n",
    "meta_map = pd.read_csv('repurposing_info_external_moa_map_resolved.tsv', sep='\\t')\n",
    "meta_map = meta_map[['broad_sample', 'moa']]\n",
    "df = pd.merge(df, meta_map, how='left', left_on=['Metadata_broad_sample'], right_on=['broad_sample'])"
   ],
   "metadata": {
    "collapsed": false,
    "pycharm": {
     "name": "#%%\n"
    }
   }
  },
  {
   "cell_type": "code",
   "execution_count": 6,
   "outputs": [],
   "source": [
    "def extract_feats(df):\n",
    "    features_ = []\n",
    "    for col in df.columns.tolist():\n",
    "        if col.startswith('efficientnet_'):\n",
    "            features_.append(col)\n",
    "    return features_\n",
    "features = extract_feats(df)\n",
    "meta_features = []\n",
    "for col in df.columns.tolist():\n",
    "    if col.startswith('Metadata_'):\n",
    "        meta_features.append(col)"
   ],
   "metadata": {
    "collapsed": false,
    "pycharm": {
     "name": "#%%\n"
    }
   }
  },
  {
   "cell_type": "code",
   "execution_count": 7,
   "outputs": [],
   "source": [
    "mad_dmso = normalize(\n",
    "    profiles=df,\n",
    "    features=features,\n",
    "    samples=\"Metadata_broad_sample == 'DMSO'\",\n",
    "    method='mad_robustize',\n",
    "    output_file='none'\n",
    ")"
   ],
   "metadata": {
    "collapsed": false,
    "pycharm": {
     "name": "#%%\n"
    }
   }
  },
  {
   "cell_type": "code",
   "execution_count": 22,
   "outputs": [],
   "source": [
    "con_mad = aggregate(\n",
    "    mad_dmso,\n",
    "    strata=[\"Metadata_broad_sample\"],\n",
    "    features=features\n",
    ")\n",
    "con_mad = pd.merge(con_mad, meta_map, how='left', left_on=['Metadata_broad_sample'], right_on=['broad_sample'])"
   ],
   "metadata": {
    "collapsed": false,
    "pycharm": {
     "name": "#%%\n"
    }
   }
  },
  {
   "cell_type": "code",
   "execution_count": 8,
   "outputs": [],
   "source": [
    "import sys\n",
    "sys.path.insert(0, \"/Users/mbornhol/git/neural-profiling\")\n",
    "from utils import ploting"
   ],
   "metadata": {
    "collapsed": false,
    "pycharm": {
     "name": "#%%\n"
    }
   }
  },
  {
   "cell_type": "code",
   "execution_count": 23,
   "outputs": [],
   "source": [
    "hits = ploting.first_hit(con_mad, features)"
   ],
   "metadata": {
    "collapsed": false,
    "pycharm": {
     "name": "#%%\n"
    }
   }
  },
  {
   "cell_type": "code",
   "execution_count": 24,
   "outputs": [
    {
     "data": {
      "text/plain": "<Figure size 432x288 with 1 Axes>",
      "image/png": "[encoded data removed]"
     },
     "metadata": {},
     "output_type": "display_data"
    }
   ],
   "source": [
    "bins = np.arange(0,50,1)\n",
    "plt.style.use({'figure.facecolor':'white'})\n",
    "plt.hist(hits, bins, density=False)\n",
    "plt.xlabel('first hit at k')\n",
    "plt.ylabel('Count')\n",
    "plt.title('Histogram of First hits')\n",
    "plt.show()"
   ],
   "metadata": {
    "collapsed": false,
    "pycharm": {
     "name": "#%%\n"
    }
   }
  },
  {
   "cell_type": "code",
   "execution_count": 28,
   "outputs": [
    {
     "data": {
      "text/plain": "367"
     },
     "execution_count": 28,
     "metadata": {},
     "output_type": "execute_result"
    }
   ],
   "source": [
    "count = len([i for i in hits if i < 50])\n",
    "count\n"
   ],
   "metadata": {
    "collapsed": false,
    "pycharm": {
     "name": "#%%\n"
    }
   }
  },
  {
   "cell_type": "code",
   "execution_count": 29,
   "outputs": [],
   "source": [
    "rand_con = con_mad.copy()\n",
    "ran_sample = rand_con.Metadata_broad_sample.sample(frac=1).reset_index(drop=True)\n",
    "ran_moa = rand_con.moa.sample(frac=1).reset_index(drop=True)\n",
    "old = rand_con.drop(columns=['Metadata_broad_sample','broad_sample', 'moa'])\n",
    "rand_con = old.join(ran_sample).join(ran_moa)\n",
    "rand_con.dropna(inplace=True)"
   ],
   "metadata": {
    "collapsed": false,
    "pycharm": {
     "name": "#%%\n"
    }
   }
  },
  {
   "cell_type": "code",
   "execution_count": 30,
   "outputs": [],
   "source": [
    "rand_hits = ploting.first_hit(rand_con, features)"
   ],
   "metadata": {
    "collapsed": false,
    "pycharm": {
     "name": "#%%\n"
    }
   }
  },
  {
   "cell_type": "code",
   "execution_count": 31,
   "outputs": [
    {
     "data": {
      "text/plain": "<Figure size 432x288 with 1 Axes>",
      "image/png": "[encoded data removed]"
     },
     "metadata": {},
     "output_type": "display_data"
    }
   ],
   "source": [
    "bins = np.arange(0,100,2)\n",
    "plt.style.use({'figure.facecolor':'white'})\n",
    "plt.hist(hits, bins, alpha=0.6)\n",
    "plt.hist(rand_hits, bins,alpha=0.6)\n",
    "plt.xlabel('hit after k')\n",
    "plt.ylabel('Count')\n",
    "plt.title('Histogram of first hit')\n",
    "plt.show()"
   ],
   "metadata": {
    "collapsed": false,
    "pycharm": {
     "name": "#%%\n"
    }
   }
  },
  {
   "cell_type": "code",
   "execution_count": 32,
   "outputs": [
    {
     "data": {
      "text/plain": "<Figure size 432x288 with 1 Axes>",
      "image/png": "[encoded data removed]"
     },
     "metadata": {},
     "output_type": "display_data"
    }
   ],
   "source": [
    "bins = np.arange(0,100,5)\n",
    "plt.style.use({'figure.facecolor':'white'})\n",
    "plt.hist(hits, bins, alpha=0.6)\n",
    "plt.hist(rand_hits, bins,alpha=0.6)\n",
    "plt.xlabel('hit after k')\n",
    "plt.ylabel('Count')\n",
    "plt.title('Histogram of first hit')\n",
    "plt.show()"
   ],
   "metadata": {
    "collapsed": false,
    "pycharm": {
     "name": "#%%\n"
    }
   }
  },
  {
   "cell_type": "code",
   "execution_count": 18,
   "outputs": [],
   "source": [
    "sphere = normalize(\n",
    "    profiles=df,\n",
    "    features=features,\n",
    "    samples=\"Metadata_broad_sample == 'DMSO'\",\n",
    "    method='spherize',\n",
    "    output_file='none'\n",
    ")\n",
    "con = aggregate(\n",
    "    sphere,\n",
    "    strata=[\"Metadata_broad_sample\"],\n",
    "    features=features\n",
    ")\n",
    "con = pd.merge(con, meta_map, how='left', left_on=['Metadata_broad_sample'], right_on=['broad_sample'])\n",
    "\n"
   ],
   "metadata": {
    "collapsed": false,
    "pycharm": {
     "name": "#%%\n"
    }
   }
  },
  {
   "cell_type": "code",
   "execution_count": 20,
   "outputs": [],
   "source": [
    "con.dropna(inplace=True)\n",
    "sphere_hits = ploting.first_hit(con, features)"
   ],
   "metadata": {
    "collapsed": false,
    "pycharm": {
     "name": "#%%\n"
    }
   }
  },
  {
   "cell_type": "code",
   "execution_count": 21,
   "outputs": [
    {
     "data": {
      "text/plain": "<Figure size 432x288 with 1 Axes>",
      "image/png": "[encoded data removed]"
     },
     "metadata": {},
     "output_type": "display_data"
    }
   ],
   "source": [
    "bins = np.arange(0,100,2)\n",
    "plt.style.use({'figure.facecolor':'white'})\n",
    "plt.hist(sphere_hits, bins, alpha=0.6)\n",
    "plt.hist(rand_hits, bins,alpha=0.6)\n",
    "plt.xlabel('hit after k')\n",
    "plt.ylabel('Count')\n",
    "plt.title('Histogram of first hit')\n",
    "plt.show()"
   ],
   "metadata": {
    "collapsed": false,
    "pycharm": {
     "name": "#%%\n"
    }
   }
  },
  {
   "cell_type": "code",
   "execution_count": 35,
   "outputs": [
    {
     "data": {
      "text/plain": "<Figure size 432x288 with 1 Axes>",
      "image/png": "[encoded data removed]"
     },
     "metadata": {},
     "output_type": "display_data"
    }
   ],
   "source": [
    "bins = np.arange(0,100,5)\n",
    "plt.style.use({'figure.facecolor':'white'})\n",
    "plt.hist(sphere_hits, bins, alpha=0.6)\n",
    "plt.hist(rand_hits, bins,alpha=0.6)\n",
    "plt.xlabel('hit after k')\n",
    "plt.ylabel('Count')\n",
    "plt.title('Histogram of first hit')\n",
    "plt.show()\n"
   ],
   "metadata": {
    "collapsed": false,
    "pycharm": {
     "name": "#%%\n"
    }
   }
  },
  {
   "cell_type": "code",
   "execution_count": 34,
   "outputs": [
    {
     "data": {
      "text/plain": "439"
     },
     "execution_count": 34,
     "metadata": {},
     "output_type": "execute_result"
    }
   ],
   "source": [
    "count = len([i for i in sphere_hits if i < 50])\n",
    "count"
   ],
   "metadata": {
    "collapsed": false,
    "pycharm": {
     "name": "#%%\n"
    }
   }
  },
  {
   "cell_type": "code",
   "execution_count": null,
   "outputs": [],
   "source": [],
   "metadata": {
    "collapsed": false,
    "pycharm": {
     "name": "#%%\n"
    }
   }
  }
 ],
 "metadata": {
  "kernelspec": {
   "name": "python3",
   "language": "python",
   "display_name": "Python 3"
  },
  "language_info": {
   "codemirror_mode": {
    "name": "ipython",
    "version": 2
   },
   "file_extension": ".py",
   "mimetype": "text/x-python",
   "name": "python",
   "nbconvert_exporter": "python",
   "pygments_lexer": "ipython2",
   "version": "2.7.6"
  }
 },
 "nbformat": 4,
 "nbformat_minor": 0
}