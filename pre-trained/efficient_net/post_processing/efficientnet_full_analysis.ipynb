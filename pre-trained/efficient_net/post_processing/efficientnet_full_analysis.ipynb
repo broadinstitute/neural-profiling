{
 "cells": [
  {
   "cell_type": "markdown",
   "metadata": {
    "collapsed": true,
    "pycharm": {
     "name": "#%% md\n"
    }
   },
   "source": [
    "# Efficientnet results\n",
    "\n",
    "Calculate all and compare to baseline"
   ]
  },
  {
   "cell_type": "code",
   "execution_count": 1,
   "outputs": [],
   "source": [
    "import pandas as pd\n",
    "import numpy as np\n",
    "import matplotlib.pyplot as plt\n",
    "from pycytominer import aggregate, annotate, normalize, feature_select, cyto_utils\n",
    "from cytominer_eval import evaluate\n",
    "from cytominer_eval.transform import metric_melt\n",
    "from sklearn.decomposition import PCA\n",
    "import sys\n",
    "#sys.path.insert(0, \"/Users/mbornhol/git/neural-profiling\")"
   ],
   "metadata": {
    "collapsed": false,
    "pycharm": {
     "name": "#%%\n"
    }
   }
  },
  {
   "cell_type": "code",
   "execution_count": 2,
   "outputs": [],
   "source": [
    "df = pd.read_csv('/Users/mbornhol/git/neural-profiling/pre-trained/efficient_net/aggregated/aggregated_efficientnet_median.csv', low_memory=False)"
   ],
   "metadata": {
    "collapsed": false,
    "pycharm": {
     "name": "#%%\n"
    }
   }
  },
  {
   "cell_type": "code",
   "execution_count": 3,
   "outputs": [],
   "source": [
    "df_meta = pd.read_csv('/Users/mbornhol/git/neural-profiling/pre-trained/data-prep/02_index_preperation/repurposing_info_external_moa_map_resolved.tsv', sep='\\t')\n",
    "df_meta = df_meta[['broad_sample', 'moa']]\n",
    "df_meta.rename(columns = {'broad_sample' : 'Metadata_broad_sample', 'moa' : 'Metadata_moa'}, inplace=True)"
   ],
   "metadata": {
    "collapsed": false,
    "pycharm": {
     "name": "#%%\n"
    }
   }
  },
  {
   "cell_type": "code",
   "execution_count": 4,
   "outputs": [],
   "source": [
    "features = [f for f in df.columns if f.startswith('eff')]\n",
    "meta_features = [feat for feat in df.columns if feat not in features]\n",
    "top_moa = df.Metadata_moa.value_counts()[1:20].keys().tolist()"
   ],
   "metadata": {
    "collapsed": false,
    "pycharm": {
     "name": "#%%\n"
    }
   }
  },
  {
   "cell_type": "code",
   "execution_count": 5,
   "outputs": [],
   "source": [
    "k_range = [5, 10, 15, 20, 25]\n",
    "p_range = np.arange(0.995, 0.96, -0.005)"
   ],
   "metadata": {
    "collapsed": false,
    "pycharm": {
     "name": "#%%\n"
    }
   }
  },
  {
   "cell_type": "markdown",
   "source": [
    "Mad Robustize"
   ],
   "metadata": {
    "collapsed": false,
    "pycharm": {
     "name": "#%% md\n"
    }
   }
  },
  {
   "cell_type": "code",
   "execution_count": 6,
   "outputs": [],
   "source": [
    "mad_dmso = normalize(\n",
    "    profiles=df,\n",
    "    features=features,\n",
    "    samples=\"Metadata_broad_sample == 'DMSO'\",\n",
    "    method='mad_robustize',\n",
    "    output_file='none'\n",
    ")\n",
    "con = aggregate(\n",
    "    mad_dmso,\n",
    "    strata=[\"Metadata_broad_sample\"],\n",
    "    features=features\n",
    ")\n",
    "con = pd.merge(con, df_meta, how='left', on=['Metadata_broad_sample'])\n",
    "res_enr_mad_dmso = evaluate(\n",
    "        profiles=con,\n",
    "        features=features,\n",
    "        meta_features=['Metadata_broad_sample', \"Metadata_moa\"],\n",
    "        replicate_groups=[\"Metadata_moa\"],\n",
    "        operation=\"enrichment\",\n",
    "        similarity_metric=\"pearson\",\n",
    "        enrichment_percentile=p_range\n",
    "    )"
   ],
   "metadata": {
    "collapsed": false,
    "pycharm": {
     "name": "#%%\n"
    }
   }
  },
  {
   "cell_type": "code",
   "execution_count": 7,
   "outputs": [
    {
     "ename": "KeyError",
     "evalue": "'Metadata_moa'",
     "output_type": "error",
     "traceback": [
      "\u001B[0;31m---------------------------------------------------------------------------\u001B[0m",
      "\u001B[0;31mKeyError\u001B[0m                                  Traceback (most recent call last)",
      "\u001B[0;32m~/miniconda3/envs/cyto_eval/lib/python3.7/site-packages/pandas/core/indexes/base.py\u001B[0m in \u001B[0;36mget_loc\u001B[0;34m(self, key, method, tolerance)\u001B[0m\n\u001B[1;32m   3079\u001B[0m             \u001B[0;32mtry\u001B[0m\u001B[0;34m:\u001B[0m\u001B[0;34m\u001B[0m\u001B[0;34m\u001B[0m\u001B[0m\n\u001B[0;32m-> 3080\u001B[0;31m                 \u001B[0;32mreturn\u001B[0m \u001B[0mself\u001B[0m\u001B[0;34m.\u001B[0m\u001B[0m_engine\u001B[0m\u001B[0;34m.\u001B[0m\u001B[0mget_loc\u001B[0m\u001B[0;34m(\u001B[0m\u001B[0mcasted_key\u001B[0m\u001B[0;34m)\u001B[0m\u001B[0;34m\u001B[0m\u001B[0;34m\u001B[0m\u001B[0m\n\u001B[0m\u001B[1;32m   3081\u001B[0m             \u001B[0;32mexcept\u001B[0m \u001B[0mKeyError\u001B[0m \u001B[0;32mas\u001B[0m \u001B[0merr\u001B[0m\u001B[0;34m:\u001B[0m\u001B[0;34m\u001B[0m\u001B[0;34m\u001B[0m\u001B[0m\n",
      "\u001B[0;32mpandas/_libs/index.pyx\u001B[0m in \u001B[0;36mpandas._libs.index.IndexEngine.get_loc\u001B[0;34m()\u001B[0m\n",
      "\u001B[0;32mpandas/_libs/index.pyx\u001B[0m in \u001B[0;36mpandas._libs.index.IndexEngine.get_loc\u001B[0;34m()\u001B[0m\n",
      "\u001B[0;32mpandas/_libs/hashtable_class_helper.pxi\u001B[0m in \u001B[0;36mpandas._libs.hashtable.PyObjectHashTable.get_item\u001B[0;34m()\u001B[0m\n",
      "\u001B[0;32mpandas/_libs/hashtable_class_helper.pxi\u001B[0m in \u001B[0;36mpandas._libs.hashtable.PyObjectHashTable.get_item\u001B[0;34m()\u001B[0m\n",
      "\u001B[0;31mKeyError\u001B[0m: 'Metadata_moa'",
      "\nThe above exception was the direct cause of the following exception:\n",
      "\u001B[0;31mKeyError\u001B[0m                                  Traceback (most recent call last)",
      "\u001B[0;32m<ipython-input-7-644aec58f4d1>\u001B[0m in \u001B[0;36m<module>\u001B[0;34m\u001B[0m\n\u001B[1;32m      9\u001B[0m )\n\u001B[1;32m     10\u001B[0m \u001B[0;31m# calculate the average\u001B[0m\u001B[0;34m\u001B[0m\u001B[0;34m\u001B[0m\u001B[0;34m\u001B[0m\u001B[0m\n\u001B[0;32m---> 11\u001B[0;31m \u001B[0mtop_prc\u001B[0m \u001B[0;34m=\u001B[0m \u001B[0mprc\u001B[0m\u001B[0;34m[\u001B[0m\u001B[0mprc\u001B[0m\u001B[0;34m[\u001B[0m\u001B[0;34m'Metadata_moa'\u001B[0m\u001B[0;34m]\u001B[0m\u001B[0;34m.\u001B[0m\u001B[0misin\u001B[0m\u001B[0;34m(\u001B[0m\u001B[0mtop_moa\u001B[0m\u001B[0;34m)\u001B[0m\u001B[0;34m]\u001B[0m\u001B[0;34m.\u001B[0m\u001B[0mreset_index\u001B[0m\u001B[0;34m(\u001B[0m\u001B[0mdrop\u001B[0m\u001B[0;34m=\u001B[0m\u001B[0;32mTrue\u001B[0m\u001B[0;34m)\u001B[0m\u001B[0;34m\u001B[0m\u001B[0;34m\u001B[0m\u001B[0m\n\u001B[0m\u001B[1;32m     12\u001B[0m \u001B[0mpr_av\u001B[0m \u001B[0;34m=\u001B[0m \u001B[0;34m[\u001B[0m\u001B[0;34m]\u001B[0m\u001B[0;34m\u001B[0m\u001B[0;34m\u001B[0m\u001B[0m\n\u001B[1;32m     13\u001B[0m \u001B[0;32mfor\u001B[0m \u001B[0mk\u001B[0m \u001B[0;32min\u001B[0m \u001B[0mtop_prc\u001B[0m\u001B[0;34m.\u001B[0m\u001B[0mk\u001B[0m\u001B[0;34m.\u001B[0m\u001B[0munique\u001B[0m\u001B[0;34m(\u001B[0m\u001B[0;34m)\u001B[0m\u001B[0;34m:\u001B[0m\u001B[0;34m\u001B[0m\u001B[0;34m\u001B[0m\u001B[0m\n",
      "\u001B[0;32m~/miniconda3/envs/cyto_eval/lib/python3.7/site-packages/pandas/core/frame.py\u001B[0m in \u001B[0;36m__getitem__\u001B[0;34m(self, key)\u001B[0m\n\u001B[1;32m   3022\u001B[0m             \u001B[0;32mif\u001B[0m \u001B[0mself\u001B[0m\u001B[0;34m.\u001B[0m\u001B[0mcolumns\u001B[0m\u001B[0;34m.\u001B[0m\u001B[0mnlevels\u001B[0m \u001B[0;34m>\u001B[0m \u001B[0;36m1\u001B[0m\u001B[0;34m:\u001B[0m\u001B[0;34m\u001B[0m\u001B[0;34m\u001B[0m\u001B[0m\n\u001B[1;32m   3023\u001B[0m                 \u001B[0;32mreturn\u001B[0m \u001B[0mself\u001B[0m\u001B[0;34m.\u001B[0m\u001B[0m_getitem_multilevel\u001B[0m\u001B[0;34m(\u001B[0m\u001B[0mkey\u001B[0m\u001B[0;34m)\u001B[0m\u001B[0;34m\u001B[0m\u001B[0;34m\u001B[0m\u001B[0m\n\u001B[0;32m-> 3024\u001B[0;31m             \u001B[0mindexer\u001B[0m \u001B[0;34m=\u001B[0m \u001B[0mself\u001B[0m\u001B[0;34m.\u001B[0m\u001B[0mcolumns\u001B[0m\u001B[0;34m.\u001B[0m\u001B[0mget_loc\u001B[0m\u001B[0;34m(\u001B[0m\u001B[0mkey\u001B[0m\u001B[0;34m)\u001B[0m\u001B[0;34m\u001B[0m\u001B[0;34m\u001B[0m\u001B[0m\n\u001B[0m\u001B[1;32m   3025\u001B[0m             \u001B[0;32mif\u001B[0m \u001B[0mis_integer\u001B[0m\u001B[0;34m(\u001B[0m\u001B[0mindexer\u001B[0m\u001B[0;34m)\u001B[0m\u001B[0;34m:\u001B[0m\u001B[0;34m\u001B[0m\u001B[0;34m\u001B[0m\u001B[0m\n\u001B[1;32m   3026\u001B[0m                 \u001B[0mindexer\u001B[0m \u001B[0;34m=\u001B[0m \u001B[0;34m[\u001B[0m\u001B[0mindexer\u001B[0m\u001B[0;34m]\u001B[0m\u001B[0;34m\u001B[0m\u001B[0;34m\u001B[0m\u001B[0m\n",
      "\u001B[0;32m~/miniconda3/envs/cyto_eval/lib/python3.7/site-packages/pandas/core/indexes/base.py\u001B[0m in \u001B[0;36mget_loc\u001B[0;34m(self, key, method, tolerance)\u001B[0m\n\u001B[1;32m   3080\u001B[0m                 \u001B[0;32mreturn\u001B[0m \u001B[0mself\u001B[0m\u001B[0;34m.\u001B[0m\u001B[0m_engine\u001B[0m\u001B[0;34m.\u001B[0m\u001B[0mget_loc\u001B[0m\u001B[0;34m(\u001B[0m\u001B[0mcasted_key\u001B[0m\u001B[0;34m)\u001B[0m\u001B[0;34m\u001B[0m\u001B[0;34m\u001B[0m\u001B[0m\n\u001B[1;32m   3081\u001B[0m             \u001B[0;32mexcept\u001B[0m \u001B[0mKeyError\u001B[0m \u001B[0;32mas\u001B[0m \u001B[0merr\u001B[0m\u001B[0;34m:\u001B[0m\u001B[0;34m\u001B[0m\u001B[0;34m\u001B[0m\u001B[0m\n\u001B[0;32m-> 3082\u001B[0;31m                 \u001B[0;32mraise\u001B[0m \u001B[0mKeyError\u001B[0m\u001B[0;34m(\u001B[0m\u001B[0mkey\u001B[0m\u001B[0;34m)\u001B[0m \u001B[0;32mfrom\u001B[0m \u001B[0merr\u001B[0m\u001B[0;34m\u001B[0m\u001B[0;34m\u001B[0m\u001B[0m\n\u001B[0m\u001B[1;32m   3083\u001B[0m \u001B[0;34m\u001B[0m\u001B[0m\n\u001B[1;32m   3084\u001B[0m         \u001B[0;32mif\u001B[0m \u001B[0mtolerance\u001B[0m \u001B[0;32mis\u001B[0m \u001B[0;32mnot\u001B[0m \u001B[0;32mNone\u001B[0m\u001B[0;34m:\u001B[0m\u001B[0;34m\u001B[0m\u001B[0;34m\u001B[0m\u001B[0m\n",
      "\u001B[0;31mKeyError\u001B[0m: 'Metadata_moa'"
     ]
    }
   ],
   "source": [
    "prc = evaluate(\n",
    "    profiles=con,\n",
    "    features=features,\n",
    "    meta_features=['Metadata_broad_sample', \"Metadata_moa\"],\n",
    "    replicate_groups=[\"Metadata_moa\"],\n",
    "    operation=\"precision_recall\",\n",
    "    similarity_metric=\"pearson\",\n",
    "    precision_recall_k=k_range\n",
    ")\n",
    "# calculate the average\n",
    "top_prc = prc[prc['Metadata_moa'].isin(top_moa)].reset_index(drop=True)\n",
    "pr_av = []\n",
    "for k in top_prc.k.unique():\n",
    "    pr_av.append(top_prc.query(\"k==@k\").mean().tolist())\n",
    "res_prec_mad_dmso = pd.DataFrame(pr_av, columns=[\"k\",\"precision\",\"recall\"])\n"
   ],
   "metadata": {
    "collapsed": false,
    "pycharm": {
     "name": "#%%\n"
    }
   }
  },
  {
   "cell_type": "code",
   "execution_count": null,
   "outputs": [],
   "source": [
    "# Sphereize data\n",
    "norm_sphere = normalize(\n",
    "    profiles=df,\n",
    "    features=features,\n",
    "    samples=\"Metadata_broad_sample == 'DMSO'\",\n",
    "    method='spherize',\n",
    "    output_file='none'\n",
    ")\n",
    "con = aggregate(\n",
    "    norm_sphere,\n",
    "    strata=[\"Metadata_broad_sample\"],\n",
    "    features=features\n",
    ")\n",
    "# add MOA metadata\n",
    "con = pd.merge(con, df_meta, how='left', on=['Metadata_broad_sample'])"
   ],
   "metadata": {
    "collapsed": false,
    "pycharm": {
     "name": "#%%\n"
    }
   }
  },
  {
   "cell_type": "code",
   "execution_count": null,
   "outputs": [],
   "source": [
    "con.to_csv('consensus_spherized_dmso_eff_mean.csv',index=False)"
   ],
   "metadata": {
    "collapsed": false,
    "pycharm": {
     "name": "#%%\n"
    }
   }
  },
  {
   "cell_type": "code",
   "execution_count": null,
   "outputs": [],
   "source": [
    "res_enr_sphere = evaluate(\n",
    "        profiles=con,\n",
    "        features=features,\n",
    "        meta_features=['Metadata_broad_sample', \"Metadata_moa\"],\n",
    "        replicate_groups=[\"Metadata_moa\"],\n",
    "        operation=\"enrichment\",\n",
    "        similarity_metric=\"pearson\",\n",
    "        enrichment_percentile=p_range\n",
    "    )"
   ],
   "metadata": {
    "collapsed": false,
    "pycharm": {
     "name": "#%%\n"
    }
   }
  },
  {
   "cell_type": "code",
   "execution_count": null,
   "outputs": [],
   "source": [
    "k_range = [5, 10, 15, 20, 25, 30, 40, 50]\n",
    "con = con[con[\"Metadata_broad_sample\"] != 'DMSO']\n",
    "prc = evaluate(\n",
    "    profiles=con,\n",
    "    features=features,\n",
    "    meta_features=['Metadata_broad_sample', \"Metadata_moa\"],\n",
    "    replicate_groups=[\"Metadata_moa\"],\n",
    "    operation=\"precision_recall\",\n",
    "    similarity_metric=\"pearson\",\n",
    "    precision_recall_k=k_range\n",
    ")\n",
    "# calculate the average\n",
    "top_prc = prc[prc['Metadata_moa'].isin(top_moa)].reset_index(drop=True)\n",
    "pr_av = []\n",
    "for k in top_prc.k.unique():\n",
    "    pr_av.append(top_prc.query(\"k==@k\").mean().tolist())\n",
    "res_prec_spherized = pd.DataFrame(pr_av, columns=[\"k\",\"precision\",\"recall\"])"
   ],
   "metadata": {
    "collapsed": false,
    "pycharm": {
     "name": "#%%\n"
    }
   }
  },
  {
   "cell_type": "code",
   "execution_count": null,
   "outputs": [],
   "source": [
    "res_prec_spherized"
   ],
   "metadata": {
    "collapsed": false,
    "pycharm": {
     "name": "#%%\n"
    }
   }
  },
  {
   "cell_type": "code",
   "execution_count": null,
   "outputs": [],
   "source": [
    "res_pre_baseline = pd.read_csv('/Users/mbornhol/git/neural-profiling/baseline/results/precision_baseline_top20.csv')\n",
    "\n",
    "res_enr_baseline = pd.read_csv('/Users/mbornhol/git/neural-profiling/baseline/results/res_enrichment_baseline.csv')"
   ],
   "metadata": {
    "collapsed": false,
    "pycharm": {
     "name": "#%%\n"
    }
   }
  },
  {
   "cell_type": "code",
   "execution_count": null,
   "outputs": [],
   "source": [
    "%matplotlib qt\n",
    "plt.style.use({'figure.facecolor':'white'})\n",
    "plt.rcParams.update({'font.size': 16})\n",
    "fig, ax = plt.subplots(figsize=(12,8))\n",
    "plt.title(\"Folds of Enrichment in Top Connections\")\n",
    "plt.plot(100*res_enr_baseline[\"enrichment_percentile\"], res_enr_baseline[\"ods_ratio\"], marker=\"o\", color=\"green\", label = 'cytominer baseline')\n",
    "plt.plot(100*res_enr_sphere[\"enrichment_percentile\"], res_enr_sphere[\"ods_ratio\"], marker=\"o\", color=\"blue\", label = 'efficientnet spherized')\n",
    "plt.plot(100*res_enr_mad_dmso[\"enrichment_percentile\"], res_enr_mad_dmso[\"ods_ratio\"], marker=\"o\", color=\"yellow\", label = 'efficientnet mad robustized')\n",
    "plt.ylabel('ods ratio')\n",
    "plt.xlabel('percentile')\n",
    "ax.invert_xaxis()\n",
    "plt.legend(loc = 'upper right', shadow=True)\n",
    "plt.show()"
   ],
   "metadata": {
    "collapsed": false,
    "pycharm": {
     "name": "#%%\n"
    }
   }
  },
  {
   "cell_type": "code",
   "execution_count": null,
   "outputs": [],
   "source": [
    "# Save best result\n",
    "res_enr_sphere.to_csv('../results/res_enrichment_spherized.csv', index=False)\n",
    "res_prec_spherized.to_csv('../results/res_prec_spherized.csv', index=False)"
   ],
   "metadata": {
    "collapsed": false,
    "pycharm": {
     "name": "#%%\n"
    }
   }
  },
  {
   "cell_type": "code",
   "execution_count": null,
   "outputs": [],
   "source": [
    "#Precision\n",
    "%matplotlib qt\n",
    "plt.style.use({'figure.facecolor':'white'})\n",
    "plt.rcParams.update({'font.size': 16})\n",
    "fig, ax = plt.subplots(figsize=(12,8))\n",
    "plt.title(\"Average precision @k, top 20 MOAs\")\n",
    "plt.plot(res_pre_baseline[\"k\"], res_pre_baseline[\"precision\"], marker=\"o\", color=\"green\", label = 'cytominer baseline')\n",
    "plt.plot(res_prec_spherized['k'], res_prec_spherized[\"precision\"], marker=\"o\", color=\"blue\", label = 'efficientnet spherized')\n",
    "plt.plot(res_prec_mad_dmso['k'], res_prec_mad_dmso[\"precision\"], marker=\"o\", color=\"yellow\", label = 'efficientnet mad robustized')\n",
    "plt.ylabel('precision')\n",
    "plt.xlabel('k')\n",
    "plt.legend(loc = 'upper right', shadow=True)\n",
    "plt.show()"
   ],
   "metadata": {
    "collapsed": false,
    "pycharm": {
     "name": "#%%\n"
    }
   }
  },
  {
   "cell_type": "code",
   "execution_count": null,
   "outputs": [],
   "source": [
    "%matplotlib qt\n",
    "plt.style.use({'figure.facecolor':'white'})\n",
    "plt.rcParams.update({'font.size': 16})\n",
    "fig, ax = plt.subplots(figsize=(12,8))\n",
    "plt.title(\"Average recall @k, top 20 MOAs\")\n",
    "plt.plot(res_pre_baseline[\"k\"], res_pre_baseline[\"recall\"], marker=\"o\", color=\"green\", label = 'cytominer baseline')\n",
    "plt.plot(res_prec_spherized['k'], res_prec_spherized[\"recall\"], marker=\"o\", color=\"blue\", label = 'efficientnet spherized')\n",
    "plt.plot(res_prec_mad_dmso['k'], res_prec_mad_dmso[\"recall\"], marker=\"o\", color=\"yellow\", label = 'efficientnet mad robustized')\n",
    "plt.ylabel('recall')\n",
    "plt.xlabel('k')\n",
    "plt.legend(loc = 'upper left', shadow=True)\n",
    "plt.show()"
   ],
   "metadata": {
    "collapsed": false,
    "pycharm": {
     "name": "#%%\n"
    }
   }
  },
  {
   "cell_type": "code",
   "execution_count": null,
   "outputs": [],
   "source": [],
   "metadata": {
    "collapsed": false,
    "pycharm": {
     "name": "#%%\n"
    }
   }
  }
 ],
 "metadata": {
  "kernelspec": {
   "name": "pycharm-f57c4e3b",
   "language": "python",
   "display_name": "PyCharm (git)"
  },
  "language_info": {
   "codemirror_mode": {
    "name": "ipython",
    "version": 2
   },
   "file_extension": ".py",
   "mimetype": "text/x-python",
   "name": "python",
   "nbconvert_exporter": "python",
   "pygments_lexer": "ipython2",
   "version": "2.7.6"
  }
 },
 "nbformat": 4,
 "nbformat_minor": 0
}