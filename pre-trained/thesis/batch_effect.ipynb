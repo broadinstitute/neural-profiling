{
 "cells": [
  {
   "cell_type": "code",
   "execution_count": null,
   "metadata": {
    "collapsed": true
   },
   "outputs": [],
   "source": [
    "import pandas as pd\n",
    "import numpy as np\n",
    "import matplotlib.pyplot as plt\n",
    "from pycytominer import aggregate, annotate, normalize, feature_select, cyto_utils\n",
    "from cytominer_eval import evaluate\n",
    "from cytominer_eval.transform import metric_melt\n",
    "from pycytominer.cyto_utils import infer_cp_features\n",
    "import seaborn as sns\n",
    "from sklearn.decomposition import PCA"
   ]
  },
  {
   "cell_type": "code",
   "execution_count": null,
   "outputs": [],
   "source": [
    "eff = pd.read_csv(\"aggregated_efficientnet_median.csv\", low_memory=False)\n",
    "res = pd.read_csv(\"aggregated_resnet_median.csv\", low_memory=False)"
   ],
   "metadata": {
    "collapsed": false,
    "pycharm": {
     "name": "#%%\n"
    }
   }
  },
  {
   "cell_type": "code",
   "execution_count": null,
   "outputs": [],
   "source": [
    "\n",
    "eff_features = [feat for feat in eff.columns if feat.startswith('eff')]\n",
    "res_features = [feat for feat in res.columns if feat.startswith('res')]\n",
    "eff = eff.sample(frac = 1)\n",
    "res = res.sample(frac = 1)"
   ],
   "metadata": {
    "collapsed": false,
    "pycharm": {
     "name": "#%%\n"
    }
   }
  },
  {
   "cell_type": "code",
   "execution_count": null,
   "outputs": [],
   "source": [
    "pca = PCA(n_components=2)\n",
    "pca_result = pca.fit_transform(eff[eff_features].values)\n",
    "eff['pca_one'] = pca_result[:,0]\n",
    "eff['pca_two'] = pca_result[:,1]\n",
    "print('Explained variation per principal component: {}'.format(pca.explained_variance_ratio_))\n",
    "pca_result = pca.fit_transform(res[res_features].values)\n",
    "res['pca_one'] = pca_result[:,0]\n",
    "res['pca_two'] = pca_result[:,1]\n",
    "print('Explained variation per principal component: {}'.format(pca.explained_variance_ratio_))"
   ],
   "metadata": {
    "collapsed": false,
    "pycharm": {
     "name": "#%%\n"
    }
   }
  },
  {
   "cell_type": "code",
   "execution_count": null,
   "outputs": [],
   "source": [
    "# Get Batch data\n",
    "batch = pd.read_csv('/Users/mbornhol/git/neural-profiling/baseline/01_data/level_3_data/sub_level3.csv')\n",
    "b = batch[['Metadata_Batch_Number', 'Metadata_Plate', 'Metadata_Well']]"
   ],
   "metadata": {
    "collapsed": false,
    "pycharm": {
     "name": "#%%\n"
    }
   }
  },
  {
   "cell_type": "code",
   "execution_count": null,
   "outputs": [],
   "source": [
    "eff = pd.merge(eff, b, how=\"left\", on=['Metadata_Plate', 'Metadata_Well'])\n",
    "res = pd.merge(res, b, how=\"left\", on=['Metadata_Plate', 'Metadata_Well'])"
   ],
   "metadata": {
    "collapsed": false,
    "pycharm": {
     "name": "#%%\n"
    }
   }
  },
  {
   "cell_type": "code",
   "execution_count": null,
   "outputs": [],
   "source": [
    "fig, ax =plt.subplots(2,1, figsize=(10,10))\n",
    "plt.style.use({'figure.facecolor':'white'})\n",
    "gfg = sns.scatterplot(data=res, x=\"pca_one\", y='pca_two', hue = res['Metadata_Batch_Number'], s = 3, ax=ax[0], palette=\"tab10\")\n",
    "gfg = sns.scatterplot(data=eff, x=\"pca_one\", y='pca_two', hue=eff[\"Metadata_Batch_Number\"], s = 3,ax=ax[1], palette=\"tab10\")\n",
    "ax[0].invert_yaxis()"
   ],
   "metadata": {
    "collapsed": false,
    "pycharm": {
     "name": "#%%\n"
    }
   }
  },
  {
   "cell_type": "code",
   "execution_count": null,
   "outputs": [],
   "source": [],
   "metadata": {
    "collapsed": false,
    "pycharm": {
     "name": "#%%\n"
    }
   }
  }
 ],
 "metadata": {
  "kernelspec": {
   "display_name": "Python 3",
   "language": "python",
   "name": "python3"
  },
  "language_info": {
   "codemirror_mode": {
    "name": "ipython",
    "version": 2
   },
   "file_extension": ".py",
   "mimetype": "text/x-python",
   "name": "python",
   "nbconvert_exporter": "python",
   "pygments_lexer": "ipython2",
   "version": "2.7.6"
  }
 },
 "nbformat": 4,
 "nbformat_minor": 0
}