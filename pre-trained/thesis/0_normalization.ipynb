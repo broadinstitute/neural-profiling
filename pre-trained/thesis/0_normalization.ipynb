{
 "cells": [
  {
   "cell_type": "markdown",
   "metadata": {
    "collapsed": true,
    "pycharm": {
     "name": "#%% md\n"
    }
   },
   "source": [
    "# Normalization comparisson\n",
    "In this notebook, I compare the different methods of normalization.\n",
    "As a simple metric, I use the enrichment score at 99%.\n",
    "This analysis is done on the efficientnetB0 pretrained output: `level3.csv`\n"
   ]
  },
  {
   "cell_type": "code",
   "execution_count": 1,
   "outputs": [],
   "source": [
    "# import importlib\n",
    "# importlib.reload(pycytominer)\n",
    "import pandas as pd\n",
    "import numpy as np\n",
    "import matplotlib.pyplot as plt\n",
    "from pycytominer import aggregate, annotate, normalize, feature_select, cyto_utils\n",
    "from cytominer_eval import evaluate\n",
    "from cytominer_eval.transform import metric_melt\n",
    "from sklearn.decomposition import PCA\n",
    "import sys\n",
    "sys.path.insert(0, \"/Users/mbornhol/git/neural-profiling\")\n",
    "from utils import data_selection as ds\n",
    "from utils import eval"
   ],
   "metadata": {
    "collapsed": false,
    "pycharm": {
     "name": "#%%\n"
    }
   }
  },
  {
   "cell_type": "code",
   "execution_count": 2,
   "outputs": [],
   "source": [
    "df = pd.read_csv('aggregated_efficientnet_median.csv', low_memory=False)"
   ],
   "metadata": {
    "collapsed": false,
    "pycharm": {
     "name": "#%%\n"
    }
   }
  },
  {
   "cell_type": "code",
   "execution_count": 2,
   "outputs": [],
   "source": [],
   "metadata": {
    "collapsed": false,
    "pycharm": {
     "name": "#%%\n"
    }
   }
  },
  {
   "cell_type": "code",
   "execution_count": 3,
   "outputs": [],
   "source": [
    "p = 0.995\n",
    "meta = pd.read_csv('/Users/mbornhol/git/neural-profiling/pre-trained/data-prep/02_index_preperation/repurposing_info_external_moa_map_resolved.tsv', sep='\\t')\n",
    "meta = meta[['broad_sample', 'moa']]\n",
    "meta.rename(columns = {'broad_sample' : 'Metadata_broad_sample', 'moa' : 'Metadata_moa'}, inplace=True)"
   ],
   "metadata": {
    "collapsed": false,
    "pycharm": {
     "name": "#%%\n"
    }
   }
  },
  {
   "cell_type": "code",
   "execution_count": 4,
   "outputs": [],
   "source": [
    "def hist(df, features):\n",
    "    melt = metric_melt(df.sample(200),\n",
    "            features=features,\n",
    "            metadata_features=meta_features)\n",
    "    #bins = np.arange(-0.005, 0.005, 0.001)\n",
    "    plt.style.use({'figure.facecolor':'white'})\n",
    "    plt.hist(melt.similarity_metric)\n",
    "def feats(df):\n",
    "    features_ = []\n",
    "    for col in df.columns.tolist():\n",
    "        if col.startswith('efficientnet_'):\n",
    "            features_.append(col)\n",
    "    return features_"
   ],
   "metadata": {
    "collapsed": false,
    "pycharm": {
     "name": "#%%\n"
    }
   }
  },
  {
   "cell_type": "code",
   "execution_count": 5,
   "outputs": [],
   "source": [
    "features = feats(df)\n",
    "meta_features = []\n",
    "for col in df.columns.tolist():\n",
    "    if col.startswith('Metadata_'):\n",
    "        meta_features.append(col)"
   ],
   "metadata": {
    "collapsed": false,
    "pycharm": {
     "name": "#%%\n"
    }
   }
  },
  {
   "cell_type": "code",
   "execution_count": 6,
   "outputs": [],
   "source": [
    "# plot the similarity of the wells. Expected output from a pretrained net.\n",
    "# hist(df,features)"
   ],
   "metadata": {
    "collapsed": false,
    "pycharm": {
     "name": "#%%\n"
    }
   }
  },
  {
   "cell_type": "code",
   "execution_count": 7,
   "outputs": [],
   "source": [
    "def pca_plot(df):\n",
    "    pca = PCA(n_components=3)\n",
    "    pca_result = pca.fit_transform(df[features].values)\n",
    "    df['pca-one'] = pca_result[:,0]\n",
    "    df['pca-two'] = pca_result[:,1]\n",
    "    df['pca-three'] = pca_result[:,2]\n",
    "    print('Explained variation per principal component: {}'.format(pca.explained_variance_ratio_))\n",
    "    plt.style.use({'figure.facecolor':'white'})\n",
    "    plt.scatter(df['pca-one'], df['pca-two'], s = 3, alpha= 0.4)\n",
    "    plt.show()\n",
    "# pca_plot(df)"
   ],
   "metadata": {
    "collapsed": false,
    "pycharm": {
     "name": "#%%\n"
    }
   }
  },
  {
   "cell_type": "markdown",
   "source": [
    "## Without normalization"
   ],
   "metadata": {
    "collapsed": false,
    "pycharm": {
     "name": "#%% md\n"
    }
   }
  },
  {
   "cell_type": "code",
   "execution_count": 8,
   "outputs": [],
   "source": [
    "con = aggregate(\n",
    "    df,\n",
    "    strata=[\"Metadata_broad_sample\"],\n",
    "    features=features\n",
    ")\n",
    "con = pd.merge(con, meta, how='left', on=['Metadata_broad_sample'])"
   ],
   "metadata": {
    "collapsed": false,
    "pycharm": {
     "name": "#%%\n"
    }
   }
  },
  {
   "cell_type": "code",
   "execution_count": 9,
   "outputs": [
    {
     "data": {
      "text/plain": "   enrichment_percentile  threshold  ods_ratio       p-value\n0                  0.995   0.997685    1.94671  3.475692e-09",
      "text/html": "<div>\n<style scoped>\n    .dataframe tbody tr th:only-of-type {\n        vertical-align: middle;\n    }\n\n    .dataframe tbody tr th {\n        vertical-align: top;\n    }\n\n    .dataframe thead th {\n        text-align: right;\n    }\n</style>\n<table border=\"1\" class=\"dataframe\">\n  <thead>\n    <tr style=\"text-align: right;\">\n      <th></th>\n      <th>enrichment_percentile</th>\n      <th>threshold</th>\n      <th>ods_ratio</th>\n      <th>p-value</th>\n    </tr>\n  </thead>\n  <tbody>\n    <tr>\n      <th>0</th>\n      <td>0.995</td>\n      <td>0.997685</td>\n      <td>1.94671</td>\n      <td>3.475692e-09</td>\n    </tr>\n  </tbody>\n</table>\n</div>"
     },
     "execution_count": 9,
     "metadata": {},
     "output_type": "execute_result"
    }
   ],
   "source": [
    "res = evaluate(\n",
    "        profiles=con,\n",
    "        features=features,\n",
    "        meta_features=['Metadata_broad_sample', \"Metadata_moa\"],\n",
    "        replicate_groups=[\"Metadata_moa\"],\n",
    "        operation=\"enrichment\",\n",
    "        similarity_metric=\"pearson\",\n",
    "        enrichment_percentile=p\n",
    "    )\n",
    "res"
   ],
   "metadata": {
    "collapsed": false,
    "pycharm": {
     "name": "#%%\n"
    }
   }
  },
  {
   "cell_type": "code",
   "execution_count": 10,
   "outputs": [
    {
     "data": {
      "text/plain": "       Metadata_broad_sample     R  precision\n0     BRD-A00218260-001-03-4   6.0        0.0\n1     BRD-A00376169-001-01-6   1.0        0.0\n2     BRD-A00546892-001-02-6  19.0        0.0\n3     BRD-A00938334-001-01-3   2.0        0.0\n4     BRD-A01636364-003-15-1  13.0        0.0\n...                      ...   ...        ...\n1138  BRD-K99504665-001-01-2   1.0        0.0\n1139  BRD-K99545815-001-06-3   1.0        0.0\n1140  BRD-K99604664-001-01-1   6.0        0.0\n1141  BRD-K99749624-001-07-0   1.0        0.0\n1142  BRD-K99792991-001-34-9   4.0        0.0\n\n[1143 rows x 3 columns]",
      "text/html": "<div>\n<style scoped>\n    .dataframe tbody tr th:only-of-type {\n        vertical-align: middle;\n    }\n\n    .dataframe tbody tr th {\n        vertical-align: top;\n    }\n\n    .dataframe thead th {\n        text-align: right;\n    }\n</style>\n<table border=\"1\" class=\"dataframe\">\n  <thead>\n    <tr style=\"text-align: right;\">\n      <th></th>\n      <th>Metadata_broad_sample</th>\n      <th>R</th>\n      <th>precision</th>\n    </tr>\n  </thead>\n  <tbody>\n    <tr>\n      <th>0</th>\n      <td>BRD-A00218260-001-03-4</td>\n      <td>6.0</td>\n      <td>0.0</td>\n    </tr>\n    <tr>\n      <th>1</th>\n      <td>BRD-A00376169-001-01-6</td>\n      <td>1.0</td>\n      <td>0.0</td>\n    </tr>\n    <tr>\n      <th>2</th>\n      <td>BRD-A00546892-001-02-6</td>\n      <td>19.0</td>\n      <td>0.0</td>\n    </tr>\n    <tr>\n      <th>3</th>\n      <td>BRD-A00938334-001-01-3</td>\n      <td>2.0</td>\n      <td>0.0</td>\n    </tr>\n    <tr>\n      <th>4</th>\n      <td>BRD-A01636364-003-15-1</td>\n      <td>13.0</td>\n      <td>0.0</td>\n    </tr>\n    <tr>\n      <th>...</th>\n      <td>...</td>\n      <td>...</td>\n      <td>...</td>\n    </tr>\n    <tr>\n      <th>1138</th>\n      <td>BRD-K99504665-001-01-2</td>\n      <td>1.0</td>\n      <td>0.0</td>\n    </tr>\n    <tr>\n      <th>1139</th>\n      <td>BRD-K99545815-001-06-3</td>\n      <td>1.0</td>\n      <td>0.0</td>\n    </tr>\n    <tr>\n      <th>1140</th>\n      <td>BRD-K99604664-001-01-1</td>\n      <td>6.0</td>\n      <td>0.0</td>\n    </tr>\n    <tr>\n      <th>1141</th>\n      <td>BRD-K99749624-001-07-0</td>\n      <td>1.0</td>\n      <td>0.0</td>\n    </tr>\n    <tr>\n      <th>1142</th>\n      <td>BRD-K99792991-001-34-9</td>\n      <td>4.0</td>\n      <td>0.0</td>\n    </tr>\n  </tbody>\n</table>\n<p>1143 rows × 3 columns</p>\n</div>"
     },
     "execution_count": 10,
     "metadata": {},
     "output_type": "execute_result"
    }
   ],
   "source": [
    "con = con[con[\"Metadata_broad_sample\"] != \"DMSO\"]\n",
    "pre_r = evaluate(\n",
    "        profiles=con,\n",
    "        features=features,\n",
    "        meta_features=['Metadata_broad_sample', \"Metadata_moa\"],\n",
    "        replicate_groups=[\"Metadata_moa\"],\n",
    "        operation=\"precision_recall\",\n",
    "        similarity_metric=\"pearson\",\n",
    "        precision_recall_k=\"R\"\n",
    "    )\n",
    "pre_r"
   ],
   "metadata": {
    "collapsed": false,
    "pycharm": {
     "name": "#%%\n"
    }
   }
  },
  {
   "cell_type": "code",
   "execution_count": 11,
   "outputs": [
    {
     "data": {
      "text/plain": "R            8.731409\nprecision    0.041237\ndtype: float64"
     },
     "execution_count": 11,
     "metadata": {},
     "output_type": "execute_result"
    }
   ],
   "source": [
    "pre_r.mean()"
   ],
   "metadata": {
    "collapsed": false,
    "pycharm": {
     "name": "#%%\n"
    }
   }
  },
  {
   "cell_type": "markdown",
   "source": [
    "## robustize\n",
    "\n",
    "There doesn't seem to be a large difference between DMSO and all normalization."
   ],
   "metadata": {
    "collapsed": false,
    "pycharm": {
     "name": "#%% md\n"
    }
   }
  },
  {
   "cell_type": "code",
   "execution_count": 12,
   "outputs": [
    {
     "data": {
      "text/plain": "   enrichment_percentile  threshold  ods_ratio        p-value\n0                  0.995    0.90921   5.775086  6.949650e-109",
      "text/html": "<div>\n<style scoped>\n    .dataframe tbody tr th:only-of-type {\n        vertical-align: middle;\n    }\n\n    .dataframe tbody tr th {\n        vertical-align: top;\n    }\n\n    .dataframe thead th {\n        text-align: right;\n    }\n</style>\n<table border=\"1\" class=\"dataframe\">\n  <thead>\n    <tr style=\"text-align: right;\">\n      <th></th>\n      <th>enrichment_percentile</th>\n      <th>threshold</th>\n      <th>ods_ratio</th>\n      <th>p-value</th>\n    </tr>\n  </thead>\n  <tbody>\n    <tr>\n      <th>0</th>\n      <td>0.995</td>\n      <td>0.90921</td>\n      <td>5.775086</td>\n      <td>6.949650e-109</td>\n    </tr>\n  </tbody>\n</table>\n</div>"
     },
     "execution_count": 12,
     "metadata": {},
     "output_type": "execute_result"
    }
   ],
   "source": [
    "rob_DMSO = normalize(\n",
    "    profiles=df,\n",
    "    features=features,\n",
    "    samples=\"Metadata_broad_sample == 'DMSO'\",\n",
    "    method='robustize',\n",
    "    output_file='none'\n",
    ")\n",
    "con = aggregate(\n",
    "    rob_DMSO,\n",
    "    strata=[\"Metadata_broad_sample\"],\n",
    "    features=features\n",
    ")\n",
    "con = pd.merge(con, meta, how='left', on=['Metadata_broad_sample'])\n",
    "res_rob_DMSO = evaluate(\n",
    "        profiles=con,\n",
    "        features=features,\n",
    "        meta_features=['Metadata_broad_sample', \"Metadata_moa\"],\n",
    "        replicate_groups=[\"Metadata_moa\"],\n",
    "        operation=\"enrichment\",\n",
    "        similarity_metric=\"pearson\",\n",
    "        enrichment_percentile=p\n",
    "    )\n",
    "res_rob_DMSO"
   ],
   "metadata": {
    "collapsed": false,
    "pycharm": {
     "name": "#%%\n"
    }
   }
  },
  {
   "cell_type": "code",
   "execution_count": 13,
   "outputs": [
    {
     "data": {
      "text/plain": "R            8.731409\nprecision    0.049815\ndtype: float64"
     },
     "execution_count": 13,
     "metadata": {},
     "output_type": "execute_result"
    }
   ],
   "source": [
    "con = con[con[\"Metadata_broad_sample\"] != \"DMSO\"]\n",
    "pre_r = evaluate(\n",
    "        profiles=con,\n",
    "        features=features,\n",
    "        meta_features=['Metadata_broad_sample', \"Metadata_moa\"],\n",
    "        replicate_groups=[\"Metadata_moa\"],\n",
    "        operation=\"precision_recall\",\n",
    "        similarity_metric=\"pearson\",\n",
    "        precision_recall_k=\"R\"\n",
    "    )\n",
    "pre_r.mean()"
   ],
   "metadata": {
    "collapsed": false,
    "pycharm": {
     "name": "#%%\n"
    }
   }
  },
  {
   "cell_type": "code",
   "execution_count": 14,
   "outputs": [
    {
     "data": {
      "text/plain": "   enrichment_percentile  threshold  ods_ratio       p-value\n0                  0.995   0.900471   5.141806  3.275326e-88",
      "text/html": "<div>\n<style scoped>\n    .dataframe tbody tr th:only-of-type {\n        vertical-align: middle;\n    }\n\n    .dataframe tbody tr th {\n        vertical-align: top;\n    }\n\n    .dataframe thead th {\n        text-align: right;\n    }\n</style>\n<table border=\"1\" class=\"dataframe\">\n  <thead>\n    <tr style=\"text-align: right;\">\n      <th></th>\n      <th>enrichment_percentile</th>\n      <th>threshold</th>\n      <th>ods_ratio</th>\n      <th>p-value</th>\n    </tr>\n  </thead>\n  <tbody>\n    <tr>\n      <th>0</th>\n      <td>0.995</td>\n      <td>0.900471</td>\n      <td>5.141806</td>\n      <td>3.275326e-88</td>\n    </tr>\n  </tbody>\n</table>\n</div>"
     },
     "execution_count": 14,
     "metadata": {},
     "output_type": "execute_result"
    }
   ],
   "source": [
    "rob_all = normalize(\n",
    "    profiles=df,\n",
    "    features=features,\n",
    "    samples=\"all\",\n",
    "    method='robustize',\n",
    "    output_file='none'\n",
    ")\n",
    "con = aggregate(\n",
    "    rob_all,\n",
    "    strata=[\"Metadata_broad_sample\"],\n",
    "    features=features\n",
    ")\n",
    "con = pd.merge(con, meta, how='left', on=['Metadata_broad_sample'])\n",
    "res_rob_all = evaluate(\n",
    "        profiles=con,\n",
    "        features=features,\n",
    "        meta_features=['Metadata_broad_sample', \"Metadata_moa\"],\n",
    "        replicate_groups=[\"Metadata_moa\"],\n",
    "        operation=\"enrichment\",\n",
    "        similarity_metric=\"pearson\",\n",
    "        enrichment_percentile=p\n",
    "    )\n",
    "res_rob_all"
   ],
   "metadata": {
    "collapsed": false,
    "pycharm": {
     "name": "#%%\n"
    }
   }
  },
  {
   "cell_type": "code",
   "execution_count": 15,
   "outputs": [
    {
     "data": {
      "text/plain": "R            8.731409\nprecision    0.049649\ndtype: float64"
     },
     "execution_count": 15,
     "metadata": {},
     "output_type": "execute_result"
    }
   ],
   "source": [
    "con = con[con[\"Metadata_broad_sample\"] != \"DMSO\"]\n",
    "pre_r = evaluate(\n",
    "        profiles=con,\n",
    "        features=features,\n",
    "        meta_features=['Metadata_broad_sample', \"Metadata_moa\"],\n",
    "        replicate_groups=[\"Metadata_moa\"],\n",
    "        operation=\"precision_recall\",\n",
    "        similarity_metric=\"pearson\",\n",
    "        precision_recall_k=\"R\"\n",
    "    )\n",
    "pre_r.mean()"
   ],
   "metadata": {
    "collapsed": false,
    "pycharm": {
     "name": "#%%\n"
    }
   }
  },
  {
   "cell_type": "markdown",
   "source": [
    "## standardize"
   ],
   "metadata": {
    "collapsed": false,
    "pycharm": {
     "name": "#%% md\n"
    }
   }
  },
  {
   "cell_type": "code",
   "execution_count": 16,
   "outputs": [],
   "source": [
    "stand_dmso = normalize(\n",
    "    profiles=df,\n",
    "    features=features,\n",
    "    samples=\"Metadata_broad_sample == 'DMSO'\",\n",
    "    method='standardize',\n",
    "    output_file='none'\n",
    ")"
   ],
   "metadata": {
    "collapsed": false,
    "pycharm": {
     "name": "#%%\n"
    }
   }
  },
  {
   "cell_type": "code",
   "execution_count": 17,
   "outputs": [
    {
     "data": {
      "text/plain": "   enrichment_percentile  threshold  ods_ratio        p-value\n0                  0.995   0.896088   6.323592  1.183704e-127",
      "text/html": "<div>\n<style scoped>\n    .dataframe tbody tr th:only-of-type {\n        vertical-align: middle;\n    }\n\n    .dataframe tbody tr th {\n        vertical-align: top;\n    }\n\n    .dataframe thead th {\n        text-align: right;\n    }\n</style>\n<table border=\"1\" class=\"dataframe\">\n  <thead>\n    <tr style=\"text-align: right;\">\n      <th></th>\n      <th>enrichment_percentile</th>\n      <th>threshold</th>\n      <th>ods_ratio</th>\n      <th>p-value</th>\n    </tr>\n  </thead>\n  <tbody>\n    <tr>\n      <th>0</th>\n      <td>0.995</td>\n      <td>0.896088</td>\n      <td>6.323592</td>\n      <td>1.183704e-127</td>\n    </tr>\n  </tbody>\n</table>\n</div>"
     },
     "execution_count": 17,
     "metadata": {},
     "output_type": "execute_result"
    }
   ],
   "source": [
    "con = aggregate(\n",
    "    stand_dmso,\n",
    "    strata=[\"Metadata_broad_sample\"],\n",
    "    features=features\n",
    ")\n",
    "con = pd.merge(con, meta, how='left', on=['Metadata_broad_sample'])\n",
    "res_stand_dmso = evaluate(\n",
    "        profiles=con,\n",
    "        features=features,\n",
    "        meta_features=['Metadata_broad_sample', \"Metadata_moa\"],\n",
    "        replicate_groups=[\"Metadata_moa\"],\n",
    "        operation=\"enrichment\",\n",
    "        similarity_metric=\"pearson\",\n",
    "        enrichment_percentile=p\n",
    "    )\n",
    "res_stand_dmso"
   ],
   "metadata": {
    "collapsed": false,
    "pycharm": {
     "name": "#%%\n"
    }
   }
  },
  {
   "cell_type": "code",
   "execution_count": 18,
   "outputs": [
    {
     "data": {
      "text/plain": "R            8.731409\nprecision    0.049563\ndtype: float64"
     },
     "execution_count": 18,
     "metadata": {},
     "output_type": "execute_result"
    }
   ],
   "source": [
    "con = con[con[\"Metadata_broad_sample\"] != \"DMSO\"]\n",
    "pre_r = evaluate(\n",
    "        profiles=con,\n",
    "        features=features,\n",
    "        meta_features=['Metadata_broad_sample', \"Metadata_moa\"],\n",
    "        replicate_groups=[\"Metadata_moa\"],\n",
    "        operation=\"precision_recall\",\n",
    "        similarity_metric=\"pearson\",\n",
    "        precision_recall_k=\"R\"\n",
    "    )\n",
    "pre_r.mean()"
   ],
   "metadata": {
    "collapsed": false,
    "pycharm": {
     "name": "#%%\n"
    }
   }
  },
  {
   "cell_type": "markdown",
   "source": [
    "## Mad robustize"
   ],
   "metadata": {
    "collapsed": false,
    "pycharm": {
     "name": "#%% md\n"
    }
   }
  },
  {
   "cell_type": "code",
   "execution_count": 19,
   "outputs": [
    {
     "data": {
      "text/plain": "   enrichment_percentile  threshold  ods_ratio        p-value\n0                  0.995   0.911304   5.548128  2.411293e-101",
      "text/html": "<div>\n<style scoped>\n    .dataframe tbody tr th:only-of-type {\n        vertical-align: middle;\n    }\n\n    .dataframe tbody tr th {\n        vertical-align: top;\n    }\n\n    .dataframe thead th {\n        text-align: right;\n    }\n</style>\n<table border=\"1\" class=\"dataframe\">\n  <thead>\n    <tr style=\"text-align: right;\">\n      <th></th>\n      <th>enrichment_percentile</th>\n      <th>threshold</th>\n      <th>ods_ratio</th>\n      <th>p-value</th>\n    </tr>\n  </thead>\n  <tbody>\n    <tr>\n      <th>0</th>\n      <td>0.995</td>\n      <td>0.911304</td>\n      <td>5.548128</td>\n      <td>2.411293e-101</td>\n    </tr>\n  </tbody>\n</table>\n</div>"
     },
     "execution_count": 19,
     "metadata": {},
     "output_type": "execute_result"
    }
   ],
   "source": [
    "mad_dmso = normalize(\n",
    "    profiles=df,\n",
    "    features=features,\n",
    "    samples=\"Metadata_broad_sample == 'DMSO'\",\n",
    "    method='mad_robustize',\n",
    "    output_file='none'\n",
    ")\n",
    "con = aggregate(\n",
    "    mad_dmso,\n",
    "    strata=[\"Metadata_broad_sample\"],\n",
    "    features=features\n",
    ")\n",
    "con = pd.merge(con, meta, how='left', on=['Metadata_broad_sample'])\n",
    "res_mad_dmso = evaluate(\n",
    "        profiles=con,\n",
    "        features=features,\n",
    "        meta_features=['Metadata_broad_sample', \"Metadata_moa\"],\n",
    "        replicate_groups=[\"Metadata_moa\"],\n",
    "        operation=\"enrichment\",\n",
    "        similarity_metric=\"pearson\",\n",
    "        enrichment_percentile=p\n",
    "    )\n",
    "res_mad_dmso"
   ],
   "metadata": {
    "collapsed": false,
    "pycharm": {
     "name": "#%%\n"
    }
   }
  },
  {
   "cell_type": "code",
   "execution_count": 20,
   "outputs": [
    {
     "data": {
      "text/plain": "R            8.731409\nprecision    0.049737\ndtype: float64"
     },
     "execution_count": 20,
     "metadata": {},
     "output_type": "execute_result"
    }
   ],
   "source": [
    "con = con[con[\"Metadata_broad_sample\"] != \"DMSO\"]\n",
    "pre_r = evaluate(\n",
    "        profiles=con,\n",
    "        features=features,\n",
    "        meta_features=['Metadata_broad_sample', \"Metadata_moa\"],\n",
    "        replicate_groups=[\"Metadata_moa\"],\n",
    "        operation=\"precision_recall\",\n",
    "        similarity_metric=\"pearson\",\n",
    "        precision_recall_k=\"R\"\n",
    "    )\n",
    "pre_r.mean()"
   ],
   "metadata": {
    "collapsed": false,
    "pycharm": {
     "name": "#%%\n"
    }
   }
  },
  {
   "cell_type": "markdown",
   "source": [
    "## spherize"
   ],
   "metadata": {
    "collapsed": false,
    "pycharm": {
     "name": "#%% md\n"
    }
   }
  },
  {
   "cell_type": "code",
   "execution_count": 21,
   "outputs": [
    {
     "data": {
      "text/plain": "   enrichment_percentile  threshold  ods_ratio  p-value\n0                  0.995    0.37479  15.450705      0.0",
      "text/html": "<div>\n<style scoped>\n    .dataframe tbody tr th:only-of-type {\n        vertical-align: middle;\n    }\n\n    .dataframe tbody tr th {\n        vertical-align: top;\n    }\n\n    .dataframe thead th {\n        text-align: right;\n    }\n</style>\n<table border=\"1\" class=\"dataframe\">\n  <thead>\n    <tr style=\"text-align: right;\">\n      <th></th>\n      <th>enrichment_percentile</th>\n      <th>threshold</th>\n      <th>ods_ratio</th>\n      <th>p-value</th>\n    </tr>\n  </thead>\n  <tbody>\n    <tr>\n      <th>0</th>\n      <td>0.995</td>\n      <td>0.37479</td>\n      <td>15.450705</td>\n      <td>0.0</td>\n    </tr>\n  </tbody>\n</table>\n</div>"
     },
     "execution_count": 21,
     "metadata": {},
     "output_type": "execute_result"
    }
   ],
   "source": [
    "sphere = normalize(\n",
    "    profiles=df,\n",
    "    features=features,\n",
    "    samples=\"Metadata_broad_sample == 'DMSO'\",\n",
    "    method='spherize',\n",
    "    output_file='none'\n",
    ")\n",
    "con = aggregate(\n",
    "    sphere,\n",
    "    strata=[\"Metadata_broad_sample\"],\n",
    "    features=features\n",
    ")\n",
    "con = pd.merge(con, meta, how='left', on=['Metadata_broad_sample'])\n",
    "res_sphere = evaluate(\n",
    "        profiles=con,\n",
    "        features=features,\n",
    "        meta_features=['Metadata_broad_sample', \"Metadata_moa\"],\n",
    "        replicate_groups=[\"Metadata_moa\"],\n",
    "        operation=\"enrichment\",\n",
    "        similarity_metric=\"pearson\",\n",
    "        enrichment_percentile=p\n",
    "    )\n",
    "res_sphere"
   ],
   "metadata": {
    "collapsed": false,
    "pycharm": {
     "name": "#%%\n"
    }
   }
  },
  {
   "cell_type": "code",
   "execution_count": 22,
   "outputs": [
    {
     "data": {
      "text/plain": "R            8.731409\nprecision    0.072201\ndtype: float64"
     },
     "execution_count": 22,
     "metadata": {},
     "output_type": "execute_result"
    }
   ],
   "source": [
    "con = con[con[\"Metadata_broad_sample\"] != \"DMSO\"]\n",
    "pre_r = evaluate(\n",
    "        profiles=con,\n",
    "        features=features,\n",
    "        meta_features=['Metadata_broad_sample', \"Metadata_moa\"],\n",
    "        replicate_groups=[\"Metadata_moa\"],\n",
    "        operation=\"precision_recall\",\n",
    "        similarity_metric=\"pearson\",\n",
    "        precision_recall_k=\"R\"\n",
    "    )\n",
    "pre_r.mean()"
   ],
   "metadata": {
    "collapsed": false,
    "pycharm": {
     "name": "#%%\n"
    }
   }
  },
  {
   "cell_type": "markdown",
   "source": [
    "## mad_rob and then spherize"
   ],
   "metadata": {
    "collapsed": false
   }
  },
  {
   "cell_type": "code",
   "execution_count": 23,
   "outputs": [
    {
     "data": {
      "text/plain": "   enrichment_percentile  threshold  ods_ratio  p-value\n0                  0.995    0.37479  15.450705      0.0",
      "text/html": "<div>\n<style scoped>\n    .dataframe tbody tr th:only-of-type {\n        vertical-align: middle;\n    }\n\n    .dataframe tbody tr th {\n        vertical-align: top;\n    }\n\n    .dataframe thead th {\n        text-align: right;\n    }\n</style>\n<table border=\"1\" class=\"dataframe\">\n  <thead>\n    <tr style=\"text-align: right;\">\n      <th></th>\n      <th>enrichment_percentile</th>\n      <th>threshold</th>\n      <th>ods_ratio</th>\n      <th>p-value</th>\n    </tr>\n  </thead>\n  <tbody>\n    <tr>\n      <th>0</th>\n      <td>0.995</td>\n      <td>0.37479</td>\n      <td>15.450705</td>\n      <td>0.0</td>\n    </tr>\n  </tbody>\n</table>\n</div>"
     },
     "execution_count": 23,
     "metadata": {},
     "output_type": "execute_result"
    }
   ],
   "source": [
    "normed = normalize(\n",
    "    profiles=df,\n",
    "    features=features,\n",
    "    samples=\"Metadata_broad_sample == 'DMSO'\",\n",
    "    method='mad_robustize',\n",
    "    output_file='none'\n",
    ")\n",
    "\n",
    "sphere = normalize(\n",
    "    profiles=normed,\n",
    "    features=features,\n",
    "    samples=\"Metadata_broad_sample == 'DMSO'\",\n",
    "    method='spherize',\n",
    "    output_file='none'\n",
    ")\n",
    "con = aggregate(\n",
    "    sphere,\n",
    "    strata=[\"Metadata_broad_sample\"],\n",
    "    features=features\n",
    ")\n",
    "con = pd.merge(con, meta, how='left', on=['Metadata_broad_sample'])\n",
    "res_sphere = evaluate(\n",
    "        profiles=con,\n",
    "        features=features,\n",
    "        meta_features=['Metadata_broad_sample', \"Metadata_moa\"],\n",
    "        replicate_groups=[\"Metadata_moa\"],\n",
    "        operation=\"enrichment\",\n",
    "        similarity_metric=\"pearson\",\n",
    "        enrichment_percentile=p\n",
    "    )\n",
    "res_sphere"
   ],
   "metadata": {
    "collapsed": false,
    "pycharm": {
     "name": "#%%\n"
    }
   }
  },
  {
   "cell_type": "code",
   "execution_count": 24,
   "outputs": [
    {
     "data": {
      "text/plain": "R            8.731409\nprecision    0.072201\ndtype: float64"
     },
     "execution_count": 24,
     "metadata": {},
     "output_type": "execute_result"
    }
   ],
   "source": [
    "con = con[con[\"Metadata_broad_sample\"] != \"DMSO\"]\n",
    "pre_r = evaluate(\n",
    "        profiles=con,\n",
    "        features=features,\n",
    "        meta_features=['Metadata_broad_sample', \"Metadata_moa\"],\n",
    "        replicate_groups=[\"Metadata_moa\"],\n",
    "        operation=\"precision_recall\",\n",
    "        similarity_metric=\"pearson\",\n",
    "        precision_recall_k=\"R\"\n",
    "    )\n",
    "pre_r.mean()"
   ],
   "metadata": {
    "collapsed": false,
    "pycharm": {
     "name": "#%%\n"
    }
   }
  },
  {
   "cell_type": "code",
   "execution_count": 25,
   "outputs": [
    {
     "data": {
      "text/plain": "   enrichment_percentile  threshold  ods_ratio  p-value\n0                  0.995    0.37479  15.450705      0.0",
      "text/html": "<div>\n<style scoped>\n    .dataframe tbody tr th:only-of-type {\n        vertical-align: middle;\n    }\n\n    .dataframe tbody tr th {\n        vertical-align: top;\n    }\n\n    .dataframe thead th {\n        text-align: right;\n    }\n</style>\n<table border=\"1\" class=\"dataframe\">\n  <thead>\n    <tr style=\"text-align: right;\">\n      <th></th>\n      <th>enrichment_percentile</th>\n      <th>threshold</th>\n      <th>ods_ratio</th>\n      <th>p-value</th>\n    </tr>\n  </thead>\n  <tbody>\n    <tr>\n      <th>0</th>\n      <td>0.995</td>\n      <td>0.37479</td>\n      <td>15.450705</td>\n      <td>0.0</td>\n    </tr>\n  </tbody>\n</table>\n</div>"
     },
     "execution_count": 25,
     "metadata": {},
     "output_type": "execute_result"
    }
   ],
   "source": [
    "# standardize and then spherize\n",
    "sphere = normalize(\n",
    "    profiles=stand_dmso,\n",
    "    features=features,\n",
    "    samples=\"Metadata_broad_sample == 'DMSO'\",\n",
    "    method='spherize',\n",
    "    output_file='none'\n",
    ")\n",
    "con = aggregate(\n",
    "    sphere,\n",
    "    strata=[\"Metadata_broad_sample\"],\n",
    "    features=features\n",
    ")\n",
    "\n",
    "con = pd.merge(con, meta, how='left', on=['Metadata_broad_sample'])\n",
    "res_stand_sphere = evaluate(\n",
    "        profiles=con,\n",
    "        features=features,\n",
    "        meta_features=['Metadata_broad_sample', \"Metadata_moa\"],\n",
    "        replicate_groups=[\"Metadata_moa\"],\n",
    "        operation=\"enrichment\",\n",
    "        similarity_metric=\"pearson\",\n",
    "        enrichment_percentile=p\n",
    "    )\n",
    "res_stand_sphere"
   ],
   "metadata": {
    "collapsed": false,
    "pycharm": {
     "name": "#%%\n"
    }
   }
  },
  {
   "cell_type": "code",
   "execution_count": 26,
   "outputs": [
    {
     "data": {
      "text/plain": "R            8.731409\nprecision    0.072201\ndtype: float64"
     },
     "execution_count": 26,
     "metadata": {},
     "output_type": "execute_result"
    }
   ],
   "source": [
    "con = con[con[\"Metadata_broad_sample\"] != \"DMSO\"]\n",
    "pre_r = evaluate(\n",
    "        profiles=con,\n",
    "        features=features,\n",
    "        meta_features=['Metadata_broad_sample', \"Metadata_moa\"],\n",
    "        replicate_groups=[\"Metadata_moa\"],\n",
    "        operation=\"precision_recall\",\n",
    "        similarity_metric=\"pearson\",\n",
    "        precision_recall_k=\"R\"\n",
    "    )\n",
    "pre_r.mean()"
   ],
   "metadata": {
    "collapsed": false,
    "pycharm": {
     "name": "#%%\n"
    }
   }
  },
  {
   "cell_type": "markdown",
   "source": [
    "## Plot PCA"
   ],
   "metadata": {
    "collapsed": false,
    "pycharm": {
     "name": "#%% md\n"
    }
   }
  },
  {
   "cell_type": "code",
   "execution_count": 27,
   "outputs": [
    {
     "name": "stdout",
     "output_type": "stream",
     "text": [
      "Explained variation per principal component: [0.50562739 0.10818844 0.06836398]\n",
      "Explained variation per principal component: [0.43458172 0.13342128 0.0787094 ]\n",
      "Explained variation per principal component: [0.51577579 0.08585414 0.06115663]\n",
      "Explained variation per principal component: [0.50952242 0.10840054 0.06856008]\n"
     ]
    },
    {
     "data": {
      "text/plain": "<Figure size 432x288 with 1 Axes>",
      "image/png": "[encoded data removed]"
     },
     "metadata": {},
     "output_type": "display_data"
    },
    {
     "data": {
      "text/plain": "<Figure size 432x288 with 1 Axes>",
      "image/png": "[encoded data removed]"
     },
     "metadata": {},
     "output_type": "display_data"
    },
    {
     "data": {
      "text/plain": "<Figure size 432x288 with 1 Axes>",
      "image/png": "[encoded data removed]"
     },
     "metadata": {},
     "output_type": "display_data"
    },
    {
     "data": {
      "text/plain": "<Figure size 432x288 with 1 Axes>",
      "image/png": "[encoded data removed]"
     },
     "metadata": {},
     "output_type": "display_data"
    }
   ],
   "source": [
    "pca_plot(rob_DMSO)\n",
    "pca_plot(rob_all)\n",
    "pca_plot(stand_dmso)\n",
    "pca_plot(mad_dmso)"
   ],
   "metadata": {
    "collapsed": false,
    "pycharm": {
     "name": "#%%\n"
    }
   }
  },
  {
   "cell_type": "code",
   "execution_count": 28,
   "outputs": [
    {
     "name": "stdout",
     "output_type": "stream",
     "text": [
      "Explained variation per principal component: [0.18571787 0.12333439 0.05559476]\n",
      "Explained variation per principal component: [0.18571787 0.12333439 0.05559476]\n"
     ]
    },
    {
     "data": {
      "text/plain": "<Figure size 432x288 with 1 Axes>",
      "image/png": "[encoded data removed]"
     },
     "metadata": {},
     "output_type": "display_data"
    },
    {
     "data": {
      "text/plain": "<Figure size 432x288 with 1 Axes>",
      "image/png": "[encoded data removed]"
     },
     "metadata": {},
     "output_type": "display_data"
    }
   ],
   "source": [
    "pca_plot(sphere)\n",
    "pca = PCA(n_components=3)\n",
    "pca_result = pca.fit_transform(sphere[features].values)\n",
    "sphere['pca-one'] = pca_result[:,0]\n",
    "sphere['pca-two'] = pca_result[:,1]\n",
    "sphere['pca-three'] = pca_result[:,2]\n",
    "print('Explained variation per principal component: {}'.format(pca.explained_variance_ratio_))\n",
    "plt.style.use({'figure.facecolor':'white'})\n",
    "plt.scatter(sphere['pca-three'], sphere['pca-two'], s = 3, alpha= 0.4)\n",
    "plt.show()"
   ],
   "metadata": {
    "collapsed": false,
    "pycharm": {
     "name": "#%%\n"
    }
   }
  },
  {
   "cell_type": "code",
   "execution_count": 29,
   "outputs": [
    {
     "data": {
      "text/plain": "<Figure size 432x288 with 1 Axes>",
      "image/png": "[encoded data removed]"
     },
     "metadata": {},
     "output_type": "display_data"
    }
   ],
   "source": [
    "def is_dmso(sample):\n",
    "    if sample == 'DMSO':\n",
    "        return 0\n",
    "    else:\n",
    "        return 1\n",
    "sphere['color'] = sphere.Metadata_broad_sample.apply(is_dmso)\n",
    "plt.style.use({'figure.facecolor':'white'})\n",
    "plt.scatter(sphere['pca-one'], sphere['pca-two'], c = sphere['color'], marker= 'o', s = 2, alpha= 0.4, cmap = 'prism')\n",
    "plt.show()"
   ],
   "metadata": {
    "collapsed": false,
    "pycharm": {
     "name": "#%%\n"
    }
   }
  },
  {
   "cell_type": "markdown",
   "source": [
    "## Feature selection"
   ],
   "metadata": {
    "collapsed": false,
    "pycharm": {
     "name": "#%% md\n"
    }
   }
  },
  {
   "cell_type": "code",
   "execution_count": 30,
   "outputs": [
    {
     "name": "stdout",
     "output_type": "stream",
     "text": [
      "(8733, 4023)\n",
      "(8733, 6417)\n"
     ]
    }
   ],
   "source": [
    "normed = normalize(\n",
    "    profiles=df,\n",
    "    features=features,\n",
    "    samples=\"Metadata_broad_sample == 'DMSO'\",\n",
    "    method='mad_robustize',\n",
    "    output_file='none'\n",
    ")\n",
    "\n",
    "feature_select_ops = [\n",
    "    \"variance_threshold\",\n",
    "    'drop_na_columns',\n",
    "    \"drop_outliers\",\n",
    "]\n",
    "select_var = feature_select(\n",
    "    profiles=normed,\n",
    "    features=features,\n",
    "    operation=feature_select_ops,\n",
    "    freq_cut=0.01,\n",
    "    unique_cut=0.1,\n",
    ")\n",
    "print(select_var.shape)\n",
    "print(normed.shape)"
   ],
   "metadata": {
    "collapsed": false,
    "pycharm": {
     "name": "#%%\n"
    }
   }
  },
  {
   "cell_type": "code",
   "execution_count": 30,
   "outputs": [],
   "source": [],
   "metadata": {
    "collapsed": false,
    "pycharm": {
     "name": "#%%\n"
    }
   }
  },
  {
   "cell_type": "code",
   "execution_count": 31,
   "outputs": [
    {
     "data": {
      "text/plain": "   enrichment_percentile  threshold  ods_ratio        p-value\n0                  0.995   0.925502   5.911827  1.720081e-113",
      "text/html": "<div>\n<style scoped>\n    .dataframe tbody tr th:only-of-type {\n        vertical-align: middle;\n    }\n\n    .dataframe tbody tr th {\n        vertical-align: top;\n    }\n\n    .dataframe thead th {\n        text-align: right;\n    }\n</style>\n<table border=\"1\" class=\"dataframe\">\n  <thead>\n    <tr style=\"text-align: right;\">\n      <th></th>\n      <th>enrichment_percentile</th>\n      <th>threshold</th>\n      <th>ods_ratio</th>\n      <th>p-value</th>\n    </tr>\n  </thead>\n  <tbody>\n    <tr>\n      <th>0</th>\n      <td>0.995</td>\n      <td>0.925502</td>\n      <td>5.911827</td>\n      <td>1.720081e-113</td>\n    </tr>\n  </tbody>\n</table>\n</div>"
     },
     "execution_count": 31,
     "metadata": {},
     "output_type": "execute_result"
    }
   ],
   "source": [
    "con = aggregate(\n",
    "    select_var,\n",
    "    strata=[\"Metadata_broad_sample\"],\n",
    "    features=feats(select_var)\n",
    ")\n",
    "con = pd.merge(con, meta, how='left', on=['Metadata_broad_sample'])\n",
    "\n",
    "res_select_other = evaluate(\n",
    "        profiles=con,\n",
    "        features=feats(con),\n",
    "        meta_features=['Metadata_broad_sample', \"Metadata_moa\"],\n",
    "        replicate_groups=[\"Metadata_moa\"],\n",
    "        operation=\"enrichment\",\n",
    "        similarity_metric=\"pearson\",\n",
    "        enrichment_percentile=p\n",
    "    )\n",
    "res_select_other"
   ],
   "metadata": {
    "collapsed": false,
    "pycharm": {
     "name": "#%%\n"
    }
   }
  },
  {
   "cell_type": "code",
   "execution_count": 33,
   "outputs": [
    {
     "data": {
      "text/plain": "R            8.731409\nprecision    0.047361\ndtype: float64"
     },
     "execution_count": 33,
     "metadata": {},
     "output_type": "execute_result"
    }
   ],
   "source": [
    "con = con[con[\"Metadata_broad_sample\"] != \"DMSO\"]\n",
    "pre_r = evaluate(\n",
    "        profiles=con,\n",
    "        features=feats(con),\n",
    "        meta_features=['Metadata_broad_sample', \"Metadata_moa\"],\n",
    "        replicate_groups=[\"Metadata_moa\"],\n",
    "        operation=\"precision_recall\",\n",
    "        similarity_metric=\"pearson\",\n",
    "        precision_recall_k=\"R\"\n",
    "    )\n",
    "pre_r.mean()"
   ],
   "metadata": {
    "collapsed": false,
    "pycharm": {
     "name": "#%%\n"
    }
   }
  },
  {
   "cell_type": "markdown",
   "source": [],
   "metadata": {
    "collapsed": false,
    "pycharm": {
     "name": "#%% md\n"
    }
   }
  },
  {
   "cell_type": "markdown",
   "source": [
    "## Feature selection with Spherized"
   ],
   "metadata": {
    "collapsed": false,
    "pycharm": {
     "name": "#%% md\n"
    }
   }
  },
  {
   "cell_type": "code",
   "execution_count": null,
   "outputs": [],
   "source": [],
   "metadata": {
    "collapsed": false,
    "pycharm": {
     "name": "#%%\n"
    }
   }
  },
  {
   "cell_type": "code",
   "execution_count": 34,
   "outputs": [
    {
     "data": {
      "text/plain": "   enrichment_percentile  threshold  ods_ratio  p-value\n0                  0.995   0.361529  16.179841      0.0",
      "text/html": "<div>\n<style scoped>\n    .dataframe tbody tr th:only-of-type {\n        vertical-align: middle;\n    }\n\n    .dataframe tbody tr th {\n        vertical-align: top;\n    }\n\n    .dataframe thead th {\n        text-align: right;\n    }\n</style>\n<table border=\"1\" class=\"dataframe\">\n  <thead>\n    <tr style=\"text-align: right;\">\n      <th></th>\n      <th>enrichment_percentile</th>\n      <th>threshold</th>\n      <th>ods_ratio</th>\n      <th>p-value</th>\n    </tr>\n  </thead>\n  <tbody>\n    <tr>\n      <th>0</th>\n      <td>0.995</td>\n      <td>0.361529</td>\n      <td>16.179841</td>\n      <td>0.0</td>\n    </tr>\n  </tbody>\n</table>\n</div>"
     },
     "execution_count": 34,
     "metadata": {},
     "output_type": "execute_result"
    }
   ],
   "source": [
    "sphere = normalize(\n",
    "    profiles=select_var,\n",
    "    features=feats(select_var),\n",
    "    samples=\"Metadata_broad_sample == 'DMSO'\",\n",
    "    method='spherize',\n",
    "    output_file='none'\n",
    ")\n",
    "\n",
    "con = aggregate(\n",
    "    sphere,\n",
    "    strata=[\"Metadata_broad_sample\"],\n",
    "    features=feats(select_var)\n",
    ")\n",
    "con = pd.merge(con, meta, how='left', on=['Metadata_broad_sample'])\n",
    "\n",
    "res_select_other = evaluate(\n",
    "        profiles=con,\n",
    "        features=feats(con),\n",
    "        meta_features=['Metadata_broad_sample', \"Metadata_moa\"],\n",
    "        replicate_groups=[\"Metadata_moa\"],\n",
    "        operation=\"enrichment\",\n",
    "        similarity_metric=\"pearson\",\n",
    "        enrichment_percentile=p\n",
    "    )\n",
    "res_select_other"
   ],
   "metadata": {
    "collapsed": false,
    "pycharm": {
     "name": "#%%\n"
    }
   }
  },
  {
   "cell_type": "code",
   "execution_count": 35,
   "outputs": [
    {
     "data": {
      "text/plain": "R            8.731409\nprecision    0.073687\ndtype: float64"
     },
     "execution_count": 35,
     "metadata": {},
     "output_type": "execute_result"
    }
   ],
   "source": [
    "con = con[con[\"Metadata_broad_sample\"] != \"DMSO\"]\n",
    "pre_r = evaluate(\n",
    "        profiles=con,\n",
    "        features=feats(con),\n",
    "        meta_features=['Metadata_broad_sample', \"Metadata_moa\"],\n",
    "        replicate_groups=[\"Metadata_moa\"],\n",
    "        operation=\"precision_recall\",\n",
    "        similarity_metric=\"pearson\",\n",
    "        precision_recall_k=\"R\"\n",
    "    )\n",
    "pre_r.mean()\n",
    "\n",
    "# Check these results for P@R"
   ],
   "metadata": {
    "collapsed": false,
    "pycharm": {
     "name": "#%%\n"
    }
   }
  },
  {
   "cell_type": "code",
   "execution_count": null,
   "outputs": [],
   "source": [
    "import sys\n",
    "sys.path.insert(0, \"/Users/mbornhol/git/neural-profiling\")\n",
    "from utils import eval\n",
    "\n",
    "e = eval.evaluation(con)\n",
    "mad_pre_r = e.eval(df, operation = 'precision_recall', eval_range='R').precision.mean()"
   ],
   "metadata": {
    "collapsed": false,
    "pycharm": {
     "name": "#%%\n"
    }
   }
  },
  {
   "cell_type": "code",
   "execution_count": null,
   "outputs": [],
   "source": [
    "normed = normalize(\n",
    "    profiles=df,\n",
    "    features=features,\n",
    "    samples=\"Metadata_broad_sample == 'DMSO'\",\n",
    "    method='mad_robustize',\n",
    "    output_file='none'\n",
    ")\n",
    "\n",
    "sphere = normalize(\n",
    "    profiles=normed,\n",
    "    features=features,\n",
    "    samples=\"Metadata_broad_sample == 'DMSO'\",\n",
    "    method='spherize',\n",
    "    output_file='none'\n",
    ")\n",
    "con = aggregate(\n",
    "    sphere,\n",
    "    strata=[\"Metadata_broad_sample\"],\n",
    "    features=features\n",
    ")\n",
    "con = pd.merge(con, meta, how='left', on=['Metadata_broad_sample'])\n",
    "\n",
    "e = eval.evaluation(con)\n",
    "sph_pre_r = e.eval(df, operation = 'precision_recall', eval_range='R').precision.mean()"
   ],
   "metadata": {
    "collapsed": false,
    "pycharm": {
     "name": "#%%\n"
    }
   }
  },
  {
   "cell_type": "code",
   "execution_count": null,
   "outputs": [],
   "source": [
    "sph_pre_r"
   ],
   "metadata": {
    "collapsed": false,
    "pycharm": {
     "name": "#%%\n"
    }
   }
  },
  {
   "cell_type": "code",
   "execution_count": null,
   "outputs": [],
   "source": [
    "mad_pre_r\n"
   ],
   "metadata": {
    "collapsed": false,
    "pycharm": {
     "name": "#%%\n"
    }
   }
  },
  {
   "cell_type": "code",
   "execution_count": null,
   "outputs": [],
   "source": [],
   "metadata": {
    "collapsed": false,
    "pycharm": {
     "name": "#%%\n"
    }
   }
  }
 ],
 "metadata": {
  "kernelspec": {
   "name": "pycharm-f57c4e3b",
   "language": "python",
   "display_name": "PyCharm (git)"
  },
  "language_info": {
   "codemirror_mode": {
    "name": "ipython",
    "version": 2
   },
   "file_extension": ".py",
   "mimetype": "text/x-python",
   "name": "python",
   "nbconvert_exporter": "python",
   "pygments_lexer": "ipython2",
   "version": "2.7.6"
  }
 },
 "nbformat": 4,
 "nbformat_minor": 0
}