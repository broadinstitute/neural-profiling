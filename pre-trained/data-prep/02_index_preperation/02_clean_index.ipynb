{
 "cells": [
  {
   "cell_type": "markdown",
   "metadata": {
    "collapsed": true,
    "pycharm": {
     "name": "#%% md\n"
    }
   },
   "source": [
    "# Select data\n",
    "Since we only are evaluating a subsection of the data, we want to run less through DP.\n",
    "These are the same steps as in `baseline/02_clean_data`"
   ]
  },
  {
   "cell_type": "code",
   "execution_count": 2,
   "outputs": [],
   "source": [
    "import os\n",
    "import numpy as np\n",
    "import pandas as pd\n",
    "import matplotlib.pyplot as plt"
   ],
   "metadata": {
    "collapsed": false,
    "pycharm": {
     "name": "#%%\n"
    }
   }
  },
  {
   "cell_type": "code",
   "execution_count": 48,
   "outputs": [],
   "source": [
    "df = pd.read_csv('enriched_index.csv')"
   ],
   "metadata": {
    "collapsed": false,
    "pycharm": {
     "name": "#%%\n"
    }
   }
  },
  {
   "cell_type": "code",
   "execution_count": 49,
   "outputs": [],
   "source": [
    "# 0. single out the dmso\n",
    "dmso_df = df.query(\"Metadata_dose_recode == 0\")\n",
    "# 1. Only keep the dose 6\n",
    "df = df.query(\"Metadata_dose_recode == 6 \")\n",
    "# 2. Get rid of all compounds that have unknown MOAs\n",
    "df = df.query(\"Metadata_moa != 'unknown'\")\n",
    "# 3. Drop all single MOAs\n",
    "unique = df.drop_duplicates(['Metadata_broad_sample' ,'Metadata_moa'], keep = 'first')\n",
    "ls = unique.Metadata_moa.value_counts() != 1\n",
    "keys = ls[ls].keys()\n",
    "df = df[df[\"Metadata_moa\"].isin(keys)]\n",
    "# add the DMSO data back on\n",
    "df = pd.concat(\n",
    " [dmso_df, df],\n",
    "    ignore_index=True\n",
    ")"
   ],
   "metadata": {
    "collapsed": false,
    "pycharm": {
     "name": "#%%\n"
    }
   }
  },
  {
   "cell_type": "code",
   "execution_count": null,
   "outputs": [],
   "source": [
    "# Since some pngs are missing, we need to get rid of some rows\n",
    "delete row: 'SQ00015232/r06c07f01p01-ch1sk1fk1fl1.png'"
   ],
   "metadata": {
    "collapsed": false,
    "pycharm": {
     "name": "#%%\n"
    }
   }
  },
  {
   "cell_type": "code",
   "execution_count": 50,
   "outputs": [
    {
     "name": "stdout",
     "output_type": "stream",
     "text": [
      "DMSO                      29268\n",
      "BRD-A09349126-001-10-7       45\n",
      "BRD-A34006693-001-15-4       45\n",
      "BRD-K24968862-001-01-0       45\n",
      "BRD-K86797399-001-04-4       45\n",
      "                          ...  \n",
      "BRD-K42948882-305-01-1       18\n",
      "BRD-A37959677-001-04-5       18\n",
      "BRD-K43578482-001-01-4       18\n",
      "BRD-K44273375-001-25-0       18\n",
      "BRD-K42679050-001-02-1       18\n",
      "Name: Metadata_broad_sample, Length: 1144, dtype: int64\n",
      "unknown                                                              29268\n",
      "phosphodiesterase inhibitor                                           1458\n",
      "adrenergic receptor antagonist                                        1395\n",
      "cyclooxygenase inhibitor                                              1187\n",
      "histamine receptor antagonist                                         1098\n",
      "                                                                     ...  \n",
      "angiogenesis inhibitor|tumor necrosis factor production inhibitor       81\n",
      "tricyclic antidepressant                                                63\n",
      "calmodulin antagonist                                                   63\n",
      "focal adhesion kinase inhibitor                                         63\n",
      "estrogen receptor agonist|estrogenic hormone                            54\n",
      "Name: Metadata_moa, Length: 235, dtype: int64\n"
     ]
    }
   ],
   "source": [
    "# validate\n",
    "print(df.Metadata_broad_sample.value_counts())\n",
    "print(df.Metadata_moa.value_counts())"
   ],
   "metadata": {
    "collapsed": false,
    "pycharm": {
     "name": "#%%\n"
    }
   }
  },
  {
   "cell_type": "code",
   "execution_count": 51,
   "outputs": [
    {
     "data": {
      "text/plain": "  Metadata_Plate Metadata_Well  Metadata_Site Metadata_broad_sample  \\\n0     SQ00014812           A01              1                  DMSO   \n1     SQ00014812           A01              2                  DMSO   \n2     SQ00014812           A01              3                  DMSO   \n3     SQ00014812           A01              4                  DMSO   \n4     SQ00014812           A01              5                  DMSO   \n\n  Metadata_moa  Metadata_mmoles_per_liter  Metadata_dose_recode  \\\n0      unknown                        0.0                     0   \n1      unknown                        0.0                     0   \n2      unknown                        0.0                     0   \n3      unknown                        0.0                     0   \n4      unknown                        0.0                     0   \n\n                                         RNA  \\\n0  SQ00014812/r01c01f01p01-ch3sk1fk1fl1.tiff   \n1  SQ00014812/r01c01f02p01-ch3sk1fk1fl1.tiff   \n2  SQ00014812/r01c01f03p01-ch3sk1fk1fl1.tiff   \n3  SQ00014812/r01c01f04p01-ch3sk1fk1fl1.tiff   \n4  SQ00014812/r01c01f05p01-ch3sk1fk1fl1.tiff   \n\n                                          ER  \\\n0  SQ00014812/r01c01f01p01-ch2sk1fk1fl1.tiff   \n1  SQ00014812/r01c01f02p01-ch2sk1fk1fl1.tiff   \n2  SQ00014812/r01c01f03p01-ch2sk1fk1fl1.tiff   \n3  SQ00014812/r01c01f04p01-ch2sk1fk1fl1.tiff   \n4  SQ00014812/r01c01f05p01-ch2sk1fk1fl1.tiff   \n\n                                         AGP  \\\n0  SQ00014812/r01c01f01p01-ch4sk1fk1fl1.tiff   \n1  SQ00014812/r01c01f02p01-ch4sk1fk1fl1.tiff   \n2  SQ00014812/r01c01f03p01-ch4sk1fk1fl1.tiff   \n3  SQ00014812/r01c01f04p01-ch4sk1fk1fl1.tiff   \n4  SQ00014812/r01c01f05p01-ch4sk1fk1fl1.tiff   \n\n                                        Mito  \\\n0  SQ00014812/r01c01f01p01-ch5sk1fk1fl1.tiff   \n1  SQ00014812/r01c01f02p01-ch5sk1fk1fl1.tiff   \n2  SQ00014812/r01c01f03p01-ch5sk1fk1fl1.tiff   \n3  SQ00014812/r01c01f04p01-ch5sk1fk1fl1.tiff   \n4  SQ00014812/r01c01f05p01-ch5sk1fk1fl1.tiff   \n\n                                         DNA  Concentration  Treatment_ID  \\\n0  SQ00014812/r01c01f01p01-ch1sk1fk1fl1.tiff            NaN             0   \n1  SQ00014812/r01c01f02p01-ch1sk1fk1fl1.tiff            NaN             0   \n2  SQ00014812/r01c01f03p01-ch1sk1fk1fl1.tiff            NaN             0   \n3  SQ00014812/r01c01f04p01-ch1sk1fk1fl1.tiff            NaN             0   \n4  SQ00014812/r01c01f05p01-ch1sk1fk1fl1.tiff            NaN             0   \n\n  Compound pert_iname  Treatment_Replicate Treatment     Plate_Map_Name  \\\n0     DMSO        NaN                    1   DMSO@NA  C-7161-01-LM6-022   \n1     DMSO        NaN                    1   DMSO@NA  C-7161-01-LM6-022   \n2     DMSO        NaN                    1   DMSO@NA  C-7161-01-LM6-022   \n3     DMSO        NaN                    1   DMSO@NA  C-7161-01-LM6-022   \n4     DMSO        NaN                    1   DMSO@NA  C-7161-01-LM6-022   \n\n      Split  \n0  Training  \n1  Training  \n2  Training  \n3  Training  \n4  Training  ",
      "text/html": "<div>\n<style scoped>\n    .dataframe tbody tr th:only-of-type {\n        vertical-align: middle;\n    }\n\n    .dataframe tbody tr th {\n        vertical-align: top;\n    }\n\n    .dataframe thead th {\n        text-align: right;\n    }\n</style>\n<table border=\"1\" class=\"dataframe\">\n  <thead>\n    <tr style=\"text-align: right;\">\n      <th></th>\n      <th>Metadata_Plate</th>\n      <th>Metadata_Well</th>\n      <th>Metadata_Site</th>\n      <th>Metadata_broad_sample</th>\n      <th>Metadata_moa</th>\n      <th>Metadata_mmoles_per_liter</th>\n      <th>Metadata_dose_recode</th>\n      <th>RNA</th>\n      <th>ER</th>\n      <th>AGP</th>\n      <th>Mito</th>\n      <th>DNA</th>\n      <th>Concentration</th>\n      <th>Treatment_ID</th>\n      <th>Compound</th>\n      <th>pert_iname</th>\n      <th>Treatment_Replicate</th>\n      <th>Treatment</th>\n      <th>Plate_Map_Name</th>\n      <th>Split</th>\n    </tr>\n  </thead>\n  <tbody>\n    <tr>\n      <th>0</th>\n      <td>SQ00014812</td>\n      <td>A01</td>\n      <td>1</td>\n      <td>DMSO</td>\n      <td>unknown</td>\n      <td>0.0</td>\n      <td>0</td>\n      <td>SQ00014812/r01c01f01p01-ch3sk1fk1fl1.tiff</td>\n      <td>SQ00014812/r01c01f01p01-ch2sk1fk1fl1.tiff</td>\n      <td>SQ00014812/r01c01f01p01-ch4sk1fk1fl1.tiff</td>\n      <td>SQ00014812/r01c01f01p01-ch5sk1fk1fl1.tiff</td>\n      <td>SQ00014812/r01c01f01p01-ch1sk1fk1fl1.tiff</td>\n      <td>NaN</td>\n      <td>0</td>\n      <td>DMSO</td>\n      <td>NaN</td>\n      <td>1</td>\n      <td>DMSO@NA</td>\n      <td>C-7161-01-LM6-022</td>\n      <td>Training</td>\n    </tr>\n    <tr>\n      <th>1</th>\n      <td>SQ00014812</td>\n      <td>A01</td>\n      <td>2</td>\n      <td>DMSO</td>\n      <td>unknown</td>\n      <td>0.0</td>\n      <td>0</td>\n      <td>SQ00014812/r01c01f02p01-ch3sk1fk1fl1.tiff</td>\n      <td>SQ00014812/r01c01f02p01-ch2sk1fk1fl1.tiff</td>\n      <td>SQ00014812/r01c01f02p01-ch4sk1fk1fl1.tiff</td>\n      <td>SQ00014812/r01c01f02p01-ch5sk1fk1fl1.tiff</td>\n      <td>SQ00014812/r01c01f02p01-ch1sk1fk1fl1.tiff</td>\n      <td>NaN</td>\n      <td>0</td>\n      <td>DMSO</td>\n      <td>NaN</td>\n      <td>1</td>\n      <td>DMSO@NA</td>\n      <td>C-7161-01-LM6-022</td>\n      <td>Training</td>\n    </tr>\n    <tr>\n      <th>2</th>\n      <td>SQ00014812</td>\n      <td>A01</td>\n      <td>3</td>\n      <td>DMSO</td>\n      <td>unknown</td>\n      <td>0.0</td>\n      <td>0</td>\n      <td>SQ00014812/r01c01f03p01-ch3sk1fk1fl1.tiff</td>\n      <td>SQ00014812/r01c01f03p01-ch2sk1fk1fl1.tiff</td>\n      <td>SQ00014812/r01c01f03p01-ch4sk1fk1fl1.tiff</td>\n      <td>SQ00014812/r01c01f03p01-ch5sk1fk1fl1.tiff</td>\n      <td>SQ00014812/r01c01f03p01-ch1sk1fk1fl1.tiff</td>\n      <td>NaN</td>\n      <td>0</td>\n      <td>DMSO</td>\n      <td>NaN</td>\n      <td>1</td>\n      <td>DMSO@NA</td>\n      <td>C-7161-01-LM6-022</td>\n      <td>Training</td>\n    </tr>\n    <tr>\n      <th>3</th>\n      <td>SQ00014812</td>\n      <td>A01</td>\n      <td>4</td>\n      <td>DMSO</td>\n      <td>unknown</td>\n      <td>0.0</td>\n      <td>0</td>\n      <td>SQ00014812/r01c01f04p01-ch3sk1fk1fl1.tiff</td>\n      <td>SQ00014812/r01c01f04p01-ch2sk1fk1fl1.tiff</td>\n      <td>SQ00014812/r01c01f04p01-ch4sk1fk1fl1.tiff</td>\n      <td>SQ00014812/r01c01f04p01-ch5sk1fk1fl1.tiff</td>\n      <td>SQ00014812/r01c01f04p01-ch1sk1fk1fl1.tiff</td>\n      <td>NaN</td>\n      <td>0</td>\n      <td>DMSO</td>\n      <td>NaN</td>\n      <td>1</td>\n      <td>DMSO@NA</td>\n      <td>C-7161-01-LM6-022</td>\n      <td>Training</td>\n    </tr>\n    <tr>\n      <th>4</th>\n      <td>SQ00014812</td>\n      <td>A01</td>\n      <td>5</td>\n      <td>DMSO</td>\n      <td>unknown</td>\n      <td>0.0</td>\n      <td>0</td>\n      <td>SQ00014812/r01c01f05p01-ch3sk1fk1fl1.tiff</td>\n      <td>SQ00014812/r01c01f05p01-ch2sk1fk1fl1.tiff</td>\n      <td>SQ00014812/r01c01f05p01-ch4sk1fk1fl1.tiff</td>\n      <td>SQ00014812/r01c01f05p01-ch5sk1fk1fl1.tiff</td>\n      <td>SQ00014812/r01c01f05p01-ch1sk1fk1fl1.tiff</td>\n      <td>NaN</td>\n      <td>0</td>\n      <td>DMSO</td>\n      <td>NaN</td>\n      <td>1</td>\n      <td>DMSO@NA</td>\n      <td>C-7161-01-LM6-022</td>\n      <td>Training</td>\n    </tr>\n  </tbody>\n</table>\n</div>"
     },
     "execution_count": 51,
     "metadata": {},
     "output_type": "execute_result"
    }
   ],
   "source": [
    "df.head()"
   ],
   "metadata": {
    "collapsed": false,
    "pycharm": {
     "name": "#%%\n"
    }
   }
  },
  {
   "cell_type": "code",
   "execution_count": 26,
   "outputs": [],
   "source": [
    "df.to_csv('sub_index.csv', index=False)"
   ],
   "metadata": {
    "collapsed": false,
    "pycharm": {
     "name": "#%%\n"
    }
   }
  },
  {
   "cell_type": "markdown",
   "source": [
    "This index file is now ready for DeepProfiler to run. The output can then be compared to the baseline results."
   ],
   "metadata": {
    "collapsed": false,
    "pycharm": {
     "name": "#%% md\n"
    }
   }
  },
  {
   "cell_type": "code",
   "execution_count": 22,
   "outputs": [],
   "source": [
    "df = pd.read_csv('sub_index.csv')"
   ],
   "metadata": {
    "collapsed": false,
    "pycharm": {
     "name": "#%%\n"
    }
   }
  },
  {
   "cell_type": "code",
   "execution_count": 9,
   "outputs": [
    {
     "data": {
      "text/plain": "array(['BRD-K99545815-001-06-3', 'BRD-K43578482-001-01-4'], dtype=object)"
     },
     "execution_count": 9,
     "metadata": {},
     "output_type": "execute_result"
    }
   ],
   "source": [
    "df.query(\"Metadata_moa == 'focal adhesion kinase inhibitor'\").Metadata_broad_sample.unique()"
   ],
   "metadata": {
    "collapsed": false,
    "pycharm": {
     "name": "#%%\n"
    }
   }
  },
  {
   "cell_type": "code",
   "execution_count": 7,
   "outputs": [],
   "source": [
    "\n",
    "dic = {}\n",
    "for moa in df.Metadata_moa.unique():\n",
    "    dic[moa] = len(df.query(\"Metadata_moa == @moa\").Metadata_broad_sample.unique())"
   ],
   "metadata": {
    "collapsed": false,
    "pycharm": {
     "name": "#%%\n"
    }
   }
  },
  {
   "cell_type": "code",
   "execution_count": 8,
   "outputs": [
    {
     "data": {
      "text/plain": "1"
     },
     "execution_count": 8,
     "metadata": {},
     "output_type": "execute_result"
    }
   ],
   "source": [
    "list(dic.values()).count(1)"
   ],
   "metadata": {
    "collapsed": false,
    "pycharm": {
     "name": "#%%\n"
    }
   }
  },
  {
   "cell_type": "code",
   "execution_count": 24,
   "outputs": [],
   "source": [
    "df.RNA.replace('tiff', 'png', regex = True, inplace=True)\n",
    "df.ER.replace('tiff', 'png', regex = True, inplace=True)\n",
    "df.AGP.replace('tiff', 'png', regex = True, inplace=True)\n",
    "df.Mito.replace('tiff', 'png', regex = True, inplace=True)\n",
    "df.DNA.replace('tiff', 'png', regex = True, inplace=True)"
   ],
   "metadata": {
    "collapsed": false,
    "pycharm": {
     "name": "#%%\n"
    }
   }
  },
  {
   "cell_type": "code",
   "execution_count": 25,
   "outputs": [
    {
     "data": {
      "text/plain": "  Metadata_Plate Metadata_Well  Metadata_Site Metadata_broad_sample  \\\n0     SQ00014812           A01              1                  DMSO   \n1     SQ00014812           A01              2                  DMSO   \n2     SQ00014812           A01              3                  DMSO   \n3     SQ00014812           A01              4                  DMSO   \n4     SQ00014812           A01              5                  DMSO   \n\n  Metadata_moa  Metadata_mmoles_per_liter  Metadata_dose_recode  \\\n0      unknown                        0.0                     0   \n1      unknown                        0.0                     0   \n2      unknown                        0.0                     0   \n3      unknown                        0.0                     0   \n4      unknown                        0.0                     0   \n\n                                        RNA  \\\n0  SQ00014812/r01c01f01p01-ch3sk1fk1fl1.png   \n1  SQ00014812/r01c01f02p01-ch3sk1fk1fl1.png   \n2  SQ00014812/r01c01f03p01-ch3sk1fk1fl1.png   \n3  SQ00014812/r01c01f04p01-ch3sk1fk1fl1.png   \n4  SQ00014812/r01c01f05p01-ch3sk1fk1fl1.png   \n\n                                         ER  \\\n0  SQ00014812/r01c01f01p01-ch2sk1fk1fl1.png   \n1  SQ00014812/r01c01f02p01-ch2sk1fk1fl1.png   \n2  SQ00014812/r01c01f03p01-ch2sk1fk1fl1.png   \n3  SQ00014812/r01c01f04p01-ch2sk1fk1fl1.png   \n4  SQ00014812/r01c01f05p01-ch2sk1fk1fl1.png   \n\n                                        AGP  \\\n0  SQ00014812/r01c01f01p01-ch4sk1fk1fl1.png   \n1  SQ00014812/r01c01f02p01-ch4sk1fk1fl1.png   \n2  SQ00014812/r01c01f03p01-ch4sk1fk1fl1.png   \n3  SQ00014812/r01c01f04p01-ch4sk1fk1fl1.png   \n4  SQ00014812/r01c01f05p01-ch4sk1fk1fl1.png   \n\n                                       Mito  \\\n0  SQ00014812/r01c01f01p01-ch5sk1fk1fl1.png   \n1  SQ00014812/r01c01f02p01-ch5sk1fk1fl1.png   \n2  SQ00014812/r01c01f03p01-ch5sk1fk1fl1.png   \n3  SQ00014812/r01c01f04p01-ch5sk1fk1fl1.png   \n4  SQ00014812/r01c01f05p01-ch5sk1fk1fl1.png   \n\n                                        DNA  Concentration  Treatment_ID  \\\n0  SQ00014812/r01c01f01p01-ch1sk1fk1fl1.png            NaN             0   \n1  SQ00014812/r01c01f02p01-ch1sk1fk1fl1.png            NaN             0   \n2  SQ00014812/r01c01f03p01-ch1sk1fk1fl1.png            NaN             0   \n3  SQ00014812/r01c01f04p01-ch1sk1fk1fl1.png            NaN             0   \n4  SQ00014812/r01c01f05p01-ch1sk1fk1fl1.png            NaN             0   \n\n  Compound pert_iname  Treatment_Replicate Treatment     Plate_Map_Name  \\\n0     DMSO        NaN                    1   DMSO@NA  C-7161-01-LM6-022   \n1     DMSO        NaN                    1   DMSO@NA  C-7161-01-LM6-022   \n2     DMSO        NaN                    1   DMSO@NA  C-7161-01-LM6-022   \n3     DMSO        NaN                    1   DMSO@NA  C-7161-01-LM6-022   \n4     DMSO        NaN                    1   DMSO@NA  C-7161-01-LM6-022   \n\n      Split  \n0  Training  \n1  Training  \n2  Training  \n3  Training  \n4  Training  ",
      "text/html": "<div>\n<style scoped>\n    .dataframe tbody tr th:only-of-type {\n        vertical-align: middle;\n    }\n\n    .dataframe tbody tr th {\n        vertical-align: top;\n    }\n\n    .dataframe thead th {\n        text-align: right;\n    }\n</style>\n<table border=\"1\" class=\"dataframe\">\n  <thead>\n    <tr style=\"text-align: right;\">\n      <th></th>\n      <th>Metadata_Plate</th>\n      <th>Metadata_Well</th>\n      <th>Metadata_Site</th>\n      <th>Metadata_broad_sample</th>\n      <th>Metadata_moa</th>\n      <th>Metadata_mmoles_per_liter</th>\n      <th>Metadata_dose_recode</th>\n      <th>RNA</th>\n      <th>ER</th>\n      <th>AGP</th>\n      <th>Mito</th>\n      <th>DNA</th>\n      <th>Concentration</th>\n      <th>Treatment_ID</th>\n      <th>Compound</th>\n      <th>pert_iname</th>\n      <th>Treatment_Replicate</th>\n      <th>Treatment</th>\n      <th>Plate_Map_Name</th>\n      <th>Split</th>\n    </tr>\n  </thead>\n  <tbody>\n    <tr>\n      <th>0</th>\n      <td>SQ00014812</td>\n      <td>A01</td>\n      <td>1</td>\n      <td>DMSO</td>\n      <td>unknown</td>\n      <td>0.0</td>\n      <td>0</td>\n      <td>SQ00014812/r01c01f01p01-ch3sk1fk1fl1.png</td>\n      <td>SQ00014812/r01c01f01p01-ch2sk1fk1fl1.png</td>\n      <td>SQ00014812/r01c01f01p01-ch4sk1fk1fl1.png</td>\n      <td>SQ00014812/r01c01f01p01-ch5sk1fk1fl1.png</td>\n      <td>SQ00014812/r01c01f01p01-ch1sk1fk1fl1.png</td>\n      <td>NaN</td>\n      <td>0</td>\n      <td>DMSO</td>\n      <td>NaN</td>\n      <td>1</td>\n      <td>DMSO@NA</td>\n      <td>C-7161-01-LM6-022</td>\n      <td>Training</td>\n    </tr>\n    <tr>\n      <th>1</th>\n      <td>SQ00014812</td>\n      <td>A01</td>\n      <td>2</td>\n      <td>DMSO</td>\n      <td>unknown</td>\n      <td>0.0</td>\n      <td>0</td>\n      <td>SQ00014812/r01c01f02p01-ch3sk1fk1fl1.png</td>\n      <td>SQ00014812/r01c01f02p01-ch2sk1fk1fl1.png</td>\n      <td>SQ00014812/r01c01f02p01-ch4sk1fk1fl1.png</td>\n      <td>SQ00014812/r01c01f02p01-ch5sk1fk1fl1.png</td>\n      <td>SQ00014812/r01c01f02p01-ch1sk1fk1fl1.png</td>\n      <td>NaN</td>\n      <td>0</td>\n      <td>DMSO</td>\n      <td>NaN</td>\n      <td>1</td>\n      <td>DMSO@NA</td>\n      <td>C-7161-01-LM6-022</td>\n      <td>Training</td>\n    </tr>\n    <tr>\n      <th>2</th>\n      <td>SQ00014812</td>\n      <td>A01</td>\n      <td>3</td>\n      <td>DMSO</td>\n      <td>unknown</td>\n      <td>0.0</td>\n      <td>0</td>\n      <td>SQ00014812/r01c01f03p01-ch3sk1fk1fl1.png</td>\n      <td>SQ00014812/r01c01f03p01-ch2sk1fk1fl1.png</td>\n      <td>SQ00014812/r01c01f03p01-ch4sk1fk1fl1.png</td>\n      <td>SQ00014812/r01c01f03p01-ch5sk1fk1fl1.png</td>\n      <td>SQ00014812/r01c01f03p01-ch1sk1fk1fl1.png</td>\n      <td>NaN</td>\n      <td>0</td>\n      <td>DMSO</td>\n      <td>NaN</td>\n      <td>1</td>\n      <td>DMSO@NA</td>\n      <td>C-7161-01-LM6-022</td>\n      <td>Training</td>\n    </tr>\n    <tr>\n      <th>3</th>\n      <td>SQ00014812</td>\n      <td>A01</td>\n      <td>4</td>\n      <td>DMSO</td>\n      <td>unknown</td>\n      <td>0.0</td>\n      <td>0</td>\n      <td>SQ00014812/r01c01f04p01-ch3sk1fk1fl1.png</td>\n      <td>SQ00014812/r01c01f04p01-ch2sk1fk1fl1.png</td>\n      <td>SQ00014812/r01c01f04p01-ch4sk1fk1fl1.png</td>\n      <td>SQ00014812/r01c01f04p01-ch5sk1fk1fl1.png</td>\n      <td>SQ00014812/r01c01f04p01-ch1sk1fk1fl1.png</td>\n      <td>NaN</td>\n      <td>0</td>\n      <td>DMSO</td>\n      <td>NaN</td>\n      <td>1</td>\n      <td>DMSO@NA</td>\n      <td>C-7161-01-LM6-022</td>\n      <td>Training</td>\n    </tr>\n    <tr>\n      <th>4</th>\n      <td>SQ00014812</td>\n      <td>A01</td>\n      <td>5</td>\n      <td>DMSO</td>\n      <td>unknown</td>\n      <td>0.0</td>\n      <td>0</td>\n      <td>SQ00014812/r01c01f05p01-ch3sk1fk1fl1.png</td>\n      <td>SQ00014812/r01c01f05p01-ch2sk1fk1fl1.png</td>\n      <td>SQ00014812/r01c01f05p01-ch4sk1fk1fl1.png</td>\n      <td>SQ00014812/r01c01f05p01-ch5sk1fk1fl1.png</td>\n      <td>SQ00014812/r01c01f05p01-ch1sk1fk1fl1.png</td>\n      <td>NaN</td>\n      <td>0</td>\n      <td>DMSO</td>\n      <td>NaN</td>\n      <td>1</td>\n      <td>DMSO@NA</td>\n      <td>C-7161-01-LM6-022</td>\n      <td>Training</td>\n    </tr>\n  </tbody>\n</table>\n</div>"
     },
     "execution_count": 25,
     "metadata": {},
     "output_type": "execute_result"
    }
   ],
   "source": [
    "df.head()"
   ],
   "metadata": {
    "collapsed": false,
    "pycharm": {
     "name": "#%%\n"
    }
   }
  },
  {
   "cell_type": "code",
   "execution_count": null,
   "outputs": [],
   "source": [],
   "metadata": {
    "collapsed": false,
    "pycharm": {
     "name": "#%%\n"
    }
   }
  }
 ],
 "metadata": {
  "kernelspec": {
   "name": "pycharm-f57c4e3b",
   "language": "python",
   "display_name": "PyCharm (git)"
  },
  "language_info": {
   "codemirror_mode": {
    "name": "ipython",
    "version": 2
   },
   "file_extension": ".py",
   "mimetype": "text/x-python",
   "name": "python",
   "nbconvert_exporter": "python",
   "pygments_lexer": "ipython2",
   "version": "2.7.6"
  }
 },
 "nbformat": 4,
 "nbformat_minor": 0
}