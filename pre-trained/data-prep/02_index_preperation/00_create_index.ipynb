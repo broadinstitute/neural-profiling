{
 "cells": [
  {
   "cell_type": "markdown",
   "source": [
    "# Create index\n",
    "The index file is a dataframe that contains all metadata to all wells in the LINCS project. While other index files have existed, I recreated this to be sure about the correctness.\n",
    "\n",
    "In other notebooks I will be using this data to annotate the profiles and aggregated data from DP."
   ],
   "metadata": {
    "collapsed": false,
    "pycharm": {
     "name": "#%% md\n"
    }
   },
   "outputs": [
    {
     "ename": "SyntaxError",
     "evalue": "invalid syntax (<ipython-input-11-9571545e3574>, line 2)",
     "output_type": "error",
     "traceback": [
      "\u001B[0;36m  File \u001B[0;32m\"<ipython-input-11-9571545e3574>\"\u001B[0;36m, line \u001B[0;32m2\u001B[0m\n\u001B[0;31m    The index file is a dataframe that contains all metadata to all wells in the LINCS project. While other index files have existed, I recreated this to be sure about the correctness.\u001B[0m\n\u001B[0m            ^\u001B[0m\n\u001B[0;31mSyntaxError\u001B[0m\u001B[0;31m:\u001B[0m invalid syntax\n"
     ]
    }
   ]
  },
  {
   "cell_type": "code",
   "execution_count": 1,
   "metadata": {
    "collapsed": true
   },
   "outputs": [],
   "source": [
    "import numpy as np\n",
    "import pandas as pd\n",
    "import matplotlib.pyplot as plt\n",
    "import os"
   ]
  },
  {
   "cell_type": "code",
   "execution_count": 23,
   "outputs": [
    {
     "name": "stdout",
     "output_type": "stream",
     "text": [
      "(140, 4)\n"
     ]
    },
    {
     "data": {
      "text/plain": "  Assay_Plate_Barcode     Plate_Map_Name  Batch_Number  Batch_Date\n0          SQ00015201  C-7161-01-LM6-017             1  2016-03-22\n1          SQ00015202  C-7161-01-LM6-018             1  2016-03-22\n2          SQ00015200  C-7161-01-LM6-016             1  2016-03-22\n3          SQ00015204  C-7161-01-LM6-020             1  2016-03-22\n4          SQ00015205  C-7161-01-LM6-021             1  2016-03-22",
      "text/html": "<div>\n<style scoped>\n    .dataframe tbody tr th:only-of-type {\n        vertical-align: middle;\n    }\n\n    .dataframe tbody tr th {\n        vertical-align: top;\n    }\n\n    .dataframe thead th {\n        text-align: right;\n    }\n</style>\n<table border=\"1\" class=\"dataframe\">\n  <thead>\n    <tr style=\"text-align: right;\">\n      <th></th>\n      <th>Assay_Plate_Barcode</th>\n      <th>Plate_Map_Name</th>\n      <th>Batch_Number</th>\n      <th>Batch_Date</th>\n    </tr>\n  </thead>\n  <tbody>\n    <tr>\n      <th>0</th>\n      <td>SQ00015201</td>\n      <td>C-7161-01-LM6-017</td>\n      <td>1</td>\n      <td>2016-03-22</td>\n    </tr>\n    <tr>\n      <th>1</th>\n      <td>SQ00015202</td>\n      <td>C-7161-01-LM6-018</td>\n      <td>1</td>\n      <td>2016-03-22</td>\n    </tr>\n    <tr>\n      <th>2</th>\n      <td>SQ00015200</td>\n      <td>C-7161-01-LM6-016</td>\n      <td>1</td>\n      <td>2016-03-22</td>\n    </tr>\n    <tr>\n      <th>3</th>\n      <td>SQ00015204</td>\n      <td>C-7161-01-LM6-020</td>\n      <td>1</td>\n      <td>2016-03-22</td>\n    </tr>\n    <tr>\n      <th>4</th>\n      <td>SQ00015205</td>\n      <td>C-7161-01-LM6-021</td>\n      <td>1</td>\n      <td>2016-03-22</td>\n    </tr>\n  </tbody>\n</table>\n</div>"
     },
     "execution_count": 23,
     "metadata": {},
     "output_type": "execute_result"
    }
   ],
   "source": [
    "# the barcode is found here:\n",
    "# https://github.com/broadinstitute/lincs-cell-painting/blob/master/metadata/platemaps/2016_04_01_a549_48hr_batch1/barcode_platemap.csv\n",
    "\n",
    "barcode = pd.read_csv('barcode_platemap.csv')\n",
    "print(barcode.shape)\n",
    "barcode.head()"
   ],
   "metadata": {
    "collapsed": false,
    "pycharm": {
     "name": "#%%\n"
    }
   }
  },
  {
   "cell_type": "code",
   "execution_count": 24,
   "outputs": [
    {
     "name": "stdout",
     "output_type": "stream",
     "text": [
      "(1570, 10)\n"
     ]
    },
    {
     "data": {
      "text/plain": "             broad_sample       broad_id     pert_iname      InChIKey14  \\\n0  BRD-A00147595-001-01-5  BRD-A00147595  balaglitazone  IETKPTYAGKZLKY   \n1  BRD-A00218260-001-03-4  BRD-A00218260   flutrimazole  QHMWCHQXCUNUAK   \n2  BRD-A00376169-001-01-6  BRD-A00376169            KBG  FOLRUCXBTYDAQK   \n3  BRD-A00546892-001-02-6  BRD-A00546892      biperiden  YSXKPIUOCJLQIE   \n4  BRD-A00938334-001-01-3  BRD-A00938334   drospirenone  METQSPRSQINEEU   \n\n                                                moa  \\\n0  insulin sensitizer|PPAR receptor partial agonist   \n1                      sterol demethylase inhibitor   \n2                              neprilysin inhibitor   \n3                 acetylcholine receptor antagonist   \n4             mineralocorticoid receptor antagonist   \n\n                          target         broad_date clinical_phase  \\\n0                          PPARG  broad_id_20170327        Phase 3   \n1                            NaN  broad_id_20170327       Launched   \n2                            MME  broad_id_20170327        Phase 2   \n3  CHRM1|CHRM2|CHRM3|CHRM4|CHRM5  broad_id_20170327       Launched   \n4                   AR|NR3C2|PGR  broad_id_20170327       Launched   \n\n  alternative_moa alternative_target  \n0             NaN                NaN  \n1             NaN                NaN  \n2             NaN                NaN  \n3             NaN                NaN  \n4             NaN                NaN  ",
      "text/html": "<div>\n<style scoped>\n    .dataframe tbody tr th:only-of-type {\n        vertical-align: middle;\n    }\n\n    .dataframe tbody tr th {\n        vertical-align: top;\n    }\n\n    .dataframe thead th {\n        text-align: right;\n    }\n</style>\n<table border=\"1\" class=\"dataframe\">\n  <thead>\n    <tr style=\"text-align: right;\">\n      <th></th>\n      <th>broad_sample</th>\n      <th>broad_id</th>\n      <th>pert_iname</th>\n      <th>InChIKey14</th>\n      <th>moa</th>\n      <th>target</th>\n      <th>broad_date</th>\n      <th>clinical_phase</th>\n      <th>alternative_moa</th>\n      <th>alternative_target</th>\n    </tr>\n  </thead>\n  <tbody>\n    <tr>\n      <th>0</th>\n      <td>BRD-A00147595-001-01-5</td>\n      <td>BRD-A00147595</td>\n      <td>balaglitazone</td>\n      <td>IETKPTYAGKZLKY</td>\n      <td>insulin sensitizer|PPAR receptor partial agonist</td>\n      <td>PPARG</td>\n      <td>broad_id_20170327</td>\n      <td>Phase 3</td>\n      <td>NaN</td>\n      <td>NaN</td>\n    </tr>\n    <tr>\n      <th>1</th>\n      <td>BRD-A00218260-001-03-4</td>\n      <td>BRD-A00218260</td>\n      <td>flutrimazole</td>\n      <td>QHMWCHQXCUNUAK</td>\n      <td>sterol demethylase inhibitor</td>\n      <td>NaN</td>\n      <td>broad_id_20170327</td>\n      <td>Launched</td>\n      <td>NaN</td>\n      <td>NaN</td>\n    </tr>\n    <tr>\n      <th>2</th>\n      <td>BRD-A00376169-001-01-6</td>\n      <td>BRD-A00376169</td>\n      <td>KBG</td>\n      <td>FOLRUCXBTYDAQK</td>\n      <td>neprilysin inhibitor</td>\n      <td>MME</td>\n      <td>broad_id_20170327</td>\n      <td>Phase 2</td>\n      <td>NaN</td>\n      <td>NaN</td>\n    </tr>\n    <tr>\n      <th>3</th>\n      <td>BRD-A00546892-001-02-6</td>\n      <td>BRD-A00546892</td>\n      <td>biperiden</td>\n      <td>YSXKPIUOCJLQIE</td>\n      <td>acetylcholine receptor antagonist</td>\n      <td>CHRM1|CHRM2|CHRM3|CHRM4|CHRM5</td>\n      <td>broad_id_20170327</td>\n      <td>Launched</td>\n      <td>NaN</td>\n      <td>NaN</td>\n    </tr>\n    <tr>\n      <th>4</th>\n      <td>BRD-A00938334-001-01-3</td>\n      <td>BRD-A00938334</td>\n      <td>drospirenone</td>\n      <td>METQSPRSQINEEU</td>\n      <td>mineralocorticoid receptor antagonist</td>\n      <td>AR|NR3C2|PGR</td>\n      <td>broad_id_20170327</td>\n      <td>Launched</td>\n      <td>NaN</td>\n      <td>NaN</td>\n    </tr>\n  </tbody>\n</table>\n</div>"
     },
     "execution_count": 24,
     "metadata": {},
     "output_type": "execute_result"
    }
   ],
   "source": [
    "# Map of Broad ID to Sample to MOA\n",
    "# https://github.com/broadinstitute/lincs-cell-painting/blob/master/metadata/moa/repurposing_info_external_moa_map_resolved.tsv\n",
    "\n",
    "moa_map = pd.read_csv('repurposing_info_external_moa_map_resolved.tsv', sep='\\t')\n",
    "print(moa_map.shape)\n",
    "moa_map.head()"
   ],
   "metadata": {
    "collapsed": false,
    "pycharm": {
     "name": "#%%\n"
    }
   }
  },
  {
   "cell_type": "code",
   "execution_count": 25,
   "outputs": [],
   "source": [
    "# Go into the lincs directory and pull the Broad ID from every plate.\n",
    "lincs_dir = '/Users/mbornhol/git/lincs-cell-painting/'\n",
    "\n",
    "pd_ls =[]\n",
    "for map_name in barcode.Plate_Map_Name.unique():\n",
    "    sub_barcode = barcode.query(\"Plate_Map_Name == @map_name\")\n",
    "    map = pd.read_csv(os.path.join(lincs_dir, 'metadata/platemaps/2016_04_01_a549_48hr_batch1/platemap/{}.txt'.format(map_name)), sep='\\t')\n",
    "    merged = pd.merge(sub_barcode, map, how='left', left_on='Plate_Map_Name', right_on='plate_map_name')\n",
    "    pd_ls.append(merged)\n"
   ],
   "metadata": {
    "collapsed": false,
    "pycharm": {
     "name": "#%%\n"
    }
   }
  },
  {
   "cell_type": "code",
   "execution_count": 26,
   "outputs": [
    {
     "name": "stdout",
     "output_type": "stream",
     "text": [
      "(53760, 10)\n"
     ]
    },
    {
     "data": {
      "text/plain": "  Assay_Plate_Barcode     Plate_Map_Name  Batch_Number  Batch_Date  \\\n0          SQ00015201  C-7161-01-LM6-017             1  2016-03-22   \n1          SQ00015201  C-7161-01-LM6-017             1  2016-03-22   \n2          SQ00015201  C-7161-01-LM6-017             1  2016-03-22   \n3          SQ00015201  C-7161-01-LM6-017             1  2016-03-22   \n4          SQ00015201  C-7161-01-LM6-017             1  2016-03-22   \n\n      plate_map_name well_position broad_sample  mg_per_ml  mmoles_per_liter  \\\n0  C-7161-01-LM6-017           A01          NaN        NaN               NaN   \n1  C-7161-01-LM6-017           A02          NaN        NaN               NaN   \n2  C-7161-01-LM6-017           A03          NaN        NaN               NaN   \n3  C-7161-01-LM6-017           A04          NaN        NaN               NaN   \n4  C-7161-01-LM6-017           A05          NaN        NaN               NaN   \n\n  solvent  \n0    DMSO  \n1    DMSO  \n2    DMSO  \n3    DMSO  \n4    DMSO  ",
      "text/html": "<div>\n<style scoped>\n    .dataframe tbody tr th:only-of-type {\n        vertical-align: middle;\n    }\n\n    .dataframe tbody tr th {\n        vertical-align: top;\n    }\n\n    .dataframe thead th {\n        text-align: right;\n    }\n</style>\n<table border=\"1\" class=\"dataframe\">\n  <thead>\n    <tr style=\"text-align: right;\">\n      <th></th>\n      <th>Assay_Plate_Barcode</th>\n      <th>Plate_Map_Name</th>\n      <th>Batch_Number</th>\n      <th>Batch_Date</th>\n      <th>plate_map_name</th>\n      <th>well_position</th>\n      <th>broad_sample</th>\n      <th>mg_per_ml</th>\n      <th>mmoles_per_liter</th>\n      <th>solvent</th>\n    </tr>\n  </thead>\n  <tbody>\n    <tr>\n      <th>0</th>\n      <td>SQ00015201</td>\n      <td>C-7161-01-LM6-017</td>\n      <td>1</td>\n      <td>2016-03-22</td>\n      <td>C-7161-01-LM6-017</td>\n      <td>A01</td>\n      <td>NaN</td>\n      <td>NaN</td>\n      <td>NaN</td>\n      <td>DMSO</td>\n    </tr>\n    <tr>\n      <th>1</th>\n      <td>SQ00015201</td>\n      <td>C-7161-01-LM6-017</td>\n      <td>1</td>\n      <td>2016-03-22</td>\n      <td>C-7161-01-LM6-017</td>\n      <td>A02</td>\n      <td>NaN</td>\n      <td>NaN</td>\n      <td>NaN</td>\n      <td>DMSO</td>\n    </tr>\n    <tr>\n      <th>2</th>\n      <td>SQ00015201</td>\n      <td>C-7161-01-LM6-017</td>\n      <td>1</td>\n      <td>2016-03-22</td>\n      <td>C-7161-01-LM6-017</td>\n      <td>A03</td>\n      <td>NaN</td>\n      <td>NaN</td>\n      <td>NaN</td>\n      <td>DMSO</td>\n    </tr>\n    <tr>\n      <th>3</th>\n      <td>SQ00015201</td>\n      <td>C-7161-01-LM6-017</td>\n      <td>1</td>\n      <td>2016-03-22</td>\n      <td>C-7161-01-LM6-017</td>\n      <td>A04</td>\n      <td>NaN</td>\n      <td>NaN</td>\n      <td>NaN</td>\n      <td>DMSO</td>\n    </tr>\n    <tr>\n      <th>4</th>\n      <td>SQ00015201</td>\n      <td>C-7161-01-LM6-017</td>\n      <td>1</td>\n      <td>2016-03-22</td>\n      <td>C-7161-01-LM6-017</td>\n      <td>A05</td>\n      <td>NaN</td>\n      <td>NaN</td>\n      <td>NaN</td>\n      <td>DMSO</td>\n    </tr>\n  </tbody>\n</table>\n</div>"
     },
     "execution_count": 26,
     "metadata": {},
     "output_type": "execute_result"
    }
   ],
   "source": [
    "# At this point we have all 140 plates with 384 wells = 53.760\n",
    "df = pd.concat(pd_ls)\n",
    "print(df.shape)\n",
    "df.head()"
   ],
   "metadata": {
    "collapsed": false,
    "pycharm": {
     "name": "#%%\n"
    }
   }
  },
  {
   "cell_type": "markdown",
   "source": [
    "The next step is now to add a row for the sites and to fill every well with 9 sites."
   ],
   "metadata": {
    "collapsed": false
   }
  },
  {
   "cell_type": "code",
   "execution_count": 27,
   "outputs": [],
   "source": [
    "sites = pd.DataFrame(range(1,10), columns=['Site'])\n",
    "df = pd.merge(df, sites, how='cross')"
   ],
   "metadata": {
    "collapsed": false,
    "pycharm": {
     "name": "#%%\n"
    }
   }
  },
  {
   "cell_type": "code",
   "execution_count": 28,
   "outputs": [
    {
     "name": "stdout",
     "output_type": "stream",
     "text": [
      "(483840, 11)\n"
     ]
    },
    {
     "data": {
      "text/plain": "  Assay_Plate_Barcode     Plate_Map_Name  Batch_Number  Batch_Date  \\\n0          SQ00015201  C-7161-01-LM6-017             1  2016-03-22   \n1          SQ00015201  C-7161-01-LM6-017             1  2016-03-22   \n2          SQ00015201  C-7161-01-LM6-017             1  2016-03-22   \n3          SQ00015201  C-7161-01-LM6-017             1  2016-03-22   \n4          SQ00015201  C-7161-01-LM6-017             1  2016-03-22   \n\n      plate_map_name well_position broad_sample  mg_per_ml  mmoles_per_liter  \\\n0  C-7161-01-LM6-017           A01          NaN        NaN               NaN   \n1  C-7161-01-LM6-017           A01          NaN        NaN               NaN   \n2  C-7161-01-LM6-017           A01          NaN        NaN               NaN   \n3  C-7161-01-LM6-017           A01          NaN        NaN               NaN   \n4  C-7161-01-LM6-017           A01          NaN        NaN               NaN   \n\n  solvent  Site  \n0    DMSO     1  \n1    DMSO     2  \n2    DMSO     3  \n3    DMSO     4  \n4    DMSO     5  ",
      "text/html": "<div>\n<style scoped>\n    .dataframe tbody tr th:only-of-type {\n        vertical-align: middle;\n    }\n\n    .dataframe tbody tr th {\n        vertical-align: top;\n    }\n\n    .dataframe thead th {\n        text-align: right;\n    }\n</style>\n<table border=\"1\" class=\"dataframe\">\n  <thead>\n    <tr style=\"text-align: right;\">\n      <th></th>\n      <th>Assay_Plate_Barcode</th>\n      <th>Plate_Map_Name</th>\n      <th>Batch_Number</th>\n      <th>Batch_Date</th>\n      <th>plate_map_name</th>\n      <th>well_position</th>\n      <th>broad_sample</th>\n      <th>mg_per_ml</th>\n      <th>mmoles_per_liter</th>\n      <th>solvent</th>\n      <th>Site</th>\n    </tr>\n  </thead>\n  <tbody>\n    <tr>\n      <th>0</th>\n      <td>SQ00015201</td>\n      <td>C-7161-01-LM6-017</td>\n      <td>1</td>\n      <td>2016-03-22</td>\n      <td>C-7161-01-LM6-017</td>\n      <td>A01</td>\n      <td>NaN</td>\n      <td>NaN</td>\n      <td>NaN</td>\n      <td>DMSO</td>\n      <td>1</td>\n    </tr>\n    <tr>\n      <th>1</th>\n      <td>SQ00015201</td>\n      <td>C-7161-01-LM6-017</td>\n      <td>1</td>\n      <td>2016-03-22</td>\n      <td>C-7161-01-LM6-017</td>\n      <td>A01</td>\n      <td>NaN</td>\n      <td>NaN</td>\n      <td>NaN</td>\n      <td>DMSO</td>\n      <td>2</td>\n    </tr>\n    <tr>\n      <th>2</th>\n      <td>SQ00015201</td>\n      <td>C-7161-01-LM6-017</td>\n      <td>1</td>\n      <td>2016-03-22</td>\n      <td>C-7161-01-LM6-017</td>\n      <td>A01</td>\n      <td>NaN</td>\n      <td>NaN</td>\n      <td>NaN</td>\n      <td>DMSO</td>\n      <td>3</td>\n    </tr>\n    <tr>\n      <th>3</th>\n      <td>SQ00015201</td>\n      <td>C-7161-01-LM6-017</td>\n      <td>1</td>\n      <td>2016-03-22</td>\n      <td>C-7161-01-LM6-017</td>\n      <td>A01</td>\n      <td>NaN</td>\n      <td>NaN</td>\n      <td>NaN</td>\n      <td>DMSO</td>\n      <td>4</td>\n    </tr>\n    <tr>\n      <th>4</th>\n      <td>SQ00015201</td>\n      <td>C-7161-01-LM6-017</td>\n      <td>1</td>\n      <td>2016-03-22</td>\n      <td>C-7161-01-LM6-017</td>\n      <td>A01</td>\n      <td>NaN</td>\n      <td>NaN</td>\n      <td>NaN</td>\n      <td>DMSO</td>\n      <td>5</td>\n    </tr>\n  </tbody>\n</table>\n</div>"
     },
     "execution_count": 28,
     "metadata": {},
     "output_type": "execute_result"
    }
   ],
   "source": [
    "print(df.shape)\n",
    "df.head()"
   ],
   "metadata": {
    "collapsed": false,
    "pycharm": {
     "name": "#%%\n"
    }
   }
  },
  {
   "cell_type": "code",
   "execution_count": 29,
   "outputs": [],
   "source": [
    "# Merge Moa data via the sample id.\n",
    "df = pd.merge(df, moa_map, how='left', on='broad_sample')"
   ],
   "metadata": {
    "collapsed": false,
    "pycharm": {
     "name": "#%%\n"
    }
   }
  },
  {
   "cell_type": "markdown",
   "source": [
    "---\n",
    "From now onward, we only rename the columns and delete some unimportant ones. The structure of the df is not changed anymore."
   ],
   "metadata": {
    "collapsed": false,
    "pycharm": {
     "name": "#%% md\n",
     "is_executing": true
    }
   }
  },
  {
   "cell_type": "code",
   "execution_count": 30,
   "outputs": [
    {
     "data": {
      "text/plain": "  Metadata_Plate Metadata_Well  Metadata_Site Metadata_Broad_Sample  \\\n0     SQ00015201           A01              1                   NaN   \n1     SQ00015201           A01              2                   NaN   \n2     SQ00015201           A01              3                   NaN   \n\n  Metadata_Moa  mmoles_per_liter pert_iname target     Plate_Map_Name  \\\n0          NaN               NaN        NaN    NaN  C-7161-01-LM6-017   \n1          NaN               NaN        NaN    NaN  C-7161-01-LM6-017   \n2          NaN               NaN        NaN    NaN  C-7161-01-LM6-017   \n\n   Batch_Number  \n0             1  \n1             1  \n2             1  ",
      "text/html": "<div>\n<style scoped>\n    .dataframe tbody tr th:only-of-type {\n        vertical-align: middle;\n    }\n\n    .dataframe tbody tr th {\n        vertical-align: top;\n    }\n\n    .dataframe thead th {\n        text-align: right;\n    }\n</style>\n<table border=\"1\" class=\"dataframe\">\n  <thead>\n    <tr style=\"text-align: right;\">\n      <th></th>\n      <th>Metadata_Plate</th>\n      <th>Metadata_Well</th>\n      <th>Metadata_Site</th>\n      <th>Metadata_Broad_Sample</th>\n      <th>Metadata_Moa</th>\n      <th>mmoles_per_liter</th>\n      <th>pert_iname</th>\n      <th>target</th>\n      <th>Plate_Map_Name</th>\n      <th>Batch_Number</th>\n    </tr>\n  </thead>\n  <tbody>\n    <tr>\n      <th>0</th>\n      <td>SQ00015201</td>\n      <td>A01</td>\n      <td>1</td>\n      <td>NaN</td>\n      <td>NaN</td>\n      <td>NaN</td>\n      <td>NaN</td>\n      <td>NaN</td>\n      <td>C-7161-01-LM6-017</td>\n      <td>1</td>\n    </tr>\n    <tr>\n      <th>1</th>\n      <td>SQ00015201</td>\n      <td>A01</td>\n      <td>2</td>\n      <td>NaN</td>\n      <td>NaN</td>\n      <td>NaN</td>\n      <td>NaN</td>\n      <td>NaN</td>\n      <td>C-7161-01-LM6-017</td>\n      <td>1</td>\n    </tr>\n    <tr>\n      <th>2</th>\n      <td>SQ00015201</td>\n      <td>A01</td>\n      <td>3</td>\n      <td>NaN</td>\n      <td>NaN</td>\n      <td>NaN</td>\n      <td>NaN</td>\n      <td>NaN</td>\n      <td>C-7161-01-LM6-017</td>\n      <td>1</td>\n    </tr>\n  </tbody>\n</table>\n</div>"
     },
     "execution_count": 30,
     "metadata": {},
     "output_type": "execute_result"
    }
   ],
   "source": [
    "# only keep important columns\n",
    "use_cols = ['Assay_Plate_Barcode', 'well_position', 'Site', 'broad_sample', 'moa', 'mmoles_per_liter', 'pert_iname',  'target', 'Plate_Map_Name', 'Batch_Number']\n",
    "df = df[use_cols]\n",
    "df.rename(columns = {'Assay_Plate_Barcode': 'Metadata_Plate', 'well_position': 'Metadata_Well', 'broad_sample': 'Metadata_Broad_Sample', 'moa' : 'Metadata_Moa', 'Site' : 'Metadata_Site'}, inplace = True)\n",
    "df.head(3)"
   ],
   "metadata": {
    "collapsed": false,
    "pycharm": {
     "name": "#%%\n"
    }
   }
  },
  {
   "cell_type": "code",
   "execution_count": 31,
   "outputs": [],
   "source": [
    "# We replace the NaN values with DMSO and unknowns\n",
    "df.Metadata_Broad_Sample.replace(np.nan, 'DMSO', regex=True, inplace=True)\n",
    "df.Metadata_Moa.replace(np.nan, 'NA', regex=True, inplace=True)\n",
    "df.mmoles_per_liter.replace(np.nan, 'NA', regex=True, inplace=True)\n",
    "df.pert_iname.replace(np.nan, 'NA', regex=True, inplace=True)\n",
    "df.target.replace(np.nan, 'NA', regex=True, inplace=True)"
   ],
   "metadata": {
    "collapsed": false,
    "pycharm": {
     "name": "#%%\n"
    }
   }
  },
  {
   "cell_type": "code",
   "execution_count": 32,
   "outputs": [],
   "source": [
    "# sort the df by plate and Well and site\n",
    "df.sort_values(by=['Metadata_Plate', 'Metadata_Well', 'Metadata_Site'], inplace = True, ignore_index=True)"
   ],
   "metadata": {
    "collapsed": false,
    "pycharm": {
     "name": "#%%\n"
    }
   }
  },
  {
   "cell_type": "code",
   "execution_count": 33,
   "outputs": [
    {
     "data": {
      "text/plain": "       Metadata_Plate Metadata_Well  Metadata_Site   Metadata_Broad_Sample  \\\n483835     SQ00015233           P24              5  BRD-K41731458-001-15-1   \n483836     SQ00015233           P24              6  BRD-K41731458-001-15-1   \n483837     SQ00015233           P24              7  BRD-K41731458-001-15-1   \n483838     SQ00015233           P24              8  BRD-K41731458-001-15-1   \n483839     SQ00015233           P24              9  BRD-K41731458-001-15-1   \n\n               Metadata_Moa mmoles_per_liter pert_iname target  \\\n483835  antibacterial agent         0.041152  triclosan  DNMT1   \n483836  antibacterial agent         0.041152  triclosan  DNMT1   \n483837  antibacterial agent         0.041152  triclosan  DNMT1   \n483838  antibacterial agent         0.041152  triclosan  DNMT1   \n483839  antibacterial agent         0.041152  triclosan  DNMT1   \n\n           Plate_Map_Name  Batch_Number  \n483835  C-7161-01-LM6-014             3  \n483836  C-7161-01-LM6-014             3  \n483837  C-7161-01-LM6-014             3  \n483838  C-7161-01-LM6-014             3  \n483839  C-7161-01-LM6-014             3  ",
      "text/html": "<div>\n<style scoped>\n    .dataframe tbody tr th:only-of-type {\n        vertical-align: middle;\n    }\n\n    .dataframe tbody tr th {\n        vertical-align: top;\n    }\n\n    .dataframe thead th {\n        text-align: right;\n    }\n</style>\n<table border=\"1\" class=\"dataframe\">\n  <thead>\n    <tr style=\"text-align: right;\">\n      <th></th>\n      <th>Metadata_Plate</th>\n      <th>Metadata_Well</th>\n      <th>Metadata_Site</th>\n      <th>Metadata_Broad_Sample</th>\n      <th>Metadata_Moa</th>\n      <th>mmoles_per_liter</th>\n      <th>pert_iname</th>\n      <th>target</th>\n      <th>Plate_Map_Name</th>\n      <th>Batch_Number</th>\n    </tr>\n  </thead>\n  <tbody>\n    <tr>\n      <th>483835</th>\n      <td>SQ00015233</td>\n      <td>P24</td>\n      <td>5</td>\n      <td>BRD-K41731458-001-15-1</td>\n      <td>antibacterial agent</td>\n      <td>0.041152</td>\n      <td>triclosan</td>\n      <td>DNMT1</td>\n      <td>C-7161-01-LM6-014</td>\n      <td>3</td>\n    </tr>\n    <tr>\n      <th>483836</th>\n      <td>SQ00015233</td>\n      <td>P24</td>\n      <td>6</td>\n      <td>BRD-K41731458-001-15-1</td>\n      <td>antibacterial agent</td>\n      <td>0.041152</td>\n      <td>triclosan</td>\n      <td>DNMT1</td>\n      <td>C-7161-01-LM6-014</td>\n      <td>3</td>\n    </tr>\n    <tr>\n      <th>483837</th>\n      <td>SQ00015233</td>\n      <td>P24</td>\n      <td>7</td>\n      <td>BRD-K41731458-001-15-1</td>\n      <td>antibacterial agent</td>\n      <td>0.041152</td>\n      <td>triclosan</td>\n      <td>DNMT1</td>\n      <td>C-7161-01-LM6-014</td>\n      <td>3</td>\n    </tr>\n    <tr>\n      <th>483838</th>\n      <td>SQ00015233</td>\n      <td>P24</td>\n      <td>8</td>\n      <td>BRD-K41731458-001-15-1</td>\n      <td>antibacterial agent</td>\n      <td>0.041152</td>\n      <td>triclosan</td>\n      <td>DNMT1</td>\n      <td>C-7161-01-LM6-014</td>\n      <td>3</td>\n    </tr>\n    <tr>\n      <th>483839</th>\n      <td>SQ00015233</td>\n      <td>P24</td>\n      <td>9</td>\n      <td>BRD-K41731458-001-15-1</td>\n      <td>antibacterial agent</td>\n      <td>0.041152</td>\n      <td>triclosan</td>\n      <td>DNMT1</td>\n      <td>C-7161-01-LM6-014</td>\n      <td>3</td>\n    </tr>\n  </tbody>\n</table>\n</div>"
     },
     "execution_count": 33,
     "metadata": {},
     "output_type": "execute_result"
    }
   ],
   "source": [
    "# show what the non DMSO data looks like:\n",
    "df.tail()"
   ],
   "metadata": {
    "collapsed": false,
    "pycharm": {
     "name": "#%%\n"
    }
   }
  },
  {
   "cell_type": "code",
   "execution_count": 34,
   "outputs": [],
   "source": [
    "# Save index file.\n",
    "df.to_csv('full_index.csv',index=False)"
   ],
   "metadata": {
    "collapsed": false,
    "pycharm": {
     "name": "#%%\n"
    }
   }
  },
  {
   "cell_type": "code",
   "execution_count": 39,
   "outputs": [
    {
     "name": "stderr",
     "output_type": "stream",
     "text": [
      "/Users/mbornhol/miniconda3/envs/noncyto/lib/python3.8/site-packages/pandas/core/frame.py:4308: SettingWithCopyWarning: \n",
      "A value is trying to be set on a copy of a slice from a DataFrame\n",
      "\n",
      "See the caveats in the documentation: https://pandas.pydata.org/pandas-docs/stable/user_guide/indexing.html#returning-a-view-versus-a-copy\n",
      "  return super().drop(\n"
     ]
    }
   ],
   "source": [
    "# Index with only Plate and Well\n",
    "plate_well = df.drop_duplicates(subset=['Metadata_Plate', 'Metadata_Well'], keep='first', ignore_index=True)\n",
    "plate_well.drop(columns='Metadata_Site', inplace=True)"
   ],
   "metadata": {
    "collapsed": false,
    "pycharm": {
     "name": "#%%\n"
    }
   }
  },
  {
   "cell_type": "code",
   "execution_count": 40,
   "outputs": [],
   "source": [
    "# save\n",
    "plate_well.to_csv('full_well_index.csv', index=False)"
   ],
   "metadata": {
    "collapsed": false,
    "pycharm": {
     "name": "#%%\n"
    }
   }
  },
  {
   "cell_type": "code",
   "execution_count": null,
   "outputs": [],
   "source": [
    "TODO\n",
    "Compare to the actual images on S3!"
   ],
   "metadata": {
    "collapsed": false,
    "pycharm": {
     "name": "#%%\n"
    }
   }
  }
 ],
 "metadata": {
  "kernelspec": {
   "display_name": "Python 3",
   "language": "python",
   "name": "python3"
  },
  "language_info": {
   "codemirror_mode": {
    "name": "ipython",
    "version": 2
   },
   "file_extension": ".py",
   "mimetype": "text/x-python",
   "name": "python",
   "nbconvert_exporter": "python",
   "pygments_lexer": "ipython2",
   "version": "2.7.6"
  }
 },
 "nbformat": 4,
 "nbformat_minor": 0
}