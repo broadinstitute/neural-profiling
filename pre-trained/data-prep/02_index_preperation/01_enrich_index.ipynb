{
 "cells": [
  {
   "cell_type": "markdown",
   "source": [
    "This script adds relevant metadata to the `index.csv` to prepare it for DeepProfiler.\n"
   ],
   "metadata": {
    "collapsed": false
   }
  },
  {
   "cell_type": "code",
   "execution_count": 1,
   "outputs": [],
   "source": [
    "import os\n",
    "import numpy as np\n",
    "import pandas as pd\n",
    "import matplotlib.pyplot as plt"
   ],
   "metadata": {
    "collapsed": false,
    "pycharm": {
     "name": "#%%\n"
    }
   }
  },
  {
   "cell_type": "code",
   "execution_count": null,
   "outputs": [],
   "source": [
    "original_df = pd.read_csv('original_index.csv')\n",
    "original_df = original_df.drop(columns=['Unnamed: 0'])\n",
    "original_df.drop_duplicates(subset=['Metadata_Plate','Metadata_Well','Metadata_Site'], inplace=True)\n",
    "# Add for DP\n",
    "original_df['Split'] = 'Training'\n",
    "original_df.head()"
   ],
   "metadata": {
    "collapsed": false,
    "pycharm": {
     "name": "#%%\n"
    }
   }
  },
  {
   "cell_type": "code",
   "execution_count": null,
   "outputs": [],
   "source": [
    "# Get mapping of sample and MOA\n",
    "moa = pd.read_csv('repurposing_info_external_moa_map_resolved.tsv', sep = '\\t')\n",
    "moa = moa[['broad_sample', 'moa', 'pert_iname']]\n",
    "df = pd.merge(original_df, moa,  how='left', left_on='Compound', right_on = 'broad_sample')"
   ],
   "metadata": {
    "collapsed": false,
    "pycharm": {
     "name": "#%%\n"
    }
   }
  },
  {
   "cell_type": "code",
   "execution_count": null,
   "outputs": [],
   "source": [
    "# Get consensus data to append additional metadata\n",
    "lincs_df = pd.read_csv('../../../baseline/01_data/2016_04_01_a549_48hr_batch1_consensus_modz_feature_select_dmso.csv.gz')\n",
    "lincs_df = lincs_df[['Metadata_broad_sample',\n",
    "       'Metadata_pert_well', 'Metadata_mmoles_per_liter',\n",
    "       'Metadata_dose_recode', 'Metadata_time_point', 'Metadata_moa',\n",
    "       'Metadata_target']]"
   ],
   "metadata": {
    "collapsed": false,
    "pycharm": {
     "name": "#%%\n"
    }
   }
  },
  {
   "cell_type": "code",
   "execution_count": null,
   "outputs": [],
   "source": [
    "df = pd.merge(df, lincs_df,  how='left', left_on=['Compound', 'Metadata_Well'], right_on = ['Metadata_broad_sample','Metadata_pert_well'])\n",
    "df.drop_duplicates(subset=['Metadata_Plate','Metadata_Well','Metadata_Site'], inplace=True, keep='first')\n",
    "df.reset_index(inplace=True)"
   ],
   "metadata": {
    "collapsed": false,
    "pycharm": {
     "name": "#%%\n"
    }
   }
  },
  {
   "cell_type": "code",
   "execution_count": null,
   "outputs": [],
   "source": [
    "# Reorder the columns\n",
    "df = df[['Metadata_Plate', 'Metadata_Well', 'Metadata_Site', 'Metadata_broad_sample', 'Metadata_moa', 'Metadata_mmoles_per_liter',\n",
    "       'Metadata_dose_recode',\n",
    "       'RNA', 'ER', 'AGP', 'Mito', 'DNA',\n",
    "         'Concentration', 'Treatment_ID', 'Compound', 'pert_iname',\n",
    "       'Treatment_Replicate', 'Treatment', 'Plate_Map_Name',\n",
    "       'Split']]\n",
    "index = df.rename(columns = {'pert_iname' : 'Metadata_Pert'})\n",
    "index.head()"
   ],
   "metadata": {
    "collapsed": false,
    "pycharm": {
     "name": "#%%\n"
    }
   }
  },
  {
   "cell_type": "code",
   "execution_count": 71,
   "outputs": [],
   "source": [
    "df.to_csv('enriched_index.csv',index=False)\n"
   ],
   "metadata": {
    "collapsed": false,
    "pycharm": {
     "name": "#%%\n"
    }
   }
  },
  {
   "cell_type": "code",
   "execution_count": 2,
   "outputs": [],
   "source": [
    "#compare\n",
    "\n",
    "# enr = pd.read_csv('enriched_index.csv')\n",
    "full = pd.read_csv('full_index.csv')\n"
   ],
   "metadata": {
    "collapsed": false,
    "pycharm": {
     "name": "#%%\n"
    }
   }
  },
  {
   "cell_type": "code",
   "execution_count": 6,
   "outputs": [
    {
     "data": {
      "text/plain": "       Metadata_Plate Metadata_Well  Metadata_Site   Metadata_broad_sample  \\\n366282     SQ00015198           P19              1  BRD-K41731458-001-15-1   \n366283     SQ00015198           P19              2  BRD-K41731458-001-15-1   \n366284     SQ00015198           P19              3  BRD-K41731458-001-15-1   \n366285     SQ00015198           P19              4  BRD-K41731458-001-15-1   \n366286     SQ00015198           P19              5  BRD-K41731458-001-15-1   \n...               ...           ...            ...                     ...   \n483835     SQ00015233           P24              5  BRD-K41731458-001-15-1   \n483836     SQ00015233           P24              6  BRD-K41731458-001-15-1   \n483837     SQ00015233           P24              7  BRD-K41731458-001-15-1   \n483838     SQ00015233           P24              8  BRD-K41731458-001-15-1   \n483839     SQ00015233           P24              9  BRD-K41731458-001-15-1   \n\n               Metadata_moa  mmoles_per_liter pert_iname target  \\\n366282  antibacterial agent         10.000000  triclosan  DNMT1   \n366283  antibacterial agent         10.000000  triclosan  DNMT1   \n366284  antibacterial agent         10.000000  triclosan  DNMT1   \n366285  antibacterial agent         10.000000  triclosan  DNMT1   \n366286  antibacterial agent         10.000000  triclosan  DNMT1   \n...                     ...               ...        ...    ...   \n483835  antibacterial agent          0.041152  triclosan  DNMT1   \n483836  antibacterial agent          0.041152  triclosan  DNMT1   \n483837  antibacterial agent          0.041152  triclosan  DNMT1   \n483838  antibacterial agent          0.041152  triclosan  DNMT1   \n483839  antibacterial agent          0.041152  triclosan  DNMT1   \n\n           Plate_Map_Name  Batch_Number  \n366282  C-7161-01-LM6-014             1  \n366283  C-7161-01-LM6-014             1  \n366284  C-7161-01-LM6-014             1  \n366285  C-7161-01-LM6-014             1  \n366286  C-7161-01-LM6-014             1  \n...                   ...           ...  \n483835  C-7161-01-LM6-014             3  \n483836  C-7161-01-LM6-014             3  \n483837  C-7161-01-LM6-014             3  \n483838  C-7161-01-LM6-014             3  \n483839  C-7161-01-LM6-014             3  \n\n[270 rows x 10 columns]",
      "text/html": "<div>\n<style scoped>\n    .dataframe tbody tr th:only-of-type {\n        vertical-align: middle;\n    }\n\n    .dataframe tbody tr th {\n        vertical-align: top;\n    }\n\n    .dataframe thead th {\n        text-align: right;\n    }\n</style>\n<table border=\"1\" class=\"dataframe\">\n  <thead>\n    <tr style=\"text-align: right;\">\n      <th></th>\n      <th>Metadata_Plate</th>\n      <th>Metadata_Well</th>\n      <th>Metadata_Site</th>\n      <th>Metadata_broad_sample</th>\n      <th>Metadata_moa</th>\n      <th>mmoles_per_liter</th>\n      <th>pert_iname</th>\n      <th>target</th>\n      <th>Plate_Map_Name</th>\n      <th>Batch_Number</th>\n    </tr>\n  </thead>\n  <tbody>\n    <tr>\n      <th>366282</th>\n      <td>SQ00015198</td>\n      <td>P19</td>\n      <td>1</td>\n      <td>BRD-K41731458-001-15-1</td>\n      <td>antibacterial agent</td>\n      <td>10.000000</td>\n      <td>triclosan</td>\n      <td>DNMT1</td>\n      <td>C-7161-01-LM6-014</td>\n      <td>1</td>\n    </tr>\n    <tr>\n      <th>366283</th>\n      <td>SQ00015198</td>\n      <td>P19</td>\n      <td>2</td>\n      <td>BRD-K41731458-001-15-1</td>\n      <td>antibacterial agent</td>\n      <td>10.000000</td>\n      <td>triclosan</td>\n      <td>DNMT1</td>\n      <td>C-7161-01-LM6-014</td>\n      <td>1</td>\n    </tr>\n    <tr>\n      <th>366284</th>\n      <td>SQ00015198</td>\n      <td>P19</td>\n      <td>3</td>\n      <td>BRD-K41731458-001-15-1</td>\n      <td>antibacterial agent</td>\n      <td>10.000000</td>\n      <td>triclosan</td>\n      <td>DNMT1</td>\n      <td>C-7161-01-LM6-014</td>\n      <td>1</td>\n    </tr>\n    <tr>\n      <th>366285</th>\n      <td>SQ00015198</td>\n      <td>P19</td>\n      <td>4</td>\n      <td>BRD-K41731458-001-15-1</td>\n      <td>antibacterial agent</td>\n      <td>10.000000</td>\n      <td>triclosan</td>\n      <td>DNMT1</td>\n      <td>C-7161-01-LM6-014</td>\n      <td>1</td>\n    </tr>\n    <tr>\n      <th>366286</th>\n      <td>SQ00015198</td>\n      <td>P19</td>\n      <td>5</td>\n      <td>BRD-K41731458-001-15-1</td>\n      <td>antibacterial agent</td>\n      <td>10.000000</td>\n      <td>triclosan</td>\n      <td>DNMT1</td>\n      <td>C-7161-01-LM6-014</td>\n      <td>1</td>\n    </tr>\n    <tr>\n      <th>...</th>\n      <td>...</td>\n      <td>...</td>\n      <td>...</td>\n      <td>...</td>\n      <td>...</td>\n      <td>...</td>\n      <td>...</td>\n      <td>...</td>\n      <td>...</td>\n      <td>...</td>\n    </tr>\n    <tr>\n      <th>483835</th>\n      <td>SQ00015233</td>\n      <td>P24</td>\n      <td>5</td>\n      <td>BRD-K41731458-001-15-1</td>\n      <td>antibacterial agent</td>\n      <td>0.041152</td>\n      <td>triclosan</td>\n      <td>DNMT1</td>\n      <td>C-7161-01-LM6-014</td>\n      <td>3</td>\n    </tr>\n    <tr>\n      <th>483836</th>\n      <td>SQ00015233</td>\n      <td>P24</td>\n      <td>6</td>\n      <td>BRD-K41731458-001-15-1</td>\n      <td>antibacterial agent</td>\n      <td>0.041152</td>\n      <td>triclosan</td>\n      <td>DNMT1</td>\n      <td>C-7161-01-LM6-014</td>\n      <td>3</td>\n    </tr>\n    <tr>\n      <th>483837</th>\n      <td>SQ00015233</td>\n      <td>P24</td>\n      <td>7</td>\n      <td>BRD-K41731458-001-15-1</td>\n      <td>antibacterial agent</td>\n      <td>0.041152</td>\n      <td>triclosan</td>\n      <td>DNMT1</td>\n      <td>C-7161-01-LM6-014</td>\n      <td>3</td>\n    </tr>\n    <tr>\n      <th>483838</th>\n      <td>SQ00015233</td>\n      <td>P24</td>\n      <td>8</td>\n      <td>BRD-K41731458-001-15-1</td>\n      <td>antibacterial agent</td>\n      <td>0.041152</td>\n      <td>triclosan</td>\n      <td>DNMT1</td>\n      <td>C-7161-01-LM6-014</td>\n      <td>3</td>\n    </tr>\n    <tr>\n      <th>483839</th>\n      <td>SQ00015233</td>\n      <td>P24</td>\n      <td>9</td>\n      <td>BRD-K41731458-001-15-1</td>\n      <td>antibacterial agent</td>\n      <td>0.041152</td>\n      <td>triclosan</td>\n      <td>DNMT1</td>\n      <td>C-7161-01-LM6-014</td>\n      <td>3</td>\n    </tr>\n  </tbody>\n</table>\n<p>270 rows × 10 columns</p>\n</div>"
     },
     "execution_count": 6,
     "metadata": {},
     "output_type": "execute_result"
    }
   ],
   "source": [
    "full[full[\"Metadata_broad_sample\"] == \"BRD-K41731458-001-15-1\"]"
   ],
   "metadata": {
    "collapsed": false,
    "pycharm": {
     "name": "#%%\n"
    }
   }
  },
  {
   "cell_type": "code",
   "execution_count": null,
   "outputs": [],
   "source": [],
   "metadata": {
    "collapsed": false,
    "pycharm": {
     "name": "#%%\n"
    }
   }
  }
 ],
 "metadata": {
  "kernelspec": {
   "name": "pycharm-f57c4e3b",
   "language": "python",
   "display_name": "PyCharm (git)"
  },
  "language_info": {
   "codemirror_mode": {
    "name": "ipython",
    "version": 2
   },
   "file_extension": ".py",
   "mimetype": "text/x-python",
   "name": "python",
   "nbconvert_exporter": "python",
   "pygments_lexer": "ipython2",
   "version": "2.7.6"
  }
 },
 "nbformat": 4,
 "nbformat_minor": 0
}