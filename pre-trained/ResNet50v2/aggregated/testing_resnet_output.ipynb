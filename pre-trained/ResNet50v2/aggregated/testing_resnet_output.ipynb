{
 "cells": [
  {
   "cell_type": "code",
   "execution_count": 1,
   "metadata": {
    "collapsed": true
   },
   "outputs": [],
   "source": [
    "\n",
    "import pandas as pd\n",
    "import numpy as np\n",
    "import matplotlib.pyplot as plt\n",
    "from pycytominer import aggregate, annotate, normalize, feature_select, cyto_utils\n",
    "from cytominer_eval import evaluate\n",
    "from cytominer_eval.transform import metric_melt\n",
    "from sklearn.decomposition import PCA"
   ]
  },
  {
   "cell_type": "code",
   "execution_count": 2,
   "outputs": [
    {
     "name": "stderr",
     "output_type": "stream",
     "text": [
      "/Users/mbornhol/miniconda3/envs/cyto_eval/lib/python3.7/site-packages/IPython/core/interactiveshell.py:3166: DtypeWarning: Columns (6,7) have mixed types.Specify dtype option on import or set low_memory=False.\n",
      "  interactivity=interactivity, compiler=compiler, result=result)\n"
     ]
    }
   ],
   "source": [
    "df = pd.read_csv('level3_resnet.csv')"
   ],
   "metadata": {
    "collapsed": false,
    "pycharm": {
     "name": "#%%\n"
    }
   }
  },
  {
   "cell_type": "code",
   "execution_count": 3,
   "outputs": [],
   "source": [
    "p = 0.99"
   ],
   "metadata": {
    "collapsed": false,
    "pycharm": {
     "name": "#%%\n"
    }
   }
  },
  {
   "cell_type": "code",
   "execution_count": 4,
   "outputs": [],
   "source": [
    "def hist(df, features):\n",
    "    melt = metric_melt(df.sample(200),\n",
    "            features=features,\n",
    "            metadata_features=meta_features)\n",
    "    #bins = np.arange(-0.005, 0.005, 0.001)\n",
    "    plt.style.use({'figure.facecolor':'white'})\n",
    "    plt.hist(melt.similarity_metric)\n",
    "def feats(df):\n",
    "    features_ = []\n",
    "    for col in df.columns.tolist():\n",
    "        if col.startswith('resnet_'):\n",
    "            features_.append(col)\n",
    "    return features_"
   ],
   "metadata": {
    "collapsed": false,
    "pycharm": {
     "name": "#%%\n"
    }
   }
  },
  {
   "cell_type": "code",
   "execution_count": 5,
   "outputs": [],
   "source": [
    "features = feats(df)\n",
    "meta_features = []\n",
    "for col in df.columns.tolist():\n",
    "    if col.startswith('Metadata_'):\n",
    "        meta_features.append(col)"
   ],
   "metadata": {
    "collapsed": false,
    "pycharm": {
     "name": "#%%\n"
    }
   }
  },
  {
   "cell_type": "code",
   "execution_count": 6,
   "outputs": [
    {
     "data": {
      "text/plain": "<Figure size 432x288 with 1 Axes>",
      "image/png": "[encoded data removed]"
     },
     "metadata": {},
     "output_type": "display_data"
    }
   ],
   "source": [
    "# plot the similarity of the wells. Expected output from a pretrained net.\n",
    "hist(df,features)"
   ],
   "metadata": {
    "collapsed": false,
    "pycharm": {
     "name": "#%%\n"
    }
   }
  },
  {
   "cell_type": "code",
   "execution_count": 7,
   "outputs": [
    {
     "name": "stdout",
     "output_type": "stream",
     "text": [
      "Explained variation per principal component: [9.99702345e-01 1.36066373e-04 4.97430054e-05]\n"
     ]
    },
    {
     "data": {
      "text/plain": "<Figure size 432x288 with 1 Axes>",
      "image/png": "[encoded data removed]"
     },
     "metadata": {},
     "output_type": "display_data"
    }
   ],
   "source": [
    "def pca_plot(df):\n",
    "    pca = PCA(n_components=3)\n",
    "    pca_result = pca.fit_transform(df[features].values)\n",
    "    df['pca-one'] = pca_result[:,0]\n",
    "    df['pca-two'] = pca_result[:,1]\n",
    "    df['pca-three'] = pca_result[:,2]\n",
    "    print('Explained variation per principal component: {}'.format(pca.explained_variance_ratio_))\n",
    "    plt.style.use({'figure.facecolor':'white'})\n",
    "    plt.scatter(df['pca-one'], df['pca-two'], s = 3, alpha= 0.4)\n",
    "    plt.show()\n",
    "pca_plot(df)\n"
   ],
   "metadata": {
    "collapsed": false,
    "pycharm": {
     "name": "#%%\n"
    }
   }
  },
  {
   "cell_type": "code",
   "execution_count": 12,
   "outputs": [],
   "source": [
    "max_vals = df.max()"
   ],
   "metadata": {
    "collapsed": false,
    "pycharm": {
     "name": "#%%\n"
    }
   }
  },
  {
   "cell_type": "code",
   "execution_count": 14,
   "outputs": [
    {
     "data": {
      "text/plain": "(array([0.0, 7.218433779598854e-07, 7.558077868452528e-06, ...,\n        134.93582153320312, 155.24569702148438, 322.0402526855469],\n       dtype=object),\n array([1812,    1,    1, ...,    5,    5,    5]))"
     },
     "execution_count": 14,
     "metadata": {},
     "output_type": "execute_result"
    }
   ],
   "source": [
    "#.count(0)\n",
    "np.unique(max_vals[features].values, return_counts=True)\n",
    "# over 1800 zero vectors!"
   ],
   "metadata": {
    "collapsed": false,
    "pycharm": {
     "name": "#%%\n"
    }
   }
  },
  {
   "cell_type": "code",
   "execution_count": 15,
   "outputs": [
    {
     "data": {
      "text/plain": "(array([9.88e+03, 2.65e+02, 6.50e+01, 1.50e+01, 1.00e+01, 0.00e+00,\n        0.00e+00, 0.00e+00, 0.00e+00, 5.00e+00]),\n array([0.0, 32.20402526855469, 64.40805053710938, 96.61207580566406,\n        128.81610107421875, 161.02012634277344, 193.22415161132812,\n        225.4281768798828, 257.6322021484375, 289.8362274169922,\n        322.0402526855469], dtype=object),\n <BarContainer object of 10 artists>)"
     },
     "execution_count": 15,
     "metadata": {},
     "output_type": "execute_result"
    },
    {
     "data": {
      "text/plain": "<Figure size 432x288 with 1 Axes>",
      "image/png": "[encoded data removed]"
     },
     "metadata": {},
     "output_type": "display_data"
    }
   ],
   "source": [
    "plt.hist(max_vals[features].values)"
   ],
   "metadata": {
    "collapsed": false,
    "pycharm": {
     "name": "#%%\n"
    }
   }
  },
  {
   "cell_type": "code",
   "execution_count": 16,
   "outputs": [],
   "source": [
    "dropls = []\n",
    "for c in features:\n",
    "    if df[c].max() < 1e-2:\n",
    "        dropls.append(c)"
   ],
   "metadata": {
    "collapsed": false,
    "pycharm": {
     "name": "#%%\n"
    }
   }
  },
  {
   "cell_type": "code",
   "execution_count": 19,
   "outputs": [
    {
     "data": {
      "text/plain": "DMSO                      936\nBRD-K72414522-001-06-7      5\nBRD-K81957469-001-01-0      5\nBRD-K69776681-001-03-8      5\nBRD-K73196317-003-14-8      5\n                         ... \nBRD-K99604664-001-01-1      1\nBRD-A90799790-001-19-9      1\nBRD-K50938287-036-13-8      1\nBRD-A89164055-001-03-3      1\nBRD-K46290096-001-01-1      1\nName: Metadata_broad_sample, Length: 736, dtype: int64"
     },
     "execution_count": 19,
     "metadata": {},
     "output_type": "execute_result"
    }
   ],
   "source": [
    "df[df['pca-one'] > 100].Metadata_broad_sample.value_counts()"
   ],
   "metadata": {
    "collapsed": false,
    "pycharm": {
     "name": "#%%\n"
    }
   }
  },
  {
   "cell_type": "code",
   "execution_count": 20,
   "outputs": [],
   "source": [
    "normal = df[df['pca-one'] < 100]"
   ],
   "metadata": {
    "collapsed": false,
    "pycharm": {
     "name": "#%%\n"
    }
   }
  },
  {
   "cell_type": "code",
   "execution_count": 21,
   "outputs": [
    {
     "name": "stderr",
     "output_type": "stream",
     "text": [
      "/Users/mbornhol/miniconda3/envs/cyto_eval/lib/python3.7/site-packages/ipykernel_launcher.py:4: SettingWithCopyWarning: \n",
      "A value is trying to be set on a copy of a slice from a DataFrame.\n",
      "Try using .loc[row_indexer,col_indexer] = value instead\n",
      "\n",
      "See the caveats in the documentation: https://pandas.pydata.org/pandas-docs/stable/user_guide/indexing.html#returning-a-view-versus-a-copy\n",
      "  after removing the cwd from sys.path.\n",
      "/Users/mbornhol/miniconda3/envs/cyto_eval/lib/python3.7/site-packages/ipykernel_launcher.py:5: SettingWithCopyWarning: \n",
      "A value is trying to be set on a copy of a slice from a DataFrame.\n",
      "Try using .loc[row_indexer,col_indexer] = value instead\n",
      "\n",
      "See the caveats in the documentation: https://pandas.pydata.org/pandas-docs/stable/user_guide/indexing.html#returning-a-view-versus-a-copy\n",
      "  \"\"\"\n",
      "/Users/mbornhol/miniconda3/envs/cyto_eval/lib/python3.7/site-packages/ipykernel_launcher.py:6: SettingWithCopyWarning: \n",
      "A value is trying to be set on a copy of a slice from a DataFrame.\n",
      "Try using .loc[row_indexer,col_indexer] = value instead\n",
      "\n",
      "See the caveats in the documentation: https://pandas.pydata.org/pandas-docs/stable/user_guide/indexing.html#returning-a-view-versus-a-copy\n",
      "  \n"
     ]
    },
    {
     "name": "stdout",
     "output_type": "stream",
     "text": [
      "Explained variation per principal component: [0.45778823 0.16715446 0.09429529]\n"
     ]
    },
    {
     "data": {
      "text/plain": "<Figure size 432x288 with 1 Axes>",
      "image/png": "[encoded data removed]"
     },
     "metadata": {},
     "output_type": "display_data"
    }
   ],
   "source": [
    "pca_plot(normal)"
   ],
   "metadata": {
    "collapsed": false,
    "pycharm": {
     "name": "#%%\n"
    }
   }
  },
  {
   "cell_type": "code",
   "execution_count": 26,
   "outputs": [
    {
     "data": {
      "text/plain": "resnet_554      322.040253\nresnet_6698     322.040253\nresnet_2602     322.040253\nresnet_4650     322.040253\nresnet_8746     322.040253\n                   ...    \nresnet_4116       0.000000\nresnet_4115       0.000000\nresnet_4114       0.000000\nresnet_4113       0.000000\nresnet_10239      0.000000\nName: 1, Length: 10240, dtype: float64"
     },
     "execution_count": 26,
     "metadata": {},
     "output_type": "execute_result"
    }
   ],
   "source": [
    "df[df['pca-one'] > 100][features].iloc[1].sort_values(ascending=False)"
   ],
   "metadata": {
    "collapsed": false,
    "pycharm": {
     "name": "#%%\n"
    }
   }
  },
  {
   "cell_type": "code",
   "execution_count": null,
   "outputs": [],
   "source": [
    "df.drop(columns=dropls, inplace=True)"
   ],
   "metadata": {
    "collapsed": false,
    "pycharm": {
     "name": "#%%\n"
    }
   }
  },
  {
   "cell_type": "code",
   "execution_count": 19,
   "outputs": [],
   "source": [
    "features = feats(df)"
   ],
   "metadata": {
    "collapsed": false,
    "pycharm": {
     "name": "#%%\n"
    }
   }
  },
  {
   "cell_type": "code",
   "execution_count": 22,
   "outputs": [],
   "source": [
    "melt = metric_melt(df.sample(200),\n",
    "            features=features,\n",
    "            metadata_features=meta_features)"
   ],
   "metadata": {
    "collapsed": false,
    "pycharm": {
     "name": "#%%\n"
    }
   }
  },
  {
   "cell_type": "code",
   "execution_count": 24,
   "outputs": [],
   "source": [
    "dmso = df.query(\"Metadata_broad_sample == 'DMSO'\")"
   ],
   "metadata": {
    "collapsed": false,
    "pycharm": {
     "name": "#%%\n"
    }
   }
  },
  {
   "cell_type": "code",
   "execution_count": 29,
   "outputs": [],
   "source": [
    "melt = metric_melt(dmso.sample(500),\n",
    "            features=features,\n",
    "            metadata_features=meta_features)"
   ],
   "metadata": {
    "collapsed": false,
    "pycharm": {
     "name": "#%%\n"
    }
   }
  },
  {
   "cell_type": "code",
   "execution_count": 34,
   "outputs": [
    {
     "data": {
      "text/plain": "       Metadata_Plate_pair_a Metadata_Well_pair_a  \\\n1508              SQ00015205                  F07   \n1509              SQ00015205                  F07   \n1590              SQ00015205                  F07   \n1603              SQ00015205                  F07   \n1639              SQ00015205                  F07   \n...                      ...                  ...   \n124601            SQ00015160                  F09   \n124602            SQ00015160                  F09   \n124605            SQ00015160                  F09   \n124607            SQ00015160                  F09   \n124608            SQ00015160                  F09   \n\n       Metadata_broad_sample_pair_a Metadata_moa_pair_a  \\\n1508                           DMSO             unknown   \n1509                           DMSO             unknown   \n1590                           DMSO             unknown   \n1603                           DMSO             unknown   \n1639                           DMSO             unknown   \n...                             ...                 ...   \n124601                         DMSO             unknown   \n124602                         DMSO             unknown   \n124605                         DMSO             unknown   \n124607                         DMSO             unknown   \n124608                         DMSO             unknown   \n\n       Metadata_mmoles_per_liter_pair_a Metadata_dose_recode_pair_a  \\\n1508                                0.0                           0   \n1509                                0.0                           0   \n1590                                0.0                           0   \n1603                                0.0                           0   \n1639                                0.0                           0   \n...                                 ...                         ...   \n124601                              0.0                           0   \n124602                              0.0                           0   \n124605                              0.0                           0   \n124607                              0.0                           0   \n124608                              0.0                           0   \n\n       Metadata_Plate_pair_b Metadata_Well_pair_b  \\\n1508              SQ00015157                  F08   \n1509              SQ00015162                  B06   \n1590              SQ00015116                  J17   \n1603              SQ00015162                  F10   \n1639              SQ00015149                  F07   \n...                      ...                  ...   \n124601            SQ00015201                  J18   \n124602            SQ00014817                  F08   \n124605            SQ00014812                  J18   \n124607            SQ00015211                  B04   \n124608            SQ00015208                  J17   \n\n       Metadata_broad_sample_pair_b Metadata_moa_pair_b  \\\n1508                           DMSO             unknown   \n1509                           DMSO             unknown   \n1590                           DMSO             unknown   \n1603                           DMSO             unknown   \n1639                           DMSO             unknown   \n...                             ...                 ...   \n124601                         DMSO             unknown   \n124602                         DMSO             unknown   \n124605                         DMSO             unknown   \n124607                         DMSO             unknown   \n124608                         DMSO             unknown   \n\n       Metadata_mmoles_per_liter_pair_b Metadata_dose_recode_pair_b  \\\n1508                                0.0                           0   \n1509                                0.0                           0   \n1590                                0.0                           0   \n1603                                0.0                           0   \n1639                                0.0                           0   \n...                                 ...                         ...   \n124601                              0.0                           0   \n124602                              0.0                           0   \n124605                              0.0                           0   \n124607                              0.0                           0   \n124608                              0.0                           0   \n\n        pair_a_index pair_b_index  similarity_metric  \n1508               3           18           0.048387  \n1509               3           19           0.048697  \n1590               3          100           0.049877  \n1603               3          113           0.048697  \n1639               3          149           0.049214  \n...              ...          ...                ...  \n124601           482          487           0.045582  \n124602           482          488           0.045582  \n124605           482          491           0.045582  \n124607           482          493           0.045582  \n124608           482          494           0.045582  \n\n[1370 rows x 15 columns]",
      "text/html": "<div>\n<style scoped>\n    .dataframe tbody tr th:only-of-type {\n        vertical-align: middle;\n    }\n\n    .dataframe tbody tr th {\n        vertical-align: top;\n    }\n\n    .dataframe thead th {\n        text-align: right;\n    }\n</style>\n<table border=\"1\" class=\"dataframe\">\n  <thead>\n    <tr style=\"text-align: right;\">\n      <th></th>\n      <th>Metadata_Plate_pair_a</th>\n      <th>Metadata_Well_pair_a</th>\n      <th>Metadata_broad_sample_pair_a</th>\n      <th>Metadata_moa_pair_a</th>\n      <th>Metadata_mmoles_per_liter_pair_a</th>\n      <th>Metadata_dose_recode_pair_a</th>\n      <th>Metadata_Plate_pair_b</th>\n      <th>Metadata_Well_pair_b</th>\n      <th>Metadata_broad_sample_pair_b</th>\n      <th>Metadata_moa_pair_b</th>\n      <th>Metadata_mmoles_per_liter_pair_b</th>\n      <th>Metadata_dose_recode_pair_b</th>\n      <th>pair_a_index</th>\n      <th>pair_b_index</th>\n      <th>similarity_metric</th>\n    </tr>\n  </thead>\n  <tbody>\n    <tr>\n      <th>1508</th>\n      <td>SQ00015205</td>\n      <td>F07</td>\n      <td>DMSO</td>\n      <td>unknown</td>\n      <td>0.0</td>\n      <td>0</td>\n      <td>SQ00015157</td>\n      <td>F08</td>\n      <td>DMSO</td>\n      <td>unknown</td>\n      <td>0.0</td>\n      <td>0</td>\n      <td>3</td>\n      <td>18</td>\n      <td>0.048387</td>\n    </tr>\n    <tr>\n      <th>1509</th>\n      <td>SQ00015205</td>\n      <td>F07</td>\n      <td>DMSO</td>\n      <td>unknown</td>\n      <td>0.0</td>\n      <td>0</td>\n      <td>SQ00015162</td>\n      <td>B06</td>\n      <td>DMSO</td>\n      <td>unknown</td>\n      <td>0.0</td>\n      <td>0</td>\n      <td>3</td>\n      <td>19</td>\n      <td>0.048697</td>\n    </tr>\n    <tr>\n      <th>1590</th>\n      <td>SQ00015205</td>\n      <td>F07</td>\n      <td>DMSO</td>\n      <td>unknown</td>\n      <td>0.0</td>\n      <td>0</td>\n      <td>SQ00015116</td>\n      <td>J17</td>\n      <td>DMSO</td>\n      <td>unknown</td>\n      <td>0.0</td>\n      <td>0</td>\n      <td>3</td>\n      <td>100</td>\n      <td>0.049877</td>\n    </tr>\n    <tr>\n      <th>1603</th>\n      <td>SQ00015205</td>\n      <td>F07</td>\n      <td>DMSO</td>\n      <td>unknown</td>\n      <td>0.0</td>\n      <td>0</td>\n      <td>SQ00015162</td>\n      <td>F10</td>\n      <td>DMSO</td>\n      <td>unknown</td>\n      <td>0.0</td>\n      <td>0</td>\n      <td>3</td>\n      <td>113</td>\n      <td>0.048697</td>\n    </tr>\n    <tr>\n      <th>1639</th>\n      <td>SQ00015205</td>\n      <td>F07</td>\n      <td>DMSO</td>\n      <td>unknown</td>\n      <td>0.0</td>\n      <td>0</td>\n      <td>SQ00015149</td>\n      <td>F07</td>\n      <td>DMSO</td>\n      <td>unknown</td>\n      <td>0.0</td>\n      <td>0</td>\n      <td>3</td>\n      <td>149</td>\n      <td>0.049214</td>\n    </tr>\n    <tr>\n      <th>...</th>\n      <td>...</td>\n      <td>...</td>\n      <td>...</td>\n      <td>...</td>\n      <td>...</td>\n      <td>...</td>\n      <td>...</td>\n      <td>...</td>\n      <td>...</td>\n      <td>...</td>\n      <td>...</td>\n      <td>...</td>\n      <td>...</td>\n      <td>...</td>\n      <td>...</td>\n    </tr>\n    <tr>\n      <th>124601</th>\n      <td>SQ00015160</td>\n      <td>F09</td>\n      <td>DMSO</td>\n      <td>unknown</td>\n      <td>0.0</td>\n      <td>0</td>\n      <td>SQ00015201</td>\n      <td>J18</td>\n      <td>DMSO</td>\n      <td>unknown</td>\n      <td>0.0</td>\n      <td>0</td>\n      <td>482</td>\n      <td>487</td>\n      <td>0.045582</td>\n    </tr>\n    <tr>\n      <th>124602</th>\n      <td>SQ00015160</td>\n      <td>F09</td>\n      <td>DMSO</td>\n      <td>unknown</td>\n      <td>0.0</td>\n      <td>0</td>\n      <td>SQ00014817</td>\n      <td>F08</td>\n      <td>DMSO</td>\n      <td>unknown</td>\n      <td>0.0</td>\n      <td>0</td>\n      <td>482</td>\n      <td>488</td>\n      <td>0.045582</td>\n    </tr>\n    <tr>\n      <th>124605</th>\n      <td>SQ00015160</td>\n      <td>F09</td>\n      <td>DMSO</td>\n      <td>unknown</td>\n      <td>0.0</td>\n      <td>0</td>\n      <td>SQ00014812</td>\n      <td>J18</td>\n      <td>DMSO</td>\n      <td>unknown</td>\n      <td>0.0</td>\n      <td>0</td>\n      <td>482</td>\n      <td>491</td>\n      <td>0.045582</td>\n    </tr>\n    <tr>\n      <th>124607</th>\n      <td>SQ00015160</td>\n      <td>F09</td>\n      <td>DMSO</td>\n      <td>unknown</td>\n      <td>0.0</td>\n      <td>0</td>\n      <td>SQ00015211</td>\n      <td>B04</td>\n      <td>DMSO</td>\n      <td>unknown</td>\n      <td>0.0</td>\n      <td>0</td>\n      <td>482</td>\n      <td>493</td>\n      <td>0.045582</td>\n    </tr>\n    <tr>\n      <th>124608</th>\n      <td>SQ00015160</td>\n      <td>F09</td>\n      <td>DMSO</td>\n      <td>unknown</td>\n      <td>0.0</td>\n      <td>0</td>\n      <td>SQ00015208</td>\n      <td>J17</td>\n      <td>DMSO</td>\n      <td>unknown</td>\n      <td>0.0</td>\n      <td>0</td>\n      <td>482</td>\n      <td>494</td>\n      <td>0.045582</td>\n    </tr>\n  </tbody>\n</table>\n<p>1370 rows × 15 columns</p>\n</div>"
     },
     "execution_count": 34,
     "metadata": {},
     "output_type": "execute_result"
    }
   ],
   "source": [
    "melt.query(\"similarity_metric < 0.05\")"
   ],
   "metadata": {
    "collapsed": false,
    "pycharm": {
     "name": "#%%\n"
    }
   }
  },
  {
   "cell_type": "code",
   "execution_count": 31,
   "outputs": [
    {
     "data": {
      "text/plain": "Index(['Metadata_Plate_pair_a', 'Metadata_Well_pair_a',\n       'Metadata_broad_sample_pair_a', 'Metadata_moa_pair_a',\n       'Metadata_mmoles_per_liter_pair_a', 'Metadata_dose_recode_pair_a',\n       'Metadata_Plate_pair_b', 'Metadata_Well_pair_b',\n       'Metadata_broad_sample_pair_b', 'Metadata_moa_pair_b',\n       'Metadata_mmoles_per_liter_pair_b', 'Metadata_dose_recode_pair_b',\n       'pair_a_index', 'pair_b_index', 'similarity_metric'],\n      dtype='object')"
     },
     "execution_count": 31,
     "metadata": {},
     "output_type": "execute_result"
    }
   ],
   "source": [
    "melt.columns"
   ],
   "metadata": {
    "collapsed": false,
    "pycharm": {
     "name": "#%%\n"
    }
   }
  },
  {
   "cell_type": "code",
   "execution_count": 42,
   "outputs": [
    {
     "data": {
      "text/plain": "resnet_0        1085\nresnet_1           0\nresnet_2           0\nresnet_3           0\nresnet_4        1171\n                ... \nresnet_10232    2509\nresnet_10235    2509\nresnet_10236    1157\nresnet_10237     884\nresnet_10238    1895\nLength: 7847, dtype: int64"
     },
     "execution_count": 42,
     "metadata": {},
     "output_type": "execute_result"
    }
   ],
   "source": [
    "dmso[features].idxmax()"
   ],
   "metadata": {
    "collapsed": false,
    "pycharm": {
     "name": "#%%\n"
    }
   }
  },
  {
   "cell_type": "code",
   "execution_count": 43,
   "outputs": [
    {
     "data": {
      "text/plain": "0       3811\n2522     522\n386      264\n1096     214\n898      150\n        ... \n914        1\n329        1\n2400       1\n2416       1\n1973       1\nLength: 667, dtype: int64"
     },
     "execution_count": 43,
     "metadata": {},
     "output_type": "execute_result"
    }
   ],
   "source": [
    "dmso[features].idxmax().value_counts()"
   ],
   "metadata": {
    "collapsed": false,
    "pycharm": {
     "name": "#%%\n"
    }
   }
  },
  {
   "cell_type": "code",
   "execution_count": 54,
   "outputs": [],
   "source": [
    "sorted = dmso.sort_values(by=['pca-one'], ascending=False)"
   ],
   "metadata": {
    "collapsed": false,
    "pycharm": {
     "name": "#%%\n"
    }
   }
  },
  {
   "cell_type": "code",
   "execution_count": 53,
   "outputs": [
    {
     "data": {
      "text/plain": "resnet_2602     322.040253\nresnet_554      322.040253\nresnet_6698     322.040253\nresnet_4650     322.040253\nresnet_8746     322.040253\n                   ...    \nresnet_4449       0.000000\nresnet_4448       0.000000\nresnet_4441       0.000000\nresnet_4438       0.000000\nresnet_10238      0.000000\nName: 0, Length: 7847, dtype: float64"
     },
     "execution_count": 53,
     "metadata": {},
     "output_type": "execute_result"
    }
   ],
   "source": [
    "dmso[features].iloc[0].sort_values( ascending=False)"
   ],
   "metadata": {
    "collapsed": false,
    "pycharm": {
     "name": "#%%\n"
    }
   }
  },
  {
   "cell_type": "code",
   "execution_count": null,
   "outputs": [],
   "source": [],
   "metadata": {
    "collapsed": false,
    "pycharm": {
     "name": "#%%\n"
    }
   }
  }
 ],
 "metadata": {
  "kernelspec": {
   "name": "pycharm-f57c4e3b",
   "language": "python",
   "display_name": "PyCharm (git)"
  },
  "language_info": {
   "codemirror_mode": {
    "name": "ipython",
    "version": 2
   },
   "file_extension": ".py",
   "mimetype": "text/x-python",
   "name": "python",
   "nbconvert_exporter": "python",
   "pygments_lexer": "ipython2",
   "version": "2.7.6"
  }
 },
 "nbformat": 4,
 "nbformat_minor": 0
}