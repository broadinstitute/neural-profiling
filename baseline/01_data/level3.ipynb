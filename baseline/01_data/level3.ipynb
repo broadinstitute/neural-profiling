{
 "cells": [
  {
   "cell_type": "code",
   "execution_count": 1,
   "metadata": {
    "collapsed": true
   },
   "outputs": [],
   "source": [
    "\n",
    "import os\n",
    "import pandas as pd\n",
    "import numpy as np\n",
    "import matplotlib.pyplot as plt\n",
    "from cytominer_eval import evaluate\n",
    "from pycytominer.cyto_utils import infer_cp_features\n",
    "from cytominer_eval.transform import metric_melt"
   ]
  },
  {
   "cell_type": "code",
   "execution_count": 2,
   "outputs": [],
   "source": [
    "data_loc = '/Users/mbornhol/git/lincs-cell-painting/profiles/2016_04_01_a549_48hr_batch1/'"
   ],
   "metadata": {
    "collapsed": false,
    "pycharm": {
     "name": "#%%\n"
    }
   }
  },
  {
   "cell_type": "code",
   "execution_count": 33,
   "outputs": [],
   "source": [
    "df_ls = []\n",
    "for plate in os.listdir(data_loc):\n",
    "    df_plate = pd.read_csv(os.path.join(data_loc, plate, f'{plate}_augmented.csv.gz'))\n",
    "    df_ls.append(df_plate)\n",
    "df_orig = pd.concat(df_ls)"
   ],
   "metadata": {
    "collapsed": false,
    "pycharm": {
     "name": "#%%\n"
    }
   }
  },
  {
   "cell_type": "code",
   "execution_count": 88,
   "outputs": [],
   "source": [
    "df = df_orig.copy()"
   ],
   "metadata": {
    "collapsed": false,
    "pycharm": {
     "name": "#%%\n"
    }
   }
  },
  {
   "cell_type": "code",
   "execution_count": 89,
   "outputs": [],
   "source": [
    "df.Metadata_moa = df.Metadata_moa.replace(np.nan, 'unknown', regex=True)"
   ],
   "metadata": {
    "collapsed": false,
    "pycharm": {
     "name": "#%%\n"
    }
   }
  },
  {
   "cell_type": "code",
   "execution_count": 90,
   "outputs": [],
   "source": [
    "df.to_csv('full_level3.csv')"
   ],
   "metadata": {
    "collapsed": false,
    "pycharm": {
     "name": "#%%\n"
    }
   }
  },
  {
   "cell_type": "code",
   "execution_count": 91,
   "outputs": [],
   "source": [
    "# 1. Only keep the dose 6 and dose 0 (DMSO)\n",
    "dmso = df.query(\"Metadata_broad_sample == 'DMSO'\")\n",
    "df = df.query(\"Metadata_dose_recode == 6 & Metadata_moa != 'unknown'\")"
   ],
   "metadata": {
    "collapsed": false,
    "pycharm": {
     "name": "#%%\n"
    }
   }
  },
  {
   "cell_type": "code",
   "execution_count": 92,
   "outputs": [],
   "source": [
    "# 2. Get rid of all compounds that have unknown MOAs\n",
    "df = pd.concat(\n",
    " [dmso, df], ignore_index=True\n",
    ")"
   ],
   "metadata": {
    "collapsed": false,
    "pycharm": {
     "name": "#%%\n"
    }
   }
  },
  {
   "cell_type": "code",
   "execution_count": 93,
   "outputs": [],
   "source": [
    "# 3. Drop all single Moas\n",
    "ls = df.Metadata_moa.value_counts() != 1\n",
    "keys = ls[ls].keys()\n",
    "df = df[df[\"Metadata_moa\"].isin(keys)]"
   ],
   "metadata": {
    "collapsed": false,
    "pycharm": {
     "name": "#%%\n"
    }
   }
  },
  {
   "cell_type": "code",
   "execution_count": 94,
   "outputs": [],
   "source": [
    "df.to_csv('sub_level3.csv')"
   ],
   "metadata": {
    "collapsed": false,
    "pycharm": {
     "name": "#%%\n"
    }
   }
  },
  {
   "cell_type": "code",
   "execution_count": 80,
   "outputs": [
    {
     "name": "stdout",
     "output_type": "stream",
     "text": [
      "dropped 36 features\n"
     ]
    }
   ],
   "source": [
    "features = infer_cp_features(df)\n",
    "def drop_feats(df_old, features_old, threshold):\n",
    "    drop_features = []\n",
    "    for feat in features_old:\n",
    "        df_old[feat].astype(float)\n",
    "        if (np.abs(df_old[feat]) > threshold).any() or df_old[feat].isna().any():\n",
    "            drop_features.append(feat)\n",
    "    df_out = df.drop(drop_features,  axis = \"columns\")\n",
    "    print(\"dropped {} features\".format(len(drop_features)))\n",
    "    return df_out, drop_features\n",
    "df, dropped_feats = drop_feats(df, features, 500)"
   ],
   "metadata": {
    "collapsed": false,
    "pycharm": {
     "name": "#%%\n"
    }
   }
  },
  {
   "cell_type": "code",
   "execution_count": 87,
   "outputs": [],
   "source": [
    "df.to_csv('level3_featselected_500_nadropped.csv')"
   ],
   "metadata": {
    "collapsed": false,
    "pycharm": {
     "name": "#%%\n"
    }
   }
  },
  {
   "cell_type": "code",
   "execution_count": 81,
   "outputs": [
    {
     "data": {
      "text/plain": "unknown                                                                                                                                                                       3264\nphosphodiesterase inhibitor                                                                                                                                                    165\nadrenergic receptor antagonist                                                                                                                                                 155\ncyclooxygenase inhibitor                                                                                                                                                       132\nhistamine receptor antagonist                                                                                                                                                  123\n                                                                                                                                                                              ... \nAXL kinase inhibitor|c-Met inhibitor|FLT3 inhibitor|hepatocyte growth factor receptor inhibitor|macrophage migration inhibiting factor inhibitor|tyrosine kinase inhibitor       2\nATP channel activator|potassium channel activator                                                                                                                                2\nhemoglobin oxygen release stimulant                                                                                                                                              2\nbenzodiazepine receptor agonist|HDAC inhibitor                                                                                                                                   2\nadrenergic receptor agonist|serotonin receptor agonist                                                                                                                           2\nName: Metadata_moa, Length: 599, dtype: int64"
     },
     "execution_count": 81,
     "metadata": {},
     "output_type": "execute_result"
    }
   ],
   "source": [
    "df.Metadata_moa.value_counts()\n"
   ],
   "metadata": {
    "collapsed": false,
    "pycharm": {
     "name": "#%%\n"
    }
   }
  },
  {
   "cell_type": "code",
   "execution_count": 82,
   "outputs": [
    {
     "data": {
      "text/plain": "6    7326\n1    3264\nName: Metadata_dose_recode, dtype: int64"
     },
     "execution_count": 82,
     "metadata": {},
     "output_type": "execute_result"
    }
   ],
   "source": [
    "df.Metadata_dose_recode.value_counts()\n"
   ],
   "metadata": {
    "collapsed": false,
    "pycharm": {
     "name": "#%%\n"
    }
   }
  },
  {
   "cell_type": "code",
   "execution_count": 83,
   "outputs": [
    {
     "data": {
      "text/plain": "  Metadata_plate_map_name Metadata_broad_sample  Metadata_mg_per_ml  \\\n0       C-7161-01-LM6-027                  DMSO                 0.0   \n1       C-7161-01-LM6-027                  DMSO                 0.0   \n2       C-7161-01-LM6-027                  DMSO                 0.0   \n3       C-7161-01-LM6-027                  DMSO                 0.0   \n4       C-7161-01-LM6-027                  DMSO                 0.0   \n\n   Metadata_mmoles_per_liter Metadata_solvent Metadata_Plate Metadata_Well  \\\n0                        0.0             DMSO     SQ00015211           A01   \n1                        0.0             DMSO     SQ00015211           A02   \n2                        0.0             DMSO     SQ00015211           A03   \n3                        0.0             DMSO     SQ00015211           A04   \n4                        0.0             DMSO     SQ00015211           A05   \n\n  Metadata_pert_id Metadata_pert_mfc_id Metadata_pert_well  ...  \\\n0              NaN                  NaN                A01  ...   \n1              NaN                  NaN                A02  ...   \n2              NaN                  NaN                A03  ...   \n3              NaN                  NaN                A04  ...   \n4              NaN                  NaN                A05  ...   \n\n   Nuclei_Texture_Variance_DNA_5_0 Nuclei_Texture_Variance_ER_10_0  \\\n0                           3.3092                          1.7817   \n1                           3.1899                          1.7643   \n2                           3.2723                          1.7755   \n3                           3.2232                          1.7309   \n4                           3.3201                          1.8222   \n\n  Nuclei_Texture_Variance_ER_20_0 Nuclei_Texture_Variance_ER_5_0  \\\n0                          1.6356                         1.8804   \n1                          1.6399                         1.8684   \n2                          1.6156                         1.9111   \n3                          1.5815                         1.8600   \n4                          1.6668                         1.9285   \n\n  Nuclei_Texture_Variance_Mito_10_0 Nuclei_Texture_Variance_Mito_20_0  \\\n0                            1.3283                            1.2213   \n1                            1.3931                            1.2644   \n2                            1.4134                            1.2674   \n3                            1.4268                            1.2970   \n4                            1.4788                            1.3254   \n\n  Nuclei_Texture_Variance_Mito_5_0 Nuclei_Texture_Variance_RNA_10_0  \\\n0                           1.4497                           2.6352   \n1                           1.4969                           2.6828   \n2                           1.5254                           2.6753   \n3                           1.5449                           2.7313   \n4                           1.6039                           2.7037   \n\n  Nuclei_Texture_Variance_RNA_20_0 Nuclei_Texture_Variance_RNA_5_0  \n0                           2.5141                          2.6443  \n1                           2.5727                          2.6636  \n2                           2.5601                          2.6655  \n3                           2.6180                          2.7203  \n4                           2.5771                          2.7020  \n\n[5 rows x 1679 columns]",
      "text/html": "<div>\n<style scoped>\n    .dataframe tbody tr th:only-of-type {\n        vertical-align: middle;\n    }\n\n    .dataframe tbody tr th {\n        vertical-align: top;\n    }\n\n    .dataframe thead th {\n        text-align: right;\n    }\n</style>\n<table border=\"1\" class=\"dataframe\">\n  <thead>\n    <tr style=\"text-align: right;\">\n      <th></th>\n      <th>Metadata_plate_map_name</th>\n      <th>Metadata_broad_sample</th>\n      <th>Metadata_mg_per_ml</th>\n      <th>Metadata_mmoles_per_liter</th>\n      <th>Metadata_solvent</th>\n      <th>Metadata_Plate</th>\n      <th>Metadata_Well</th>\n      <th>Metadata_pert_id</th>\n      <th>Metadata_pert_mfc_id</th>\n      <th>Metadata_pert_well</th>\n      <th>...</th>\n      <th>Nuclei_Texture_Variance_DNA_5_0</th>\n      <th>Nuclei_Texture_Variance_ER_10_0</th>\n      <th>Nuclei_Texture_Variance_ER_20_0</th>\n      <th>Nuclei_Texture_Variance_ER_5_0</th>\n      <th>Nuclei_Texture_Variance_Mito_10_0</th>\n      <th>Nuclei_Texture_Variance_Mito_20_0</th>\n      <th>Nuclei_Texture_Variance_Mito_5_0</th>\n      <th>Nuclei_Texture_Variance_RNA_10_0</th>\n      <th>Nuclei_Texture_Variance_RNA_20_0</th>\n      <th>Nuclei_Texture_Variance_RNA_5_0</th>\n    </tr>\n  </thead>\n  <tbody>\n    <tr>\n      <th>0</th>\n      <td>C-7161-01-LM6-027</td>\n      <td>DMSO</td>\n      <td>0.0</td>\n      <td>0.0</td>\n      <td>DMSO</td>\n      <td>SQ00015211</td>\n      <td>A01</td>\n      <td>NaN</td>\n      <td>NaN</td>\n      <td>A01</td>\n      <td>...</td>\n      <td>3.3092</td>\n      <td>1.7817</td>\n      <td>1.6356</td>\n      <td>1.8804</td>\n      <td>1.3283</td>\n      <td>1.2213</td>\n      <td>1.4497</td>\n      <td>2.6352</td>\n      <td>2.5141</td>\n      <td>2.6443</td>\n    </tr>\n    <tr>\n      <th>1</th>\n      <td>C-7161-01-LM6-027</td>\n      <td>DMSO</td>\n      <td>0.0</td>\n      <td>0.0</td>\n      <td>DMSO</td>\n      <td>SQ00015211</td>\n      <td>A02</td>\n      <td>NaN</td>\n      <td>NaN</td>\n      <td>A02</td>\n      <td>...</td>\n      <td>3.1899</td>\n      <td>1.7643</td>\n      <td>1.6399</td>\n      <td>1.8684</td>\n      <td>1.3931</td>\n      <td>1.2644</td>\n      <td>1.4969</td>\n      <td>2.6828</td>\n      <td>2.5727</td>\n      <td>2.6636</td>\n    </tr>\n    <tr>\n      <th>2</th>\n      <td>C-7161-01-LM6-027</td>\n      <td>DMSO</td>\n      <td>0.0</td>\n      <td>0.0</td>\n      <td>DMSO</td>\n      <td>SQ00015211</td>\n      <td>A03</td>\n      <td>NaN</td>\n      <td>NaN</td>\n      <td>A03</td>\n      <td>...</td>\n      <td>3.2723</td>\n      <td>1.7755</td>\n      <td>1.6156</td>\n      <td>1.9111</td>\n      <td>1.4134</td>\n      <td>1.2674</td>\n      <td>1.5254</td>\n      <td>2.6753</td>\n      <td>2.5601</td>\n      <td>2.6655</td>\n    </tr>\n    <tr>\n      <th>3</th>\n      <td>C-7161-01-LM6-027</td>\n      <td>DMSO</td>\n      <td>0.0</td>\n      <td>0.0</td>\n      <td>DMSO</td>\n      <td>SQ00015211</td>\n      <td>A04</td>\n      <td>NaN</td>\n      <td>NaN</td>\n      <td>A04</td>\n      <td>...</td>\n      <td>3.2232</td>\n      <td>1.7309</td>\n      <td>1.5815</td>\n      <td>1.8600</td>\n      <td>1.4268</td>\n      <td>1.2970</td>\n      <td>1.5449</td>\n      <td>2.7313</td>\n      <td>2.6180</td>\n      <td>2.7203</td>\n    </tr>\n    <tr>\n      <th>4</th>\n      <td>C-7161-01-LM6-027</td>\n      <td>DMSO</td>\n      <td>0.0</td>\n      <td>0.0</td>\n      <td>DMSO</td>\n      <td>SQ00015211</td>\n      <td>A05</td>\n      <td>NaN</td>\n      <td>NaN</td>\n      <td>A05</td>\n      <td>...</td>\n      <td>3.3201</td>\n      <td>1.8222</td>\n      <td>1.6668</td>\n      <td>1.9285</td>\n      <td>1.4788</td>\n      <td>1.3254</td>\n      <td>1.6039</td>\n      <td>2.7037</td>\n      <td>2.5771</td>\n      <td>2.7020</td>\n    </tr>\n  </tbody>\n</table>\n<p>5 rows × 1679 columns</p>\n</div>"
     },
     "execution_count": 83,
     "metadata": {},
     "output_type": "execute_result"
    }
   ],
   "source": [
    "df.head()"
   ],
   "metadata": {
    "collapsed": false,
    "pycharm": {
     "name": "#%%\n"
    }
   }
  },
  {
   "cell_type": "code",
   "execution_count": 79,
   "outputs": [
    {
     "data": {
      "text/plain": "False"
     },
     "execution_count": 79,
     "metadata": {},
     "output_type": "execute_result"
    }
   ],
   "source": [
    "\n"
   ],
   "metadata": {
    "collapsed": false,
    "pycharm": {
     "name": "#%%\n"
    }
   }
  }
 ],
 "metadata": {
  "kernelspec": {
   "display_name": "Python 3",
   "language": "python",
   "name": "python3"
  },
  "language_info": {
   "codemirror_mode": {
    "name": "ipython",
    "version": 2
   },
   "file_extension": ".py",
   "mimetype": "text/x-python",
   "name": "python",
   "nbconvert_exporter": "python",
   "pygments_lexer": "ipython2",
   "version": "2.7.6"
  }
 },
 "nbformat": 4,
 "nbformat_minor": 0
}