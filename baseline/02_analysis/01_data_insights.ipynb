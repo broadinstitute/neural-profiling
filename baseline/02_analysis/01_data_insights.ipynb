{
 "cells": [
  {
   "cell_type": "markdown",
   "metadata": {
    "collapsed": true,
    "pycharm": {
     "name": "#%% md\n"
    }
   },
   "source": [
    "# Data insights\n",
    "We are analysing the Level 5 data from the LINCS Github:\n",
    "https://github.com/broadinstitute/lincs-cell-painting/tree/master/consensus/2016_04_01_a549_48hr_batch1\n",
    "\n",
    "This notebook will simply give some insight into the data for later analysis."
   ]
  },
  {
   "cell_type": "code",
   "execution_count": 1,
   "outputs": [],
   "source": [
    "import os\n",
    "import pandas as pd\n",
    "import numpy as np\n",
    "import matplotlib.pyplot as plt\n",
    "from cytominer_eval import evaluate\n",
    "from pycytominer.cyto_utils import infer_cp_features\n",
    "from cytominer_eval.transform import metric_melt"
   ],
   "metadata": {
    "collapsed": false,
    "pycharm": {
     "name": "#%%\n"
    }
   }
  },
  {
   "cell_type": "code",
   "execution_count": 19,
   "outputs": [
    {
     "name": "stdout",
     "output_type": "stream",
     "text": [
      "Shape:  (10752, 528)\n"
     ]
    },
    {
     "data": {
      "text/plain": "  Metadata_Plate_Map_Name Metadata_cell_id   Metadata_broad_sample  \\\n0       C-7161-01-LM6-001             A549  BRD-A25234499-001-18-3   \n1       C-7161-01-LM6-001             A549  BRD-A25234499-001-18-3   \n2       C-7161-01-LM6-001             A549  BRD-A25234499-001-18-3   \n3       C-7161-01-LM6-001             A549  BRD-A25234499-001-18-3   \n4       C-7161-01-LM6-001             A549  BRD-A25234499-001-18-3   \n\n  Metadata_pert_well  Metadata_mmoles_per_liter  Metadata_dose_recode  \\\n0                B13                   10.00000                     6   \n1                B14                    3.33330                     5   \n2                B15                    1.11110                     4   \n3                B16                    0.37037                     3   \n4                B17                    0.12346                     2   \n\n  Metadata_time_point                        Metadata_moa  Metadata_target  \\\n0                 48H  glucocorticoid receptor antagonist  CYP11A1|CYP19A1   \n1                 48H  glucocorticoid receptor antagonist  CYP11A1|CYP19A1   \n2                 48H  glucocorticoid receptor antagonist  CYP11A1|CYP19A1   \n3                 48H  glucocorticoid receptor antagonist  CYP11A1|CYP19A1   \n4                 48H  glucocorticoid receptor antagonist  CYP11A1|CYP19A1   \n\n   Cells_AreaShape_Area  ...  Nuclei_Texture_InverseDifferenceMoment_RNA_10_0  \\\n0              0.344670  ...                                        -0.302193   \n1              0.488995  ...                                        -0.498673   \n2              0.505526  ...                                        -0.250714   \n3              0.092069  ...                                        -0.338021   \n4              0.705527  ...                                        -0.277073   \n\n   Nuclei_Texture_InverseDifferenceMoment_RNA_20_0  \\\n0                                        -0.262680   \n1                                         0.301335   \n2                                        -0.020691   \n3                                         0.568476   \n4                                         0.775823   \n\n   Nuclei_Texture_SumAverage_DNA_20_0  Nuclei_Texture_SumAverage_Mito_5_0  \\\n0                           -0.643318                           -0.307924   \n1                           -0.161695                           -2.046360   \n2                            0.722674                           -0.759924   \n3                           -0.552219                           -0.770124   \n4                           -0.895731                           -0.762473   \n\n   Nuclei_Texture_SumAverage_RNA_20_0  Nuclei_Texture_SumEntropy_DNA_10_0  \\\n0                           -0.263607                           -0.771062   \n1                           -0.147213                           -0.230816   \n2                           -0.012077                           -0.270183   \n3                           -0.391011                           -0.667111   \n4                           -0.429907                           -0.214208   \n\n   Nuclei_Texture_SumEntropy_DNA_20_0  Nuclei_Texture_SumEntropy_DNA_5_0  \\\n0                           -0.622449                          -0.968180   \n1                           -0.157423                          -0.247806   \n2                           -0.134932                          -0.359148   \n3                           -0.517957                          -0.674251   \n4                           -0.198268                          -0.241933   \n\n   Nuclei_Texture_SumEntropy_RNA_5_0  Nuclei_Texture_Variance_RNA_10_0  \n0                           0.087257                          0.691044  \n1                           0.243377                         -1.196500  \n2                           0.276299                         -0.796096  \n3                           0.022910                         -0.944185  \n4                           0.026242                         -0.849128  \n\n[5 rows x 528 columns]",
      "text/html": "<div>\n<style scoped>\n    .dataframe tbody tr th:only-of-type {\n        vertical-align: middle;\n    }\n\n    .dataframe tbody tr th {\n        vertical-align: top;\n    }\n\n    .dataframe thead th {\n        text-align: right;\n    }\n</style>\n<table border=\"1\" class=\"dataframe\">\n  <thead>\n    <tr style=\"text-align: right;\">\n      <th></th>\n      <th>Metadata_Plate_Map_Name</th>\n      <th>Metadata_cell_id</th>\n      <th>Metadata_broad_sample</th>\n      <th>Metadata_pert_well</th>\n      <th>Metadata_mmoles_per_liter</th>\n      <th>Metadata_dose_recode</th>\n      <th>Metadata_time_point</th>\n      <th>Metadata_moa</th>\n      <th>Metadata_target</th>\n      <th>Cells_AreaShape_Area</th>\n      <th>...</th>\n      <th>Nuclei_Texture_InverseDifferenceMoment_RNA_10_0</th>\n      <th>Nuclei_Texture_InverseDifferenceMoment_RNA_20_0</th>\n      <th>Nuclei_Texture_SumAverage_DNA_20_0</th>\n      <th>Nuclei_Texture_SumAverage_Mito_5_0</th>\n      <th>Nuclei_Texture_SumAverage_RNA_20_0</th>\n      <th>Nuclei_Texture_SumEntropy_DNA_10_0</th>\n      <th>Nuclei_Texture_SumEntropy_DNA_20_0</th>\n      <th>Nuclei_Texture_SumEntropy_DNA_5_0</th>\n      <th>Nuclei_Texture_SumEntropy_RNA_5_0</th>\n      <th>Nuclei_Texture_Variance_RNA_10_0</th>\n    </tr>\n  </thead>\n  <tbody>\n    <tr>\n      <th>0</th>\n      <td>C-7161-01-LM6-001</td>\n      <td>A549</td>\n      <td>BRD-A25234499-001-18-3</td>\n      <td>B13</td>\n      <td>10.00000</td>\n      <td>6</td>\n      <td>48H</td>\n      <td>glucocorticoid receptor antagonist</td>\n      <td>CYP11A1|CYP19A1</td>\n      <td>0.344670</td>\n      <td>...</td>\n      <td>-0.302193</td>\n      <td>-0.262680</td>\n      <td>-0.643318</td>\n      <td>-0.307924</td>\n      <td>-0.263607</td>\n      <td>-0.771062</td>\n      <td>-0.622449</td>\n      <td>-0.968180</td>\n      <td>0.087257</td>\n      <td>0.691044</td>\n    </tr>\n    <tr>\n      <th>1</th>\n      <td>C-7161-01-LM6-001</td>\n      <td>A549</td>\n      <td>BRD-A25234499-001-18-3</td>\n      <td>B14</td>\n      <td>3.33330</td>\n      <td>5</td>\n      <td>48H</td>\n      <td>glucocorticoid receptor antagonist</td>\n      <td>CYP11A1|CYP19A1</td>\n      <td>0.488995</td>\n      <td>...</td>\n      <td>-0.498673</td>\n      <td>0.301335</td>\n      <td>-0.161695</td>\n      <td>-2.046360</td>\n      <td>-0.147213</td>\n      <td>-0.230816</td>\n      <td>-0.157423</td>\n      <td>-0.247806</td>\n      <td>0.243377</td>\n      <td>-1.196500</td>\n    </tr>\n    <tr>\n      <th>2</th>\n      <td>C-7161-01-LM6-001</td>\n      <td>A549</td>\n      <td>BRD-A25234499-001-18-3</td>\n      <td>B15</td>\n      <td>1.11110</td>\n      <td>4</td>\n      <td>48H</td>\n      <td>glucocorticoid receptor antagonist</td>\n      <td>CYP11A1|CYP19A1</td>\n      <td>0.505526</td>\n      <td>...</td>\n      <td>-0.250714</td>\n      <td>-0.020691</td>\n      <td>0.722674</td>\n      <td>-0.759924</td>\n      <td>-0.012077</td>\n      <td>-0.270183</td>\n      <td>-0.134932</td>\n      <td>-0.359148</td>\n      <td>0.276299</td>\n      <td>-0.796096</td>\n    </tr>\n    <tr>\n      <th>3</th>\n      <td>C-7161-01-LM6-001</td>\n      <td>A549</td>\n      <td>BRD-A25234499-001-18-3</td>\n      <td>B16</td>\n      <td>0.37037</td>\n      <td>3</td>\n      <td>48H</td>\n      <td>glucocorticoid receptor antagonist</td>\n      <td>CYP11A1|CYP19A1</td>\n      <td>0.092069</td>\n      <td>...</td>\n      <td>-0.338021</td>\n      <td>0.568476</td>\n      <td>-0.552219</td>\n      <td>-0.770124</td>\n      <td>-0.391011</td>\n      <td>-0.667111</td>\n      <td>-0.517957</td>\n      <td>-0.674251</td>\n      <td>0.022910</td>\n      <td>-0.944185</td>\n    </tr>\n    <tr>\n      <th>4</th>\n      <td>C-7161-01-LM6-001</td>\n      <td>A549</td>\n      <td>BRD-A25234499-001-18-3</td>\n      <td>B17</td>\n      <td>0.12346</td>\n      <td>2</td>\n      <td>48H</td>\n      <td>glucocorticoid receptor antagonist</td>\n      <td>CYP11A1|CYP19A1</td>\n      <td>0.705527</td>\n      <td>...</td>\n      <td>-0.277073</td>\n      <td>0.775823</td>\n      <td>-0.895731</td>\n      <td>-0.762473</td>\n      <td>-0.429907</td>\n      <td>-0.214208</td>\n      <td>-0.198268</td>\n      <td>-0.241933</td>\n      <td>0.026242</td>\n      <td>-0.849128</td>\n    </tr>\n  </tbody>\n</table>\n<p>5 rows × 528 columns</p>\n</div>"
     },
     "execution_count": 19,
     "metadata": {},
     "output_type": "execute_result"
    }
   ],
   "source": [
    "data_dir = '../01_data/2016_04_01_a549_48hr_batch1_consensus_modz_feature_select_dmso.csv.gz'\n",
    "df = pd.read_csv(data_dir)\n",
    "print('Shape: ', df.shape)\n",
    "df.head(5)"
   ],
   "metadata": {
    "collapsed": false,
    "pycharm": {
     "name": "#%%\n"
    }
   }
  },
  {
   "cell_type": "code",
   "execution_count": 20,
   "outputs": [
    {
     "name": "stdout",
     "output_type": "stream",
     "text": [
      "Metadata features:\n",
      " ['Metadata_Plate_Map_Name', 'Metadata_cell_id', 'Metadata_broad_sample', 'Metadata_pert_well', 'Metadata_mmoles_per_liter', 'Metadata_dose_recode', 'Metadata_time_point', 'Metadata_moa', 'Metadata_target']\n",
      "Nr of features:  519\n"
     ]
    }
   ],
   "source": [
    "features = infer_cp_features(df)\n",
    "meta_features = infer_cp_features(df, metadata=True)\n",
    "print('Metadata features:\\n',meta_features)\n",
    "print('Nr of features: ', len(features))"
   ],
   "metadata": {
    "collapsed": false,
    "pycharm": {
     "name": "#%%\n"
    }
   }
  },
  {
   "cell_type": "markdown",
   "source": [
    "### Pertubations\n",
    "The original data was made from 136 plate with 384 wells each.\n",
    "However, since this is aggregated data, the plate names are not relevant anymore.\n",
    "\n",
    "As can be seen below, the DMSO and positive controls are still in the data. These three compounds may not be added to the  final analysis since they are meant for normalization.\n",
    "\n",
    "Negative control: DMSO\n",
    "Positive control 1: BRD-K60230970-001-10-0\n",
    "Positive control 2: BRD-K50691590-001-02-2"
   ],
   "metadata": {
    "collapsed": false,
    "pycharm": {
     "name": "#%% md\n"
    }
   }
  },
  {
   "cell_type": "code",
   "execution_count": 43,
   "outputs": [
    {
     "name": "stdout",
     "output_type": "stream",
     "text": [
      "Nr of different pertubations:  1571\n"
     ]
    },
    {
     "data": {
      "text/plain": "DMSO                      672\nBRD-K60230970-001-10-0    336\nBRD-K50691590-001-02-2    336\nBRD-K72029282-001-22-0      6\nBRD-A92826379-001-01-5      6\n                         ... \nBRD-K09090949-001-01-9      6\nBRD-K77396579-300-01-0      6\nBRD-K62398570-300-01-2      6\nBRD-K73395020-001-02-3      6\nBRD-K95763993-001-19-3      6\nName: Metadata_broad_sample, Length: 1571, dtype: int64"
     },
     "execution_count": 43,
     "metadata": {},
     "output_type": "execute_result"
    }
   ],
   "source": [
    "print('Nr of different pertubations: ', len(df.Metadata_broad_sample.unique()))\n",
    "df.Metadata_broad_sample.value_counts()"
   ],
   "metadata": {
    "collapsed": false,
    "pycharm": {
     "name": "#%%\n"
    }
   }
  },
  {
   "cell_type": "markdown",
   "source": [
    "### Methods of action\n",
    "The three controls make up the largest MOAs. (unknown, proteasome inhibitor and NFkB pathway inhibitor)\n",
    "Following, are a number of MOA's that have many compounds, while other MOAs only 'have' one compounds.\n",
    "\n",
    "Some compounds have no MOA assigned and this allows us to drop then because they won't be helpful during the analysis."
   ],
   "metadata": {
    "collapsed": false,
    "pycharm": {
     "name": "#%% md\n"
    }
   }
  },
  {
   "cell_type": "code",
   "execution_count": 44,
   "outputs": [
    {
     "name": "stdout",
     "output_type": "stream",
     "text": [
      "Nr of different moa:  602\n"
     ]
    },
    {
     "data": {
      "text/plain": "unknown                                               984\nproteasome inhibitor                                  366\nNFkB pathway inhibitor|proteasome inhibitor           342\nphosphodiesterase inhibitor                           210\nadrenergic receptor antagonist                        198\n                                                     ... \ncatechol O methyltransferase inhibitor                  6\nexportin antagonist                                     6\nphosphodiesterase inhibitor|sodium channel blocker      6\nmucus protecting agent                                  6\nNADPH inhibitor                                         6\nName: Metadata_moa, Length: 602, dtype: int64"
     },
     "execution_count": 44,
     "metadata": {},
     "output_type": "execute_result"
    }
   ],
   "source": [
    "print('Nr of different moa: ', len(df.Metadata_moa.unique()))\n",
    "df.Metadata_moa.value_counts()"
   ],
   "metadata": {
    "collapsed": false,
    "pycharm": {
     "name": "#%%\n"
    }
   }
  },
  {
   "cell_type": "code",
   "execution_count": 13,
   "outputs": [],
   "source": [
    "# We can also create a dict of all moas and how many compounds belong to that MOA.\n",
    "moa_dict = {}\n",
    "for moa in df.Metadata_moa.unique():\n",
    "    moa_dict[moa] = len(df.query(\"Metadata_moa == @moa\").Metadata_broad_sample.unique())"
   ],
   "metadata": {
    "collapsed": false,
    "pycharm": {
     "name": "#%%\n"
    }
   }
  },
  {
   "cell_type": "code",
   "execution_count": 16,
   "outputs": [
    {
     "name": "stdout",
     "output_type": "stream",
     "text": [
      "0: 0\n",
      "1: 366\n",
      "2: 84\n",
      "3: 41\n",
      "4: 24\n",
      "5: 26\n",
      "6: 18\n",
      "7: 13\n",
      "8: 5\n",
      "9: 2\n",
      "10: 4\n",
      "11: 2\n",
      "12: 2\n",
      "13: 0\n",
      "14: 3\n",
      "15: 1\n",
      "16: 1\n",
      "17: 2\n",
      "18: 0\n",
      "19: 0\n"
     ]
    }
   ],
   "source": [
    "for n in range(20):\n",
    "    print(f'{n}: {list(moa_dict.values()).count(n)}')"
   ],
   "metadata": {
    "collapsed": false,
    "pycharm": {
     "name": "#%%\n"
    }
   }
  },
  {
   "cell_type": "markdown",
   "source": [
    "The largest number of MOAs only have on compound. But we can't use these since they will not allow for any replicate evaluation."
   ],
   "metadata": {
    "collapsed": false,
    "pycharm": {
     "name": "#%% md\n"
    }
   }
  },
  {
   "cell_type": "code",
   "execution_count": 22,
   "outputs": [],
   "source": [
    "df = pd.concat(\n",
    " [df.query(\"Metadata_moa != 'unknown'\"),\n",
    " df.query(\"Metadata_broad_sample == 'DMSO'\")],\n",
    "    ignore_index=True\n",
    ")"
   ],
   "metadata": {
    "collapsed": false,
    "pycharm": {
     "name": "#%%\n"
    }
   }
  },
  {
   "cell_type": "markdown",
   "source": [
    "### Concentrations\n",
    "\n",
    "Most compounds have 6 different concentrations, which are defined by the dose record, not by the mmoles per liter.\n",
    "\n",
    "Furthermore, the positive controls have the value code 7 for their concentration.\n",
    "If we thus only query for the concentrations 6 and 0, then we will get the negative controls and one of each pertubation."
   ],
   "metadata": {
    "collapsed": false,
    "pycharm": {
     "name": "#%% md\n"
    }
   }
  },
  {
   "cell_type": "code",
   "execution_count": 23,
   "outputs": [
    {
     "name": "stdout",
     "output_type": "stream",
     "text": [
      "Nr of different mmoles:  87\n",
      "Nr of different dose codes:  8\n",
      "1    1530\n",
      "2    1516\n",
      "3    1516\n",
      "4    1516\n",
      "5    1511\n",
      "6    1507\n",
      "0     672\n",
      "7     672\n",
      "Name: Metadata_dose_recode, dtype: int64\n",
      "BRD-K50691590-001-02-2    336\n",
      "BRD-K60230970-001-10-0    336\n",
      "Name: Metadata_broad_sample, dtype: int64\n"
     ]
    }
   ],
   "source": [
    "print('Nr of different mmoles: ', len(df.Metadata_mmoles_per_liter.unique()))\n",
    "print('Nr of different dose codes: ', len(df.Metadata_dose_recode.unique()))\n",
    "print(df.Metadata_dose_recode.value_counts())\n",
    "print(df.query(\"Metadata_dose_recode == 7\").Metadata_broad_sample.value_counts())"
   ],
   "metadata": {
    "collapsed": false,
    "pycharm": {
     "name": "#%%\n"
    }
   }
  },
  {
   "cell_type": "code",
   "execution_count": 25,
   "outputs": [],
   "source": [
    "df = df.query(\"Metadata_dose_recode == 0 | Metadata_dose_recode == 6 \")"
   ],
   "metadata": {
    "collapsed": false,
    "pycharm": {
     "name": "#%%\n"
    }
   }
  },
  {
   "cell_type": "markdown",
   "source": [
    "## Feature selection\n",
    "\n",
    "When running any kind of replicate similarity evaluation (which is what we are using as a metric) then you will notice some strange behaviour of very high correlations.\n",
    "\n",
    "Here, we show how the similarities are very high due to some very high values accross the feature space."
   ],
   "metadata": {
    "collapsed": false,
    "pycharm": {
     "name": "#%% md\n"
    }
   }
  },
  {
   "cell_type": "code",
   "execution_count": 22,
   "outputs": [],
   "source": [
    "features = infer_cp_features(df)\n",
    "meta_features = infer_cp_features(df, metadata=True)\n",
    "similarity_metric=\"pearson\"\n",
    "operation=\"precision_recall\"\n",
    "\n",
    "similarity_melted_df = metric_melt(\n",
    "            df=df,\n",
    "            features=features,\n",
    "            metadata_features=meta_features,\n",
    "            similarity_metric=similarity_metric,\n",
    "            eval_metric=operation,\n",
    "        )\n",
    "plt.hist(similarity_melted_df.similarity_metric)\n",
    "plt.show()"
   ],
   "metadata": {
    "collapsed": false,
    "pycharm": {
     "name": "#%%\n"
    }
   }
  },
  {
   "cell_type": "markdown",
   "source": [
    "The plot above shows how a very large number of points have similarity 1 or -1. This is due to some features having very large values which dominiate the similarity.\n",
    "\n",
    "Here are two examples: BRD-A26334849-001-06-2, BRD-A25234499-001-18-3\n",
    "\n",
    "The plot below shows how for two randomly selected samples, there is one feature which has a very large value for both samples.\n",
    "These high values stem from the analysis leading up to here where Sphering can create high values.\n",
    "Thus, we want to further drop the features that have these high values.\n",
    "\n",
    "The notebook clean_data shows how I drop the features with high values."
   ],
   "metadata": {
    "collapsed": false,
    "pycharm": {
     "name": "#%% md\n",
     "is_executing": true
    }
   }
  },
  {
   "cell_type": "code",
   "execution_count": 35,
   "outputs": [
    {
     "data": {
      "text/plain": "<Figure size 432x288 with 1 Axes>",
      "image/png": "[encoded data removed]"
     },
     "metadata": {
      "needs_background": "light"
     },
     "output_type": "display_data"
    }
   ],
   "source": [
    "s1 = \"BRD-A26334849-001-06-2\"\n",
    "s2 = \"BRD-A25234499-001-18-3\"\n",
    "test_df = pd.concat([\n",
    "df.query(\"Metadata_broad_sample==@s1  & Metadata_dose_recode == 6\"),\n",
    "df.query(\"Metadata_broad_sample==@s2  & Metadata_dose_recode == 6\")\n",
    "    ], ignore_index=True)\n",
    "test_df = test_df.loc[:, features].T\n",
    "test_df.columns = ['One','Two']\n",
    "\n",
    "ax = plt.gca()\n",
    "ax.plot(test_df['One'] ,test_df['Two'], 'o', c='blue', alpha=0.5)\n",
    "ax.set_xscale('log')\n",
    "ax.set_yscale('log')\n",
    "plt.show()"
   ],
   "metadata": {
    "collapsed": false,
    "pycharm": {
     "name": "#%%\n"
    }
   }
  },
  {
   "cell_type": "markdown",
   "source": [
    "## Other data\n",
    "\n",
    "This files holds the mapping between targets, broad samples IDs, compounds and MOA.\n",
    "https://github.com/broadinstitute/lincs-cell-painting/blob/master/metadata/moa/repurposing_info_external_moa_map_resolved.tsv"
   ],
   "metadata": {
    "collapsed": false,
    "pycharm": {
     "name": "#%% md\n"
    }
   }
  },
  {
   "cell_type": "code",
   "execution_count": 26,
   "outputs": [
    {
     "data": {
      "text/plain": "DMSO                      672\nBRD-K19111024-001-20-9      1\nBRD-K83794243-001-01-8      1\nBRD-K03384561-001-02-7      1\nBRD-A62071884-001-04-6      1\n                         ... \nBRD-K71822263-001-03-2      1\nBRD-K63430059-001-17-2      1\nBRD-K18673820-001-15-5      1\nBRD-K02292852-001-02-1      1\nBRD-A52922642-001-03-7      1\nName: Metadata_broad_sample, Length: 1508, dtype: int64"
     },
     "execution_count": 26,
     "metadata": {},
     "output_type": "execute_result"
    }
   ],
   "source": [
    "df.Metadata_broad_sample.value_counts()\n"
   ],
   "metadata": {
    "collapsed": false,
    "pycharm": {
     "name": "#%%\n"
    }
   }
  },
  {
   "cell_type": "code",
   "execution_count": 27,
   "outputs": [],
   "source": [
    "dic = {}\n",
    "for moa in df.Metadata_moa.unique():\n",
    "    dic[moa] = len(df.query(\"Metadata_moa == @moa\").Metadata_broad_sample.unique())"
   ],
   "metadata": {
    "collapsed": false,
    "pycharm": {
     "name": "#%%\n"
    }
   }
  },
  {
   "cell_type": "code",
   "execution_count": 5,
   "outputs": [
    {
     "data": {
      "text/plain": "{'glucocorticoid receptor antagonist': 1,\n 'calmodulin antagonist': 2,\n 'glucocorticoid receptor agonist': 17,\n 'antiarrhythmic': 1,\n 'HIV protease inhibitor': 7,\n 'calcium channel blocker': 16,\n 'FLT3 inhibitor|growth factor receptor inhibitor|JAK inhibitor': 1,\n 'voltage-gated sodium channel blocker': 3,\n 'mTOR inhibitor|PI3K inhibitor': 6,\n 'monoamine oxidase inhibitor': 6,\n 'neurotrophic agent': 3,\n 'adrenergic receptor antagonist': 33,\n 'platelet activating factor receptor antagonist': 3,\n 'mineralocorticoid receptor antagonist': 3,\n 'lipid peroxidase inhibitor': 2,\n 'progesterone receptor agonist': 7,\n 'sodium channel blocker': 14,\n 'bacterial 30S ribosomal subunit inhibitor': 4,\n 'unknown': 53,\n 'nitric oxide synthase inhibitor': 5,\n 'glutamate receptor modulator': 4,\n 'helicase primase inhibitor': 1,\n 'matrix metalloprotease inhibitor': 3,\n 'cyclooxygenase inhibitor': 29,\n 'acetylcholinesterase inhibitor|cholinesterase inhibitor': 1,\n 'dopamine receptor antagonist|serotonin receptor antagonist': 11,\n 'topoisomerase inhibitor': 17,\n 'EGFR inhibitor': 15,\n 'GABA receptor antagonist': 2,\n 'interferon inducer|toll-like receptor agonist': 1,\n 'HCV inhibitor|protease inhibitor': 1,\n 'caspase inhibitor': 1,\n 'angiogenesis inhibitor': 4,\n 'O6-alkylguanine-DNA alkyltransferase inhibitor': 2,\n 'histamine receptor antagonist': 25,\n 'dihydrofolate reductase inhibitor': 4,\n 'GABA receptor modulator': 4,\n 'prostanoid receptor antagonist': 4,\n 'fatty acid synthase inhibitor': 2,\n 'vitamin D receptor agonist': 6,\n 'melatonin receptor agonist': 1,\n 'adrenergic receptor agonist': 21,\n '5 alpha reductase inhibitor': 3,\n 'coagulation factor inhibitor': 5,\n 'cyclooxygenase inhibitor|glutathione peroxidase agonist|H+/K+-ATPase inhibitor|nitric oxide synthase inhibitor': 1,\n 'carbonic anhydrase inhibitor|glutamate receptor antagonist|kainate receptor antagonist': 1,\n 'stearoyl-CoA desaturase inhibitor': 1,\n 'tyrosine kinase inhibitor': 5,\n 'androgen receptor modulator': 6,\n 'tubulin polymerization inhibitor': 10,\n 'androgen receptor enhancer': 1,\n 'glutathione transferase inhibitor|non-nucleoside reverse transcriptase inhibitor': 1,\n 'electrolyte reabsorption inhibitor|thromboxane receptor antagonist': 1,\n 'NFkB pathway inhibitor|proteasome inhibitor': 2,\n 'proteasome inhibitor': 6,\n 'free radical scavenger': 4,\n 'cyclooxygenase inhibitor|platelet aggregation inhibitor': 1,\n 'reducing agent': 1,\n 'bacterial cell wall synthesis inhibitor': 14,\n 'thyrotropin releasing hormone receptor agonist': 2,\n 'anticancer agent': 1,\n 'succinimide antiepileptic': 1,\n 'estrogen receptor agonist': 7,\n 'non-nucleoside reverse transcriptase inhibitor': 5,\n 'insulin sensitizer|PPAR receptor agonist': 4,\n 'phosphodiesterase inhibitor': 35,\n 'cytochrome P450 inhibitor|imidazoline receptor ligand': 1,\n 'dopamine receptor agonist': 12,\n 'DNA polymerase inhibitor': 5,\n 'N-type calcium channel blocker': 1,\n 'androgen biosynthesis inhibitor': 1,\n 'endothelin receptor antagonist': 4,\n 'leukotriene receptor antagonist|phosphodiesterase inhibitor': 1,\n 'FGFR inhibitor|KIT inhibitor|PDGFR tyrosine kinase receptor inhibitor|RAF inhibitor|RET tyrosine kinase inhibitor|VEGFR inhibitor': 1,\n 'glucagon receptor antagonist': 1,\n 'serotonin receptor antagonist': 14,\n 'PKC inhibitor': 6,\n 'bacterial 50S ribosomal subunit inhibitor': 6,\n 'JAK inhibitor': 7,\n 'HIV capsid assembly inhibitor': 1,\n 'DNA inhibitor': 8,\n 'opioid receptor antagonist': 4,\n 'FGFR antagonist': 1,\n 'acetylcholine receptor antagonist': 20,\n 'interferon inducer': 1,\n 'integrin antagonist': 5,\n 'p38 MAPK inhibitor': 7,\n 'potassium channel blocker': 7,\n 'HDAC inhibitor': 12,\n 'CDK inhibitor|glycogen synthase kinase inhibitor': 1,\n 'protein synthesis inhibitor': 5,\n 'DNA synthesis inhibitor': 6,\n 'beta-secretase inhibitor': 2,\n 'DNA methyltransferase inhibitor': 3,\n 'glutamate receptor antagonist': 7,\n 'folate receptor ligand': 1,\n 'HCN channel blocker': 1,\n 'Abl kinase inhibitor|Bcr-Abl kinase inhibitor|SRC inhibitor': 1,\n 'selective serotonin reuptake inhibitor (SSRI)': 6,\n 'muscle relaxant': 1,\n 'membrane integrity inhibitor': 2,\n 'tumor necrosis factor receptor antagonist': 1,\n 'anthelmintic agent': 2,\n 'laxative': 1,\n 'HSP inhibitor': 7,\n 'nuclear factor erythroid derived|like (NRF2) activator': 2,\n 'adenosine receptor agonist': 4,\n 'FGFR inhibitor|VEGFR inhibitor': 3,\n 'HCN channel blocker|potassium channel blocker|sodium channel blocker': 1,\n 'mediator release inhibitor': 1,\n 'xanthine oxidase inhibitor': 4,\n 'tryptophan hydroxylase inhibitor': 2,\n 'carnitine palmitoyltransferase inhibitor': 2,\n 'dopamine reuptake inhibitor': 5,\n 'aldehyde dehydrogenase inhibitor|DNA methyltransferase inhibitor|TRPV agonist': 1,\n 'dehydrogenase inhibitor': 1,\n 'glutamate receptor antagonist|sigma receptor agonist': 1,\n 'benzodiazepine receptor agonist': 6,\n 'ribonucleotide reductase inhibitor': 5,\n 'hedgehog pathway inhibitor': 1,\n 'angiotensin antagonist': 1,\n 'insulin secretagogue': 5,\n 'dopamine receptor antagonist|serotonin receptor agonist': 1,\n 'DNA alkylating agent': 5,\n 'gap junction modulator': 2,\n 'CCK receptor antagonist': 5,\n 'dihydropyrimidine dehydrogenase inhibitor': 1,\n 'serotonin receptor agonist': 10,\n 'fungal squalene epoxidase inhibitor': 4,\n 'HIV integrase inhibitor': 4,\n 'NFkB pathway inhibitor': 5,\n 'retinoid receptor agonist': 7,\n 'cardiac myosin activator': 1,\n 'dipeptidyl peptidase inhibitor': 5,\n 'beta lactamase inhibitor': 2,\n 'norepinephrine reputake inhibitor|tricyclic antidepressant': 2,\n 'antihistamine': 1,\n 'bacterial DNA gyrase inhibitor': 11,\n 'aromatase inhibitor': 5,\n 'carbonic anhydrase inhibitor': 6,\n 'acetylcholine release enhancer': 2,\n 'gamma secretase inhibitor': 7,\n 'opioid receptor agonist': 4,\n 'dopamine receptor antagonist': 22,\n 'adenylyl cyclase activator': 2,\n 'SRC inhibitor': 1,\n 'AKT inhibitor|TRAIL modulator': 1,\n 'norepinephrine transporter inhibitor': 1,\n 'SYK inhibitor': 1,\n 'immunosuppressant': 2,\n 'intermediate conductance potassium channel blocker': 1,\n 'exportin antagonist': 1,\n 'Abl kinase inhibitor|Aurora kinase inhibitor|FLT3 inhibitor': 1,\n 'Pim kinase inhibitor': 2,\n 'HMGCR inhibitor': 6,\n 'cathepsin inhibitor': 2,\n 'motilin receptor agonist': 1,\n 'glutamate receptor agonist': 4,\n 'transthyretin amyloid inhibitor': 1,\n 'prostanoid receptor agonist': 5,\n 'thymidylate synthase inhibitor': 3,\n 'HCV inhibitor': 9,\n 'Bcr-Abl kinase inhibitor': 2,\n 'cyclooxygenase inhibitor|PPAR receptor agonist': 1,\n 'enkephalinase inhibitor': 1,\n 'calpain inhibitor|cysteine protease inhibitor': 1,\n 'thrombin inhibitor': 3,\n 'Aurora kinase inhibitor|growth factor receptor inhibitor': 1,\n 'melanin inhibitor': 1,\n 'bromodomain inhibitor': 1,\n 'DNA replication inhibitor|nucleoside reverse transcriptase inhibitor': 1,\n 'XIAP inhibitor': 3,\n 'PARP inhibitor': 5,\n 'aromatase inhibitor|TRPV antagonist': 1,\n 'structural glycoprotein antagonist': 1,\n 'tyrosinase inhibitor': 2,\n 'mTOR inhibitor': 8,\n 'cannabinoid receptor antagonist': 2,\n 'TGF beta receptor inhibitor': 3,\n 'chelating agent': 4,\n 'inosine monophosphate dehydrogenase inhibitor': 2,\n 'T-type calcium channel blocker': 3,\n 'secretory phospholipase inhibitor': 1,\n 'RAF inhibitor': 6,\n 'cyclooxygenase inhibitor|prostanoid receptor antagonist': 5,\n 'bone resorption inhibitor|osteoclast inhibitor': 1,\n 'catechol O methyltransferase inhibitor': 1,\n 'glucose dependent insulinotropic receptor agonist': 3,\n 'tumor necrosis factor release inhibitor': 2,\n 'lipoprotein lipase activator': 1,\n 'ALK tyrosine kinase receptor inhibitor': 4,\n 'AMPK activator': 1,\n 'chloride channel blocker': 1,\n 'cytochrome P450 inhibitor|SIRT activator': 1,\n 'mitochondrial electron transport inhibitor': 1,\n 'chitinase inhibitor|NFkB pathway inhibitor': 1,\n 'adenosine receptor antagonist': 5,\n 'gluconeogenesis inhibitor': 1,\n 'ATPase inhibitor': 5,\n 'cytochrome P450 inhibitor': 5,\n 'adrenergic receptor antagonist|glutamate receptor antagonist': 1,\n 'vitamin K antagonist': 3,\n 'PPAR receptor agonist': 5,\n 'acetylcholinesterase inhibitor': 3,\n 'MET inhibitor': 1,\n 'protein tyrosine kinase inhibitor': 2,\n 'phospholipase inhibitor': 1,\n 'acetylcholine receptor agonist': 9,\n 'adrenergic receptor antagonist|calcium channel blocker': 1,\n 'hepatocyte growth factor receptor inhibitor': 2,\n 'apolipoprotein expression enhancer': 1,\n 'diacylglycerol O acyltransferase inhibitor': 3,\n 'thromboxane synthase inhibitor': 3,\n 'glucosidase inhibitor': 5,\n 'beta amyloid antagonist': 1,\n 'glutamate inhibitor': 1,\n 'sodium/hydrogen exchanger inhibitor': 1,\n 'cholesterol inhibitor': 4,\n 'breast cancer resistance protein inhibitor': 1,\n 'FLT3 inhibitor|KIT inhibitor|PDGFR tyrosine kinase receptor inhibitor|RAF inhibitor|RET tyrosine kinase inhibitor|VEGFR inhibitor': 1,\n 'Aurora kinase inhibitor|JAK inhibitor': 1,\n 'DeltaF508-CFTR Correctors': 1,\n 'dihydroorotate dehydrogenase inhibitor': 3,\n 'antiprotozoal agent': 1,\n 'angiotensin converting enzyme inhibitor': 10,\n 'antimalarial agent': 2,\n 'L-type calcium channel blocker': 2,\n 'leukotriene synthesis inhibitor|lipoxygenase inhibitor': 1,\n 'EGFR inhibitor|VEGFR inhibitor': 1,\n 'SRC activator': 1,\n 'PI3K inhibitor': 8,\n '11-beta hydroxysteroid dehydrogenase inhibitor|FXR agonist': 2,\n 'free fatty acid receptor agonist': 1,\n 'protease inhibitor': 1,\n 'cholesteryl ester transfer protein inhibitor': 2,\n 'hypoxia inducible factor inhibitor': 2,\n 'interferon receptor agonist|interleukin receptor agonist': 1,\n 'thyroid peroxidase inhibitor': 1,\n 'sigma receptor antagonist': 4,\n 'estrogen receptor antagonist|selective estrogen receptor modulator (SERM)': 3,\n 'serotonin transporter (SERT) inhibitor': 2,\n 'Aurora kinase inhibitor': 6,\n 'norepinephrine inhibitor|norepinephrine reuptake inhibitor|serotonin receptor antagonist|serotoninâ\\x80\\x93norepinephrine reuptake inhibitor (SNRI)': 1,\n 'sodium/glucose cotransporter inhibitor': 3,\n 'LXR agonist': 1,\n 'FXR agonist': 1,\n 'norepinephrine reuptake inhibitor|serotoninâ\\x80\\x93norepinephrine reuptake inhibitor (SNRI)|tricyclic antidepressant': 1,\n 'dihydropteroate synthase inhibitor': 1,\n 'AKT inhibitor': 6,\n 'RNA synthesis inhibitor|topoisomerase inhibitor': 1,\n 'adenosine receptor antagonist|hemoglobin antagonist': 1,\n 'gastrin inhibitor|urease inhibitor': 1,\n 'glycosyl transferase inhibitor': 1,\n 'DNA replication inhibitor|STAT inhibitor': 1,\n 'antioxidant': 2,\n 'sodium/potassium/chloride transporter inhibitor': 3,\n 'ATP channel blocker|insulin secretagogue|sulfonylurea': 1,\n 'gap junction modulator|nitric oxide production inhibitor': 1,\n 'calcium channel modulator': 1,\n 'niacinamide phosphoribosyltransferase inhibitor': 1,\n 'angiotensin receptor antagonist': 6,\n 'radical formation stimulant': 1,\n 'cholinesterase inhibitor': 1,\n 'uric acid diuretic': 1,\n 'survivin inhibitor': 1,\n 'imidazoline receptor agonist': 1,\n 'FABI inhibitor': 1,\n 'immunosuppressant|sphingosine 1-phosphate receptor agonist': 1,\n 'hydroxy radical formation stimulant': 1,\n 'P glycoprotein inhibitor': 2,\n 'MEK inhibitor': 10,\n 'centromere associated protein inhibitor': 1,\n 'thromboxane receptor antagonist': 3,\n 'CC chemokine receptor antagonist': 8,\n 'adrenergic inhibitor|norepinephrine reuptake inhibitor|serotonin receptor antagonist|serotonin reuptake inhibitor': 1,\n 'histamine receptor agonist': 3,\n 'glycosylation inhibitor': 1,\n 'androgen receptor antagonist': 7,\n \"Bruton's tyrosine kinase (BTK) inhibitor\": 3,\n 'vasopressin receptor antagonist': 4,\n 'sterol demethylase inhibitor': 7,\n 'nucleoside reverse transcriptase inhibitor': 6,\n 'cannabinoid receptor agonist': 3,\n 'FGFR inhibitor': 1,\n 'inositol monophosphatase inhibitor': 1,\n 'protein synthesis stimulant': 3,\n 'histamine receptor agonist|leukotriene receptor antagonist|phosphodiesterase inhibitor': 1,\n 'MAP kinase inhibitor': 1,\n 'histamine receptor modulator': 2,\n 'estrogen receptor antagonist': 2,\n 'SRC inhibitor|tubulin polymerization inhibitor': 1,\n 'renin inhibitor': 2,\n 'thyroid hormone stimulant': 1,\n 'elastase inhibitor': 2,\n 'ATP channel blocker': 3,\n 'interleukin receptor agonist': 1,\n 'TRPV antagonist': 2,\n 'cannabinoid receptor inverse agonist': 2,\n 'MDM inhibitor': 3,\n 'nitric oxide stimulant': 2,\n 'angiogenesis inhibitor|tumor necrosis factor production inhibitor': 2,\n 'adrenergic inhibitor': 2,\n 'estrogen receptor agonist|glucocorticoid receptor antagonist|progesterone receptor agonist|progesterone receptor antagonist': 2,\n 'MRP inhibitor|P glycoprotein inhibitor': 1,\n 'serotoninâ\\x80\\x93norepinephrine reuptake inhibitor (SNRI)': 2,\n 'adrenergic receptor agonist|imidazoline receptor agonist': 1,\n 'thymidine phosphorylase inhibitor': 1,\n 'sulfonylurea': 2,\n 'membrane permeability inhibitor': 2,\n 'SRC inhibitor|VEGFR inhibitor': 1,\n 'RNA polymerase inhibitor': 7,\n 'gamma glutamyltransferase inhibitor': 1,\n 'anti-pneumocystis agent': 1,\n 'CDK inhibitor': 8,\n 'FLT3 inhibitor|KIT inhibitor|PKC inhibitor': 1,\n 'glycine transporter inhibitor': 3,\n 'acetylcholinesterase inhibitor|monoamine oxidase inhibitor': 1,\n 'STAT inhibitor': 1,\n 'progestogen hormone': 1,\n 'angiogenesis inhibitor|S100A9 inhibitor': 1,\n 'LDL receptor activator': 1,\n 'AXL kinase inhibitor': 1,\n 'chemoreceptor agonist': 1,\n 'alpha mannosidase inhibitor': 1,\n 'cyclooxygenase inhibitor|NFkB pathway inhibitor': 1,\n 'interleukin receptor antagonist|STAT inhibitor': 1,\n 'mucolytic agent': 2,\n 'pyruvate dehydrogenase inhibitor': 1,\n 'GABA receptor antagonist|serotonin receptor antagonist': 1,\n 'microtubule stabilizing agent': 1,\n 'local anesthetic': 1,\n 'isocitrate dehydrogenase inhibitor': 2,\n 'antitumor agent|ribonucleotide reductase inhibitor': 1,\n 'procollagen C-endopeptidase inhibitor': 1,\n 'serine protease inhibitor': 1,\n 'microtubule inhibitor': 4,\n 'KATP activator|Kir6 channel (KATP) activator|vasodilator': 1,\n 'EGFR inhibitor|protein tyrosine kinase inhibitor': 2,\n 'polarization inhibitor': 1,\n 'insulin sensitizer|PPAR receptor partial agonist': 1,\n 'neprilysin inhibitor': 2,\n 'estrogen receptor agonist|estrogenic hormone': 2,\n 'potassium channel blocker|sodium channel blocker': 1,\n 'DNA synthesis inhibitor|microtubule inhibitor': 1,\n 'purinergic receptor antagonist': 2,\n 'androgen biosynthesis inhibitor|androgen receptor antagonist|cytochrome P450 inhibitor': 1,\n 'dopamine receptor partial agonist': 1,\n 'insulin sensitizer': 3,\n 'mucus protecting agent': 1,\n 'growth hormone secretagogue receptor agonist': 2,\n 'aryl hydrocarbon receptor agonist|indoleamine 2,3-dioxygenase inhibitor': 1,\n 'norepinephrine reputake inhibitor': 1,\n 'androgen receptor agonist': 1,\n 'adenosine receptor antagonist|phosphodiesterase inhibitor': 1,\n 'serotonin reuptake inhibitor': 2,\n 'calcium sensitizer': 1,\n 'VEGFR inhibitor': 4,\n 'benzodiazepine receptor antagonist': 3,\n 'ATP channel activator|potassium channel activator': 1,\n 'hemoglobin oxygen release stimulant': 1,\n 'CHK inhibitor|cytochrome P450 activator|indoleamine 2,3-dioxygenase inhibitor': 1,\n 'platelet aggregation inhibitor|structural glycoprotein antagonist': 1,\n 'norepinephrine reputake inhibitor|serotonin reuptake inhibitor': 1,\n 'apoptosis stimulant|NFkB pathway inhibitor': 1,\n 'FGFR inhibitor|KIT inhibitor|PDGFR tyrosine kinase receptor inhibitor|VEGFR inhibitor': 1,\n 'AXL kinase inhibitor|c-Met inhibitor|FLT3 inhibitor|hepatocyte growth factor receptor inhibitor|macrophage migration inhibiting factor inhibitor|tyrosine kinase inhibitor': 1,\n 'benzodiazepine receptor agonist|HDAC inhibitor': 1,\n 'interleukin synthesis inhibitor': 1,\n 'tricyclic antidepressant': 2,\n 'adrenergic receptor agonist|serotonin receptor agonist': 1,\n 'apoptosis stimulant': 1,\n 'potassium channel activator': 5,\n 'bile acid': 1,\n 'focal adhesion kinase inhibitor': 2,\n 'immunostimulant': 2,\n 'ATPase inhibitor|gastrin inhibitor': 1,\n 'thioredoxin inhibitor': 1,\n 'anticancer agent|aryl hydrocarbon receptor antagonist': 1,\n 'enzyme inducer': 1,\n 'p21 activated kinase inhibitor': 1,\n 'solute carrier family member inhibitor': 1,\n 'leukotriene synthesis inhibitor': 2,\n 'biliverdin reductase A activator|G protein-coupled receptor agonist': 1,\n 'farnesyltransferase inhibitor': 3,\n 'glucocorticoid receptor agonist|immunosuppressant': 1,\n 'antibacterial agent': 1,\n 'c-Met inhibitor': 2,\n 'FGFR inhibitor|PDGFR tyrosine kinase receptor inhibitor|VEGFR inhibitor': 2,\n 'GK0582 inhibitor': 1,\n 'rho associated kinase inhibitor': 4,\n 'cytomegalovirus inhibitor|protein kinase inhibitor': 1,\n 'CDK inhibitor|growth factor receptor inhibitor': 1,\n 'antimalarial agent|DNA inhibitor': 1,\n 'nematocide': 1,\n 'ATP channel blocker|insulin secretagogue': 1,\n 'calcitonin antagonist': 3,\n 'hydantoin antiepileptic': 1,\n 'BCL inhibitor': 3,\n 'alcohol dehydrogenase inhibitor': 2,\n 'oxidizing agent': 1,\n 'lipoxygenase inhibitor': 3,\n 'lipase inhibitor': 2,\n 'adenosine reuptake inhibitor|phosphodiesterase inhibitor': 1,\n 'Aurora kinase inhibitor|Bcr-Abl kinase inhibitor|FLT3 inhibitor|JAK inhibitor': 1,\n 'somatostatin receptor agonist': 1,\n 'cyclooxygenase inhibitor|lipoxygenase inhibitor': 1,\n 'GABA uptake inhibitor': 1,\n 'NAD precursor|vitamin B': 1,\n 'carbamoyl phosphate synthase activator': 1,\n 'toll-like receptor inhibitor': 1,\n 'adrenergic inhibitor|norepinephrine reuptake inhibitor|serotoninâ\\x80\\x93norepinephrine reuptake inhibitor (SNRI)': 1,\n 'lanosterol demethylase inhibitor|sterol demethylase inhibitor': 1,\n 'cyclooxygenase inhibitor|histone acetyltransferase inhibitor|lipoxygenase inhibitor|NFkB pathway inhibitor': 1,\n 'troponin activator': 1,\n 'RET tyrosine kinase inhibitor|VEGFR inhibitor': 1,\n 'cytochrome P450 inhibitor|protein synthesis inhibitor': 1,\n 'CFTR channel potentiator': 1,\n 'phosphodiesterase inhibitor|sodium channel blocker': 1,\n 'maternal embryonic leucine zipper kinase inhibitor': 1,\n 'serotonin receptor agonist|serotonin receptor antagonist': 3,\n 'pharmacological chaperone': 1,\n 'WEE1 kinase inhibitor': 1,\n 'antithyroid agent': 2,\n 'penicillin binding protein inhibitor': 1,\n 'NADPH oxidase inhibitor': 1,\n 'prostacyclin analog': 1,\n 'RNA synthesis inhibitor': 2,\n 'constitutive androstane receptor (CAR) agonist': 1,\n 'AKT inhibitor|mTOR inhibitor': 1,\n 'ATPase inhibitor|NFkB pathway inhibitor|STAT inhibitor': 1,\n 'tumor necrosis factor production inhibitor': 2,\n 'DNA directed DNA polymerase inhibitor': 3,\n 'DNA directed DNA polymerase inhibitor|thymidylate synthase inhibitor': 1,\n 'sodium channel activator': 1,\n 'adrenergic receptor antagonist|serotonin receptor antagonist': 1,\n '3beta-hydroxy-delta5-steroid dehydrogenase inhibitor': 1,\n 'hedgehog pathway inhibitor|smoothened receptor antagonist': 1,\n 'bacterial antifolate': 2,\n 'diuretic': 3,\n 'chloride channel antagonist': 1,\n 'guanylate cyclase stimulant': 2,\n 'ACAT inhibitor|sterol regulatory element binding protein (SREBP) inhibitor': 1,\n 'plasminogen activator inhibitor': 1,\n 'AGE inhibitor': 1,\n 'kainate receptor antagonist': 1,\n 'GAT inhibitor': 1,\n 'aldose reductase inhibitor': 2,\n 'cholesterol inhibitor|lipase clearing factor inhibitor': 1,\n 'leukotriene receptor antagonist': 5,\n 'gonadotropin releasing factor hormone receptor agonist': 2,\n 'adrenergic receptor agonist|carbonic anhydrase activator|neurotransmitter': 1,\n 'glutamate receptor negative allosteric modulator': 1,\n 'PLK inhibitor': 5,\n 'tachykinin antagonist': 6,\n 'acetylcholine receptor agonist|benzodiazepine receptor agonist': 1,\n 'opioid receptor agonist|opioid receptor antagonist': 1,\n 'FLT3 inhibitor|KIT inhibitor|PDGFR tyrosine kinase receptor inhibitor|RAD51 inhibitor|RET tyrosine kinase inhibitor': 1,\n 'thromboxane receptor antagonist|thromboxane synthase inhibitor': 1,\n 'sigma receptor agonist': 2,\n 'DNA alkylating agent|DNA synthesis inhibitor': 1,\n 'vasopressin receptor agonist': 1,\n 'lactamase inhibitor': 1,\n 'chloride channel blocker|GABA gated chloride channel blocker': 1,\n 'voltage-gated sodium channel modulator': 1,\n 'G protein-coupled receptor agonist': 1,\n 'angiotensin receptor agonist': 1,\n 'JNK inhibitor': 2,\n 'sodium channel blocker|T-type calcium channel blocker': 1,\n 'Bcr-Abl kinase inhibitor|ephrin inhibitor|KIT inhibitor|PDGFR tyrosine kinase receptor inhibitor|SRC inhibitor|tyrosine kinase inhibitor': 1,\n 'purine antagonist': 2,\n 'platelet aggregation inhibitor': 2,\n 'GABA receptor antagonist|GABA receptor modulator': 1,\n 'smoothened receptor antagonist': 1,\n 'gamma secretase modulator': 1,\n 'TRPV agonist': 1,\n 'metalloproteinase inhibitor': 1,\n 'cytokine production inhibitor|NFkB pathway inhibitor|TP53 activator': 1,\n 'calcium sensitizer|phosphodiesterase inhibitor': 1,\n 'benzodiazepine receptor ligand': 1,\n 'calcium channel activator': 1,\n 'microtubule inhibitor|tubulin polymerization inhibitor': 1,\n 'adenosine reuptake inhibitor': 1,\n 'D-amino acid oxidase Inhibitor': 1,\n 'cadherin antagonist': 1,\n 'NADPH inhibitor': 1,\n 'CRTH receptor antagonist': 1,\n 'serotonin receptor inverse agonist': 1,\n 'ion channel antagonist': 1,\n 'DNA synthesis inhibitor|T cell inhibitor': 1,\n 'KIT inhibitor|PDGFR tyrosine kinase receptor inhibitor|VEGFR inhibitor': 2,\n 'AP inhibitor': 1,\n 'IGF-1 inhibitor': 1,\n 'KIT inhibitor|VEGFR inhibitor': 1,\n 'MALT1 inhibitor (JH)': 1,\n 'DNA directed DNA polymerase inhibitor|DNA synthesis inhibitor': 1,\n 'cytidine deaminase inhibitor': 1,\n 'casein kinase inhibitor': 1,\n 'Abl kinase inhibitor|Bcr-Abl kinase inhibitor': 1,\n 'beta amyloid protein neurotoxicity inhibitor': 1,\n 'bacterial 30S ribosomal subunit inhibitor|bacterial 50S ribosomal subunit inhibitor': 1,\n 'melatonin receptor agonist|serotonin receptor antagonist': 1,\n 'orexin receptor antagonist': 1,\n 'CFTR channel antagonist': 1,\n 'thyroid hormone receptor agonist': 1,\n 'CHK inhibitor': 1,\n 'FAAH inhibitor': 1,\n 'calcineurin inhibitor': 3,\n 'dopamine receptor agonist|serotonin receptor antagonist': 1,\n 'acetylcholine precursor': 1,\n 'nedd activating enzyme inhibitor': 1,\n 'benzodiazepine receptor agonist|GABA benzodiazepine site receptor partial agonist': 1,\n 'microtubule stabilizing agent|tubulin polymerization inhibitor': 1,\n 'Aurora kinase inhibitor|FLT3 inhibitor|VEGFR inhibitor': 1,\n 'kinesin-like spindle protein inhibitor': 1,\n 'PKC activator': 2,\n 'CFTR channel agonist': 2,\n 'adrenergic receptor antagonist|serotonin receptor antagonist|serotonin reuptake inhibitor': 1,\n 'KIT inhibitor|PDGFR tyrosine kinase receptor inhibitor|SRC inhibitor': 1,\n 'oxidative stress inducer': 1,\n 'neurotransmitter agonist': 1,\n 'leukotriene receptor antagonist|lipoxygenase inhibitor': 1,\n 'acetylcholinesterase inhibitor|microtubule inhibitor': 1,\n 'PPAR receptor antagonist': 1,\n 'bacterial permeability inducer': 1,\n 'ACAT inhibitor': 3,\n 'interleukin inhibitor': 1,\n 'DNA methylase inhibitor|protein synthesis inhibitor': 1,\n 'norepinephrine reuptake inhibitor|serotoninâ\\x80\\x93norepinephrine reuptake inhibitor (SNRI)': 1,\n 'carboxamide antiepileptic': 1,\n 'atherogenesis inhibitor': 1,\n 'nitric oxide donor': 2,\n 'DNA inhibitor|topoisomerase inhibitor': 1,\n 'phosphorylase inhibitor': 1,\n 'antioxidant|capillary stabilizing agent|nitric oxide scavenger': 1,\n 'adenosylhomocysteinase inhibitor': 1,\n 'antiamyloidogenic agent': 1,\n 'IKK inhibitor|NFkB pathway inhibitor': 1,\n 'cholinergic receptor agonist': 1,\n 'PDGFR tyrosine kinase receptor inhibitor|VEGFR inhibitor': 2,\n 'progesterone receptor antagonist': 2,\n 'cyclooxygenase inhibitor|opioid receptor agonist': 1,\n 'glycogen synthase kinase inhibitor': 1,\n 'glucokinase inhibitor': 1,\n 'dihydroorotate dehydrogenase inhibitor|PDGFR tyrosine kinase receptor inhibitor': 1,\n 'SIRT inhibitor': 1,\n 'fungal 1,3-beta-D-glucan synthase inhibitor': 1,\n 'antiviral|RNA synthesis inhibitor': 1,\n 'apoptosis stimulant|ribonucleotide reductase inhibitor': 1,\n 'androgen receptor agonist|estrogen receptor agonist|progesterone receptor agonist': 1,\n '11-beta hydroxysteroid dehydrogenase inhibitor': 1,\n 'guanylate cyclase activator': 1,\n 'TRPA1 channel blocker': 1,\n 'toll-like receptor agonist': 1,\n 'EGFR inhibitor|RET tyrosine kinase inhibitor|VEGFR inhibitor': 1,\n 'mitochondrial DNA polymerase inhibitor|phosphatase inhibitor': 1,\n 'antimetabolite': 1,\n 'antacid': 1,\n 'bradykinin receptor antagonist|tubulin polymerization inhibitor': 1,\n 'microsomal trigylceride transfer protein inhibitor': 1,\n 'peptidase inhibitor': 1,\n 'beta glucuronidase inhibitor': 1,\n 'adenosine receptor agonist|cAMP stimulant': 1,\n 'pyruvate dehydrogenase kinase inhibitor': 1,\n 'lipase clearing factor inhibitor': 1,\n 'DNA synthesis inhibitor|thymidylate synthase inhibitor': 1,\n '3-ketoacyl CoA thiolase inhibitor': 1,\n 'FLT3 inhibitor|KIT inhibitor|PDGFR tyrosine kinase receptor inhibitor': 1,\n 'selective estrogen receptor modulator (SERM)': 1,\n 'histamine receptor agonist|histamine receptor antagonist': 1,\n 'immunosuppressant|protein synthesis inhibitor|purine antagonist': 1,\n 'thiazide diuretic': 1,\n 'other antibiotic': 1,\n 'Bcr-Abl kinase inhibitor|KIT inhibitor|PDGFR tyrosine kinase receptor inhibitor': 1,\n 'adenosine deaminase inhibitor|ribonucleotide reductase inhibitor': 1,\n 'RAF inhibitor|VEGFR inhibitor': 1,\n 'indoleamine 2,3-dioxygenase inhibitor': 1,\n 'neuraminidase inhibitor': 1,\n 'DNA directed DNA polymerase inhibitor|nucleoside reverse transcriptase inhibitor': 1,\n 'CMV terminase inhibitor': 1,\n 'aryl hydrocarbon receptor agonist|capillary stabilizing agent': 1,\n 'PDGFR tyrosine kinase receptor inhibitor': 1,\n 'melatonin receptor agonist|nitric oxide synthase inhibitor': 1,\n 'CD antagonist': 1,\n 'histamine receptor antagonist|platelet activating factor receptor antagonist': 1,\n 'estrogen receptor antagonist|progesterone receptor agonist': 1,\n 'fungal lanosterol demethylase inhibitor': 1,\n 'norepinephrine reuptake inhibitor': 1,\n 'ornithine decarboxylase inhibitor': 1,\n 'dehydrogenase inhibitor|inositol monophosphatase inhibitor': 2,\n 'dopamine reuptake inhibitor|glutamate inhibitor|monoamine oxidase inhibitor': 1,\n 'angiotensin converting enzyme activator': 1,\n 'serotonin receptor antagonist|sodium channel blocker': 1,\n 'bone resorption inhibitor': 1,\n 'flavanone glycoside': 1,\n 'FLT3 inhibitor': 1,\n 'antiviral': 1,\n 'CFTR channel agonist|dystrophin stimulant': 1,\n 'uricosuric blocker': 1,\n 'vesicular monoamine transporter inhibitor': 2,\n 'GABA benzodiazepine site receptor partial agonist': 1,\n 'polar auxin transport inhibitor': 1,\n 'adrenergic receptor antagonist|prolactin inhibitor': 1}"
     },
     "execution_count": 5,
     "metadata": {},
     "output_type": "execute_result"
    }
   ],
   "source": [
    "dic\n"
   ],
   "metadata": {
    "collapsed": false,
    "pycharm": {
     "name": "#%%\n"
    }
   }
  },
  {
   "cell_type": "code",
   "execution_count": 11,
   "outputs": [
    {
     "name": "stdout",
     "output_type": "stream",
     "text": [
      "0: 0\n",
      "1: 366\n",
      "2: 84\n",
      "3: 41\n",
      "4: 24\n",
      "5: 26\n",
      "6: 18\n",
      "7: 13\n",
      "8: 5\n",
      "9: 2\n",
      "10: 4\n",
      "11: 2\n",
      "12: 2\n",
      "13: 0\n",
      "14: 3\n",
      "15: 1\n",
      "16: 1\n",
      "17: 2\n",
      "18: 0\n",
      "19: 0\n"
     ]
    }
   ],
   "source": [
    "for n in range(20):\n",
    "    print(f'{n}: {list(dic.values()).count(n)}')"
   ],
   "metadata": {
    "collapsed": false,
    "pycharm": {
     "name": "#%%\n"
    }
   }
  },
  {
   "cell_type": "code",
   "execution_count": null,
   "outputs": [],
   "source": [],
   "metadata": {
    "collapsed": false,
    "pycharm": {
     "name": "#%%\n"
    }
   }
  }
 ],
 "metadata": {
  "kernelspec": {
   "display_name": "Python 3",
   "language": "python",
   "name": "python3"
  },
  "language_info": {
   "codemirror_mode": {
    "name": "ipython",
    "version": 2
   },
   "file_extension": ".py",
   "mimetype": "text/x-python",
   "name": "python",
   "nbconvert_exporter": "python",
   "pygments_lexer": "ipython2",
   "version": "2.7.6"
  }
 },
 "nbformat": 4,
 "nbformat_minor": 0
}