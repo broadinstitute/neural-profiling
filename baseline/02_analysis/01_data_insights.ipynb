{
 "cells": [
  {
   "cell_type": "markdown",
   "metadata": {
    "collapsed": true,
    "pycharm": {
     "name": "#%% md\n"
    }
   },
   "source": [
    "# Data insights\n",
    "We are analysing the Level 5 data from the LINCS Github:\n",
    "https://github.com/broadinstitute/lincs-cell-painting/tree/master/consensus/2016_04_01_a549_48hr_batch1\n",
    "\n",
    "This notebook will simply give some insight into the data for later analysis."
   ]
  },
  {
   "cell_type": "code",
   "execution_count": 5,
   "outputs": [],
   "source": [
    "import os\n",
    "import pandas as pd\n",
    "import numpy as np\n",
    "import matplotlib.pyplot as plt\n",
    "from cytominer_eval import evaluate\n",
    "from pycytominer.cyto_utils import infer_cp_features\n",
    "from cytominer_eval.transform import metric_melt\n",
    "from sklearn.decomposition import PCA\n",
    "import seaborn as sns\n"
   ],
   "metadata": {
    "collapsed": false,
    "pycharm": {
     "name": "#%%\n"
    }
   }
  },
  {
   "cell_type": "code",
   "execution_count": 19,
   "outputs": [
    {
     "name": "stdout",
     "output_type": "stream",
     "text": [
      "Shape:  (10752, 528)\n"
     ]
    },
    {
     "data": {
      "text/plain": "  Metadata_Plate_Map_Name Metadata_cell_id   Metadata_broad_sample  \\\n0       C-7161-01-LM6-001             A549  BRD-A25234499-001-18-3   \n1       C-7161-01-LM6-001             A549  BRD-A25234499-001-18-3   \n2       C-7161-01-LM6-001             A549  BRD-A25234499-001-18-3   \n3       C-7161-01-LM6-001             A549  BRD-A25234499-001-18-3   \n4       C-7161-01-LM6-001             A549  BRD-A25234499-001-18-3   \n\n  Metadata_pert_well  Metadata_mmoles_per_liter  Metadata_dose_recode  \\\n0                B13                   10.00000                     6   \n1                B14                    3.33330                     5   \n2                B15                    1.11110                     4   \n3                B16                    0.37037                     3   \n4                B17                    0.12346                     2   \n\n  Metadata_time_point                        Metadata_moa  Metadata_target  \\\n0                 48H  glucocorticoid receptor antagonist  CYP11A1|CYP19A1   \n1                 48H  glucocorticoid receptor antagonist  CYP11A1|CYP19A1   \n2                 48H  glucocorticoid receptor antagonist  CYP11A1|CYP19A1   \n3                 48H  glucocorticoid receptor antagonist  CYP11A1|CYP19A1   \n4                 48H  glucocorticoid receptor antagonist  CYP11A1|CYP19A1   \n\n   Cells_AreaShape_Area  ...  Nuclei_Texture_InverseDifferenceMoment_RNA_10_0  \\\n0              0.344670  ...                                        -0.302193   \n1              0.488995  ...                                        -0.498673   \n2              0.505526  ...                                        -0.250714   \n3              0.092069  ...                                        -0.338021   \n4              0.705527  ...                                        -0.277073   \n\n   Nuclei_Texture_InverseDifferenceMoment_RNA_20_0  \\\n0                                        -0.262680   \n1                                         0.301335   \n2                                        -0.020691   \n3                                         0.568476   \n4                                         0.775823   \n\n   Nuclei_Texture_SumAverage_DNA_20_0  Nuclei_Texture_SumAverage_Mito_5_0  \\\n0                           -0.643318                           -0.307924   \n1                           -0.161695                           -2.046360   \n2                            0.722674                           -0.759924   \n3                           -0.552219                           -0.770124   \n4                           -0.895731                           -0.762473   \n\n   Nuclei_Texture_SumAverage_RNA_20_0  Nuclei_Texture_SumEntropy_DNA_10_0  \\\n0                           -0.263607                           -0.771062   \n1                           -0.147213                           -0.230816   \n2                           -0.012077                           -0.270183   \n3                           -0.391011                           -0.667111   \n4                           -0.429907                           -0.214208   \n\n   Nuclei_Texture_SumEntropy_DNA_20_0  Nuclei_Texture_SumEntropy_DNA_5_0  \\\n0                           -0.622449                          -0.968180   \n1                           -0.157423                          -0.247806   \n2                           -0.134932                          -0.359148   \n3                           -0.517957                          -0.674251   \n4                           -0.198268                          -0.241933   \n\n   Nuclei_Texture_SumEntropy_RNA_5_0  Nuclei_Texture_Variance_RNA_10_0  \n0                           0.087257                          0.691044  \n1                           0.243377                         -1.196500  \n2                           0.276299                         -0.796096  \n3                           0.022910                         -0.944185  \n4                           0.026242                         -0.849128  \n\n[5 rows x 528 columns]",
      "text/html": "<div>\n<style scoped>\n    .dataframe tbody tr th:only-of-type {\n        vertical-align: middle;\n    }\n\n    .dataframe tbody tr th {\n        vertical-align: top;\n    }\n\n    .dataframe thead th {\n        text-align: right;\n    }\n</style>\n<table border=\"1\" class=\"dataframe\">\n  <thead>\n    <tr style=\"text-align: right;\">\n      <th></th>\n      <th>Metadata_Plate_Map_Name</th>\n      <th>Metadata_cell_id</th>\n      <th>Metadata_broad_sample</th>\n      <th>Metadata_pert_well</th>\n      <th>Metadata_mmoles_per_liter</th>\n      <th>Metadata_dose_recode</th>\n      <th>Metadata_time_point</th>\n      <th>Metadata_moa</th>\n      <th>Metadata_target</th>\n      <th>Cells_AreaShape_Area</th>\n      <th>...</th>\n      <th>Nuclei_Texture_InverseDifferenceMoment_RNA_10_0</th>\n      <th>Nuclei_Texture_InverseDifferenceMoment_RNA_20_0</th>\n      <th>Nuclei_Texture_SumAverage_DNA_20_0</th>\n      <th>Nuclei_Texture_SumAverage_Mito_5_0</th>\n      <th>Nuclei_Texture_SumAverage_RNA_20_0</th>\n      <th>Nuclei_Texture_SumEntropy_DNA_10_0</th>\n      <th>Nuclei_Texture_SumEntropy_DNA_20_0</th>\n      <th>Nuclei_Texture_SumEntropy_DNA_5_0</th>\n      <th>Nuclei_Texture_SumEntropy_RNA_5_0</th>\n      <th>Nuclei_Texture_Variance_RNA_10_0</th>\n    </tr>\n  </thead>\n  <tbody>\n    <tr>\n      <th>0</th>\n      <td>C-7161-01-LM6-001</td>\n      <td>A549</td>\n      <td>BRD-A25234499-001-18-3</td>\n      <td>B13</td>\n      <td>10.00000</td>\n      <td>6</td>\n      <td>48H</td>\n      <td>glucocorticoid receptor antagonist</td>\n      <td>CYP11A1|CYP19A1</td>\n      <td>0.344670</td>\n      <td>...</td>\n      <td>-0.302193</td>\n      <td>-0.262680</td>\n      <td>-0.643318</td>\n      <td>-0.307924</td>\n      <td>-0.263607</td>\n      <td>-0.771062</td>\n      <td>-0.622449</td>\n      <td>-0.968180</td>\n      <td>0.087257</td>\n      <td>0.691044</td>\n    </tr>\n    <tr>\n      <th>1</th>\n      <td>C-7161-01-LM6-001</td>\n      <td>A549</td>\n      <td>BRD-A25234499-001-18-3</td>\n      <td>B14</td>\n      <td>3.33330</td>\n      <td>5</td>\n      <td>48H</td>\n      <td>glucocorticoid receptor antagonist</td>\n      <td>CYP11A1|CYP19A1</td>\n      <td>0.488995</td>\n      <td>...</td>\n      <td>-0.498673</td>\n      <td>0.301335</td>\n      <td>-0.161695</td>\n      <td>-2.046360</td>\n      <td>-0.147213</td>\n      <td>-0.230816</td>\n      <td>-0.157423</td>\n      <td>-0.247806</td>\n      <td>0.243377</td>\n      <td>-1.196500</td>\n    </tr>\n    <tr>\n      <th>2</th>\n      <td>C-7161-01-LM6-001</td>\n      <td>A549</td>\n      <td>BRD-A25234499-001-18-3</td>\n      <td>B15</td>\n      <td>1.11110</td>\n      <td>4</td>\n      <td>48H</td>\n      <td>glucocorticoid receptor antagonist</td>\n      <td>CYP11A1|CYP19A1</td>\n      <td>0.505526</td>\n      <td>...</td>\n      <td>-0.250714</td>\n      <td>-0.020691</td>\n      <td>0.722674</td>\n      <td>-0.759924</td>\n      <td>-0.012077</td>\n      <td>-0.270183</td>\n      <td>-0.134932</td>\n      <td>-0.359148</td>\n      <td>0.276299</td>\n      <td>-0.796096</td>\n    </tr>\n    <tr>\n      <th>3</th>\n      <td>C-7161-01-LM6-001</td>\n      <td>A549</td>\n      <td>BRD-A25234499-001-18-3</td>\n      <td>B16</td>\n      <td>0.37037</td>\n      <td>3</td>\n      <td>48H</td>\n      <td>glucocorticoid receptor antagonist</td>\n      <td>CYP11A1|CYP19A1</td>\n      <td>0.092069</td>\n      <td>...</td>\n      <td>-0.338021</td>\n      <td>0.568476</td>\n      <td>-0.552219</td>\n      <td>-0.770124</td>\n      <td>-0.391011</td>\n      <td>-0.667111</td>\n      <td>-0.517957</td>\n      <td>-0.674251</td>\n      <td>0.022910</td>\n      <td>-0.944185</td>\n    </tr>\n    <tr>\n      <th>4</th>\n      <td>C-7161-01-LM6-001</td>\n      <td>A549</td>\n      <td>BRD-A25234499-001-18-3</td>\n      <td>B17</td>\n      <td>0.12346</td>\n      <td>2</td>\n      <td>48H</td>\n      <td>glucocorticoid receptor antagonist</td>\n      <td>CYP11A1|CYP19A1</td>\n      <td>0.705527</td>\n      <td>...</td>\n      <td>-0.277073</td>\n      <td>0.775823</td>\n      <td>-0.895731</td>\n      <td>-0.762473</td>\n      <td>-0.429907</td>\n      <td>-0.214208</td>\n      <td>-0.198268</td>\n      <td>-0.241933</td>\n      <td>0.026242</td>\n      <td>-0.849128</td>\n    </tr>\n  </tbody>\n</table>\n<p>5 rows × 528 columns</p>\n</div>"
     },
     "execution_count": 19,
     "metadata": {},
     "output_type": "execute_result"
    }
   ],
   "source": [
    "data_dir = '../01_data/2016_04_01_a549_48hr_batch1_consensus_modz_feature_select_dmso.csv.gz'\n",
    "df = pd.read_csv(data_dir)\n",
    "print('Shape: ', df.shape)\n",
    "df.head(5)"
   ],
   "metadata": {
    "collapsed": false,
    "pycharm": {
     "name": "#%%\n"
    }
   }
  },
  {
   "cell_type": "code",
   "execution_count": 20,
   "outputs": [
    {
     "name": "stdout",
     "output_type": "stream",
     "text": [
      "Metadata features:\n",
      " ['Metadata_Plate_Map_Name', 'Metadata_cell_id', 'Metadata_broad_sample', 'Metadata_pert_well', 'Metadata_mmoles_per_liter', 'Metadata_dose_recode', 'Metadata_time_point', 'Metadata_moa', 'Metadata_target']\n",
      "Nr of features:  519\n"
     ]
    }
   ],
   "source": [
    "features = infer_cp_features(df)\n",
    "meta_features = infer_cp_features(df, metadata=True)\n",
    "print('Metadata features:\\n',meta_features)\n",
    "print('Nr of features: ', len(features))"
   ],
   "metadata": {
    "collapsed": false,
    "pycharm": {
     "name": "#%%\n"
    }
   }
  },
  {
   "cell_type": "markdown",
   "source": [
    "### Pertubations\n",
    "The original data was made from 136 plate with 384 wells each.\n",
    "However, since this is aggregated data, the plate names are not relevant anymore.\n",
    "\n",
    "As can be seen below, the DMSO and positive controls are still in the data. These three compounds may not be added to the  final analysis since they are meant for normalization.\n",
    "\n",
    "Negative control: DMSO\n",
    "Positive control 1: BRD-K60230970-001-10-0\n",
    "Positive control 2: BRD-K50691590-001-02-2"
   ],
   "metadata": {
    "collapsed": false,
    "pycharm": {
     "name": "#%% md\n"
    }
   }
  },
  {
   "cell_type": "code",
   "execution_count": 43,
   "outputs": [
    {
     "name": "stdout",
     "output_type": "stream",
     "text": [
      "Nr of different pertubations:  1571\n"
     ]
    },
    {
     "data": {
      "text/plain": "DMSO                      672\nBRD-K60230970-001-10-0    336\nBRD-K50691590-001-02-2    336\nBRD-K72029282-001-22-0      6\nBRD-A92826379-001-01-5      6\n                         ... \nBRD-K09090949-001-01-9      6\nBRD-K77396579-300-01-0      6\nBRD-K62398570-300-01-2      6\nBRD-K73395020-001-02-3      6\nBRD-K95763993-001-19-3      6\nName: Metadata_broad_sample, Length: 1571, dtype: int64"
     },
     "execution_count": 43,
     "metadata": {},
     "output_type": "execute_result"
    }
   ],
   "source": [
    "print('Nr of different pertubations: ', len(df.Metadata_broad_sample.unique()))\n",
    "df.Metadata_broad_sample.value_counts()"
   ],
   "metadata": {
    "collapsed": false,
    "pycharm": {
     "name": "#%%\n"
    }
   }
  },
  {
   "cell_type": "markdown",
   "source": [
    "### Methods of action\n",
    "The three controls make up the largest MOAs. (unknown, proteasome inhibitor and NFkB pathway inhibitor)\n",
    "Following, are a number of MOA's that have many compounds, while other MOAs only 'have' one compounds.\n",
    "\n",
    "Some compounds have no MOA assigned and this allows us to drop then because they won't be helpful during the analysis."
   ],
   "metadata": {
    "collapsed": false,
    "pycharm": {
     "name": "#%% md\n"
    }
   }
  },
  {
   "cell_type": "code",
   "execution_count": 44,
   "outputs": [
    {
     "name": "stdout",
     "output_type": "stream",
     "text": [
      "Nr of different moa:  602\n"
     ]
    },
    {
     "data": {
      "text/plain": "unknown                                               984\nproteasome inhibitor                                  366\nNFkB pathway inhibitor|proteasome inhibitor           342\nphosphodiesterase inhibitor                           210\nadrenergic receptor antagonist                        198\n                                                     ... \ncatechol O methyltransferase inhibitor                  6\nexportin antagonist                                     6\nphosphodiesterase inhibitor|sodium channel blocker      6\nmucus protecting agent                                  6\nNADPH inhibitor                                         6\nName: Metadata_moa, Length: 602, dtype: int64"
     },
     "execution_count": 44,
     "metadata": {},
     "output_type": "execute_result"
    }
   ],
   "source": [
    "print('Nr of different moa: ', len(df.Metadata_moa.unique()))\n",
    "df.Metadata_moa.value_counts()"
   ],
   "metadata": {
    "collapsed": false,
    "pycharm": {
     "name": "#%%\n"
    }
   }
  },
  {
   "cell_type": "code",
   "execution_count": 13,
   "outputs": [],
   "source": [
    "# We can also create a dict of all moas and how many compounds belong to that MOA.\n",
    "moa_dict = {}\n",
    "for moa in df.Metadata_moa.unique():\n",
    "    moa_dict[moa] = len(df.query(\"Metadata_moa == @moa\").Metadata_broad_sample.unique())"
   ],
   "metadata": {
    "collapsed": false,
    "pycharm": {
     "name": "#%%\n"
    }
   }
  },
  {
   "cell_type": "code",
   "execution_count": 16,
   "outputs": [
    {
     "name": "stdout",
     "output_type": "stream",
     "text": [
      "0: 0\n",
      "1: 366\n",
      "2: 84\n",
      "3: 41\n",
      "4: 24\n",
      "5: 26\n",
      "6: 18\n",
      "7: 13\n",
      "8: 5\n",
      "9: 2\n",
      "10: 4\n",
      "11: 2\n",
      "12: 2\n",
      "13: 0\n",
      "14: 3\n",
      "15: 1\n",
      "16: 1\n",
      "17: 2\n",
      "18: 0\n",
      "19: 0\n"
     ]
    }
   ],
   "source": [
    "for n in range(20):\n",
    "    print(f'{n}: {list(moa_dict.values()).count(n)}')"
   ],
   "metadata": {
    "collapsed": false,
    "pycharm": {
     "name": "#%%\n"
    }
   }
  },
  {
   "cell_type": "markdown",
   "source": [
    "The largest number of MOAs only have on compound. But we can't use these since they will not allow for any replicate evaluation."
   ],
   "metadata": {
    "collapsed": false,
    "pycharm": {
     "name": "#%% md\n"
    }
   }
  },
  {
   "cell_type": "code",
   "execution_count": 22,
   "outputs": [],
   "source": [
    "df = pd.concat(\n",
    " [df.query(\"Metadata_moa != 'unknown'\"),\n",
    " df.query(\"Metadata_broad_sample == 'DMSO'\")],\n",
    "    ignore_index=True\n",
    ")"
   ],
   "metadata": {
    "collapsed": false,
    "pycharm": {
     "name": "#%%\n"
    }
   }
  },
  {
   "cell_type": "markdown",
   "source": [
    "### Concentrations\n",
    "\n",
    "Most compounds have 6 different concentrations, which are defined by the dose record, not by the mmoles per liter.\n",
    "\n",
    "Furthermore, the positive controls have the value code 7 for their concentration.\n",
    "If we thus only query for the concentrations 6 and 0, then we will get the negative controls and one of each pertubation."
   ],
   "metadata": {
    "collapsed": false,
    "pycharm": {
     "name": "#%% md\n"
    }
   }
  },
  {
   "cell_type": "code",
   "execution_count": 23,
   "outputs": [
    {
     "name": "stdout",
     "output_type": "stream",
     "text": [
      "Nr of different mmoles:  87\n",
      "Nr of different dose codes:  8\n",
      "1    1530\n",
      "2    1516\n",
      "3    1516\n",
      "4    1516\n",
      "5    1511\n",
      "6    1507\n",
      "0     672\n",
      "7     672\n",
      "Name: Metadata_dose_recode, dtype: int64\n",
      "BRD-K50691590-001-02-2    336\n",
      "BRD-K60230970-001-10-0    336\n",
      "Name: Metadata_broad_sample, dtype: int64\n"
     ]
    }
   ],
   "source": [
    "print('Nr of different mmoles: ', len(df.Metadata_mmoles_per_liter.unique()))\n",
    "print('Nr of different dose codes: ', len(df.Metadata_dose_recode.unique()))\n",
    "print(df.Metadata_dose_recode.value_counts())\n",
    "print(df.query(\"Metadata_dose_recode == 7\").Metadata_broad_sample.value_counts())"
   ],
   "metadata": {
    "collapsed": false,
    "pycharm": {
     "name": "#%%\n"
    }
   }
  },
  {
   "cell_type": "code",
   "execution_count": 25,
   "outputs": [],
   "source": [
    "df = df.query(\"Metadata_dose_recode == 0 | Metadata_dose_recode == 6 \")"
   ],
   "metadata": {
    "collapsed": false,
    "pycharm": {
     "name": "#%%\n"
    }
   }
  },
  {
   "cell_type": "markdown",
   "source": [
    "## Feature selection\n",
    "\n",
    "When running any kind of replicate similarity evaluation (which is what we are using as a metric) then you will notice some strange behaviour of very high correlations.\n",
    "\n",
    "Here, we show how the similarities are very high due to some very high values accross the feature space."
   ],
   "metadata": {
    "collapsed": false,
    "pycharm": {
     "name": "#%% md\n"
    }
   }
  },
  {
   "cell_type": "code",
   "execution_count": 22,
   "outputs": [],
   "source": [
    "features = infer_cp_features(df)\n",
    "meta_features = infer_cp_features(df, metadata=True)\n",
    "similarity_metric=\"pearson\"\n",
    "operation=\"precision_recall\"\n",
    "\n",
    "similarity_melted_df = metric_melt(\n",
    "            df=df,\n",
    "            features=features,\n",
    "            metadata_features=meta_features,\n",
    "            similarity_metric=similarity_metric,\n",
    "            eval_metric=operation,\n",
    "        )\n",
    "plt.hist(similarity_melted_df.similarity_metric)\n",
    "plt.show()"
   ],
   "metadata": {
    "collapsed": false,
    "pycharm": {
     "name": "#%%\n"
    }
   }
  },
  {
   "cell_type": "markdown",
   "source": [
    "The plot above shows how a very large number of points have similarity 1 or -1. This is due to some features having very large values which dominiate the similarity.\n",
    "\n",
    "Here are two examples: BRD-A26334849-001-06-2, BRD-A25234499-001-18-3\n",
    "\n",
    "The plot below shows how for two randomly selected samples, there is one feature which has a very large value for both samples.\n",
    "These high values stem from the analysis leading up to here where Sphering can create high values.\n",
    "Thus, we want to further drop the features that have these high values.\n",
    "\n",
    "The notebook clean_data shows how I drop the features with high values."
   ],
   "metadata": {
    "collapsed": false,
    "pycharm": {
     "name": "#%% md\n",
     "is_executing": true
    }
   }
  },
  {
   "cell_type": "code",
   "execution_count": 35,
   "outputs": [
    {
     "data": {
      "text/plain": "<Figure size 432x288 with 1 Axes>",
      "image/png": "[encoded data removed]"
     },
     "metadata": {
      "needs_background": "light"
     },
     "output_type": "display_data"
    }
   ],
   "source": [
    "s1 = \"BRD-A26334849-001-06-2\"\n",
    "s2 = \"BRD-A25234499-001-18-3\"\n",
    "test_df = pd.concat([\n",
    "df.query(\"Metadata_broad_sample==@s1  & Metadata_dose_recode == 6\"),\n",
    "df.query(\"Metadata_broad_sample==@s2  & Metadata_dose_recode == 6\")\n",
    "    ], ignore_index=True)\n",
    "test_df = test_df.loc[:, features].T\n",
    "test_df.columns = ['One','Two']\n",
    "\n",
    "ax = plt.gca()\n",
    "ax.plot(test_df['One'] ,test_df['Two'], 'o', c='blue', alpha=0.5)\n",
    "ax.set_xscale('log')\n",
    "ax.set_yscale('log')\n",
    "plt.show()"
   ],
   "metadata": {
    "collapsed": false,
    "pycharm": {
     "name": "#%%\n"
    }
   }
  },
  {
   "cell_type": "markdown",
   "source": [
    "## Other data\n",
    "\n",
    "This files holds the mapping between targets, broad samples IDs, compounds and MOA.\n",
    "https://github.com/broadinstitute/lincs-cell-painting/blob/master/metadata/moa/repurposing_info_external_moa_map_resolved.tsv"
   ],
   "metadata": {
    "collapsed": false,
    "pycharm": {
     "name": "#%% md\n"
    }
   }
  },
  {
   "cell_type": "code",
   "execution_count": 26,
   "outputs": [
    {
     "data": {
      "text/plain": "DMSO                      672\nBRD-K19111024-001-20-9      1\nBRD-K83794243-001-01-8      1\nBRD-K03384561-001-02-7      1\nBRD-A62071884-001-04-6      1\n                         ... \nBRD-K71822263-001-03-2      1\nBRD-K63430059-001-17-2      1\nBRD-K18673820-001-15-5      1\nBRD-K02292852-001-02-1      1\nBRD-A52922642-001-03-7      1\nName: Metadata_broad_sample, Length: 1508, dtype: int64"
     },
     "execution_count": 26,
     "metadata": {},
     "output_type": "execute_result"
    }
   ],
   "source": [
    "df.Metadata_broad_sample.value_counts()\n"
   ],
   "metadata": {
    "collapsed": false,
    "pycharm": {
     "name": "#%%\n"
    }
   }
  },
  {
   "cell_type": "code",
   "execution_count": 16,
   "outputs": [
    {
     "name": "stderr",
     "output_type": "stream",
     "text": [
      "/Users/mbornhol/miniconda3/envs/cyto_eval/lib/python3.7/site-packages/IPython/core/interactiveshell.py:3166: DtypeWarning: Columns (23,24) have mixed types.Specify dtype option on import or set low_memory=False.\n",
      "  interactivity=interactivity, compiler=compiler, result=result)\n"
     ]
    }
   ],
   "source": [],
   "metadata": {
    "collapsed": false,
    "pycharm": {
     "name": "#%%\n"
    }
   }
  }
 ],
 "metadata": {
  "kernelspec": {
   "display_name": "Python 3",
   "language": "python",
   "name": "python3"
  },
  "language_info": {
   "codemirror_mode": {
    "name": "ipython",
    "version": 2
   },
   "file_extension": ".py",
   "mimetype": "text/x-python",
   "name": "python",
   "nbconvert_exporter": "python",
   "pygments_lexer": "ipython2",
   "version": "2.7.6"
  }
 },
 "nbformat": 4,
 "nbformat_minor": 0
}