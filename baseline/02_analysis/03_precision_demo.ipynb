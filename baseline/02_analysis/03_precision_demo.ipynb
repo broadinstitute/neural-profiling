{
 "cells": [
  {
   "cell_type": "markdown",
   "metadata": {
    "collapsed": true,
    "pycharm": {
     "name": "#%% md\n"
    }
   },
   "source": [
    "# Precision recall analysis\n",
    "\n",
    "Use cytominer_eval to calculate average precision @k"
   ]
  },
  {
   "cell_type": "code",
   "execution_count": 1,
   "outputs": [],
   "source": [
    "import pandas as pd\n",
    "import numpy as np\n",
    "from cytominer_eval import evaluate\n",
    "from pycytominer.cyto_utils import infer_cp_features\n",
    "import matplotlib.pyplot as plt\n",
    "import pandas as pd\n",
    "import sys\n",
    "sys.path.insert(0, \"/Users/mbornhol/git/neural-profiling\")\n",
    "from utils import data_selection as ds"
   ],
   "metadata": {
    "collapsed": false,
    "pycharm": {
     "name": "#%%\n"
    }
   }
  },
  {
   "cell_type": "code",
   "execution_count": 2,
   "outputs": [],
   "source": [
    "data_dir = '../01_data/2016_04_01_a549_48hr_batch1_consensus_modz_feature_select_dmso.csv.gz'\n",
    "df = pd.read_csv(data_dir)"
   ],
   "metadata": {
    "collapsed": false,
    "pycharm": {
     "name": "#%%\n"
    }
   }
  },
  {
   "cell_type": "code",
   "execution_count": 3,
   "outputs": [
    {
     "name": "stdout",
     "output_type": "stream",
     "text": [
      "dropped 59 features\n"
     ]
    },
    {
     "data": {
      "text/plain": "  Metadata_Plate_Map_Name Metadata_cell_id   Metadata_broad_sample  \\\n1       C-7161-01-LM6-001             A549  BRD-A26032986-050-02-1   \n2       C-7161-01-LM6-001             A549  BRD-A26095496-001-04-0   \n4       C-7161-01-LM6-001             A549  BRD-A26690767-066-01-9   \n5       C-7161-01-LM6-001             A549  BRD-A26711594-003-10-6   \n7       C-7161-01-LM6-001             A549  BRD-A27732521-003-08-3   \n\n  Metadata_pert_well  Metadata_mmoles_per_liter  Metadata_dose_recode  \\\n1                C13                       10.0                     6   \n2                D13                       10.0                     6   \n4                E13                       10.0                     6   \n5                E19                       10.0                     6   \n7                H01                       10.0                     6   \n\n  Metadata_time_point                          Metadata_moa Metadata_target  \\\n1                 48H                 calmodulin antagonist           CALM1   \n2                 48H       glucocorticoid receptor agonist   NR3C1|PLA2G1B   \n4                 48H                HIV protease inhibitor          CYP3A4   \n5                 48H               calcium channel blocker          ADORA3   \n7                 48H  voltage-gated sodium channel blocker  CYP2C19|CYP2D6   \n\n   Cells_AreaShape_Compactness  ...  \\\n1                     0.052299  ...   \n2                     0.485075  ...   \n4                    -0.598178  ...   \n5                     0.354016  ...   \n7                     0.603841  ...   \n\n   Nuclei_Texture_InverseDifferenceMoment_ER_5_0  \\\n1                                      -0.641374   \n2                                      -5.430540   \n4                                      -2.995770   \n5                                      -0.806278   \n7                                      -0.212402   \n\n   Nuclei_Texture_InverseDifferenceMoment_Mito_5_0  \\\n1                                         1.514300   \n2                                        -5.802180   \n4                                        -0.943642   \n5                                         1.045140   \n7                                         0.350726   \n\n   Nuclei_Texture_InverseDifferenceMoment_RNA_10_0  \\\n1                                        -0.361908   \n2                                         0.029379   \n4                                        -0.593867   \n5                                        -0.333954   \n7                                         1.554940   \n\n   Nuclei_Texture_SumAverage_Mito_5_0  Nuclei_Texture_SumAverage_RNA_20_0  \\\n1                           -1.321410                           -0.160391   \n2                            0.794536                           -1.601920   \n4                           -0.366031                           -0.145932   \n5                           -1.323030                            0.674326   \n7                           -0.526875                           -0.151872   \n\n   Nuclei_Texture_SumEntropy_DNA_10_0  Nuclei_Texture_SumEntropy_DNA_20_0  \\\n1                           -0.928242                           -0.681633   \n2                           -1.625970                           -1.032820   \n4                           -1.248330                           -0.634703   \n5                           -0.819150                           -0.449688   \n7                            0.529546                            0.594847   \n\n   Nuclei_Texture_SumEntropy_DNA_5_0  Nuclei_Texture_SumEntropy_RNA_5_0  \\\n1                          -1.068360                          -0.446784   \n2                          -1.801660                          -1.139450   \n4                          -1.315860                          -0.843238   \n5                          -0.859692                          -0.406020   \n7                           0.548497                          -1.032410   \n\n   Nuclei_Texture_Variance_RNA_10_0  \n1                         -0.177102  \n2                          2.523760  \n4                          0.286981  \n5                         -0.780604  \n7                         -0.375086  \n\n[5 rows x 469 columns]",
      "text/html": "<div>\n<style scoped>\n    .dataframe tbody tr th:only-of-type {\n        vertical-align: middle;\n    }\n\n    .dataframe tbody tr th {\n        vertical-align: top;\n    }\n\n    .dataframe thead th {\n        text-align: right;\n    }\n</style>\n<table border=\"1\" class=\"dataframe\">\n  <thead>\n    <tr style=\"text-align: right;\">\n      <th></th>\n      <th>Metadata_Plate_Map_Name</th>\n      <th>Metadata_cell_id</th>\n      <th>Metadata_broad_sample</th>\n      <th>Metadata_pert_well</th>\n      <th>Metadata_mmoles_per_liter</th>\n      <th>Metadata_dose_recode</th>\n      <th>Metadata_time_point</th>\n      <th>Metadata_moa</th>\n      <th>Metadata_target</th>\n      <th>Cells_AreaShape_Compactness</th>\n      <th>...</th>\n      <th>Nuclei_Texture_InverseDifferenceMoment_ER_5_0</th>\n      <th>Nuclei_Texture_InverseDifferenceMoment_Mito_5_0</th>\n      <th>Nuclei_Texture_InverseDifferenceMoment_RNA_10_0</th>\n      <th>Nuclei_Texture_SumAverage_Mito_5_0</th>\n      <th>Nuclei_Texture_SumAverage_RNA_20_0</th>\n      <th>Nuclei_Texture_SumEntropy_DNA_10_0</th>\n      <th>Nuclei_Texture_SumEntropy_DNA_20_0</th>\n      <th>Nuclei_Texture_SumEntropy_DNA_5_0</th>\n      <th>Nuclei_Texture_SumEntropy_RNA_5_0</th>\n      <th>Nuclei_Texture_Variance_RNA_10_0</th>\n    </tr>\n  </thead>\n  <tbody>\n    <tr>\n      <th>1</th>\n      <td>C-7161-01-LM6-001</td>\n      <td>A549</td>\n      <td>BRD-A26032986-050-02-1</td>\n      <td>C13</td>\n      <td>10.0</td>\n      <td>6</td>\n      <td>48H</td>\n      <td>calmodulin antagonist</td>\n      <td>CALM1</td>\n      <td>0.052299</td>\n      <td>...</td>\n      <td>-0.641374</td>\n      <td>1.514300</td>\n      <td>-0.361908</td>\n      <td>-1.321410</td>\n      <td>-0.160391</td>\n      <td>-0.928242</td>\n      <td>-0.681633</td>\n      <td>-1.068360</td>\n      <td>-0.446784</td>\n      <td>-0.177102</td>\n    </tr>\n    <tr>\n      <th>2</th>\n      <td>C-7161-01-LM6-001</td>\n      <td>A549</td>\n      <td>BRD-A26095496-001-04-0</td>\n      <td>D13</td>\n      <td>10.0</td>\n      <td>6</td>\n      <td>48H</td>\n      <td>glucocorticoid receptor agonist</td>\n      <td>NR3C1|PLA2G1B</td>\n      <td>0.485075</td>\n      <td>...</td>\n      <td>-5.430540</td>\n      <td>-5.802180</td>\n      <td>0.029379</td>\n      <td>0.794536</td>\n      <td>-1.601920</td>\n      <td>-1.625970</td>\n      <td>-1.032820</td>\n      <td>-1.801660</td>\n      <td>-1.139450</td>\n      <td>2.523760</td>\n    </tr>\n    <tr>\n      <th>4</th>\n      <td>C-7161-01-LM6-001</td>\n      <td>A549</td>\n      <td>BRD-A26690767-066-01-9</td>\n      <td>E13</td>\n      <td>10.0</td>\n      <td>6</td>\n      <td>48H</td>\n      <td>HIV protease inhibitor</td>\n      <td>CYP3A4</td>\n      <td>-0.598178</td>\n      <td>...</td>\n      <td>-2.995770</td>\n      <td>-0.943642</td>\n      <td>-0.593867</td>\n      <td>-0.366031</td>\n      <td>-0.145932</td>\n      <td>-1.248330</td>\n      <td>-0.634703</td>\n      <td>-1.315860</td>\n      <td>-0.843238</td>\n      <td>0.286981</td>\n    </tr>\n    <tr>\n      <th>5</th>\n      <td>C-7161-01-LM6-001</td>\n      <td>A549</td>\n      <td>BRD-A26711594-003-10-6</td>\n      <td>E19</td>\n      <td>10.0</td>\n      <td>6</td>\n      <td>48H</td>\n      <td>calcium channel blocker</td>\n      <td>ADORA3</td>\n      <td>0.354016</td>\n      <td>...</td>\n      <td>-0.806278</td>\n      <td>1.045140</td>\n      <td>-0.333954</td>\n      <td>-1.323030</td>\n      <td>0.674326</td>\n      <td>-0.819150</td>\n      <td>-0.449688</td>\n      <td>-0.859692</td>\n      <td>-0.406020</td>\n      <td>-0.780604</td>\n    </tr>\n    <tr>\n      <th>7</th>\n      <td>C-7161-01-LM6-001</td>\n      <td>A549</td>\n      <td>BRD-A27732521-003-08-3</td>\n      <td>H01</td>\n      <td>10.0</td>\n      <td>6</td>\n      <td>48H</td>\n      <td>voltage-gated sodium channel blocker</td>\n      <td>CYP2C19|CYP2D6</td>\n      <td>0.603841</td>\n      <td>...</td>\n      <td>-0.212402</td>\n      <td>0.350726</td>\n      <td>1.554940</td>\n      <td>-0.526875</td>\n      <td>-0.151872</td>\n      <td>0.529546</td>\n      <td>0.594847</td>\n      <td>0.548497</td>\n      <td>-1.032410</td>\n      <td>-0.375086</td>\n    </tr>\n  </tbody>\n</table>\n<p>5 rows × 469 columns</p>\n</div>"
     },
     "execution_count": 3,
     "metadata": {},
     "output_type": "execute_result"
    }
   ],
   "source": [
    "df = ds.clean_moas(df)\n",
    "df = ds.drop_feats(df, 50)\n",
    "features = infer_cp_features(df)\n",
    "meta_features = infer_cp_features(df, metadata=True)\n",
    "df.head()"
   ],
   "metadata": {
    "collapsed": false,
    "pycharm": {
     "name": "#%%\n"
    }
   }
  },
  {
   "cell_type": "markdown",
   "source": [
    "Using precision in a normal fassion does not make any sense as can be seen below. Since most of the MOA only have two compounds. Ie the highest accuracy for k=10 is 0.1."
   ],
   "metadata": {
    "collapsed": false,
    "pycharm": {
     "name": "#%% md\n"
    }
   }
  },
  {
   "cell_type": "code",
   "execution_count": 3,
   "outputs": [],
   "source": [],
   "metadata": {
    "collapsed": false,
    "pycharm": {
     "name": "#%%\n"
    }
   }
  },
  {
   "cell_type": "code",
   "execution_count": 9,
   "outputs": [
    {
     "data": {
      "text/plain": "['phosphodiesterase inhibitor',\n 'adrenergic receptor antagonist',\n 'cyclooxygenase inhibitor',\n 'histamine receptor antagonist',\n 'dopamine receptor antagonist',\n 'adrenergic receptor agonist',\n 'acetylcholine receptor antagonist',\n 'topoisomerase inhibitor',\n 'glucocorticoid receptor agonist',\n 'calcium channel blocker',\n 'EGFR inhibitor',\n 'sodium channel blocker',\n 'serotonin receptor antagonist',\n 'bacterial cell wall synthesis inhibitor',\n 'dopamine receptor agonist',\n 'HDAC inhibitor',\n 'dopamine receptor antagonist|serotonin receptor antagonist',\n 'bacterial DNA gyrase inhibitor',\n 'tubulin polymerization inhibitor']"
     },
     "execution_count": 9,
     "metadata": {},
     "output_type": "execute_result"
    }
   ],
   "source": [
    "replicate_group=[\"Metadata_moa\"]\n",
    "k_range = [5, 10, 15, 20, 25, 30]\n",
    "top_moa = df.Metadata_moa.value_counts()[1:20].keys().tolist()\n",
    "top_moa"
   ],
   "metadata": {
    "collapsed": false,
    "pycharm": {
     "name": "#%%\n"
    }
   }
  },
  {
   "cell_type": "code",
   "execution_count": 5,
   "outputs": [],
   "source": [
    "precision_recall_results = evaluate(\n",
    "    profiles=df,\n",
    "    features=features,\n",
    "    meta_features=meta_features,\n",
    "    replicate_groups=replicate_group,\n",
    "    operation=\"precision_recall\",\n",
    "    similarity_metric=\"pearson\",\n",
    "    precision_recall_k=k_range\n",
    ")"
   ],
   "metadata": {
    "collapsed": false,
    "pycharm": {
     "name": "#%%\n"
    }
   }
  },
  {
   "cell_type": "code",
   "execution_count": 7,
   "outputs": [
    {
     "data": {
      "text/plain": "      k  precision    recall\n0   5.0   0.168421  0.006257\n1  10.0   0.163158  0.011671\n2  15.0   0.140351  0.014526\n3  20.0   0.144737  0.018791\n4  25.0   0.141053  0.022979\n5  30.0   0.131579  0.024551",
      "text/html": "<div>\n<style scoped>\n    .dataframe tbody tr th:only-of-type {\n        vertical-align: middle;\n    }\n\n    .dataframe tbody tr th {\n        vertical-align: top;\n    }\n\n    .dataframe thead th {\n        text-align: right;\n    }\n</style>\n<table border=\"1\" class=\"dataframe\">\n  <thead>\n    <tr style=\"text-align: right;\">\n      <th></th>\n      <th>k</th>\n      <th>precision</th>\n      <th>recall</th>\n    </tr>\n  </thead>\n  <tbody>\n    <tr>\n      <th>0</th>\n      <td>5.0</td>\n      <td>0.168421</td>\n      <td>0.006257</td>\n    </tr>\n    <tr>\n      <th>1</th>\n      <td>10.0</td>\n      <td>0.163158</td>\n      <td>0.011671</td>\n    </tr>\n    <tr>\n      <th>2</th>\n      <td>15.0</td>\n      <td>0.140351</td>\n      <td>0.014526</td>\n    </tr>\n    <tr>\n      <th>3</th>\n      <td>20.0</td>\n      <td>0.144737</td>\n      <td>0.018791</td>\n    </tr>\n    <tr>\n      <th>4</th>\n      <td>25.0</td>\n      <td>0.141053</td>\n      <td>0.022979</td>\n    </tr>\n    <tr>\n      <th>5</th>\n      <td>30.0</td>\n      <td>0.131579</td>\n      <td>0.024551</td>\n    </tr>\n  </tbody>\n</table>\n</div>"
     },
     "execution_count": 7,
     "metadata": {},
     "output_type": "execute_result"
    }
   ],
   "source": [
    "# calculate the average\n",
    "top_prc = precision_recall_results[precision_recall_results['Metadata_moa'].isin(top_moa)].reset_index(drop=True)\n",
    "pr_av = []\n",
    "for k in top_prc.k.unique():\n",
    "    pr_av.append(top_prc.query(\"k==@k\").mean().tolist())\n",
    "result = pd.DataFrame(pr_av, columns=[\"k\",\"precision\",\"recall\"])\n",
    "result"
   ],
   "metadata": {
    "collapsed": false,
    "pycharm": {
     "name": "#%%\n"
    }
   }
  },
  {
   "cell_type": "markdown",
   "source": [
    "calculate the same for spherized data\n",
    "# TODO"
   ],
   "metadata": {
    "collapsed": false,
    "pycharm": {
     "name": "#%% md\n"
    }
   }
  },
  {
   "cell_type": "code",
   "execution_count": null,
   "outputs": [],
   "source": [
    "#This is wrong. Its not consensus data!\n",
    "df = pd.read_csv('../01_data/2016_04_01_a549_48hr_batch1_dmso_spherized_profiles_with_input_normalized_by_dmso.csv.gz')"
   ],
   "metadata": {
    "collapsed": false,
    "pycharm": {
     "name": "#%%\n"
    }
   }
  },
  {
   "cell_type": "code",
   "execution_count": 4,
   "outputs": [
    {
     "name": "stdout",
     "output_type": "stream",
     "text": [
      "dropped 915 features\n"
     ]
    },
    {
     "data": {
      "text/plain": "  Metadata_plate_map_name   Metadata_broad_sample  Metadata_mg_per_ml  \\\n0       C-7161-01-LM6-027  BRD-A92630576-050-24-1              5.0354   \n1       C-7161-01-LM6-027  BRD-K92723993-001-06-7              4.9360   \n2       C-7161-01-LM6-027  BRD-K92303087-001-01-6              5.1630   \n4       C-7161-01-LM6-027  BRD-K61443650-236-13-1              4.0582   \n5       C-7161-01-LM6-027  BRD-K93123848-001-04-1              5.1841   \n\n   Metadata_mmoles_per_liter Metadata_solvent Metadata_Plate Metadata_Well  \\\n0                       10.0             DMSO     SQ00015211           A13   \n1                       10.0             DMSO     SQ00015211           A19   \n2                       10.0             DMSO     SQ00015211           B07   \n4                       10.0             DMSO     SQ00015211           B19   \n5                       10.0             DMSO     SQ00015211           C01   \n\n  Metadata_pert_id    Metadata_pert_mfc_id Metadata_pert_well  ...  \\\n0    BRD-A92630576  BRD-A92630576-050-24-1                A13  ...   \n1    BRD-K92723993  BRD-K92723993-001-06-7                A19  ...   \n2    BRD-K92303087  BRD-K92303087-001-01-6                B07  ...   \n4    BRD-K61443650  BRD-K61443650-236-13-1                B19  ...   \n5    BRD-K93123848  BRD-K93123848-001-04-1                C01  ...   \n\n   Nuclei_Texture_DifferenceVariance_ER_10_0 Nuclei_Texture_Entropy_RNA_10_0  \\\n0                                   2.305142                        2.887515   \n1                                  -1.175076                        0.303905   \n2                                  -0.263166                       -0.201653   \n4                                  23.806507                        4.900561   \n5                                  -0.658845                       -4.051199   \n\n  Nuclei_Texture_InfoMeas1_AGP_10_0 Nuclei_Texture_InfoMeas1_AGP_20_0  \\\n0                          2.332151                         -0.714952   \n1                         -0.906197                          1.762013   \n2                          4.344662                          1.243298   \n4                          9.968112                         13.185077   \n5                          2.880196                          2.115952   \n\n  Nuclei_Texture_InfoMeas1_AGP_5_0 Nuclei_Texture_InfoMeas1_ER_10_0  \\\n0                        -0.685120                         3.359084   \n1                        -2.039972                        -0.037599   \n2                        -1.488722                        -2.396055   \n4                        -5.858565                        28.447662   \n5                         0.630481                        -2.364314   \n\n  Nuclei_Texture_InfoMeas1_ER_20_0 Nuclei_Texture_InfoMeas2_AGP_20_0  \\\n0                        -2.995014                         -0.610136   \n1                         1.563961                         -2.756804   \n2                         0.579282                         -0.528165   \n4                         9.854838                        -23.127908   \n5                         1.743968                         -1.209081   \n\n  Nuclei_Texture_InfoMeas2_DNA_10_0 Nuclei_Texture_Variance_ER_20_0  \n0                          0.805151                        0.369731  \n1                          0.732355                        2.136169  \n2                         -0.758557                       -0.556261  \n4                          0.180594                      -18.595962  \n5                          0.562032                       -0.195664  \n\n[5 rows x 140 columns]",
      "text/html": "<div>\n<style scoped>\n    .dataframe tbody tr th:only-of-type {\n        vertical-align: middle;\n    }\n\n    .dataframe tbody tr th {\n        vertical-align: top;\n    }\n\n    .dataframe thead th {\n        text-align: right;\n    }\n</style>\n<table border=\"1\" class=\"dataframe\">\n  <thead>\n    <tr style=\"text-align: right;\">\n      <th></th>\n      <th>Metadata_plate_map_name</th>\n      <th>Metadata_broad_sample</th>\n      <th>Metadata_mg_per_ml</th>\n      <th>Metadata_mmoles_per_liter</th>\n      <th>Metadata_solvent</th>\n      <th>Metadata_Plate</th>\n      <th>Metadata_Well</th>\n      <th>Metadata_pert_id</th>\n      <th>Metadata_pert_mfc_id</th>\n      <th>Metadata_pert_well</th>\n      <th>...</th>\n      <th>Nuclei_Texture_DifferenceVariance_ER_10_0</th>\n      <th>Nuclei_Texture_Entropy_RNA_10_0</th>\n      <th>Nuclei_Texture_InfoMeas1_AGP_10_0</th>\n      <th>Nuclei_Texture_InfoMeas1_AGP_20_0</th>\n      <th>Nuclei_Texture_InfoMeas1_AGP_5_0</th>\n      <th>Nuclei_Texture_InfoMeas1_ER_10_0</th>\n      <th>Nuclei_Texture_InfoMeas1_ER_20_0</th>\n      <th>Nuclei_Texture_InfoMeas2_AGP_20_0</th>\n      <th>Nuclei_Texture_InfoMeas2_DNA_10_0</th>\n      <th>Nuclei_Texture_Variance_ER_20_0</th>\n    </tr>\n  </thead>\n  <tbody>\n    <tr>\n      <th>0</th>\n      <td>C-7161-01-LM6-027</td>\n      <td>BRD-A92630576-050-24-1</td>\n      <td>5.0354</td>\n      <td>10.0</td>\n      <td>DMSO</td>\n      <td>SQ00015211</td>\n      <td>A13</td>\n      <td>BRD-A92630576</td>\n      <td>BRD-A92630576-050-24-1</td>\n      <td>A13</td>\n      <td>...</td>\n      <td>2.305142</td>\n      <td>2.887515</td>\n      <td>2.332151</td>\n      <td>-0.714952</td>\n      <td>-0.685120</td>\n      <td>3.359084</td>\n      <td>-2.995014</td>\n      <td>-0.610136</td>\n      <td>0.805151</td>\n      <td>0.369731</td>\n    </tr>\n    <tr>\n      <th>1</th>\n      <td>C-7161-01-LM6-027</td>\n      <td>BRD-K92723993-001-06-7</td>\n      <td>4.9360</td>\n      <td>10.0</td>\n      <td>DMSO</td>\n      <td>SQ00015211</td>\n      <td>A19</td>\n      <td>BRD-K92723993</td>\n      <td>BRD-K92723993-001-06-7</td>\n      <td>A19</td>\n      <td>...</td>\n      <td>-1.175076</td>\n      <td>0.303905</td>\n      <td>-0.906197</td>\n      <td>1.762013</td>\n      <td>-2.039972</td>\n      <td>-0.037599</td>\n      <td>1.563961</td>\n      <td>-2.756804</td>\n      <td>0.732355</td>\n      <td>2.136169</td>\n    </tr>\n    <tr>\n      <th>2</th>\n      <td>C-7161-01-LM6-027</td>\n      <td>BRD-K92303087-001-01-6</td>\n      <td>5.1630</td>\n      <td>10.0</td>\n      <td>DMSO</td>\n      <td>SQ00015211</td>\n      <td>B07</td>\n      <td>BRD-K92303087</td>\n      <td>BRD-K92303087-001-01-6</td>\n      <td>B07</td>\n      <td>...</td>\n      <td>-0.263166</td>\n      <td>-0.201653</td>\n      <td>4.344662</td>\n      <td>1.243298</td>\n      <td>-1.488722</td>\n      <td>-2.396055</td>\n      <td>0.579282</td>\n      <td>-0.528165</td>\n      <td>-0.758557</td>\n      <td>-0.556261</td>\n    </tr>\n    <tr>\n      <th>4</th>\n      <td>C-7161-01-LM6-027</td>\n      <td>BRD-K61443650-236-13-1</td>\n      <td>4.0582</td>\n      <td>10.0</td>\n      <td>DMSO</td>\n      <td>SQ00015211</td>\n      <td>B19</td>\n      <td>BRD-K61443650</td>\n      <td>BRD-K61443650-236-13-1</td>\n      <td>B19</td>\n      <td>...</td>\n      <td>23.806507</td>\n      <td>4.900561</td>\n      <td>9.968112</td>\n      <td>13.185077</td>\n      <td>-5.858565</td>\n      <td>28.447662</td>\n      <td>9.854838</td>\n      <td>-23.127908</td>\n      <td>0.180594</td>\n      <td>-18.595962</td>\n    </tr>\n    <tr>\n      <th>5</th>\n      <td>C-7161-01-LM6-027</td>\n      <td>BRD-K93123848-001-04-1</td>\n      <td>5.1841</td>\n      <td>10.0</td>\n      <td>DMSO</td>\n      <td>SQ00015211</td>\n      <td>C01</td>\n      <td>BRD-K93123848</td>\n      <td>BRD-K93123848-001-04-1</td>\n      <td>C01</td>\n      <td>...</td>\n      <td>-0.658845</td>\n      <td>-4.051199</td>\n      <td>2.880196</td>\n      <td>2.115952</td>\n      <td>0.630481</td>\n      <td>-2.364314</td>\n      <td>1.743968</td>\n      <td>-1.209081</td>\n      <td>0.562032</td>\n      <td>-0.195664</td>\n    </tr>\n  </tbody>\n</table>\n<p>5 rows × 140 columns</p>\n</div>"
     },
     "execution_count": 4,
     "metadata": {},
     "output_type": "execute_result"
    }
   ],
   "source": [
    "df = ds.clean_moas(df)\n",
    "df = ds.drop_feats(df, 50)\n",
    "features = infer_cp_features(df)\n",
    "meta_features = infer_cp_features(df, metadata=True)\n",
    "df.head()"
   ],
   "metadata": {
    "collapsed": false,
    "pycharm": {
     "name": "#%%\n"
    }
   }
  },
  {
   "cell_type": "code",
   "execution_count": null,
   "outputs": [],
   "source": [
    "precision_recall_results = evaluate(\n",
    "    profiles=df,\n",
    "    features=features,\n",
    "    meta_features=meta_features,\n",
    "    replicate_groups=replicate_group,\n",
    "    operation=\"precision_recall\",\n",
    "    similarity_metric=\"pearson\",\n",
    "    precision_recall_k=[5]\n",
    ")"
   ],
   "metadata": {
    "collapsed": false,
    "pycharm": {
     "name": "#%%\n",
     "is_executing": true
    }
   }
  },
  {
   "cell_type": "code",
   "execution_count": null,
   "outputs": [],
   "source": [
    "# calculate the average\n",
    "top_prc = precision_recall_results[precision_recall_results['Metadata_moa'].isin(top_moa)].reset_index(drop=True)\n",
    "pr_av = []\n",
    "for k in top_prc.k.unique():\n",
    "    pr_av.append(top_prc.query(\"k==@k\").mean().tolist())\n",
    "result_sphere = pd.DataFrame(pr_av, columns=[\"k\",\"precision\",\"recall\"])\n",
    "result_sphere"
   ],
   "metadata": {
    "collapsed": false,
    "pycharm": {
     "name": "#%%\n",
     "is_executing": true
    }
   }
  },
  {
   "cell_type": "code",
   "execution_count": null,
   "outputs": [],
   "source": [],
   "metadata": {
    "collapsed": false,
    "pycharm": {
     "name": "#%%\n"
    }
   }
  },
  {
   "cell_type": "code",
   "execution_count": 8,
   "outputs": [
    {
     "data": {
      "text/plain": "<Figure size 864x576 with 1 Axes>",
      "image/png": "[encoded data removed]"
     },
     "metadata": {},
     "output_type": "display_data"
    }
   ],
   "source": [
    "plt.style.use({'figure.facecolor':'white'})\n",
    "plt.rcParams.update({'font.size': 16})\n",
    "fig, ax = plt.subplots(figsize=(12,8))\n",
    "plt.title(\"Average precision @k\")\n",
    "plt.plot(result[\"k\"], result[\"precision\"], marker=\"o\", color=\"green\", label = 'cytominer baseline')\n",
    "plt.ylabel('average precision')\n",
    "plt.xlabel('k')\n",
    "plt.legend(loc = 'upper right', shadow=True)\n",
    "plt.show()"
   ],
   "metadata": {
    "collapsed": false,
    "pycharm": {
     "name": "#%%\n"
    }
   }
  },
  {
   "cell_type": "code",
   "execution_count": 11,
   "outputs": [],
   "source": [
    "result.to_csv('../results/precision_baseline_top20.csv')\n"
   ],
   "metadata": {
    "collapsed": false,
    "pycharm": {
     "name": "#%%\n"
    }
   }
  },
  {
   "cell_type": "code",
   "execution_count": null,
   "outputs": [],
   "source": [],
   "metadata": {
    "collapsed": false,
    "pycharm": {
     "name": "#%%\n"
    }
   }
  }
 ],
 "metadata": {
  "kernelspec": {
   "name": "python3",
   "language": "python",
   "display_name": "Python 3"
  },
  "language_info": {
   "codemirror_mode": {
    "name": "ipython",
    "version": 2
   },
   "file_extension": ".py",
   "mimetype": "text/x-python",
   "name": "python",
   "nbconvert_exporter": "python",
   "pygments_lexer": "ipython2",
   "version": "2.7.6"
  }
 },
 "nbformat": 4,
 "nbformat_minor": 0
}