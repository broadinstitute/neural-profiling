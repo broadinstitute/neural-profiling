{
 "cells": [
  {
   "cell_type": "markdown",
   "source": [
    "# Cleaning data\n",
    "\n",
    "This notebook shows the process of selecting the subset from the consensus data from the LINCS database\n",
    "\n",
    "Again, We are analysing the L5 date from LINCS data from\n",
    "https://github.com/broadinstitute/lincs-cell-painting/tree/master/consensus/2016_04_01_a549_48hr_batch1\n",
    "\n",
    "The learnings from this notebook are condensed into the utils/clean.py which will be used for later analysis."
   ],
   "metadata": {
    "collapsed": false
   }
  },
  {
   "cell_type": "code",
   "execution_count": 11,
   "outputs": [],
   "source": [
    "import os\n",
    "import pandas as pd\n",
    "import numpy as np\n",
    "import matplotlib.pyplot as plt\n",
    "from sklearn import preprocessing\n",
    "from cytominer_eval import evaluate\n",
    "from pycytominer.cyto_utils import infer_cp_features\n",
    "from cytominer_eval.transform import metric_melt"
   ],
   "metadata": {
    "collapsed": false,
    "pycharm": {
     "name": "#%%\n"
    }
   }
  },
  {
   "cell_type": "code",
   "execution_count": 23,
   "outputs": [],
   "source": [
    "data_dir = '../01_data/2016_04_01_a549_48hr_batch1_consensus_modz_feature_select_dmso.csv.gz'\n",
    "df = pd.read_csv(data_dir)\n",
    "features = infer_cp_features(df)\n",
    "meta_features = infer_cp_features(df, metadata=True)"
   ],
   "metadata": {
    "collapsed": false,
    "pycharm": {
     "name": "#%%\n"
    }
   }
  },
  {
   "cell_type": "markdown",
   "source": [
    "## Select compounds\n",
    "First we select a subset of data. For now, we only focus on one concentration of each compound and only include the negative DMSO wells and not the positive controls.\n",
    "We also only keep compounds that have a known MOAs.\n",
    "And then we only keep MOAs that have more than one compound."
   ],
   "metadata": {
    "collapsed": false,
    "pycharm": {
     "name": "#%% md\n"
    }
   }
  },
  {
   "cell_type": "code",
   "execution_count": 24,
   "outputs": [],
   "source": [
    "# 1. Only keep the dose 6 and dose 0 (DMSO)\n",
    "df = df.query(\"Metadata_dose_recode == 0 | Metadata_dose_recode == 6 \")\n",
    "# 2. Get rid of all compounds that have unknown MOAs\n",
    "df = pd.concat(\n",
    " [df.query(\"Metadata_moa != 'unknown'\"),\n",
    " df.query(\"Metadata_broad_sample == 'DMSO'\")],\n",
    "    ignore_index=True\n",
    ")\n",
    "# 3. Drop all single Moas\n",
    "ls = df.Metadata_moa.value_counts() != 1\n",
    "keys = ls[ls].keys()\n",
    "df = df[df[\"Metadata_moa\"].isin(keys)]"
   ],
   "metadata": {
    "collapsed": false,
    "pycharm": {
     "name": "#%%\n"
    }
   }
  },
  {
   "cell_type": "code",
   "execution_count": 25,
   "outputs": [
    {
     "name": "stdout",
     "output_type": "stream",
     "text": [
      "unknown                                                   672\n",
      "phosphodiesterase inhibitor                                35\n",
      "adrenergic receptor antagonist                             33\n",
      "cyclooxygenase inhibitor                                   29\n",
      "histamine receptor antagonist                              25\n",
      "                                                         ... \n",
      "tyrosinase inhibitor                                        2\n",
      "lipase inhibitor                                            2\n",
      "nuclear factor erythroid derived|like (NRF2) activator      2\n",
      "anthelmintic agent                                          2\n",
      "L-type calcium channel blocker                              2\n",
      "Name: Metadata_moa, Length: 235, dtype: int64\n",
      "DMSO                      672\n",
      "BRD-K77695569-001-30-0      1\n",
      "BRD-K73088654-001-01-9      1\n",
      "BRD-K07857022-002-01-1      1\n",
      "BRD-K15318383-201-01-5      1\n",
      "                         ... \n",
      "BRD-K64338723-001-01-6      1\n",
      "BRD-K46018455-001-27-6      1\n",
      "BRD-K67868012-001-07-6      1\n",
      "BRD-K93208532-001-02-5      1\n",
      "BRD-K47539947-001-03-7      1\n",
      "Name: Metadata_broad_sample, Length: 1144, dtype: int64\n",
      "6    1143\n",
      "0     672\n",
      "Name: Metadata_dose_recode, dtype: int64\n"
     ]
    }
   ],
   "source": [
    "# check if that made sense\n",
    "print(df.Metadata_moa.value_counts())\n",
    "print(df.Metadata_broad_sample.value_counts())\n",
    "print(df.Metadata_dose_recode.value_counts())"
   ],
   "metadata": {
    "collapsed": false,
    "pycharm": {
     "name": "#%%\n"
    }
   }
  },
  {
   "cell_type": "markdown",
   "source": [
    "## Selecting features\n",
    "\n",
    "Next we drop features with very high values. The threshold of 30 was found to be the best."
   ],
   "metadata": {
    "collapsed": false,
    "pycharm": {
     "name": "#%% md\n"
    }
   }
  },
  {
   "cell_type": "code",
   "execution_count": 26,
   "outputs": [
    {
     "name": "stdout",
     "output_type": "stream",
     "text": [
      "dropped 27 features\n"
     ]
    }
   ],
   "source": [
    "def drop_feats(df_old, features_old, threshold):\n",
    "    drop_features = []\n",
    "    for feat in features_old:\n",
    "        if (np.abs(df_old[feat]) > threshold).any():\n",
    "            drop_features.append(feat)\n",
    "    df_out = df.drop(drop_features,  axis = \"columns\")\n",
    "    print(\"dropped {} features\".format(len(drop_features)))\n",
    "    return df_out, drop_features\n",
    "df, dropped_feats = drop_feats(df, features, 30)"
   ],
   "metadata": {
    "collapsed": false,
    "pycharm": {
     "name": "#%%\n"
    }
   }
  },
  {
   "cell_type": "code",
   "execution_count": 16,
   "outputs": [],
   "source": [
    "df.to_csv('../01_data/selected_data_df.csv', index=False)"
   ],
   "metadata": {
    "collapsed": false,
    "pycharm": {
     "name": "#%%\n"
    }
   }
  },
  {
   "cell_type": "markdown",
   "source": [
    "## Appendix\n",
    "Now we have done all the selection we wanted.\n",
    "Below are just some double checks.\n"
   ],
   "metadata": {
    "collapsed": false,
    "pycharm": {
     "name": "#%% md\n"
    }
   }
  },
  {
   "cell_type": "code",
   "execution_count": 34,
   "outputs": [
    {
     "data": {
      "text/plain": "<Figure size 432x288 with 1 Axes>",
      "image/png": "[encoded data removed]"
     },
     "metadata": {
      "needs_background": "light"
     },
     "output_type": "display_data"
    }
   ],
   "source": [
    "features = infer_cp_features(df)\n",
    "meta_features = infer_cp_features(df, metadata=True)\n",
    "similarity_metric=\"pearson\"\n",
    "operation=\"precision_recall\"\n",
    "\n",
    "similarity_melted_df = metric_melt(\n",
    "            df=df,\n",
    "            features=features,\n",
    "            metadata_features=meta_features,\n",
    "            similarity_metric=similarity_metric,\n",
    "            eval_metric=operation,\n",
    "        )\n",
    "plt.hist(similarity_melted_df.similarity_metric)\n",
    "plt.show()\n"
   ],
   "metadata": {
    "collapsed": false,
    "pycharm": {
     "name": "#%%\n"
    }
   }
  },
  {
   "cell_type": "markdown",
   "source": [
    "Compare this to the plot of the nonselected data and you can see the improvement"
   ],
   "metadata": {
    "collapsed": false
   }
  },
  {
   "cell_type": "markdown",
   "source": [
    "## Appendix\n",
    "Again we check two examples and plot their feature space."
   ],
   "metadata": {
    "collapsed": false
   }
  },
  {
   "cell_type": "code",
   "execution_count": 10,
   "outputs": [
    {
     "data": {
      "text/plain": "<Figure size 432x288 with 1 Axes>",
      "image/png": "[encoded data removed]"
     },
     "metadata": {
      "needs_background": "light"
     },
     "output_type": "display_data"
    }
   ],
   "source": [
    "features = infer_cp_features(df)\n",
    "s1 = \"BRD-K21396683-001-04-8\"\n",
    "s2 = \"BRD-K51747290-001-13-1\"\n",
    "two = pd.concat([\n",
    "df.query(\"Metadata_broad_sample==@s1\"),\n",
    "df.query(\"Metadata_broad_sample==@s2\")\n",
    "    ], ignore_index=True)\n",
    "two = two.loc[:, features]\n",
    "two = two.T\n",
    "two.columns = ['One','Two']\n",
    "\n",
    "fig = plt.figure()\n",
    "ax = plt.gca()\n",
    "ax.plot(two['One'] ,two['Two'], 'o', c='blue', alpha=0.5)\n",
    "ax.set_xscale('log')\n",
    "ax.set_yscale('log')\n",
    "plt.show()"
   ],
   "metadata": {
    "collapsed": false,
    "pycharm": {
     "name": "#%%\n"
    }
   }
  },
  {
   "cell_type": "code",
   "execution_count": 19,
   "outputs": [],
   "source": [
    "# this is how to call the util function!\n",
    "\n",
    "import sys\n",
    "sys.path.insert(0, \"/Users/mbornhol/git/neural-profiling\")\n",
    "from utils import data_selection as ds"
   ],
   "metadata": {
    "collapsed": false,
    "pycharm": {
     "name": "#%%\n"
    }
   }
  },
  {
   "cell_type": "code",
   "execution_count": 22,
   "outputs": [
    {
     "name": "stdout",
     "output_type": "stream",
     "text": [
      "this\n",
      "dropped 27 features\n"
     ]
    }
   ],
   "source": [
    "df_1 = pd.read_csv(data_dir)\n",
    "df_1 = ds.clean_moas(df_1)\n",
    "df_1 = ds.drop_feats(df_1, 30)"
   ],
   "metadata": {
    "collapsed": false,
    "pycharm": {
     "name": "#%%\n"
    }
   }
  },
  {
   "cell_type": "code",
   "execution_count": 33,
   "outputs": [
    {
     "data": {
      "text/plain": "(array([], dtype=int64), array([], dtype=int64))"
     },
     "execution_count": 33,
     "metadata": {},
     "output_type": "execute_result"
    }
   ],
   "source": [
    "np.where(df_1 != df)"
   ],
   "metadata": {
    "collapsed": false,
    "pycharm": {
     "name": "#%%\n"
    }
   }
  },
  {
   "cell_type": "code",
   "execution_count": null,
   "outputs": [],
   "source": [],
   "metadata": {
    "collapsed": false,
    "pycharm": {
     "name": "#%%\n"
    }
   }
  }
 ],
 "metadata": {
  "kernelspec": {
   "name": "python3",
   "language": "python",
   "display_name": "Python 3"
  },
  "language_info": {
   "codemirror_mode": {
    "name": "ipython",
    "version": 2
   },
   "file_extension": ".py",
   "mimetype": "text/x-python",
   "name": "python",
   "nbconvert_exporter": "python",
   "pygments_lexer": "ipython2",
   "version": "2.7.6"
  }
 },
 "nbformat": 4,
 "nbformat_minor": 0
}