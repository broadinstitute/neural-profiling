{
 "cells": [
  {
   "cell_type": "markdown",
   "source": [
    "First go at definining the use case."
   ],
   "metadata": {
    "collapsed": false,
    "pycharm": {
     "name": "#%% md\n"
    }
   }
  },
  {
   "cell_type": "code",
   "execution_count": 1,
   "metadata": {
    "collapsed": true
   },
   "outputs": [],
   "source": [
    "import pandas as pd\n",
    "import numpy as np\n",
    "from cytominer_eval.transform import metric_melt\n",
    "from pycytominer.cyto_utils import infer_cp_features\n",
    "import matplotlib.pyplot as plt"
   ]
  },
  {
   "cell_type": "code",
   "execution_count": 2,
   "outputs": [],
   "source": [
    "# import\n",
    "df = pd.read_csv('lincs_modz_consensus_data.csv')"
   ],
   "metadata": {
    "collapsed": false,
    "pycharm": {
     "name": "#%%\n"
    }
   }
  },
  {
   "cell_type": "code",
   "execution_count": 3,
   "outputs": [],
   "source": [
    "# 1. Only keep the dose 6 and dose 0 (DMSO)\n",
    "df = df.query(\"Metadata_dose_recode == 0 | Metadata_dose_recode == 6 \")\n",
    "# 2. Get rid of all compounds that have unknown MOAs\n",
    "df =  df.query(\"Metadata_moa != 'unknown'\")\n",
    "# 3. Drop all single Moas\n",
    "ls = df.Metadata_moa.value_counts() != 1\n",
    "keys = ls[ls].keys()\n",
    "df = df[df[\"Metadata_moa\"].isin(keys)].reset_index(drop=True)"
   ],
   "metadata": {
    "collapsed": false,
    "pycharm": {
     "name": "#%%\n"
    }
   }
  },
  {
   "cell_type": "code",
   "execution_count": 4,
   "outputs": [
    {
     "name": "stdout",
     "output_type": "stream",
     "text": [
      "dropped 54 features\n"
     ]
    }
   ],
   "source": [
    "def drop_feats(df, threshold):\n",
    "    features = infer_cp_features(df)\n",
    "    drop_features = []\n",
    "    for feat in features:\n",
    "        if (np.abs(df[feat]) > threshold).any():\n",
    "            drop_features.append(feat)\n",
    "    df_out = df.drop(drop_features, axis=\"columns\")\n",
    "    print(\"dropped {} features\".format(len(drop_features)))\n",
    "    return df_out\n",
    "df = drop_feats(df, 30)\n",
    "features = infer_cp_features(df)\n",
    "meta_features = infer_cp_features(df, metadata=True)"
   ],
   "metadata": {
    "collapsed": false,
    "pycharm": {
     "name": "#%%\n"
    }
   }
  },
  {
   "cell_type": "code",
   "execution_count": 5,
   "outputs": [],
   "source": [
    "melt = metric_melt(df, features, meta_features, eval_metric='precision_recall').sort_values(\n",
    "        by=\"similarity_metric\", ascending=False)\n",
    "grouped = melt.groupby(['Metadata_broad_sample_pair_a'])"
   ],
   "metadata": {
    "collapsed": false,
    "pycharm": {
     "name": "#%%\n"
    }
   }
  },
  {
   "cell_type": "code",
   "execution_count": 6,
   "outputs": [],
   "source": [
    "def index_hits(df):\n",
    "    df.reset_index(drop = True, inplace=True)\n",
    "    df['rank'] = range(len(df))\n",
    "    moa = df.Metadata_moa_pair_a.iloc[0]\n",
    "    df['same_moa'] = df['Metadata_moa_pair_b'] == moa\n",
    "    df.drop(columns=['pair_a_index', 'pair_b_index', 'similarity_metric'], inplace=True)\n",
    "    df = df[['Metadata_broad_sample_pair_a', 'Metadata_moa_pair_a','Metadata_broad_sample_pair_b', 'Metadata_moa_pair_b', 'rank','same_moa']]\n",
    "    return df"
   ],
   "metadata": {
    "collapsed": false,
    "pycharm": {
     "name": "#%%\n"
    }
   }
  },
  {
   "cell_type": "code",
   "execution_count": 7,
   "outputs": [],
   "source": [
    "indexes = grouped.apply(lambda x: index_hits(x))"
   ],
   "metadata": {
    "collapsed": false,
    "pycharm": {
     "name": "#%%\n"
    }
   }
  },
  {
   "cell_type": "code",
   "execution_count": 8,
   "outputs": [],
   "source": [
    "indexes.reset_index(drop=True, inplace=True)\n",
    "indexes.rename(columns={'Metadata_broad_sample_pair_a': 'target_compound', 'Metadata_broad_sample_pair_b':'match_compound', 'Metadata_moa_pair_a':'target_moa', 'Metadata_moa_pair_b':'match_moa'}, inplace=True)"
   ],
   "metadata": {
    "collapsed": false,
    "pycharm": {
     "name": "#%%\n"
    }
   }
  },
  {
   "cell_type": "code",
   "execution_count": 9,
   "outputs": [
    {
     "data": {
      "text/plain": "          target_compound                    target_moa  \\\n0  BRD-A00218260-001-03-4  sterol demethylase inhibitor   \n1  BRD-A00218260-001-03-4  sterol demethylase inhibitor   \n2  BRD-A00218260-001-03-4  sterol demethylase inhibitor   \n3  BRD-A00218260-001-03-4  sterol demethylase inhibitor   \n4  BRD-A00218260-001-03-4  sterol demethylase inhibitor   \n\n           match_compound                                          match_moa  \\\n0  BRD-K13154216-001-01-3                                     mTOR inhibitor   \n1  BRD-K34313798-001-01-6                      glutamate receptor antagonist   \n2  BRD-K89402695-001-02-3                    thromboxane receptor antagonist   \n3  BRD-K67102207-236-07-7                                     HDAC inhibitor   \n4  BRD-K60341624-001-02-2  glucose dependent insulinotropic receptor agonist   \n\n   rank  same_moa  \n0     0     False  \n1     1     False  \n2     2     False  \n3     3     False  \n4     4     False  ",
      "text/html": "<div>\n<style scoped>\n    .dataframe tbody tr th:only-of-type {\n        vertical-align: middle;\n    }\n\n    .dataframe tbody tr th {\n        vertical-align: top;\n    }\n\n    .dataframe thead th {\n        text-align: right;\n    }\n</style>\n<table border=\"1\" class=\"dataframe\">\n  <thead>\n    <tr style=\"text-align: right;\">\n      <th></th>\n      <th>target_compound</th>\n      <th>target_moa</th>\n      <th>match_compound</th>\n      <th>match_moa</th>\n      <th>rank</th>\n      <th>same_moa</th>\n    </tr>\n  </thead>\n  <tbody>\n    <tr>\n      <th>0</th>\n      <td>BRD-A00218260-001-03-4</td>\n      <td>sterol demethylase inhibitor</td>\n      <td>BRD-K13154216-001-01-3</td>\n      <td>mTOR inhibitor</td>\n      <td>0</td>\n      <td>False</td>\n    </tr>\n    <tr>\n      <th>1</th>\n      <td>BRD-A00218260-001-03-4</td>\n      <td>sterol demethylase inhibitor</td>\n      <td>BRD-K34313798-001-01-6</td>\n      <td>glutamate receptor antagonist</td>\n      <td>1</td>\n      <td>False</td>\n    </tr>\n    <tr>\n      <th>2</th>\n      <td>BRD-A00218260-001-03-4</td>\n      <td>sterol demethylase inhibitor</td>\n      <td>BRD-K89402695-001-02-3</td>\n      <td>thromboxane receptor antagonist</td>\n      <td>2</td>\n      <td>False</td>\n    </tr>\n    <tr>\n      <th>3</th>\n      <td>BRD-A00218260-001-03-4</td>\n      <td>sterol demethylase inhibitor</td>\n      <td>BRD-K67102207-236-07-7</td>\n      <td>HDAC inhibitor</td>\n      <td>3</td>\n      <td>False</td>\n    </tr>\n    <tr>\n      <th>4</th>\n      <td>BRD-A00218260-001-03-4</td>\n      <td>sterol demethylase inhibitor</td>\n      <td>BRD-K60341624-001-02-2</td>\n      <td>glucose dependent insulinotropic receptor agonist</td>\n      <td>4</td>\n      <td>False</td>\n    </tr>\n  </tbody>\n</table>\n</div>"
     },
     "execution_count": 9,
     "metadata": {},
     "output_type": "execute_result"
    }
   ],
   "source": [
    "indexes.head()"
   ],
   "metadata": {
    "collapsed": false,
    "pycharm": {
     "name": "#%%\n"
    }
   }
  },
  {
   "cell_type": "code",
   "execution_count": 10,
   "outputs": [],
   "source": [
    "def calc_hits(df, only_first = False):\n",
    "    group = df.groupby(['target_compound'])\n",
    "    index_ls = group.apply(lambda x: find_hits(x, only_first = only_first))\n",
    "    return index_ls\n",
    "\n",
    "def find_hits(df, only_first):\n",
    "    #print(df.target_compound.iloc[0])\n",
    "    index_ls = df[df['same_moa'] == True]['rank'].tolist()\n",
    "    if len(index_ls) == 0:\n",
    "            print(df.target_compound.iloc[0])\n",
    "    if only_first:\n",
    "        return index_ls[0]\n",
    "    else:\n",
    "        return index_ls"
   ],
   "metadata": {
    "collapsed": false,
    "pycharm": {
     "name": "#%%\n"
    }
   }
  },
  {
   "cell_type": "code",
   "execution_count": 11,
   "outputs": [],
   "source": [
    "index_series = calc_hits(indexes)\n",
    "index_first_series = calc_hits(indexes, only_first=True)"
   ],
   "metadata": {
    "collapsed": false,
    "pycharm": {
     "name": "#%%\n"
    }
   }
  },
  {
   "cell_type": "code",
   "execution_count": 12,
   "outputs": [],
   "source": [
    "index_flat = [item for sublist in index_series.tolist() for item in sublist]\n",
    "index_first_flat = index_first_series.tolist()"
   ],
   "metadata": {
    "collapsed": false,
    "pycharm": {
     "name": "#%%\n"
    }
   }
  },
  {
   "cell_type": "code",
   "execution_count": 13,
   "outputs": [],
   "source": [
    "# randomized\n",
    "df_copy = df.copy()\n",
    "df_copy[features] = df_copy[features].iloc[np.random.permutation(len(df))].reset_index(drop=True)"
   ],
   "metadata": {
    "collapsed": false,
    "pycharm": {
     "name": "#%%\n"
    }
   }
  },
  {
   "cell_type": "code",
   "execution_count": 14,
   "outputs": [],
   "source": [
    "ran_melt = metric_melt(df_copy, features, meta_features, eval_metric='precision_recall').sort_values(\n",
    "        by=\"similarity_metric\", ascending=False)\n",
    "ran_grouped = ran_melt.groupby(['Metadata_broad_sample_pair_a'])\n",
    "ran_indexes = ran_grouped.apply(lambda x: index_hits(x))\n",
    "ran_indexes.reset_index(drop=True, inplace=True)\n",
    "ran_indexes.rename(columns={'Metadata_broad_sample_pair_a': 'target_compound', 'Metadata_broad_sample_pair_b':'match_compound', 'Metadata_moa_pair_a':'target_moa', 'Metadata_moa_pair_b':'match_moa'}, inplace=True)"
   ],
   "metadata": {
    "collapsed": false,
    "pycharm": {
     "name": "#%%\n"
    }
   }
  },
  {
   "cell_type": "code",
   "execution_count": 15,
   "outputs": [],
   "source": [
    "ran_index_series = calc_hits(ran_indexes)\n",
    "ran_index_first_series = calc_hits(ran_indexes, only_first=True)\n",
    "ran_index_flat = [item for sublist in ran_index_series.tolist() for item in sublist]\n",
    "ran_index_first_flat = ran_index_first_series.tolist()"
   ],
   "metadata": {
    "collapsed": false,
    "pycharm": {
     "name": "#%%\n"
    }
   }
  },
  {
   "cell_type": "code",
   "execution_count": 16,
   "outputs": [
    {
     "data": {
      "text/plain": "<Figure size 432x288 with 1 Axes>",
      "image/png": "[encoded data removed]"
     },
     "metadata": {},
     "output_type": "display_data"
    }
   ],
   "source": [
    "bins = np.arange(0,200,5)\n",
    "plt.style.use({'figure.facecolor':'white'})\n",
    "plt.hist(index_flat, bins, alpha=0.6, color='blue', label='lincs data')\n",
    "plt.hist(ran_index_flat, bins,alpha=0.4, color='red', label='randomized')\n",
    "plt.xlabel('hit after k')\n",
    "plt.ylabel('Count')\n",
    "plt.title('Histogram of all hits')\n",
    "plt.legend()\n",
    "plt.show()"
   ],
   "metadata": {
    "collapsed": false,
    "pycharm": {
     "name": "#%%\n"
    }
   }
  },
  {
   "cell_type": "code",
   "execution_count": 17,
   "outputs": [
    {
     "data": {
      "text/plain": "<Figure size 432x288 with 1 Axes>",
      "image/png": "[encoded data removed]"
     },
     "metadata": {},
     "output_type": "display_data"
    }
   ],
   "source": [
    "#plt.style.use('seaborn-deep')\n",
    "bins = np.arange(0,200,5)\n",
    "plt.style.use({'figure.facecolor':'white'})\n",
    "plt.hist([index_flat, ran_index_flat] , bins, alpha=0.6, color=['blue', 'red'], label=['lincs data', 'randomized'])\n",
    "plt.xlabel('hit after k')\n",
    "plt.ylabel('Count')\n",
    "plt.title('Histogram of all hits')\n",
    "plt.legend()\n",
    "plt.show()"
   ],
   "metadata": {
    "collapsed": false,
    "pycharm": {
     "name": "#%%\n"
    }
   }
  },
  {
   "cell_type": "code",
   "execution_count": 18,
   "outputs": [
    {
     "data": {
      "text/plain": "<Figure size 432x288 with 1 Axes>",
      "image/png": "[encoded data removed]"
     },
     "metadata": {},
     "output_type": "display_data"
    }
   ],
   "source": [
    "bins = np.arange(0,200,5)\n",
    "plt.style.use({'figure.facecolor':'white'})\n",
    "plt.hist(index_first_flat, bins, alpha=0.6, color='blue')\n",
    "plt.hist(ran_index_first_flat, bins,alpha=0.4, color='red')\n",
    "plt.xlabel('hit after k')\n",
    "plt.ylabel('Count')\n",
    "plt.title('Histogram of first hit')\n",
    "plt.show()"
   ],
   "metadata": {
    "collapsed": false,
    "pycharm": {
     "name": "#%%\n"
    }
   }
  },
  {
   "cell_type": "code",
   "execution_count": 19,
   "outputs": [
    {
     "name": "stdout",
     "output_type": "stream",
     "text": [
      " total hits in top 50: 1491\n",
      " Random baseline: 476\n",
      " first hits in top 50: 545\n",
      " Random baseline: 333\n"
     ]
    }
   ],
   "source": [
    "print(' total hits in top 50:', len([i for i in index_flat if i < 50]))\n",
    "print(' Random baseline:', len([i for i in ran_index_flat if i < 50]))\n",
    "print(' first hits in top 50:', len([i for i in index_first_flat if i < 50]))\n",
    "print(' Random baseline:', len([i for i in ran_index_first_flat if i < 50]))"
   ],
   "metadata": {
    "collapsed": false,
    "pycharm": {
     "name": "#%%\n"
    }
   }
  },
  {
   "cell_type": "markdown",
   "source": [
    "## MOA centric analysis"
   ],
   "metadata": {
    "collapsed": false,
    "pycharm": {
     "name": "#%% md\n"
    }
   }
  },
  {
   "cell_type": "code",
   "execution_count": 19,
   "outputs": [],
   "source": [],
   "metadata": {
    "collapsed": false,
    "pycharm": {
     "name": "#%%\n"
    }
   }
  },
  {
   "cell_type": "code",
   "execution_count": 20,
   "outputs": [],
   "source": [
    "def calc_moa_hits(df, only_first = False, mean = False):\n",
    "    group = df.groupby(['target_moa'])\n",
    "    index_ls = group.apply(lambda x: find_moa_hits(x, only_first = only_first, mean = mean))\n",
    "    return index_ls\n",
    "\n",
    "def find_moa_hits(df, only_first, mean):\n",
    "    index_ls = df[df['same_moa'] == True]['rank'].tolist()\n",
    "    if mean:\n",
    "        moa_average = np.mean(index_ls)\n",
    "    else:\n",
    "        moa_average = np.median(index_ls)\n",
    "    return moa_average"
   ],
   "metadata": {
    "collapsed": false,
    "pycharm": {
     "name": "#%%\n"
    }
   }
  },
  {
   "cell_type": "code",
   "execution_count": 21,
   "outputs": [],
   "source": [
    "moa_means = calc_moa_hits(indexes, mean=True)\n",
    "moa_median = calc_moa_hits(indexes)"
   ],
   "metadata": {
    "collapsed": false,
    "pycharm": {
     "name": "#%%\n"
    }
   }
  },
  {
   "cell_type": "code",
   "execution_count": 22,
   "outputs": [],
   "source": [
    "moa_means = moa_means.tolist()\n",
    "moa_median = moa_median.tolist()"
   ],
   "metadata": {
    "collapsed": false,
    "pycharm": {
     "name": "#%%\n"
    }
   }
  },
  {
   "cell_type": "code",
   "execution_count": 23,
   "outputs": [],
   "source": [
    "df_copy = df.copy()\n",
    "df_copy[features] = df_copy[features].iloc[np.random.permutation(len(df))].reset_index(drop=True)\n",
    "ran_melt = metric_melt(df_copy, features, meta_features, eval_metric='precision_recall').sort_values(\n",
    "        by=\"similarity_metric\", ascending=False)\n",
    "ran_grouped = ran_melt.groupby(['Metadata_broad_sample_pair_a'])"
   ],
   "metadata": {
    "collapsed": false,
    "pycharm": {
     "name": "#%%\n"
    }
   }
  },
  {
   "cell_type": "code",
   "execution_count": 24,
   "outputs": [],
   "source": [
    "ran_indexes = ran_grouped.apply(lambda x: index_hits(x))"
   ],
   "metadata": {
    "collapsed": false,
    "pycharm": {
     "name": "#%%\n"
    }
   }
  },
  {
   "cell_type": "code",
   "execution_count": 25,
   "outputs": [],
   "source": [
    "ran_indexes.reset_index(drop=True, inplace=True)\n",
    "ran_indexes.rename(columns={'Metadata_broad_sample_pair_a': 'target_compound', 'Metadata_broad_sample_pair_b':'match_compound', 'Metadata_moa_pair_a':'target_moa', 'Metadata_moa_pair_b':'match_moa'}, inplace=True)\n",
    "ran_moa = calc_moa_hits(ran_indexes)\n",
    "ran_moa = ran_moa.tolist()"
   ],
   "metadata": {
    "collapsed": false,
    "pycharm": {
     "name": "#%%\n"
    }
   }
  },
  {
   "cell_type": "code",
   "execution_count": 26,
   "outputs": [
    {
     "data": {
      "text/plain": "<Figure size 432x288 with 1 Axes>",
      "image/png": "[encoded data removed]"
     },
     "metadata": {},
     "output_type": "display_data"
    }
   ],
   "source": [
    "bins = np.arange(0,500,10)\n",
    "plt.style.use({'figure.facecolor':'white'})\n",
    "plt.hist(moa_median, bins, alpha=0.6, color='blue', label='lincs data')\n",
    "plt.hist(ran_moa, bins,alpha=0.4, color='red', label='randomized')\n",
    "plt.xlabel('hit after k')\n",
    "plt.ylabel('Count')\n",
    "plt.title('Histogram of all hits')\n",
    "plt.legend()\n",
    "plt.show()\n"
   ],
   "metadata": {
    "collapsed": false,
    "pycharm": {
     "name": "#%%\n"
    }
   }
  },
  {
   "cell_type": "code",
   "execution_count": 26,
   "outputs": [],
   "source": [],
   "metadata": {
    "collapsed": false,
    "pycharm": {
     "name": "#%%\n"
    }
   }
  }
 ],
 "metadata": {
  "kernelspec": {
   "name": "python3",
   "language": "python",
   "display_name": "Python 3"
  },
  "language_info": {
   "codemirror_mode": {
    "name": "ipython",
    "version": 2
   },
   "file_extension": ".py",
   "mimetype": "text/x-python",
   "name": "python",
   "nbconvert_exporter": "python",
   "pygments_lexer": "ipython2",
   "version": "2.7.6"
  }
 },
 "nbformat": 4,
 "nbformat_minor": 0
}