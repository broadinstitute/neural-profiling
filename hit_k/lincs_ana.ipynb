{
 "cells": [
  {
   "cell_type": "markdown",
   "source": [
    "First go at definining the use case."
   ],
   "metadata": {
    "collapsed": false,
    "pycharm": {
     "name": "#%% md\n"
    }
   }
  },
  {
   "cell_type": "code",
   "execution_count": 131,
   "metadata": {
    "collapsed": true
   },
   "outputs": [],
   "source": [
    "import pandas as pd\n",
    "import numpy as np\n",
    "from cytominer_eval.transform import metric_melt\n",
    "from pycytominer.cyto_utils import infer_cp_features\n",
    "import matplotlib.pyplot as plt"
   ]
  },
  {
   "cell_type": "code",
   "execution_count": 132,
   "outputs": [],
   "source": [
    "# import\n",
    "df = pd.read_csv('lincs_modz_consensus_data.csv')"
   ],
   "metadata": {
    "collapsed": false,
    "pycharm": {
     "name": "#%%\n"
    }
   }
  },
  {
   "cell_type": "code",
   "execution_count": 133,
   "outputs": [],
   "source": [
    "features = infer_cp_features(df)\n",
    "meta_features = infer_cp_features(df, metadata=True)"
   ],
   "metadata": {
    "collapsed": false,
    "pycharm": {
     "name": "#%%\n"
    }
   }
  },
  {
   "cell_type": "markdown",
   "source": [
    "## Select compounds\n",
    "First we select a subset of data. For now, we only focus on one concentration of each compound and only include the negative DMSO wells and not the positive controls.\n",
    "We also only keep compounds that have a known MOAs.\n",
    "And then we only keep MOAs that have more than one compound."
   ],
   "metadata": {
    "collapsed": false
   }
  },
  {
   "cell_type": "code",
   "execution_count": 134,
   "outputs": [],
   "source": [
    "# 1. Only keep the dose 6 and dose 0 (DMSO)\n",
    "df = df.query(\"Metadata_dose_recode == 0 | Metadata_dose_recode == 6 \")\n",
    "# 2. Get rid of all compounds that have unknown MOAs\n",
    "df =  df.query(\"Metadata_moa != 'unknown'\")\n",
    "# 3. Drop all single Moas\n",
    "ls = df.Metadata_moa.value_counts() != 1\n",
    "keys = ls[ls].keys()\n",
    "df = df[df[\"Metadata_moa\"].isin(keys)].reset_index(drop=True)\n"
   ],
   "metadata": {
    "collapsed": false,
    "pycharm": {
     "name": "#%%\n"
    }
   }
  },
  {
   "cell_type": "code",
   "execution_count": 135,
   "outputs": [],
   "source": [
    "melt = metric_melt(df, features, ['Metadata_broad_sample', 'moa'], eval_metric='precision_recall').sort_values(\n",
    "        by=\"similarity_metric\", ascending=False)\n",
    "grouped = melt.groupby(['Metadata_broad_sample_pair_a'])"
   ],
   "metadata": {
    "collapsed": false,
    "pycharm": {
     "name": "#%%\n"
    }
   }
  },
  {
   "cell_type": "code",
   "execution_count": 136,
   "outputs": [],
   "source": [
    "def index_hits(df):\n",
    "    df.reset_index(drop = True, inplace=True)\n",
    "    df['rank'] = range(len(df))\n",
    "    moa = a.moa_pair_a.iloc[0]\n",
    "    df['same_moa'] = df['moa_pair_b'] == moa\n",
    "    df.drop(columns=['pair_a_index', 'pair_b_index', 'similarity_metric'], inplace=True)\n",
    "    return df"
   ],
   "metadata": {
    "collapsed": false,
    "pycharm": {
     "name": "#%%\n"
    }
   }
  },
  {
   "cell_type": "code",
   "execution_count": 137,
   "outputs": [],
   "source": [
    "indexes = grouped.apply(lambda x: index_hits(x))"
   ],
   "metadata": {
    "collapsed": false,
    "pycharm": {
     "name": "#%%\n"
    }
   }
  },
  {
   "cell_type": "code",
   "execution_count": 138,
   "outputs": [],
   "source": [
    "indexes.reset_index(drop=True, inplace=True)\n",
    "indexes.rename(columns={'Metadata_broad_sample_pair_a': 'target_compound', 'Metadata_broad_sample_pair_b':'match_compound', 'moa_pair_a':'target_moa', 'moa_pair_b':'match_moa'}, inplace=True)"
   ],
   "metadata": {
    "collapsed": false,
    "pycharm": {
     "name": "#%%\n"
    }
   }
  },
  {
   "cell_type": "code",
   "execution_count": 139,
   "outputs": [
    {
     "data": {
      "text/plain": "          target_compound                    target_moa  \\\n0  BRD-A00218260-001-03-4  sterol demethylase inhibitor   \n1  BRD-A00218260-001-03-4  sterol demethylase inhibitor   \n2  BRD-A00218260-001-03-4  sterol demethylase inhibitor   \n3  BRD-A00218260-001-03-4  sterol demethylase inhibitor   \n4  BRD-A00218260-001-03-4  sterol demethylase inhibitor   \n\n           match_compound                        match_moa  rank  same_moa  \n0  BRD-K03390685-001-01-7                    mek inhibitor     0     False  \n1  BRD-K01824921-001-18-5    adenosine receptor antagonist     1     False  \n2  BRD-A00376169-001-01-6             neprilysin inhibitor     2     False  \n3  BRD-K33610132-001-02-9                   egfr inhibitor     3     False  \n4  BRD-K13296708-001-05-8  cannabinoid receptor antagonist     4     False  ",
      "text/html": "<div>\n<style scoped>\n    .dataframe tbody tr th:only-of-type {\n        vertical-align: middle;\n    }\n\n    .dataframe tbody tr th {\n        vertical-align: top;\n    }\n\n    .dataframe thead th {\n        text-align: right;\n    }\n</style>\n<table border=\"1\" class=\"dataframe\">\n  <thead>\n    <tr style=\"text-align: right;\">\n      <th></th>\n      <th>target_compound</th>\n      <th>target_moa</th>\n      <th>match_compound</th>\n      <th>match_moa</th>\n      <th>rank</th>\n      <th>same_moa</th>\n    </tr>\n  </thead>\n  <tbody>\n    <tr>\n      <th>0</th>\n      <td>BRD-A00218260-001-03-4</td>\n      <td>sterol demethylase inhibitor</td>\n      <td>BRD-K03390685-001-01-7</td>\n      <td>mek inhibitor</td>\n      <td>0</td>\n      <td>False</td>\n    </tr>\n    <tr>\n      <th>1</th>\n      <td>BRD-A00218260-001-03-4</td>\n      <td>sterol demethylase inhibitor</td>\n      <td>BRD-K01824921-001-18-5</td>\n      <td>adenosine receptor antagonist</td>\n      <td>1</td>\n      <td>False</td>\n    </tr>\n    <tr>\n      <th>2</th>\n      <td>BRD-A00218260-001-03-4</td>\n      <td>sterol demethylase inhibitor</td>\n      <td>BRD-A00376169-001-01-6</td>\n      <td>neprilysin inhibitor</td>\n      <td>2</td>\n      <td>False</td>\n    </tr>\n    <tr>\n      <th>3</th>\n      <td>BRD-A00218260-001-03-4</td>\n      <td>sterol demethylase inhibitor</td>\n      <td>BRD-K33610132-001-02-9</td>\n      <td>egfr inhibitor</td>\n      <td>3</td>\n      <td>False</td>\n    </tr>\n    <tr>\n      <th>4</th>\n      <td>BRD-A00218260-001-03-4</td>\n      <td>sterol demethylase inhibitor</td>\n      <td>BRD-K13296708-001-05-8</td>\n      <td>cannabinoid receptor antagonist</td>\n      <td>4</td>\n      <td>False</td>\n    </tr>\n  </tbody>\n</table>\n</div>"
     },
     "execution_count": 139,
     "metadata": {},
     "output_type": "execute_result"
    }
   ],
   "source": [
    "indexes.head()"
   ],
   "metadata": {
    "collapsed": false,
    "pycharm": {
     "name": "#%%\n"
    }
   }
  },
  {
   "cell_type": "code",
   "execution_count": 140,
   "outputs": [],
   "source": [
    "def calc_hits(df, only_first = False):\n",
    "    group = df.groupby(['target_compound'])\n",
    "    index_ls = group.apply(lambda x: find_hits(x, only_first = only_first))\n",
    "    return index_ls\n",
    "\n",
    "def find_hits(df, only_first):\n",
    "    #print(df.target_compound.iloc[0])\n",
    "    index_ls = df[df['same_moa'] == True]['rank'].tolist()\n",
    "    if len(index_ls) == 0:\n",
    "            print(df.target_compound.iloc[0])\n",
    "    if only_first:\n",
    "        return index_ls[0]\n",
    "    else:\n",
    "        return index_ls"
   ],
   "metadata": {
    "collapsed": false,
    "pycharm": {
     "name": "#%%\n"
    }
   }
  },
  {
   "cell_type": "code",
   "execution_count": 141,
   "outputs": [],
   "source": [
    "index_series = calc_hits(indexes)\n",
    "index_first_series = calc_hits(indexes, only_first=True)"
   ],
   "metadata": {
    "collapsed": false,
    "pycharm": {
     "name": "#%%\n"
    }
   }
  },
  {
   "cell_type": "code",
   "execution_count": 142,
   "outputs": [],
   "source": [
    "index_flat = [item for sublist in index_series.tolist() for item in sublist]\n",
    "index_first_flat = index_first_series.tolist()"
   ],
   "metadata": {
    "collapsed": false,
    "pycharm": {
     "name": "#%%\n"
    }
   }
  },
  {
   "cell_type": "code",
   "execution_count": 151,
   "outputs": [],
   "source": [
    "# randomized\n",
    "df_copy = df.copy()\n",
    "df_copy[features] = df_copy[features].iloc[np.random.permutation(len(df))].reset_index(drop=True)"
   ],
   "metadata": {
    "collapsed": false,
    "pycharm": {
     "name": "#%%\n"
    }
   }
  },
  {
   "cell_type": "code",
   "execution_count": null,
   "outputs": [],
   "source": [
    "ran_melt = metric_melt(df_copy, features, ['Metadata_broad_sample', 'moa'], eval_metric='precision_recall').sort_values(\n",
    "        by=\"similarity_metric\", ascending=False)\n",
    "ran_grouped = ran_melt.groupby(['Metadata_broad_sample_pair_a'])\n",
    "ran_indexes = ran_grouped.apply(lambda x: index_hits(x))\n",
    "ran_indexes.reset_index(drop=True, inplace=True)\n",
    "ran_indexes.rename(columns={'Metadata_broad_sample_pair_a': 'target_compound', 'Metadata_broad_sample_pair_b':'match_compound', 'moa_pair_a':'target_moa', 'moa_pair_b':'match_moa'}, inplace=True)"
   ],
   "metadata": {
    "collapsed": false,
    "pycharm": {
     "name": "#%%\n"
    }
   }
  },
  {
   "cell_type": "code",
   "execution_count": null,
   "outputs": [],
   "source": [
    "ran_index_series = calc_hits(ran_indexes)\n",
    "ran_index_first_series = calc_hits(ran_indexes, only_first=True)\n",
    "ran_index_flat = [item for sublist in ran_index_series.tolist() for item in sublist]\n",
    "ran_index_first_flat = ran_index_first_series.tolist()"
   ],
   "metadata": {
    "collapsed": false,
    "pycharm": {
     "name": "#%%\n"
    }
   }
  },
  {
   "cell_type": "code",
   "execution_count": 160,
   "outputs": [
    {
     "data": {
      "text/plain": "<Figure size 432x288 with 1 Axes>",
      "image/png": "[encoded data removed]"
     },
     "metadata": {},
     "output_type": "display_data"
    }
   ],
   "source": [
    "bins = np.arange(0,100,5)\n",
    "plt.style.use({'figure.facecolor':'white'})\n",
    "plt.hist(index_flat, bins, alpha=0.6, color='blue')\n",
    "plt.hist(ran_index_flat, bins,alpha=0.4, color='red')\n",
    "plt.xlabel('hit after k')\n",
    "plt.ylabel('Count')\n",
    "plt.title('Histogram of first hit')\n",
    "plt.show()"
   ],
   "metadata": {
    "collapsed": false,
    "pycharm": {
     "name": "#%%\n"
    }
   }
  },
  {
   "cell_type": "code",
   "execution_count": 161,
   "outputs": [
    {
     "data": {
      "text/plain": "<Figure size 432x288 with 1 Axes>",
      "image/png": "[encoded data removed]"
     },
     "metadata": {},
     "output_type": "display_data"
    }
   ],
   "source": [
    "bins = np.arange(0,100,5)\n",
    "plt.style.use({'figure.facecolor':'white'})\n",
    "plt.hist(index_first_flat, bins, alpha=0.6, color='blue')\n",
    "plt.hist(ran_index_first_flat, bins,alpha=0.4, color='red')\n",
    "plt.xlabel('hit after k')\n",
    "plt.ylabel('Count')\n",
    "plt.title('Histogram of first hit')\n",
    "plt.show()"
   ],
   "metadata": {
    "collapsed": false,
    "pycharm": {
     "name": "#%%\n"
    }
   }
  },
  {
   "cell_type": "code",
   "execution_count": null,
   "outputs": [],
   "source": [],
   "metadata": {
    "collapsed": false,
    "pycharm": {
     "name": "#%%\n"
    }
   }
  }
 ],
 "metadata": {
  "kernelspec": {
   "name": "python3",
   "language": "python",
   "display_name": "Python 3"
  },
  "language_info": {
   "codemirror_mode": {
    "name": "ipython",
    "version": 2
   },
   "file_extension": ".py",
   "mimetype": "text/x-python",
   "name": "python",
   "nbconvert_exporter": "python",
   "pygments_lexer": "ipython2",
   "version": "2.7.6"
  }
 },
 "nbformat": 4,
 "nbformat_minor": 0
}